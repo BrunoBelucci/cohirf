{
 "cells": [
  {
   "cell_type": "code",
   "execution_count": null,
   "id": "4d01abd3-fdb1-4dd9-8cf5-aedc2b695e20",
   "metadata": {},
   "outputs": [],
   "source": [
    "from cohirf.experiment.hpo_blob_clustering_experiment import HPOBlobClusteringExperiment\n",
    "from cohirf.experiment.hpo_classification_clustering_experiment import HPOClassificationClusteringExperiment\n",
    "from cohirf.experiment.open_ml_clustering_experiment import OpenmlClusteringExperiment\n",
    "from cohirf.experiment.hpo_open_ml_clustering_experiment import HPOOpenmlClusteringExperiment\n",
    "from cohirf.experiment.blob_clustering_experiment import BlobClusteringExperiment\n",
    "from cohirf.experiment.hpo_gaussian_clustering_experiment import HPOGaussianClusteringExperiment\n",
    "import pandas as pd"
   ]
  },
  {
   "cell_type": "code",
   "execution_count": null,
   "id": "5b93c46b-31c5-45e1-a3dc-83d70fb20b5b",
   "metadata": {},
   "outputs": [],
   "source": [
    "datasets = pd.read_csv('recursive_clustering/openml_datasets.csv')"
   ]
  },
  {
   "cell_type": "code",
   "execution_count": null,
   "id": "442bbc21852ad26a",
   "metadata": {},
   "outputs": [],
   "source": [
    "datasets"
   ]
  },
  {
   "cell_type": "code",
   "execution_count": null,
   "id": "9076e58099bc43e5",
   "metadata": {},
   "outputs": [],
   "source": [
    "experiment = BlobClusteringExperiment(check_if_exists=False, experiment_name='blob')\n",
    "model_nickname = 'RecursiveClustering'\n",
    "seed_model = 0\n",
    "seed_dataset = 0\n",
    "model_params = dict()\n",
    "fit_params = dict()\n",
    "n_samples = int(1e5)\n",
    "n_features = int(1e3)\n",
    "centers = 10\n",
    "cluster_std = 1\n",
    "center_box = (-10, 10)\n",
    "shuffle = True\n",
    "experiment.run_blob_experiment_combination(model_nickname=model_nickname, seed_model=seed_model, seed_dataset=seed_dataset, model_params=model_params,\n",
    "                                           fit_params=fit_params, n_samples=n_samples, n_features=n_features, centers=centers, cluster_std=cluster_std,\n",
    "                                           center_box=center_box, shuffle=shuffle, return_results=False, log_to_mlflow=True)"
   ]
  },
  {
   "cell_type": "code",
   "execution_count": null,
   "id": "65e6e774e426b6b6",
   "metadata": {},
   "outputs": [],
   "source": [
    "experiment = OpenmlClusteringExperiment(check_if_exists=False)\n",
    "model_nickname = 'RecursiveClustering'\n",
    "dataset_id = 61\n",
    "seed_model = 4735\n",
    "standardize = True\n",
    "model_params = dict(components_size=29, repetitions=3, kmeans_n_clusters=5)\n",
    "fit_params = dict()\n",
    "results = experiment.run_openml_experiment_combination(model_nickname=model_nickname, seed_model=seed_model, dataset_id=dataset_id, standardize=standardize,\n",
    "                                                       model_params=model_params, fit_params=fit_params, return_results=True, log_to_mlflow=True)"
   ]
  },
  {
   "cell_type": "code",
   "execution_count": null,
   "id": "66351ace-5576-4799-93f6-a3814b83228f",
   "metadata": {
    "scrolled": true
   },
   "outputs": [],
   "source": [
    "n_trials = 100\n",
    "experiment = HPOBlobClusteringExperiment(n_trials=n_trials, sampler='grid', pruner=None, direction='maximize', check_if_exists=False)\n",
    "model_nickname = 'RecursiveClustering'\n",
    "seed_model = 0\n",
    "seed_dataset = 0\n",
    "model_params = dict()\n",
    "fit_params = dict()\n",
    "n_samples = int(1e3)\n",
    "n_features = int(1e4)\n",
    "centers = 10\n",
    "cluster_std = 1\n",
    "center_box = (-10, 10)\n",
    "shuffle = True\n",
    "experiment.run_blob_experiment_combination(model_nickname=model_nickname, seed_model=seed_model, seed_dataset=seed_dataset, model_params=model_params,\n",
    "                                           fit_params=fit_params, n_samples=n_samples, n_features=n_features, centers=centers, cluster_std=cluster_std,\n",
    "                                           center_box=center_box, shuffle=shuffle, return_results=False, log_to_mlflow=True)"
   ]
  },
  {
   "cell_type": "code",
   "execution_count": null,
   "id": "4a86ae07519d66e5",
   "metadata": {},
   "outputs": [],
   "source": [
    "n_trials = 100\n",
    "experiment = HPOClassificationClusteringExperiment(n_trials=n_trials, sampler='tpe', pruner=None, direction='maximize', check_if_exists=False, raise_on_fit_error=True,\n",
    "                                                   experiment_name='rbf')\n",
    "model_nickname = 'RecursiveClustering'\n",
    "# seed_model = 0\n",
    "# seed_dataset = 0\n",
    "model_params = dict(representative_method='rbf')\n",
    "fit_params = dict()\n",
    "n_samples = 1000\n",
    "n_features = 10000\n",
    "pct_random = 0.0\n",
    "class_sep: float = 40\n",
    "seed_unified = 0\n",
    "# n_random = int(0)\n",
    "# n_informative: int = int(1e5)\n",
    "# n_redundant: int = 0\n",
    "# n_repeated: int = 0\n",
    "n_classes: int = 5\n",
    "n_clusters_per_class: int = 1\n",
    "weights = None\n",
    "flip_y: float = 0.0\n",
    "hypercube: bool = True\n",
    "shift: float = 0.0\n",
    "scale: float = 1.0\n",
    "shuffle: bool = True\n",
    "add_outlier: bool = True\n",
    "experiment.run_classification_experiment_combination(model_nickname=model_nickname, model_params=model_params,\n",
    "                                                     fit_params=fit_params, n_samples=n_samples, n_classes=n_classes, n_clusters_per_class=n_clusters_per_class, \n",
    "                                                     weights=weights, flip_y=flip_y, class_sep=class_sep, hypercube=hypercube, shift=shift, scale=scale, shuffle=shuffle,\n",
    "                                                     log_to_mlflow=True, return_results=False, pct_random=pct_random, seed_unified=seed_unified, n_features=n_features,\n",
    "                                                     add_outlier=add_outlier)"
   ]
  },
  {
   "cell_type": "code",
   "execution_count": null,
   "id": "c98f1462-8537-40e1-9ceb-fd388a852e2b",
   "metadata": {},
   "outputs": [],
   "source": [
    "n_trials = 100\n",
    "experiment = HPOGaussianClusteringExperiment(n_trials=n_trials, sampler='tpe', pruner=None, direction='maximize', check_if_exists=False, raise_on_fit_error=True)\n",
    "model_nickname = 'RecursiveClustering'\n",
    "model_params = dict()\n",
    "fit_params = dict()\n",
    "n_samples = 1000\n",
    "n_features = 10000\n",
    "pct_random = 0.0\n",
    "class_sep: float = 40\n",
    "seed_unified = 0\n",
    "# n_random = int(0)\n",
    "# n_informative: int = int(1e5)\n",
    "# n_redundant: int = 0\n",
    "# n_repeated: int = 0\n",
    "n_classes: int = 5\n",
    "n_clusters_per_class: int = 1\n",
    "weights = None\n",
    "flip_y: float = 0.0\n",
    "hypercube: bool = True\n",
    "shift: float = 0.0\n",
    "scale: float = 1.0\n",
    "shuffle: bool = True\n",
    "experiment.run_classification_experiment_combination(model_nickname=model_nickname, model_params=model_params,\n",
    "                                                     fit_params=fit_params, n_samples=n_samples, n_classes=n_classes, n_clusters_per_class=n_clusters_per_class, \n",
    "                                                     weights=weights, flip_y=flip_y, class_sep=class_sep, hypercube=hypercube, shift=shift, scale=scale, shuffle=shuffle,\n",
    "                                                     log_to_mlflow=True, return_results=False, pct_random=pct_random, seed_unified=seed_unified, n_features=n_features)"
   ]
  },
  {
   "cell_type": "code",
   "execution_count": 8,
   "id": "787b8d60830d781a",
   "metadata": {
    "ExecuteTime": {
     "end_time": "2025-01-29T23:30:34.908898Z",
     "start_time": "2025-01-29T23:29:32.770969Z"
    }
   },
   "outputs": [
    {
     "ename": "KeyboardInterrupt",
     "evalue": "",
     "output_type": "error",
     "traceback": [
      "\u001b[0;31m---------------------------------------------------------------------------\u001b[0m",
      "\u001b[0;31mKeyboardInterrupt\u001b[0m                         Traceback (most recent call last)",
      "Cell \u001b[0;32mIn[8], line 8\u001b[0m\n\u001b[1;32m      6\u001b[0m model_params \u001b[38;5;241m=\u001b[39m \u001b[38;5;28mdict\u001b[39m(representative_method\u001b[38;5;241m=\u001b[39m\u001b[38;5;124m'\u001b[39m\u001b[38;5;124mrbf\u001b[39m\u001b[38;5;124m'\u001b[39m)\n\u001b[1;32m      7\u001b[0m fit_params \u001b[38;5;241m=\u001b[39m \u001b[38;5;28mdict\u001b[39m()\n\u001b[0;32m----> 8\u001b[0m \u001b[43mexperiment\u001b[49m\u001b[38;5;241;43m.\u001b[39;49m\u001b[43mrun_openml_experiment_combination\u001b[49m\u001b[43m(\u001b[49m\u001b[43mmodel_nickname\u001b[49m\u001b[38;5;241;43m=\u001b[39;49m\u001b[43mmodel_nickname\u001b[49m\u001b[43m,\u001b[49m\u001b[43m \u001b[49m\u001b[43mseed_model\u001b[49m\u001b[38;5;241;43m=\u001b[39;49m\u001b[43mseed_model\u001b[49m\u001b[43m,\u001b[49m\u001b[43m \u001b[49m\u001b[43mdataset_id\u001b[49m\u001b[38;5;241;43m=\u001b[39;49m\u001b[43mdataset_id\u001b[49m\u001b[43m,\u001b[49m\n\u001b[1;32m      9\u001b[0m \u001b[43m                                                     \u001b[49m\u001b[43mmodel_params\u001b[49m\u001b[38;5;241;43m=\u001b[39;49m\u001b[43mmodel_params\u001b[49m\u001b[43m,\u001b[49m\n\u001b[1;32m     10\u001b[0m \u001b[43m                                                     \u001b[49m\u001b[43mfit_params\u001b[49m\u001b[38;5;241;43m=\u001b[39;49m\u001b[43mfit_params\u001b[49m\u001b[43m,\u001b[49m\u001b[43m \u001b[49m\u001b[43mlog_to_mlflow\u001b[49m\u001b[38;5;241;43m=\u001b[39;49m\u001b[38;5;28;43;01mTrue\u001b[39;49;00m\u001b[43m,\u001b[49m\n\u001b[1;32m     11\u001b[0m \u001b[43m                                                     \u001b[49m\u001b[43mreturn_results\u001b[49m\u001b[38;5;241;43m=\u001b[39;49m\u001b[38;5;28;43;01mFalse\u001b[39;49;00m\u001b[43m,\u001b[49m\u001b[43m \u001b[49m\u001b[43mstandardize\u001b[49m\u001b[38;5;241;43m=\u001b[39;49m\u001b[38;5;28;43;01mTrue\u001b[39;49;00m\u001b[43m)\u001b[49m\n",
      "File \u001b[0;32m~/code/recursive_clustering/recursive_clustering/experiment/open_ml_clustering_experiment.py:130\u001b[0m, in \u001b[0;36mOpenmlClusteringExperiment.run_openml_experiment_combination\u001b[0;34m(self, model_nickname, dataset_id, seed_model, model_params, fit_params, standardize, n_jobs, return_results, log_to_mlflow, timeout_combination, timeout_fit)\u001b[0m\n\u001b[1;32m    123\u001b[0m extra_params \u001b[38;5;241m=\u001b[39m {\n\u001b[1;32m    124\u001b[0m     \u001b[38;5;124m'\u001b[39m\u001b[38;5;124mn_jobs\u001b[39m\u001b[38;5;124m'\u001b[39m: n_jobs,\n\u001b[1;32m    125\u001b[0m     \u001b[38;5;124m'\u001b[39m\u001b[38;5;124mreturn_results\u001b[39m\u001b[38;5;124m'\u001b[39m: return_results,\n\u001b[1;32m    126\u001b[0m     \u001b[38;5;124m'\u001b[39m\u001b[38;5;124mtimeout_combination\u001b[39m\u001b[38;5;124m'\u001b[39m: timeout_combination,\n\u001b[1;32m    127\u001b[0m     \u001b[38;5;124m'\u001b[39m\u001b[38;5;124mtimeout_fit\u001b[39m\u001b[38;5;124m'\u001b[39m: timeout_fit,\n\u001b[1;32m    128\u001b[0m }\n\u001b[1;32m    129\u001b[0m \u001b[38;5;28;01mif\u001b[39;00m log_to_mlflow:\n\u001b[0;32m--> 130\u001b[0m     \u001b[38;5;28;01mreturn\u001b[39;00m \u001b[38;5;28;43mself\u001b[39;49m\u001b[38;5;241;43m.\u001b[39;49m\u001b[43m_run_mlflow_and_train_model\u001b[49m\u001b[43m(\u001b[49m\u001b[43mcombination\u001b[49m\u001b[38;5;241;43m=\u001b[39;49m\u001b[43mcombination\u001b[49m\u001b[43m,\u001b[49m\u001b[43m \u001b[49m\u001b[43munique_params\u001b[49m\u001b[38;5;241;43m=\u001b[39;49m\u001b[43munique_params\u001b[49m\u001b[43m,\u001b[49m\n\u001b[1;32m    131\u001b[0m \u001b[43m                                            \u001b[49m\u001b[43mextra_params\u001b[49m\u001b[38;5;241;43m=\u001b[39;49m\u001b[43mextra_params\u001b[49m\u001b[43m,\u001b[49m\u001b[43m \u001b[49m\u001b[43mreturn_results\u001b[49m\u001b[38;5;241;43m=\u001b[39;49m\u001b[43mreturn_results\u001b[49m\u001b[43m)\u001b[49m\n\u001b[1;32m    132\u001b[0m \u001b[38;5;28;01melse\u001b[39;00m:\n\u001b[1;32m    133\u001b[0m     \u001b[38;5;28;01mreturn\u001b[39;00m \u001b[38;5;28mself\u001b[39m\u001b[38;5;241m.\u001b[39m_train_model(combination\u001b[38;5;241m=\u001b[39mcombination, unique_params\u001b[38;5;241m=\u001b[39munique_params, extra_params\u001b[38;5;241m=\u001b[39mextra_params,\n\u001b[1;32m    134\u001b[0m                              return_results\u001b[38;5;241m=\u001b[39mreturn_results)\n",
      "File \u001b[0;32m~/code/ml_experiments/ml_experiments/base_experiment.py:828\u001b[0m, in \u001b[0;36mBaseExperiment._run_mlflow_and_train_model\u001b[0;34m(self, combination, mlflow_run_id, unique_params, extra_params, return_results, **kwargs)\u001b[0m\n\u001b[1;32m    826\u001b[0m mlflow_client \u001b[38;5;241m=\u001b[39m mlflow\u001b[38;5;241m.\u001b[39mclient\u001b[38;5;241m.\u001b[39mMlflowClient(tracking_uri\u001b[38;5;241m=\u001b[39m\u001b[38;5;28mself\u001b[39m\u001b[38;5;241m.\u001b[39mmlflow_tracking_uri)\n\u001b[1;32m    827\u001b[0m \u001b[38;5;28;01mif\u001b[39;00m mlflow_run_id \u001b[38;5;129;01mis\u001b[39;00m \u001b[38;5;28;01mNone\u001b[39;00m:\n\u001b[0;32m--> 828\u001b[0m     run \u001b[38;5;241m=\u001b[39m \u001b[43mmlflow_client\u001b[49m\u001b[38;5;241m.\u001b[39mcreate_run(experiment_id)\n\u001b[1;32m    829\u001b[0m     mlflow_run_id \u001b[38;5;241m=\u001b[39m run\u001b[38;5;241m.\u001b[39minfo\u001b[38;5;241m.\u001b[39mrun_id\n\u001b[1;32m    831\u001b[0m mlflow_client\u001b[38;5;241m.\u001b[39mupdate_run(mlflow_run_id, status\u001b[38;5;241m=\u001b[39m\u001b[38;5;124m'\u001b[39m\u001b[38;5;124mRUNNING\u001b[39m\u001b[38;5;124m'\u001b[39m)\n",
      "File \u001b[0;32m~/.local/share/JetBrains/Toolbox/apps/pycharm-professional/plugins/python-ce/helpers/pydev/_pydevd_bundle/pydevd_frame.py:888\u001b[0m, in \u001b[0;36mPyDBFrame.trace_dispatch\u001b[0;34m(self, frame, event, arg)\u001b[0m\n\u001b[1;32m    885\u001b[0m             stop \u001b[38;5;241m=\u001b[39m \u001b[38;5;28;01mFalse\u001b[39;00m\n\u001b[1;32m    887\u001b[0m \u001b[38;5;28;01mif\u001b[39;00m plugin_stop:\n\u001b[0;32m--> 888\u001b[0m     stopped_on_plugin \u001b[38;5;241m=\u001b[39m \u001b[43mplugin_manager\u001b[49m\u001b[38;5;241;43m.\u001b[39;49m\u001b[43mstop\u001b[49m\u001b[43m(\u001b[49m\u001b[43mmain_debugger\u001b[49m\u001b[43m,\u001b[49m\u001b[43m \u001b[49m\u001b[43mframe\u001b[49m\u001b[43m,\u001b[49m\u001b[43m \u001b[49m\u001b[43mevent\u001b[49m\u001b[43m,\u001b[49m\u001b[43m \u001b[49m\u001b[38;5;28;43mself\u001b[39;49m\u001b[38;5;241;43m.\u001b[39;49m\u001b[43m_args\u001b[49m\u001b[43m,\u001b[49m\u001b[43m \u001b[49m\u001b[43mstop_info\u001b[49m\u001b[43m,\u001b[49m\u001b[43m \u001b[49m\u001b[43marg\u001b[49m\u001b[43m,\u001b[49m\u001b[43m \u001b[49m\u001b[43mstep_cmd\u001b[49m\u001b[43m)\u001b[49m\n\u001b[1;32m    889\u001b[0m \u001b[38;5;28;01melif\u001b[39;00m stop:\n\u001b[1;32m    890\u001b[0m     \u001b[38;5;28;01mif\u001b[39;00m is_line:\n",
      "File \u001b[0;32m~/.local/share/JetBrains/Toolbox/apps/pycharm-professional/plugins/python/helpers-pro/jupyter_debug/pydev_jupyter_plugin.py:169\u001b[0m, in \u001b[0;36mstop\u001b[0;34m(plugin, pydb, frame, event, args, stop_info, arg, step_cmd)\u001b[0m\n\u001b[1;32m    167\u001b[0m     frame \u001b[38;5;241m=\u001b[39m suspend_jupyter(main_debugger, thread, frame, step_cmd)\n\u001b[1;32m    168\u001b[0m     \u001b[38;5;28;01mif\u001b[39;00m frame:\n\u001b[0;32m--> 169\u001b[0m         \u001b[43mmain_debugger\u001b[49m\u001b[38;5;241;43m.\u001b[39;49m\u001b[43mdo_wait_suspend\u001b[49m\u001b[43m(\u001b[49m\u001b[43mthread\u001b[49m\u001b[43m,\u001b[49m\u001b[43m \u001b[49m\u001b[43mframe\u001b[49m\u001b[43m,\u001b[49m\u001b[43m \u001b[49m\u001b[43mevent\u001b[49m\u001b[43m,\u001b[49m\u001b[43m \u001b[49m\u001b[43marg\u001b[49m\u001b[43m)\u001b[49m\n\u001b[1;32m    170\u001b[0m         \u001b[38;5;28;01mreturn\u001b[39;00m \u001b[38;5;28;01mTrue\u001b[39;00m\n\u001b[1;32m    171\u001b[0m \u001b[38;5;28;01mreturn\u001b[39;00m \u001b[38;5;28;01mFalse\u001b[39;00m\n",
      "File \u001b[0;32m~/.local/share/JetBrains/Toolbox/apps/pycharm-professional/plugins/python-ce/helpers/pydev/pydevd.py:1220\u001b[0m, in \u001b[0;36mPyDB.do_wait_suspend\u001b[0;34m(self, thread, frame, event, arg, send_suspend_message, is_unhandled_exception)\u001b[0m\n\u001b[1;32m   1217\u001b[0m         from_this_thread\u001b[38;5;241m.\u001b[39mappend(frame_id)\n\u001b[1;32m   1219\u001b[0m \u001b[38;5;28;01mwith\u001b[39;00m \u001b[38;5;28mself\u001b[39m\u001b[38;5;241m.\u001b[39m_threads_suspended_single_notification\u001b[38;5;241m.\u001b[39mnotify_thread_suspended(thread_id, stop_reason):\n\u001b[0;32m-> 1220\u001b[0m     \u001b[38;5;28;43mself\u001b[39;49m\u001b[38;5;241;43m.\u001b[39;49m\u001b[43m_do_wait_suspend\u001b[49m\u001b[43m(\u001b[49m\u001b[43mthread\u001b[49m\u001b[43m,\u001b[49m\u001b[43m \u001b[49m\u001b[43mframe\u001b[49m\u001b[43m,\u001b[49m\u001b[43m \u001b[49m\u001b[43mevent\u001b[49m\u001b[43m,\u001b[49m\u001b[43m \u001b[49m\u001b[43marg\u001b[49m\u001b[43m,\u001b[49m\u001b[43m \u001b[49m\u001b[43msuspend_type\u001b[49m\u001b[43m,\u001b[49m\u001b[43m \u001b[49m\u001b[43mfrom_this_thread\u001b[49m\u001b[43m)\u001b[49m\n",
      "File \u001b[0;32m~/.local/share/JetBrains/Toolbox/apps/pycharm-professional/plugins/python-ce/helpers/pydev/pydevd.py:1235\u001b[0m, in \u001b[0;36mPyDB._do_wait_suspend\u001b[0;34m(self, thread, frame, event, arg, suspend_type, from_this_thread)\u001b[0m\n\u001b[1;32m   1232\u001b[0m             \u001b[38;5;28mself\u001b[39m\u001b[38;5;241m.\u001b[39m_call_mpl_hook()\n\u001b[1;32m   1234\u001b[0m         \u001b[38;5;28mself\u001b[39m\u001b[38;5;241m.\u001b[39mprocess_internal_commands()\n\u001b[0;32m-> 1235\u001b[0m         time\u001b[38;5;241m.\u001b[39msleep(\u001b[38;5;241m0.01\u001b[39m)\n\u001b[1;32m   1237\u001b[0m \u001b[38;5;28mself\u001b[39m\u001b[38;5;241m.\u001b[39mcancel_async_evaluation(get_current_thread_id(thread), \u001b[38;5;28mstr\u001b[39m(\u001b[38;5;28mid\u001b[39m(frame)))\n\u001b[1;32m   1239\u001b[0m \u001b[38;5;66;03m# process any stepping instructions\u001b[39;00m\n",
      "\u001b[0;31mKeyboardInterrupt\u001b[0m: "
     ]
    }
   ],
   "source": [
    "n_trials = 100\n",
    "experiment = HPOOpenmlClusteringExperiment(n_trials=n_trials, sampler='tpe', pruner=None, direction='maximize', check_if_exists=False, experiment_name='kernel', standardize=True, hpo_metric='adjusted_rand')\n",
    "model_nickname = 'RecursiveClustering'\n",
    "seed_model = 0\n",
    "dataset_id = 1568\n",
    "model_params = dict(representative_method='rbf')\n",
    "fit_params = dict()\n",
    "experiment.run_openml_experiment_combination(model_nickname=model_nickname, seed_model=seed_model, dataset_id=dataset_id,\n",
    "                                                     model_params=model_params,\n",
    "                                                     fit_params=fit_params, log_to_mlflow=True,\n",
    "                                                     return_results=False, standardize=True)"
   ]
  },
  {
   "cell_type": "code",
   "execution_count": null,
   "id": "ee21b3ec1794a8f1",
   "metadata": {},
   "outputs": [],
   "source": []
  }
 ],
 "metadata": {
  "kernelspec": {
   "display_name": "cohirf",
   "language": "python",
   "name": "python3"
  },
  "language_info": {
   "codemirror_mode": {
    "name": "ipython",
    "version": 3
   },
   "file_extension": ".py",
   "mimetype": "text/x-python",
   "name": "python",
   "nbconvert_exporter": "python",
   "pygments_lexer": "ipython3",
   "version": "3.11.11"
  }
 },
 "nbformat": 4,
 "nbformat_minor": 5
}
