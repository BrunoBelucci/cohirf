{
 "cells": [
  {
   "cell_type": "markdown",
   "id": "4fef7931",
   "metadata": {},
   "source": [
    "# Imports and Functions"
   ]
  },
  {
   "cell_type": "code",
   "execution_count": 1,
   "id": "8a3f099b",
   "metadata": {},
   "outputs": [],
   "source": [
    "from ml_experiments.utils import unflatten_dict, update_recursively\n",
    "from sklearn.metrics.cluster import adjusted_rand_score\n",
    "from cohirf.models.cohirf import ModularCoHiRF, CoHiRF\n",
    "from cohirf.models.batch_cohirf import BatchCoHiRF\n",
    "from cohirf.models.kernel_kmeans import KernelKMeans\n",
    "from cohirf.models.pseudo_kernel import PseudoKernelClustering\n",
    "from cohirf.models.lazy_minibatchkmeans import LazyMiniBatchKMeans\n",
    "from sklearn.kernel_approximation import Nystroem, RBFSampler\n",
    "from sklearn.datasets import make_blobs\n",
    "from sklearn.manifold import TSNE\n",
    "from sklearn.preprocessing import StandardScaler\n",
    "from functools import partial\n",
    "import pandas as pd\n",
    "import numpy as np\n",
    "import matplotlib.pyplot as plt"
   ]
  },
  {
   "cell_type": "markdown",
   "id": "2fe6e76d",
   "metadata": {},
   "source": [
    "# Dataset (easy)"
   ]
  },
  {
   "cell_type": "code",
   "execution_count": 2,
   "id": "035fc307",
   "metadata": {},
   "outputs": [],
   "source": [
    "random_state_dataset = 42\n",
    "n_samples = int(1e5)\n",
    "n_features = 10\n",
    "n_clusters = 5\n",
    "distance = 5\n",
    "cluster_std = 1\n",
    "rng = np.random.default_rng(random_state_dataset)\n",
    "# Generate equally spaced centers using a regular simplex\n",
    "# Start with a random orthonormal basis in P dimensions\n",
    "centers = rng.standard_normal((n_clusters, n_features))\n",
    "centers, _ = np.linalg.qr(centers.T)  # Orthonormalize columns\n",
    "centers = centers.T\n",
    "# Scale the simplex to achieve the desired pairwise distance\n",
    "centers *= distance / np.sqrt(2)\n",
    "X, y = make_blobs(\n",
    "    n_samples=n_samples,\n",
    "    n_features=n_features,\n",
    "    centers=centers,\n",
    "    cluster_std=cluster_std,\n",
    "    random_state=random_state_dataset,\n",
    ")\n",
    "scaler = StandardScaler()\n",
    "X = scaler.fit_transform(X)"
   ]
  },
  {
   "cell_type": "code",
   "execution_count": null,
   "id": "cfe505a8",
   "metadata": {},
   "outputs": [],
   "source": [
    "# visualize with 2D projection (TSNE)\n",
    "tsne = TSNE(n_components=2, random_state=random_state_dataset)\n",
    "X_2d = tsne.fit_transform(X)\n",
    "fig, ax = plt.subplots(figsize=(8, 6))\n",
    "ax.scatter(X_2d[:, 0], X_2d[:, 1], c=y, cmap=\"viridis\", s=10)\n",
    "ax.set_title(\"2D Projection of the Dataset\")\n",
    "ax.set_xlabel(\"TSNE 1\")\n",
    "ax.set_ylabel(\"TSNE 2\")\n",
    "plt.show()"
   ]
  },
  {
   "cell_type": "code",
   "execution_count": 3,
   "id": "ea16b1ac",
   "metadata": {},
   "outputs": [
    {
     "name": "stdout",
     "output_type": "stream",
     "text": [
      "Adjusted Rand Index: 0.941\n"
     ]
    }
   ],
   "source": [
    "seed = 42\n",
    "model = CoHiRF(repetitions=3, n_features='full', kmeans_n_clusters=5, random_state=seed)\n",
    "labels = model.fit_predict(X)\n",
    "ari = adjusted_rand_score(y, labels)\n",
    "print(f\"Adjusted Rand Index: {ari:.3f}\")"
   ]
  },
  {
   "cell_type": "code",
   "execution_count": 26,
   "id": "d3889ae8",
   "metadata": {},
   "outputs": [],
   "source": [
    "import numpy as np\n",
    "import pandas as pd\n",
    "from typing import Optional\n",
    "from cohirf.models.cohirf import BaseCoHiRF, CoHiRF\n",
    "\n",
    "\n",
    "class BatchCoHiRF:\n",
    "    def __init__(\n",
    "        self,\n",
    "        cohirf_model: type[BaseCoHiRF] = CoHiRF,\n",
    "        cohirf_kwargs: Optional[dict] = None,\n",
    "        batch_size: int = 1000,\n",
    "        max_epochs: int = 10,\n",
    "        verbose: bool = False,\n",
    "    ):\n",
    "        self.cohirf_model = cohirf_model\n",
    "        self.cohirf_kwargs = cohirf_kwargs if cohirf_kwargs is not None else {}\n",
    "        self.batch_size = batch_size\n",
    "        self.max_epochs = max_epochs\n",
    "        self.verbose = verbose\n",
    "\n",
    "    def do_one_epoch(self, X_representatives):\n",
    "        n_samples = X_representatives.shape[0]\n",
    "        n_batches = np.ceil(n_samples / self.batch_size).astype(int)\n",
    "        if n_batches == 1:\n",
    "            stop = True\n",
    "        else:\n",
    "            stop = False\n",
    "        all_parents = []\n",
    "        all_representatives_indexes = []\n",
    "        all_n_clusters = 0\n",
    "        for i in range(n_batches):\n",
    "            start = i * self.batch_size\n",
    "            end = min((i + 1) * self.batch_size, n_samples)\n",
    "            indexes = np.arange(start, end)\n",
    "            X_batch = X_representatives[indexes]\n",
    "            # fit the cohirf model on the batch\n",
    "            cohirf_model = self.cohirf_model(**self.cohirf_kwargs)\n",
    "            cohirf_model.fit(X_batch)\n",
    "\n",
    "            parents = cohirf_model.parents_\n",
    "            # but the parents are relative to the batch\n",
    "            # so we need to update them to be relative to the whole dataset\n",
    "            parents = indexes[parents]\n",
    "            all_parents.append(parents)\n",
    "\n",
    "            representatives_indexes = cohirf_model.representatives_indexes_\n",
    "            # but the representatives are relative to the batch\n",
    "            # so we need to update them to be relative to the whole dataset\n",
    "            representatives_indexes = indexes[representatives_indexes]\n",
    "            all_representatives_indexes.append(representatives_indexes)\n",
    "\n",
    "            n_clusters = cohirf_model.n_clusters_\n",
    "            all_n_clusters = all_n_clusters + n_clusters\n",
    "\n",
    "        all_parents = np.concatenate(all_parents)\n",
    "        all_representatives_indexes = np.concatenate(all_representatives_indexes)\n",
    "        return all_representatives_indexes, all_parents, all_n_clusters, stop\n",
    "\n",
    "    def update_parents(self, old_parents, old_representatives_absolute_indexes, new_absolute_parents):\n",
    "        new_parents = old_parents.copy()\n",
    "        new_parents[old_representatives_absolute_indexes] = new_absolute_parents\n",
    "        return new_parents\n",
    "\n",
    "    def get_all_parents_indexes(self, parents, representative_index):\n",
    "        all_indexes = set()\n",
    "        indexes_to_append = [representative_index]\n",
    "        first = True\n",
    "        while len(indexes_to_append) > 0:  # the representative_index itself will always be in the list\n",
    "            all_indexes.update(indexes_to_append)\n",
    "            indexes_to_append = np.where(np.isin(parents, indexes_to_append))[0]\n",
    "            if first:\n",
    "                first = False\n",
    "                indexes_to_append = np.setdiff1d(indexes_to_append, representative_index, assume_unique=True)\n",
    "        return list(all_indexes)\n",
    "\n",
    "    def get_labels_from_parents(self, parents, representative_indexes):\n",
    "        if self.verbose:\n",
    "            print(\"Getting labels from parents\")\n",
    "        labels = np.empty(parents.shape[0], dtype=int)\n",
    "        for i, representative_index in enumerate(representative_indexes):\n",
    "            all_indexes = self.get_all_parents_indexes(parents, representative_index)\n",
    "            labels[all_indexes] = i\n",
    "        return labels\n",
    "\n",
    "    def fit(self, X: pd.DataFrame | np.ndarray, y=None, sample_weight=None, representatives_indexes=None, parents=None):\n",
    "\n",
    "        if isinstance(X, pd.DataFrame):\n",
    "            X = X.to_numpy()\n",
    "\n",
    "        n_samples = X.shape[0]\n",
    "\n",
    "        if representatives_indexes is None and parents is None:\n",
    "            # indexes of the representative samples, start with (n_samples) but will be updated when we have less than\n",
    "            # n_samples as representatives\n",
    "            representatives_absolute_indexes = np.arange(n_samples)\n",
    "            # representatives_local_indexes = representatives_absolute_indexes\n",
    "            # each sample starts as its own cluster (and its own parent)\n",
    "            parents = representatives_absolute_indexes\n",
    "        else:\n",
    "            # we consider that we are starting from a previous run\n",
    "            # we make sure that both representatives_indexes and parents are not None\n",
    "            if representatives_indexes is None or parents is None:\n",
    "                raise ValueError(\"If you provide representatives_indexes, you must also provide parents.\")\n",
    "            representatives_absolute_indexes = np.array(representatives_indexes)\n",
    "\n",
    "        i = 0\n",
    "        stop = False\n",
    "        # stop when we have run with n_batches == 1\n",
    "        while not stop and i < self.max_epochs:\n",
    "            if self.verbose:\n",
    "                print(f\"Starting epoch {i}\")\n",
    "\n",
    "            X_representatives = X[representatives_absolute_indexes]\n",
    "\n",
    "            (\n",
    "                new_representatives_local_indexes,\n",
    "                new_local_parents,\n",
    "                n_clusters,\n",
    "                stop,\n",
    "            ) = self.do_one_epoch(X_representatives)\n",
    "\n",
    "            new_absolute_parents = representatives_absolute_indexes[new_local_parents]\n",
    "\n",
    "            parents = self.update_parents(parents, representatives_absolute_indexes, new_absolute_parents)\n",
    "\n",
    "            representatives_absolute_indexes = representatives_absolute_indexes[new_representatives_local_indexes]\n",
    "\n",
    "            i += 1\n",
    "\n",
    "        self.n_clusters_ = n_clusters\n",
    "        self.labels_ = self.get_labels_from_parents(parents, representatives_absolute_indexes)\n",
    "        self.parents_ = parents\n",
    "        self.representatives_indexes_ = representatives_absolute_indexes\n",
    "        self.cluster_representatives_ = X[representatives_absolute_indexes]\n",
    "        self.n_epoch_ = i\n",
    "        return self\n",
    "\n",
    "    def fit_predict(\n",
    "        self, X: pd.DataFrame | np.ndarray, y=None, sample_weight=None, representatives_indexes=None, parents=None\n",
    "    ):\n",
    "        return self.fit(X, y, sample_weight, representatives_indexes, parents).labels_"
   ]
  },
  {
   "cell_type": "code",
   "execution_count": 12,
   "id": "249900a4",
   "metadata": {},
   "outputs": [
    {
     "name": "stdout",
     "output_type": "stream",
     "text": [
      "Starting epoch 0\n",
      "Starting epoch 1\n",
      "Getting labels from parents\n",
      "Adjusted Rand Index: 0.857\n"
     ]
    }
   ],
   "source": [
    "model = BatchCoHiRF(batch_size=100, verbose=True, cohirf_kwargs=dict(repetitions=3, n_features='full', kmeans_n_clusters=5, random_state=seed))\n",
    "labels = model.fit_predict(X)\n",
    "ari = adjusted_rand_score(y, labels)\n",
    "print(f\"Adjusted Rand Index: {ari:.3f}\")"
   ]
  },
  {
   "cell_type": "code",
   "execution_count": 7,
   "id": "06b8d0ed",
   "metadata": {},
   "outputs": [
    {
     "name": "stdout",
     "output_type": "stream",
     "text": [
      "Starting epoch 0\n",
      "Starting epoch 1\n",
      "Starting epoch 2\n",
      "Starting epoch 3\n",
      "Starting epoch 4\n",
      "Getting labels from parents\n",
      "Adjusted Rand Index: 0.911\n"
     ]
    }
   ],
   "source": [
    "model = BatchCoHiRF(\n",
    "    batch_size=100,\n",
    "    verbose=True,\n",
    "    cohirf_kwargs=dict(repetitions=3, n_features=\"full\", kmeans_n_clusters=5, random_state=seed),\n",
    ")\n",
    "labels = model.fit_predict(X)\n",
    "ari = adjusted_rand_score(y, labels)\n",
    "print(f\"Adjusted Rand Index: {ari:.3f}\")"
   ]
  },
  {
   "cell_type": "code",
   "execution_count": 27,
   "id": "51bbdecd",
   "metadata": {},
   "outputs": [
    {
     "name": "stdout",
     "output_type": "stream",
     "text": [
      "Starting epoch 0\n",
      "Starting epoch 1\n",
      "Getting labels from parents\n",
      "Adjusted Rand Index: 0.940\n"
     ]
    }
   ],
   "source": [
    "model = BatchCoHiRF(\n",
    "    batch_size=int(1e4),\n",
    "    verbose=True,\n",
    "    cohirf_kwargs=dict(repetitions=3, n_features=\"full\", kmeans_n_clusters=5, random_state=seed),\n",
    ")\n",
    "labels = model.fit_predict(X)\n",
    "ari = adjusted_rand_score(y, labels)\n",
    "print(f\"Adjusted Rand Index: {ari:.3f}\")"
   ]
  },
  {
   "cell_type": "code",
   "execution_count": 28,
   "id": "54e4425d",
   "metadata": {},
   "outputs": [
    {
     "name": "stdout",
     "output_type": "stream",
     "text": [
      "Starting epoch 0\n",
      "Getting labels from parents\n",
      "Starting epoch 0\n",
      "Getting labels from parents\n",
      "Adjusted Rand Index: 0.940\n"
     ]
    }
   ],
   "source": [
    "model1 = BatchCoHiRF(\n",
    "    batch_size=int(1e4),\n",
    "    verbose=True,\n",
    "    cohirf_kwargs=dict(repetitions=3, n_features=\"full\", kmeans_n_clusters=5, random_state=seed),\n",
    "    max_epochs=1,\n",
    ")\n",
    "model1.fit(X)\n",
    "representatives_indexes = model1.representatives_indexes_\n",
    "parents = model1.parents_\n",
    "model2 = BatchCoHiRF(\n",
    "    batch_size=int(1e4),\n",
    "    verbose=True,\n",
    "    cohirf_kwargs=dict(repetitions=3, n_features=\"full\", kmeans_n_clusters=5, random_state=seed),\n",
    "    max_epochs=10,\n",
    ")\n",
    "labels = model2.fit_predict(X, representatives_indexes=representatives_indexes, parents=parents)\n",
    "ari = adjusted_rand_score(y, labels)\n",
    "print(f\"Adjusted Rand Index: {ari:.3f}\")"
   ]
  },
  {
   "cell_type": "code",
   "execution_count": 11,
   "id": "f001d059",
   "metadata": {},
   "outputs": [
    {
     "data": {
      "text/plain": [
       "array([0, 1, 2, 3, 4])"
      ]
     },
     "execution_count": 11,
     "metadata": {},
     "output_type": "execute_result"
    }
   ],
   "source": [
    "np.unique(labels)"
   ]
  },
  {
   "cell_type": "code",
   "execution_count": 14,
   "id": "14615bc0",
   "metadata": {},
   "outputs": [
    {
     "name": "stdout",
     "output_type": "stream",
     "text": [
      "Starting epoch 0\n",
      "Getting labels from parents\n",
      "Adjusted Rand Index: 0.140\n"
     ]
    }
   ],
   "source": [
    "model = BatchCoHiRF(\n",
    "    batch_size=int(1e4),\n",
    "    verbose=True,\n",
    "    cohirf_kwargs=dict(repetitions=3, n_features=\"full\", kmeans_n_clusters=5, random_state=seed),\n",
    "    max_epochs=1,\n",
    ")\n",
    "labels = model.fit_predict(X)\n",
    "ari = adjusted_rand_score(y, labels)\n",
    "print(f\"Adjusted Rand Index: {ari:.3f}\")"
   ]
  },
  {
   "cell_type": "code",
   "execution_count": 18,
   "id": "36f1ccba",
   "metadata": {},
   "outputs": [
    {
     "data": {
      "text/plain": [
       "array([ 4454,  8155,  1319,  5786,  4345,  9208,  4520, 18948, 16856,\n",
       "       14054, 15850, 13536, 19827, 10760, 24089, 28736, 27064, 20993,\n",
       "       26825, 21190, 26363, 30020, 36488, 38093, 32367, 37499, 36266,\n",
       "       34995, 33285, 48802, 46824, 40562, 41756, 43830, 48583, 49298,\n",
       "       56716, 51998, 52416, 54558, 56296, 56646, 51177, 57272, 66626,\n",
       "       68126, 64008, 64608, 61422, 68127, 61759, 68686, 66784, 68325,\n",
       "       60677, 60330, 64582, 62871, 64859, 68320, 68447, 67373, 63041,\n",
       "       68166, 61140, 62192, 66565, 76307, 73294, 75226, 73120, 79526,\n",
       "       74780, 78344, 76163, 88460, 87522, 80434, 84246, 83843, 81000,\n",
       "       96397, 91836, 97007, 95245, 93106, 91025])"
      ]
     },
     "execution_count": 18,
     "metadata": {},
     "output_type": "execute_result"
    }
   ],
   "source": [
    "model.representatives_indexes_"
   ]
  }
 ],
 "metadata": {
  "kernelspec": {
   "display_name": "Python 3",
   "language": "python",
   "name": "python3"
  },
  "language_info": {
   "codemirror_mode": {
    "name": "ipython",
    "version": 3
   },
   "file_extension": ".py",
   "mimetype": "text/x-python",
   "name": "python",
   "nbconvert_exporter": "python",
   "pygments_lexer": "ipython3",
   "version": "3.11.11"
  }
 },
 "nbformat": 4,
 "nbformat_minor": 5
}
