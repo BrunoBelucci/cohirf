{
 "cells": [
  {
   "cell_type": "code",
   "id": "2a8be9c14f3ffb17",
   "metadata": {
    "ExecuteTime": {
     "end_time": "2025-01-16T13:34:03.673283Z",
     "start_time": "2025-01-16T13:34:02.795588Z"
    }
   },
   "source": [
    "import mlflow\n",
    "import plotly.express as px"
   ],
   "outputs": [],
   "execution_count": 1
  },
  {
   "cell_type": "code",
   "id": "a5134bc7b2de0007",
   "metadata": {
    "ExecuteTime": {
     "end_time": "2025-01-16T13:34:04.076890Z",
     "start_time": "2025-01-16T13:34:03.678702Z"
    }
   },
   "source": [
    "mlflow_tracking_uri = 'sqlite:///ml_experiments.db'\n",
    "mlflow.set_tracking_uri(mlflow_tracking_uri)\n",
    "experiments = mlflow.search_experiments()\n",
    "print(*experiments, sep='\\n')"
   ],
   "outputs": [
    {
     "name": "stdout",
     "output_type": "stream",
     "text": [
      "<Experiment: artifact_location='/home/bbelucci/code/recursive_clustering/mlruns/1', creation_time=1733929479465, experiment_id='1', last_update_time=1733929479465, lifecycle_stage='active', name='base_experiment', tags={}>\n",
      "<Experiment: artifact_location='/home/bbelucci/code/recursive_clustering/mlruns/0', creation_time=1733929479458, experiment_id='0', last_update_time=1733929479458, lifecycle_stage='active', name='Default', tags={}>\n"
     ]
    }
   ],
   "execution_count": 2
  },
  {
   "cell_type": "code",
   "id": "3a12df9d7ef5ac2c",
   "metadata": {
    "ExecuteTime": {
     "end_time": "2025-01-16T13:34:08.600962Z",
     "start_time": "2025-01-16T13:34:04.201600Z"
    }
   },
   "source": [
    "runs = mlflow.search_runs(experiment_names=['base_experiment'])"
   ],
   "outputs": [],
   "execution_count": 3
  },
  {
   "cell_type": "code",
   "id": "8a6caf200bdaf673",
   "metadata": {
    "ExecuteTime": {
     "end_time": "2025-01-16T13:34:08.629172Z",
     "start_time": "2025-01-16T13:34:08.609613Z"
    }
   },
   "source": [
    "runs"
   ],
   "outputs": [
    {
     "data": {
      "text/plain": [
       "                                run_id experiment_id    status  \\\n",
       "0     ffcc9bd4fc404209ae5dbcccdacbd04c             1  FINISHED   \n",
       "1     69fea29278bf4afa85e6ad98e9159d7f             1   RUNNING   \n",
       "2     0d941763624e43158bdb27bfbd395c56             1  FINISHED   \n",
       "3     46b10cdab9a54a4f9f03fd5dd4ae9c25             1  FINISHED   \n",
       "4     73fd04a0242444978bb967cbb3a899ba             1  FINISHED   \n",
       "...                                ...           ...       ...   \n",
       "2038  d001d87bd32f448a8653c0ab874101a7             1  FINISHED   \n",
       "2039  0b1bd26acdb94bf4938c1adb16e9c8c8             1  FINISHED   \n",
       "2040  78c2bc1726ee4538a5e0f5188ace8f21             1  FINISHED   \n",
       "2041  b8d55581bddd49769132e5e4c03abbe6             1  FINISHED   \n",
       "2042  41270a56708841d7b91de24c4a6c873a             1  FINISHED   \n",
       "\n",
       "                                           artifact_uri  \\\n",
       "0     /home/bbelucci/code/recursive_clustering/mlrun...   \n",
       "1     /home/bbelucci/code/recursive_clustering/mlrun...   \n",
       "2     /home/bbelucci/code/recursive_clustering/mlrun...   \n",
       "3     /home/bbelucci/code/recursive_clustering/mlrun...   \n",
       "4     /home/bbelucci/code/recursive_clustering/mlrun...   \n",
       "...                                                 ...   \n",
       "2038  /home/bbelucci/code/recursive_clustering/mlrun...   \n",
       "2039  /home/bbelucci/code/recursive_clustering/mlrun...   \n",
       "2040  /home/bbelucci/code/recursive_clustering/mlrun...   \n",
       "2041  /home/bbelucci/code/recursive_clustering/mlrun...   \n",
       "2042  /home/bbelucci/code/recursive_clustering/mlrun...   \n",
       "\n",
       "                           start_time                         end_time  \\\n",
       "0    2025-01-15 22:29:49.501000+00:00 2025-01-15 22:29:49.824000+00:00   \n",
       "1    2025-01-15 15:00:57.657000+00:00                              NaT   \n",
       "2    2025-01-15 11:42:45.942000+00:00 2025-01-15 11:42:47.079000+00:00   \n",
       "3    2025-01-15 11:42:27.369000+00:00 2025-01-15 11:42:28.474000+00:00   \n",
       "4    2025-01-15 11:42:13.210000+00:00 2025-01-15 11:42:13.447000+00:00   \n",
       "...                               ...                              ...   \n",
       "2038 2024-12-11 15:04:49.274000+00:00 2024-12-11 15:04:56.098000+00:00   \n",
       "2039 2024-12-11 15:04:49.255000+00:00 2024-12-11 15:04:55.776000+00:00   \n",
       "2040 2024-12-11 15:04:49.233000+00:00 2024-12-11 15:04:55.536000+00:00   \n",
       "2041 2024-12-11 15:04:49.184000+00:00 2024-12-11 15:04:55.353000+00:00   \n",
       "2042 2024-12-11 15:04:39.475000+00:00 2024-12-11 15:08:33.669000+00:00   \n",
       "\n",
       "      metrics.evaluate_model_return_elapsed_time  metrics.rand_score  \\\n",
       "0                                       0.060611            1.000000   \n",
       "1                                            NaN                 NaN   \n",
       "2                                       0.022778            1.000000   \n",
       "3                                       0.023539            1.000000   \n",
       "4                                       0.039801            1.000000   \n",
       "...                                          ...                 ...   \n",
       "2038                                    0.008357            0.909091   \n",
       "2039                                    0.008123            0.909091   \n",
       "2040                                    0.007855            0.909091   \n",
       "2041                                    0.019326            0.909091   \n",
       "2042                                    0.029678            0.909091   \n",
       "\n",
       "      metrics.get_metrics_return_elapsed_time  metrics.v_measure  ...  \\\n",
       "0                                    0.000003           1.000000  ...   \n",
       "1                                         NaN                NaN  ...   \n",
       "2                                    0.000003           1.000000  ...   \n",
       "3                                    0.000003           1.000000  ...   \n",
       "4                                    0.000003           1.000000  ...   \n",
       "...                                       ...                ...  ...   \n",
       "2038                                 0.000004           0.666667  ...   \n",
       "2039                                 0.000003           0.666667  ...   \n",
       "2040                                 0.000003           0.666667  ...   \n",
       "2041                                 0.000002           0.666667  ...   \n",
       "2042                                 0.000005           0.666667  ...   \n",
       "\n",
       "                 tags.child_run_id_271             tags.child_run_id_270  \\\n",
       "0                                 None                              None   \n",
       "1                                 None                              None   \n",
       "2                                 None                              None   \n",
       "3                                 None                              None   \n",
       "4                                 None                              None   \n",
       "...                                ...                               ...   \n",
       "2038                              None                              None   \n",
       "2039                              None                              None   \n",
       "2040                              None                              None   \n",
       "2041                              None                              None   \n",
       "2042  b3c2f51ef04b4aff9320d8b6d32b5fdb  53f1fa7ba29746088a9990a4e73a007a   \n",
       "\n",
       "                 tags.child_run_id_229             tags.child_run_id_175  \\\n",
       "0                                 None                              None   \n",
       "1                                 None                              None   \n",
       "2                                 None                              None   \n",
       "3                                 None                              None   \n",
       "4                                 None                              None   \n",
       "...                                ...                               ...   \n",
       "2038                              None                              None   \n",
       "2039                              None                              None   \n",
       "2040                              None                              None   \n",
       "2041                              None                              None   \n",
       "2042  50a57dfbbebe4ec5b56eae770d0bd8f0  74de5c3951954275a625fd24daaf17db   \n",
       "\n",
       "                 tags.child_run_id_287             tags.child_run_id_177  \\\n",
       "0                                 None                              None   \n",
       "1                                 None                              None   \n",
       "2                                 None                              None   \n",
       "3                                 None                              None   \n",
       "4                                 None                              None   \n",
       "...                                ...                               ...   \n",
       "2038                              None                              None   \n",
       "2039                              None                              None   \n",
       "2040                              None                              None   \n",
       "2041                              None                              None   \n",
       "2042  2a51b0c6eace47928dc509f52f59dbcb  ba2d25e44a8143b1bb77bf15a7fd2656   \n",
       "\n",
       "                 tags.child_run_id_121             tags.child_run_id_108  \\\n",
       "0                                 None                              None   \n",
       "1                                 None                              None   \n",
       "2                                 None                              None   \n",
       "3                                 None                              None   \n",
       "4                                 None                              None   \n",
       "...                                ...                               ...   \n",
       "2038                              None                              None   \n",
       "2039                              None                              None   \n",
       "2040                              None                              None   \n",
       "2041                              None                              None   \n",
       "2042  d15769d15e1e4cde9239aa78ec1f6e4b  37d562620cef465ca82410a5d33c8f01   \n",
       "\n",
       "                 tags.child_run_id_238  tags.min_cluster_size  \n",
       "0                                 None                   None  \n",
       "1                                 None                   None  \n",
       "2                                 None                   None  \n",
       "3                                 None                   None  \n",
       "4                                 None                   None  \n",
       "...                                ...                    ...  \n",
       "2038                              None                   None  \n",
       "2039                              None                   None  \n",
       "2040                              None                   None  \n",
       "2041                              None                   None  \n",
       "2042  b7428858a063447ab6baadec775c4fcb                   None  \n",
       "\n",
       "[2043 rows x 421 columns]"
      ],
      "text/html": [
       "<div>\n",
       "<style scoped>\n",
       "    .dataframe tbody tr th:only-of-type {\n",
       "        vertical-align: middle;\n",
       "    }\n",
       "\n",
       "    .dataframe tbody tr th {\n",
       "        vertical-align: top;\n",
       "    }\n",
       "\n",
       "    .dataframe thead th {\n",
       "        text-align: right;\n",
       "    }\n",
       "</style>\n",
       "<table border=\"1\" class=\"dataframe\">\n",
       "  <thead>\n",
       "    <tr style=\"text-align: right;\">\n",
       "      <th></th>\n",
       "      <th>run_id</th>\n",
       "      <th>experiment_id</th>\n",
       "      <th>status</th>\n",
       "      <th>artifact_uri</th>\n",
       "      <th>start_time</th>\n",
       "      <th>end_time</th>\n",
       "      <th>metrics.evaluate_model_return_elapsed_time</th>\n",
       "      <th>metrics.rand_score</th>\n",
       "      <th>metrics.get_metrics_return_elapsed_time</th>\n",
       "      <th>metrics.v_measure</th>\n",
       "      <th>...</th>\n",
       "      <th>tags.child_run_id_271</th>\n",
       "      <th>tags.child_run_id_270</th>\n",
       "      <th>tags.child_run_id_229</th>\n",
       "      <th>tags.child_run_id_175</th>\n",
       "      <th>tags.child_run_id_287</th>\n",
       "      <th>tags.child_run_id_177</th>\n",
       "      <th>tags.child_run_id_121</th>\n",
       "      <th>tags.child_run_id_108</th>\n",
       "      <th>tags.child_run_id_238</th>\n",
       "      <th>tags.min_cluster_size</th>\n",
       "    </tr>\n",
       "  </thead>\n",
       "  <tbody>\n",
       "    <tr>\n",
       "      <th>0</th>\n",
       "      <td>ffcc9bd4fc404209ae5dbcccdacbd04c</td>\n",
       "      <td>1</td>\n",
       "      <td>FINISHED</td>\n",
       "      <td>/home/bbelucci/code/recursive_clustering/mlrun...</td>\n",
       "      <td>2025-01-15 22:29:49.501000+00:00</td>\n",
       "      <td>2025-01-15 22:29:49.824000+00:00</td>\n",
       "      <td>0.060611</td>\n",
       "      <td>1.000000</td>\n",
       "      <td>0.000003</td>\n",
       "      <td>1.000000</td>\n",
       "      <td>...</td>\n",
       "      <td>None</td>\n",
       "      <td>None</td>\n",
       "      <td>None</td>\n",
       "      <td>None</td>\n",
       "      <td>None</td>\n",
       "      <td>None</td>\n",
       "      <td>None</td>\n",
       "      <td>None</td>\n",
       "      <td>None</td>\n",
       "      <td>None</td>\n",
       "    </tr>\n",
       "    <tr>\n",
       "      <th>1</th>\n",
       "      <td>69fea29278bf4afa85e6ad98e9159d7f</td>\n",
       "      <td>1</td>\n",
       "      <td>RUNNING</td>\n",
       "      <td>/home/bbelucci/code/recursive_clustering/mlrun...</td>\n",
       "      <td>2025-01-15 15:00:57.657000+00:00</td>\n",
       "      <td>NaT</td>\n",
       "      <td>NaN</td>\n",
       "      <td>NaN</td>\n",
       "      <td>NaN</td>\n",
       "      <td>NaN</td>\n",
       "      <td>...</td>\n",
       "      <td>None</td>\n",
       "      <td>None</td>\n",
       "      <td>None</td>\n",
       "      <td>None</td>\n",
       "      <td>None</td>\n",
       "      <td>None</td>\n",
       "      <td>None</td>\n",
       "      <td>None</td>\n",
       "      <td>None</td>\n",
       "      <td>None</td>\n",
       "    </tr>\n",
       "    <tr>\n",
       "      <th>2</th>\n",
       "      <td>0d941763624e43158bdb27bfbd395c56</td>\n",
       "      <td>1</td>\n",
       "      <td>FINISHED</td>\n",
       "      <td>/home/bbelucci/code/recursive_clustering/mlrun...</td>\n",
       "      <td>2025-01-15 11:42:45.942000+00:00</td>\n",
       "      <td>2025-01-15 11:42:47.079000+00:00</td>\n",
       "      <td>0.022778</td>\n",
       "      <td>1.000000</td>\n",
       "      <td>0.000003</td>\n",
       "      <td>1.000000</td>\n",
       "      <td>...</td>\n",
       "      <td>None</td>\n",
       "      <td>None</td>\n",
       "      <td>None</td>\n",
       "      <td>None</td>\n",
       "      <td>None</td>\n",
       "      <td>None</td>\n",
       "      <td>None</td>\n",
       "      <td>None</td>\n",
       "      <td>None</td>\n",
       "      <td>None</td>\n",
       "    </tr>\n",
       "    <tr>\n",
       "      <th>3</th>\n",
       "      <td>46b10cdab9a54a4f9f03fd5dd4ae9c25</td>\n",
       "      <td>1</td>\n",
       "      <td>FINISHED</td>\n",
       "      <td>/home/bbelucci/code/recursive_clustering/mlrun...</td>\n",
       "      <td>2025-01-15 11:42:27.369000+00:00</td>\n",
       "      <td>2025-01-15 11:42:28.474000+00:00</td>\n",
       "      <td>0.023539</td>\n",
       "      <td>1.000000</td>\n",
       "      <td>0.000003</td>\n",
       "      <td>1.000000</td>\n",
       "      <td>...</td>\n",
       "      <td>None</td>\n",
       "      <td>None</td>\n",
       "      <td>None</td>\n",
       "      <td>None</td>\n",
       "      <td>None</td>\n",
       "      <td>None</td>\n",
       "      <td>None</td>\n",
       "      <td>None</td>\n",
       "      <td>None</td>\n",
       "      <td>None</td>\n",
       "    </tr>\n",
       "    <tr>\n",
       "      <th>4</th>\n",
       "      <td>73fd04a0242444978bb967cbb3a899ba</td>\n",
       "      <td>1</td>\n",
       "      <td>FINISHED</td>\n",
       "      <td>/home/bbelucci/code/recursive_clustering/mlrun...</td>\n",
       "      <td>2025-01-15 11:42:13.210000+00:00</td>\n",
       "      <td>2025-01-15 11:42:13.447000+00:00</td>\n",
       "      <td>0.039801</td>\n",
       "      <td>1.000000</td>\n",
       "      <td>0.000003</td>\n",
       "      <td>1.000000</td>\n",
       "      <td>...</td>\n",
       "      <td>None</td>\n",
       "      <td>None</td>\n",
       "      <td>None</td>\n",
       "      <td>None</td>\n",
       "      <td>None</td>\n",
       "      <td>None</td>\n",
       "      <td>None</td>\n",
       "      <td>None</td>\n",
       "      <td>None</td>\n",
       "      <td>None</td>\n",
       "    </tr>\n",
       "    <tr>\n",
       "      <th>...</th>\n",
       "      <td>...</td>\n",
       "      <td>...</td>\n",
       "      <td>...</td>\n",
       "      <td>...</td>\n",
       "      <td>...</td>\n",
       "      <td>...</td>\n",
       "      <td>...</td>\n",
       "      <td>...</td>\n",
       "      <td>...</td>\n",
       "      <td>...</td>\n",
       "      <td>...</td>\n",
       "      <td>...</td>\n",
       "      <td>...</td>\n",
       "      <td>...</td>\n",
       "      <td>...</td>\n",
       "      <td>...</td>\n",
       "      <td>...</td>\n",
       "      <td>...</td>\n",
       "      <td>...</td>\n",
       "      <td>...</td>\n",
       "      <td>...</td>\n",
       "    </tr>\n",
       "    <tr>\n",
       "      <th>2038</th>\n",
       "      <td>d001d87bd32f448a8653c0ab874101a7</td>\n",
       "      <td>1</td>\n",
       "      <td>FINISHED</td>\n",
       "      <td>/home/bbelucci/code/recursive_clustering/mlrun...</td>\n",
       "      <td>2024-12-11 15:04:49.274000+00:00</td>\n",
       "      <td>2024-12-11 15:04:56.098000+00:00</td>\n",
       "      <td>0.008357</td>\n",
       "      <td>0.909091</td>\n",
       "      <td>0.000004</td>\n",
       "      <td>0.666667</td>\n",
       "      <td>...</td>\n",
       "      <td>None</td>\n",
       "      <td>None</td>\n",
       "      <td>None</td>\n",
       "      <td>None</td>\n",
       "      <td>None</td>\n",
       "      <td>None</td>\n",
       "      <td>None</td>\n",
       "      <td>None</td>\n",
       "      <td>None</td>\n",
       "      <td>None</td>\n",
       "    </tr>\n",
       "    <tr>\n",
       "      <th>2039</th>\n",
       "      <td>0b1bd26acdb94bf4938c1adb16e9c8c8</td>\n",
       "      <td>1</td>\n",
       "      <td>FINISHED</td>\n",
       "      <td>/home/bbelucci/code/recursive_clustering/mlrun...</td>\n",
       "      <td>2024-12-11 15:04:49.255000+00:00</td>\n",
       "      <td>2024-12-11 15:04:55.776000+00:00</td>\n",
       "      <td>0.008123</td>\n",
       "      <td>0.909091</td>\n",
       "      <td>0.000003</td>\n",
       "      <td>0.666667</td>\n",
       "      <td>...</td>\n",
       "      <td>None</td>\n",
       "      <td>None</td>\n",
       "      <td>None</td>\n",
       "      <td>None</td>\n",
       "      <td>None</td>\n",
       "      <td>None</td>\n",
       "      <td>None</td>\n",
       "      <td>None</td>\n",
       "      <td>None</td>\n",
       "      <td>None</td>\n",
       "    </tr>\n",
       "    <tr>\n",
       "      <th>2040</th>\n",
       "      <td>78c2bc1726ee4538a5e0f5188ace8f21</td>\n",
       "      <td>1</td>\n",
       "      <td>FINISHED</td>\n",
       "      <td>/home/bbelucci/code/recursive_clustering/mlrun...</td>\n",
       "      <td>2024-12-11 15:04:49.233000+00:00</td>\n",
       "      <td>2024-12-11 15:04:55.536000+00:00</td>\n",
       "      <td>0.007855</td>\n",
       "      <td>0.909091</td>\n",
       "      <td>0.000003</td>\n",
       "      <td>0.666667</td>\n",
       "      <td>...</td>\n",
       "      <td>None</td>\n",
       "      <td>None</td>\n",
       "      <td>None</td>\n",
       "      <td>None</td>\n",
       "      <td>None</td>\n",
       "      <td>None</td>\n",
       "      <td>None</td>\n",
       "      <td>None</td>\n",
       "      <td>None</td>\n",
       "      <td>None</td>\n",
       "    </tr>\n",
       "    <tr>\n",
       "      <th>2041</th>\n",
       "      <td>b8d55581bddd49769132e5e4c03abbe6</td>\n",
       "      <td>1</td>\n",
       "      <td>FINISHED</td>\n",
       "      <td>/home/bbelucci/code/recursive_clustering/mlrun...</td>\n",
       "      <td>2024-12-11 15:04:49.184000+00:00</td>\n",
       "      <td>2024-12-11 15:04:55.353000+00:00</td>\n",
       "      <td>0.019326</td>\n",
       "      <td>0.909091</td>\n",
       "      <td>0.000002</td>\n",
       "      <td>0.666667</td>\n",
       "      <td>...</td>\n",
       "      <td>None</td>\n",
       "      <td>None</td>\n",
       "      <td>None</td>\n",
       "      <td>None</td>\n",
       "      <td>None</td>\n",
       "      <td>None</td>\n",
       "      <td>None</td>\n",
       "      <td>None</td>\n",
       "      <td>None</td>\n",
       "      <td>None</td>\n",
       "    </tr>\n",
       "    <tr>\n",
       "      <th>2042</th>\n",
       "      <td>41270a56708841d7b91de24c4a6c873a</td>\n",
       "      <td>1</td>\n",
       "      <td>FINISHED</td>\n",
       "      <td>/home/bbelucci/code/recursive_clustering/mlrun...</td>\n",
       "      <td>2024-12-11 15:04:39.475000+00:00</td>\n",
       "      <td>2024-12-11 15:08:33.669000+00:00</td>\n",
       "      <td>0.029678</td>\n",
       "      <td>0.909091</td>\n",
       "      <td>0.000005</td>\n",
       "      <td>0.666667</td>\n",
       "      <td>...</td>\n",
       "      <td>b3c2f51ef04b4aff9320d8b6d32b5fdb</td>\n",
       "      <td>53f1fa7ba29746088a9990a4e73a007a</td>\n",
       "      <td>50a57dfbbebe4ec5b56eae770d0bd8f0</td>\n",
       "      <td>74de5c3951954275a625fd24daaf17db</td>\n",
       "      <td>2a51b0c6eace47928dc509f52f59dbcb</td>\n",
       "      <td>ba2d25e44a8143b1bb77bf15a7fd2656</td>\n",
       "      <td>d15769d15e1e4cde9239aa78ec1f6e4b</td>\n",
       "      <td>37d562620cef465ca82410a5d33c8f01</td>\n",
       "      <td>b7428858a063447ab6baadec775c4fcb</td>\n",
       "      <td>None</td>\n",
       "    </tr>\n",
       "  </tbody>\n",
       "</table>\n",
       "<p>2043 rows × 421 columns</p>\n",
       "</div>"
      ]
     },
     "execution_count": 4,
     "metadata": {},
     "output_type": "execute_result"
    }
   ],
   "execution_count": 4
  },
  {
   "cell_type": "code",
   "id": "82ac1a29cb86ef04",
   "metadata": {
    "ExecuteTime": {
     "end_time": "2025-01-16T13:34:08.794464Z",
     "start_time": "2025-01-16T13:34:08.791538Z"
    }
   },
   "source": [
    "str_columns = [\n",
    "    'tags.parent_run_id',\n",
    "    'status',\n",
    "    'start_time',\n",
    "]\n",
    "float_columns = [\n",
    "    'metrics.rand_score',\n",
    "    'metrics.mutual_info',\n",
    "    'metrics.v_measure',\n",
    "    'metrics.silhouette',\n",
    "    'metrics.adjusted_rand',\n",
    "    'metrics.homogeneity',\n",
    "    'metrics.n_clusters_',\n",
    "    'metrics.completeness',\n",
    "    'metrics.adjusted_mutual_info',\n",
    "    'metrics.best_rand_score',\n",
    "    'metrics.best_mutual_info',\n",
    "    'metrics.best_v_measure',\n",
    "    'metrics.best_silhouette',\n",
    "    'metrics.best_adjusted_rand',\n",
    "    'metrics.best_homogeneity',\n",
    "    'metrics.best_n_clusters_',\n",
    "    'metrics.best_completeness',\n",
    "    'metrics.best_adjusted_mutual_info',\n",
    "    'params.repetitions',\n",
    "    'params.kmeans_n_clusters',\n",
    "    'params.components_size',\n",
    "    'params.n_samples',\n",
    "    'params.n_random',\n",
    "    'params.n_informative',\n",
    "    'params.class_sep',\n",
    "    'params.n_classes',\n",
    "    'params.min_cluster_size',\n",
    "    'params.n_features',\n",
    "    'params.pct_random',\n",
    "]\n",
    "columns = str_columns + float_columns"
   ],
   "outputs": [],
   "execution_count": 5
  },
  {
   "cell_type": "code",
   "id": "471c5dd9ec892537",
   "metadata": {
    "ExecuteTime": {
     "end_time": "2025-01-16T13:34:08.842052Z",
     "start_time": "2025-01-16T13:34:08.833724Z"
    }
   },
   "source": [
    "runs[float_columns] = runs[float_columns].astype(float)"
   ],
   "outputs": [],
   "execution_count": 6
  },
  {
   "cell_type": "code",
   "id": "78c70cc2cab30162",
   "metadata": {
    "ExecuteTime": {
     "end_time": "2025-01-16T13:34:09.065152Z",
     "start_time": "2025-01-16T13:34:09.019883Z"
    }
   },
   "source": [
    "parent_runs = runs.groupby('tags.parent_run_id').first().copy().reset_index()"
   ],
   "outputs": [],
   "execution_count": 7
  },
  {
   "cell_type": "code",
   "id": "bdf6799051473027",
   "metadata": {
    "ExecuteTime": {
     "end_time": "2025-01-16T13:34:09.099894Z",
     "start_time": "2025-01-16T13:34:09.077809Z"
    }
   },
   "source": [
    "parent_runs[columns].sort_values('start_time', ascending=False)"
   ],
   "outputs": [
    {
     "data": {
      "text/plain": [
       "                  tags.parent_run_id     status  \\\n",
       "0   0d10a914d0ba48feb7ec9f7bda09e080   FINISHED   \n",
       "12  a5730b796bd9422ea1623b6d0e599bcd   FINISHED   \n",
       "2   1311b66d640249f48fd2bc8f0c5ff874   FINISHED   \n",
       "6   6c55ced01a384ba4a375ce89cd7e4b7d   FINISHED   \n",
       "4   28dd7e4f287e444d82f6a2659633a969   FINISHED   \n",
       "15  e7194dedf12d4e728b639873f9557e93   FINISHED   \n",
       "14  d4ea4b639517400e86300f6e622d1864   FINISHED   \n",
       "3   164ccef678464a1fb555630331502e73   FINISHED   \n",
       "16  f2e81dab9d0f4b1b8aeb333e01b24899   FINISHED   \n",
       "10  961c06819bea4b90b672e6d5ad66a4f3   FINISHED   \n",
       "9   908bb1e1d08543f3b44bdcd87e325e37   FINISHED   \n",
       "11  9b47519f377044c78a7790d3c269db49   FINISHED   \n",
       "7   771ecd1387a340378e2cfaaeee0385c9   FINISHED   \n",
       "17  fc7e2bdf2483437c918a09762c74c179   FINISHED   \n",
       "1   0f8163e503744dccb5479aa240bfe6f0  SCHEDULED   \n",
       "8   85c841635fa9452da6ef7a492f902aa2   FINISHED   \n",
       "13  d26ad16527dd406f817bdc29b034bdeb   FINISHED   \n",
       "5   41270a56708841d7b91de24c4a6c873a   FINISHED   \n",
       "\n",
       "                         start_time  metrics.rand_score  metrics.mutual_info  \\\n",
       "0  2025-01-14 12:52:38.801000+00:00            0.736585             0.813132   \n",
       "12 2025-01-14 12:34:56.003000+00:00            0.800803             1.609438   \n",
       "2  2025-01-14 12:24:13.462000+00:00            0.800839             1.608052   \n",
       "6  2025-01-14 12:17:11.854000+00:00            0.918721             1.325186   \n",
       "4  2025-01-14 12:09:48.791000+00:00            0.801013             0.856509   \n",
       "15 2025-01-14 12:04:15.086000+00:00            0.759760             0.950271   \n",
       "14 2025-01-14 12:02:18.750000+00:00            0.919920             1.332179   \n",
       "3  2025-01-14 11:01:41.091000+00:00            0.919920             1.332179   \n",
       "16 2024-12-12 15:01:42.840000+00:00            1.000000             1.609438   \n",
       "10 2024-12-12 14:58:31.205000+00:00            1.000000             1.609438   \n",
       "9  2024-12-12 14:54:45.842000+00:00            0.840454             1.586920   \n",
       "11 2024-12-12 14:34:22.607000+00:00            0.922641             1.609438   \n",
       "7  2024-12-11 17:05:20.188000+00:00            0.980360             2.302585   \n",
       "17 2024-12-11 16:55:31.615000+00:00            0.900901             2.302585   \n",
       "1  2024-12-11 16:53:16.089000+00:00            0.835752             0.138430   \n",
       "8  2024-12-11 16:35:04.560000+00:00            0.266505             0.161243   \n",
       "13 2024-12-11 16:32:15.244000+00:00            0.090909             0.000000   \n",
       "5  2024-12-11 15:04:54.653000+00:00            0.909091             2.302585   \n",
       "\n",
       "    metrics.v_measure  metrics.silhouette  metrics.adjusted_rand  \\\n",
       "0            0.635332            0.079552               0.431764   \n",
       "12           0.377988           -0.000427               0.000016   \n",
       "2            0.378896           -0.007448               0.000318   \n",
       "6            0.901205            0.120647               0.778805   \n",
       "4            0.582841            0.017844               0.473949   \n",
       "15           0.742483            0.219962               0.481757   \n",
       "14           0.905746            0.602651               0.781925   \n",
       "3            0.905746            0.720398               0.781925   \n",
       "16           1.000000            0.497247               1.000000   \n",
       "10           1.000000            0.817589               1.000000   \n",
       "9            0.609275           -0.026546               0.287219   \n",
       "11           0.686815            0.220702               0.716111   \n",
       "7            0.848869            0.647089               0.879371   \n",
       "17           0.500000           -1.000000               0.000000   \n",
       "1            0.054941           -0.006138               0.001541   \n",
       "8            0.115192           -0.012436               0.003237   \n",
       "13           0.000000           -1.000000               0.000000   \n",
       "5            0.666667           -1.000000               0.000000   \n",
       "\n",
       "    metrics.homogeneity  metrics.n_clusters_  ...  params.kmeans_n_clusters  \\\n",
       "0              0.505227                  3.0  ...                       2.0   \n",
       "12             1.000000                999.0  ...                      10.0   \n",
       "2              0.999139                979.0  ...                       8.0   \n",
       "6              0.823385                  4.0  ...                       3.0   \n",
       "4              0.532179                  5.0  ...                       2.0   \n",
       "15             0.590436                  3.0  ...                       2.0   \n",
       "14             0.827729                  4.0  ...                       2.0   \n",
       "3              0.827729                  4.0  ...                       2.0   \n",
       "16             1.000000                  5.0  ...                       2.0   \n",
       "10             1.000000                  5.0  ...                       5.0   \n",
       "9              0.986009                 75.0  ...                       3.0   \n",
       "11             1.000000                115.0  ...                      10.0   \n",
       "7              1.000000                144.0  ...                      10.0   \n",
       "17             1.000000               1000.0  ...                       9.0   \n",
       "1              0.060119                 26.0  ...                       8.0   \n",
       "8              0.070027                  6.0  ...                       NaN   \n",
       "13             0.000000                  1.0  ...                       NaN   \n",
       "5              1.000000                100.0  ...                       9.0   \n",
       "\n",
       "    params.components_size  params.n_samples  params.n_random  \\\n",
       "0                     27.0            1000.0             16.0   \n",
       "12                     9.0            1000.0             16.0   \n",
       "2                     14.0            1000.0             16.0   \n",
       "6                     26.0            1000.0             16.0   \n",
       "4                     17.0            1000.0             16.0   \n",
       "15                    17.0            1000.0             16.0   \n",
       "14                    17.0            1000.0             16.0   \n",
       "3                     17.0            1000.0             16.0   \n",
       "16                    16.0            1000.0              0.0   \n",
       "10                    26.0            1000.0              0.0   \n",
       "9                     13.0            1000.0              0.0   \n",
       "11                    13.0            1000.0              0.0   \n",
       "7                      4.0            1000.0            100.0   \n",
       "17                    11.0            1000.0            100.0   \n",
       "1                     30.0            1000.0            100.0   \n",
       "8                      NaN            1000.0            100.0   \n",
       "13                     NaN             100.0            100.0   \n",
       "5                     20.0             100.0            100.0   \n",
       "\n",
       "    params.n_informative  params.class_sep  params.n_classes  \\\n",
       "0                    2.0              40.0               5.0   \n",
       "12                   2.0              30.0               5.0   \n",
       "2                    2.0              20.0               5.0   \n",
       "6                    2.0              50.0               5.0   \n",
       "4                    2.0              50.0               5.0   \n",
       "15                   2.0             100.0               5.0   \n",
       "14                   2.0             100.0               5.0   \n",
       "3                    2.0             100.0               5.0   \n",
       "16               10000.0             100.0               5.0   \n",
       "10                1000.0             100.0               5.0   \n",
       "9                 1000.0              10.0               5.0   \n",
       "11                 100.0              10.0               5.0   \n",
       "7                 1000.0             100.0              10.0   \n",
       "17               10000.0              10.0              10.0   \n",
       "1                10000.0              10.0              10.0   \n",
       "8                10000.0              10.0              10.0   \n",
       "13               10000.0              10.0              10.0   \n",
       "5                10000.0              10.0              10.0   \n",
       "\n",
       "    params.min_cluster_size  params.n_features  params.pct_random  \n",
       "0                       NaN            10000.0                0.0  \n",
       "12                      NaN            10000.0                0.0  \n",
       "2                       NaN            10000.0                0.0  \n",
       "6                       NaN            10000.0                0.0  \n",
       "4                       NaN            10000.0                0.0  \n",
       "15                      NaN            10000.0                0.0  \n",
       "14                      NaN             1000.0                0.0  \n",
       "3                       NaN              100.0                0.0  \n",
       "16                      NaN                NaN                NaN  \n",
       "10                      NaN                NaN                NaN  \n",
       "9                       NaN                NaN                NaN  \n",
       "11                      NaN                NaN                NaN  \n",
       "7                       NaN                NaN                NaN  \n",
       "17                      NaN                NaN                NaN  \n",
       "1                       NaN                NaN                NaN  \n",
       "8                       7.0                NaN                NaN  \n",
       "13                      7.0                NaN                NaN  \n",
       "5                       NaN                NaN                NaN  \n",
       "\n",
       "[18 rows x 32 columns]"
      ],
      "text/html": [
       "<div>\n",
       "<style scoped>\n",
       "    .dataframe tbody tr th:only-of-type {\n",
       "        vertical-align: middle;\n",
       "    }\n",
       "\n",
       "    .dataframe tbody tr th {\n",
       "        vertical-align: top;\n",
       "    }\n",
       "\n",
       "    .dataframe thead th {\n",
       "        text-align: right;\n",
       "    }\n",
       "</style>\n",
       "<table border=\"1\" class=\"dataframe\">\n",
       "  <thead>\n",
       "    <tr style=\"text-align: right;\">\n",
       "      <th></th>\n",
       "      <th>tags.parent_run_id</th>\n",
       "      <th>status</th>\n",
       "      <th>start_time</th>\n",
       "      <th>metrics.rand_score</th>\n",
       "      <th>metrics.mutual_info</th>\n",
       "      <th>metrics.v_measure</th>\n",
       "      <th>metrics.silhouette</th>\n",
       "      <th>metrics.adjusted_rand</th>\n",
       "      <th>metrics.homogeneity</th>\n",
       "      <th>metrics.n_clusters_</th>\n",
       "      <th>...</th>\n",
       "      <th>params.kmeans_n_clusters</th>\n",
       "      <th>params.components_size</th>\n",
       "      <th>params.n_samples</th>\n",
       "      <th>params.n_random</th>\n",
       "      <th>params.n_informative</th>\n",
       "      <th>params.class_sep</th>\n",
       "      <th>params.n_classes</th>\n",
       "      <th>params.min_cluster_size</th>\n",
       "      <th>params.n_features</th>\n",
       "      <th>params.pct_random</th>\n",
       "    </tr>\n",
       "  </thead>\n",
       "  <tbody>\n",
       "    <tr>\n",
       "      <th>0</th>\n",
       "      <td>0d10a914d0ba48feb7ec9f7bda09e080</td>\n",
       "      <td>FINISHED</td>\n",
       "      <td>2025-01-14 12:52:38.801000+00:00</td>\n",
       "      <td>0.736585</td>\n",
       "      <td>0.813132</td>\n",
       "      <td>0.635332</td>\n",
       "      <td>0.079552</td>\n",
       "      <td>0.431764</td>\n",
       "      <td>0.505227</td>\n",
       "      <td>3.0</td>\n",
       "      <td>...</td>\n",
       "      <td>2.0</td>\n",
       "      <td>27.0</td>\n",
       "      <td>1000.0</td>\n",
       "      <td>16.0</td>\n",
       "      <td>2.0</td>\n",
       "      <td>40.0</td>\n",
       "      <td>5.0</td>\n",
       "      <td>NaN</td>\n",
       "      <td>10000.0</td>\n",
       "      <td>0.0</td>\n",
       "    </tr>\n",
       "    <tr>\n",
       "      <th>12</th>\n",
       "      <td>a5730b796bd9422ea1623b6d0e599bcd</td>\n",
       "      <td>FINISHED</td>\n",
       "      <td>2025-01-14 12:34:56.003000+00:00</td>\n",
       "      <td>0.800803</td>\n",
       "      <td>1.609438</td>\n",
       "      <td>0.377988</td>\n",
       "      <td>-0.000427</td>\n",
       "      <td>0.000016</td>\n",
       "      <td>1.000000</td>\n",
       "      <td>999.0</td>\n",
       "      <td>...</td>\n",
       "      <td>10.0</td>\n",
       "      <td>9.0</td>\n",
       "      <td>1000.0</td>\n",
       "      <td>16.0</td>\n",
       "      <td>2.0</td>\n",
       "      <td>30.0</td>\n",
       "      <td>5.0</td>\n",
       "      <td>NaN</td>\n",
       "      <td>10000.0</td>\n",
       "      <td>0.0</td>\n",
       "    </tr>\n",
       "    <tr>\n",
       "      <th>2</th>\n",
       "      <td>1311b66d640249f48fd2bc8f0c5ff874</td>\n",
       "      <td>FINISHED</td>\n",
       "      <td>2025-01-14 12:24:13.462000+00:00</td>\n",
       "      <td>0.800839</td>\n",
       "      <td>1.608052</td>\n",
       "      <td>0.378896</td>\n",
       "      <td>-0.007448</td>\n",
       "      <td>0.000318</td>\n",
       "      <td>0.999139</td>\n",
       "      <td>979.0</td>\n",
       "      <td>...</td>\n",
       "      <td>8.0</td>\n",
       "      <td>14.0</td>\n",
       "      <td>1000.0</td>\n",
       "      <td>16.0</td>\n",
       "      <td>2.0</td>\n",
       "      <td>20.0</td>\n",
       "      <td>5.0</td>\n",
       "      <td>NaN</td>\n",
       "      <td>10000.0</td>\n",
       "      <td>0.0</td>\n",
       "    </tr>\n",
       "    <tr>\n",
       "      <th>6</th>\n",
       "      <td>6c55ced01a384ba4a375ce89cd7e4b7d</td>\n",
       "      <td>FINISHED</td>\n",
       "      <td>2025-01-14 12:17:11.854000+00:00</td>\n",
       "      <td>0.918721</td>\n",
       "      <td>1.325186</td>\n",
       "      <td>0.901205</td>\n",
       "      <td>0.120647</td>\n",
       "      <td>0.778805</td>\n",
       "      <td>0.823385</td>\n",
       "      <td>4.0</td>\n",
       "      <td>...</td>\n",
       "      <td>3.0</td>\n",
       "      <td>26.0</td>\n",
       "      <td>1000.0</td>\n",
       "      <td>16.0</td>\n",
       "      <td>2.0</td>\n",
       "      <td>50.0</td>\n",
       "      <td>5.0</td>\n",
       "      <td>NaN</td>\n",
       "      <td>10000.0</td>\n",
       "      <td>0.0</td>\n",
       "    </tr>\n",
       "    <tr>\n",
       "      <th>4</th>\n",
       "      <td>28dd7e4f287e444d82f6a2659633a969</td>\n",
       "      <td>FINISHED</td>\n",
       "      <td>2025-01-14 12:09:48.791000+00:00</td>\n",
       "      <td>0.801013</td>\n",
       "      <td>0.856509</td>\n",
       "      <td>0.582841</td>\n",
       "      <td>0.017844</td>\n",
       "      <td>0.473949</td>\n",
       "      <td>0.532179</td>\n",
       "      <td>5.0</td>\n",
       "      <td>...</td>\n",
       "      <td>2.0</td>\n",
       "      <td>17.0</td>\n",
       "      <td>1000.0</td>\n",
       "      <td>16.0</td>\n",
       "      <td>2.0</td>\n",
       "      <td>50.0</td>\n",
       "      <td>5.0</td>\n",
       "      <td>NaN</td>\n",
       "      <td>10000.0</td>\n",
       "      <td>0.0</td>\n",
       "    </tr>\n",
       "    <tr>\n",
       "      <th>15</th>\n",
       "      <td>e7194dedf12d4e728b639873f9557e93</td>\n",
       "      <td>FINISHED</td>\n",
       "      <td>2025-01-14 12:04:15.086000+00:00</td>\n",
       "      <td>0.759760</td>\n",
       "      <td>0.950271</td>\n",
       "      <td>0.742483</td>\n",
       "      <td>0.219962</td>\n",
       "      <td>0.481757</td>\n",
       "      <td>0.590436</td>\n",
       "      <td>3.0</td>\n",
       "      <td>...</td>\n",
       "      <td>2.0</td>\n",
       "      <td>17.0</td>\n",
       "      <td>1000.0</td>\n",
       "      <td>16.0</td>\n",
       "      <td>2.0</td>\n",
       "      <td>100.0</td>\n",
       "      <td>5.0</td>\n",
       "      <td>NaN</td>\n",
       "      <td>10000.0</td>\n",
       "      <td>0.0</td>\n",
       "    </tr>\n",
       "    <tr>\n",
       "      <th>14</th>\n",
       "      <td>d4ea4b639517400e86300f6e622d1864</td>\n",
       "      <td>FINISHED</td>\n",
       "      <td>2025-01-14 12:02:18.750000+00:00</td>\n",
       "      <td>0.919920</td>\n",
       "      <td>1.332179</td>\n",
       "      <td>0.905746</td>\n",
       "      <td>0.602651</td>\n",
       "      <td>0.781925</td>\n",
       "      <td>0.827729</td>\n",
       "      <td>4.0</td>\n",
       "      <td>...</td>\n",
       "      <td>2.0</td>\n",
       "      <td>17.0</td>\n",
       "      <td>1000.0</td>\n",
       "      <td>16.0</td>\n",
       "      <td>2.0</td>\n",
       "      <td>100.0</td>\n",
       "      <td>5.0</td>\n",
       "      <td>NaN</td>\n",
       "      <td>1000.0</td>\n",
       "      <td>0.0</td>\n",
       "    </tr>\n",
       "    <tr>\n",
       "      <th>3</th>\n",
       "      <td>164ccef678464a1fb555630331502e73</td>\n",
       "      <td>FINISHED</td>\n",
       "      <td>2025-01-14 11:01:41.091000+00:00</td>\n",
       "      <td>0.919920</td>\n",
       "      <td>1.332179</td>\n",
       "      <td>0.905746</td>\n",
       "      <td>0.720398</td>\n",
       "      <td>0.781925</td>\n",
       "      <td>0.827729</td>\n",
       "      <td>4.0</td>\n",
       "      <td>...</td>\n",
       "      <td>2.0</td>\n",
       "      <td>17.0</td>\n",
       "      <td>1000.0</td>\n",
       "      <td>16.0</td>\n",
       "      <td>2.0</td>\n",
       "      <td>100.0</td>\n",
       "      <td>5.0</td>\n",
       "      <td>NaN</td>\n",
       "      <td>100.0</td>\n",
       "      <td>0.0</td>\n",
       "    </tr>\n",
       "    <tr>\n",
       "      <th>16</th>\n",
       "      <td>f2e81dab9d0f4b1b8aeb333e01b24899</td>\n",
       "      <td>FINISHED</td>\n",
       "      <td>2024-12-12 15:01:42.840000+00:00</td>\n",
       "      <td>1.000000</td>\n",
       "      <td>1.609438</td>\n",
       "      <td>1.000000</td>\n",
       "      <td>0.497247</td>\n",
       "      <td>1.000000</td>\n",
       "      <td>1.000000</td>\n",
       "      <td>5.0</td>\n",
       "      <td>...</td>\n",
       "      <td>2.0</td>\n",
       "      <td>16.0</td>\n",
       "      <td>1000.0</td>\n",
       "      <td>0.0</td>\n",
       "      <td>10000.0</td>\n",
       "      <td>100.0</td>\n",
       "      <td>5.0</td>\n",
       "      <td>NaN</td>\n",
       "      <td>NaN</td>\n",
       "      <td>NaN</td>\n",
       "    </tr>\n",
       "    <tr>\n",
       "      <th>10</th>\n",
       "      <td>961c06819bea4b90b672e6d5ad66a4f3</td>\n",
       "      <td>FINISHED</td>\n",
       "      <td>2024-12-12 14:58:31.205000+00:00</td>\n",
       "      <td>1.000000</td>\n",
       "      <td>1.609438</td>\n",
       "      <td>1.000000</td>\n",
       "      <td>0.817589</td>\n",
       "      <td>1.000000</td>\n",
       "      <td>1.000000</td>\n",
       "      <td>5.0</td>\n",
       "      <td>...</td>\n",
       "      <td>5.0</td>\n",
       "      <td>26.0</td>\n",
       "      <td>1000.0</td>\n",
       "      <td>0.0</td>\n",
       "      <td>1000.0</td>\n",
       "      <td>100.0</td>\n",
       "      <td>5.0</td>\n",
       "      <td>NaN</td>\n",
       "      <td>NaN</td>\n",
       "      <td>NaN</td>\n",
       "    </tr>\n",
       "    <tr>\n",
       "      <th>9</th>\n",
       "      <td>908bb1e1d08543f3b44bdcd87e325e37</td>\n",
       "      <td>FINISHED</td>\n",
       "      <td>2024-12-12 14:54:45.842000+00:00</td>\n",
       "      <td>0.840454</td>\n",
       "      <td>1.586920</td>\n",
       "      <td>0.609275</td>\n",
       "      <td>-0.026546</td>\n",
       "      <td>0.287219</td>\n",
       "      <td>0.986009</td>\n",
       "      <td>75.0</td>\n",
       "      <td>...</td>\n",
       "      <td>3.0</td>\n",
       "      <td>13.0</td>\n",
       "      <td>1000.0</td>\n",
       "      <td>0.0</td>\n",
       "      <td>1000.0</td>\n",
       "      <td>10.0</td>\n",
       "      <td>5.0</td>\n",
       "      <td>NaN</td>\n",
       "      <td>NaN</td>\n",
       "      <td>NaN</td>\n",
       "    </tr>\n",
       "    <tr>\n",
       "      <th>11</th>\n",
       "      <td>9b47519f377044c78a7790d3c269db49</td>\n",
       "      <td>FINISHED</td>\n",
       "      <td>2024-12-12 14:34:22.607000+00:00</td>\n",
       "      <td>0.922641</td>\n",
       "      <td>1.609438</td>\n",
       "      <td>0.686815</td>\n",
       "      <td>0.220702</td>\n",
       "      <td>0.716111</td>\n",
       "      <td>1.000000</td>\n",
       "      <td>115.0</td>\n",
       "      <td>...</td>\n",
       "      <td>10.0</td>\n",
       "      <td>13.0</td>\n",
       "      <td>1000.0</td>\n",
       "      <td>0.0</td>\n",
       "      <td>100.0</td>\n",
       "      <td>10.0</td>\n",
       "      <td>5.0</td>\n",
       "      <td>NaN</td>\n",
       "      <td>NaN</td>\n",
       "      <td>NaN</td>\n",
       "    </tr>\n",
       "    <tr>\n",
       "      <th>7</th>\n",
       "      <td>771ecd1387a340378e2cfaaeee0385c9</td>\n",
       "      <td>FINISHED</td>\n",
       "      <td>2024-12-11 17:05:20.188000+00:00</td>\n",
       "      <td>0.980360</td>\n",
       "      <td>2.302585</td>\n",
       "      <td>0.848869</td>\n",
       "      <td>0.647089</td>\n",
       "      <td>0.879371</td>\n",
       "      <td>1.000000</td>\n",
       "      <td>144.0</td>\n",
       "      <td>...</td>\n",
       "      <td>10.0</td>\n",
       "      <td>4.0</td>\n",
       "      <td>1000.0</td>\n",
       "      <td>100.0</td>\n",
       "      <td>1000.0</td>\n",
       "      <td>100.0</td>\n",
       "      <td>10.0</td>\n",
       "      <td>NaN</td>\n",
       "      <td>NaN</td>\n",
       "      <td>NaN</td>\n",
       "    </tr>\n",
       "    <tr>\n",
       "      <th>17</th>\n",
       "      <td>fc7e2bdf2483437c918a09762c74c179</td>\n",
       "      <td>FINISHED</td>\n",
       "      <td>2024-12-11 16:55:31.615000+00:00</td>\n",
       "      <td>0.900901</td>\n",
       "      <td>2.302585</td>\n",
       "      <td>0.500000</td>\n",
       "      <td>-1.000000</td>\n",
       "      <td>0.000000</td>\n",
       "      <td>1.000000</td>\n",
       "      <td>1000.0</td>\n",
       "      <td>...</td>\n",
       "      <td>9.0</td>\n",
       "      <td>11.0</td>\n",
       "      <td>1000.0</td>\n",
       "      <td>100.0</td>\n",
       "      <td>10000.0</td>\n",
       "      <td>10.0</td>\n",
       "      <td>10.0</td>\n",
       "      <td>NaN</td>\n",
       "      <td>NaN</td>\n",
       "      <td>NaN</td>\n",
       "    </tr>\n",
       "    <tr>\n",
       "      <th>1</th>\n",
       "      <td>0f8163e503744dccb5479aa240bfe6f0</td>\n",
       "      <td>SCHEDULED</td>\n",
       "      <td>2024-12-11 16:53:16.089000+00:00</td>\n",
       "      <td>0.835752</td>\n",
       "      <td>0.138430</td>\n",
       "      <td>0.054941</td>\n",
       "      <td>-0.006138</td>\n",
       "      <td>0.001541</td>\n",
       "      <td>0.060119</td>\n",
       "      <td>26.0</td>\n",
       "      <td>...</td>\n",
       "      <td>8.0</td>\n",
       "      <td>30.0</td>\n",
       "      <td>1000.0</td>\n",
       "      <td>100.0</td>\n",
       "      <td>10000.0</td>\n",
       "      <td>10.0</td>\n",
       "      <td>10.0</td>\n",
       "      <td>NaN</td>\n",
       "      <td>NaN</td>\n",
       "      <td>NaN</td>\n",
       "    </tr>\n",
       "    <tr>\n",
       "      <th>8</th>\n",
       "      <td>85c841635fa9452da6ef7a492f902aa2</td>\n",
       "      <td>FINISHED</td>\n",
       "      <td>2024-12-11 16:35:04.560000+00:00</td>\n",
       "      <td>0.266505</td>\n",
       "      <td>0.161243</td>\n",
       "      <td>0.115192</td>\n",
       "      <td>-0.012436</td>\n",
       "      <td>0.003237</td>\n",
       "      <td>0.070027</td>\n",
       "      <td>6.0</td>\n",
       "      <td>...</td>\n",
       "      <td>NaN</td>\n",
       "      <td>NaN</td>\n",
       "      <td>1000.0</td>\n",
       "      <td>100.0</td>\n",
       "      <td>10000.0</td>\n",
       "      <td>10.0</td>\n",
       "      <td>10.0</td>\n",
       "      <td>7.0</td>\n",
       "      <td>NaN</td>\n",
       "      <td>NaN</td>\n",
       "    </tr>\n",
       "    <tr>\n",
       "      <th>13</th>\n",
       "      <td>d26ad16527dd406f817bdc29b034bdeb</td>\n",
       "      <td>FINISHED</td>\n",
       "      <td>2024-12-11 16:32:15.244000+00:00</td>\n",
       "      <td>0.090909</td>\n",
       "      <td>0.000000</td>\n",
       "      <td>0.000000</td>\n",
       "      <td>-1.000000</td>\n",
       "      <td>0.000000</td>\n",
       "      <td>0.000000</td>\n",
       "      <td>1.0</td>\n",
       "      <td>...</td>\n",
       "      <td>NaN</td>\n",
       "      <td>NaN</td>\n",
       "      <td>100.0</td>\n",
       "      <td>100.0</td>\n",
       "      <td>10000.0</td>\n",
       "      <td>10.0</td>\n",
       "      <td>10.0</td>\n",
       "      <td>7.0</td>\n",
       "      <td>NaN</td>\n",
       "      <td>NaN</td>\n",
       "    </tr>\n",
       "    <tr>\n",
       "      <th>5</th>\n",
       "      <td>41270a56708841d7b91de24c4a6c873a</td>\n",
       "      <td>FINISHED</td>\n",
       "      <td>2024-12-11 15:04:54.653000+00:00</td>\n",
       "      <td>0.909091</td>\n",
       "      <td>2.302585</td>\n",
       "      <td>0.666667</td>\n",
       "      <td>-1.000000</td>\n",
       "      <td>0.000000</td>\n",
       "      <td>1.000000</td>\n",
       "      <td>100.0</td>\n",
       "      <td>...</td>\n",
       "      <td>9.0</td>\n",
       "      <td>20.0</td>\n",
       "      <td>100.0</td>\n",
       "      <td>100.0</td>\n",
       "      <td>10000.0</td>\n",
       "      <td>10.0</td>\n",
       "      <td>10.0</td>\n",
       "      <td>NaN</td>\n",
       "      <td>NaN</td>\n",
       "      <td>NaN</td>\n",
       "    </tr>\n",
       "  </tbody>\n",
       "</table>\n",
       "<p>18 rows × 32 columns</p>\n",
       "</div>"
      ]
     },
     "execution_count": 8,
     "metadata": {},
     "output_type": "execute_result"
    }
   ],
   "execution_count": 8
  },
  {
   "cell_type": "code",
   "id": "05258ac1-852b-46b0-a941-0819edd21dfd",
   "metadata": {
    "ExecuteTime": {
     "end_time": "2025-01-16T13:34:09.438648Z",
     "start_time": "2025-01-16T13:34:09.436226Z"
    }
   },
   "source": [
    "recursive_clustering_dimensions = ['params.repetitions', 'params.kmeans_n_clusters', 'params.components_size', 'metrics.silhouette', 'metrics.adjusted_rand',\n",
    "                                   'metrics.n_clusters_']"
   ],
   "outputs": [],
   "execution_count": 9
  },
  {
   "cell_type": "code",
   "id": "61805c0a-995d-4472-9c5a-56c85f5f9925",
   "metadata": {
    "ExecuteTime": {
     "end_time": "2025-01-16T13:34:09.643455Z",
     "start_time": "2025-01-16T13:34:09.641104Z"
    }
   },
   "source": [
    "dimensions_dict = {\n",
    "    'RecursiveClustering': recursive_clustering_dimensions,\n",
    "}"
   ],
   "outputs": [],
   "execution_count": 10
  },
  {
   "cell_type": "code",
   "id": "6268b277f0bcf2e6",
   "metadata": {
    "ExecuteTime": {
     "end_time": "2025-01-16T13:34:37.022438Z",
     "start_time": "2025-01-16T13:34:36.992976Z"
    }
   },
   "source": [
    "parent_run_id = '6c55ced01a384ba4a375ce89cd7e4b7d'\n",
    "parent_run = parent_runs.loc[parent_runs['tags.parent_run_id']==parent_run_id]\n",
    "model_name = parent_run['params.model_nickname'].values[0]\n",
    "n_samples = parent_run['params.n_samples'].values[0]\n",
    "n_features = parent_run['params.n_features'].values[0]\n",
    "pct_random = parent_run['params.pct_random'].values[0]\n",
    "class_sep = parent_run['params.class_sep'].values[0]\n",
    "fig_title = f'{model_name}_{n_samples}_{n_features}_{pct_random}_{class_sep}'\n",
    "df = runs.loc[runs['tags.parent_run_id']==parent_run_id]\n",
    "# df = df.loc[df['metrics.n_clusters_'] < 10]\n",
    "fig = px.parallel_coordinates(df, dimensions=dimensions_dict[model_name], width=None, height=500, title=fig_title)\n",
    "fig.show()"
   ],
   "outputs": [
    {
     "data": {
      "application/vnd.plotly.v1+json": {
       "data": [
        {
         "dimensions": [
          {
           "label": "params.repetitions",
           "values": [
            3.0,
            3.0,
            3.0,
            3.0,
            3.0,
            4.0,
            3.0,
            4.0,
            3.0,
            3.0,
            4.0,
            3.0,
            3.0,
            3.0,
            3.0,
            3.0,
            3.0,
            4.0,
            3.0,
            3.0,
            3.0,
            10.0,
            3.0,
            3.0,
            5.0,
            3.0,
            4.0,
            6.0,
            3.0,
            3.0,
            3.0,
            5.0,
            4.0,
            3.0,
            4.0,
            9.0,
            3.0,
            3.0,
            3.0,
            3.0,
            3.0,
            3.0,
            3.0,
            9.0,
            3.0,
            3.0,
            3.0,
            4.0,
            3.0,
            3.0,
            4.0,
            3.0,
            5.0,
            3.0,
            3.0,
            3.0,
            3.0,
            3.0,
            3.0,
            3.0,
            6.0,
            3.0,
            3.0,
            3.0,
            3.0,
            4.0,
            5.0,
            6.0,
            5.0,
            5.0,
            6.0,
            3.0,
            5.0,
            7.0,
            6.0,
            3.0,
            5.0,
            5.0,
            5.0,
            3.0,
            6.0,
            4.0,
            3.0,
            4.0,
            5.0,
            5.0,
            10.0,
            10.0,
            9.0,
            8.0,
            8.0,
            6.0,
            9.0,
            3.0,
            10.0,
            9.0,
            10.0,
            6.0,
            8.0,
            10.0
           ]
          },
          {
           "label": "params.kmeans_n_clusters",
           "values": [
            3.0,
            5.0,
            5.0,
            5.0,
            4.0,
            6.0,
            5.0,
            5.0,
            7.0,
            5.0,
            3.0,
            5.0,
            2.0,
            5.0,
            4.0,
            4.0,
            4.0,
            5.0,
            4.0,
            4.0,
            3.0,
            2.0,
            5.0,
            5.0,
            4.0,
            5.0,
            4.0,
            10.0,
            4.0,
            3.0,
            4.0,
            6.0,
            4.0,
            6.0,
            4.0,
            7.0,
            4.0,
            5.0,
            4.0,
            6.0,
            3.0,
            5.0,
            4.0,
            7.0,
            6.0,
            5.0,
            4.0,
            5.0,
            4.0,
            5.0,
            5.0,
            6.0,
            6.0,
            5.0,
            4.0,
            4.0,
            5.0,
            6.0,
            5.0,
            8.0,
            6.0,
            5.0,
            5.0,
            4.0,
            4.0,
            2.0,
            2.0,
            2.0,
            3.0,
            2.0,
            2.0,
            9.0,
            4.0,
            10.0,
            5.0,
            2.0,
            4.0,
            2.0,
            2.0,
            2.0,
            3.0,
            5.0,
            2.0,
            2.0,
            2.0,
            2.0,
            4.0,
            4.0,
            2.0,
            2.0,
            3.0,
            9.0,
            10.0,
            9.0,
            2.0,
            6.0,
            10.0,
            7.0,
            7.0,
            3.0
           ]
          },
          {
           "label": "params.components_size",
           "values": [
            26.0,
            30.0,
            29.0,
            25.0,
            30.0,
            25.0,
            30.0,
            30.0,
            30.0,
            30.0,
            30.0,
            24.0,
            30.0,
            30.0,
            30.0,
            30.0,
            27.0,
            30.0,
            29.0,
            26.0,
            29.0,
            11.0,
            5.0,
            30.0,
            30.0,
            30.0,
            30.0,
            11.0,
            25.0,
            30.0,
            21.0,
            24.0,
            25.0,
            30.0,
            30.0,
            25.0,
            30.0,
            29.0,
            30.0,
            27.0,
            30.0,
            23.0,
            30.0,
            7.0,
            20.0,
            29.0,
            29.0,
            30.0,
            30.0,
            29.0,
            28.0,
            29.0,
            30.0,
            30.0,
            29.0,
            30.0,
            30.0,
            29.0,
            28.0,
            27.0,
            3.0,
            25.0,
            28.0,
            28.0,
            29.0,
            24.0,
            22.0,
            24.0,
            24.0,
            23.0,
            16.0,
            16.0,
            22.0,
            3.0,
            29.0,
            20.0,
            13.0,
            29.0,
            21.0,
            8.0,
            27.0,
            23.0,
            28.0,
            24.0,
            28.0,
            20.0,
            29.0,
            28.0,
            22.0,
            21.0,
            6.0,
            25.0,
            24.0,
            5.0,
            18.0,
            13.0,
            15.0,
            18.0,
            18.0,
            10.0
           ]
          },
          {
           "label": "metrics.silhouette",
           "values": [
            0.12064691127557822,
            0.16575447545232078,
            0.0750426300409423,
            0.09081773538731633,
            0.16575447545232078,
            -0.029197299677709437,
            0.16575447545232078,
            0.04682876824498412,
            0.12024145452181752,
            0.16575447545232078,
            0.16575447545232078,
            0.0012245020611296625,
            0.0602173255816938,
            0.16575447545232078,
            0.16575447545232078,
            0.16575447545232078,
            0.14103622620246115,
            0.04682876824498412,
            0.11553067588624523,
            0.12341539736257125,
            0.0181900636327831,
            0.05765902116384042,
            -0.06246453384436763,
            0.16575447545232078,
            0.05375370995491146,
            0.16575447545232078,
            0.10482026438595134,
            -0.10361911675182145,
            0.16488020552402735,
            0.1651673633712293,
            0.024335854373760873,
            -0.0073438636884966095,
            0.03422907028014134,
            0.07222262865844403,
            0.10482026438595134,
            -0.04985653103384584,
            0.16575447545232078,
            0.0750426300409423,
            0.16575447545232078,
            0.06089668650671585,
            0.1651673633712293,
            0.07500620035512838,
            0.16575447545232078,
            -0.14195400096773544,
            0.05412501473949078,
            0.0750426300409423,
            0.11553067588624523,
            0.04682876824498412,
            0.16575447545232078,
            0.0750426300409423,
            0.004254520449850023,
            0.058386399691667916,
            0.03067100052083763,
            0.16575447545232078,
            0.11553067588624523,
            0.16575447545232078,
            0.16575447545232078,
            0.058386399691667916,
            0.16575447545232078,
            0.02466682268851503,
            -0.131469104118025,
            0.09081773538731633,
            0.16575447545232078,
            0.1642678248501036,
            0.11553067588624523,
            0.12202434057390689,
            0.0671793407499037,
            0.06652727915808379,
            0.05983514436457141,
            0.09409049991446464,
            0.07369183796732887,
            -0.03942184575098204,
            0.008595132894399629,
            -0.012066042486486803,
            0.0926122912065806,
            0.048973678687916765,
            0.05092243276624639,
            0.06826510490114114,
            0.11155270514995806,
            0.0355260195544803,
            0.006385662080816176,
            0.06978643607306877,
            0.017172756612544013,
            0.12202434057390689,
            0.11419236733868626,
            0.08564833503694279,
            -0.024521410460129688,
            0.06997923884201238,
            0.06640166141416293,
            -9.187954860079519E-4,
            -0.06315542537696918,
            -0.06578831688611395,
            -0.04057319595756008,
            -0.12967220270557825,
            0.022468417494797138,
            -0.1054910360304562,
            -0.09193675602853987,
            -0.08737109670826206,
            -0.08111028755456916,
            -0.06959464759015911
           ]
          },
          {
           "label": "metrics.adjusted_rand",
           "values": [
            0.7788054983463996,
            1.0,
            0.9975050358608121,
            0.9888882671584229,
            1.0,
            0.8690367009684573,
            1.0,
            0.9363306774589018,
            0.9145115913317868,
            1.0,
            1.0,
            0.9924989025762153,
            0.19045132359254693,
            1.0,
            1.0,
            1.0,
            0.9987503111712674,
            0.9363306774589018,
            0.9962509618412633,
            0.9891426005928511,
            0.5935428376172378,
            0.8524827318008533,
            0.4196592014105431,
            1.0,
            0.9974987418596442,
            1.0,
            0.9987503111712674,
            0.4297753752140483,
            0.9974962343264018,
            0.9974962343264018,
            0.7612501032158385,
            0.8570016442614602,
            0.9876154392331666,
            0.9950278219824059,
            0.9987503111712674,
            0.6784071654305436,
            1.0,
            0.9975050358608121,
            1.0,
            0.9962578947353511,
            0.9974962343264018,
            0.9913139991550171,
            1.0,
            0.07922742484719746,
            0.9853513943406347,
            0.9975050358608121,
            0.9962509618412633,
            0.9363306774589018,
            1.0,
            0.9975050358608121,
            0.9900321590974127,
            0.9685355798790162,
            0.9343326768973211,
            1.0,
            0.9962509618412633,
            1.0,
            1.0,
            0.9685355798790162,
            1.0,
            0.7534011753420153,
            0.16208845457582616,
            0.9888882671584229,
            1.0,
            0.9949924875567209,
            0.9962509618412633,
            0.743136776295973,
            0.9258329075564425,
            0.7613292817963812,
            0.9600170147315418,
            0.7462759891977182,
            0.8707336033270704,
            0.6636576797715299,
            0.9732781676454897,
            4.667166221094789E-4,
            0.932194105275,
            0.20696052459099734,
            0.9260957018568915,
            0.755527626841638,
            0.6738967372790549,
            0.25350856404675604,
            0.9753810598594689,
            0.9900956627955443,
            0.4488178773501008,
            0.743136776295973,
            0.7658619326927837,
            0.6872751968793659,
            0.9264447534998723,
            0.9477818406929468,
            0.9360126614444507,
            0.9453153840685725,
            0.6415352308995104,
            0.6324714300366678,
            0.4226443791222451,
            0.191550069474138,
            0.913590530414587,
            0.36943055713786765,
            0.2904114695178335,
            0.5723753610653122,
            0.40110314301392613,
            0.6621143308318239
           ]
          },
          {
           "label": "metrics.n_clusters_",
           "values": [
            4.0,
            5.0,
            7.0,
            7.0,
            5.0,
            13.0,
            5.0,
            8.0,
            8.0,
            5.0,
            5.0,
            9.0,
            2.0,
            5.0,
            5.0,
            5.0,
            6.0,
            8.0,
            6.0,
            6.0,
            5.0,
            9.0,
            22.0,
            5.0,
            7.0,
            5.0,
            6.0,
            84.0,
            5.0,
            5.0,
            6.0,
            20.0,
            9.0,
            7.0,
            6.0,
            142.0,
            5.0,
            7.0,
            5.0,
            7.0,
            5.0,
            8.0,
            5.0,
            251.0,
            8.0,
            7.0,
            6.0,
            8.0,
            5.0,
            7.0,
            10.0,
            8.0,
            9.0,
            5.0,
            6.0,
            5.0,
            5.0,
            8.0,
            5.0,
            15.0,
            120.0,
            7.0,
            5.0,
            5.0,
            6.0,
            4.0,
            9.0,
            6.0,
            8.0,
            5.0,
            8.0,
            20.0,
            10.0,
            971.0,
            8.0,
            2.0,
            11.0,
            5.0,
            4.0,
            3.0,
            9.0,
            8.0,
            5.0,
            4.0,
            4.0,
            4.0,
            10.0,
            9.0,
            8.0,
            10.0,
            25.0,
            98.0,
            321.0,
            48.0,
            9.0,
            60.0,
            380.0,
            26.0,
            52.0,
            27.0
           ]
          }
         ],
         "domain": {
          "x": [
           0.0,
           1.0
          ],
          "y": [
           0.0,
           1.0
          ]
         },
         "name": "",
         "type": "parcoords"
        }
       ],
       "layout": {
        "template": {
         "data": {
          "histogram2dcontour": [
           {
            "type": "histogram2dcontour",
            "colorbar": {
             "outlinewidth": 0,
             "ticks": ""
            },
            "colorscale": [
             [
              0.0,
              "#0d0887"
             ],
             [
              0.1111111111111111,
              "#46039f"
             ],
             [
              0.2222222222222222,
              "#7201a8"
             ],
             [
              0.3333333333333333,
              "#9c179e"
             ],
             [
              0.4444444444444444,
              "#bd3786"
             ],
             [
              0.5555555555555556,
              "#d8576b"
             ],
             [
              0.6666666666666666,
              "#ed7953"
             ],
             [
              0.7777777777777778,
              "#fb9f3a"
             ],
             [
              0.8888888888888888,
              "#fdca26"
             ],
             [
              1.0,
              "#f0f921"
             ]
            ]
           }
          ],
          "choropleth": [
           {
            "type": "choropleth",
            "colorbar": {
             "outlinewidth": 0,
             "ticks": ""
            }
           }
          ],
          "histogram2d": [
           {
            "type": "histogram2d",
            "colorbar": {
             "outlinewidth": 0,
             "ticks": ""
            },
            "colorscale": [
             [
              0.0,
              "#0d0887"
             ],
             [
              0.1111111111111111,
              "#46039f"
             ],
             [
              0.2222222222222222,
              "#7201a8"
             ],
             [
              0.3333333333333333,
              "#9c179e"
             ],
             [
              0.4444444444444444,
              "#bd3786"
             ],
             [
              0.5555555555555556,
              "#d8576b"
             ],
             [
              0.6666666666666666,
              "#ed7953"
             ],
             [
              0.7777777777777778,
              "#fb9f3a"
             ],
             [
              0.8888888888888888,
              "#fdca26"
             ],
             [
              1.0,
              "#f0f921"
             ]
            ]
           }
          ],
          "heatmap": [
           {
            "type": "heatmap",
            "colorbar": {
             "outlinewidth": 0,
             "ticks": ""
            },
            "colorscale": [
             [
              0.0,
              "#0d0887"
             ],
             [
              0.1111111111111111,
              "#46039f"
             ],
             [
              0.2222222222222222,
              "#7201a8"
             ],
             [
              0.3333333333333333,
              "#9c179e"
             ],
             [
              0.4444444444444444,
              "#bd3786"
             ],
             [
              0.5555555555555556,
              "#d8576b"
             ],
             [
              0.6666666666666666,
              "#ed7953"
             ],
             [
              0.7777777777777778,
              "#fb9f3a"
             ],
             [
              0.8888888888888888,
              "#fdca26"
             ],
             [
              1.0,
              "#f0f921"
             ]
            ]
           }
          ],
          "heatmapgl": [
           {
            "type": "heatmapgl",
            "colorbar": {
             "outlinewidth": 0,
             "ticks": ""
            },
            "colorscale": [
             [
              0.0,
              "#0d0887"
             ],
             [
              0.1111111111111111,
              "#46039f"
             ],
             [
              0.2222222222222222,
              "#7201a8"
             ],
             [
              0.3333333333333333,
              "#9c179e"
             ],
             [
              0.4444444444444444,
              "#bd3786"
             ],
             [
              0.5555555555555556,
              "#d8576b"
             ],
             [
              0.6666666666666666,
              "#ed7953"
             ],
             [
              0.7777777777777778,
              "#fb9f3a"
             ],
             [
              0.8888888888888888,
              "#fdca26"
             ],
             [
              1.0,
              "#f0f921"
             ]
            ]
           }
          ],
          "contourcarpet": [
           {
            "type": "contourcarpet",
            "colorbar": {
             "outlinewidth": 0,
             "ticks": ""
            }
           }
          ],
          "contour": [
           {
            "type": "contour",
            "colorbar": {
             "outlinewidth": 0,
             "ticks": ""
            },
            "colorscale": [
             [
              0.0,
              "#0d0887"
             ],
             [
              0.1111111111111111,
              "#46039f"
             ],
             [
              0.2222222222222222,
              "#7201a8"
             ],
             [
              0.3333333333333333,
              "#9c179e"
             ],
             [
              0.4444444444444444,
              "#bd3786"
             ],
             [
              0.5555555555555556,
              "#d8576b"
             ],
             [
              0.6666666666666666,
              "#ed7953"
             ],
             [
              0.7777777777777778,
              "#fb9f3a"
             ],
             [
              0.8888888888888888,
              "#fdca26"
             ],
             [
              1.0,
              "#f0f921"
             ]
            ]
           }
          ],
          "surface": [
           {
            "type": "surface",
            "colorbar": {
             "outlinewidth": 0,
             "ticks": ""
            },
            "colorscale": [
             [
              0.0,
              "#0d0887"
             ],
             [
              0.1111111111111111,
              "#46039f"
             ],
             [
              0.2222222222222222,
              "#7201a8"
             ],
             [
              0.3333333333333333,
              "#9c179e"
             ],
             [
              0.4444444444444444,
              "#bd3786"
             ],
             [
              0.5555555555555556,
              "#d8576b"
             ],
             [
              0.6666666666666666,
              "#ed7953"
             ],
             [
              0.7777777777777778,
              "#fb9f3a"
             ],
             [
              0.8888888888888888,
              "#fdca26"
             ],
             [
              1.0,
              "#f0f921"
             ]
            ]
           }
          ],
          "mesh3d": [
           {
            "type": "mesh3d",
            "colorbar": {
             "outlinewidth": 0,
             "ticks": ""
            }
           }
          ],
          "scatter": [
           {
            "marker": {
             "line": {
              "color": "#283442"
             }
            },
            "type": "scatter"
           }
          ],
          "parcoords": [
           {
            "type": "parcoords",
            "line": {
             "colorbar": {
              "outlinewidth": 0,
              "ticks": ""
             }
            }
           }
          ],
          "scatterpolargl": [
           {
            "type": "scatterpolargl",
            "marker": {
             "colorbar": {
              "outlinewidth": 0,
              "ticks": ""
             }
            }
           }
          ],
          "bar": [
           {
            "error_x": {
             "color": "#f2f5fa"
            },
            "error_y": {
             "color": "#f2f5fa"
            },
            "marker": {
             "line": {
              "color": "rgb(17,17,17)",
              "width": 0.5
             },
             "pattern": {
              "fillmode": "overlay",
              "size": 10,
              "solidity": 0.2
             }
            },
            "type": "bar"
           }
          ],
          "scattergeo": [
           {
            "type": "scattergeo",
            "marker": {
             "colorbar": {
              "outlinewidth": 0,
              "ticks": ""
             }
            }
           }
          ],
          "scatterpolar": [
           {
            "type": "scatterpolar",
            "marker": {
             "colorbar": {
              "outlinewidth": 0,
              "ticks": ""
             }
            }
           }
          ],
          "histogram": [
           {
            "marker": {
             "pattern": {
              "fillmode": "overlay",
              "size": 10,
              "solidity": 0.2
             }
            },
            "type": "histogram"
           }
          ],
          "scattergl": [
           {
            "marker": {
             "line": {
              "color": "#283442"
             }
            },
            "type": "scattergl"
           }
          ],
          "scatter3d": [
           {
            "type": "scatter3d",
            "line": {
             "colorbar": {
              "outlinewidth": 0,
              "ticks": ""
             }
            },
            "marker": {
             "colorbar": {
              "outlinewidth": 0,
              "ticks": ""
             }
            }
           }
          ],
          "scattermapbox": [
           {
            "type": "scattermapbox",
            "marker": {
             "colorbar": {
              "outlinewidth": 0,
              "ticks": ""
             }
            }
           }
          ],
          "scatterternary": [
           {
            "type": "scatterternary",
            "marker": {
             "colorbar": {
              "outlinewidth": 0,
              "ticks": ""
             }
            }
           }
          ],
          "scattercarpet": [
           {
            "type": "scattercarpet",
            "marker": {
             "colorbar": {
              "outlinewidth": 0,
              "ticks": ""
             }
            }
           }
          ],
          "carpet": [
           {
            "aaxis": {
             "endlinecolor": "#A2B1C6",
             "gridcolor": "#506784",
             "linecolor": "#506784",
             "minorgridcolor": "#506784",
             "startlinecolor": "#A2B1C6"
            },
            "baxis": {
             "endlinecolor": "#A2B1C6",
             "gridcolor": "#506784",
             "linecolor": "#506784",
             "minorgridcolor": "#506784",
             "startlinecolor": "#A2B1C6"
            },
            "type": "carpet"
           }
          ],
          "table": [
           {
            "cells": {
             "fill": {
              "color": "#506784"
             },
             "line": {
              "color": "rgb(17,17,17)"
             }
            },
            "header": {
             "fill": {
              "color": "#2a3f5f"
             },
             "line": {
              "color": "rgb(17,17,17)"
             }
            },
            "type": "table"
           }
          ],
          "barpolar": [
           {
            "marker": {
             "line": {
              "color": "rgb(17,17,17)",
              "width": 0.5
             },
             "pattern": {
              "fillmode": "overlay",
              "size": 10,
              "solidity": 0.2
             }
            },
            "type": "barpolar"
           }
          ],
          "pie": [
           {
            "automargin": true,
            "type": "pie"
           }
          ]
         },
         "layout": {
          "autotypenumbers": "strict",
          "colorway": [
           "#636efa",
           "#EF553B",
           "#00cc96",
           "#ab63fa",
           "#FFA15A",
           "#19d3f3",
           "#FF6692",
           "#B6E880",
           "#FF97FF",
           "#FECB52"
          ],
          "font": {
           "color": "#f2f5fa"
          },
          "hovermode": "closest",
          "hoverlabel": {
           "align": "left"
          },
          "paper_bgcolor": "rgb(17,17,17)",
          "plot_bgcolor": "rgb(17,17,17)",
          "polar": {
           "bgcolor": "rgb(17,17,17)",
           "angularaxis": {
            "gridcolor": "#506784",
            "linecolor": "#506784",
            "ticks": ""
           },
           "radialaxis": {
            "gridcolor": "#506784",
            "linecolor": "#506784",
            "ticks": ""
           }
          },
          "ternary": {
           "bgcolor": "rgb(17,17,17)",
           "aaxis": {
            "gridcolor": "#506784",
            "linecolor": "#506784",
            "ticks": ""
           },
           "baxis": {
            "gridcolor": "#506784",
            "linecolor": "#506784",
            "ticks": ""
           },
           "caxis": {
            "gridcolor": "#506784",
            "linecolor": "#506784",
            "ticks": ""
           }
          },
          "coloraxis": {
           "colorbar": {
            "outlinewidth": 0,
            "ticks": ""
           }
          },
          "colorscale": {
           "sequential": [
            [
             0.0,
             "#0d0887"
            ],
            [
             0.1111111111111111,
             "#46039f"
            ],
            [
             0.2222222222222222,
             "#7201a8"
            ],
            [
             0.3333333333333333,
             "#9c179e"
            ],
            [
             0.4444444444444444,
             "#bd3786"
            ],
            [
             0.5555555555555556,
             "#d8576b"
            ],
            [
             0.6666666666666666,
             "#ed7953"
            ],
            [
             0.7777777777777778,
             "#fb9f3a"
            ],
            [
             0.8888888888888888,
             "#fdca26"
            ],
            [
             1.0,
             "#f0f921"
            ]
           ],
           "sequentialminus": [
            [
             0.0,
             "#0d0887"
            ],
            [
             0.1111111111111111,
             "#46039f"
            ],
            [
             0.2222222222222222,
             "#7201a8"
            ],
            [
             0.3333333333333333,
             "#9c179e"
            ],
            [
             0.4444444444444444,
             "#bd3786"
            ],
            [
             0.5555555555555556,
             "#d8576b"
            ],
            [
             0.6666666666666666,
             "#ed7953"
            ],
            [
             0.7777777777777778,
             "#fb9f3a"
            ],
            [
             0.8888888888888888,
             "#fdca26"
            ],
            [
             1.0,
             "#f0f921"
            ]
           ],
           "diverging": [
            [
             0,
             "#8e0152"
            ],
            [
             0.1,
             "#c51b7d"
            ],
            [
             0.2,
             "#de77ae"
            ],
            [
             0.3,
             "#f1b6da"
            ],
            [
             0.4,
             "#fde0ef"
            ],
            [
             0.5,
             "#f7f7f7"
            ],
            [
             0.6,
             "#e6f5d0"
            ],
            [
             0.7,
             "#b8e186"
            ],
            [
             0.8,
             "#7fbc41"
            ],
            [
             0.9,
             "#4d9221"
            ],
            [
             1,
             "#276419"
            ]
           ]
          },
          "xaxis": {
           "gridcolor": "#283442",
           "linecolor": "#506784",
           "ticks": "",
           "title": {
            "standoff": 15
           },
           "zerolinecolor": "#283442",
           "automargin": true,
           "zerolinewidth": 2
          },
          "yaxis": {
           "gridcolor": "#283442",
           "linecolor": "#506784",
           "ticks": "",
           "title": {
            "standoff": 15
           },
           "zerolinecolor": "#283442",
           "automargin": true,
           "zerolinewidth": 2
          },
          "scene": {
           "xaxis": {
            "backgroundcolor": "rgb(17,17,17)",
            "gridcolor": "#506784",
            "linecolor": "#506784",
            "showbackground": true,
            "ticks": "",
            "zerolinecolor": "#C8D4E3",
            "gridwidth": 2
           },
           "yaxis": {
            "backgroundcolor": "rgb(17,17,17)",
            "gridcolor": "#506784",
            "linecolor": "#506784",
            "showbackground": true,
            "ticks": "",
            "zerolinecolor": "#C8D4E3",
            "gridwidth": 2
           },
           "zaxis": {
            "backgroundcolor": "rgb(17,17,17)",
            "gridcolor": "#506784",
            "linecolor": "#506784",
            "showbackground": true,
            "ticks": "",
            "zerolinecolor": "#C8D4E3",
            "gridwidth": 2
           }
          },
          "shapedefaults": {
           "line": {
            "color": "#f2f5fa"
           }
          },
          "annotationdefaults": {
           "arrowcolor": "#f2f5fa",
           "arrowhead": 0,
           "arrowwidth": 1
          },
          "geo": {
           "bgcolor": "rgb(17,17,17)",
           "landcolor": "rgb(17,17,17)",
           "subunitcolor": "#506784",
           "showland": true,
           "showlakes": true,
           "lakecolor": "rgb(17,17,17)"
          },
          "title": {
           "x": 0.05
          },
          "updatemenudefaults": {
           "bgcolor": "#506784",
           "borderwidth": 0
          },
          "sliderdefaults": {
           "bgcolor": "#C8D4E3",
           "borderwidth": 1,
           "bordercolor": "rgb(17,17,17)",
           "tickwidth": 0
          },
          "mapbox": {
           "style": "dark"
          }
         }
        },
        "legend": {
         "tracegroupgap": 0
        },
        "title": {
         "text": "RecursiveClustering_1000.0_10000.0_0.0_50.0"
        },
        "height": 500
       },
       "config": {
        "plotlyServerURL": "https://plot.ly"
       }
      },
      "text/html": [
       "<div>                            <div id=\"efd2d561-a8be-47cb-a772-229356af50a0\" class=\"plotly-graph-div\" style=\"height:500px; width:100%;\"></div>            <script type=\"text/javascript\">                require([\"plotly\"], function(Plotly) {                    window.PLOTLYENV=window.PLOTLYENV || {};                                    if (document.getElementById(\"efd2d561-a8be-47cb-a772-229356af50a0\")) {                    Plotly.newPlot(                        \"efd2d561-a8be-47cb-a772-229356af50a0\",                        [{\"dimensions\":[{\"label\":\"params.repetitions\",\"values\":[3.0,3.0,3.0,3.0,3.0,4.0,3.0,4.0,3.0,3.0,4.0,3.0,3.0,3.0,3.0,3.0,3.0,4.0,3.0,3.0,3.0,10.0,3.0,3.0,5.0,3.0,4.0,6.0,3.0,3.0,3.0,5.0,4.0,3.0,4.0,9.0,3.0,3.0,3.0,3.0,3.0,3.0,3.0,9.0,3.0,3.0,3.0,4.0,3.0,3.0,4.0,3.0,5.0,3.0,3.0,3.0,3.0,3.0,3.0,3.0,6.0,3.0,3.0,3.0,3.0,4.0,5.0,6.0,5.0,5.0,6.0,3.0,5.0,7.0,6.0,3.0,5.0,5.0,5.0,3.0,6.0,4.0,3.0,4.0,5.0,5.0,10.0,10.0,9.0,8.0,8.0,6.0,9.0,3.0,10.0,9.0,10.0,6.0,8.0,10.0]},{\"label\":\"params.kmeans_n_clusters\",\"values\":[3.0,5.0,5.0,5.0,4.0,6.0,5.0,5.0,7.0,5.0,3.0,5.0,2.0,5.0,4.0,4.0,4.0,5.0,4.0,4.0,3.0,2.0,5.0,5.0,4.0,5.0,4.0,10.0,4.0,3.0,4.0,6.0,4.0,6.0,4.0,7.0,4.0,5.0,4.0,6.0,3.0,5.0,4.0,7.0,6.0,5.0,4.0,5.0,4.0,5.0,5.0,6.0,6.0,5.0,4.0,4.0,5.0,6.0,5.0,8.0,6.0,5.0,5.0,4.0,4.0,2.0,2.0,2.0,3.0,2.0,2.0,9.0,4.0,10.0,5.0,2.0,4.0,2.0,2.0,2.0,3.0,5.0,2.0,2.0,2.0,2.0,4.0,4.0,2.0,2.0,3.0,9.0,10.0,9.0,2.0,6.0,10.0,7.0,7.0,3.0]},{\"label\":\"params.components_size\",\"values\":[26.0,30.0,29.0,25.0,30.0,25.0,30.0,30.0,30.0,30.0,30.0,24.0,30.0,30.0,30.0,30.0,27.0,30.0,29.0,26.0,29.0,11.0,5.0,30.0,30.0,30.0,30.0,11.0,25.0,30.0,21.0,24.0,25.0,30.0,30.0,25.0,30.0,29.0,30.0,27.0,30.0,23.0,30.0,7.0,20.0,29.0,29.0,30.0,30.0,29.0,28.0,29.0,30.0,30.0,29.0,30.0,30.0,29.0,28.0,27.0,3.0,25.0,28.0,28.0,29.0,24.0,22.0,24.0,24.0,23.0,16.0,16.0,22.0,3.0,29.0,20.0,13.0,29.0,21.0,8.0,27.0,23.0,28.0,24.0,28.0,20.0,29.0,28.0,22.0,21.0,6.0,25.0,24.0,5.0,18.0,13.0,15.0,18.0,18.0,10.0]},{\"label\":\"metrics.silhouette\",\"values\":[0.12064691127557822,0.16575447545232078,0.0750426300409423,0.09081773538731633,0.16575447545232078,-0.029197299677709437,0.16575447545232078,0.04682876824498412,0.12024145452181752,0.16575447545232078,0.16575447545232078,0.0012245020611296625,0.0602173255816938,0.16575447545232078,0.16575447545232078,0.16575447545232078,0.14103622620246115,0.04682876824498412,0.11553067588624523,0.12341539736257125,0.0181900636327831,0.05765902116384042,-0.06246453384436763,0.16575447545232078,0.05375370995491146,0.16575447545232078,0.10482026438595134,-0.10361911675182145,0.16488020552402735,0.1651673633712293,0.024335854373760873,-0.0073438636884966095,0.03422907028014134,0.07222262865844403,0.10482026438595134,-0.04985653103384584,0.16575447545232078,0.0750426300409423,0.16575447545232078,0.06089668650671585,0.1651673633712293,0.07500620035512838,0.16575447545232078,-0.14195400096773544,0.05412501473949078,0.0750426300409423,0.11553067588624523,0.04682876824498412,0.16575447545232078,0.0750426300409423,0.004254520449850023,0.058386399691667916,0.03067100052083763,0.16575447545232078,0.11553067588624523,0.16575447545232078,0.16575447545232078,0.058386399691667916,0.16575447545232078,0.02466682268851503,-0.131469104118025,0.09081773538731633,0.16575447545232078,0.1642678248501036,0.11553067588624523,0.12202434057390689,0.0671793407499037,0.06652727915808379,0.05983514436457141,0.09409049991446464,0.07369183796732887,-0.03942184575098204,0.008595132894399629,-0.012066042486486803,0.0926122912065806,0.048973678687916765,0.05092243276624639,0.06826510490114114,0.11155270514995806,0.0355260195544803,0.006385662080816176,0.06978643607306877,0.017172756612544013,0.12202434057390689,0.11419236733868626,0.08564833503694279,-0.024521410460129688,0.06997923884201238,0.06640166141416293,-0.0009187954860079519,-0.06315542537696918,-0.06578831688611395,-0.04057319595756008,-0.12967220270557825,0.022468417494797138,-0.1054910360304562,-0.09193675602853987,-0.08737109670826206,-0.08111028755456916,-0.06959464759015911]},{\"label\":\"metrics.adjusted_rand\",\"values\":[0.7788054983463996,1.0,0.9975050358608121,0.9888882671584229,1.0,0.8690367009684573,1.0,0.9363306774589018,0.9145115913317868,1.0,1.0,0.9924989025762153,0.19045132359254693,1.0,1.0,1.0,0.9987503111712674,0.9363306774589018,0.9962509618412633,0.9891426005928511,0.5935428376172378,0.8524827318008533,0.4196592014105431,1.0,0.9974987418596442,1.0,0.9987503111712674,0.4297753752140483,0.9974962343264018,0.9974962343264018,0.7612501032158385,0.8570016442614602,0.9876154392331666,0.9950278219824059,0.9987503111712674,0.6784071654305436,1.0,0.9975050358608121,1.0,0.9962578947353511,0.9974962343264018,0.9913139991550171,1.0,0.07922742484719746,0.9853513943406347,0.9975050358608121,0.9962509618412633,0.9363306774589018,1.0,0.9975050358608121,0.9900321590974127,0.9685355798790162,0.9343326768973211,1.0,0.9962509618412633,1.0,1.0,0.9685355798790162,1.0,0.7534011753420153,0.16208845457582616,0.9888882671584229,1.0,0.9949924875567209,0.9962509618412633,0.743136776295973,0.9258329075564425,0.7613292817963812,0.9600170147315418,0.7462759891977182,0.8707336033270704,0.6636576797715299,0.9732781676454897,0.0004667166221094789,0.932194105275,0.20696052459099734,0.9260957018568915,0.755527626841638,0.6738967372790549,0.25350856404675604,0.9753810598594689,0.9900956627955443,0.4488178773501008,0.743136776295973,0.7658619326927837,0.6872751968793659,0.9264447534998723,0.9477818406929468,0.9360126614444507,0.9453153840685725,0.6415352308995104,0.6324714300366678,0.4226443791222451,0.191550069474138,0.913590530414587,0.36943055713786765,0.2904114695178335,0.5723753610653122,0.40110314301392613,0.6621143308318239]},{\"label\":\"metrics.n_clusters_\",\"values\":[4.0,5.0,7.0,7.0,5.0,13.0,5.0,8.0,8.0,5.0,5.0,9.0,2.0,5.0,5.0,5.0,6.0,8.0,6.0,6.0,5.0,9.0,22.0,5.0,7.0,5.0,6.0,84.0,5.0,5.0,6.0,20.0,9.0,7.0,6.0,142.0,5.0,7.0,5.0,7.0,5.0,8.0,5.0,251.0,8.0,7.0,6.0,8.0,5.0,7.0,10.0,8.0,9.0,5.0,6.0,5.0,5.0,8.0,5.0,15.0,120.0,7.0,5.0,5.0,6.0,4.0,9.0,6.0,8.0,5.0,8.0,20.0,10.0,971.0,8.0,2.0,11.0,5.0,4.0,3.0,9.0,8.0,5.0,4.0,4.0,4.0,10.0,9.0,8.0,10.0,25.0,98.0,321.0,48.0,9.0,60.0,380.0,26.0,52.0,27.0]}],\"domain\":{\"x\":[0.0,1.0],\"y\":[0.0,1.0]},\"name\":\"\",\"type\":\"parcoords\"}],                        {\"template\":{\"data\":{\"histogram2dcontour\":[{\"type\":\"histogram2dcontour\",\"colorbar\":{\"outlinewidth\":0,\"ticks\":\"\"},\"colorscale\":[[0.0,\"#0d0887\"],[0.1111111111111111,\"#46039f\"],[0.2222222222222222,\"#7201a8\"],[0.3333333333333333,\"#9c179e\"],[0.4444444444444444,\"#bd3786\"],[0.5555555555555556,\"#d8576b\"],[0.6666666666666666,\"#ed7953\"],[0.7777777777777778,\"#fb9f3a\"],[0.8888888888888888,\"#fdca26\"],[1.0,\"#f0f921\"]]}],\"choropleth\":[{\"type\":\"choropleth\",\"colorbar\":{\"outlinewidth\":0,\"ticks\":\"\"}}],\"histogram2d\":[{\"type\":\"histogram2d\",\"colorbar\":{\"outlinewidth\":0,\"ticks\":\"\"},\"colorscale\":[[0.0,\"#0d0887\"],[0.1111111111111111,\"#46039f\"],[0.2222222222222222,\"#7201a8\"],[0.3333333333333333,\"#9c179e\"],[0.4444444444444444,\"#bd3786\"],[0.5555555555555556,\"#d8576b\"],[0.6666666666666666,\"#ed7953\"],[0.7777777777777778,\"#fb9f3a\"],[0.8888888888888888,\"#fdca26\"],[1.0,\"#f0f921\"]]}],\"heatmap\":[{\"type\":\"heatmap\",\"colorbar\":{\"outlinewidth\":0,\"ticks\":\"\"},\"colorscale\":[[0.0,\"#0d0887\"],[0.1111111111111111,\"#46039f\"],[0.2222222222222222,\"#7201a8\"],[0.3333333333333333,\"#9c179e\"],[0.4444444444444444,\"#bd3786\"],[0.5555555555555556,\"#d8576b\"],[0.6666666666666666,\"#ed7953\"],[0.7777777777777778,\"#fb9f3a\"],[0.8888888888888888,\"#fdca26\"],[1.0,\"#f0f921\"]]}],\"heatmapgl\":[{\"type\":\"heatmapgl\",\"colorbar\":{\"outlinewidth\":0,\"ticks\":\"\"},\"colorscale\":[[0.0,\"#0d0887\"],[0.1111111111111111,\"#46039f\"],[0.2222222222222222,\"#7201a8\"],[0.3333333333333333,\"#9c179e\"],[0.4444444444444444,\"#bd3786\"],[0.5555555555555556,\"#d8576b\"],[0.6666666666666666,\"#ed7953\"],[0.7777777777777778,\"#fb9f3a\"],[0.8888888888888888,\"#fdca26\"],[1.0,\"#f0f921\"]]}],\"contourcarpet\":[{\"type\":\"contourcarpet\",\"colorbar\":{\"outlinewidth\":0,\"ticks\":\"\"}}],\"contour\":[{\"type\":\"contour\",\"colorbar\":{\"outlinewidth\":0,\"ticks\":\"\"},\"colorscale\":[[0.0,\"#0d0887\"],[0.1111111111111111,\"#46039f\"],[0.2222222222222222,\"#7201a8\"],[0.3333333333333333,\"#9c179e\"],[0.4444444444444444,\"#bd3786\"],[0.5555555555555556,\"#d8576b\"],[0.6666666666666666,\"#ed7953\"],[0.7777777777777778,\"#fb9f3a\"],[0.8888888888888888,\"#fdca26\"],[1.0,\"#f0f921\"]]}],\"surface\":[{\"type\":\"surface\",\"colorbar\":{\"outlinewidth\":0,\"ticks\":\"\"},\"colorscale\":[[0.0,\"#0d0887\"],[0.1111111111111111,\"#46039f\"],[0.2222222222222222,\"#7201a8\"],[0.3333333333333333,\"#9c179e\"],[0.4444444444444444,\"#bd3786\"],[0.5555555555555556,\"#d8576b\"],[0.6666666666666666,\"#ed7953\"],[0.7777777777777778,\"#fb9f3a\"],[0.8888888888888888,\"#fdca26\"],[1.0,\"#f0f921\"]]}],\"mesh3d\":[{\"type\":\"mesh3d\",\"colorbar\":{\"outlinewidth\":0,\"ticks\":\"\"}}],\"scatter\":[{\"marker\":{\"line\":{\"color\":\"#283442\"}},\"type\":\"scatter\"}],\"parcoords\":[{\"type\":\"parcoords\",\"line\":{\"colorbar\":{\"outlinewidth\":0,\"ticks\":\"\"}}}],\"scatterpolargl\":[{\"type\":\"scatterpolargl\",\"marker\":{\"colorbar\":{\"outlinewidth\":0,\"ticks\":\"\"}}}],\"bar\":[{\"error_x\":{\"color\":\"#f2f5fa\"},\"error_y\":{\"color\":\"#f2f5fa\"},\"marker\":{\"line\":{\"color\":\"rgb(17,17,17)\",\"width\":0.5},\"pattern\":{\"fillmode\":\"overlay\",\"size\":10,\"solidity\":0.2}},\"type\":\"bar\"}],\"scattergeo\":[{\"type\":\"scattergeo\",\"marker\":{\"colorbar\":{\"outlinewidth\":0,\"ticks\":\"\"}}}],\"scatterpolar\":[{\"type\":\"scatterpolar\",\"marker\":{\"colorbar\":{\"outlinewidth\":0,\"ticks\":\"\"}}}],\"histogram\":[{\"marker\":{\"pattern\":{\"fillmode\":\"overlay\",\"size\":10,\"solidity\":0.2}},\"type\":\"histogram\"}],\"scattergl\":[{\"marker\":{\"line\":{\"color\":\"#283442\"}},\"type\":\"scattergl\"}],\"scatter3d\":[{\"type\":\"scatter3d\",\"line\":{\"colorbar\":{\"outlinewidth\":0,\"ticks\":\"\"}},\"marker\":{\"colorbar\":{\"outlinewidth\":0,\"ticks\":\"\"}}}],\"scattermapbox\":[{\"type\":\"scattermapbox\",\"marker\":{\"colorbar\":{\"outlinewidth\":0,\"ticks\":\"\"}}}],\"scatterternary\":[{\"type\":\"scatterternary\",\"marker\":{\"colorbar\":{\"outlinewidth\":0,\"ticks\":\"\"}}}],\"scattercarpet\":[{\"type\":\"scattercarpet\",\"marker\":{\"colorbar\":{\"outlinewidth\":0,\"ticks\":\"\"}}}],\"carpet\":[{\"aaxis\":{\"endlinecolor\":\"#A2B1C6\",\"gridcolor\":\"#506784\",\"linecolor\":\"#506784\",\"minorgridcolor\":\"#506784\",\"startlinecolor\":\"#A2B1C6\"},\"baxis\":{\"endlinecolor\":\"#A2B1C6\",\"gridcolor\":\"#506784\",\"linecolor\":\"#506784\",\"minorgridcolor\":\"#506784\",\"startlinecolor\":\"#A2B1C6\"},\"type\":\"carpet\"}],\"table\":[{\"cells\":{\"fill\":{\"color\":\"#506784\"},\"line\":{\"color\":\"rgb(17,17,17)\"}},\"header\":{\"fill\":{\"color\":\"#2a3f5f\"},\"line\":{\"color\":\"rgb(17,17,17)\"}},\"type\":\"table\"}],\"barpolar\":[{\"marker\":{\"line\":{\"color\":\"rgb(17,17,17)\",\"width\":0.5},\"pattern\":{\"fillmode\":\"overlay\",\"size\":10,\"solidity\":0.2}},\"type\":\"barpolar\"}],\"pie\":[{\"automargin\":true,\"type\":\"pie\"}]},\"layout\":{\"autotypenumbers\":\"strict\",\"colorway\":[\"#636efa\",\"#EF553B\",\"#00cc96\",\"#ab63fa\",\"#FFA15A\",\"#19d3f3\",\"#FF6692\",\"#B6E880\",\"#FF97FF\",\"#FECB52\"],\"font\":{\"color\":\"#f2f5fa\"},\"hovermode\":\"closest\",\"hoverlabel\":{\"align\":\"left\"},\"paper_bgcolor\":\"rgb(17,17,17)\",\"plot_bgcolor\":\"rgb(17,17,17)\",\"polar\":{\"bgcolor\":\"rgb(17,17,17)\",\"angularaxis\":{\"gridcolor\":\"#506784\",\"linecolor\":\"#506784\",\"ticks\":\"\"},\"radialaxis\":{\"gridcolor\":\"#506784\",\"linecolor\":\"#506784\",\"ticks\":\"\"}},\"ternary\":{\"bgcolor\":\"rgb(17,17,17)\",\"aaxis\":{\"gridcolor\":\"#506784\",\"linecolor\":\"#506784\",\"ticks\":\"\"},\"baxis\":{\"gridcolor\":\"#506784\",\"linecolor\":\"#506784\",\"ticks\":\"\"},\"caxis\":{\"gridcolor\":\"#506784\",\"linecolor\":\"#506784\",\"ticks\":\"\"}},\"coloraxis\":{\"colorbar\":{\"outlinewidth\":0,\"ticks\":\"\"}},\"colorscale\":{\"sequential\":[[0.0,\"#0d0887\"],[0.1111111111111111,\"#46039f\"],[0.2222222222222222,\"#7201a8\"],[0.3333333333333333,\"#9c179e\"],[0.4444444444444444,\"#bd3786\"],[0.5555555555555556,\"#d8576b\"],[0.6666666666666666,\"#ed7953\"],[0.7777777777777778,\"#fb9f3a\"],[0.8888888888888888,\"#fdca26\"],[1.0,\"#f0f921\"]],\"sequentialminus\":[[0.0,\"#0d0887\"],[0.1111111111111111,\"#46039f\"],[0.2222222222222222,\"#7201a8\"],[0.3333333333333333,\"#9c179e\"],[0.4444444444444444,\"#bd3786\"],[0.5555555555555556,\"#d8576b\"],[0.6666666666666666,\"#ed7953\"],[0.7777777777777778,\"#fb9f3a\"],[0.8888888888888888,\"#fdca26\"],[1.0,\"#f0f921\"]],\"diverging\":[[0,\"#8e0152\"],[0.1,\"#c51b7d\"],[0.2,\"#de77ae\"],[0.3,\"#f1b6da\"],[0.4,\"#fde0ef\"],[0.5,\"#f7f7f7\"],[0.6,\"#e6f5d0\"],[0.7,\"#b8e186\"],[0.8,\"#7fbc41\"],[0.9,\"#4d9221\"],[1,\"#276419\"]]},\"xaxis\":{\"gridcolor\":\"#283442\",\"linecolor\":\"#506784\",\"ticks\":\"\",\"title\":{\"standoff\":15},\"zerolinecolor\":\"#283442\",\"automargin\":true,\"zerolinewidth\":2},\"yaxis\":{\"gridcolor\":\"#283442\",\"linecolor\":\"#506784\",\"ticks\":\"\",\"title\":{\"standoff\":15},\"zerolinecolor\":\"#283442\",\"automargin\":true,\"zerolinewidth\":2},\"scene\":{\"xaxis\":{\"backgroundcolor\":\"rgb(17,17,17)\",\"gridcolor\":\"#506784\",\"linecolor\":\"#506784\",\"showbackground\":true,\"ticks\":\"\",\"zerolinecolor\":\"#C8D4E3\",\"gridwidth\":2},\"yaxis\":{\"backgroundcolor\":\"rgb(17,17,17)\",\"gridcolor\":\"#506784\",\"linecolor\":\"#506784\",\"showbackground\":true,\"ticks\":\"\",\"zerolinecolor\":\"#C8D4E3\",\"gridwidth\":2},\"zaxis\":{\"backgroundcolor\":\"rgb(17,17,17)\",\"gridcolor\":\"#506784\",\"linecolor\":\"#506784\",\"showbackground\":true,\"ticks\":\"\",\"zerolinecolor\":\"#C8D4E3\",\"gridwidth\":2}},\"shapedefaults\":{\"line\":{\"color\":\"#f2f5fa\"}},\"annotationdefaults\":{\"arrowcolor\":\"#f2f5fa\",\"arrowhead\":0,\"arrowwidth\":1},\"geo\":{\"bgcolor\":\"rgb(17,17,17)\",\"landcolor\":\"rgb(17,17,17)\",\"subunitcolor\":\"#506784\",\"showland\":true,\"showlakes\":true,\"lakecolor\":\"rgb(17,17,17)\"},\"title\":{\"x\":0.05},\"updatemenudefaults\":{\"bgcolor\":\"#506784\",\"borderwidth\":0},\"sliderdefaults\":{\"bgcolor\":\"#C8D4E3\",\"borderwidth\":1,\"bordercolor\":\"rgb(17,17,17)\",\"tickwidth\":0},\"mapbox\":{\"style\":\"dark\"}}},\"legend\":{\"tracegroupgap\":0},\"title\":{\"text\":\"RecursiveClustering_1000.0_10000.0_0.0_50.0\"},\"height\":500},                        {\"responsive\": true}                    ).then(function(){\n",
       "                            \n",
       "var gd = document.getElementById('efd2d561-a8be-47cb-a772-229356af50a0');\n",
       "var x = new MutationObserver(function (mutations, observer) {{\n",
       "        var display = window.getComputedStyle(gd).display;\n",
       "        if (!display || display === 'none') {{\n",
       "            console.log([gd, 'removed!']);\n",
       "            Plotly.purge(gd);\n",
       "            observer.disconnect();\n",
       "        }}\n",
       "}});\n",
       "\n",
       "// Listen for the removal of the full notebook cells\n",
       "var notebookContainer = gd.closest('#notebook-container');\n",
       "if (notebookContainer) {{\n",
       "    x.observe(notebookContainer, {childList: true});\n",
       "}}\n",
       "\n",
       "// Listen for the clearing of the current output cell\n",
       "var outputEl = gd.closest('.output');\n",
       "if (outputEl) {{\n",
       "    x.observe(outputEl, {childList: true});\n",
       "}}\n",
       "\n",
       "                        })                };                });            </script>        </div>"
      ]
     },
     "metadata": {},
     "output_type": "display_data"
    }
   ],
   "execution_count": 12
  },
  {
   "metadata": {
    "ExecuteTime": {
     "end_time": "2025-01-16T15:48:07.190328Z",
     "start_time": "2025-01-16T15:48:05.781087Z"
    }
   },
   "cell_type": "code",
   "source": [
    "parent_run_id = '6c55ced01a384ba4a375ce89cd7e4b7d'\n",
    "parent_run = parent_runs.loc[parent_runs['tags.parent_run_id']==parent_run_id]\n",
    "model_name = parent_run['params.model_nickname'].values[0]\n",
    "n_samples = parent_run['params.n_samples'].values[0]\n",
    "n_informative = parent_run['params.n_informative'].values[0]\n",
    "n_random = parent_run['params.n_random'].values[0]\n",
    "class_sep = parent_run['params.class_sep'].values[0]\n",
    "df = runs.loc[runs['tags.parent_run_id']==parent_run_id]\n",
    "df = df.rename(columns={'params.repetitions': 'N. Repetitions', 'params.kmeans_n_clusters': 'N. KMeans Clusters', 'params.components_size': 'N. Components', 'metrics.silhouette': 'Silhouette Score', 'metrics.adjusted_rand': 'Adjusted Rand Index', 'metrics.n_clusters_': 'N. Clusters'})\n",
    "df = df.loc[df['N. Clusters'] < 40]\n",
    "fig = px.parallel_coordinates(df, dimensions=['N. Repetitions', 'N. KMeans Clusters', 'N. Components', 'Silhouette Score', 'Adjusted Rand Index', 'N. Clusters'], color='Silhouette Score', color_continuous_scale=['#e6b0aa', 'green'], range_color=[0.15, 0.16], template='presentation')\n",
    "fig.update_layout({\n",
    "    'font': {\n",
    "        'color': 'black',\n",
    "        'size': 15\n",
    "    },\n",
    "    'xaxis': {\n",
    "        'color': 'black',\n",
    "        'title': {'standoff': 15},\n",
    "    }, \n",
    "    'yaxis': {\n",
    "        'color': 'black',\n",
    "    },\n",
    "    'margin': {\n",
    "        't': 50,\n",
    "        'b': 30,\n",
    "        'l': 70,\n",
    "        'r': 70,\n",
    "    },\n",
    "    # 'coloraxis': {\n",
    "    #     'colorbar': {\n",
    "    #         'orientation': 'h',\n",
    "    #         'yanchor': 'bottom',\n",
    "    #         'y': -0.4,\n",
    "    #         'xanchor': 'left',\n",
    "    #         'x': 0,\n",
    "    #     },\n",
    "    # }\n",
    "})\n",
    "fig.update_coloraxes(showscale=False)\n",
    "fig.write_image(f'results/parallel-plot_{class_sep}class-sep_{n_samples}n-samples_{n_features}n-features.pdf')\n",
    "fig.show()"
   ],
   "id": "447667d710f69a6d",
   "outputs": [
    {
     "data": {
      "application/vnd.plotly.v1+json": {
       "data": [
        {
         "dimensions": [
          {
           "label": "N. Repetitions",
           "values": [
            3.0,
            3.0,
            3.0,
            3.0,
            3.0,
            4.0,
            3.0,
            4.0,
            3.0,
            3.0,
            4.0,
            3.0,
            3.0,
            3.0,
            3.0,
            3.0,
            3.0,
            4.0,
            3.0,
            3.0,
            3.0,
            10.0,
            3.0,
            3.0,
            5.0,
            3.0,
            4.0,
            3.0,
            3.0,
            3.0,
            5.0,
            4.0,
            3.0,
            4.0,
            3.0,
            3.0,
            3.0,
            3.0,
            3.0,
            3.0,
            3.0,
            3.0,
            3.0,
            3.0,
            4.0,
            3.0,
            3.0,
            4.0,
            3.0,
            5.0,
            3.0,
            3.0,
            3.0,
            3.0,
            3.0,
            3.0,
            3.0,
            3.0,
            3.0,
            3.0,
            3.0,
            4.0,
            5.0,
            6.0,
            5.0,
            5.0,
            6.0,
            3.0,
            5.0,
            6.0,
            3.0,
            5.0,
            5.0,
            5.0,
            3.0,
            6.0,
            4.0,
            3.0,
            4.0,
            5.0,
            5.0,
            10.0,
            10.0,
            9.0,
            8.0,
            8.0,
            10.0,
            6.0,
            10.0
           ]
          },
          {
           "label": "N. KMeans Clusters",
           "values": [
            3.0,
            5.0,
            5.0,
            5.0,
            4.0,
            6.0,
            5.0,
            5.0,
            7.0,
            5.0,
            3.0,
            5.0,
            2.0,
            5.0,
            4.0,
            4.0,
            4.0,
            5.0,
            4.0,
            4.0,
            3.0,
            2.0,
            5.0,
            5.0,
            4.0,
            5.0,
            4.0,
            4.0,
            3.0,
            4.0,
            6.0,
            4.0,
            6.0,
            4.0,
            4.0,
            5.0,
            4.0,
            6.0,
            3.0,
            5.0,
            4.0,
            6.0,
            5.0,
            4.0,
            5.0,
            4.0,
            5.0,
            5.0,
            6.0,
            6.0,
            5.0,
            4.0,
            4.0,
            5.0,
            6.0,
            5.0,
            8.0,
            5.0,
            5.0,
            4.0,
            4.0,
            2.0,
            2.0,
            2.0,
            3.0,
            2.0,
            2.0,
            9.0,
            4.0,
            5.0,
            2.0,
            4.0,
            2.0,
            2.0,
            2.0,
            3.0,
            5.0,
            2.0,
            2.0,
            2.0,
            2.0,
            4.0,
            4.0,
            2.0,
            2.0,
            3.0,
            2.0,
            7.0,
            3.0
           ]
          },
          {
           "label": "N. Components",
           "values": [
            26.0,
            30.0,
            29.0,
            25.0,
            30.0,
            25.0,
            30.0,
            30.0,
            30.0,
            30.0,
            30.0,
            24.0,
            30.0,
            30.0,
            30.0,
            30.0,
            27.0,
            30.0,
            29.0,
            26.0,
            29.0,
            11.0,
            5.0,
            30.0,
            30.0,
            30.0,
            30.0,
            25.0,
            30.0,
            21.0,
            24.0,
            25.0,
            30.0,
            30.0,
            30.0,
            29.0,
            30.0,
            27.0,
            30.0,
            23.0,
            30.0,
            20.0,
            29.0,
            29.0,
            30.0,
            30.0,
            29.0,
            28.0,
            29.0,
            30.0,
            30.0,
            29.0,
            30.0,
            30.0,
            29.0,
            28.0,
            27.0,
            25.0,
            28.0,
            28.0,
            29.0,
            24.0,
            22.0,
            24.0,
            24.0,
            23.0,
            16.0,
            16.0,
            22.0,
            29.0,
            20.0,
            13.0,
            29.0,
            21.0,
            8.0,
            27.0,
            23.0,
            28.0,
            24.0,
            28.0,
            20.0,
            29.0,
            28.0,
            22.0,
            21.0,
            6.0,
            18.0,
            18.0,
            10.0
           ]
          },
          {
           "label": "Silhouette Score",
           "values": [
            0.12064691127557822,
            0.16575447545232078,
            0.0750426300409423,
            0.09081773538731633,
            0.16575447545232078,
            -0.029197299677709437,
            0.16575447545232078,
            0.04682876824498412,
            0.12024145452181752,
            0.16575447545232078,
            0.16575447545232078,
            0.0012245020611296625,
            0.0602173255816938,
            0.16575447545232078,
            0.16575447545232078,
            0.16575447545232078,
            0.14103622620246115,
            0.04682876824498412,
            0.11553067588624523,
            0.12341539736257125,
            0.0181900636327831,
            0.05765902116384042,
            -0.06246453384436763,
            0.16575447545232078,
            0.05375370995491146,
            0.16575447545232078,
            0.10482026438595134,
            0.16488020552402735,
            0.1651673633712293,
            0.024335854373760873,
            -0.0073438636884966095,
            0.03422907028014134,
            0.07222262865844403,
            0.10482026438595134,
            0.16575447545232078,
            0.0750426300409423,
            0.16575447545232078,
            0.06089668650671585,
            0.1651673633712293,
            0.07500620035512838,
            0.16575447545232078,
            0.05412501473949078,
            0.0750426300409423,
            0.11553067588624523,
            0.04682876824498412,
            0.16575447545232078,
            0.0750426300409423,
            0.004254520449850023,
            0.058386399691667916,
            0.03067100052083763,
            0.16575447545232078,
            0.11553067588624523,
            0.16575447545232078,
            0.16575447545232078,
            0.058386399691667916,
            0.16575447545232078,
            0.02466682268851503,
            0.09081773538731633,
            0.16575447545232078,
            0.1642678248501036,
            0.11553067588624523,
            0.12202434057390689,
            0.0671793407499037,
            0.06652727915808379,
            0.05983514436457141,
            0.09409049991446464,
            0.07369183796732887,
            -0.03942184575098204,
            0.008595132894399629,
            0.0926122912065806,
            0.048973678687916765,
            0.05092243276624639,
            0.06826510490114114,
            0.11155270514995806,
            0.0355260195544803,
            0.006385662080816176,
            0.06978643607306877,
            0.017172756612544013,
            0.12202434057390689,
            0.11419236733868626,
            0.08564833503694279,
            -0.024521410460129688,
            0.06997923884201238,
            0.06640166141416293,
            -9.187954860079519E-4,
            -0.06315542537696918,
            0.022468417494797138,
            -0.08737109670826206,
            -0.06959464759015911
           ]
          },
          {
           "label": "Adjusted Rand Index",
           "values": [
            0.7788054983463996,
            1.0,
            0.9975050358608121,
            0.9888882671584229,
            1.0,
            0.8690367009684573,
            1.0,
            0.9363306774589018,
            0.9145115913317868,
            1.0,
            1.0,
            0.9924989025762153,
            0.19045132359254693,
            1.0,
            1.0,
            1.0,
            0.9987503111712674,
            0.9363306774589018,
            0.9962509618412633,
            0.9891426005928511,
            0.5935428376172378,
            0.8524827318008533,
            0.4196592014105431,
            1.0,
            0.9974987418596442,
            1.0,
            0.9987503111712674,
            0.9974962343264018,
            0.9974962343264018,
            0.7612501032158385,
            0.8570016442614602,
            0.9876154392331666,
            0.9950278219824059,
            0.9987503111712674,
            1.0,
            0.9975050358608121,
            1.0,
            0.9962578947353511,
            0.9974962343264018,
            0.9913139991550171,
            1.0,
            0.9853513943406347,
            0.9975050358608121,
            0.9962509618412633,
            0.9363306774589018,
            1.0,
            0.9975050358608121,
            0.9900321590974127,
            0.9685355798790162,
            0.9343326768973211,
            1.0,
            0.9962509618412633,
            1.0,
            1.0,
            0.9685355798790162,
            1.0,
            0.7534011753420153,
            0.9888882671584229,
            1.0,
            0.9949924875567209,
            0.9962509618412633,
            0.743136776295973,
            0.9258329075564425,
            0.7613292817963812,
            0.9600170147315418,
            0.7462759891977182,
            0.8707336033270704,
            0.6636576797715299,
            0.9732781676454897,
            0.932194105275,
            0.20696052459099734,
            0.9260957018568915,
            0.755527626841638,
            0.6738967372790549,
            0.25350856404675604,
            0.9753810598594689,
            0.9900956627955443,
            0.4488178773501008,
            0.743136776295973,
            0.7658619326927837,
            0.6872751968793659,
            0.9264447534998723,
            0.9477818406929468,
            0.9360126614444507,
            0.9453153840685725,
            0.6415352308995104,
            0.913590530414587,
            0.5723753610653122,
            0.6621143308318239
           ]
          },
          {
           "label": "N. Clusters",
           "values": [
            4.0,
            5.0,
            7.0,
            7.0,
            5.0,
            13.0,
            5.0,
            8.0,
            8.0,
            5.0,
            5.0,
            9.0,
            2.0,
            5.0,
            5.0,
            5.0,
            6.0,
            8.0,
            6.0,
            6.0,
            5.0,
            9.0,
            22.0,
            5.0,
            7.0,
            5.0,
            6.0,
            5.0,
            5.0,
            6.0,
            20.0,
            9.0,
            7.0,
            6.0,
            5.0,
            7.0,
            5.0,
            7.0,
            5.0,
            8.0,
            5.0,
            8.0,
            7.0,
            6.0,
            8.0,
            5.0,
            7.0,
            10.0,
            8.0,
            9.0,
            5.0,
            6.0,
            5.0,
            5.0,
            8.0,
            5.0,
            15.0,
            7.0,
            5.0,
            5.0,
            6.0,
            4.0,
            9.0,
            6.0,
            8.0,
            5.0,
            8.0,
            20.0,
            10.0,
            8.0,
            2.0,
            11.0,
            5.0,
            4.0,
            3.0,
            9.0,
            8.0,
            5.0,
            4.0,
            4.0,
            4.0,
            10.0,
            9.0,
            8.0,
            10.0,
            25.0,
            9.0,
            26.0,
            27.0
           ]
          }
         ],
         "domain": {
          "x": [
           0.0,
           1.0
          ],
          "y": [
           0.0,
           1.0
          ]
         },
         "line": {
          "color": [
           0.12064691127557822,
           0.16575447545232078,
           0.0750426300409423,
           0.09081773538731633,
           0.16575447545232078,
           -0.029197299677709437,
           0.16575447545232078,
           0.04682876824498412,
           0.12024145452181752,
           0.16575447545232078,
           0.16575447545232078,
           0.0012245020611296625,
           0.0602173255816938,
           0.16575447545232078,
           0.16575447545232078,
           0.16575447545232078,
           0.14103622620246115,
           0.04682876824498412,
           0.11553067588624523,
           0.12341539736257125,
           0.0181900636327831,
           0.05765902116384042,
           -0.06246453384436763,
           0.16575447545232078,
           0.05375370995491146,
           0.16575447545232078,
           0.10482026438595134,
           0.16488020552402735,
           0.1651673633712293,
           0.024335854373760873,
           -0.0073438636884966095,
           0.03422907028014134,
           0.07222262865844403,
           0.10482026438595134,
           0.16575447545232078,
           0.0750426300409423,
           0.16575447545232078,
           0.06089668650671585,
           0.1651673633712293,
           0.07500620035512838,
           0.16575447545232078,
           0.05412501473949078,
           0.0750426300409423,
           0.11553067588624523,
           0.04682876824498412,
           0.16575447545232078,
           0.0750426300409423,
           0.004254520449850023,
           0.058386399691667916,
           0.03067100052083763,
           0.16575447545232078,
           0.11553067588624523,
           0.16575447545232078,
           0.16575447545232078,
           0.058386399691667916,
           0.16575447545232078,
           0.02466682268851503,
           0.09081773538731633,
           0.16575447545232078,
           0.1642678248501036,
           0.11553067588624523,
           0.12202434057390689,
           0.0671793407499037,
           0.06652727915808379,
           0.05983514436457141,
           0.09409049991446464,
           0.07369183796732887,
           -0.03942184575098204,
           0.008595132894399629,
           0.0926122912065806,
           0.048973678687916765,
           0.05092243276624639,
           0.06826510490114114,
           0.11155270514995806,
           0.0355260195544803,
           0.006385662080816176,
           0.06978643607306877,
           0.017172756612544013,
           0.12202434057390689,
           0.11419236733868626,
           0.08564833503694279,
           -0.024521410460129688,
           0.06997923884201238,
           0.06640166141416293,
           -9.187954860079519E-4,
           -0.06315542537696918,
           0.022468417494797138,
           -0.08737109670826206,
           -0.06959464759015911
          ],
          "coloraxis": "coloraxis"
         },
         "name": "",
         "type": "parcoords"
        }
       ],
       "layout": {
        "template": {
         "data": {
          "pie": [
           {
            "automargin": true,
            "type": "pie"
           }
          ],
          "scatter3d": [
           {
            "line": {
             "width": 3
            },
            "marker": {
             "size": 9
            },
            "type": "scatter3d"
           }
          ],
          "scattergeo": [
           {
            "line": {
             "width": 3
            },
            "marker": {
             "size": 9
            },
            "type": "scattergeo"
           }
          ],
          "scattergl": [
           {
            "line": {
             "width": 3
            },
            "marker": {
             "size": 9
            },
            "type": "scattergl"
           }
          ],
          "scatterpolargl": [
           {
            "line": {
             "width": 3
            },
            "marker": {
             "size": 9
            },
            "type": "scatterpolargl"
           }
          ],
          "scatterpolar": [
           {
            "line": {
             "width": 3
            },
            "marker": {
             "size": 9
            },
            "type": "scatterpolar"
           }
          ],
          "scatter": [
           {
            "line": {
             "width": 3
            },
            "marker": {
             "size": 9
            },
            "type": "scatter"
           }
          ],
          "scatterternary": [
           {
            "line": {
             "width": 3
            },
            "marker": {
             "size": 9
            },
            "type": "scatterternary"
           }
          ],
          "table": [
           {
            "cells": {
             "height": 30
            },
            "header": {
             "height": 36
            },
            "type": "table"
           }
          ]
         },
         "layout": {
          "font": {
           "size": 18
          },
          "xaxis": {
           "title": {
            "standoff": 15
           }
          },
          "yaxis": {
           "title": {
            "standoff": 15
           }
          }
         }
        },
        "coloraxis": {
         "colorbar": {
          "title": {
           "text": "Silhouette Score"
          }
         },
         "colorscale": [
          [
           0.0,
           "#e6b0aa"
          ],
          [
           1.0,
           "green"
          ]
         ],
         "cmin": 0.15,
         "cmax": 0.16,
         "showscale": false
        },
        "legend": {
         "tracegroupgap": 0
        },
        "margin": {
         "t": 50,
         "b": 30,
         "l": 70,
         "r": 70
        },
        "font": {
         "color": "black",
         "size": 15
        },
        "xaxis": {
         "title": {
          "standoff": 15
         },
         "color": "black"
        },
        "yaxis": {
         "color": "black"
        }
       },
       "config": {
        "plotlyServerURL": "https://plot.ly"
       }
      },
      "text/html": [
       "<div>                            <div id=\"1244d7c8-88a1-43cc-9e4c-a22ac89a234f\" class=\"plotly-graph-div\" style=\"height:525px; width:100%;\"></div>            <script type=\"text/javascript\">                require([\"plotly\"], function(Plotly) {                    window.PLOTLYENV=window.PLOTLYENV || {};                                    if (document.getElementById(\"1244d7c8-88a1-43cc-9e4c-a22ac89a234f\")) {                    Plotly.newPlot(                        \"1244d7c8-88a1-43cc-9e4c-a22ac89a234f\",                        [{\"dimensions\":[{\"label\":\"N. Repetitions\",\"values\":[3.0,3.0,3.0,3.0,3.0,4.0,3.0,4.0,3.0,3.0,4.0,3.0,3.0,3.0,3.0,3.0,3.0,4.0,3.0,3.0,3.0,10.0,3.0,3.0,5.0,3.0,4.0,3.0,3.0,3.0,5.0,4.0,3.0,4.0,3.0,3.0,3.0,3.0,3.0,3.0,3.0,3.0,3.0,3.0,4.0,3.0,3.0,4.0,3.0,5.0,3.0,3.0,3.0,3.0,3.0,3.0,3.0,3.0,3.0,3.0,3.0,4.0,5.0,6.0,5.0,5.0,6.0,3.0,5.0,6.0,3.0,5.0,5.0,5.0,3.0,6.0,4.0,3.0,4.0,5.0,5.0,10.0,10.0,9.0,8.0,8.0,10.0,6.0,10.0]},{\"label\":\"N. KMeans Clusters\",\"values\":[3.0,5.0,5.0,5.0,4.0,6.0,5.0,5.0,7.0,5.0,3.0,5.0,2.0,5.0,4.0,4.0,4.0,5.0,4.0,4.0,3.0,2.0,5.0,5.0,4.0,5.0,4.0,4.0,3.0,4.0,6.0,4.0,6.0,4.0,4.0,5.0,4.0,6.0,3.0,5.0,4.0,6.0,5.0,4.0,5.0,4.0,5.0,5.0,6.0,6.0,5.0,4.0,4.0,5.0,6.0,5.0,8.0,5.0,5.0,4.0,4.0,2.0,2.0,2.0,3.0,2.0,2.0,9.0,4.0,5.0,2.0,4.0,2.0,2.0,2.0,3.0,5.0,2.0,2.0,2.0,2.0,4.0,4.0,2.0,2.0,3.0,2.0,7.0,3.0]},{\"label\":\"N. Components\",\"values\":[26.0,30.0,29.0,25.0,30.0,25.0,30.0,30.0,30.0,30.0,30.0,24.0,30.0,30.0,30.0,30.0,27.0,30.0,29.0,26.0,29.0,11.0,5.0,30.0,30.0,30.0,30.0,25.0,30.0,21.0,24.0,25.0,30.0,30.0,30.0,29.0,30.0,27.0,30.0,23.0,30.0,20.0,29.0,29.0,30.0,30.0,29.0,28.0,29.0,30.0,30.0,29.0,30.0,30.0,29.0,28.0,27.0,25.0,28.0,28.0,29.0,24.0,22.0,24.0,24.0,23.0,16.0,16.0,22.0,29.0,20.0,13.0,29.0,21.0,8.0,27.0,23.0,28.0,24.0,28.0,20.0,29.0,28.0,22.0,21.0,6.0,18.0,18.0,10.0]},{\"label\":\"Silhouette Score\",\"values\":[0.12064691127557822,0.16575447545232078,0.0750426300409423,0.09081773538731633,0.16575447545232078,-0.029197299677709437,0.16575447545232078,0.04682876824498412,0.12024145452181752,0.16575447545232078,0.16575447545232078,0.0012245020611296625,0.0602173255816938,0.16575447545232078,0.16575447545232078,0.16575447545232078,0.14103622620246115,0.04682876824498412,0.11553067588624523,0.12341539736257125,0.0181900636327831,0.05765902116384042,-0.06246453384436763,0.16575447545232078,0.05375370995491146,0.16575447545232078,0.10482026438595134,0.16488020552402735,0.1651673633712293,0.024335854373760873,-0.0073438636884966095,0.03422907028014134,0.07222262865844403,0.10482026438595134,0.16575447545232078,0.0750426300409423,0.16575447545232078,0.06089668650671585,0.1651673633712293,0.07500620035512838,0.16575447545232078,0.05412501473949078,0.0750426300409423,0.11553067588624523,0.04682876824498412,0.16575447545232078,0.0750426300409423,0.004254520449850023,0.058386399691667916,0.03067100052083763,0.16575447545232078,0.11553067588624523,0.16575447545232078,0.16575447545232078,0.058386399691667916,0.16575447545232078,0.02466682268851503,0.09081773538731633,0.16575447545232078,0.1642678248501036,0.11553067588624523,0.12202434057390689,0.0671793407499037,0.06652727915808379,0.05983514436457141,0.09409049991446464,0.07369183796732887,-0.03942184575098204,0.008595132894399629,0.0926122912065806,0.048973678687916765,0.05092243276624639,0.06826510490114114,0.11155270514995806,0.0355260195544803,0.006385662080816176,0.06978643607306877,0.017172756612544013,0.12202434057390689,0.11419236733868626,0.08564833503694279,-0.024521410460129688,0.06997923884201238,0.06640166141416293,-0.0009187954860079519,-0.06315542537696918,0.022468417494797138,-0.08737109670826206,-0.06959464759015911]},{\"label\":\"Adjusted Rand Index\",\"values\":[0.7788054983463996,1.0,0.9975050358608121,0.9888882671584229,1.0,0.8690367009684573,1.0,0.9363306774589018,0.9145115913317868,1.0,1.0,0.9924989025762153,0.19045132359254693,1.0,1.0,1.0,0.9987503111712674,0.9363306774589018,0.9962509618412633,0.9891426005928511,0.5935428376172378,0.8524827318008533,0.4196592014105431,1.0,0.9974987418596442,1.0,0.9987503111712674,0.9974962343264018,0.9974962343264018,0.7612501032158385,0.8570016442614602,0.9876154392331666,0.9950278219824059,0.9987503111712674,1.0,0.9975050358608121,1.0,0.9962578947353511,0.9974962343264018,0.9913139991550171,1.0,0.9853513943406347,0.9975050358608121,0.9962509618412633,0.9363306774589018,1.0,0.9975050358608121,0.9900321590974127,0.9685355798790162,0.9343326768973211,1.0,0.9962509618412633,1.0,1.0,0.9685355798790162,1.0,0.7534011753420153,0.9888882671584229,1.0,0.9949924875567209,0.9962509618412633,0.743136776295973,0.9258329075564425,0.7613292817963812,0.9600170147315418,0.7462759891977182,0.8707336033270704,0.6636576797715299,0.9732781676454897,0.932194105275,0.20696052459099734,0.9260957018568915,0.755527626841638,0.6738967372790549,0.25350856404675604,0.9753810598594689,0.9900956627955443,0.4488178773501008,0.743136776295973,0.7658619326927837,0.6872751968793659,0.9264447534998723,0.9477818406929468,0.9360126614444507,0.9453153840685725,0.6415352308995104,0.913590530414587,0.5723753610653122,0.6621143308318239]},{\"label\":\"N. Clusters\",\"values\":[4.0,5.0,7.0,7.0,5.0,13.0,5.0,8.0,8.0,5.0,5.0,9.0,2.0,5.0,5.0,5.0,6.0,8.0,6.0,6.0,5.0,9.0,22.0,5.0,7.0,5.0,6.0,5.0,5.0,6.0,20.0,9.0,7.0,6.0,5.0,7.0,5.0,7.0,5.0,8.0,5.0,8.0,7.0,6.0,8.0,5.0,7.0,10.0,8.0,9.0,5.0,6.0,5.0,5.0,8.0,5.0,15.0,7.0,5.0,5.0,6.0,4.0,9.0,6.0,8.0,5.0,8.0,20.0,10.0,8.0,2.0,11.0,5.0,4.0,3.0,9.0,8.0,5.0,4.0,4.0,4.0,10.0,9.0,8.0,10.0,25.0,9.0,26.0,27.0]}],\"domain\":{\"x\":[0.0,1.0],\"y\":[0.0,1.0]},\"line\":{\"color\":[0.12064691127557822,0.16575447545232078,0.0750426300409423,0.09081773538731633,0.16575447545232078,-0.029197299677709437,0.16575447545232078,0.04682876824498412,0.12024145452181752,0.16575447545232078,0.16575447545232078,0.0012245020611296625,0.0602173255816938,0.16575447545232078,0.16575447545232078,0.16575447545232078,0.14103622620246115,0.04682876824498412,0.11553067588624523,0.12341539736257125,0.0181900636327831,0.05765902116384042,-0.06246453384436763,0.16575447545232078,0.05375370995491146,0.16575447545232078,0.10482026438595134,0.16488020552402735,0.1651673633712293,0.024335854373760873,-0.0073438636884966095,0.03422907028014134,0.07222262865844403,0.10482026438595134,0.16575447545232078,0.0750426300409423,0.16575447545232078,0.06089668650671585,0.1651673633712293,0.07500620035512838,0.16575447545232078,0.05412501473949078,0.0750426300409423,0.11553067588624523,0.04682876824498412,0.16575447545232078,0.0750426300409423,0.004254520449850023,0.058386399691667916,0.03067100052083763,0.16575447545232078,0.11553067588624523,0.16575447545232078,0.16575447545232078,0.058386399691667916,0.16575447545232078,0.02466682268851503,0.09081773538731633,0.16575447545232078,0.1642678248501036,0.11553067588624523,0.12202434057390689,0.0671793407499037,0.06652727915808379,0.05983514436457141,0.09409049991446464,0.07369183796732887,-0.03942184575098204,0.008595132894399629,0.0926122912065806,0.048973678687916765,0.05092243276624639,0.06826510490114114,0.11155270514995806,0.0355260195544803,0.006385662080816176,0.06978643607306877,0.017172756612544013,0.12202434057390689,0.11419236733868626,0.08564833503694279,-0.024521410460129688,0.06997923884201238,0.06640166141416293,-0.0009187954860079519,-0.06315542537696918,0.022468417494797138,-0.08737109670826206,-0.06959464759015911],\"coloraxis\":\"coloraxis\"},\"name\":\"\",\"type\":\"parcoords\"}],                        {\"template\":{\"data\":{\"pie\":[{\"automargin\":true,\"type\":\"pie\"}],\"scatter3d\":[{\"line\":{\"width\":3},\"marker\":{\"size\":9},\"type\":\"scatter3d\"}],\"scattergeo\":[{\"line\":{\"width\":3},\"marker\":{\"size\":9},\"type\":\"scattergeo\"}],\"scattergl\":[{\"line\":{\"width\":3},\"marker\":{\"size\":9},\"type\":\"scattergl\"}],\"scatterpolargl\":[{\"line\":{\"width\":3},\"marker\":{\"size\":9},\"type\":\"scatterpolargl\"}],\"scatterpolar\":[{\"line\":{\"width\":3},\"marker\":{\"size\":9},\"type\":\"scatterpolar\"}],\"scatter\":[{\"line\":{\"width\":3},\"marker\":{\"size\":9},\"type\":\"scatter\"}],\"scatterternary\":[{\"line\":{\"width\":3},\"marker\":{\"size\":9},\"type\":\"scatterternary\"}],\"table\":[{\"cells\":{\"height\":30},\"header\":{\"height\":36},\"type\":\"table\"}]},\"layout\":{\"font\":{\"size\":18},\"xaxis\":{\"title\":{\"standoff\":15}},\"yaxis\":{\"title\":{\"standoff\":15}}}},\"coloraxis\":{\"colorbar\":{\"title\":{\"text\":\"Silhouette Score\"}},\"colorscale\":[[0.0,\"#e6b0aa\"],[1.0,\"green\"]],\"cmin\":0.15,\"cmax\":0.16,\"showscale\":false},\"legend\":{\"tracegroupgap\":0},\"margin\":{\"t\":50,\"b\":30,\"l\":70,\"r\":70},\"font\":{\"color\":\"black\",\"size\":15},\"xaxis\":{\"title\":{\"standoff\":15},\"color\":\"black\"},\"yaxis\":{\"color\":\"black\"}},                        {\"responsive\": true}                    ).then(function(){\n",
       "                            \n",
       "var gd = document.getElementById('1244d7c8-88a1-43cc-9e4c-a22ac89a234f');\n",
       "var x = new MutationObserver(function (mutations, observer) {{\n",
       "        var display = window.getComputedStyle(gd).display;\n",
       "        if (!display || display === 'none') {{\n",
       "            console.log([gd, 'removed!']);\n",
       "            Plotly.purge(gd);\n",
       "            observer.disconnect();\n",
       "        }}\n",
       "}});\n",
       "\n",
       "// Listen for the removal of the full notebook cells\n",
       "var notebookContainer = gd.closest('#notebook-container');\n",
       "if (notebookContainer) {{\n",
       "    x.observe(notebookContainer, {childList: true});\n",
       "}}\n",
       "\n",
       "// Listen for the clearing of the current output cell\n",
       "var outputEl = gd.closest('.output');\n",
       "if (outputEl) {{\n",
       "    x.observe(outputEl, {childList: true});\n",
       "}}\n",
       "\n",
       "                        })                };                });            </script>        </div>"
      ]
     },
     "metadata": {},
     "output_type": "display_data"
    }
   ],
   "execution_count": 119
  },
  {
   "metadata": {
    "ExecuteTime": {
     "end_time": "2025-01-16T15:31:14.462660Z",
     "start_time": "2025-01-16T15:31:14.457586Z"
    }
   },
   "cell_type": "code",
   "source": "fig",
   "id": "d09d669490e781c6",
   "outputs": [
    {
     "data": {
      "application/vnd.plotly.v1+json": {
       "data": [
        {
         "dimensions": [
          {
           "label": "N. Repetitions",
           "values": [
            3.0,
            3.0,
            3.0,
            3.0,
            3.0,
            4.0,
            3.0,
            4.0,
            3.0,
            3.0,
            4.0,
            3.0,
            3.0,
            3.0,
            3.0,
            3.0,
            3.0,
            4.0,
            3.0,
            3.0,
            3.0,
            10.0,
            3.0,
            3.0,
            5.0,
            3.0,
            4.0,
            3.0,
            3.0,
            3.0,
            5.0,
            4.0,
            3.0,
            4.0,
            3.0,
            3.0,
            3.0,
            3.0,
            3.0,
            3.0,
            3.0,
            3.0,
            3.0,
            3.0,
            4.0,
            3.0,
            3.0,
            4.0,
            3.0,
            5.0,
            3.0,
            3.0,
            3.0,
            3.0,
            3.0,
            3.0,
            3.0,
            3.0,
            3.0,
            3.0,
            3.0,
            4.0,
            5.0,
            6.0,
            5.0,
            5.0,
            6.0,
            3.0,
            5.0,
            6.0,
            3.0,
            5.0,
            5.0,
            5.0,
            3.0,
            6.0,
            4.0,
            3.0,
            4.0,
            5.0,
            5.0,
            10.0,
            10.0,
            9.0,
            8.0,
            8.0,
            10.0,
            6.0,
            10.0
           ]
          },
          {
           "label": "N. KMeans Clusters",
           "values": [
            3.0,
            5.0,
            5.0,
            5.0,
            4.0,
            6.0,
            5.0,
            5.0,
            7.0,
            5.0,
            3.0,
            5.0,
            2.0,
            5.0,
            4.0,
            4.0,
            4.0,
            5.0,
            4.0,
            4.0,
            3.0,
            2.0,
            5.0,
            5.0,
            4.0,
            5.0,
            4.0,
            4.0,
            3.0,
            4.0,
            6.0,
            4.0,
            6.0,
            4.0,
            4.0,
            5.0,
            4.0,
            6.0,
            3.0,
            5.0,
            4.0,
            6.0,
            5.0,
            4.0,
            5.0,
            4.0,
            5.0,
            5.0,
            6.0,
            6.0,
            5.0,
            4.0,
            4.0,
            5.0,
            6.0,
            5.0,
            8.0,
            5.0,
            5.0,
            4.0,
            4.0,
            2.0,
            2.0,
            2.0,
            3.0,
            2.0,
            2.0,
            9.0,
            4.0,
            5.0,
            2.0,
            4.0,
            2.0,
            2.0,
            2.0,
            3.0,
            5.0,
            2.0,
            2.0,
            2.0,
            2.0,
            4.0,
            4.0,
            2.0,
            2.0,
            3.0,
            2.0,
            7.0,
            3.0
           ]
          },
          {
           "label": "N. Components",
           "values": [
            26.0,
            30.0,
            29.0,
            25.0,
            30.0,
            25.0,
            30.0,
            30.0,
            30.0,
            30.0,
            30.0,
            24.0,
            30.0,
            30.0,
            30.0,
            30.0,
            27.0,
            30.0,
            29.0,
            26.0,
            29.0,
            11.0,
            5.0,
            30.0,
            30.0,
            30.0,
            30.0,
            25.0,
            30.0,
            21.0,
            24.0,
            25.0,
            30.0,
            30.0,
            30.0,
            29.0,
            30.0,
            27.0,
            30.0,
            23.0,
            30.0,
            20.0,
            29.0,
            29.0,
            30.0,
            30.0,
            29.0,
            28.0,
            29.0,
            30.0,
            30.0,
            29.0,
            30.0,
            30.0,
            29.0,
            28.0,
            27.0,
            25.0,
            28.0,
            28.0,
            29.0,
            24.0,
            22.0,
            24.0,
            24.0,
            23.0,
            16.0,
            16.0,
            22.0,
            29.0,
            20.0,
            13.0,
            29.0,
            21.0,
            8.0,
            27.0,
            23.0,
            28.0,
            24.0,
            28.0,
            20.0,
            29.0,
            28.0,
            22.0,
            21.0,
            6.0,
            18.0,
            18.0,
            10.0
           ]
          },
          {
           "label": "Silhouette Score",
           "values": [
            0.12064691127557822,
            0.16575447545232078,
            0.0750426300409423,
            0.09081773538731633,
            0.16575447545232078,
            -0.029197299677709437,
            0.16575447545232078,
            0.04682876824498412,
            0.12024145452181752,
            0.16575447545232078,
            0.16575447545232078,
            0.0012245020611296625,
            0.0602173255816938,
            0.16575447545232078,
            0.16575447545232078,
            0.16575447545232078,
            0.14103622620246115,
            0.04682876824498412,
            0.11553067588624523,
            0.12341539736257125,
            0.0181900636327831,
            0.05765902116384042,
            -0.06246453384436763,
            0.16575447545232078,
            0.05375370995491146,
            0.16575447545232078,
            0.10482026438595134,
            0.16488020552402735,
            0.1651673633712293,
            0.024335854373760873,
            -0.0073438636884966095,
            0.03422907028014134,
            0.07222262865844403,
            0.10482026438595134,
            0.16575447545232078,
            0.0750426300409423,
            0.16575447545232078,
            0.06089668650671585,
            0.1651673633712293,
            0.07500620035512838,
            0.16575447545232078,
            0.05412501473949078,
            0.0750426300409423,
            0.11553067588624523,
            0.04682876824498412,
            0.16575447545232078,
            0.0750426300409423,
            0.004254520449850023,
            0.058386399691667916,
            0.03067100052083763,
            0.16575447545232078,
            0.11553067588624523,
            0.16575447545232078,
            0.16575447545232078,
            0.058386399691667916,
            0.16575447545232078,
            0.02466682268851503,
            0.09081773538731633,
            0.16575447545232078,
            0.1642678248501036,
            0.11553067588624523,
            0.12202434057390689,
            0.0671793407499037,
            0.06652727915808379,
            0.05983514436457141,
            0.09409049991446464,
            0.07369183796732887,
            -0.03942184575098204,
            0.008595132894399629,
            0.0926122912065806,
            0.048973678687916765,
            0.05092243276624639,
            0.06826510490114114,
            0.11155270514995806,
            0.0355260195544803,
            0.006385662080816176,
            0.06978643607306877,
            0.017172756612544013,
            0.12202434057390689,
            0.11419236733868626,
            0.08564833503694279,
            -0.024521410460129688,
            0.06997923884201238,
            0.06640166141416293,
            -9.187954860079519E-4,
            -0.06315542537696918,
            0.022468417494797138,
            -0.08737109670826206,
            -0.06959464759015911
           ]
          },
          {
           "label": "Adjusted Rand Index",
           "values": [
            0.7788054983463996,
            1.0,
            0.9975050358608121,
            0.9888882671584229,
            1.0,
            0.8690367009684573,
            1.0,
            0.9363306774589018,
            0.9145115913317868,
            1.0,
            1.0,
            0.9924989025762153,
            0.19045132359254693,
            1.0,
            1.0,
            1.0,
            0.9987503111712674,
            0.9363306774589018,
            0.9962509618412633,
            0.9891426005928511,
            0.5935428376172378,
            0.8524827318008533,
            0.4196592014105431,
            1.0,
            0.9974987418596442,
            1.0,
            0.9987503111712674,
            0.9974962343264018,
            0.9974962343264018,
            0.7612501032158385,
            0.8570016442614602,
            0.9876154392331666,
            0.9950278219824059,
            0.9987503111712674,
            1.0,
            0.9975050358608121,
            1.0,
            0.9962578947353511,
            0.9974962343264018,
            0.9913139991550171,
            1.0,
            0.9853513943406347,
            0.9975050358608121,
            0.9962509618412633,
            0.9363306774589018,
            1.0,
            0.9975050358608121,
            0.9900321590974127,
            0.9685355798790162,
            0.9343326768973211,
            1.0,
            0.9962509618412633,
            1.0,
            1.0,
            0.9685355798790162,
            1.0,
            0.7534011753420153,
            0.9888882671584229,
            1.0,
            0.9949924875567209,
            0.9962509618412633,
            0.743136776295973,
            0.9258329075564425,
            0.7613292817963812,
            0.9600170147315418,
            0.7462759891977182,
            0.8707336033270704,
            0.6636576797715299,
            0.9732781676454897,
            0.932194105275,
            0.20696052459099734,
            0.9260957018568915,
            0.755527626841638,
            0.6738967372790549,
            0.25350856404675604,
            0.9753810598594689,
            0.9900956627955443,
            0.4488178773501008,
            0.743136776295973,
            0.7658619326927837,
            0.6872751968793659,
            0.9264447534998723,
            0.9477818406929468,
            0.9360126614444507,
            0.9453153840685725,
            0.6415352308995104,
            0.913590530414587,
            0.5723753610653122,
            0.6621143308318239
           ]
          },
          {
           "label": "N. Clusters",
           "values": [
            4.0,
            5.0,
            7.0,
            7.0,
            5.0,
            13.0,
            5.0,
            8.0,
            8.0,
            5.0,
            5.0,
            9.0,
            2.0,
            5.0,
            5.0,
            5.0,
            6.0,
            8.0,
            6.0,
            6.0,
            5.0,
            9.0,
            22.0,
            5.0,
            7.0,
            5.0,
            6.0,
            5.0,
            5.0,
            6.0,
            20.0,
            9.0,
            7.0,
            6.0,
            5.0,
            7.0,
            5.0,
            7.0,
            5.0,
            8.0,
            5.0,
            8.0,
            7.0,
            6.0,
            8.0,
            5.0,
            7.0,
            10.0,
            8.0,
            9.0,
            5.0,
            6.0,
            5.0,
            5.0,
            8.0,
            5.0,
            15.0,
            7.0,
            5.0,
            5.0,
            6.0,
            4.0,
            9.0,
            6.0,
            8.0,
            5.0,
            8.0,
            20.0,
            10.0,
            8.0,
            2.0,
            11.0,
            5.0,
            4.0,
            3.0,
            9.0,
            8.0,
            5.0,
            4.0,
            4.0,
            4.0,
            10.0,
            9.0,
            8.0,
            10.0,
            25.0,
            9.0,
            26.0,
            27.0
           ]
          }
         ],
         "domain": {
          "x": [
           0.0,
           1.0
          ],
          "y": [
           0.0,
           1.0
          ]
         },
         "line": {
          "color": [
           0.12064691127557822,
           0.16575447545232078,
           0.0750426300409423,
           0.09081773538731633,
           0.16575447545232078,
           -0.029197299677709437,
           0.16575447545232078,
           0.04682876824498412,
           0.12024145452181752,
           0.16575447545232078,
           0.16575447545232078,
           0.0012245020611296625,
           0.0602173255816938,
           0.16575447545232078,
           0.16575447545232078,
           0.16575447545232078,
           0.14103622620246115,
           0.04682876824498412,
           0.11553067588624523,
           0.12341539736257125,
           0.0181900636327831,
           0.05765902116384042,
           -0.06246453384436763,
           0.16575447545232078,
           0.05375370995491146,
           0.16575447545232078,
           0.10482026438595134,
           0.16488020552402735,
           0.1651673633712293,
           0.024335854373760873,
           -0.0073438636884966095,
           0.03422907028014134,
           0.07222262865844403,
           0.10482026438595134,
           0.16575447545232078,
           0.0750426300409423,
           0.16575447545232078,
           0.06089668650671585,
           0.1651673633712293,
           0.07500620035512838,
           0.16575447545232078,
           0.05412501473949078,
           0.0750426300409423,
           0.11553067588624523,
           0.04682876824498412,
           0.16575447545232078,
           0.0750426300409423,
           0.004254520449850023,
           0.058386399691667916,
           0.03067100052083763,
           0.16575447545232078,
           0.11553067588624523,
           0.16575447545232078,
           0.16575447545232078,
           0.058386399691667916,
           0.16575447545232078,
           0.02466682268851503,
           0.09081773538731633,
           0.16575447545232078,
           0.1642678248501036,
           0.11553067588624523,
           0.12202434057390689,
           0.0671793407499037,
           0.06652727915808379,
           0.05983514436457141,
           0.09409049991446464,
           0.07369183796732887,
           -0.03942184575098204,
           0.008595132894399629,
           0.0926122912065806,
           0.048973678687916765,
           0.05092243276624639,
           0.06826510490114114,
           0.11155270514995806,
           0.0355260195544803,
           0.006385662080816176,
           0.06978643607306877,
           0.017172756612544013,
           0.12202434057390689,
           0.11419236733868626,
           0.08564833503694279,
           -0.024521410460129688,
           0.06997923884201238,
           0.06640166141416293,
           -9.187954860079519E-4,
           -0.06315542537696918,
           0.022468417494797138,
           -0.08737109670826206,
           -0.06959464759015911
          ],
          "coloraxis": "coloraxis"
         },
         "name": "",
         "type": "parcoords"
        }
       ],
       "layout": {
        "template": {
         "data": {
          "pie": [
           {
            "automargin": true,
            "type": "pie"
           }
          ],
          "scatter3d": [
           {
            "line": {
             "width": 3
            },
            "marker": {
             "size": 9
            },
            "type": "scatter3d"
           }
          ],
          "scattergeo": [
           {
            "line": {
             "width": 3
            },
            "marker": {
             "size": 9
            },
            "type": "scattergeo"
           }
          ],
          "scattergl": [
           {
            "line": {
             "width": 3
            },
            "marker": {
             "size": 9
            },
            "type": "scattergl"
           }
          ],
          "scatterpolargl": [
           {
            "line": {
             "width": 3
            },
            "marker": {
             "size": 9
            },
            "type": "scatterpolargl"
           }
          ],
          "scatterpolar": [
           {
            "line": {
             "width": 3
            },
            "marker": {
             "size": 9
            },
            "type": "scatterpolar"
           }
          ],
          "scatter": [
           {
            "line": {
             "width": 3
            },
            "marker": {
             "size": 9
            },
            "type": "scatter"
           }
          ],
          "scatterternary": [
           {
            "line": {
             "width": 3
            },
            "marker": {
             "size": 9
            },
            "type": "scatterternary"
           }
          ],
          "table": [
           {
            "cells": {
             "height": 30
            },
            "header": {
             "height": 36
            },
            "type": "table"
           }
          ]
         },
         "layout": {
          "font": {
           "size": 18
          },
          "xaxis": {
           "title": {
            "standoff": 15
           }
          },
          "yaxis": {
           "title": {
            "standoff": 15
           }
          }
         }
        },
        "coloraxis": {
         "colorbar": {
          "title": {
           "text": "Silhouette Score"
          },
          "orientation": "h",
          "yanchor": "bottom",
          "y": -0.4,
          "xanchor": "left",
          "x": 0
         },
         "colorscale": [
          [
           0.0,
           "#e6b0aa"
          ],
          [
           1.0,
           "green"
          ]
         ],
         "cmin": 0.15,
         "cmax": 0.16
        },
        "legend": {
         "tracegroupgap": 0
        },
        "margin": {
         "t": 50,
         "b": 30,
         "l": 70,
         "r": 70
        },
        "font": {
         "color": "black",
         "size": 15
        },
        "xaxis": {
         "title": {
          "standoff": 15
         },
         "color": "black",
         "showline": true,
         "mirror": true
        },
        "yaxis": {
         "color": "black",
         "showline": true,
         "mirror": true
        }
       },
       "config": {
        "plotlyServerURL": "https://plot.ly"
       }
      },
      "text/html": [
       "<div>                            <div id=\"9920a203-2e24-42b7-9133-bb82dc705417\" class=\"plotly-graph-div\" style=\"height:525px; width:100%;\"></div>            <script type=\"text/javascript\">                require([\"plotly\"], function(Plotly) {                    window.PLOTLYENV=window.PLOTLYENV || {};                                    if (document.getElementById(\"9920a203-2e24-42b7-9133-bb82dc705417\")) {                    Plotly.newPlot(                        \"9920a203-2e24-42b7-9133-bb82dc705417\",                        [{\"dimensions\":[{\"label\":\"N. Repetitions\",\"values\":[3.0,3.0,3.0,3.0,3.0,4.0,3.0,4.0,3.0,3.0,4.0,3.0,3.0,3.0,3.0,3.0,3.0,4.0,3.0,3.0,3.0,10.0,3.0,3.0,5.0,3.0,4.0,3.0,3.0,3.0,5.0,4.0,3.0,4.0,3.0,3.0,3.0,3.0,3.0,3.0,3.0,3.0,3.0,3.0,4.0,3.0,3.0,4.0,3.0,5.0,3.0,3.0,3.0,3.0,3.0,3.0,3.0,3.0,3.0,3.0,3.0,4.0,5.0,6.0,5.0,5.0,6.0,3.0,5.0,6.0,3.0,5.0,5.0,5.0,3.0,6.0,4.0,3.0,4.0,5.0,5.0,10.0,10.0,9.0,8.0,8.0,10.0,6.0,10.0]},{\"label\":\"N. KMeans Clusters\",\"values\":[3.0,5.0,5.0,5.0,4.0,6.0,5.0,5.0,7.0,5.0,3.0,5.0,2.0,5.0,4.0,4.0,4.0,5.0,4.0,4.0,3.0,2.0,5.0,5.0,4.0,5.0,4.0,4.0,3.0,4.0,6.0,4.0,6.0,4.0,4.0,5.0,4.0,6.0,3.0,5.0,4.0,6.0,5.0,4.0,5.0,4.0,5.0,5.0,6.0,6.0,5.0,4.0,4.0,5.0,6.0,5.0,8.0,5.0,5.0,4.0,4.0,2.0,2.0,2.0,3.0,2.0,2.0,9.0,4.0,5.0,2.0,4.0,2.0,2.0,2.0,3.0,5.0,2.0,2.0,2.0,2.0,4.0,4.0,2.0,2.0,3.0,2.0,7.0,3.0]},{\"label\":\"N. Components\",\"values\":[26.0,30.0,29.0,25.0,30.0,25.0,30.0,30.0,30.0,30.0,30.0,24.0,30.0,30.0,30.0,30.0,27.0,30.0,29.0,26.0,29.0,11.0,5.0,30.0,30.0,30.0,30.0,25.0,30.0,21.0,24.0,25.0,30.0,30.0,30.0,29.0,30.0,27.0,30.0,23.0,30.0,20.0,29.0,29.0,30.0,30.0,29.0,28.0,29.0,30.0,30.0,29.0,30.0,30.0,29.0,28.0,27.0,25.0,28.0,28.0,29.0,24.0,22.0,24.0,24.0,23.0,16.0,16.0,22.0,29.0,20.0,13.0,29.0,21.0,8.0,27.0,23.0,28.0,24.0,28.0,20.0,29.0,28.0,22.0,21.0,6.0,18.0,18.0,10.0]},{\"label\":\"Silhouette Score\",\"values\":[0.12064691127557822,0.16575447545232078,0.0750426300409423,0.09081773538731633,0.16575447545232078,-0.029197299677709437,0.16575447545232078,0.04682876824498412,0.12024145452181752,0.16575447545232078,0.16575447545232078,0.0012245020611296625,0.0602173255816938,0.16575447545232078,0.16575447545232078,0.16575447545232078,0.14103622620246115,0.04682876824498412,0.11553067588624523,0.12341539736257125,0.0181900636327831,0.05765902116384042,-0.06246453384436763,0.16575447545232078,0.05375370995491146,0.16575447545232078,0.10482026438595134,0.16488020552402735,0.1651673633712293,0.024335854373760873,-0.0073438636884966095,0.03422907028014134,0.07222262865844403,0.10482026438595134,0.16575447545232078,0.0750426300409423,0.16575447545232078,0.06089668650671585,0.1651673633712293,0.07500620035512838,0.16575447545232078,0.05412501473949078,0.0750426300409423,0.11553067588624523,0.04682876824498412,0.16575447545232078,0.0750426300409423,0.004254520449850023,0.058386399691667916,0.03067100052083763,0.16575447545232078,0.11553067588624523,0.16575447545232078,0.16575447545232078,0.058386399691667916,0.16575447545232078,0.02466682268851503,0.09081773538731633,0.16575447545232078,0.1642678248501036,0.11553067588624523,0.12202434057390689,0.0671793407499037,0.06652727915808379,0.05983514436457141,0.09409049991446464,0.07369183796732887,-0.03942184575098204,0.008595132894399629,0.0926122912065806,0.048973678687916765,0.05092243276624639,0.06826510490114114,0.11155270514995806,0.0355260195544803,0.006385662080816176,0.06978643607306877,0.017172756612544013,0.12202434057390689,0.11419236733868626,0.08564833503694279,-0.024521410460129688,0.06997923884201238,0.06640166141416293,-0.0009187954860079519,-0.06315542537696918,0.022468417494797138,-0.08737109670826206,-0.06959464759015911]},{\"label\":\"Adjusted Rand Index\",\"values\":[0.7788054983463996,1.0,0.9975050358608121,0.9888882671584229,1.0,0.8690367009684573,1.0,0.9363306774589018,0.9145115913317868,1.0,1.0,0.9924989025762153,0.19045132359254693,1.0,1.0,1.0,0.9987503111712674,0.9363306774589018,0.9962509618412633,0.9891426005928511,0.5935428376172378,0.8524827318008533,0.4196592014105431,1.0,0.9974987418596442,1.0,0.9987503111712674,0.9974962343264018,0.9974962343264018,0.7612501032158385,0.8570016442614602,0.9876154392331666,0.9950278219824059,0.9987503111712674,1.0,0.9975050358608121,1.0,0.9962578947353511,0.9974962343264018,0.9913139991550171,1.0,0.9853513943406347,0.9975050358608121,0.9962509618412633,0.9363306774589018,1.0,0.9975050358608121,0.9900321590974127,0.9685355798790162,0.9343326768973211,1.0,0.9962509618412633,1.0,1.0,0.9685355798790162,1.0,0.7534011753420153,0.9888882671584229,1.0,0.9949924875567209,0.9962509618412633,0.743136776295973,0.9258329075564425,0.7613292817963812,0.9600170147315418,0.7462759891977182,0.8707336033270704,0.6636576797715299,0.9732781676454897,0.932194105275,0.20696052459099734,0.9260957018568915,0.755527626841638,0.6738967372790549,0.25350856404675604,0.9753810598594689,0.9900956627955443,0.4488178773501008,0.743136776295973,0.7658619326927837,0.6872751968793659,0.9264447534998723,0.9477818406929468,0.9360126614444507,0.9453153840685725,0.6415352308995104,0.913590530414587,0.5723753610653122,0.6621143308318239]},{\"label\":\"N. Clusters\",\"values\":[4.0,5.0,7.0,7.0,5.0,13.0,5.0,8.0,8.0,5.0,5.0,9.0,2.0,5.0,5.0,5.0,6.0,8.0,6.0,6.0,5.0,9.0,22.0,5.0,7.0,5.0,6.0,5.0,5.0,6.0,20.0,9.0,7.0,6.0,5.0,7.0,5.0,7.0,5.0,8.0,5.0,8.0,7.0,6.0,8.0,5.0,7.0,10.0,8.0,9.0,5.0,6.0,5.0,5.0,8.0,5.0,15.0,7.0,5.0,5.0,6.0,4.0,9.0,6.0,8.0,5.0,8.0,20.0,10.0,8.0,2.0,11.0,5.0,4.0,3.0,9.0,8.0,5.0,4.0,4.0,4.0,10.0,9.0,8.0,10.0,25.0,9.0,26.0,27.0]}],\"domain\":{\"x\":[0.0,1.0],\"y\":[0.0,1.0]},\"line\":{\"color\":[0.12064691127557822,0.16575447545232078,0.0750426300409423,0.09081773538731633,0.16575447545232078,-0.029197299677709437,0.16575447545232078,0.04682876824498412,0.12024145452181752,0.16575447545232078,0.16575447545232078,0.0012245020611296625,0.0602173255816938,0.16575447545232078,0.16575447545232078,0.16575447545232078,0.14103622620246115,0.04682876824498412,0.11553067588624523,0.12341539736257125,0.0181900636327831,0.05765902116384042,-0.06246453384436763,0.16575447545232078,0.05375370995491146,0.16575447545232078,0.10482026438595134,0.16488020552402735,0.1651673633712293,0.024335854373760873,-0.0073438636884966095,0.03422907028014134,0.07222262865844403,0.10482026438595134,0.16575447545232078,0.0750426300409423,0.16575447545232078,0.06089668650671585,0.1651673633712293,0.07500620035512838,0.16575447545232078,0.05412501473949078,0.0750426300409423,0.11553067588624523,0.04682876824498412,0.16575447545232078,0.0750426300409423,0.004254520449850023,0.058386399691667916,0.03067100052083763,0.16575447545232078,0.11553067588624523,0.16575447545232078,0.16575447545232078,0.058386399691667916,0.16575447545232078,0.02466682268851503,0.09081773538731633,0.16575447545232078,0.1642678248501036,0.11553067588624523,0.12202434057390689,0.0671793407499037,0.06652727915808379,0.05983514436457141,0.09409049991446464,0.07369183796732887,-0.03942184575098204,0.008595132894399629,0.0926122912065806,0.048973678687916765,0.05092243276624639,0.06826510490114114,0.11155270514995806,0.0355260195544803,0.006385662080816176,0.06978643607306877,0.017172756612544013,0.12202434057390689,0.11419236733868626,0.08564833503694279,-0.024521410460129688,0.06997923884201238,0.06640166141416293,-0.0009187954860079519,-0.06315542537696918,0.022468417494797138,-0.08737109670826206,-0.06959464759015911],\"coloraxis\":\"coloraxis\"},\"name\":\"\",\"type\":\"parcoords\"}],                        {\"template\":{\"data\":{\"pie\":[{\"automargin\":true,\"type\":\"pie\"}],\"scatter3d\":[{\"line\":{\"width\":3},\"marker\":{\"size\":9},\"type\":\"scatter3d\"}],\"scattergeo\":[{\"line\":{\"width\":3},\"marker\":{\"size\":9},\"type\":\"scattergeo\"}],\"scattergl\":[{\"line\":{\"width\":3},\"marker\":{\"size\":9},\"type\":\"scattergl\"}],\"scatterpolargl\":[{\"line\":{\"width\":3},\"marker\":{\"size\":9},\"type\":\"scatterpolargl\"}],\"scatterpolar\":[{\"line\":{\"width\":3},\"marker\":{\"size\":9},\"type\":\"scatterpolar\"}],\"scatter\":[{\"line\":{\"width\":3},\"marker\":{\"size\":9},\"type\":\"scatter\"}],\"scatterternary\":[{\"line\":{\"width\":3},\"marker\":{\"size\":9},\"type\":\"scatterternary\"}],\"table\":[{\"cells\":{\"height\":30},\"header\":{\"height\":36},\"type\":\"table\"}]},\"layout\":{\"font\":{\"size\":18},\"xaxis\":{\"title\":{\"standoff\":15}},\"yaxis\":{\"title\":{\"standoff\":15}}}},\"coloraxis\":{\"colorbar\":{\"title\":{\"text\":\"Silhouette Score\"},\"orientation\":\"h\",\"yanchor\":\"bottom\",\"y\":-0.4,\"xanchor\":\"left\",\"x\":0},\"colorscale\":[[0.0,\"#e6b0aa\"],[1.0,\"green\"]],\"cmin\":0.15,\"cmax\":0.16},\"legend\":{\"tracegroupgap\":0},\"margin\":{\"t\":50,\"b\":30,\"l\":70,\"r\":70},\"font\":{\"color\":\"black\",\"size\":15},\"xaxis\":{\"title\":{\"standoff\":15},\"color\":\"black\",\"showline\":true,\"mirror\":true},\"yaxis\":{\"color\":\"black\",\"showline\":true,\"mirror\":true}},                        {\"responsive\": true}                    ).then(function(){\n",
       "                            \n",
       "var gd = document.getElementById('9920a203-2e24-42b7-9133-bb82dc705417');\n",
       "var x = new MutationObserver(function (mutations, observer) {{\n",
       "        var display = window.getComputedStyle(gd).display;\n",
       "        if (!display || display === 'none') {{\n",
       "            console.log([gd, 'removed!']);\n",
       "            Plotly.purge(gd);\n",
       "            observer.disconnect();\n",
       "        }}\n",
       "}});\n",
       "\n",
       "// Listen for the removal of the full notebook cells\n",
       "var notebookContainer = gd.closest('#notebook-container');\n",
       "if (notebookContainer) {{\n",
       "    x.observe(notebookContainer, {childList: true});\n",
       "}}\n",
       "\n",
       "// Listen for the clearing of the current output cell\n",
       "var outputEl = gd.closest('.output');\n",
       "if (outputEl) {{\n",
       "    x.observe(outputEl, {childList: true});\n",
       "}}\n",
       "\n",
       "                        })                };                });            </script>        </div>"
      ]
     },
     "metadata": {},
     "output_type": "display_data"
    }
   ],
   "execution_count": 108
  },
  {
   "metadata": {
    "ExecuteTime": {
     "end_time": "2025-01-16T14:18:31.149172Z",
     "start_time": "2025-01-16T14:18:31.120652Z"
    }
   },
   "cell_type": "code",
   "source": [
    "parent_run_id = '6c55ced01a384ba4a375ce89cd7e4b7d'\n",
    "parent_run = parent_runs.loc[parent_runs['tags.parent_run_id']==parent_run_id]\n",
    "model_name = parent_run['params.model_nickname'].values[0]\n",
    "n_samples = parent_run['params.n_samples'].values[0]\n",
    "n_informative = parent_run['params.n_informative'].values[0]\n",
    "n_random = parent_run['params.n_random'].values[0]\n",
    "class_sep = parent_run['params.class_sep'].values[0]\n",
    "df = runs.loc[runs['tags.parent_run_id']==parent_run_id]\n",
    "df = df.rename(columns={'params.repetitions': 'N. Repetitions', 'params.kmeans_n_clusters': 'N. Clusters', 'params.components_size': 'N. Components', 'metrics.silhouette': 'Silhouette Score', 'metrics.adjusted_rand': 'Adjusted Rand Index', 'metrics.n_clusters_': 'Number of Clusters'})\n",
    "# df = df.loc[df['Number of KMeans Clusters'] == 3]\n",
    "fig = px.scatter_matrix(df, dimensions=['N. Repetitions', 'N. Components', 'N. Clusters'], color='Adjusted Rand Index', template='presentation')\n",
    "fig.update_layout({\n",
    "    'font': {\n",
    "        'color': 'black',\n",
    "        'size': 15\n",
    "    },\n",
    "    'xaxis': {\n",
    "        'color': 'black',\n",
    "        'title': {'standoff': 15},\n",
    "    }, \n",
    "    'yaxis': {\n",
    "        'color': 'black',\n",
    "    },\n",
    "    'margin': {\n",
    "        't': 50,\n",
    "        'b': 50,\n",
    "        'l': 50,\n",
    "        'r': 50,\n",
    "    },\n",
    "    'coloraxis': {'colorbar': {'orientation': 'h'}}\n",
    "})\n",
    "fig.update_traces(diagonal_visible=False)\n",
    "fig.show()"
   ],
   "id": "c4fca86c204c708f",
   "outputs": [
    {
     "data": {
      "application/vnd.plotly.v1+json": {
       "data": [
        {
         "dimensions": [
          {
           "axis": {
            "matches": true
           },
           "label": "N. Repetitions",
           "values": [
            3.0,
            3.0,
            3.0,
            3.0,
            3.0,
            4.0,
            3.0,
            4.0,
            3.0,
            3.0,
            4.0,
            3.0,
            3.0,
            3.0,
            3.0,
            3.0,
            3.0,
            4.0,
            3.0,
            3.0,
            3.0,
            10.0,
            3.0,
            3.0,
            5.0,
            3.0,
            4.0,
            6.0,
            3.0,
            3.0,
            3.0,
            5.0,
            4.0,
            3.0,
            4.0,
            9.0,
            3.0,
            3.0,
            3.0,
            3.0,
            3.0,
            3.0,
            3.0,
            9.0,
            3.0,
            3.0,
            3.0,
            4.0,
            3.0,
            3.0,
            4.0,
            3.0,
            5.0,
            3.0,
            3.0,
            3.0,
            3.0,
            3.0,
            3.0,
            3.0,
            6.0,
            3.0,
            3.0,
            3.0,
            3.0,
            4.0,
            5.0,
            6.0,
            5.0,
            5.0,
            6.0,
            3.0,
            5.0,
            7.0,
            6.0,
            3.0,
            5.0,
            5.0,
            5.0,
            3.0,
            6.0,
            4.0,
            3.0,
            4.0,
            5.0,
            5.0,
            10.0,
            10.0,
            9.0,
            8.0,
            8.0,
            6.0,
            9.0,
            3.0,
            10.0,
            9.0,
            10.0,
            6.0,
            8.0,
            10.0
           ]
          },
          {
           "axis": {
            "matches": true
           },
           "label": "N. Components",
           "values": [
            26.0,
            30.0,
            29.0,
            25.0,
            30.0,
            25.0,
            30.0,
            30.0,
            30.0,
            30.0,
            30.0,
            24.0,
            30.0,
            30.0,
            30.0,
            30.0,
            27.0,
            30.0,
            29.0,
            26.0,
            29.0,
            11.0,
            5.0,
            30.0,
            30.0,
            30.0,
            30.0,
            11.0,
            25.0,
            30.0,
            21.0,
            24.0,
            25.0,
            30.0,
            30.0,
            25.0,
            30.0,
            29.0,
            30.0,
            27.0,
            30.0,
            23.0,
            30.0,
            7.0,
            20.0,
            29.0,
            29.0,
            30.0,
            30.0,
            29.0,
            28.0,
            29.0,
            30.0,
            30.0,
            29.0,
            30.0,
            30.0,
            29.0,
            28.0,
            27.0,
            3.0,
            25.0,
            28.0,
            28.0,
            29.0,
            24.0,
            22.0,
            24.0,
            24.0,
            23.0,
            16.0,
            16.0,
            22.0,
            3.0,
            29.0,
            20.0,
            13.0,
            29.0,
            21.0,
            8.0,
            27.0,
            23.0,
            28.0,
            24.0,
            28.0,
            20.0,
            29.0,
            28.0,
            22.0,
            21.0,
            6.0,
            25.0,
            24.0,
            5.0,
            18.0,
            13.0,
            15.0,
            18.0,
            18.0,
            10.0
           ]
          },
          {
           "axis": {
            "matches": true
           },
           "label": "N. Clusters",
           "values": [
            3.0,
            5.0,
            5.0,
            5.0,
            4.0,
            6.0,
            5.0,
            5.0,
            7.0,
            5.0,
            3.0,
            5.0,
            2.0,
            5.0,
            4.0,
            4.0,
            4.0,
            5.0,
            4.0,
            4.0,
            3.0,
            2.0,
            5.0,
            5.0,
            4.0,
            5.0,
            4.0,
            10.0,
            4.0,
            3.0,
            4.0,
            6.0,
            4.0,
            6.0,
            4.0,
            7.0,
            4.0,
            5.0,
            4.0,
            6.0,
            3.0,
            5.0,
            4.0,
            7.0,
            6.0,
            5.0,
            4.0,
            5.0,
            4.0,
            5.0,
            5.0,
            6.0,
            6.0,
            5.0,
            4.0,
            4.0,
            5.0,
            6.0,
            5.0,
            8.0,
            6.0,
            5.0,
            5.0,
            4.0,
            4.0,
            2.0,
            2.0,
            2.0,
            3.0,
            2.0,
            2.0,
            9.0,
            4.0,
            10.0,
            5.0,
            2.0,
            4.0,
            2.0,
            2.0,
            2.0,
            3.0,
            5.0,
            2.0,
            2.0,
            2.0,
            2.0,
            4.0,
            4.0,
            2.0,
            2.0,
            3.0,
            9.0,
            10.0,
            9.0,
            2.0,
            6.0,
            10.0,
            7.0,
            7.0,
            3.0
           ]
          }
         ],
         "hovertemplate": "%{xaxis.title.text}=%{x}<br>%{yaxis.title.text}=%{y}<br>Adjusted Rand Index=%{marker.color}<extra></extra>",
         "legendgroup": "",
         "marker": {
          "color": [
           0.7788054983463996,
           1.0,
           0.9975050358608121,
           0.9888882671584229,
           1.0,
           0.8690367009684573,
           1.0,
           0.9363306774589018,
           0.9145115913317868,
           1.0,
           1.0,
           0.9924989025762153,
           0.19045132359254693,
           1.0,
           1.0,
           1.0,
           0.9987503111712674,
           0.9363306774589018,
           0.9962509618412633,
           0.9891426005928511,
           0.5935428376172378,
           0.8524827318008533,
           0.4196592014105431,
           1.0,
           0.9974987418596442,
           1.0,
           0.9987503111712674,
           0.4297753752140483,
           0.9974962343264018,
           0.9974962343264018,
           0.7612501032158385,
           0.8570016442614602,
           0.9876154392331666,
           0.9950278219824059,
           0.9987503111712674,
           0.6784071654305436,
           1.0,
           0.9975050358608121,
           1.0,
           0.9962578947353511,
           0.9974962343264018,
           0.9913139991550171,
           1.0,
           0.07922742484719746,
           0.9853513943406347,
           0.9975050358608121,
           0.9962509618412633,
           0.9363306774589018,
           1.0,
           0.9975050358608121,
           0.9900321590974127,
           0.9685355798790162,
           0.9343326768973211,
           1.0,
           0.9962509618412633,
           1.0,
           1.0,
           0.9685355798790162,
           1.0,
           0.7534011753420153,
           0.16208845457582616,
           0.9888882671584229,
           1.0,
           0.9949924875567209,
           0.9962509618412633,
           0.743136776295973,
           0.9258329075564425,
           0.7613292817963812,
           0.9600170147315418,
           0.7462759891977182,
           0.8707336033270704,
           0.6636576797715299,
           0.9732781676454897,
           4.667166221094789E-4,
           0.932194105275,
           0.20696052459099734,
           0.9260957018568915,
           0.755527626841638,
           0.6738967372790549,
           0.25350856404675604,
           0.9753810598594689,
           0.9900956627955443,
           0.4488178773501008,
           0.743136776295973,
           0.7658619326927837,
           0.6872751968793659,
           0.9264447534998723,
           0.9477818406929468,
           0.9360126614444507,
           0.9453153840685725,
           0.6415352308995104,
           0.6324714300366678,
           0.4226443791222451,
           0.191550069474138,
           0.913590530414587,
           0.36943055713786765,
           0.2904114695178335,
           0.5723753610653122,
           0.40110314301392613,
           0.6621143308318239
          ],
          "coloraxis": "coloraxis",
          "symbol": "circle"
         },
         "name": "",
         "showlegend": false,
         "type": "splom",
         "diagonal": {
          "visible": false
         }
        }
       ],
       "layout": {
        "template": {
         "data": {
          "pie": [
           {
            "automargin": true,
            "type": "pie"
           }
          ],
          "scatter3d": [
           {
            "line": {
             "width": 3
            },
            "marker": {
             "size": 9
            },
            "type": "scatter3d"
           }
          ],
          "scattergeo": [
           {
            "line": {
             "width": 3
            },
            "marker": {
             "size": 9
            },
            "type": "scattergeo"
           }
          ],
          "scattergl": [
           {
            "line": {
             "width": 3
            },
            "marker": {
             "size": 9
            },
            "type": "scattergl"
           }
          ],
          "scatterpolargl": [
           {
            "line": {
             "width": 3
            },
            "marker": {
             "size": 9
            },
            "type": "scatterpolargl"
           }
          ],
          "scatterpolar": [
           {
            "line": {
             "width": 3
            },
            "marker": {
             "size": 9
            },
            "type": "scatterpolar"
           }
          ],
          "scatter": [
           {
            "line": {
             "width": 3
            },
            "marker": {
             "size": 9
            },
            "type": "scatter"
           }
          ],
          "scatterternary": [
           {
            "line": {
             "width": 3
            },
            "marker": {
             "size": 9
            },
            "type": "scatterternary"
           }
          ],
          "table": [
           {
            "cells": {
             "height": 30
            },
            "header": {
             "height": 36
            },
            "type": "table"
           }
          ]
         },
         "layout": {
          "font": {
           "size": 18
          },
          "xaxis": {
           "title": {
            "standoff": 15
           }
          },
          "yaxis": {
           "title": {
            "standoff": 15
           }
          }
         }
        },
        "coloraxis": {
         "colorbar": {
          "title": {
           "text": "Adjusted Rand Index"
          },
          "orientation": "h"
         },
         "colorscale": [
          [
           0.0,
           "#440154"
          ],
          [
           0.1111111111111111,
           "#482878"
          ],
          [
           0.2222222222222222,
           "#3e4989"
          ],
          [
           0.3333333333333333,
           "#31688e"
          ],
          [
           0.4444444444444444,
           "#26828e"
          ],
          [
           0.5555555555555556,
           "#1f9e89"
          ],
          [
           0.6666666666666666,
           "#35b779"
          ],
          [
           0.7777777777777778,
           "#6ece58"
          ],
          [
           0.8888888888888888,
           "#b5de2b"
          ],
          [
           1.0,
           "#fde725"
          ]
         ]
        },
        "legend": {
         "tracegroupgap": 0
        },
        "margin": {
         "t": 50,
         "b": 50,
         "l": 50,
         "r": 50
        },
        "dragmode": "select",
        "font": {
         "color": "black",
         "size": 15
        },
        "xaxis": {
         "title": {
          "standoff": 15
         },
         "color": "black"
        },
        "yaxis": {
         "color": "black"
        }
       },
       "config": {
        "plotlyServerURL": "https://plot.ly"
       }
      },
      "text/html": [
       "<div>                            <div id=\"48587326-f3a8-491a-9182-c3d34ea8ead5\" class=\"plotly-graph-div\" style=\"height:525px; width:100%;\"></div>            <script type=\"text/javascript\">                require([\"plotly\"], function(Plotly) {                    window.PLOTLYENV=window.PLOTLYENV || {};                                    if (document.getElementById(\"48587326-f3a8-491a-9182-c3d34ea8ead5\")) {                    Plotly.newPlot(                        \"48587326-f3a8-491a-9182-c3d34ea8ead5\",                        [{\"dimensions\":[{\"axis\":{\"matches\":true},\"label\":\"N. Repetitions\",\"values\":[3.0,3.0,3.0,3.0,3.0,4.0,3.0,4.0,3.0,3.0,4.0,3.0,3.0,3.0,3.0,3.0,3.0,4.0,3.0,3.0,3.0,10.0,3.0,3.0,5.0,3.0,4.0,6.0,3.0,3.0,3.0,5.0,4.0,3.0,4.0,9.0,3.0,3.0,3.0,3.0,3.0,3.0,3.0,9.0,3.0,3.0,3.0,4.0,3.0,3.0,4.0,3.0,5.0,3.0,3.0,3.0,3.0,3.0,3.0,3.0,6.0,3.0,3.0,3.0,3.0,4.0,5.0,6.0,5.0,5.0,6.0,3.0,5.0,7.0,6.0,3.0,5.0,5.0,5.0,3.0,6.0,4.0,3.0,4.0,5.0,5.0,10.0,10.0,9.0,8.0,8.0,6.0,9.0,3.0,10.0,9.0,10.0,6.0,8.0,10.0]},{\"axis\":{\"matches\":true},\"label\":\"N. Components\",\"values\":[26.0,30.0,29.0,25.0,30.0,25.0,30.0,30.0,30.0,30.0,30.0,24.0,30.0,30.0,30.0,30.0,27.0,30.0,29.0,26.0,29.0,11.0,5.0,30.0,30.0,30.0,30.0,11.0,25.0,30.0,21.0,24.0,25.0,30.0,30.0,25.0,30.0,29.0,30.0,27.0,30.0,23.0,30.0,7.0,20.0,29.0,29.0,30.0,30.0,29.0,28.0,29.0,30.0,30.0,29.0,30.0,30.0,29.0,28.0,27.0,3.0,25.0,28.0,28.0,29.0,24.0,22.0,24.0,24.0,23.0,16.0,16.0,22.0,3.0,29.0,20.0,13.0,29.0,21.0,8.0,27.0,23.0,28.0,24.0,28.0,20.0,29.0,28.0,22.0,21.0,6.0,25.0,24.0,5.0,18.0,13.0,15.0,18.0,18.0,10.0]},{\"axis\":{\"matches\":true},\"label\":\"N. Clusters\",\"values\":[3.0,5.0,5.0,5.0,4.0,6.0,5.0,5.0,7.0,5.0,3.0,5.0,2.0,5.0,4.0,4.0,4.0,5.0,4.0,4.0,3.0,2.0,5.0,5.0,4.0,5.0,4.0,10.0,4.0,3.0,4.0,6.0,4.0,6.0,4.0,7.0,4.0,5.0,4.0,6.0,3.0,5.0,4.0,7.0,6.0,5.0,4.0,5.0,4.0,5.0,5.0,6.0,6.0,5.0,4.0,4.0,5.0,6.0,5.0,8.0,6.0,5.0,5.0,4.0,4.0,2.0,2.0,2.0,3.0,2.0,2.0,9.0,4.0,10.0,5.0,2.0,4.0,2.0,2.0,2.0,3.0,5.0,2.0,2.0,2.0,2.0,4.0,4.0,2.0,2.0,3.0,9.0,10.0,9.0,2.0,6.0,10.0,7.0,7.0,3.0]}],\"hovertemplate\":\"%{xaxis.title.text}=%{x}\\u003cbr\\u003e%{yaxis.title.text}=%{y}\\u003cbr\\u003eAdjusted Rand Index=%{marker.color}\\u003cextra\\u003e\\u003c\\u002fextra\\u003e\",\"legendgroup\":\"\",\"marker\":{\"color\":[0.7788054983463996,1.0,0.9975050358608121,0.9888882671584229,1.0,0.8690367009684573,1.0,0.9363306774589018,0.9145115913317868,1.0,1.0,0.9924989025762153,0.19045132359254693,1.0,1.0,1.0,0.9987503111712674,0.9363306774589018,0.9962509618412633,0.9891426005928511,0.5935428376172378,0.8524827318008533,0.4196592014105431,1.0,0.9974987418596442,1.0,0.9987503111712674,0.4297753752140483,0.9974962343264018,0.9974962343264018,0.7612501032158385,0.8570016442614602,0.9876154392331666,0.9950278219824059,0.9987503111712674,0.6784071654305436,1.0,0.9975050358608121,1.0,0.9962578947353511,0.9974962343264018,0.9913139991550171,1.0,0.07922742484719746,0.9853513943406347,0.9975050358608121,0.9962509618412633,0.9363306774589018,1.0,0.9975050358608121,0.9900321590974127,0.9685355798790162,0.9343326768973211,1.0,0.9962509618412633,1.0,1.0,0.9685355798790162,1.0,0.7534011753420153,0.16208845457582616,0.9888882671584229,1.0,0.9949924875567209,0.9962509618412633,0.743136776295973,0.9258329075564425,0.7613292817963812,0.9600170147315418,0.7462759891977182,0.8707336033270704,0.6636576797715299,0.9732781676454897,0.0004667166221094789,0.932194105275,0.20696052459099734,0.9260957018568915,0.755527626841638,0.6738967372790549,0.25350856404675604,0.9753810598594689,0.9900956627955443,0.4488178773501008,0.743136776295973,0.7658619326927837,0.6872751968793659,0.9264447534998723,0.9477818406929468,0.9360126614444507,0.9453153840685725,0.6415352308995104,0.6324714300366678,0.4226443791222451,0.191550069474138,0.913590530414587,0.36943055713786765,0.2904114695178335,0.5723753610653122,0.40110314301392613,0.6621143308318239],\"coloraxis\":\"coloraxis\",\"symbol\":\"circle\"},\"name\":\"\",\"showlegend\":false,\"type\":\"splom\",\"diagonal\":{\"visible\":false}}],                        {\"template\":{\"data\":{\"pie\":[{\"automargin\":true,\"type\":\"pie\"}],\"scatter3d\":[{\"line\":{\"width\":3},\"marker\":{\"size\":9},\"type\":\"scatter3d\"}],\"scattergeo\":[{\"line\":{\"width\":3},\"marker\":{\"size\":9},\"type\":\"scattergeo\"}],\"scattergl\":[{\"line\":{\"width\":3},\"marker\":{\"size\":9},\"type\":\"scattergl\"}],\"scatterpolargl\":[{\"line\":{\"width\":3},\"marker\":{\"size\":9},\"type\":\"scatterpolargl\"}],\"scatterpolar\":[{\"line\":{\"width\":3},\"marker\":{\"size\":9},\"type\":\"scatterpolar\"}],\"scatter\":[{\"line\":{\"width\":3},\"marker\":{\"size\":9},\"type\":\"scatter\"}],\"scatterternary\":[{\"line\":{\"width\":3},\"marker\":{\"size\":9},\"type\":\"scatterternary\"}],\"table\":[{\"cells\":{\"height\":30},\"header\":{\"height\":36},\"type\":\"table\"}]},\"layout\":{\"font\":{\"size\":18},\"xaxis\":{\"title\":{\"standoff\":15}},\"yaxis\":{\"title\":{\"standoff\":15}}}},\"coloraxis\":{\"colorbar\":{\"title\":{\"text\":\"Adjusted Rand Index\"},\"orientation\":\"h\"},\"colorscale\":[[0.0,\"#440154\"],[0.1111111111111111,\"#482878\"],[0.2222222222222222,\"#3e4989\"],[0.3333333333333333,\"#31688e\"],[0.4444444444444444,\"#26828e\"],[0.5555555555555556,\"#1f9e89\"],[0.6666666666666666,\"#35b779\"],[0.7777777777777778,\"#6ece58\"],[0.8888888888888888,\"#b5de2b\"],[1.0,\"#fde725\"]]},\"legend\":{\"tracegroupgap\":0},\"margin\":{\"t\":50,\"b\":50,\"l\":50,\"r\":50},\"dragmode\":\"select\",\"font\":{\"color\":\"black\",\"size\":15},\"xaxis\":{\"title\":{\"standoff\":15},\"color\":\"black\"},\"yaxis\":{\"color\":\"black\"}},                        {\"responsive\": true}                    ).then(function(){\n",
       "                            \n",
       "var gd = document.getElementById('48587326-f3a8-491a-9182-c3d34ea8ead5');\n",
       "var x = new MutationObserver(function (mutations, observer) {{\n",
       "        var display = window.getComputedStyle(gd).display;\n",
       "        if (!display || display === 'none') {{\n",
       "            console.log([gd, 'removed!']);\n",
       "            Plotly.purge(gd);\n",
       "            observer.disconnect();\n",
       "        }}\n",
       "}});\n",
       "\n",
       "// Listen for the removal of the full notebook cells\n",
       "var notebookContainer = gd.closest('#notebook-container');\n",
       "if (notebookContainer) {{\n",
       "    x.observe(notebookContainer, {childList: true});\n",
       "}}\n",
       "\n",
       "// Listen for the clearing of the current output cell\n",
       "var outputEl = gd.closest('.output');\n",
       "if (outputEl) {{\n",
       "    x.observe(outputEl, {childList: true});\n",
       "}}\n",
       "\n",
       "                        })                };                });            </script>        </div>"
      ]
     },
     "metadata": {},
     "output_type": "display_data"
    }
   ],
   "execution_count": 36
  },
  {
   "metadata": {
    "ExecuteTime": {
     "end_time": "2025-01-16T14:15:36.970823Z",
     "start_time": "2025-01-16T14:15:36.966751Z"
    }
   },
   "cell_type": "code",
   "source": "fig",
   "id": "cb0e2060e0abe30d",
   "outputs": [
    {
     "data": {
      "application/vnd.plotly.v1+json": {
       "data": [
        {
         "dimensions": [
          {
           "axis": {
            "matches": true
           },
           "label": "N. Repetitions",
           "values": [
            3.0,
            3.0,
            3.0,
            3.0,
            3.0,
            4.0,
            3.0,
            4.0,
            3.0,
            3.0,
            4.0,
            3.0,
            3.0,
            3.0,
            3.0,
            3.0,
            3.0,
            4.0,
            3.0,
            3.0,
            3.0,
            10.0,
            3.0,
            3.0,
            5.0,
            3.0,
            4.0,
            6.0,
            3.0,
            3.0,
            3.0,
            5.0,
            4.0,
            3.0,
            4.0,
            9.0,
            3.0,
            3.0,
            3.0,
            3.0,
            3.0,
            3.0,
            3.0,
            9.0,
            3.0,
            3.0,
            3.0,
            4.0,
            3.0,
            3.0,
            4.0,
            3.0,
            5.0,
            3.0,
            3.0,
            3.0,
            3.0,
            3.0,
            3.0,
            3.0,
            6.0,
            3.0,
            3.0,
            3.0,
            3.0,
            4.0,
            5.0,
            6.0,
            5.0,
            5.0,
            6.0,
            3.0,
            5.0,
            7.0,
            6.0,
            3.0,
            5.0,
            5.0,
            5.0,
            3.0,
            6.0,
            4.0,
            3.0,
            4.0,
            5.0,
            5.0,
            10.0,
            10.0,
            9.0,
            8.0,
            8.0,
            6.0,
            9.0,
            3.0,
            10.0,
            9.0,
            10.0,
            6.0,
            8.0,
            10.0
           ]
          },
          {
           "axis": {
            "matches": true
           },
           "label": "N. Components",
           "values": [
            26.0,
            30.0,
            29.0,
            25.0,
            30.0,
            25.0,
            30.0,
            30.0,
            30.0,
            30.0,
            30.0,
            24.0,
            30.0,
            30.0,
            30.0,
            30.0,
            27.0,
            30.0,
            29.0,
            26.0,
            29.0,
            11.0,
            5.0,
            30.0,
            30.0,
            30.0,
            30.0,
            11.0,
            25.0,
            30.0,
            21.0,
            24.0,
            25.0,
            30.0,
            30.0,
            25.0,
            30.0,
            29.0,
            30.0,
            27.0,
            30.0,
            23.0,
            30.0,
            7.0,
            20.0,
            29.0,
            29.0,
            30.0,
            30.0,
            29.0,
            28.0,
            29.0,
            30.0,
            30.0,
            29.0,
            30.0,
            30.0,
            29.0,
            28.0,
            27.0,
            3.0,
            25.0,
            28.0,
            28.0,
            29.0,
            24.0,
            22.0,
            24.0,
            24.0,
            23.0,
            16.0,
            16.0,
            22.0,
            3.0,
            29.0,
            20.0,
            13.0,
            29.0,
            21.0,
            8.0,
            27.0,
            23.0,
            28.0,
            24.0,
            28.0,
            20.0,
            29.0,
            28.0,
            22.0,
            21.0,
            6.0,
            25.0,
            24.0,
            5.0,
            18.0,
            13.0,
            15.0,
            18.0,
            18.0,
            10.0
           ]
          },
          {
           "axis": {
            "matches": true
           },
           "label": "N. Clusters",
           "values": [
            3.0,
            5.0,
            5.0,
            5.0,
            4.0,
            6.0,
            5.0,
            5.0,
            7.0,
            5.0,
            3.0,
            5.0,
            2.0,
            5.0,
            4.0,
            4.0,
            4.0,
            5.0,
            4.0,
            4.0,
            3.0,
            2.0,
            5.0,
            5.0,
            4.0,
            5.0,
            4.0,
            10.0,
            4.0,
            3.0,
            4.0,
            6.0,
            4.0,
            6.0,
            4.0,
            7.0,
            4.0,
            5.0,
            4.0,
            6.0,
            3.0,
            5.0,
            4.0,
            7.0,
            6.0,
            5.0,
            4.0,
            5.0,
            4.0,
            5.0,
            5.0,
            6.0,
            6.0,
            5.0,
            4.0,
            4.0,
            5.0,
            6.0,
            5.0,
            8.0,
            6.0,
            5.0,
            5.0,
            4.0,
            4.0,
            2.0,
            2.0,
            2.0,
            3.0,
            2.0,
            2.0,
            9.0,
            4.0,
            10.0,
            5.0,
            2.0,
            4.0,
            2.0,
            2.0,
            2.0,
            3.0,
            5.0,
            2.0,
            2.0,
            2.0,
            2.0,
            4.0,
            4.0,
            2.0,
            2.0,
            3.0,
            9.0,
            10.0,
            9.0,
            2.0,
            6.0,
            10.0,
            7.0,
            7.0,
            3.0
           ]
          }
         ],
         "hovertemplate": "%{xaxis.title.text}=%{x}<br>%{yaxis.title.text}=%{y}<br>Adjusted Rand Index=%{marker.color}<extra></extra>",
         "legendgroup": "",
         "marker": {
          "color": [
           0.7788054983463996,
           1.0,
           0.9975050358608121,
           0.9888882671584229,
           1.0,
           0.8690367009684573,
           1.0,
           0.9363306774589018,
           0.9145115913317868,
           1.0,
           1.0,
           0.9924989025762153,
           0.19045132359254693,
           1.0,
           1.0,
           1.0,
           0.9987503111712674,
           0.9363306774589018,
           0.9962509618412633,
           0.9891426005928511,
           0.5935428376172378,
           0.8524827318008533,
           0.4196592014105431,
           1.0,
           0.9974987418596442,
           1.0,
           0.9987503111712674,
           0.4297753752140483,
           0.9974962343264018,
           0.9974962343264018,
           0.7612501032158385,
           0.8570016442614602,
           0.9876154392331666,
           0.9950278219824059,
           0.9987503111712674,
           0.6784071654305436,
           1.0,
           0.9975050358608121,
           1.0,
           0.9962578947353511,
           0.9974962343264018,
           0.9913139991550171,
           1.0,
           0.07922742484719746,
           0.9853513943406347,
           0.9975050358608121,
           0.9962509618412633,
           0.9363306774589018,
           1.0,
           0.9975050358608121,
           0.9900321590974127,
           0.9685355798790162,
           0.9343326768973211,
           1.0,
           0.9962509618412633,
           1.0,
           1.0,
           0.9685355798790162,
           1.0,
           0.7534011753420153,
           0.16208845457582616,
           0.9888882671584229,
           1.0,
           0.9949924875567209,
           0.9962509618412633,
           0.743136776295973,
           0.9258329075564425,
           0.7613292817963812,
           0.9600170147315418,
           0.7462759891977182,
           0.8707336033270704,
           0.6636576797715299,
           0.9732781676454897,
           4.667166221094789E-4,
           0.932194105275,
           0.20696052459099734,
           0.9260957018568915,
           0.755527626841638,
           0.6738967372790549,
           0.25350856404675604,
           0.9753810598594689,
           0.9900956627955443,
           0.4488178773501008,
           0.743136776295973,
           0.7658619326927837,
           0.6872751968793659,
           0.9264447534998723,
           0.9477818406929468,
           0.9360126614444507,
           0.9453153840685725,
           0.6415352308995104,
           0.6324714300366678,
           0.4226443791222451,
           0.191550069474138,
           0.913590530414587,
           0.36943055713786765,
           0.2904114695178335,
           0.5723753610653122,
           0.40110314301392613,
           0.6621143308318239
          ],
          "coloraxis": "coloraxis",
          "symbol": "circle"
         },
         "name": "",
         "showlegend": false,
         "type": "splom",
         "diagonal": {
          "visible": false
         }
        }
       ],
       "layout": {
        "template": {
         "data": {
          "pie": [
           {
            "automargin": true,
            "type": "pie"
           }
          ],
          "scatter3d": [
           {
            "line": {
             "width": 3
            },
            "marker": {
             "size": 9
            },
            "type": "scatter3d"
           }
          ],
          "scattergeo": [
           {
            "line": {
             "width": 3
            },
            "marker": {
             "size": 9
            },
            "type": "scattergeo"
           }
          ],
          "scattergl": [
           {
            "line": {
             "width": 3
            },
            "marker": {
             "size": 9
            },
            "type": "scattergl"
           }
          ],
          "scatterpolargl": [
           {
            "line": {
             "width": 3
            },
            "marker": {
             "size": 9
            },
            "type": "scatterpolargl"
           }
          ],
          "scatterpolar": [
           {
            "line": {
             "width": 3
            },
            "marker": {
             "size": 9
            },
            "type": "scatterpolar"
           }
          ],
          "scatter": [
           {
            "line": {
             "width": 3
            },
            "marker": {
             "size": 9
            },
            "type": "scatter"
           }
          ],
          "scatterternary": [
           {
            "line": {
             "width": 3
            },
            "marker": {
             "size": 9
            },
            "type": "scatterternary"
           }
          ],
          "table": [
           {
            "cells": {
             "height": 30
            },
            "header": {
             "height": 36
            },
            "type": "table"
           }
          ]
         },
         "layout": {
          "font": {
           "size": 18
          },
          "xaxis": {
           "title": {
            "standoff": 15
           }
          },
          "yaxis": {
           "title": {
            "standoff": 15
           }
          }
         }
        },
        "coloraxis": {
         "colorbar": {
          "title": {
           "text": "Adjusted Rand Index"
          }
         },
         "colorscale": [
          [
           0.0,
           "#440154"
          ],
          [
           0.1111111111111111,
           "#482878"
          ],
          [
           0.2222222222222222,
           "#3e4989"
          ],
          [
           0.3333333333333333,
           "#31688e"
          ],
          [
           0.4444444444444444,
           "#26828e"
          ],
          [
           0.5555555555555556,
           "#1f9e89"
          ],
          [
           0.6666666666666666,
           "#35b779"
          ],
          [
           0.7777777777777778,
           "#6ece58"
          ],
          [
           0.8888888888888888,
           "#b5de2b"
          ],
          [
           1.0,
           "#fde725"
          ]
         ]
        },
        "legend": {
         "tracegroupgap": 0
        },
        "margin": {
         "t": 50,
         "b": 50,
         "l": 50,
         "r": 50
        },
        "dragmode": "select",
        "font": {
         "color": "black",
         "size": 15
        },
        "xaxis": {
         "title": {
          "standoff": 15
         },
         "color": "black"
        },
        "yaxis": {
         "color": "black"
        }
       },
       "config": {
        "plotlyServerURL": "https://plot.ly"
       }
      },
      "text/html": [
       "<div>                            <div id=\"2d4e1a08-cca3-46f3-a937-10dcc39349fd\" class=\"plotly-graph-div\" style=\"height:525px; width:100%;\"></div>            <script type=\"text/javascript\">                require([\"plotly\"], function(Plotly) {                    window.PLOTLYENV=window.PLOTLYENV || {};                                    if (document.getElementById(\"2d4e1a08-cca3-46f3-a937-10dcc39349fd\")) {                    Plotly.newPlot(                        \"2d4e1a08-cca3-46f3-a937-10dcc39349fd\",                        [{\"dimensions\":[{\"axis\":{\"matches\":true},\"label\":\"N. Repetitions\",\"values\":[3.0,3.0,3.0,3.0,3.0,4.0,3.0,4.0,3.0,3.0,4.0,3.0,3.0,3.0,3.0,3.0,3.0,4.0,3.0,3.0,3.0,10.0,3.0,3.0,5.0,3.0,4.0,6.0,3.0,3.0,3.0,5.0,4.0,3.0,4.0,9.0,3.0,3.0,3.0,3.0,3.0,3.0,3.0,9.0,3.0,3.0,3.0,4.0,3.0,3.0,4.0,3.0,5.0,3.0,3.0,3.0,3.0,3.0,3.0,3.0,6.0,3.0,3.0,3.0,3.0,4.0,5.0,6.0,5.0,5.0,6.0,3.0,5.0,7.0,6.0,3.0,5.0,5.0,5.0,3.0,6.0,4.0,3.0,4.0,5.0,5.0,10.0,10.0,9.0,8.0,8.0,6.0,9.0,3.0,10.0,9.0,10.0,6.0,8.0,10.0]},{\"axis\":{\"matches\":true},\"label\":\"N. Components\",\"values\":[26.0,30.0,29.0,25.0,30.0,25.0,30.0,30.0,30.0,30.0,30.0,24.0,30.0,30.0,30.0,30.0,27.0,30.0,29.0,26.0,29.0,11.0,5.0,30.0,30.0,30.0,30.0,11.0,25.0,30.0,21.0,24.0,25.0,30.0,30.0,25.0,30.0,29.0,30.0,27.0,30.0,23.0,30.0,7.0,20.0,29.0,29.0,30.0,30.0,29.0,28.0,29.0,30.0,30.0,29.0,30.0,30.0,29.0,28.0,27.0,3.0,25.0,28.0,28.0,29.0,24.0,22.0,24.0,24.0,23.0,16.0,16.0,22.0,3.0,29.0,20.0,13.0,29.0,21.0,8.0,27.0,23.0,28.0,24.0,28.0,20.0,29.0,28.0,22.0,21.0,6.0,25.0,24.0,5.0,18.0,13.0,15.0,18.0,18.0,10.0]},{\"axis\":{\"matches\":true},\"label\":\"N. Clusters\",\"values\":[3.0,5.0,5.0,5.0,4.0,6.0,5.0,5.0,7.0,5.0,3.0,5.0,2.0,5.0,4.0,4.0,4.0,5.0,4.0,4.0,3.0,2.0,5.0,5.0,4.0,5.0,4.0,10.0,4.0,3.0,4.0,6.0,4.0,6.0,4.0,7.0,4.0,5.0,4.0,6.0,3.0,5.0,4.0,7.0,6.0,5.0,4.0,5.0,4.0,5.0,5.0,6.0,6.0,5.0,4.0,4.0,5.0,6.0,5.0,8.0,6.0,5.0,5.0,4.0,4.0,2.0,2.0,2.0,3.0,2.0,2.0,9.0,4.0,10.0,5.0,2.0,4.0,2.0,2.0,2.0,3.0,5.0,2.0,2.0,2.0,2.0,4.0,4.0,2.0,2.0,3.0,9.0,10.0,9.0,2.0,6.0,10.0,7.0,7.0,3.0]}],\"hovertemplate\":\"%{xaxis.title.text}=%{x}\\u003cbr\\u003e%{yaxis.title.text}=%{y}\\u003cbr\\u003eAdjusted Rand Index=%{marker.color}\\u003cextra\\u003e\\u003c\\u002fextra\\u003e\",\"legendgroup\":\"\",\"marker\":{\"color\":[0.7788054983463996,1.0,0.9975050358608121,0.9888882671584229,1.0,0.8690367009684573,1.0,0.9363306774589018,0.9145115913317868,1.0,1.0,0.9924989025762153,0.19045132359254693,1.0,1.0,1.0,0.9987503111712674,0.9363306774589018,0.9962509618412633,0.9891426005928511,0.5935428376172378,0.8524827318008533,0.4196592014105431,1.0,0.9974987418596442,1.0,0.9987503111712674,0.4297753752140483,0.9974962343264018,0.9974962343264018,0.7612501032158385,0.8570016442614602,0.9876154392331666,0.9950278219824059,0.9987503111712674,0.6784071654305436,1.0,0.9975050358608121,1.0,0.9962578947353511,0.9974962343264018,0.9913139991550171,1.0,0.07922742484719746,0.9853513943406347,0.9975050358608121,0.9962509618412633,0.9363306774589018,1.0,0.9975050358608121,0.9900321590974127,0.9685355798790162,0.9343326768973211,1.0,0.9962509618412633,1.0,1.0,0.9685355798790162,1.0,0.7534011753420153,0.16208845457582616,0.9888882671584229,1.0,0.9949924875567209,0.9962509618412633,0.743136776295973,0.9258329075564425,0.7613292817963812,0.9600170147315418,0.7462759891977182,0.8707336033270704,0.6636576797715299,0.9732781676454897,0.0004667166221094789,0.932194105275,0.20696052459099734,0.9260957018568915,0.755527626841638,0.6738967372790549,0.25350856404675604,0.9753810598594689,0.9900956627955443,0.4488178773501008,0.743136776295973,0.7658619326927837,0.6872751968793659,0.9264447534998723,0.9477818406929468,0.9360126614444507,0.9453153840685725,0.6415352308995104,0.6324714300366678,0.4226443791222451,0.191550069474138,0.913590530414587,0.36943055713786765,0.2904114695178335,0.5723753610653122,0.40110314301392613,0.6621143308318239],\"coloraxis\":\"coloraxis\",\"symbol\":\"circle\"},\"name\":\"\",\"showlegend\":false,\"type\":\"splom\",\"diagonal\":{\"visible\":false}}],                        {\"template\":{\"data\":{\"pie\":[{\"automargin\":true,\"type\":\"pie\"}],\"scatter3d\":[{\"line\":{\"width\":3},\"marker\":{\"size\":9},\"type\":\"scatter3d\"}],\"scattergeo\":[{\"line\":{\"width\":3},\"marker\":{\"size\":9},\"type\":\"scattergeo\"}],\"scattergl\":[{\"line\":{\"width\":3},\"marker\":{\"size\":9},\"type\":\"scattergl\"}],\"scatterpolargl\":[{\"line\":{\"width\":3},\"marker\":{\"size\":9},\"type\":\"scatterpolargl\"}],\"scatterpolar\":[{\"line\":{\"width\":3},\"marker\":{\"size\":9},\"type\":\"scatterpolar\"}],\"scatter\":[{\"line\":{\"width\":3},\"marker\":{\"size\":9},\"type\":\"scatter\"}],\"scatterternary\":[{\"line\":{\"width\":3},\"marker\":{\"size\":9},\"type\":\"scatterternary\"}],\"table\":[{\"cells\":{\"height\":30},\"header\":{\"height\":36},\"type\":\"table\"}]},\"layout\":{\"font\":{\"size\":18},\"xaxis\":{\"title\":{\"standoff\":15}},\"yaxis\":{\"title\":{\"standoff\":15}}}},\"coloraxis\":{\"colorbar\":{\"title\":{\"text\":\"Adjusted Rand Index\"}},\"colorscale\":[[0.0,\"#440154\"],[0.1111111111111111,\"#482878\"],[0.2222222222222222,\"#3e4989\"],[0.3333333333333333,\"#31688e\"],[0.4444444444444444,\"#26828e\"],[0.5555555555555556,\"#1f9e89\"],[0.6666666666666666,\"#35b779\"],[0.7777777777777778,\"#6ece58\"],[0.8888888888888888,\"#b5de2b\"],[1.0,\"#fde725\"]]},\"legend\":{\"tracegroupgap\":0},\"margin\":{\"t\":50,\"b\":50,\"l\":50,\"r\":50},\"dragmode\":\"select\",\"font\":{\"color\":\"black\",\"size\":15},\"xaxis\":{\"title\":{\"standoff\":15},\"color\":\"black\"},\"yaxis\":{\"color\":\"black\"}},                        {\"responsive\": true}                    ).then(function(){\n",
       "                            \n",
       "var gd = document.getElementById('2d4e1a08-cca3-46f3-a937-10dcc39349fd');\n",
       "var x = new MutationObserver(function (mutations, observer) {{\n",
       "        var display = window.getComputedStyle(gd).display;\n",
       "        if (!display || display === 'none') {{\n",
       "            console.log([gd, 'removed!']);\n",
       "            Plotly.purge(gd);\n",
       "            observer.disconnect();\n",
       "        }}\n",
       "}});\n",
       "\n",
       "// Listen for the removal of the full notebook cells\n",
       "var notebookContainer = gd.closest('#notebook-container');\n",
       "if (notebookContainer) {{\n",
       "    x.observe(notebookContainer, {childList: true});\n",
       "}}\n",
       "\n",
       "// Listen for the clearing of the current output cell\n",
       "var outputEl = gd.closest('.output');\n",
       "if (outputEl) {{\n",
       "    x.observe(outputEl, {childList: true});\n",
       "}}\n",
       "\n",
       "                        })                };                });            </script>        </div>"
      ]
     },
     "metadata": {},
     "output_type": "display_data"
    }
   ],
   "execution_count": 34
  },
  {
   "cell_type": "code",
   "execution_count": 73,
   "id": "44a0196d-bde9-4df4-be19-3cc8fbe1e6f9",
   "metadata": {},
   "outputs": [
    {
     "data": {
      "application/vnd.plotly.v1+json": {
       "config": {
        "plotlyServerURL": "https://plot.ly"
       },
       "data": [
        {
         "dimensions": [
          {
           "label": "params.repetitions",
           "values": [
            3,
            7,
            4,
            3,
            3,
            4,
            3,
            3,
            3,
            3,
            3,
            5,
            4,
            3,
            4,
            3,
            3,
            3,
            4,
            4,
            3,
            3,
            3,
            3,
            3,
            4,
            3,
            4,
            3,
            3,
            6,
            7,
            8,
            7,
            3,
            4,
            3,
            3,
            3,
            3,
            3,
            3,
            3,
            3,
            5,
            4,
            5,
            4,
            4,
            3,
            5,
            3,
            5,
            4,
            5,
            6,
            6,
            6,
            5,
            3,
            6,
            4,
            3,
            5,
            4,
            4,
            7,
            4,
            5,
            5
           ]
          },
          {
           "label": "params.kmeans_n_clusters",
           "values": [
            2,
            2,
            2,
            4,
            2,
            2,
            2,
            2,
            3,
            2,
            3,
            2,
            3,
            2,
            3,
            3,
            3,
            5,
            2,
            2,
            2,
            2,
            2,
            2,
            2,
            2,
            2,
            4,
            6,
            4,
            3,
            2,
            2,
            2,
            5,
            4,
            3,
            4,
            4,
            4,
            5,
            4,
            6,
            4,
            2,
            2,
            2,
            4,
            2,
            2,
            2,
            3,
            3,
            2,
            2,
            2,
            2,
            2,
            3,
            9,
            3,
            2,
            2,
            2,
            2,
            4,
            2,
            2,
            2,
            2
           ]
          },
          {
           "label": "params.components_size",
           "values": [
            25,
            28,
            30,
            30,
            30,
            30,
            30,
            30,
            30,
            30,
            30,
            30,
            29,
            26,
            30,
            29,
            30,
            5,
            29,
            30,
            26,
            30,
            28,
            29,
            30,
            27,
            30,
            23,
            30,
            30,
            26,
            24,
            24,
            24,
            19,
            29,
            27,
            29,
            24,
            23,
            23,
            22,
            22,
            22,
            20,
            19,
            16,
            19,
            20,
            16,
            24,
            15,
            21,
            18,
            18,
            12,
            21,
            30,
            27,
            16,
            27,
            16,
            22,
            21,
            7,
            27,
            18,
            18,
            19,
            20
           ]
          },
          {
           "constraintrange": [
            0.07229512446337918,
            0.09238328007398387
           ],
           "label": "metrics.silhouette",
           "values": [
            0.027108306191995325,
            -0.004008537536499061,
            0.04270947411807203,
            -0.016821578226581382,
            0.023925492921337606,
            0.008433435666398072,
            0.027948739831127625,
            0.036371625996287876,
            0.02212502545225319,
            0.01349663415835968,
            0.032489628141092124,
            0.007494211142168741,
            0.003132253423029969,
            0.02327897163270819,
            -0.033260018320742574,
            0.009950251299201891,
            0.03739820667622902,
            -0.044736180382128655,
            0.016121042349498654,
            0.033682843900214476,
            0.026898249496350692,
            0.025452938220517276,
            0.032786260501010564,
            0.039011434700869894,
            0.05829313216259437,
            0.0022335418588402363,
            0.040131564289467854,
            2.289535336249725E-4,
            0.003547817251826811,
            0.017233489608758222,
            -0.008222863691691366,
            0.015344767976954202,
            -6.381514946863503E-4,
            0.034799488598339284,
            -0.004205423777874572,
            -0.003592442559439201,
            -0.01422661966753259,
            0.07446893613014936,
            0.019991526058980198,
            0.009436539666393117,
            -0.011448484822749305,
            0.02375441238616537,
            -0.002601563776362776,
            0.04525257233654649,
            0.013724465738638631,
            0.008619441725655066,
            -0.003747667241213611,
            -0.03448151374209225,
            0.0031175998505385714,
            -0.009564844820241525,
            -0.0034145902281405844,
            -0.006277288434670445,
            -0.0255191398355934,
            0.017671434925952124,
            0.0153876122316915,
            0.0041176539653817856,
            0.004727622742965497,
            -0.01467350391537818,
            0.017165722836679997,
            -0.03291197766037587,
            0.04669444786963486,
            0.017557338988938773,
            0.0017364318189746761,
            -0.019374273715075968,
            0.007636344341292024,
            -0.01476171442227191,
            -0.032563842072841326,
            0.019967590539503127,
            0.02256757252694701,
            0.03185766260798324
           ]
          },
          {
           "label": "metrics.adjusted_rand",
           "values": [
            0.24461300369344885,
            0.40591328506531954,
            0.5608817823247219,
            0.642926267027383,
            0.3039434943189492,
            0.34469673245873794,
            0.36109476898231074,
            0.2836430565753261,
            0.5082669674811255,
            0.3233576990280341,
            0.5636740098970461,
            0.4090938901017153,
            0.5437880664099795,
            0.14724235942626981,
            0.5357274850742718,
            0.5957885282232486,
            0.5197906730864216,
            0.07687055849927642,
            0.4105758222464061,
            0.38586577346786605,
            0.414207467635467,
            0.39336224184998675,
            0.49522409014265195,
            0.17963827095360865,
            0.4078736140717907,
            0.0421955765121726,
            0.3618648945960574,
            0.7148634706447454,
            0.8068625005158795,
            0.4989548276117953,
            0.7124541137327667,
            0.5657755795025077,
            0.4684740127952705,
            0.7502212547666931,
            0.5997101184181981,
            0.8426852033737839,
            0.2558990914717219,
            0.9013057131943453,
            0.6209417492047995,
            0.2676346207346457,
            0.6887338130700826,
            0.525307296902106,
            0.6630788720753337,
            0.5974248927641597,
            0.2739982181571097,
            0.21385810868520394,
            0.29240869159773497,
            0.4965183443525828,
            0.22139778441852667,
            0.14410961345195006,
            0.315344238715402,
            0.2214468989648421,
            0.40638417916082503,
            0.40922524070109345,
            0.3867139916281984,
            0.2562099021696756,
            0.2967763339668612,
            0.6422822327719536,
            0.7355268918138442,
            0.398442974717277,
            0.9132955611987452,
            0.3515004306661481,
            0.23691371344972514,
            0.4036063390642453,
            0.2161990164366144,
            0.5404446511023967,
            0.41546632481435203,
            0.25711452424199677,
            0.4861468583441749,
            0.29791075759065694
           ]
          },
          {
           "label": "metrics.n_clusters_",
           "values": [
            3,
            7,
            5,
            13,
            3,
            5,
            4,
            2,
            5,
            4,
            6,
            6,
            8,
            2,
            11,
            7,
            4,
            13,
            5,
            4,
            4,
            4,
            5,
            2,
            3,
            3,
            3,
            12,
            15,
            5,
            17,
            7,
            8,
            10,
            18,
            13,
            7,
            7,
            8,
            5,
            10,
            6,
            16,
            5,
            3,
            4,
            7,
            10,
            5,
            5,
            5,
            6,
            18,
            5,
            6,
            5,
            6,
            12,
            14,
            19,
            11,
            5,
            4,
            8,
            5,
            14,
            9,
            4,
            7,
            3
           ]
          }
         ],
         "domain": {
          "x": [
           0,
           1
          ],
          "y": [
           0,
           1
          ]
         },
         "name": "",
         "type": "parcoords"
        }
       ],
       "layout": {
        "autosize": true,
        "legend": {
         "tracegroupgap": 0
        },
        "template": {
         "data": {
          "bar": [
           {
            "error_x": {
             "color": "#2a3f5f"
            },
            "error_y": {
             "color": "#2a3f5f"
            },
            "marker": {
             "line": {
              "color": "#E5ECF6",
              "width": 0.5
             },
             "pattern": {
              "fillmode": "overlay",
              "size": 10,
              "solidity": 0.2
             }
            },
            "type": "bar"
           }
          ],
          "barpolar": [
           {
            "marker": {
             "line": {
              "color": "#E5ECF6",
              "width": 0.5
             },
             "pattern": {
              "fillmode": "overlay",
              "size": 10,
              "solidity": 0.2
             }
            },
            "type": "barpolar"
           }
          ],
          "carpet": [
           {
            "aaxis": {
             "endlinecolor": "#2a3f5f",
             "gridcolor": "white",
             "linecolor": "white",
             "minorgridcolor": "white",
             "startlinecolor": "#2a3f5f"
            },
            "baxis": {
             "endlinecolor": "#2a3f5f",
             "gridcolor": "white",
             "linecolor": "white",
             "minorgridcolor": "white",
             "startlinecolor": "#2a3f5f"
            },
            "type": "carpet"
           }
          ],
          "choropleth": [
           {
            "colorbar": {
             "outlinewidth": 0,
             "ticks": ""
            },
            "type": "choropleth"
           }
          ],
          "contour": [
           {
            "colorbar": {
             "outlinewidth": 0,
             "ticks": ""
            },
            "colorscale": [
             [
              0,
              "#0d0887"
             ],
             [
              0.1111111111111111,
              "#46039f"
             ],
             [
              0.2222222222222222,
              "#7201a8"
             ],
             [
              0.3333333333333333,
              "#9c179e"
             ],
             [
              0.4444444444444444,
              "#bd3786"
             ],
             [
              0.5555555555555556,
              "#d8576b"
             ],
             [
              0.6666666666666666,
              "#ed7953"
             ],
             [
              0.7777777777777778,
              "#fb9f3a"
             ],
             [
              0.8888888888888888,
              "#fdca26"
             ],
             [
              1,
              "#f0f921"
             ]
            ],
            "type": "contour"
           }
          ],
          "contourcarpet": [
           {
            "colorbar": {
             "outlinewidth": 0,
             "ticks": ""
            },
            "type": "contourcarpet"
           }
          ],
          "heatmap": [
           {
            "colorbar": {
             "outlinewidth": 0,
             "ticks": ""
            },
            "colorscale": [
             [
              0,
              "#0d0887"
             ],
             [
              0.1111111111111111,
              "#46039f"
             ],
             [
              0.2222222222222222,
              "#7201a8"
             ],
             [
              0.3333333333333333,
              "#9c179e"
             ],
             [
              0.4444444444444444,
              "#bd3786"
             ],
             [
              0.5555555555555556,
              "#d8576b"
             ],
             [
              0.6666666666666666,
              "#ed7953"
             ],
             [
              0.7777777777777778,
              "#fb9f3a"
             ],
             [
              0.8888888888888888,
              "#fdca26"
             ],
             [
              1,
              "#f0f921"
             ]
            ],
            "type": "heatmap"
           }
          ],
          "heatmapgl": [
           {
            "colorbar": {
             "outlinewidth": 0,
             "ticks": ""
            },
            "colorscale": [
             [
              0,
              "#0d0887"
             ],
             [
              0.1111111111111111,
              "#46039f"
             ],
             [
              0.2222222222222222,
              "#7201a8"
             ],
             [
              0.3333333333333333,
              "#9c179e"
             ],
             [
              0.4444444444444444,
              "#bd3786"
             ],
             [
              0.5555555555555556,
              "#d8576b"
             ],
             [
              0.6666666666666666,
              "#ed7953"
             ],
             [
              0.7777777777777778,
              "#fb9f3a"
             ],
             [
              0.8888888888888888,
              "#fdca26"
             ],
             [
              1,
              "#f0f921"
             ]
            ],
            "type": "heatmapgl"
           }
          ],
          "histogram": [
           {
            "marker": {
             "pattern": {
              "fillmode": "overlay",
              "size": 10,
              "solidity": 0.2
             }
            },
            "type": "histogram"
           }
          ],
          "histogram2d": [
           {
            "colorbar": {
             "outlinewidth": 0,
             "ticks": ""
            },
            "colorscale": [
             [
              0,
              "#0d0887"
             ],
             [
              0.1111111111111111,
              "#46039f"
             ],
             [
              0.2222222222222222,
              "#7201a8"
             ],
             [
              0.3333333333333333,
              "#9c179e"
             ],
             [
              0.4444444444444444,
              "#bd3786"
             ],
             [
              0.5555555555555556,
              "#d8576b"
             ],
             [
              0.6666666666666666,
              "#ed7953"
             ],
             [
              0.7777777777777778,
              "#fb9f3a"
             ],
             [
              0.8888888888888888,
              "#fdca26"
             ],
             [
              1,
              "#f0f921"
             ]
            ],
            "type": "histogram2d"
           }
          ],
          "histogram2dcontour": [
           {
            "colorbar": {
             "outlinewidth": 0,
             "ticks": ""
            },
            "colorscale": [
             [
              0,
              "#0d0887"
             ],
             [
              0.1111111111111111,
              "#46039f"
             ],
             [
              0.2222222222222222,
              "#7201a8"
             ],
             [
              0.3333333333333333,
              "#9c179e"
             ],
             [
              0.4444444444444444,
              "#bd3786"
             ],
             [
              0.5555555555555556,
              "#d8576b"
             ],
             [
              0.6666666666666666,
              "#ed7953"
             ],
             [
              0.7777777777777778,
              "#fb9f3a"
             ],
             [
              0.8888888888888888,
              "#fdca26"
             ],
             [
              1,
              "#f0f921"
             ]
            ],
            "type": "histogram2dcontour"
           }
          ],
          "mesh3d": [
           {
            "colorbar": {
             "outlinewidth": 0,
             "ticks": ""
            },
            "type": "mesh3d"
           }
          ],
          "parcoords": [
           {
            "line": {
             "colorbar": {
              "outlinewidth": 0,
              "ticks": ""
             }
            },
            "type": "parcoords"
           }
          ],
          "pie": [
           {
            "automargin": true,
            "type": "pie"
           }
          ],
          "scatter": [
           {
            "fillpattern": {
             "fillmode": "overlay",
             "size": 10,
             "solidity": 0.2
            },
            "type": "scatter"
           }
          ],
          "scatter3d": [
           {
            "line": {
             "colorbar": {
              "outlinewidth": 0,
              "ticks": ""
             }
            },
            "marker": {
             "colorbar": {
              "outlinewidth": 0,
              "ticks": ""
             }
            },
            "type": "scatter3d"
           }
          ],
          "scattercarpet": [
           {
            "marker": {
             "colorbar": {
              "outlinewidth": 0,
              "ticks": ""
             }
            },
            "type": "scattercarpet"
           }
          ],
          "scattergeo": [
           {
            "marker": {
             "colorbar": {
              "outlinewidth": 0,
              "ticks": ""
             }
            },
            "type": "scattergeo"
           }
          ],
          "scattergl": [
           {
            "marker": {
             "colorbar": {
              "outlinewidth": 0,
              "ticks": ""
             }
            },
            "type": "scattergl"
           }
          ],
          "scattermapbox": [
           {
            "marker": {
             "colorbar": {
              "outlinewidth": 0,
              "ticks": ""
             }
            },
            "type": "scattermapbox"
           }
          ],
          "scatterpolar": [
           {
            "marker": {
             "colorbar": {
              "outlinewidth": 0,
              "ticks": ""
             }
            },
            "type": "scatterpolar"
           }
          ],
          "scatterpolargl": [
           {
            "marker": {
             "colorbar": {
              "outlinewidth": 0,
              "ticks": ""
             }
            },
            "type": "scatterpolargl"
           }
          ],
          "scatterternary": [
           {
            "marker": {
             "colorbar": {
              "outlinewidth": 0,
              "ticks": ""
             }
            },
            "type": "scatterternary"
           }
          ],
          "surface": [
           {
            "colorbar": {
             "outlinewidth": 0,
             "ticks": ""
            },
            "colorscale": [
             [
              0,
              "#0d0887"
             ],
             [
              0.1111111111111111,
              "#46039f"
             ],
             [
              0.2222222222222222,
              "#7201a8"
             ],
             [
              0.3333333333333333,
              "#9c179e"
             ],
             [
              0.4444444444444444,
              "#bd3786"
             ],
             [
              0.5555555555555556,
              "#d8576b"
             ],
             [
              0.6666666666666666,
              "#ed7953"
             ],
             [
              0.7777777777777778,
              "#fb9f3a"
             ],
             [
              0.8888888888888888,
              "#fdca26"
             ],
             [
              1,
              "#f0f921"
             ]
            ],
            "type": "surface"
           }
          ],
          "table": [
           {
            "cells": {
             "fill": {
              "color": "#EBF0F8"
             },
             "line": {
              "color": "white"
             }
            },
            "header": {
             "fill": {
              "color": "#C8D4E3"
             },
             "line": {
              "color": "white"
             }
            },
            "type": "table"
           }
          ]
         },
         "layout": {
          "annotationdefaults": {
           "arrowcolor": "#2a3f5f",
           "arrowhead": 0,
           "arrowwidth": 1
          },
          "autotypenumbers": "strict",
          "coloraxis": {
           "colorbar": {
            "outlinewidth": 0,
            "ticks": ""
           }
          },
          "colorscale": {
           "diverging": [
            [
             0,
             "#8e0152"
            ],
            [
             0.1,
             "#c51b7d"
            ],
            [
             0.2,
             "#de77ae"
            ],
            [
             0.3,
             "#f1b6da"
            ],
            [
             0.4,
             "#fde0ef"
            ],
            [
             0.5,
             "#f7f7f7"
            ],
            [
             0.6,
             "#e6f5d0"
            ],
            [
             0.7,
             "#b8e186"
            ],
            [
             0.8,
             "#7fbc41"
            ],
            [
             0.9,
             "#4d9221"
            ],
            [
             1,
             "#276419"
            ]
           ],
           "sequential": [
            [
             0,
             "#0d0887"
            ],
            [
             0.1111111111111111,
             "#46039f"
            ],
            [
             0.2222222222222222,
             "#7201a8"
            ],
            [
             0.3333333333333333,
             "#9c179e"
            ],
            [
             0.4444444444444444,
             "#bd3786"
            ],
            [
             0.5555555555555556,
             "#d8576b"
            ],
            [
             0.6666666666666666,
             "#ed7953"
            ],
            [
             0.7777777777777778,
             "#fb9f3a"
            ],
            [
             0.8888888888888888,
             "#fdca26"
            ],
            [
             1,
             "#f0f921"
            ]
           ],
           "sequentialminus": [
            [
             0,
             "#0d0887"
            ],
            [
             0.1111111111111111,
             "#46039f"
            ],
            [
             0.2222222222222222,
             "#7201a8"
            ],
            [
             0.3333333333333333,
             "#9c179e"
            ],
            [
             0.4444444444444444,
             "#bd3786"
            ],
            [
             0.5555555555555556,
             "#d8576b"
            ],
            [
             0.6666666666666666,
             "#ed7953"
            ],
            [
             0.7777777777777778,
             "#fb9f3a"
            ],
            [
             0.8888888888888888,
             "#fdca26"
            ],
            [
             1,
             "#f0f921"
            ]
           ]
          },
          "colorway": [
           "#636efa",
           "#EF553B",
           "#00cc96",
           "#ab63fa",
           "#FFA15A",
           "#19d3f3",
           "#FF6692",
           "#B6E880",
           "#FF97FF",
           "#FECB52"
          ],
          "font": {
           "color": "#2a3f5f"
          },
          "geo": {
           "bgcolor": "white",
           "lakecolor": "white",
           "landcolor": "#E5ECF6",
           "showlakes": true,
           "showland": true,
           "subunitcolor": "white"
          },
          "hoverlabel": {
           "align": "left"
          },
          "hovermode": "closest",
          "mapbox": {
           "style": "light"
          },
          "paper_bgcolor": "white",
          "plot_bgcolor": "#E5ECF6",
          "polar": {
           "angularaxis": {
            "gridcolor": "white",
            "linecolor": "white",
            "ticks": ""
           },
           "bgcolor": "#E5ECF6",
           "radialaxis": {
            "gridcolor": "white",
            "linecolor": "white",
            "ticks": ""
           }
          },
          "scene": {
           "xaxis": {
            "backgroundcolor": "#E5ECF6",
            "gridcolor": "white",
            "gridwidth": 2,
            "linecolor": "white",
            "showbackground": true,
            "ticks": "",
            "zerolinecolor": "white"
           },
           "yaxis": {
            "backgroundcolor": "#E5ECF6",
            "gridcolor": "white",
            "gridwidth": 2,
            "linecolor": "white",
            "showbackground": true,
            "ticks": "",
            "zerolinecolor": "white"
           },
           "zaxis": {
            "backgroundcolor": "#E5ECF6",
            "gridcolor": "white",
            "gridwidth": 2,
            "linecolor": "white",
            "showbackground": true,
            "ticks": "",
            "zerolinecolor": "white"
           }
          },
          "shapedefaults": {
           "line": {
            "color": "#2a3f5f"
           }
          },
          "ternary": {
           "aaxis": {
            "gridcolor": "white",
            "linecolor": "white",
            "ticks": ""
           },
           "baxis": {
            "gridcolor": "white",
            "linecolor": "white",
            "ticks": ""
           },
           "bgcolor": "#E5ECF6",
           "caxis": {
            "gridcolor": "white",
            "linecolor": "white",
            "ticks": ""
           }
          },
          "title": {
           "x": 0.05
          },
          "xaxis": {
           "automargin": true,
           "gridcolor": "white",
           "linecolor": "white",
           "ticks": "",
           "title": {
            "standoff": 15
           },
           "zerolinecolor": "white",
           "zerolinewidth": 2
          },
          "yaxis": {
           "automargin": true,
           "gridcolor": "white",
           "linecolor": "white",
           "ticks": "",
           "title": {
            "standoff": 15
           },
           "zerolinecolor": "white",
           "zerolinewidth": 2
          }
         }
        },
        "title": {
         "text": "RecursiveClustering_1000.0_1000.0_0.0_10.0"
        }
       }
      },
      "image/png": "[encoded data removed]",
      "text/html": [
       "<div>                            <div id=\"480cbc61-291d-42fa-af11-380a92282380\" class=\"plotly-graph-div\" style=\"height:500px; width:100%;\"></div>            <script type=\"text/javascript\">                require([\"plotly\"], function(Plotly) {                    window.PLOTLYENV=window.PLOTLYENV || {};                                    if (document.getElementById(\"480cbc61-291d-42fa-af11-380a92282380\")) {                    Plotly.newPlot(                        \"480cbc61-291d-42fa-af11-380a92282380\",                        [{\"dimensions\":[{\"label\":\"params.repetitions\",\"values\":[3.0,7.0,4.0,3.0,3.0,4.0,3.0,3.0,3.0,3.0,3.0,5.0,4.0,3.0,4.0,3.0,3.0,3.0,4.0,4.0,3.0,3.0,3.0,3.0,3.0,4.0,3.0,4.0,3.0,3.0,6.0,7.0,8.0,7.0,3.0,4.0,3.0,3.0,3.0,3.0,3.0,3.0,3.0,3.0,5.0,4.0,5.0,4.0,4.0,3.0,5.0,3.0,5.0,4.0,5.0,6.0,6.0,6.0,5.0,3.0,6.0,4.0,3.0,5.0,4.0,4.0,7.0,4.0,5.0,5.0]},{\"label\":\"params.kmeans_n_clusters\",\"values\":[2.0,2.0,2.0,4.0,2.0,2.0,2.0,2.0,3.0,2.0,3.0,2.0,3.0,2.0,3.0,3.0,3.0,5.0,2.0,2.0,2.0,2.0,2.0,2.0,2.0,2.0,2.0,4.0,6.0,4.0,3.0,2.0,2.0,2.0,5.0,4.0,3.0,4.0,4.0,4.0,5.0,4.0,6.0,4.0,2.0,2.0,2.0,4.0,2.0,2.0,2.0,3.0,3.0,2.0,2.0,2.0,2.0,2.0,3.0,9.0,3.0,2.0,2.0,2.0,2.0,4.0,2.0,2.0,2.0,2.0]},{\"label\":\"params.components_size\",\"values\":[25.0,28.0,30.0,30.0,30.0,30.0,30.0,30.0,30.0,30.0,30.0,30.0,29.0,26.0,30.0,29.0,30.0,5.0,29.0,30.0,26.0,30.0,28.0,29.0,30.0,27.0,30.0,23.0,30.0,30.0,26.0,24.0,24.0,24.0,19.0,29.0,27.0,29.0,24.0,23.0,23.0,22.0,22.0,22.0,20.0,19.0,16.0,19.0,20.0,16.0,24.0,15.0,21.0,18.0,18.0,12.0,21.0,30.0,27.0,16.0,27.0,16.0,22.0,21.0,7.0,27.0,18.0,18.0,19.0,20.0]},{\"label\":\"metrics.silhouette\",\"values\":[0.027108306191995325,-0.004008537536499061,0.04270947411807203,-0.016821578226581382,0.023925492921337606,0.008433435666398072,0.027948739831127625,0.036371625996287876,0.02212502545225319,0.01349663415835968,0.032489628141092124,0.007494211142168741,0.003132253423029969,0.02327897163270819,-0.033260018320742574,0.009950251299201891,0.03739820667622902,-0.044736180382128655,0.016121042349498654,0.033682843900214476,0.026898249496350692,0.025452938220517276,0.032786260501010564,0.039011434700869894,0.05829313216259437,0.0022335418588402363,0.040131564289467854,0.0002289535336249725,0.003547817251826811,0.017233489608758222,-0.008222863691691366,0.015344767976954202,-0.0006381514946863503,0.034799488598339284,-0.004205423777874572,-0.003592442559439201,-0.01422661966753259,0.07446893613014936,0.019991526058980198,0.009436539666393117,-0.011448484822749305,0.02375441238616537,-0.002601563776362776,0.04525257233654649,0.013724465738638631,0.008619441725655066,-0.003747667241213611,-0.03448151374209225,0.0031175998505385714,-0.009564844820241525,-0.0034145902281405844,-0.006277288434670445,-0.0255191398355934,0.017671434925952124,0.0153876122316915,0.0041176539653817856,0.004727622742965497,-0.01467350391537818,0.017165722836679997,-0.03291197766037587,0.04669444786963486,0.017557338988938773,0.0017364318189746761,-0.019374273715075968,0.007636344341292024,-0.01476171442227191,-0.032563842072841326,0.019967590539503127,0.02256757252694701,0.03185766260798324]},{\"label\":\"metrics.adjusted_rand\",\"values\":[0.24461300369344885,0.40591328506531954,0.5608817823247219,0.642926267027383,0.3039434943189492,0.34469673245873794,0.36109476898231074,0.2836430565753261,0.5082669674811255,0.3233576990280341,0.5636740098970461,0.4090938901017153,0.5437880664099795,0.14724235942626981,0.5357274850742718,0.5957885282232486,0.5197906730864216,0.07687055849927642,0.4105758222464061,0.38586577346786605,0.414207467635467,0.39336224184998675,0.49522409014265195,0.17963827095360865,0.4078736140717907,0.0421955765121726,0.3618648945960574,0.7148634706447454,0.8068625005158795,0.4989548276117953,0.7124541137327667,0.5657755795025077,0.4684740127952705,0.7502212547666931,0.5997101184181981,0.8426852033737839,0.2558990914717219,0.9013057131943453,0.6209417492047995,0.2676346207346457,0.6887338130700826,0.525307296902106,0.6630788720753337,0.5974248927641597,0.2739982181571097,0.21385810868520394,0.29240869159773497,0.4965183443525828,0.22139778441852667,0.14410961345195006,0.315344238715402,0.2214468989648421,0.40638417916082503,0.40922524070109345,0.3867139916281984,0.2562099021696756,0.2967763339668612,0.6422822327719536,0.7355268918138442,0.398442974717277,0.9132955611987452,0.3515004306661481,0.23691371344972514,0.4036063390642453,0.2161990164366144,0.5404446511023967,0.41546632481435203,0.25711452424199677,0.4861468583441749,0.29791075759065694]},{\"label\":\"metrics.n_clusters_\",\"values\":[3.0,7.0,5.0,13.0,3.0,5.0,4.0,2.0,5.0,4.0,6.0,6.0,8.0,2.0,11.0,7.0,4.0,13.0,5.0,4.0,4.0,4.0,5.0,2.0,3.0,3.0,3.0,12.0,15.0,5.0,17.0,7.0,8.0,10.0,18.0,13.0,7.0,7.0,8.0,5.0,10.0,6.0,16.0,5.0,3.0,4.0,7.0,10.0,5.0,5.0,5.0,6.0,18.0,5.0,6.0,5.0,6.0,12.0,14.0,19.0,11.0,5.0,4.0,8.0,5.0,14.0,9.0,4.0,7.0,3.0]}],\"domain\":{\"x\":[0.0,1.0],\"y\":[0.0,1.0]},\"name\":\"\",\"type\":\"parcoords\"}],                        {\"template\":{\"data\":{\"histogram2dcontour\":[{\"type\":\"histogram2dcontour\",\"colorbar\":{\"outlinewidth\":0,\"ticks\":\"\"},\"colorscale\":[[0.0,\"#0d0887\"],[0.1111111111111111,\"#46039f\"],[0.2222222222222222,\"#7201a8\"],[0.3333333333333333,\"#9c179e\"],[0.4444444444444444,\"#bd3786\"],[0.5555555555555556,\"#d8576b\"],[0.6666666666666666,\"#ed7953\"],[0.7777777777777778,\"#fb9f3a\"],[0.8888888888888888,\"#fdca26\"],[1.0,\"#f0f921\"]]}],\"choropleth\":[{\"type\":\"choropleth\",\"colorbar\":{\"outlinewidth\":0,\"ticks\":\"\"}}],\"histogram2d\":[{\"type\":\"histogram2d\",\"colorbar\":{\"outlinewidth\":0,\"ticks\":\"\"},\"colorscale\":[[0.0,\"#0d0887\"],[0.1111111111111111,\"#46039f\"],[0.2222222222222222,\"#7201a8\"],[0.3333333333333333,\"#9c179e\"],[0.4444444444444444,\"#bd3786\"],[0.5555555555555556,\"#d8576b\"],[0.6666666666666666,\"#ed7953\"],[0.7777777777777778,\"#fb9f3a\"],[0.8888888888888888,\"#fdca26\"],[1.0,\"#f0f921\"]]}],\"heatmap\":[{\"type\":\"heatmap\",\"colorbar\":{\"outlinewidth\":0,\"ticks\":\"\"},\"colorscale\":[[0.0,\"#0d0887\"],[0.1111111111111111,\"#46039f\"],[0.2222222222222222,\"#7201a8\"],[0.3333333333333333,\"#9c179e\"],[0.4444444444444444,\"#bd3786\"],[0.5555555555555556,\"#d8576b\"],[0.6666666666666666,\"#ed7953\"],[0.7777777777777778,\"#fb9f3a\"],[0.8888888888888888,\"#fdca26\"],[1.0,\"#f0f921\"]]}],\"heatmapgl\":[{\"type\":\"heatmapgl\",\"colorbar\":{\"outlinewidth\":0,\"ticks\":\"\"},\"colorscale\":[[0.0,\"#0d0887\"],[0.1111111111111111,\"#46039f\"],[0.2222222222222222,\"#7201a8\"],[0.3333333333333333,\"#9c179e\"],[0.4444444444444444,\"#bd3786\"],[0.5555555555555556,\"#d8576b\"],[0.6666666666666666,\"#ed7953\"],[0.7777777777777778,\"#fb9f3a\"],[0.8888888888888888,\"#fdca26\"],[1.0,\"#f0f921\"]]}],\"contourcarpet\":[{\"type\":\"contourcarpet\",\"colorbar\":{\"outlinewidth\":0,\"ticks\":\"\"}}],\"contour\":[{\"type\":\"contour\",\"colorbar\":{\"outlinewidth\":0,\"ticks\":\"\"},\"colorscale\":[[0.0,\"#0d0887\"],[0.1111111111111111,\"#46039f\"],[0.2222222222222222,\"#7201a8\"],[0.3333333333333333,\"#9c179e\"],[0.4444444444444444,\"#bd3786\"],[0.5555555555555556,\"#d8576b\"],[0.6666666666666666,\"#ed7953\"],[0.7777777777777778,\"#fb9f3a\"],[0.8888888888888888,\"#fdca26\"],[1.0,\"#f0f921\"]]}],\"surface\":[{\"type\":\"surface\",\"colorbar\":{\"outlinewidth\":0,\"ticks\":\"\"},\"colorscale\":[[0.0,\"#0d0887\"],[0.1111111111111111,\"#46039f\"],[0.2222222222222222,\"#7201a8\"],[0.3333333333333333,\"#9c179e\"],[0.4444444444444444,\"#bd3786\"],[0.5555555555555556,\"#d8576b\"],[0.6666666666666666,\"#ed7953\"],[0.7777777777777778,\"#fb9f3a\"],[0.8888888888888888,\"#fdca26\"],[1.0,\"#f0f921\"]]}],\"mesh3d\":[{\"type\":\"mesh3d\",\"colorbar\":{\"outlinewidth\":0,\"ticks\":\"\"}}],\"scatter\":[{\"fillpattern\":{\"fillmode\":\"overlay\",\"size\":10,\"solidity\":0.2},\"type\":\"scatter\"}],\"parcoords\":[{\"type\":\"parcoords\",\"line\":{\"colorbar\":{\"outlinewidth\":0,\"ticks\":\"\"}}}],\"scatterpolargl\":[{\"type\":\"scatterpolargl\",\"marker\":{\"colorbar\":{\"outlinewidth\":0,\"ticks\":\"\"}}}],\"bar\":[{\"error_x\":{\"color\":\"#2a3f5f\"},\"error_y\":{\"color\":\"#2a3f5f\"},\"marker\":{\"line\":{\"color\":\"#E5ECF6\",\"width\":0.5},\"pattern\":{\"fillmode\":\"overlay\",\"size\":10,\"solidity\":0.2}},\"type\":\"bar\"}],\"scattergeo\":[{\"type\":\"scattergeo\",\"marker\":{\"colorbar\":{\"outlinewidth\":0,\"ticks\":\"\"}}}],\"scatterpolar\":[{\"type\":\"scatterpolar\",\"marker\":{\"colorbar\":{\"outlinewidth\":0,\"ticks\":\"\"}}}],\"histogram\":[{\"marker\":{\"pattern\":{\"fillmode\":\"overlay\",\"size\":10,\"solidity\":0.2}},\"type\":\"histogram\"}],\"scattergl\":[{\"type\":\"scattergl\",\"marker\":{\"colorbar\":{\"outlinewidth\":0,\"ticks\":\"\"}}}],\"scatter3d\":[{\"type\":\"scatter3d\",\"line\":{\"colorbar\":{\"outlinewidth\":0,\"ticks\":\"\"}},\"marker\":{\"colorbar\":{\"outlinewidth\":0,\"ticks\":\"\"}}}],\"scattermapbox\":[{\"type\":\"scattermapbox\",\"marker\":{\"colorbar\":{\"outlinewidth\":0,\"ticks\":\"\"}}}],\"scatterternary\":[{\"type\":\"scatterternary\",\"marker\":{\"colorbar\":{\"outlinewidth\":0,\"ticks\":\"\"}}}],\"scattercarpet\":[{\"type\":\"scattercarpet\",\"marker\":{\"colorbar\":{\"outlinewidth\":0,\"ticks\":\"\"}}}],\"carpet\":[{\"aaxis\":{\"endlinecolor\":\"#2a3f5f\",\"gridcolor\":\"white\",\"linecolor\":\"white\",\"minorgridcolor\":\"white\",\"startlinecolor\":\"#2a3f5f\"},\"baxis\":{\"endlinecolor\":\"#2a3f5f\",\"gridcolor\":\"white\",\"linecolor\":\"white\",\"minorgridcolor\":\"white\",\"startlinecolor\":\"#2a3f5f\"},\"type\":\"carpet\"}],\"table\":[{\"cells\":{\"fill\":{\"color\":\"#EBF0F8\"},\"line\":{\"color\":\"white\"}},\"header\":{\"fill\":{\"color\":\"#C8D4E3\"},\"line\":{\"color\":\"white\"}},\"type\":\"table\"}],\"barpolar\":[{\"marker\":{\"line\":{\"color\":\"#E5ECF6\",\"width\":0.5},\"pattern\":{\"fillmode\":\"overlay\",\"size\":10,\"solidity\":0.2}},\"type\":\"barpolar\"}],\"pie\":[{\"automargin\":true,\"type\":\"pie\"}]},\"layout\":{\"autotypenumbers\":\"strict\",\"colorway\":[\"#636efa\",\"#EF553B\",\"#00cc96\",\"#ab63fa\",\"#FFA15A\",\"#19d3f3\",\"#FF6692\",\"#B6E880\",\"#FF97FF\",\"#FECB52\"],\"font\":{\"color\":\"#2a3f5f\"},\"hovermode\":\"closest\",\"hoverlabel\":{\"align\":\"left\"},\"paper_bgcolor\":\"white\",\"plot_bgcolor\":\"#E5ECF6\",\"polar\":{\"bgcolor\":\"#E5ECF6\",\"angularaxis\":{\"gridcolor\":\"white\",\"linecolor\":\"white\",\"ticks\":\"\"},\"radialaxis\":{\"gridcolor\":\"white\",\"linecolor\":\"white\",\"ticks\":\"\"}},\"ternary\":{\"bgcolor\":\"#E5ECF6\",\"aaxis\":{\"gridcolor\":\"white\",\"linecolor\":\"white\",\"ticks\":\"\"},\"baxis\":{\"gridcolor\":\"white\",\"linecolor\":\"white\",\"ticks\":\"\"},\"caxis\":{\"gridcolor\":\"white\",\"linecolor\":\"white\",\"ticks\":\"\"}},\"coloraxis\":{\"colorbar\":{\"outlinewidth\":0,\"ticks\":\"\"}},\"colorscale\":{\"sequential\":[[0.0,\"#0d0887\"],[0.1111111111111111,\"#46039f\"],[0.2222222222222222,\"#7201a8\"],[0.3333333333333333,\"#9c179e\"],[0.4444444444444444,\"#bd3786\"],[0.5555555555555556,\"#d8576b\"],[0.6666666666666666,\"#ed7953\"],[0.7777777777777778,\"#fb9f3a\"],[0.8888888888888888,\"#fdca26\"],[1.0,\"#f0f921\"]],\"sequentialminus\":[[0.0,\"#0d0887\"],[0.1111111111111111,\"#46039f\"],[0.2222222222222222,\"#7201a8\"],[0.3333333333333333,\"#9c179e\"],[0.4444444444444444,\"#bd3786\"],[0.5555555555555556,\"#d8576b\"],[0.6666666666666666,\"#ed7953\"],[0.7777777777777778,\"#fb9f3a\"],[0.8888888888888888,\"#fdca26\"],[1.0,\"#f0f921\"]],\"diverging\":[[0,\"#8e0152\"],[0.1,\"#c51b7d\"],[0.2,\"#de77ae\"],[0.3,\"#f1b6da\"],[0.4,\"#fde0ef\"],[0.5,\"#f7f7f7\"],[0.6,\"#e6f5d0\"],[0.7,\"#b8e186\"],[0.8,\"#7fbc41\"],[0.9,\"#4d9221\"],[1,\"#276419\"]]},\"xaxis\":{\"gridcolor\":\"white\",\"linecolor\":\"white\",\"ticks\":\"\",\"title\":{\"standoff\":15},\"zerolinecolor\":\"white\",\"automargin\":true,\"zerolinewidth\":2},\"yaxis\":{\"gridcolor\":\"white\",\"linecolor\":\"white\",\"ticks\":\"\",\"title\":{\"standoff\":15},\"zerolinecolor\":\"white\",\"automargin\":true,\"zerolinewidth\":2},\"scene\":{\"xaxis\":{\"backgroundcolor\":\"#E5ECF6\",\"gridcolor\":\"white\",\"linecolor\":\"white\",\"showbackground\":true,\"ticks\":\"\",\"zerolinecolor\":\"white\",\"gridwidth\":2},\"yaxis\":{\"backgroundcolor\":\"#E5ECF6\",\"gridcolor\":\"white\",\"linecolor\":\"white\",\"showbackground\":true,\"ticks\":\"\",\"zerolinecolor\":\"white\",\"gridwidth\":2},\"zaxis\":{\"backgroundcolor\":\"#E5ECF6\",\"gridcolor\":\"white\",\"linecolor\":\"white\",\"showbackground\":true,\"ticks\":\"\",\"zerolinecolor\":\"white\",\"gridwidth\":2}},\"shapedefaults\":{\"line\":{\"color\":\"#2a3f5f\"}},\"annotationdefaults\":{\"arrowcolor\":\"#2a3f5f\",\"arrowhead\":0,\"arrowwidth\":1},\"geo\":{\"bgcolor\":\"white\",\"landcolor\":\"#E5ECF6\",\"subunitcolor\":\"white\",\"showland\":true,\"showlakes\":true,\"lakecolor\":\"white\"},\"title\":{\"x\":0.05},\"mapbox\":{\"style\":\"light\"}}},\"legend\":{\"tracegroupgap\":0},\"title\":{\"text\":\"RecursiveClustering_1000.0_1000.0_0.0_10.0\"},\"height\":500},                        {\"responsive\": true}                    ).then(function(){\n",
       "                            \n",
       "var gd = document.getElementById('480cbc61-291d-42fa-af11-380a92282380');\n",
       "var x = new MutationObserver(function (mutations, observer) {{\n",
       "        var display = window.getComputedStyle(gd).display;\n",
       "        if (!display || display === 'none') {{\n",
       "            console.log([gd, 'removed!']);\n",
       "            Plotly.purge(gd);\n",
       "            observer.disconnect();\n",
       "        }}\n",
       "}});\n",
       "\n",
       "// Listen for the removal of the full notebook cells\n",
       "var notebookContainer = gd.closest('#notebook-container');\n",
       "if (notebookContainer) {{\n",
       "    x.observe(notebookContainer, {childList: true});\n",
       "}}\n",
       "\n",
       "// Listen for the clearing of the current output cell\n",
       "var outputEl = gd.closest('.output');\n",
       "if (outputEl) {{\n",
       "    x.observe(outputEl, {childList: true});\n",
       "}}\n",
       "\n",
       "                        })                };                });            </script>        </div>"
      ]
     },
     "metadata": {},
     "output_type": "display_data"
    }
   ],
   "source": [
    "parent_run_id = '908bb1e1d08543f3b44bdcd87e325e37'\n",
    "parent_run = parent_runs.loc[parent_runs['tags.parent_run_id']==parent_run_id]\n",
    "model_name = parent_run['params.model_nickname'].values[0]\n",
    "n_samples = parent_run['params.n_samples'].values[0]\n",
    "n_informative = parent_run['params.n_informative'].values[0]\n",
    "n_random = parent_run['params.n_random'].values[0]\n",
    "class_sep = parent_run['params.class_sep'].values[0]\n",
    "fig_title = f'{model_name}_{n_samples}_{n_informative}_{n_random}_{class_sep}'\n",
    "df = runs.loc[runs['tags.parent_run_id']==parent_run_id]\n",
    "df = df.loc[df['metrics.n_clusters_'] < 20]\n",
    "fig = px.parallel_coordinates(df, dimensions=dimensions_dict[model_name], width=None, height=500, title=fig_title)\n",
    "fig.show()"
   ]
  },
  {
   "cell_type": "code",
   "execution_count": 74,
   "id": "14b84d2b-aa4e-4583-a93b-06be7c5b11a7",
   "metadata": {},
   "outputs": [
    {
     "data": {
      "application/vnd.plotly.v1+json": {
       "config": {
        "plotlyServerURL": "https://plot.ly"
       },
       "data": [
        {
         "dimensions": [
          {
           "label": "params.repetitions",
           "values": [
            10,
            5,
            10,
            4,
            8,
            3,
            4,
            8,
            4,
            3,
            10,
            10,
            10,
            10,
            3,
            10,
            9,
            10,
            8,
            9,
            8,
            9,
            7,
            7,
            9,
            8,
            7,
            6,
            6,
            10,
            4,
            10,
            9,
            10,
            10,
            8,
            10,
            9,
            10,
            3,
            10,
            6,
            10,
            10,
            9,
            9,
            9,
            8,
            10,
            8,
            10,
            10,
            10,
            5,
            10,
            8,
            5,
            8,
            10,
            7,
            5,
            7,
            6,
            10,
            10,
            3,
            9,
            10,
            3,
            6,
            7,
            8,
            8,
            3,
            4,
            4,
            10,
            8,
            10,
            10,
            10,
            6,
            8,
            3,
            10,
            9,
            6,
            10
           ]
          },
          {
           "label": "params.kmeans_n_clusters",
           "values": [
            5,
            4,
            6,
            6,
            3,
            7,
            3,
            4,
            5,
            2,
            2,
            3,
            3,
            2,
            10,
            4,
            5,
            4,
            4,
            3,
            2,
            3,
            2,
            4,
            2,
            2,
            4,
            2,
            4,
            3,
            7,
            4,
            5,
            6,
            4,
            4,
            2,
            2,
            2,
            2,
            3,
            2,
            4,
            2,
            3,
            2,
            2,
            6,
            4,
            2,
            3,
            2,
            2,
            5,
            5,
            5,
            3,
            2,
            2,
            3,
            2,
            2,
            3,
            2,
            2,
            9,
            3,
            3,
            7,
            2,
            4,
            3,
            3,
            4,
            2,
            5,
            4,
            3,
            5,
            2,
            2,
            2,
            3,
            9,
            2,
            6,
            7,
            3
           ]
          },
          {
           "label": "params.components_size",
           "values": [
            26,
            6,
            16,
            3,
            9,
            7,
            7,
            30,
            8,
            15,
            4,
            14,
            8,
            18,
            27,
            10,
            12,
            17,
            27,
            16,
            29,
            26,
            29,
            30,
            23,
            9,
            24,
            15,
            12,
            29,
            19,
            23,
            23,
            29,
            12,
            3,
            10,
            8,
            17,
            4,
            10,
            17,
            5,
            8,
            9,
            22,
            15,
            27,
            19,
            3,
            23,
            18,
            21,
            28,
            9,
            12,
            19,
            14,
            20,
            10,
            13,
            21,
            15,
            3,
            12,
            16,
            11,
            16,
            29,
            7,
            3,
            19,
            6,
            17,
            27,
            6,
            13,
            30,
            24,
            8,
            20,
            16,
            6,
            5,
            18,
            13,
            18,
            10
           ]
          },
          {
           "constraintrange": [
            0.7913901686802564,
            0.9245082416110186
           ],
           "label": "metrics.silhouette",
           "values": [
            0.81758854497788,
            0.81758854497788,
            0.48957172169592356,
            0.16307022321545314,
            0.81758854497788,
            0.3268664608785654,
            0.81758854497788,
            0.81758854497788,
            0.81758854497788,
            0.4877893853130942,
            0.81758854497788,
            0.81758854497788,
            0.81758854497788,
            0.81758854497788,
            0.32528504157574806,
            0.81758854497788,
            0.81758854497788,
            0.81758854497788,
            0.81758854497788,
            0.81758854497788,
            0.81758854497788,
            0.81758854497788,
            0.81758854497788,
            0.81758854497788,
            0.81758854497788,
            0.81758854497788,
            0.81758854497788,
            0.81758854497788,
            0.81758854497788,
            0.81758854497788,
            0.6521069571724238,
            0.81758854497788,
            0.81758854497788,
            0.6536750538948846,
            0.81758854497788,
            0.81758854497788,
            0.81758854497788,
            0.81758854497788,
            0.81758854497788,
            0.48138507520298085,
            0.81758854497788,
            0.81758854497788,
            0.81758854497788,
            0.81758854497788,
            0.81758854497788,
            0.81758854497788,
            0.81758854497788,
            0.3270975097712151,
            0.81758854497788,
            0.6466760682272513,
            0.81758854497788,
            0.81758854497788,
            0.81758854497788,
            0.81758854497788,
            0.81758854497788,
            0.81758854497788,
            0.81758854497788,
            0.81758854497788,
            0.81758854497788,
            0.81758854497788,
            0.6514753002180069,
            0.81758854497788,
            0.81758854497788,
            0.81758854497788,
            0.81758854497788,
            0.48854236859107314,
            0.81758854497788,
            0.81758854497788,
            0.3275596106249719,
            0.6514093706287708,
            0.654180724775673,
            0.81758854497788,
            0.81758854497788,
            0.81758854497788,
            0.4864753692397371,
            0.81758854497788,
            0.81758854497788,
            0.81758854497788,
            0.81758854497788,
            0.81758854497788,
            0.81758854497788,
            0.81758854497788,
            0.81758854497788,
            0.4882988657681198,
            0.81758854497788,
            0.6534367013531125,
            0.4884338285813676,
            0.81758854497788
           ]
          },
          {
           "label": "metrics.adjusted_rand",
           "values": [
            1,
            1,
            0.8517314224775852,
            0.6962729883172855,
            1,
            0.7622064698632743,
            1,
            1,
            1,
            0.4817568735950199,
            1,
            1,
            1,
            1,
            0.7450649848262385,
            1,
            1,
            1,
            1,
            1,
            1,
            1,
            1,
            1,
            1,
            1,
            1,
            1,
            1,
            1,
            0.8844939594684907,
            1,
            1,
            0.8881684195881939,
            1,
            1,
            1,
            1,
            1,
            0.6144345812427634,
            1,
            1,
            1,
            1,
            1,
            1,
            1,
            0.7769719181425837,
            1,
            0.7819253438113949,
            1,
            1,
            1,
            1,
            1,
            1,
            1,
            1,
            1,
            1,
            0.7819253438113949,
            1,
            1,
            1,
            1,
            0.7883649075109346,
            1,
            1,
            0.7479905050390612,
            0.7819253438113949,
            0.9484024447721857,
            1,
            1,
            1,
            0.6144345812427634,
            1,
            1,
            1,
            1,
            1,
            1,
            1,
            1,
            0.8373847119433346,
            1,
            0.8871957741916325,
            0.7818669589065579,
            1
           ]
          },
          {
           "label": "metrics.n_clusters_",
           "values": [
            5,
            5,
            10,
            12,
            5,
            9,
            5,
            5,
            5,
            3,
            5,
            5,
            5,
            5,
            13,
            5,
            5,
            5,
            5,
            5,
            5,
            5,
            5,
            5,
            5,
            5,
            5,
            5,
            5,
            5,
            14,
            5,
            5,
            11,
            5,
            5,
            5,
            5,
            5,
            3,
            5,
            5,
            5,
            5,
            5,
            5,
            5,
            10,
            5,
            4,
            5,
            5,
            5,
            5,
            5,
            5,
            5,
            5,
            5,
            5,
            4,
            5,
            5,
            5,
            5,
            14,
            5,
            5,
            10,
            4,
            6,
            5,
            5,
            5,
            3,
            5,
            5,
            5,
            5,
            5,
            5,
            5,
            5,
            16,
            5,
            11,
            16,
            5
           ]
          }
         ],
         "domain": {
          "x": [
           0,
           1
          ],
          "y": [
           0,
           1
          ]
         },
         "name": "",
         "type": "parcoords"
        }
       ],
       "layout": {
        "autosize": true,
        "legend": {
         "tracegroupgap": 0
        },
        "template": {
         "data": {
          "bar": [
           {
            "error_x": {
             "color": "#2a3f5f"
            },
            "error_y": {
             "color": "#2a3f5f"
            },
            "marker": {
             "line": {
              "color": "#E5ECF6",
              "width": 0.5
             },
             "pattern": {
              "fillmode": "overlay",
              "size": 10,
              "solidity": 0.2
             }
            },
            "type": "bar"
           }
          ],
          "barpolar": [
           {
            "marker": {
             "line": {
              "color": "#E5ECF6",
              "width": 0.5
             },
             "pattern": {
              "fillmode": "overlay",
              "size": 10,
              "solidity": 0.2
             }
            },
            "type": "barpolar"
           }
          ],
          "carpet": [
           {
            "aaxis": {
             "endlinecolor": "#2a3f5f",
             "gridcolor": "white",
             "linecolor": "white",
             "minorgridcolor": "white",
             "startlinecolor": "#2a3f5f"
            },
            "baxis": {
             "endlinecolor": "#2a3f5f",
             "gridcolor": "white",
             "linecolor": "white",
             "minorgridcolor": "white",
             "startlinecolor": "#2a3f5f"
            },
            "type": "carpet"
           }
          ],
          "choropleth": [
           {
            "colorbar": {
             "outlinewidth": 0,
             "ticks": ""
            },
            "type": "choropleth"
           }
          ],
          "contour": [
           {
            "colorbar": {
             "outlinewidth": 0,
             "ticks": ""
            },
            "colorscale": [
             [
              0,
              "#0d0887"
             ],
             [
              0.1111111111111111,
              "#46039f"
             ],
             [
              0.2222222222222222,
              "#7201a8"
             ],
             [
              0.3333333333333333,
              "#9c179e"
             ],
             [
              0.4444444444444444,
              "#bd3786"
             ],
             [
              0.5555555555555556,
              "#d8576b"
             ],
             [
              0.6666666666666666,
              "#ed7953"
             ],
             [
              0.7777777777777778,
              "#fb9f3a"
             ],
             [
              0.8888888888888888,
              "#fdca26"
             ],
             [
              1,
              "#f0f921"
             ]
            ],
            "type": "contour"
           }
          ],
          "contourcarpet": [
           {
            "colorbar": {
             "outlinewidth": 0,
             "ticks": ""
            },
            "type": "contourcarpet"
           }
          ],
          "heatmap": [
           {
            "colorbar": {
             "outlinewidth": 0,
             "ticks": ""
            },
            "colorscale": [
             [
              0,
              "#0d0887"
             ],
             [
              0.1111111111111111,
              "#46039f"
             ],
             [
              0.2222222222222222,
              "#7201a8"
             ],
             [
              0.3333333333333333,
              "#9c179e"
             ],
             [
              0.4444444444444444,
              "#bd3786"
             ],
             [
              0.5555555555555556,
              "#d8576b"
             ],
             [
              0.6666666666666666,
              "#ed7953"
             ],
             [
              0.7777777777777778,
              "#fb9f3a"
             ],
             [
              0.8888888888888888,
              "#fdca26"
             ],
             [
              1,
              "#f0f921"
             ]
            ],
            "type": "heatmap"
           }
          ],
          "heatmapgl": [
           {
            "colorbar": {
             "outlinewidth": 0,
             "ticks": ""
            },
            "colorscale": [
             [
              0,
              "#0d0887"
             ],
             [
              0.1111111111111111,
              "#46039f"
             ],
             [
              0.2222222222222222,
              "#7201a8"
             ],
             [
              0.3333333333333333,
              "#9c179e"
             ],
             [
              0.4444444444444444,
              "#bd3786"
             ],
             [
              0.5555555555555556,
              "#d8576b"
             ],
             [
              0.6666666666666666,
              "#ed7953"
             ],
             [
              0.7777777777777778,
              "#fb9f3a"
             ],
             [
              0.8888888888888888,
              "#fdca26"
             ],
             [
              1,
              "#f0f921"
             ]
            ],
            "type": "heatmapgl"
           }
          ],
          "histogram": [
           {
            "marker": {
             "pattern": {
              "fillmode": "overlay",
              "size": 10,
              "solidity": 0.2
             }
            },
            "type": "histogram"
           }
          ],
          "histogram2d": [
           {
            "colorbar": {
             "outlinewidth": 0,
             "ticks": ""
            },
            "colorscale": [
             [
              0,
              "#0d0887"
             ],
             [
              0.1111111111111111,
              "#46039f"
             ],
             [
              0.2222222222222222,
              "#7201a8"
             ],
             [
              0.3333333333333333,
              "#9c179e"
             ],
             [
              0.4444444444444444,
              "#bd3786"
             ],
             [
              0.5555555555555556,
              "#d8576b"
             ],
             [
              0.6666666666666666,
              "#ed7953"
             ],
             [
              0.7777777777777778,
              "#fb9f3a"
             ],
             [
              0.8888888888888888,
              "#fdca26"
             ],
             [
              1,
              "#f0f921"
             ]
            ],
            "type": "histogram2d"
           }
          ],
          "histogram2dcontour": [
           {
            "colorbar": {
             "outlinewidth": 0,
             "ticks": ""
            },
            "colorscale": [
             [
              0,
              "#0d0887"
             ],
             [
              0.1111111111111111,
              "#46039f"
             ],
             [
              0.2222222222222222,
              "#7201a8"
             ],
             [
              0.3333333333333333,
              "#9c179e"
             ],
             [
              0.4444444444444444,
              "#bd3786"
             ],
             [
              0.5555555555555556,
              "#d8576b"
             ],
             [
              0.6666666666666666,
              "#ed7953"
             ],
             [
              0.7777777777777778,
              "#fb9f3a"
             ],
             [
              0.8888888888888888,
              "#fdca26"
             ],
             [
              1,
              "#f0f921"
             ]
            ],
            "type": "histogram2dcontour"
           }
          ],
          "mesh3d": [
           {
            "colorbar": {
             "outlinewidth": 0,
             "ticks": ""
            },
            "type": "mesh3d"
           }
          ],
          "parcoords": [
           {
            "line": {
             "colorbar": {
              "outlinewidth": 0,
              "ticks": ""
             }
            },
            "type": "parcoords"
           }
          ],
          "pie": [
           {
            "automargin": true,
            "type": "pie"
           }
          ],
          "scatter": [
           {
            "fillpattern": {
             "fillmode": "overlay",
             "size": 10,
             "solidity": 0.2
            },
            "type": "scatter"
           }
          ],
          "scatter3d": [
           {
            "line": {
             "colorbar": {
              "outlinewidth": 0,
              "ticks": ""
             }
            },
            "marker": {
             "colorbar": {
              "outlinewidth": 0,
              "ticks": ""
             }
            },
            "type": "scatter3d"
           }
          ],
          "scattercarpet": [
           {
            "marker": {
             "colorbar": {
              "outlinewidth": 0,
              "ticks": ""
             }
            },
            "type": "scattercarpet"
           }
          ],
          "scattergeo": [
           {
            "marker": {
             "colorbar": {
              "outlinewidth": 0,
              "ticks": ""
             }
            },
            "type": "scattergeo"
           }
          ],
          "scattergl": [
           {
            "marker": {
             "colorbar": {
              "outlinewidth": 0,
              "ticks": ""
             }
            },
            "type": "scattergl"
           }
          ],
          "scattermapbox": [
           {
            "marker": {
             "colorbar": {
              "outlinewidth": 0,
              "ticks": ""
             }
            },
            "type": "scattermapbox"
           }
          ],
          "scatterpolar": [
           {
            "marker": {
             "colorbar": {
              "outlinewidth": 0,
              "ticks": ""
             }
            },
            "type": "scatterpolar"
           }
          ],
          "scatterpolargl": [
           {
            "marker": {
             "colorbar": {
              "outlinewidth": 0,
              "ticks": ""
             }
            },
            "type": "scatterpolargl"
           }
          ],
          "scatterternary": [
           {
            "marker": {
             "colorbar": {
              "outlinewidth": 0,
              "ticks": ""
             }
            },
            "type": "scatterternary"
           }
          ],
          "surface": [
           {
            "colorbar": {
             "outlinewidth": 0,
             "ticks": ""
            },
            "colorscale": [
             [
              0,
              "#0d0887"
             ],
             [
              0.1111111111111111,
              "#46039f"
             ],
             [
              0.2222222222222222,
              "#7201a8"
             ],
             [
              0.3333333333333333,
              "#9c179e"
             ],
             [
              0.4444444444444444,
              "#bd3786"
             ],
             [
              0.5555555555555556,
              "#d8576b"
             ],
             [
              0.6666666666666666,
              "#ed7953"
             ],
             [
              0.7777777777777778,
              "#fb9f3a"
             ],
             [
              0.8888888888888888,
              "#fdca26"
             ],
             [
              1,
              "#f0f921"
             ]
            ],
            "type": "surface"
           }
          ],
          "table": [
           {
            "cells": {
             "fill": {
              "color": "#EBF0F8"
             },
             "line": {
              "color": "white"
             }
            },
            "header": {
             "fill": {
              "color": "#C8D4E3"
             },
             "line": {
              "color": "white"
             }
            },
            "type": "table"
           }
          ]
         },
         "layout": {
          "annotationdefaults": {
           "arrowcolor": "#2a3f5f",
           "arrowhead": 0,
           "arrowwidth": 1
          },
          "autotypenumbers": "strict",
          "coloraxis": {
           "colorbar": {
            "outlinewidth": 0,
            "ticks": ""
           }
          },
          "colorscale": {
           "diverging": [
            [
             0,
             "#8e0152"
            ],
            [
             0.1,
             "#c51b7d"
            ],
            [
             0.2,
             "#de77ae"
            ],
            [
             0.3,
             "#f1b6da"
            ],
            [
             0.4,
             "#fde0ef"
            ],
            [
             0.5,
             "#f7f7f7"
            ],
            [
             0.6,
             "#e6f5d0"
            ],
            [
             0.7,
             "#b8e186"
            ],
            [
             0.8,
             "#7fbc41"
            ],
            [
             0.9,
             "#4d9221"
            ],
            [
             1,
             "#276419"
            ]
           ],
           "sequential": [
            [
             0,
             "#0d0887"
            ],
            [
             0.1111111111111111,
             "#46039f"
            ],
            [
             0.2222222222222222,
             "#7201a8"
            ],
            [
             0.3333333333333333,
             "#9c179e"
            ],
            [
             0.4444444444444444,
             "#bd3786"
            ],
            [
             0.5555555555555556,
             "#d8576b"
            ],
            [
             0.6666666666666666,
             "#ed7953"
            ],
            [
             0.7777777777777778,
             "#fb9f3a"
            ],
            [
             0.8888888888888888,
             "#fdca26"
            ],
            [
             1,
             "#f0f921"
            ]
           ],
           "sequentialminus": [
            [
             0,
             "#0d0887"
            ],
            [
             0.1111111111111111,
             "#46039f"
            ],
            [
             0.2222222222222222,
             "#7201a8"
            ],
            [
             0.3333333333333333,
             "#9c179e"
            ],
            [
             0.4444444444444444,
             "#bd3786"
            ],
            [
             0.5555555555555556,
             "#d8576b"
            ],
            [
             0.6666666666666666,
             "#ed7953"
            ],
            [
             0.7777777777777778,
             "#fb9f3a"
            ],
            [
             0.8888888888888888,
             "#fdca26"
            ],
            [
             1,
             "#f0f921"
            ]
           ]
          },
          "colorway": [
           "#636efa",
           "#EF553B",
           "#00cc96",
           "#ab63fa",
           "#FFA15A",
           "#19d3f3",
           "#FF6692",
           "#B6E880",
           "#FF97FF",
           "#FECB52"
          ],
          "font": {
           "color": "#2a3f5f"
          },
          "geo": {
           "bgcolor": "white",
           "lakecolor": "white",
           "landcolor": "#E5ECF6",
           "showlakes": true,
           "showland": true,
           "subunitcolor": "white"
          },
          "hoverlabel": {
           "align": "left"
          },
          "hovermode": "closest",
          "mapbox": {
           "style": "light"
          },
          "paper_bgcolor": "white",
          "plot_bgcolor": "#E5ECF6",
          "polar": {
           "angularaxis": {
            "gridcolor": "white",
            "linecolor": "white",
            "ticks": ""
           },
           "bgcolor": "#E5ECF6",
           "radialaxis": {
            "gridcolor": "white",
            "linecolor": "white",
            "ticks": ""
           }
          },
          "scene": {
           "xaxis": {
            "backgroundcolor": "#E5ECF6",
            "gridcolor": "white",
            "gridwidth": 2,
            "linecolor": "white",
            "showbackground": true,
            "ticks": "",
            "zerolinecolor": "white"
           },
           "yaxis": {
            "backgroundcolor": "#E5ECF6",
            "gridcolor": "white",
            "gridwidth": 2,
            "linecolor": "white",
            "showbackground": true,
            "ticks": "",
            "zerolinecolor": "white"
           },
           "zaxis": {
            "backgroundcolor": "#E5ECF6",
            "gridcolor": "white",
            "gridwidth": 2,
            "linecolor": "white",
            "showbackground": true,
            "ticks": "",
            "zerolinecolor": "white"
           }
          },
          "shapedefaults": {
           "line": {
            "color": "#2a3f5f"
           }
          },
          "ternary": {
           "aaxis": {
            "gridcolor": "white",
            "linecolor": "white",
            "ticks": ""
           },
           "baxis": {
            "gridcolor": "white",
            "linecolor": "white",
            "ticks": ""
           },
           "bgcolor": "#E5ECF6",
           "caxis": {
            "gridcolor": "white",
            "linecolor": "white",
            "ticks": ""
           }
          },
          "title": {
           "x": 0.05
          },
          "xaxis": {
           "automargin": true,
           "gridcolor": "white",
           "linecolor": "white",
           "ticks": "",
           "title": {
            "standoff": 15
           },
           "zerolinecolor": "white",
           "zerolinewidth": 2
          },
          "yaxis": {
           "automargin": true,
           "gridcolor": "white",
           "linecolor": "white",
           "ticks": "",
           "title": {
            "standoff": 15
           },
           "zerolinecolor": "white",
           "zerolinewidth": 2
          }
         }
        },
        "title": {
         "text": "RecursiveClustering_1000.0_1000.0_0.0_100.0"
        }
       }
      },
      "image/png": "[encoded data removed]",
      "text/html": [
       "<div>                            <div id=\"aadfdbb1-a471-41a3-be33-dca1dc89b282\" class=\"plotly-graph-div\" style=\"height:500px; width:100%;\"></div>            <script type=\"text/javascript\">                require([\"plotly\"], function(Plotly) {                    window.PLOTLYENV=window.PLOTLYENV || {};                                    if (document.getElementById(\"aadfdbb1-a471-41a3-be33-dca1dc89b282\")) {                    Plotly.newPlot(                        \"aadfdbb1-a471-41a3-be33-dca1dc89b282\",                        [{\"dimensions\":[{\"label\":\"params.repetitions\",\"values\":[10.0,5.0,10.0,4.0,8.0,3.0,4.0,8.0,4.0,3.0,10.0,10.0,10.0,10.0,3.0,10.0,9.0,10.0,8.0,9.0,8.0,9.0,7.0,7.0,9.0,8.0,7.0,6.0,6.0,10.0,4.0,10.0,9.0,10.0,10.0,8.0,10.0,9.0,10.0,3.0,10.0,6.0,10.0,10.0,9.0,9.0,9.0,8.0,10.0,8.0,10.0,10.0,10.0,5.0,10.0,8.0,5.0,8.0,10.0,7.0,5.0,7.0,6.0,10.0,10.0,3.0,9.0,10.0,3.0,6.0,7.0,8.0,8.0,3.0,4.0,4.0,10.0,8.0,10.0,10.0,10.0,6.0,8.0,3.0,10.0,9.0,6.0,10.0]},{\"label\":\"params.kmeans_n_clusters\",\"values\":[5.0,4.0,6.0,6.0,3.0,7.0,3.0,4.0,5.0,2.0,2.0,3.0,3.0,2.0,10.0,4.0,5.0,4.0,4.0,3.0,2.0,3.0,2.0,4.0,2.0,2.0,4.0,2.0,4.0,3.0,7.0,4.0,5.0,6.0,4.0,4.0,2.0,2.0,2.0,2.0,3.0,2.0,4.0,2.0,3.0,2.0,2.0,6.0,4.0,2.0,3.0,2.0,2.0,5.0,5.0,5.0,3.0,2.0,2.0,3.0,2.0,2.0,3.0,2.0,2.0,9.0,3.0,3.0,7.0,2.0,4.0,3.0,3.0,4.0,2.0,5.0,4.0,3.0,5.0,2.0,2.0,2.0,3.0,9.0,2.0,6.0,7.0,3.0]},{\"label\":\"params.components_size\",\"values\":[26.0,6.0,16.0,3.0,9.0,7.0,7.0,30.0,8.0,15.0,4.0,14.0,8.0,18.0,27.0,10.0,12.0,17.0,27.0,16.0,29.0,26.0,29.0,30.0,23.0,9.0,24.0,15.0,12.0,29.0,19.0,23.0,23.0,29.0,12.0,3.0,10.0,8.0,17.0,4.0,10.0,17.0,5.0,8.0,9.0,22.0,15.0,27.0,19.0,3.0,23.0,18.0,21.0,28.0,9.0,12.0,19.0,14.0,20.0,10.0,13.0,21.0,15.0,3.0,12.0,16.0,11.0,16.0,29.0,7.0,3.0,19.0,6.0,17.0,27.0,6.0,13.0,30.0,24.0,8.0,20.0,16.0,6.0,5.0,18.0,13.0,18.0,10.0]},{\"label\":\"metrics.silhouette\",\"values\":[0.81758854497788,0.81758854497788,0.48957172169592356,0.16307022321545314,0.81758854497788,0.3268664608785654,0.81758854497788,0.81758854497788,0.81758854497788,0.4877893853130942,0.81758854497788,0.81758854497788,0.81758854497788,0.81758854497788,0.32528504157574806,0.81758854497788,0.81758854497788,0.81758854497788,0.81758854497788,0.81758854497788,0.81758854497788,0.81758854497788,0.81758854497788,0.81758854497788,0.81758854497788,0.81758854497788,0.81758854497788,0.81758854497788,0.81758854497788,0.81758854497788,0.6521069571724238,0.81758854497788,0.81758854497788,0.6536750538948846,0.81758854497788,0.81758854497788,0.81758854497788,0.81758854497788,0.81758854497788,0.48138507520298085,0.81758854497788,0.81758854497788,0.81758854497788,0.81758854497788,0.81758854497788,0.81758854497788,0.81758854497788,0.3270975097712151,0.81758854497788,0.6466760682272513,0.81758854497788,0.81758854497788,0.81758854497788,0.81758854497788,0.81758854497788,0.81758854497788,0.81758854497788,0.81758854497788,0.81758854497788,0.81758854497788,0.6514753002180069,0.81758854497788,0.81758854497788,0.81758854497788,0.81758854497788,0.48854236859107314,0.81758854497788,0.81758854497788,0.3275596106249719,0.6514093706287708,0.654180724775673,0.81758854497788,0.81758854497788,0.81758854497788,0.4864753692397371,0.81758854497788,0.81758854497788,0.81758854497788,0.81758854497788,0.81758854497788,0.81758854497788,0.81758854497788,0.81758854497788,0.4882988657681198,0.81758854497788,0.6534367013531125,0.4884338285813676,0.81758854497788]},{\"label\":\"metrics.adjusted_rand\",\"values\":[1.0,1.0,0.8517314224775852,0.6962729883172855,1.0,0.7622064698632743,1.0,1.0,1.0,0.4817568735950199,1.0,1.0,1.0,1.0,0.7450649848262385,1.0,1.0,1.0,1.0,1.0,1.0,1.0,1.0,1.0,1.0,1.0,1.0,1.0,1.0,1.0,0.8844939594684907,1.0,1.0,0.8881684195881939,1.0,1.0,1.0,1.0,1.0,0.6144345812427634,1.0,1.0,1.0,1.0,1.0,1.0,1.0,0.7769719181425837,1.0,0.7819253438113949,1.0,1.0,1.0,1.0,1.0,1.0,1.0,1.0,1.0,1.0,0.7819253438113949,1.0,1.0,1.0,1.0,0.7883649075109346,1.0,1.0,0.7479905050390612,0.7819253438113949,0.9484024447721857,1.0,1.0,1.0,0.6144345812427634,1.0,1.0,1.0,1.0,1.0,1.0,1.0,1.0,0.8373847119433346,1.0,0.8871957741916325,0.7818669589065579,1.0]},{\"label\":\"metrics.n_clusters_\",\"values\":[5.0,5.0,10.0,12.0,5.0,9.0,5.0,5.0,5.0,3.0,5.0,5.0,5.0,5.0,13.0,5.0,5.0,5.0,5.0,5.0,5.0,5.0,5.0,5.0,5.0,5.0,5.0,5.0,5.0,5.0,14.0,5.0,5.0,11.0,5.0,5.0,5.0,5.0,5.0,3.0,5.0,5.0,5.0,5.0,5.0,5.0,5.0,10.0,5.0,4.0,5.0,5.0,5.0,5.0,5.0,5.0,5.0,5.0,5.0,5.0,4.0,5.0,5.0,5.0,5.0,14.0,5.0,5.0,10.0,4.0,6.0,5.0,5.0,5.0,3.0,5.0,5.0,5.0,5.0,5.0,5.0,5.0,5.0,16.0,5.0,11.0,16.0,5.0]}],\"domain\":{\"x\":[0.0,1.0],\"y\":[0.0,1.0]},\"name\":\"\",\"type\":\"parcoords\"}],                        {\"template\":{\"data\":{\"histogram2dcontour\":[{\"type\":\"histogram2dcontour\",\"colorbar\":{\"outlinewidth\":0,\"ticks\":\"\"},\"colorscale\":[[0.0,\"#0d0887\"],[0.1111111111111111,\"#46039f\"],[0.2222222222222222,\"#7201a8\"],[0.3333333333333333,\"#9c179e\"],[0.4444444444444444,\"#bd3786\"],[0.5555555555555556,\"#d8576b\"],[0.6666666666666666,\"#ed7953\"],[0.7777777777777778,\"#fb9f3a\"],[0.8888888888888888,\"#fdca26\"],[1.0,\"#f0f921\"]]}],\"choropleth\":[{\"type\":\"choropleth\",\"colorbar\":{\"outlinewidth\":0,\"ticks\":\"\"}}],\"histogram2d\":[{\"type\":\"histogram2d\",\"colorbar\":{\"outlinewidth\":0,\"ticks\":\"\"},\"colorscale\":[[0.0,\"#0d0887\"],[0.1111111111111111,\"#46039f\"],[0.2222222222222222,\"#7201a8\"],[0.3333333333333333,\"#9c179e\"],[0.4444444444444444,\"#bd3786\"],[0.5555555555555556,\"#d8576b\"],[0.6666666666666666,\"#ed7953\"],[0.7777777777777778,\"#fb9f3a\"],[0.8888888888888888,\"#fdca26\"],[1.0,\"#f0f921\"]]}],\"heatmap\":[{\"type\":\"heatmap\",\"colorbar\":{\"outlinewidth\":0,\"ticks\":\"\"},\"colorscale\":[[0.0,\"#0d0887\"],[0.1111111111111111,\"#46039f\"],[0.2222222222222222,\"#7201a8\"],[0.3333333333333333,\"#9c179e\"],[0.4444444444444444,\"#bd3786\"],[0.5555555555555556,\"#d8576b\"],[0.6666666666666666,\"#ed7953\"],[0.7777777777777778,\"#fb9f3a\"],[0.8888888888888888,\"#fdca26\"],[1.0,\"#f0f921\"]]}],\"heatmapgl\":[{\"type\":\"heatmapgl\",\"colorbar\":{\"outlinewidth\":0,\"ticks\":\"\"},\"colorscale\":[[0.0,\"#0d0887\"],[0.1111111111111111,\"#46039f\"],[0.2222222222222222,\"#7201a8\"],[0.3333333333333333,\"#9c179e\"],[0.4444444444444444,\"#bd3786\"],[0.5555555555555556,\"#d8576b\"],[0.6666666666666666,\"#ed7953\"],[0.7777777777777778,\"#fb9f3a\"],[0.8888888888888888,\"#fdca26\"],[1.0,\"#f0f921\"]]}],\"contourcarpet\":[{\"type\":\"contourcarpet\",\"colorbar\":{\"outlinewidth\":0,\"ticks\":\"\"}}],\"contour\":[{\"type\":\"contour\",\"colorbar\":{\"outlinewidth\":0,\"ticks\":\"\"},\"colorscale\":[[0.0,\"#0d0887\"],[0.1111111111111111,\"#46039f\"],[0.2222222222222222,\"#7201a8\"],[0.3333333333333333,\"#9c179e\"],[0.4444444444444444,\"#bd3786\"],[0.5555555555555556,\"#d8576b\"],[0.6666666666666666,\"#ed7953\"],[0.7777777777777778,\"#fb9f3a\"],[0.8888888888888888,\"#fdca26\"],[1.0,\"#f0f921\"]]}],\"surface\":[{\"type\":\"surface\",\"colorbar\":{\"outlinewidth\":0,\"ticks\":\"\"},\"colorscale\":[[0.0,\"#0d0887\"],[0.1111111111111111,\"#46039f\"],[0.2222222222222222,\"#7201a8\"],[0.3333333333333333,\"#9c179e\"],[0.4444444444444444,\"#bd3786\"],[0.5555555555555556,\"#d8576b\"],[0.6666666666666666,\"#ed7953\"],[0.7777777777777778,\"#fb9f3a\"],[0.8888888888888888,\"#fdca26\"],[1.0,\"#f0f921\"]]}],\"mesh3d\":[{\"type\":\"mesh3d\",\"colorbar\":{\"outlinewidth\":0,\"ticks\":\"\"}}],\"scatter\":[{\"fillpattern\":{\"fillmode\":\"overlay\",\"size\":10,\"solidity\":0.2},\"type\":\"scatter\"}],\"parcoords\":[{\"type\":\"parcoords\",\"line\":{\"colorbar\":{\"outlinewidth\":0,\"ticks\":\"\"}}}],\"scatterpolargl\":[{\"type\":\"scatterpolargl\",\"marker\":{\"colorbar\":{\"outlinewidth\":0,\"ticks\":\"\"}}}],\"bar\":[{\"error_x\":{\"color\":\"#2a3f5f\"},\"error_y\":{\"color\":\"#2a3f5f\"},\"marker\":{\"line\":{\"color\":\"#E5ECF6\",\"width\":0.5},\"pattern\":{\"fillmode\":\"overlay\",\"size\":10,\"solidity\":0.2}},\"type\":\"bar\"}],\"scattergeo\":[{\"type\":\"scattergeo\",\"marker\":{\"colorbar\":{\"outlinewidth\":0,\"ticks\":\"\"}}}],\"scatterpolar\":[{\"type\":\"scatterpolar\",\"marker\":{\"colorbar\":{\"outlinewidth\":0,\"ticks\":\"\"}}}],\"histogram\":[{\"marker\":{\"pattern\":{\"fillmode\":\"overlay\",\"size\":10,\"solidity\":0.2}},\"type\":\"histogram\"}],\"scattergl\":[{\"type\":\"scattergl\",\"marker\":{\"colorbar\":{\"outlinewidth\":0,\"ticks\":\"\"}}}],\"scatter3d\":[{\"type\":\"scatter3d\",\"line\":{\"colorbar\":{\"outlinewidth\":0,\"ticks\":\"\"}},\"marker\":{\"colorbar\":{\"outlinewidth\":0,\"ticks\":\"\"}}}],\"scattermapbox\":[{\"type\":\"scattermapbox\",\"marker\":{\"colorbar\":{\"outlinewidth\":0,\"ticks\":\"\"}}}],\"scatterternary\":[{\"type\":\"scatterternary\",\"marker\":{\"colorbar\":{\"outlinewidth\":0,\"ticks\":\"\"}}}],\"scattercarpet\":[{\"type\":\"scattercarpet\",\"marker\":{\"colorbar\":{\"outlinewidth\":0,\"ticks\":\"\"}}}],\"carpet\":[{\"aaxis\":{\"endlinecolor\":\"#2a3f5f\",\"gridcolor\":\"white\",\"linecolor\":\"white\",\"minorgridcolor\":\"white\",\"startlinecolor\":\"#2a3f5f\"},\"baxis\":{\"endlinecolor\":\"#2a3f5f\",\"gridcolor\":\"white\",\"linecolor\":\"white\",\"minorgridcolor\":\"white\",\"startlinecolor\":\"#2a3f5f\"},\"type\":\"carpet\"}],\"table\":[{\"cells\":{\"fill\":{\"color\":\"#EBF0F8\"},\"line\":{\"color\":\"white\"}},\"header\":{\"fill\":{\"color\":\"#C8D4E3\"},\"line\":{\"color\":\"white\"}},\"type\":\"table\"}],\"barpolar\":[{\"marker\":{\"line\":{\"color\":\"#E5ECF6\",\"width\":0.5},\"pattern\":{\"fillmode\":\"overlay\",\"size\":10,\"solidity\":0.2}},\"type\":\"barpolar\"}],\"pie\":[{\"automargin\":true,\"type\":\"pie\"}]},\"layout\":{\"autotypenumbers\":\"strict\",\"colorway\":[\"#636efa\",\"#EF553B\",\"#00cc96\",\"#ab63fa\",\"#FFA15A\",\"#19d3f3\",\"#FF6692\",\"#B6E880\",\"#FF97FF\",\"#FECB52\"],\"font\":{\"color\":\"#2a3f5f\"},\"hovermode\":\"closest\",\"hoverlabel\":{\"align\":\"left\"},\"paper_bgcolor\":\"white\",\"plot_bgcolor\":\"#E5ECF6\",\"polar\":{\"bgcolor\":\"#E5ECF6\",\"angularaxis\":{\"gridcolor\":\"white\",\"linecolor\":\"white\",\"ticks\":\"\"},\"radialaxis\":{\"gridcolor\":\"white\",\"linecolor\":\"white\",\"ticks\":\"\"}},\"ternary\":{\"bgcolor\":\"#E5ECF6\",\"aaxis\":{\"gridcolor\":\"white\",\"linecolor\":\"white\",\"ticks\":\"\"},\"baxis\":{\"gridcolor\":\"white\",\"linecolor\":\"white\",\"ticks\":\"\"},\"caxis\":{\"gridcolor\":\"white\",\"linecolor\":\"white\",\"ticks\":\"\"}},\"coloraxis\":{\"colorbar\":{\"outlinewidth\":0,\"ticks\":\"\"}},\"colorscale\":{\"sequential\":[[0.0,\"#0d0887\"],[0.1111111111111111,\"#46039f\"],[0.2222222222222222,\"#7201a8\"],[0.3333333333333333,\"#9c179e\"],[0.4444444444444444,\"#bd3786\"],[0.5555555555555556,\"#d8576b\"],[0.6666666666666666,\"#ed7953\"],[0.7777777777777778,\"#fb9f3a\"],[0.8888888888888888,\"#fdca26\"],[1.0,\"#f0f921\"]],\"sequentialminus\":[[0.0,\"#0d0887\"],[0.1111111111111111,\"#46039f\"],[0.2222222222222222,\"#7201a8\"],[0.3333333333333333,\"#9c179e\"],[0.4444444444444444,\"#bd3786\"],[0.5555555555555556,\"#d8576b\"],[0.6666666666666666,\"#ed7953\"],[0.7777777777777778,\"#fb9f3a\"],[0.8888888888888888,\"#fdca26\"],[1.0,\"#f0f921\"]],\"diverging\":[[0,\"#8e0152\"],[0.1,\"#c51b7d\"],[0.2,\"#de77ae\"],[0.3,\"#f1b6da\"],[0.4,\"#fde0ef\"],[0.5,\"#f7f7f7\"],[0.6,\"#e6f5d0\"],[0.7,\"#b8e186\"],[0.8,\"#7fbc41\"],[0.9,\"#4d9221\"],[1,\"#276419\"]]},\"xaxis\":{\"gridcolor\":\"white\",\"linecolor\":\"white\",\"ticks\":\"\",\"title\":{\"standoff\":15},\"zerolinecolor\":\"white\",\"automargin\":true,\"zerolinewidth\":2},\"yaxis\":{\"gridcolor\":\"white\",\"linecolor\":\"white\",\"ticks\":\"\",\"title\":{\"standoff\":15},\"zerolinecolor\":\"white\",\"automargin\":true,\"zerolinewidth\":2},\"scene\":{\"xaxis\":{\"backgroundcolor\":\"#E5ECF6\",\"gridcolor\":\"white\",\"linecolor\":\"white\",\"showbackground\":true,\"ticks\":\"\",\"zerolinecolor\":\"white\",\"gridwidth\":2},\"yaxis\":{\"backgroundcolor\":\"#E5ECF6\",\"gridcolor\":\"white\",\"linecolor\":\"white\",\"showbackground\":true,\"ticks\":\"\",\"zerolinecolor\":\"white\",\"gridwidth\":2},\"zaxis\":{\"backgroundcolor\":\"#E5ECF6\",\"gridcolor\":\"white\",\"linecolor\":\"white\",\"showbackground\":true,\"ticks\":\"\",\"zerolinecolor\":\"white\",\"gridwidth\":2}},\"shapedefaults\":{\"line\":{\"color\":\"#2a3f5f\"}},\"annotationdefaults\":{\"arrowcolor\":\"#2a3f5f\",\"arrowhead\":0,\"arrowwidth\":1},\"geo\":{\"bgcolor\":\"white\",\"landcolor\":\"#E5ECF6\",\"subunitcolor\":\"white\",\"showland\":true,\"showlakes\":true,\"lakecolor\":\"white\"},\"title\":{\"x\":0.05},\"mapbox\":{\"style\":\"light\"}}},\"legend\":{\"tracegroupgap\":0},\"title\":{\"text\":\"RecursiveClustering_1000.0_1000.0_0.0_100.0\"},\"height\":500},                        {\"responsive\": true}                    ).then(function(){\n",
       "                            \n",
       "var gd = document.getElementById('aadfdbb1-a471-41a3-be33-dca1dc89b282');\n",
       "var x = new MutationObserver(function (mutations, observer) {{\n",
       "        var display = window.getComputedStyle(gd).display;\n",
       "        if (!display || display === 'none') {{\n",
       "            console.log([gd, 'removed!']);\n",
       "            Plotly.purge(gd);\n",
       "            observer.disconnect();\n",
       "        }}\n",
       "}});\n",
       "\n",
       "// Listen for the removal of the full notebook cells\n",
       "var notebookContainer = gd.closest('#notebook-container');\n",
       "if (notebookContainer) {{\n",
       "    x.observe(notebookContainer, {childList: true});\n",
       "}}\n",
       "\n",
       "// Listen for the clearing of the current output cell\n",
       "var outputEl = gd.closest('.output');\n",
       "if (outputEl) {{\n",
       "    x.observe(outputEl, {childList: true});\n",
       "}}\n",
       "\n",
       "                        })                };                });            </script>        </div>"
      ]
     },
     "metadata": {},
     "output_type": "display_data"
    }
   ],
   "source": [
    "parent_run_id = '961c06819bea4b90b672e6d5ad66a4f3'\n",
    "parent_run = parent_runs.loc[parent_runs['tags.parent_run_id']==parent_run_id]\n",
    "model_name = parent_run['params.model_nickname'].values[0]\n",
    "n_samples = parent_run['params.n_samples'].values[0]\n",
    "n_informative = parent_run['params.n_informative'].values[0]\n",
    "n_random = parent_run['params.n_random'].values[0]\n",
    "class_sep = parent_run['params.class_sep'].values[0]\n",
    "fig_title = f'{model_name}_{n_samples}_{n_informative}_{n_random}_{class_sep}'\n",
    "df = runs.loc[runs['tags.parent_run_id']==parent_run_id]\n",
    "df = df.loc[df['metrics.n_clusters_'] < 20]\n",
    "fig = px.parallel_coordinates(df, dimensions=dimensions_dict[model_name], width=None, height=500, title=fig_title)\n",
    "fig.show()"
   ]
  },
  {
   "cell_type": "code",
   "execution_count": 80,
   "id": "e0425ed9382ef1b3",
   "metadata": {},
   "outputs": [
    {
     "data": {
      "application/vnd.plotly.v1+json": {
       "config": {
        "plotlyServerURL": "https://plot.ly"
       },
       "data": [
        {
         "dimensions": [
          {
           "label": "params.repetitions",
           "values": [
            10,
            9,
            7,
            3,
            8,
            8,
            6,
            8,
            5,
            8,
            9,
            10,
            8,
            8,
            10,
            8,
            8,
            8,
            5,
            7,
            6,
            6,
            6,
            8,
            7,
            7,
            9,
            10,
            10,
            6,
            3,
            3,
            7,
            3,
            3,
            4,
            9,
            10,
            9,
            3,
            8,
            10,
            10,
            10,
            8,
            3,
            10,
            10,
            10,
            8,
            9,
            10,
            10,
            6,
            7,
            4,
            7,
            8,
            5,
            8,
            10,
            6,
            6,
            9,
            8,
            6,
            10,
            8,
            8,
            8,
            7,
            3,
            4,
            10,
            5,
            10,
            10,
            6,
            8,
            8,
            10,
            10
           ]
          },
          {
           "label": "params.kmeans_n_clusters",
           "values": [
            2,
            2,
            2,
            3,
            4,
            2,
            2,
            2,
            5,
            3,
            2,
            2,
            2,
            3,
            4,
            4,
            3,
            3,
            4,
            2,
            2,
            2,
            3,
            3,
            2,
            4,
            2,
            2,
            2,
            3,
            5,
            4,
            5,
            4,
            5,
            3,
            2,
            3,
            3,
            2,
            2,
            4,
            2,
            2,
            2,
            6,
            2,
            2,
            3,
            2,
            2,
            3,
            2,
            2,
            3,
            2,
            3,
            2,
            5,
            4,
            3,
            2,
            4,
            4,
            5,
            4,
            2,
            2,
            2,
            3,
            2,
            4,
            2,
            2,
            3,
            2,
            5,
            3,
            2,
            3,
            2,
            3
           ]
          },
          {
           "label": "params.components_size",
           "values": [
            16,
            21,
            17,
            12,
            30,
            23,
            23,
            16,
            18,
            3,
            18,
            29,
            26,
            17,
            16,
            19,
            10,
            21,
            7,
            28,
            8,
            29,
            30,
            26,
            21,
            24,
            30,
            23,
            16,
            12,
            13,
            20,
            7,
            16,
            19,
            17,
            18,
            6,
            22,
            4,
            14,
            20,
            18,
            15,
            22,
            7,
            12,
            19,
            29,
            5,
            29,
            29,
            28,
            19,
            6,
            14,
            15,
            23,
            14,
            6,
            18,
            11,
            10,
            12,
            11,
            24,
            23,
            10,
            18,
            20,
            29,
            17,
            27,
            17,
            3,
            30,
            24,
            11,
            21,
            6,
            18,
            10
           ]
          },
          {
           "constraintrange": [
            0.49664597206251604,
            0.5374534509889389
           ],
           "label": "metrics.silhouette",
           "values": [
            0.4972471536716999,
            0.3981360765603103,
            0.4972471536716999,
            0.3951888351030845,
            0.4972471536716999,
            0.4972471536716999,
            0.4972471536716999,
            0.4972471536716999,
            0.4972471536716999,
            0.3981700029692141,
            0.3980386121509634,
            0.4972471536716999,
            0.4972471536716999,
            0.4972471536716999,
            0.4972471536716999,
            0.4972471536716999,
            0.4972471536716999,
            0.4972471536716999,
            0.4972471536716999,
            0.4972471536716999,
            0.3846881790858574,
            0.4972471536716999,
            0.4972471536716999,
            0.4972471536716999,
            0.4972471536716999,
            0.4972471536716999,
            0.4972471536716999,
            0.4972471536716999,
            0.3972831246295038,
            0.4972471536716999,
            0.4972471536716999,
            0.4972471536716999,
            0.29760196558148644,
            0.4972471536716999,
            0.4972471536716999,
            0.4972471536716999,
            0.4972471536716999,
            0.4972471536716999,
            0.4972471536716999,
            0.19616034630754864,
            0.4972471536716999,
            0.4972471536716999,
            0.4972471536716999,
            0.397886394939692,
            0.39772171668035206,
            0.2990862553520445,
            0.4972471536716999,
            0.4972471536716999,
            0.4972471536716999,
            0.49228575340638375,
            0.4972471536716999,
            0.4972471536716999,
            0.4972471536716999,
            0.3964433395174427,
            0.4972471536716999,
            0.27761223757788184,
            0.4972471536716999,
            0.4972471536716999,
            0.4972471536716999,
            0.396994874307705,
            0.398120239624727,
            0.48703769581358597,
            0.39993678394571497,
            0.4972471536716999,
            0.19768087677645838,
            0.4972471536716999,
            0.4972471536716999,
            0.4972471536716999,
            0.4972471536716999,
            0.4972471536716999,
            0.4972471536716999,
            0.4972471536716999,
            0.3970921053133831,
            0.4972471536716999,
            0.19405730131478785,
            0.4972471536716999,
            0.39781747978061255,
            0.4972471536716999,
            0.4972471536716999,
            0.4972471536716999,
            0.4972471536716999,
            0.2957595508185189
           ]
          },
          {
           "label": "metrics.adjusted_rand",
           "values": [
            1,
            0.9987503111712674,
            1,
            0.7788054983463996,
            1,
            1,
            1,
            1,
            1,
            0.9720852810033811,
            0.9987503111712674,
            1,
            1,
            1,
            1,
            1,
            1,
            1,
            1,
            1,
            0.8441100231076848,
            1,
            1,
            1,
            1,
            1,
            1,
            1,
            0.9987503111712674,
            1,
            1,
            1,
            0.9773433384415121,
            1,
            1,
            1,
            1,
            1,
            1,
            0.47045711461437695,
            1,
            1,
            1,
            0.9987503111712674,
            0.9975113298143876,
            0.9567467475803848,
            1,
            1,
            1,
            0.9925263535908385,
            1,
            1,
            1,
            0.7819253438113949,
            1,
            0.777302596320965,
            1,
            1,
            1,
            0.9890535926856195,
            0.993859149592856,
            0.9851676188027612,
            0.9987503111712674,
            1,
            0.9330637503345098,
            1,
            1,
            1,
            1,
            1,
            1,
            1,
            0.7819253438113949,
            1,
            0.9398467377232403,
            1,
            0.9349562783596687,
            1,
            1,
            1,
            1,
            0.9901528120001183
           ]
          },
          {
           "label": "metrics.n_clusters_",
           "values": [
            5,
            6,
            5,
            4,
            5,
            5,
            5,
            5,
            5,
            6,
            6,
            5,
            5,
            5,
            5,
            5,
            5,
            5,
            5,
            5,
            5,
            5,
            5,
            5,
            5,
            5,
            5,
            5,
            6,
            5,
            5,
            5,
            8,
            5,
            5,
            5,
            5,
            5,
            5,
            4,
            5,
            5,
            5,
            6,
            6,
            7,
            5,
            5,
            5,
            5,
            5,
            5,
            5,
            4,
            5,
            5,
            5,
            5,
            5,
            7,
            6,
            5,
            6,
            5,
            8,
            5,
            5,
            5,
            5,
            5,
            5,
            5,
            4,
            5,
            8,
            5,
            6,
            5,
            5,
            5,
            5,
            7
           ]
          }
         ],
         "domain": {
          "x": [
           0,
           1
          ],
          "y": [
           0,
           1
          ]
         },
         "name": "",
         "type": "parcoords"
        }
       ],
       "layout": {
        "autosize": true,
        "legend": {
         "tracegroupgap": 0
        },
        "template": {
         "data": {
          "bar": [
           {
            "error_x": {
             "color": "#2a3f5f"
            },
            "error_y": {
             "color": "#2a3f5f"
            },
            "marker": {
             "line": {
              "color": "#E5ECF6",
              "width": 0.5
             },
             "pattern": {
              "fillmode": "overlay",
              "size": 10,
              "solidity": 0.2
             }
            },
            "type": "bar"
           }
          ],
          "barpolar": [
           {
            "marker": {
             "line": {
              "color": "#E5ECF6",
              "width": 0.5
             },
             "pattern": {
              "fillmode": "overlay",
              "size": 10,
              "solidity": 0.2
             }
            },
            "type": "barpolar"
           }
          ],
          "carpet": [
           {
            "aaxis": {
             "endlinecolor": "#2a3f5f",
             "gridcolor": "white",
             "linecolor": "white",
             "minorgridcolor": "white",
             "startlinecolor": "#2a3f5f"
            },
            "baxis": {
             "endlinecolor": "#2a3f5f",
             "gridcolor": "white",
             "linecolor": "white",
             "minorgridcolor": "white",
             "startlinecolor": "#2a3f5f"
            },
            "type": "carpet"
           }
          ],
          "choropleth": [
           {
            "colorbar": {
             "outlinewidth": 0,
             "ticks": ""
            },
            "type": "choropleth"
           }
          ],
          "contour": [
           {
            "colorbar": {
             "outlinewidth": 0,
             "ticks": ""
            },
            "colorscale": [
             [
              0,
              "#0d0887"
             ],
             [
              0.1111111111111111,
              "#46039f"
             ],
             [
              0.2222222222222222,
              "#7201a8"
             ],
             [
              0.3333333333333333,
              "#9c179e"
             ],
             [
              0.4444444444444444,
              "#bd3786"
             ],
             [
              0.5555555555555556,
              "#d8576b"
             ],
             [
              0.6666666666666666,
              "#ed7953"
             ],
             [
              0.7777777777777778,
              "#fb9f3a"
             ],
             [
              0.8888888888888888,
              "#fdca26"
             ],
             [
              1,
              "#f0f921"
             ]
            ],
            "type": "contour"
           }
          ],
          "contourcarpet": [
           {
            "colorbar": {
             "outlinewidth": 0,
             "ticks": ""
            },
            "type": "contourcarpet"
           }
          ],
          "heatmap": [
           {
            "colorbar": {
             "outlinewidth": 0,
             "ticks": ""
            },
            "colorscale": [
             [
              0,
              "#0d0887"
             ],
             [
              0.1111111111111111,
              "#46039f"
             ],
             [
              0.2222222222222222,
              "#7201a8"
             ],
             [
              0.3333333333333333,
              "#9c179e"
             ],
             [
              0.4444444444444444,
              "#bd3786"
             ],
             [
              0.5555555555555556,
              "#d8576b"
             ],
             [
              0.6666666666666666,
              "#ed7953"
             ],
             [
              0.7777777777777778,
              "#fb9f3a"
             ],
             [
              0.8888888888888888,
              "#fdca26"
             ],
             [
              1,
              "#f0f921"
             ]
            ],
            "type": "heatmap"
           }
          ],
          "heatmapgl": [
           {
            "colorbar": {
             "outlinewidth": 0,
             "ticks": ""
            },
            "colorscale": [
             [
              0,
              "#0d0887"
             ],
             [
              0.1111111111111111,
              "#46039f"
             ],
             [
              0.2222222222222222,
              "#7201a8"
             ],
             [
              0.3333333333333333,
              "#9c179e"
             ],
             [
              0.4444444444444444,
              "#bd3786"
             ],
             [
              0.5555555555555556,
              "#d8576b"
             ],
             [
              0.6666666666666666,
              "#ed7953"
             ],
             [
              0.7777777777777778,
              "#fb9f3a"
             ],
             [
              0.8888888888888888,
              "#fdca26"
             ],
             [
              1,
              "#f0f921"
             ]
            ],
            "type": "heatmapgl"
           }
          ],
          "histogram": [
           {
            "marker": {
             "pattern": {
              "fillmode": "overlay",
              "size": 10,
              "solidity": 0.2
             }
            },
            "type": "histogram"
           }
          ],
          "histogram2d": [
           {
            "colorbar": {
             "outlinewidth": 0,
             "ticks": ""
            },
            "colorscale": [
             [
              0,
              "#0d0887"
             ],
             [
              0.1111111111111111,
              "#46039f"
             ],
             [
              0.2222222222222222,
              "#7201a8"
             ],
             [
              0.3333333333333333,
              "#9c179e"
             ],
             [
              0.4444444444444444,
              "#bd3786"
             ],
             [
              0.5555555555555556,
              "#d8576b"
             ],
             [
              0.6666666666666666,
              "#ed7953"
             ],
             [
              0.7777777777777778,
              "#fb9f3a"
             ],
             [
              0.8888888888888888,
              "#fdca26"
             ],
             [
              1,
              "#f0f921"
             ]
            ],
            "type": "histogram2d"
           }
          ],
          "histogram2dcontour": [
           {
            "colorbar": {
             "outlinewidth": 0,
             "ticks": ""
            },
            "colorscale": [
             [
              0,
              "#0d0887"
             ],
             [
              0.1111111111111111,
              "#46039f"
             ],
             [
              0.2222222222222222,
              "#7201a8"
             ],
             [
              0.3333333333333333,
              "#9c179e"
             ],
             [
              0.4444444444444444,
              "#bd3786"
             ],
             [
              0.5555555555555556,
              "#d8576b"
             ],
             [
              0.6666666666666666,
              "#ed7953"
             ],
             [
              0.7777777777777778,
              "#fb9f3a"
             ],
             [
              0.8888888888888888,
              "#fdca26"
             ],
             [
              1,
              "#f0f921"
             ]
            ],
            "type": "histogram2dcontour"
           }
          ],
          "mesh3d": [
           {
            "colorbar": {
             "outlinewidth": 0,
             "ticks": ""
            },
            "type": "mesh3d"
           }
          ],
          "parcoords": [
           {
            "line": {
             "colorbar": {
              "outlinewidth": 0,
              "ticks": ""
             }
            },
            "type": "parcoords"
           }
          ],
          "pie": [
           {
            "automargin": true,
            "type": "pie"
           }
          ],
          "scatter": [
           {
            "fillpattern": {
             "fillmode": "overlay",
             "size": 10,
             "solidity": 0.2
            },
            "type": "scatter"
           }
          ],
          "scatter3d": [
           {
            "line": {
             "colorbar": {
              "outlinewidth": 0,
              "ticks": ""
             }
            },
            "marker": {
             "colorbar": {
              "outlinewidth": 0,
              "ticks": ""
             }
            },
            "type": "scatter3d"
           }
          ],
          "scattercarpet": [
           {
            "marker": {
             "colorbar": {
              "outlinewidth": 0,
              "ticks": ""
             }
            },
            "type": "scattercarpet"
           }
          ],
          "scattergeo": [
           {
            "marker": {
             "colorbar": {
              "outlinewidth": 0,
              "ticks": ""
             }
            },
            "type": "scattergeo"
           }
          ],
          "scattergl": [
           {
            "marker": {
             "colorbar": {
              "outlinewidth": 0,
              "ticks": ""
             }
            },
            "type": "scattergl"
           }
          ],
          "scattermapbox": [
           {
            "marker": {
             "colorbar": {
              "outlinewidth": 0,
              "ticks": ""
             }
            },
            "type": "scattermapbox"
           }
          ],
          "scatterpolar": [
           {
            "marker": {
             "colorbar": {
              "outlinewidth": 0,
              "ticks": ""
             }
            },
            "type": "scatterpolar"
           }
          ],
          "scatterpolargl": [
           {
            "marker": {
             "colorbar": {
              "outlinewidth": 0,
              "ticks": ""
             }
            },
            "type": "scatterpolargl"
           }
          ],
          "scatterternary": [
           {
            "marker": {
             "colorbar": {
              "outlinewidth": 0,
              "ticks": ""
             }
            },
            "type": "scatterternary"
           }
          ],
          "surface": [
           {
            "colorbar": {
             "outlinewidth": 0,
             "ticks": ""
            },
            "colorscale": [
             [
              0,
              "#0d0887"
             ],
             [
              0.1111111111111111,
              "#46039f"
             ],
             [
              0.2222222222222222,
              "#7201a8"
             ],
             [
              0.3333333333333333,
              "#9c179e"
             ],
             [
              0.4444444444444444,
              "#bd3786"
             ],
             [
              0.5555555555555556,
              "#d8576b"
             ],
             [
              0.6666666666666666,
              "#ed7953"
             ],
             [
              0.7777777777777778,
              "#fb9f3a"
             ],
             [
              0.8888888888888888,
              "#fdca26"
             ],
             [
              1,
              "#f0f921"
             ]
            ],
            "type": "surface"
           }
          ],
          "table": [
           {
            "cells": {
             "fill": {
              "color": "#EBF0F8"
             },
             "line": {
              "color": "white"
             }
            },
            "header": {
             "fill": {
              "color": "#C8D4E3"
             },
             "line": {
              "color": "white"
             }
            },
            "type": "table"
           }
          ]
         },
         "layout": {
          "annotationdefaults": {
           "arrowcolor": "#2a3f5f",
           "arrowhead": 0,
           "arrowwidth": 1
          },
          "autotypenumbers": "strict",
          "coloraxis": {
           "colorbar": {
            "outlinewidth": 0,
            "ticks": ""
           }
          },
          "colorscale": {
           "diverging": [
            [
             0,
             "#8e0152"
            ],
            [
             0.1,
             "#c51b7d"
            ],
            [
             0.2,
             "#de77ae"
            ],
            [
             0.3,
             "#f1b6da"
            ],
            [
             0.4,
             "#fde0ef"
            ],
            [
             0.5,
             "#f7f7f7"
            ],
            [
             0.6,
             "#e6f5d0"
            ],
            [
             0.7,
             "#b8e186"
            ],
            [
             0.8,
             "#7fbc41"
            ],
            [
             0.9,
             "#4d9221"
            ],
            [
             1,
             "#276419"
            ]
           ],
           "sequential": [
            [
             0,
             "#0d0887"
            ],
            [
             0.1111111111111111,
             "#46039f"
            ],
            [
             0.2222222222222222,
             "#7201a8"
            ],
            [
             0.3333333333333333,
             "#9c179e"
            ],
            [
             0.4444444444444444,
             "#bd3786"
            ],
            [
             0.5555555555555556,
             "#d8576b"
            ],
            [
             0.6666666666666666,
             "#ed7953"
            ],
            [
             0.7777777777777778,
             "#fb9f3a"
            ],
            [
             0.8888888888888888,
             "#fdca26"
            ],
            [
             1,
             "#f0f921"
            ]
           ],
           "sequentialminus": [
            [
             0,
             "#0d0887"
            ],
            [
             0.1111111111111111,
             "#46039f"
            ],
            [
             0.2222222222222222,
             "#7201a8"
            ],
            [
             0.3333333333333333,
             "#9c179e"
            ],
            [
             0.4444444444444444,
             "#bd3786"
            ],
            [
             0.5555555555555556,
             "#d8576b"
            ],
            [
             0.6666666666666666,
             "#ed7953"
            ],
            [
             0.7777777777777778,
             "#fb9f3a"
            ],
            [
             0.8888888888888888,
             "#fdca26"
            ],
            [
             1,
             "#f0f921"
            ]
           ]
          },
          "colorway": [
           "#636efa",
           "#EF553B",
           "#00cc96",
           "#ab63fa",
           "#FFA15A",
           "#19d3f3",
           "#FF6692",
           "#B6E880",
           "#FF97FF",
           "#FECB52"
          ],
          "font": {
           "color": "#2a3f5f"
          },
          "geo": {
           "bgcolor": "white",
           "lakecolor": "white",
           "landcolor": "#E5ECF6",
           "showlakes": true,
           "showland": true,
           "subunitcolor": "white"
          },
          "hoverlabel": {
           "align": "left"
          },
          "hovermode": "closest",
          "mapbox": {
           "style": "light"
          },
          "paper_bgcolor": "white",
          "plot_bgcolor": "#E5ECF6",
          "polar": {
           "angularaxis": {
            "gridcolor": "white",
            "linecolor": "white",
            "ticks": ""
           },
           "bgcolor": "#E5ECF6",
           "radialaxis": {
            "gridcolor": "white",
            "linecolor": "white",
            "ticks": ""
           }
          },
          "scene": {
           "xaxis": {
            "backgroundcolor": "#E5ECF6",
            "gridcolor": "white",
            "gridwidth": 2,
            "linecolor": "white",
            "showbackground": true,
            "ticks": "",
            "zerolinecolor": "white"
           },
           "yaxis": {
            "backgroundcolor": "#E5ECF6",
            "gridcolor": "white",
            "gridwidth": 2,
            "linecolor": "white",
            "showbackground": true,
            "ticks": "",
            "zerolinecolor": "white"
           },
           "zaxis": {
            "backgroundcolor": "#E5ECF6",
            "gridcolor": "white",
            "gridwidth": 2,
            "linecolor": "white",
            "showbackground": true,
            "ticks": "",
            "zerolinecolor": "white"
           }
          },
          "shapedefaults": {
           "line": {
            "color": "#2a3f5f"
           }
          },
          "ternary": {
           "aaxis": {
            "gridcolor": "white",
            "linecolor": "white",
            "ticks": ""
           },
           "baxis": {
            "gridcolor": "white",
            "linecolor": "white",
            "ticks": ""
           },
           "bgcolor": "#E5ECF6",
           "caxis": {
            "gridcolor": "white",
            "linecolor": "white",
            "ticks": ""
           }
          },
          "title": {
           "x": 0.05
          },
          "xaxis": {
           "automargin": true,
           "gridcolor": "white",
           "linecolor": "white",
           "ticks": "",
           "title": {
            "standoff": 15
           },
           "zerolinecolor": "white",
           "zerolinewidth": 2
          },
          "yaxis": {
           "automargin": true,
           "gridcolor": "white",
           "linecolor": "white",
           "ticks": "",
           "title": {
            "standoff": 15
           },
           "zerolinecolor": "white",
           "zerolinewidth": 2
          }
         }
        },
        "title": {
         "text": "RecursiveClustering_1000.0_10000.0_0.0_100.0"
        }
       }
      },
      "image/png": "[encoded data removed]",
      "text/html": [
       "<div>                            <div id=\"f36986b0-01d1-4286-a2d4-0d8d5523b923\" class=\"plotly-graph-div\" style=\"height:500px; width:100%;\"></div>            <script type=\"text/javascript\">                require([\"plotly\"], function(Plotly) {                    window.PLOTLYENV=window.PLOTLYENV || {};                                    if (document.getElementById(\"f36986b0-01d1-4286-a2d4-0d8d5523b923\")) {                    Plotly.newPlot(                        \"f36986b0-01d1-4286-a2d4-0d8d5523b923\",                        [{\"dimensions\":[{\"label\":\"params.repetitions\",\"values\":[10.0,9.0,7.0,3.0,8.0,8.0,6.0,8.0,5.0,8.0,9.0,10.0,8.0,8.0,10.0,8.0,8.0,8.0,5.0,7.0,6.0,6.0,6.0,8.0,7.0,7.0,9.0,10.0,10.0,6.0,3.0,3.0,7.0,3.0,3.0,4.0,9.0,10.0,9.0,3.0,8.0,10.0,10.0,10.0,8.0,3.0,10.0,10.0,10.0,8.0,9.0,10.0,10.0,6.0,7.0,4.0,7.0,8.0,5.0,8.0,10.0,6.0,6.0,9.0,8.0,6.0,10.0,8.0,8.0,8.0,7.0,3.0,4.0,10.0,5.0,10.0,10.0,6.0,8.0,8.0,10.0,10.0]},{\"label\":\"params.kmeans_n_clusters\",\"values\":[2.0,2.0,2.0,3.0,4.0,2.0,2.0,2.0,5.0,3.0,2.0,2.0,2.0,3.0,4.0,4.0,3.0,3.0,4.0,2.0,2.0,2.0,3.0,3.0,2.0,4.0,2.0,2.0,2.0,3.0,5.0,4.0,5.0,4.0,5.0,3.0,2.0,3.0,3.0,2.0,2.0,4.0,2.0,2.0,2.0,6.0,2.0,2.0,3.0,2.0,2.0,3.0,2.0,2.0,3.0,2.0,3.0,2.0,5.0,4.0,3.0,2.0,4.0,4.0,5.0,4.0,2.0,2.0,2.0,3.0,2.0,4.0,2.0,2.0,3.0,2.0,5.0,3.0,2.0,3.0,2.0,3.0]},{\"label\":\"params.components_size\",\"values\":[16.0,21.0,17.0,12.0,30.0,23.0,23.0,16.0,18.0,3.0,18.0,29.0,26.0,17.0,16.0,19.0,10.0,21.0,7.0,28.0,8.0,29.0,30.0,26.0,21.0,24.0,30.0,23.0,16.0,12.0,13.0,20.0,7.0,16.0,19.0,17.0,18.0,6.0,22.0,4.0,14.0,20.0,18.0,15.0,22.0,7.0,12.0,19.0,29.0,5.0,29.0,29.0,28.0,19.0,6.0,14.0,15.0,23.0,14.0,6.0,18.0,11.0,10.0,12.0,11.0,24.0,23.0,10.0,18.0,20.0,29.0,17.0,27.0,17.0,3.0,30.0,24.0,11.0,21.0,6.0,18.0,10.0]},{\"label\":\"metrics.silhouette\",\"values\":[0.4972471536716999,0.3981360765603103,0.4972471536716999,0.3951888351030845,0.4972471536716999,0.4972471536716999,0.4972471536716999,0.4972471536716999,0.4972471536716999,0.3981700029692141,0.3980386121509634,0.4972471536716999,0.4972471536716999,0.4972471536716999,0.4972471536716999,0.4972471536716999,0.4972471536716999,0.4972471536716999,0.4972471536716999,0.4972471536716999,0.3846881790858574,0.4972471536716999,0.4972471536716999,0.4972471536716999,0.4972471536716999,0.4972471536716999,0.4972471536716999,0.4972471536716999,0.3972831246295038,0.4972471536716999,0.4972471536716999,0.4972471536716999,0.29760196558148644,0.4972471536716999,0.4972471536716999,0.4972471536716999,0.4972471536716999,0.4972471536716999,0.4972471536716999,0.19616034630754864,0.4972471536716999,0.4972471536716999,0.4972471536716999,0.397886394939692,0.39772171668035206,0.2990862553520445,0.4972471536716999,0.4972471536716999,0.4972471536716999,0.49228575340638375,0.4972471536716999,0.4972471536716999,0.4972471536716999,0.3964433395174427,0.4972471536716999,0.27761223757788184,0.4972471536716999,0.4972471536716999,0.4972471536716999,0.396994874307705,0.398120239624727,0.48703769581358597,0.39993678394571497,0.4972471536716999,0.19768087677645838,0.4972471536716999,0.4972471536716999,0.4972471536716999,0.4972471536716999,0.4972471536716999,0.4972471536716999,0.4972471536716999,0.3970921053133831,0.4972471536716999,0.19405730131478785,0.4972471536716999,0.39781747978061255,0.4972471536716999,0.4972471536716999,0.4972471536716999,0.4972471536716999,0.2957595508185189]},{\"label\":\"metrics.adjusted_rand\",\"values\":[1.0,0.9987503111712674,1.0,0.7788054983463996,1.0,1.0,1.0,1.0,1.0,0.9720852810033811,0.9987503111712674,1.0,1.0,1.0,1.0,1.0,1.0,1.0,1.0,1.0,0.8441100231076848,1.0,1.0,1.0,1.0,1.0,1.0,1.0,0.9987503111712674,1.0,1.0,1.0,0.9773433384415121,1.0,1.0,1.0,1.0,1.0,1.0,0.47045711461437695,1.0,1.0,1.0,0.9987503111712674,0.9975113298143876,0.9567467475803848,1.0,1.0,1.0,0.9925263535908385,1.0,1.0,1.0,0.7819253438113949,1.0,0.777302596320965,1.0,1.0,1.0,0.9890535926856195,0.993859149592856,0.9851676188027612,0.9987503111712674,1.0,0.9330637503345098,1.0,1.0,1.0,1.0,1.0,1.0,1.0,0.7819253438113949,1.0,0.9398467377232403,1.0,0.9349562783596687,1.0,1.0,1.0,1.0,0.9901528120001183]},{\"label\":\"metrics.n_clusters_\",\"values\":[5.0,6.0,5.0,4.0,5.0,5.0,5.0,5.0,5.0,6.0,6.0,5.0,5.0,5.0,5.0,5.0,5.0,5.0,5.0,5.0,5.0,5.0,5.0,5.0,5.0,5.0,5.0,5.0,6.0,5.0,5.0,5.0,8.0,5.0,5.0,5.0,5.0,5.0,5.0,4.0,5.0,5.0,5.0,6.0,6.0,7.0,5.0,5.0,5.0,5.0,5.0,5.0,5.0,4.0,5.0,5.0,5.0,5.0,5.0,7.0,6.0,5.0,6.0,5.0,8.0,5.0,5.0,5.0,5.0,5.0,5.0,5.0,4.0,5.0,8.0,5.0,6.0,5.0,5.0,5.0,5.0,7.0]}],\"domain\":{\"x\":[0.0,1.0],\"y\":[0.0,1.0]},\"name\":\"\",\"type\":\"parcoords\"}],                        {\"template\":{\"data\":{\"histogram2dcontour\":[{\"type\":\"histogram2dcontour\",\"colorbar\":{\"outlinewidth\":0,\"ticks\":\"\"},\"colorscale\":[[0.0,\"#0d0887\"],[0.1111111111111111,\"#46039f\"],[0.2222222222222222,\"#7201a8\"],[0.3333333333333333,\"#9c179e\"],[0.4444444444444444,\"#bd3786\"],[0.5555555555555556,\"#d8576b\"],[0.6666666666666666,\"#ed7953\"],[0.7777777777777778,\"#fb9f3a\"],[0.8888888888888888,\"#fdca26\"],[1.0,\"#f0f921\"]]}],\"choropleth\":[{\"type\":\"choropleth\",\"colorbar\":{\"outlinewidth\":0,\"ticks\":\"\"}}],\"histogram2d\":[{\"type\":\"histogram2d\",\"colorbar\":{\"outlinewidth\":0,\"ticks\":\"\"},\"colorscale\":[[0.0,\"#0d0887\"],[0.1111111111111111,\"#46039f\"],[0.2222222222222222,\"#7201a8\"],[0.3333333333333333,\"#9c179e\"],[0.4444444444444444,\"#bd3786\"],[0.5555555555555556,\"#d8576b\"],[0.6666666666666666,\"#ed7953\"],[0.7777777777777778,\"#fb9f3a\"],[0.8888888888888888,\"#fdca26\"],[1.0,\"#f0f921\"]]}],\"heatmap\":[{\"type\":\"heatmap\",\"colorbar\":{\"outlinewidth\":0,\"ticks\":\"\"},\"colorscale\":[[0.0,\"#0d0887\"],[0.1111111111111111,\"#46039f\"],[0.2222222222222222,\"#7201a8\"],[0.3333333333333333,\"#9c179e\"],[0.4444444444444444,\"#bd3786\"],[0.5555555555555556,\"#d8576b\"],[0.6666666666666666,\"#ed7953\"],[0.7777777777777778,\"#fb9f3a\"],[0.8888888888888888,\"#fdca26\"],[1.0,\"#f0f921\"]]}],\"heatmapgl\":[{\"type\":\"heatmapgl\",\"colorbar\":{\"outlinewidth\":0,\"ticks\":\"\"},\"colorscale\":[[0.0,\"#0d0887\"],[0.1111111111111111,\"#46039f\"],[0.2222222222222222,\"#7201a8\"],[0.3333333333333333,\"#9c179e\"],[0.4444444444444444,\"#bd3786\"],[0.5555555555555556,\"#d8576b\"],[0.6666666666666666,\"#ed7953\"],[0.7777777777777778,\"#fb9f3a\"],[0.8888888888888888,\"#fdca26\"],[1.0,\"#f0f921\"]]}],\"contourcarpet\":[{\"type\":\"contourcarpet\",\"colorbar\":{\"outlinewidth\":0,\"ticks\":\"\"}}],\"contour\":[{\"type\":\"contour\",\"colorbar\":{\"outlinewidth\":0,\"ticks\":\"\"},\"colorscale\":[[0.0,\"#0d0887\"],[0.1111111111111111,\"#46039f\"],[0.2222222222222222,\"#7201a8\"],[0.3333333333333333,\"#9c179e\"],[0.4444444444444444,\"#bd3786\"],[0.5555555555555556,\"#d8576b\"],[0.6666666666666666,\"#ed7953\"],[0.7777777777777778,\"#fb9f3a\"],[0.8888888888888888,\"#fdca26\"],[1.0,\"#f0f921\"]]}],\"surface\":[{\"type\":\"surface\",\"colorbar\":{\"outlinewidth\":0,\"ticks\":\"\"},\"colorscale\":[[0.0,\"#0d0887\"],[0.1111111111111111,\"#46039f\"],[0.2222222222222222,\"#7201a8\"],[0.3333333333333333,\"#9c179e\"],[0.4444444444444444,\"#bd3786\"],[0.5555555555555556,\"#d8576b\"],[0.6666666666666666,\"#ed7953\"],[0.7777777777777778,\"#fb9f3a\"],[0.8888888888888888,\"#fdca26\"],[1.0,\"#f0f921\"]]}],\"mesh3d\":[{\"type\":\"mesh3d\",\"colorbar\":{\"outlinewidth\":0,\"ticks\":\"\"}}],\"scatter\":[{\"fillpattern\":{\"fillmode\":\"overlay\",\"size\":10,\"solidity\":0.2},\"type\":\"scatter\"}],\"parcoords\":[{\"type\":\"parcoords\",\"line\":{\"colorbar\":{\"outlinewidth\":0,\"ticks\":\"\"}}}],\"scatterpolargl\":[{\"type\":\"scatterpolargl\",\"marker\":{\"colorbar\":{\"outlinewidth\":0,\"ticks\":\"\"}}}],\"bar\":[{\"error_x\":{\"color\":\"#2a3f5f\"},\"error_y\":{\"color\":\"#2a3f5f\"},\"marker\":{\"line\":{\"color\":\"#E5ECF6\",\"width\":0.5},\"pattern\":{\"fillmode\":\"overlay\",\"size\":10,\"solidity\":0.2}},\"type\":\"bar\"}],\"scattergeo\":[{\"type\":\"scattergeo\",\"marker\":{\"colorbar\":{\"outlinewidth\":0,\"ticks\":\"\"}}}],\"scatterpolar\":[{\"type\":\"scatterpolar\",\"marker\":{\"colorbar\":{\"outlinewidth\":0,\"ticks\":\"\"}}}],\"histogram\":[{\"marker\":{\"pattern\":{\"fillmode\":\"overlay\",\"size\":10,\"solidity\":0.2}},\"type\":\"histogram\"}],\"scattergl\":[{\"type\":\"scattergl\",\"marker\":{\"colorbar\":{\"outlinewidth\":0,\"ticks\":\"\"}}}],\"scatter3d\":[{\"type\":\"scatter3d\",\"line\":{\"colorbar\":{\"outlinewidth\":0,\"ticks\":\"\"}},\"marker\":{\"colorbar\":{\"outlinewidth\":0,\"ticks\":\"\"}}}],\"scattermapbox\":[{\"type\":\"scattermapbox\",\"marker\":{\"colorbar\":{\"outlinewidth\":0,\"ticks\":\"\"}}}],\"scatterternary\":[{\"type\":\"scatterternary\",\"marker\":{\"colorbar\":{\"outlinewidth\":0,\"ticks\":\"\"}}}],\"scattercarpet\":[{\"type\":\"scattercarpet\",\"marker\":{\"colorbar\":{\"outlinewidth\":0,\"ticks\":\"\"}}}],\"carpet\":[{\"aaxis\":{\"endlinecolor\":\"#2a3f5f\",\"gridcolor\":\"white\",\"linecolor\":\"white\",\"minorgridcolor\":\"white\",\"startlinecolor\":\"#2a3f5f\"},\"baxis\":{\"endlinecolor\":\"#2a3f5f\",\"gridcolor\":\"white\",\"linecolor\":\"white\",\"minorgridcolor\":\"white\",\"startlinecolor\":\"#2a3f5f\"},\"type\":\"carpet\"}],\"table\":[{\"cells\":{\"fill\":{\"color\":\"#EBF0F8\"},\"line\":{\"color\":\"white\"}},\"header\":{\"fill\":{\"color\":\"#C8D4E3\"},\"line\":{\"color\":\"white\"}},\"type\":\"table\"}],\"barpolar\":[{\"marker\":{\"line\":{\"color\":\"#E5ECF6\",\"width\":0.5},\"pattern\":{\"fillmode\":\"overlay\",\"size\":10,\"solidity\":0.2}},\"type\":\"barpolar\"}],\"pie\":[{\"automargin\":true,\"type\":\"pie\"}]},\"layout\":{\"autotypenumbers\":\"strict\",\"colorway\":[\"#636efa\",\"#EF553B\",\"#00cc96\",\"#ab63fa\",\"#FFA15A\",\"#19d3f3\",\"#FF6692\",\"#B6E880\",\"#FF97FF\",\"#FECB52\"],\"font\":{\"color\":\"#2a3f5f\"},\"hovermode\":\"closest\",\"hoverlabel\":{\"align\":\"left\"},\"paper_bgcolor\":\"white\",\"plot_bgcolor\":\"#E5ECF6\",\"polar\":{\"bgcolor\":\"#E5ECF6\",\"angularaxis\":{\"gridcolor\":\"white\",\"linecolor\":\"white\",\"ticks\":\"\"},\"radialaxis\":{\"gridcolor\":\"white\",\"linecolor\":\"white\",\"ticks\":\"\"}},\"ternary\":{\"bgcolor\":\"#E5ECF6\",\"aaxis\":{\"gridcolor\":\"white\",\"linecolor\":\"white\",\"ticks\":\"\"},\"baxis\":{\"gridcolor\":\"white\",\"linecolor\":\"white\",\"ticks\":\"\"},\"caxis\":{\"gridcolor\":\"white\",\"linecolor\":\"white\",\"ticks\":\"\"}},\"coloraxis\":{\"colorbar\":{\"outlinewidth\":0,\"ticks\":\"\"}},\"colorscale\":{\"sequential\":[[0.0,\"#0d0887\"],[0.1111111111111111,\"#46039f\"],[0.2222222222222222,\"#7201a8\"],[0.3333333333333333,\"#9c179e\"],[0.4444444444444444,\"#bd3786\"],[0.5555555555555556,\"#d8576b\"],[0.6666666666666666,\"#ed7953\"],[0.7777777777777778,\"#fb9f3a\"],[0.8888888888888888,\"#fdca26\"],[1.0,\"#f0f921\"]],\"sequentialminus\":[[0.0,\"#0d0887\"],[0.1111111111111111,\"#46039f\"],[0.2222222222222222,\"#7201a8\"],[0.3333333333333333,\"#9c179e\"],[0.4444444444444444,\"#bd3786\"],[0.5555555555555556,\"#d8576b\"],[0.6666666666666666,\"#ed7953\"],[0.7777777777777778,\"#fb9f3a\"],[0.8888888888888888,\"#fdca26\"],[1.0,\"#f0f921\"]],\"diverging\":[[0,\"#8e0152\"],[0.1,\"#c51b7d\"],[0.2,\"#de77ae\"],[0.3,\"#f1b6da\"],[0.4,\"#fde0ef\"],[0.5,\"#f7f7f7\"],[0.6,\"#e6f5d0\"],[0.7,\"#b8e186\"],[0.8,\"#7fbc41\"],[0.9,\"#4d9221\"],[1,\"#276419\"]]},\"xaxis\":{\"gridcolor\":\"white\",\"linecolor\":\"white\",\"ticks\":\"\",\"title\":{\"standoff\":15},\"zerolinecolor\":\"white\",\"automargin\":true,\"zerolinewidth\":2},\"yaxis\":{\"gridcolor\":\"white\",\"linecolor\":\"white\",\"ticks\":\"\",\"title\":{\"standoff\":15},\"zerolinecolor\":\"white\",\"automargin\":true,\"zerolinewidth\":2},\"scene\":{\"xaxis\":{\"backgroundcolor\":\"#E5ECF6\",\"gridcolor\":\"white\",\"linecolor\":\"white\",\"showbackground\":true,\"ticks\":\"\",\"zerolinecolor\":\"white\",\"gridwidth\":2},\"yaxis\":{\"backgroundcolor\":\"#E5ECF6\",\"gridcolor\":\"white\",\"linecolor\":\"white\",\"showbackground\":true,\"ticks\":\"\",\"zerolinecolor\":\"white\",\"gridwidth\":2},\"zaxis\":{\"backgroundcolor\":\"#E5ECF6\",\"gridcolor\":\"white\",\"linecolor\":\"white\",\"showbackground\":true,\"ticks\":\"\",\"zerolinecolor\":\"white\",\"gridwidth\":2}},\"shapedefaults\":{\"line\":{\"color\":\"#2a3f5f\"}},\"annotationdefaults\":{\"arrowcolor\":\"#2a3f5f\",\"arrowhead\":0,\"arrowwidth\":1},\"geo\":{\"bgcolor\":\"white\",\"landcolor\":\"#E5ECF6\",\"subunitcolor\":\"white\",\"showland\":true,\"showlakes\":true,\"lakecolor\":\"white\"},\"title\":{\"x\":0.05},\"mapbox\":{\"style\":\"light\"}}},\"legend\":{\"tracegroupgap\":0},\"title\":{\"text\":\"RecursiveClustering_1000.0_10000.0_0.0_100.0\"},\"height\":500},                        {\"responsive\": true}                    ).then(function(){\n",
       "                            \n",
       "var gd = document.getElementById('f36986b0-01d1-4286-a2d4-0d8d5523b923');\n",
       "var x = new MutationObserver(function (mutations, observer) {{\n",
       "        var display = window.getComputedStyle(gd).display;\n",
       "        if (!display || display === 'none') {{\n",
       "            console.log([gd, 'removed!']);\n",
       "            Plotly.purge(gd);\n",
       "            observer.disconnect();\n",
       "        }}\n",
       "}});\n",
       "\n",
       "// Listen for the removal of the full notebook cells\n",
       "var notebookContainer = gd.closest('#notebook-container');\n",
       "if (notebookContainer) {{\n",
       "    x.observe(notebookContainer, {childList: true});\n",
       "}}\n",
       "\n",
       "// Listen for the clearing of the current output cell\n",
       "var outputEl = gd.closest('.output');\n",
       "if (outputEl) {{\n",
       "    x.observe(outputEl, {childList: true});\n",
       "}}\n",
       "\n",
       "                        })                };                });            </script>        </div>"
      ]
     },
     "metadata": {},
     "output_type": "display_data"
    }
   ],
   "source": [
    "parent_run_id = 'f2e81dab9d0f4b1b8aeb333e01b24899'\n",
    "parent_run = parent_runs.loc[parent_runs['tags.parent_run_id']==parent_run_id]\n",
    "model_name = parent_run['params.model_nickname'].values[0]\n",
    "n_samples = parent_run['params.n_samples'].values[0]\n",
    "n_informative = parent_run['params.n_informative'].values[0]\n",
    "n_random = parent_run['params.n_random'].values[0]\n",
    "class_sep = parent_run['params.class_sep'].values[0]\n",
    "fig_title = f'{model_name}_{n_samples}_{n_informative}_{n_random}_{class_sep}'\n",
    "df = runs.loc[runs['tags.parent_run_id']==parent_run_id]\n",
    "df = df.loc[df['metrics.n_clusters_'] < 10]\n",
    "fig = px.parallel_coordinates(df, dimensions=dimensions_dict[model_name], width=None, height=500, title=fig_title)\n",
    "fig.show()"
   ]
  }
 ],
 "metadata": {
  "kernelspec": {
   "display_name": "recursive_clustering",
   "language": "python",
   "name": "recursive_clustering"
  },
  "language_info": {
   "codemirror_mode": {
    "name": "ipython",
    "version": 3
   },
   "file_extension": ".py",
   "mimetype": "text/x-python",
   "name": "python",
   "nbconvert_exporter": "python",
   "pygments_lexer": "ipython3",
   "version": "3.11.10"
  }
 },
 "nbformat": 4,
 "nbformat_minor": 5
}
