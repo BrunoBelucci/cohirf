{
 "cells": [
  {
   "cell_type": "code",
   "id": "1f85d4fd",
   "metadata": {
    "ExecuteTime": {
     "end_time": "2025-01-21T12:20:58.761304Z",
     "start_time": "2025-01-21T12:20:58.506848Z"
    }
   },
   "source": [
    "from sqlalchemy import create_engine, text\n",
    "import pandas as pd\n",
    "from ml_experiments.analyze import get_df_runs_from_mlflow_sql, get_missing_entries, get_common_combinations, get_df_with_combinations\n",
    "import plotly.express as px\n",
    "from itertools import product\n",
    "import time\n",
    "import numpy as np\n",
    "import seaborn as sns"
   ],
   "outputs": [],
   "execution_count": 2
  },
  {
   "cell_type": "markdown",
   "id": "6a3938ba",
   "metadata": {},
   "source": [
    "# Save Results"
   ]
  },
  {
   "cell_type": "markdown",
   "id": "063d38d6",
   "metadata": {},
   "source": [
    "## Load mlflow runs"
   ]
  },
  {
   "cell_type": "code",
   "id": "796bc2d4",
   "metadata": {
    "ExecuteTime": {
     "start_time": "2025-01-21T12:20:58.936281Z"
    }
   },
   "source": [
    "db_port = 5003\n",
    "db_name = 'recursive_clustering'\n",
    "w = 'clust9'\n",
    "# url = f'postgresql://{w}.ceremade.dauphine.lan:{db_port}/{db_name}'\n",
    "url = f'postgresql://belucci@localhost:{db_port}/{db_name}'\n",
    "engine = create_engine(url)\n",
    "query = 'SELECT experiments.name from experiments'\n",
    "experiment_names = pd.read_sql(query, engine)['name'].tolist()\n",
    "# results_dir = Path('~/tab_benchmark/results')\n",
    "# os.makedirs(results_dir, exist_ok=True)"
   ],
   "outputs": [],
   "execution_count": null
  },
  {
   "cell_type": "code",
   "id": "a5d787a8-9184-4399-9178-db921e4f4cc5",
   "metadata": {
    "ExecuteTime": {
     "end_time": "2025-01-21T12:22:26.841100266Z",
     "start_time": "2025-01-21T11:02:42.028372Z"
    }
   },
   "source": [
    "experiment_names"
   ],
   "outputs": [
    {
     "data": {
      "text/plain": [
       "['Default',\n",
       " 'blob_experiment',\n",
       " 'hpo_classif_experiment',\n",
       " 'hpo_openml_experiment',\n",
       " 'hpo_gaussian_experiment']"
      ]
     },
     "execution_count": 4,
     "metadata": {},
     "output_type": "execute_result"
    }
   ],
   "execution_count": 4
  },
  {
   "cell_type": "code",
   "id": "4ed24836-1159-4283-bba2-647e80f3e48a",
   "metadata": {
    "ExecuteTime": {
     "end_time": "2025-01-21T12:22:26.845326779Z",
     "start_time": "2025-01-21T11:02:42.934398Z"
    }
   },
   "source": [
    "experiments_names = [\n",
    "    'hpo_gaussian_experiment',\n",
    "]"
   ],
   "outputs": [],
   "execution_count": 5
  },
  {
   "cell_type": "code",
   "id": "7cbcd544-55f8-4316-a9e0-483822d4da62",
   "metadata": {
    "ExecuteTime": {
     "end_time": "2025-01-21T12:22:26.845978845Z",
     "start_time": "2025-01-21T11:02:43.363537Z"
    }
   },
   "source": [
    "params_columns = [\n",
    "    'model_nickname',\n",
    "    'n_samples',\n",
    "    'n_features',\n",
    "    'n_centers',\n",
    "    'distance',\n",
    "    'seed_unified',\n",
    "]"
   ],
   "outputs": [],
   "execution_count": 6
  },
  {
   "cell_type": "code",
   "id": "54adf5d4-9285-4af5-83f7-11d351c790fc",
   "metadata": {
    "ExecuteTime": {
     "end_time": "2025-01-21T12:22:26.846730599Z",
     "start_time": "2025-01-21T11:02:43.853904Z"
    }
   },
   "source": [
    "latest_metrics_columns = [\n",
    "    'fit_model_return_elapsed_time',\n",
    "    'max_memory_used',\n",
    "    'n_clusters_',\n",
    "    'rand_score',\n",
    "    'adjusted_rand',\n",
    "    'mutual_info',\n",
    "    'adjusted_mutual_info',\n",
    "    'normalized_mutual_info',\n",
    "    'homogeneity_completeness_v_measure',\n",
    "    'silhouette',\n",
    "    'best_n_clusters_',\n",
    "    'best_rand_score',\n",
    "    'best_adjusted_rand',\n",
    "    'best_mutual_info',\n",
    "    'best_adjusted_mutual_info',\n",
    "    'best_normalized_mutual_info',\n",
    "    'best_homogeneity_completeness_v_measure',\n",
    "    'best_silhouette',\n",
    "]"
   ],
   "outputs": [],
   "execution_count": 7
  },
  {
   "cell_type": "code",
   "id": "f34719ec-326d-41e5-9ac1-74fd7e73c887",
   "metadata": {
    "ExecuteTime": {
     "end_time": "2025-01-21T12:22:26.847479835Z",
     "start_time": "2025-01-21T11:02:44.213941Z"
    }
   },
   "source": [
    "tags_columns = [\n",
    "    'raised_exception',\n",
    "    'EXCEPTION',\n",
    "    'parent_run_id',\n",
    "    'best_child_run_id',\n",
    "]"
   ],
   "outputs": [],
   "execution_count": 8
  },
  {
   "cell_type": "code",
   "id": "7a771e592e8de7ce",
   "metadata": {
    "ExecuteTime": {
     "end_time": "2025-01-21T12:22:26.848168167Z",
     "start_time": "2025-01-21T11:02:44.654309Z"
    }
   },
   "source": [
    "runs_columns = ['run_uuid', 'status', 'start_time', 'end_time']\n",
    "experiments_columns = []\n",
    "other_table = 'params'\n",
    "other_table_keys = params_columns\n",
    "df_params = get_df_runs_from_mlflow_sql(engine, runs_columns=runs_columns, experiments_columns=experiments_columns, experiments_names=experiments_names, other_table=other_table, other_table_keys=other_table_keys)\n",
    "df_latest_metrics = get_df_runs_from_mlflow_sql(engine, runs_columns=['run_uuid'], experiments_columns=experiments_columns, experiments_names=experiments_names, other_table='latest_metrics', other_table_keys=latest_metrics_columns)\n",
    "df_tags = get_df_runs_from_mlflow_sql(engine, runs_columns=['run_uuid'], experiments_columns=experiments_columns, experiments_names=experiments_names, other_table='tags', other_table_keys=tags_columns)"
   ],
   "outputs": [],
   "execution_count": 9
  },
  {
   "cell_type": "code",
   "id": "56ece867-3e41-463f-9808-a5770db4c686",
   "metadata": {
    "ExecuteTime": {
     "end_time": "2025-01-21T12:22:26.848744383Z",
     "start_time": "2025-01-21T11:02:51.131494Z"
    }
   },
   "source": [
    "df_runs_raw = df_params.join(df_latest_metrics)\n",
    "df_runs_raw = df_runs_raw.join(df_tags)"
   ],
   "outputs": [],
   "execution_count": 10
  },
  {
   "cell_type": "code",
   "id": "b589cc73-1fc4-49ec-ba22-3163557b3b78",
   "metadata": {
    "ExecuteTime": {
     "end_time": "2025-01-21T12:22:26.849308431Z",
     "start_time": "2025-01-21T11:02:51.204370Z"
    }
   },
   "source": [
    "df_runs_raw_parents = df_runs_raw.copy()\n",
    "df_runs_raw_parents = df_runs_raw_parents.loc[df_runs_raw_parents['parent_run_id'].isna()]"
   ],
   "outputs": [],
   "execution_count": 11
  },
  {
   "cell_type": "code",
   "id": "2d92dc48b2c586a8",
   "metadata": {
    "ExecuteTime": {
     "end_time": "2025-01-21T12:22:26.849865147Z",
     "start_time": "2025-01-21T11:02:51.269517Z"
    }
   },
   "source": [
    "df_runs_raw_parents"
   ],
   "outputs": [
    {
     "data": {
      "text/plain": [
       "key                                 status     start_time      end_time  \\\n",
       "run_uuid                                                                  \n",
       "00d72239d3d442cd92f198f39d180401  FINISHED  1737417765262  1.737418e+12   \n",
       "00f5ede9d1d3460580e6ec22c4e2010d  FINISHED  1737370049357  1.737370e+12   \n",
       "01435afcd6fb481b966e4c91c37a7929  FINISHED  1737370014728  1.737370e+12   \n",
       "0146e2f7bcde414c89652abf655baa8c  FINISHED  1737417830446  1.737418e+12   \n",
       "017138d5d2e345ad9ae7558e02e6ba68  FINISHED  1737370025437  1.737403e+12   \n",
       "...                                    ...            ...           ...   \n",
       "fee797330cdd473db838f3b87d418f78  FINISHED  1737370077969  1.737400e+12   \n",
       "fef66750ca9c4469a783662c957b3eb8  FINISHED  1737417802981  1.737419e+12   \n",
       "fefa886e7787483a994a7774c47b50ce  FINISHED  1737417746438  1.737423e+12   \n",
       "ff0e922021c2413bbcd128b00d830b24  FINISHED  1737417746431  1.737422e+12   \n",
       "ff1ab76a7cab41de8037c2273860a85d  FINISHED  1737417629277  1.737418e+12   \n",
       "\n",
       "key                              distance                 model_nickname  \\\n",
       "run_uuid                                                                   \n",
       "00d72239d3d442cd92f198f39d180401      5.0            AffinityPropagation   \n",
       "00f5ede9d1d3460580e6ec22c4e2010d    100.0                        HDBSCAN   \n",
       "01435afcd6fb481b966e4c91c37a7929     30.0    WardAgglomerativeClustering   \n",
       "0146e2f7bcde414c89652abf655baa8c     30.0    WardAgglomerativeClustering   \n",
       "017138d5d2e345ad9ae7558e02e6ba68      3.0  SpectralSubspaceRandomization   \n",
       "...                                   ...                            ...   \n",
       "fee797330cdd473db838f3b87d418f78      5.0            AffinityPropagation   \n",
       "fef66750ca9c4469a783662c957b3eb8     10.0    WardAgglomerativeClustering   \n",
       "fefa886e7787483a994a7774c47b50ce      3.0            AffinityPropagation   \n",
       "ff0e922021c2413bbcd128b00d830b24     10.0            AffinityPropagation   \n",
       "ff1ab76a7cab41de8037c2273860a85d      3.0                         KMeans   \n",
       "\n",
       "key                              n_centers n_features n_samples seed_unified  \\\n",
       "run_uuid                                                                       \n",
       "00d72239d3d442cd92f198f39d180401         5       1000       100            1   \n",
       "00f5ede9d1d3460580e6ec22c4e2010d         5        100      1000            3   \n",
       "01435afcd6fb481b966e4c91c37a7929         5        100      1000            5   \n",
       "0146e2f7bcde414c89652abf655baa8c         5       1000      1000            0   \n",
       "017138d5d2e345ad9ae7558e02e6ba68         5        100      1000            6   \n",
       "...                                    ...        ...       ...          ...   \n",
       "fee797330cdd473db838f3b87d418f78         5        100      1000            9   \n",
       "fef66750ca9c4469a783662c957b3eb8         5       1000      1000            3   \n",
       "fefa886e7787483a994a7774c47b50ce         5       1000      1000            4   \n",
       "ff0e922021c2413bbcd128b00d830b24         5       1000       100            4   \n",
       "ff1ab76a7cab41de8037c2273860a85d         5       1000       100            4   \n",
       "\n",
       "key                               adjusted_mutual_info  ...  max_memory_used  \\\n",
       "run_uuid                                                ...                    \n",
       "00d72239d3d442cd92f198f39d180401              0.052337  ...          349.024   \n",
       "00f5ede9d1d3460580e6ec22c4e2010d              1.000000  ...          525.568   \n",
       "01435afcd6fb481b966e4c91c37a7929              0.769025  ...          516.412   \n",
       "0146e2f7bcde414c89652abf655baa8c              0.771151  ...          549.276   \n",
       "017138d5d2e345ad9ae7558e02e6ba68              0.139336  ...        16105.284   \n",
       "...                                                ...  ...              ...   \n",
       "fee797330cdd473db838f3b87d418f78              0.275843  ...         1432.916   \n",
       "fef66750ca9c4469a783662c957b3eb8              0.712519  ...          576.268   \n",
       "fefa886e7787483a994a7774c47b50ce              0.007942  ...         1359.220   \n",
       "ff0e922021c2413bbcd128b00d830b24              0.389665  ...         1350.700   \n",
       "ff1ab76a7cab41de8037c2273860a85d              0.006377  ...          522.204   \n",
       "\n",
       "key                               mutual_info  n_clusters_  \\\n",
       "run_uuid                                                     \n",
       "00d72239d3d442cd92f198f39d180401     0.217890         24.0   \n",
       "00f5ede9d1d3460580e6ec22c4e2010d     1.609438          5.0   \n",
       "01435afcd6fb481b966e4c91c37a7929     1.609438         14.0   \n",
       "0146e2f7bcde414c89652abf655baa8c     1.609438         14.0   \n",
       "017138d5d2e345ad9ae7558e02e6ba68     0.341715         30.0   \n",
       "...                                       ...          ...   \n",
       "fee797330cdd473db838f3b87d418f78     0.953065        162.0   \n",
       "fef66750ca9c4469a783662c957b3eb8     1.492547         14.0   \n",
       "fefa886e7787483a994a7774c47b50ce     0.079953        133.0   \n",
       "ff0e922021c2413bbcd128b00d830b24     1.029417         30.0   \n",
       "ff1ab76a7cab41de8037c2273860a85d     0.067961         14.0   \n",
       "\n",
       "key                               normalized_mutual_info  rand_score  \\\n",
       "run_uuid                                                               \n",
       "00d72239d3d442cd92f198f39d180401                0.092974    0.776361   \n",
       "00f5ede9d1d3460580e6ec22c4e2010d                1.000000    1.000000   \n",
       "01435afcd6fb481b966e4c91c37a7929                0.769601    0.880928   \n",
       "0146e2f7bcde414c89652abf655baa8c                0.771724    0.882679   \n",
       "017138d5d2e345ad9ae7558e02e6ba68                0.143582    0.790122   \n",
       "...                                                  ...         ...   \n",
       "fee797330cdd473db838f3b87d418f78                0.290882    0.802651   \n",
       "fef66750ca9c4469a783662c957b3eb8                0.713236    0.873611   \n",
       "fefa886e7787483a994a7774c47b50ce                0.025368    0.793431   \n",
       "ff0e922021c2413bbcd128b00d830b24                0.422266    0.810405   \n",
       "ff1ab76a7cab41de8037c2273860a85d                0.035387    0.723222   \n",
       "\n",
       "key                               silhouette  EXCEPTION  \\\n",
       "run_uuid                                                  \n",
       "00d72239d3d442cd92f198f39d180401   -0.003887        NaN   \n",
       "00f5ede9d1d3460580e6ec22c4e2010d    0.859418        NaN   \n",
       "01435afcd6fb481b966e4c91c37a7929    0.002602        NaN   \n",
       "0146e2f7bcde414c89652abf655baa8c    0.000147        NaN   \n",
       "017138d5d2e345ad9ae7558e02e6ba68   -0.009516        NaN   \n",
       "...                                      ...        ...   \n",
       "fee797330cdd473db838f3b87d418f78   -0.010245        NaN   \n",
       "fef66750ca9c4469a783662c957b3eb8   -0.000762        NaN   \n",
       "fefa886e7787483a994a7774c47b50ce   -0.027983        NaN   \n",
       "ff0e922021c2413bbcd128b00d830b24   -0.006073        NaN   \n",
       "ff1ab76a7cab41de8037c2273860a85d   -0.005169        NaN   \n",
       "\n",
       "key                                              best_child_run_id  \\\n",
       "run_uuid                                                             \n",
       "00d72239d3d442cd92f198f39d180401  9cf265ec6b0042ef9f98cf013f584ca6   \n",
       "00f5ede9d1d3460580e6ec22c4e2010d  d120a6fecc2b4a8ba19678a96dd5caac   \n",
       "01435afcd6fb481b966e4c91c37a7929  6305eb488d744b84ba80edcdf108f443   \n",
       "0146e2f7bcde414c89652abf655baa8c  5dd2c7a93fb844a3a83ac6609128ffa0   \n",
       "017138d5d2e345ad9ae7558e02e6ba68  0bc87d170a7c4c219e57450cfd8abfb4   \n",
       "...                                                            ...   \n",
       "fee797330cdd473db838f3b87d418f78  9deb4c2278d440e6bfe9327a8420f8ff   \n",
       "fef66750ca9c4469a783662c957b3eb8  40fffeb15abe4c52a0ccd56613b9ca5d   \n",
       "fefa886e7787483a994a7774c47b50ce  e4b33d8ac5dc4a1084e91ffa92a96675   \n",
       "ff0e922021c2413bbcd128b00d830b24  2a5c78955a7a42afb880afad03a49892   \n",
       "ff1ab76a7cab41de8037c2273860a85d  0bfc0a55627246f6a2eac874410cb11f   \n",
       "\n",
       "key                               parent_run_id  raised_exception  \n",
       "run_uuid                                                           \n",
       "00d72239d3d442cd92f198f39d180401            NaN             False  \n",
       "00f5ede9d1d3460580e6ec22c4e2010d            NaN             False  \n",
       "01435afcd6fb481b966e4c91c37a7929            NaN             False  \n",
       "0146e2f7bcde414c89652abf655baa8c            NaN             False  \n",
       "017138d5d2e345ad9ae7558e02e6ba68            NaN             False  \n",
       "...                                         ...               ...  \n",
       "fee797330cdd473db838f3b87d418f78            NaN             False  \n",
       "fef66750ca9c4469a783662c957b3eb8            NaN             False  \n",
       "fefa886e7787483a994a7774c47b50ce            NaN             False  \n",
       "ff0e922021c2413bbcd128b00d830b24            NaN             False  \n",
       "ff1ab76a7cab41de8037c2273860a85d            NaN             False  \n",
       "\n",
       "[700 rows x 29 columns]"
      ],
      "text/html": [
       "<div>\n",
       "<style scoped>\n",
       "    .dataframe tbody tr th:only-of-type {\n",
       "        vertical-align: middle;\n",
       "    }\n",
       "\n",
       "    .dataframe tbody tr th {\n",
       "        vertical-align: top;\n",
       "    }\n",
       "\n",
       "    .dataframe thead th {\n",
       "        text-align: right;\n",
       "    }\n",
       "</style>\n",
       "<table border=\"1\" class=\"dataframe\">\n",
       "  <thead>\n",
       "    <tr style=\"text-align: right;\">\n",
       "      <th>key</th>\n",
       "      <th>status</th>\n",
       "      <th>start_time</th>\n",
       "      <th>end_time</th>\n",
       "      <th>distance</th>\n",
       "      <th>model_nickname</th>\n",
       "      <th>n_centers</th>\n",
       "      <th>n_features</th>\n",
       "      <th>n_samples</th>\n",
       "      <th>seed_unified</th>\n",
       "      <th>adjusted_mutual_info</th>\n",
       "      <th>...</th>\n",
       "      <th>max_memory_used</th>\n",
       "      <th>mutual_info</th>\n",
       "      <th>n_clusters_</th>\n",
       "      <th>normalized_mutual_info</th>\n",
       "      <th>rand_score</th>\n",
       "      <th>silhouette</th>\n",
       "      <th>EXCEPTION</th>\n",
       "      <th>best_child_run_id</th>\n",
       "      <th>parent_run_id</th>\n",
       "      <th>raised_exception</th>\n",
       "    </tr>\n",
       "    <tr>\n",
       "      <th>run_uuid</th>\n",
       "      <th></th>\n",
       "      <th></th>\n",
       "      <th></th>\n",
       "      <th></th>\n",
       "      <th></th>\n",
       "      <th></th>\n",
       "      <th></th>\n",
       "      <th></th>\n",
       "      <th></th>\n",
       "      <th></th>\n",
       "      <th></th>\n",
       "      <th></th>\n",
       "      <th></th>\n",
       "      <th></th>\n",
       "      <th></th>\n",
       "      <th></th>\n",
       "      <th></th>\n",
       "      <th></th>\n",
       "      <th></th>\n",
       "      <th></th>\n",
       "      <th></th>\n",
       "    </tr>\n",
       "  </thead>\n",
       "  <tbody>\n",
       "    <tr>\n",
       "      <th>00d72239d3d442cd92f198f39d180401</th>\n",
       "      <td>FINISHED</td>\n",
       "      <td>1737417765262</td>\n",
       "      <td>1.737418e+12</td>\n",
       "      <td>5.0</td>\n",
       "      <td>AffinityPropagation</td>\n",
       "      <td>5</td>\n",
       "      <td>1000</td>\n",
       "      <td>100</td>\n",
       "      <td>1</td>\n",
       "      <td>0.052337</td>\n",
       "      <td>...</td>\n",
       "      <td>349.024</td>\n",
       "      <td>0.217890</td>\n",
       "      <td>24.0</td>\n",
       "      <td>0.092974</td>\n",
       "      <td>0.776361</td>\n",
       "      <td>-0.003887</td>\n",
       "      <td>NaN</td>\n",
       "      <td>9cf265ec6b0042ef9f98cf013f584ca6</td>\n",
       "      <td>NaN</td>\n",
       "      <td>False</td>\n",
       "    </tr>\n",
       "    <tr>\n",
       "      <th>00f5ede9d1d3460580e6ec22c4e2010d</th>\n",
       "      <td>FINISHED</td>\n",
       "      <td>1737370049357</td>\n",
       "      <td>1.737370e+12</td>\n",
       "      <td>100.0</td>\n",
       "      <td>HDBSCAN</td>\n",
       "      <td>5</td>\n",
       "      <td>100</td>\n",
       "      <td>1000</td>\n",
       "      <td>3</td>\n",
       "      <td>1.000000</td>\n",
       "      <td>...</td>\n",
       "      <td>525.568</td>\n",
       "      <td>1.609438</td>\n",
       "      <td>5.0</td>\n",
       "      <td>1.000000</td>\n",
       "      <td>1.000000</td>\n",
       "      <td>0.859418</td>\n",
       "      <td>NaN</td>\n",
       "      <td>d120a6fecc2b4a8ba19678a96dd5caac</td>\n",
       "      <td>NaN</td>\n",
       "      <td>False</td>\n",
       "    </tr>\n",
       "    <tr>\n",
       "      <th>01435afcd6fb481b966e4c91c37a7929</th>\n",
       "      <td>FINISHED</td>\n",
       "      <td>1737370014728</td>\n",
       "      <td>1.737370e+12</td>\n",
       "      <td>30.0</td>\n",
       "      <td>WardAgglomerativeClustering</td>\n",
       "      <td>5</td>\n",
       "      <td>100</td>\n",
       "      <td>1000</td>\n",
       "      <td>5</td>\n",
       "      <td>0.769025</td>\n",
       "      <td>...</td>\n",
       "      <td>516.412</td>\n",
       "      <td>1.609438</td>\n",
       "      <td>14.0</td>\n",
       "      <td>0.769601</td>\n",
       "      <td>0.880928</td>\n",
       "      <td>0.002602</td>\n",
       "      <td>NaN</td>\n",
       "      <td>6305eb488d744b84ba80edcdf108f443</td>\n",
       "      <td>NaN</td>\n",
       "      <td>False</td>\n",
       "    </tr>\n",
       "    <tr>\n",
       "      <th>0146e2f7bcde414c89652abf655baa8c</th>\n",
       "      <td>FINISHED</td>\n",
       "      <td>1737417830446</td>\n",
       "      <td>1.737418e+12</td>\n",
       "      <td>30.0</td>\n",
       "      <td>WardAgglomerativeClustering</td>\n",
       "      <td>5</td>\n",
       "      <td>1000</td>\n",
       "      <td>1000</td>\n",
       "      <td>0</td>\n",
       "      <td>0.771151</td>\n",
       "      <td>...</td>\n",
       "      <td>549.276</td>\n",
       "      <td>1.609438</td>\n",
       "      <td>14.0</td>\n",
       "      <td>0.771724</td>\n",
       "      <td>0.882679</td>\n",
       "      <td>0.000147</td>\n",
       "      <td>NaN</td>\n",
       "      <td>5dd2c7a93fb844a3a83ac6609128ffa0</td>\n",
       "      <td>NaN</td>\n",
       "      <td>False</td>\n",
       "    </tr>\n",
       "    <tr>\n",
       "      <th>017138d5d2e345ad9ae7558e02e6ba68</th>\n",
       "      <td>FINISHED</td>\n",
       "      <td>1737370025437</td>\n",
       "      <td>1.737403e+12</td>\n",
       "      <td>3.0</td>\n",
       "      <td>SpectralSubspaceRandomization</td>\n",
       "      <td>5</td>\n",
       "      <td>100</td>\n",
       "      <td>1000</td>\n",
       "      <td>6</td>\n",
       "      <td>0.139336</td>\n",
       "      <td>...</td>\n",
       "      <td>16105.284</td>\n",
       "      <td>0.341715</td>\n",
       "      <td>30.0</td>\n",
       "      <td>0.143582</td>\n",
       "      <td>0.790122</td>\n",
       "      <td>-0.009516</td>\n",
       "      <td>NaN</td>\n",
       "      <td>0bc87d170a7c4c219e57450cfd8abfb4</td>\n",
       "      <td>NaN</td>\n",
       "      <td>False</td>\n",
       "    </tr>\n",
       "    <tr>\n",
       "      <th>...</th>\n",
       "      <td>...</td>\n",
       "      <td>...</td>\n",
       "      <td>...</td>\n",
       "      <td>...</td>\n",
       "      <td>...</td>\n",
       "      <td>...</td>\n",
       "      <td>...</td>\n",
       "      <td>...</td>\n",
       "      <td>...</td>\n",
       "      <td>...</td>\n",
       "      <td>...</td>\n",
       "      <td>...</td>\n",
       "      <td>...</td>\n",
       "      <td>...</td>\n",
       "      <td>...</td>\n",
       "      <td>...</td>\n",
       "      <td>...</td>\n",
       "      <td>...</td>\n",
       "      <td>...</td>\n",
       "      <td>...</td>\n",
       "      <td>...</td>\n",
       "    </tr>\n",
       "    <tr>\n",
       "      <th>fee797330cdd473db838f3b87d418f78</th>\n",
       "      <td>FINISHED</td>\n",
       "      <td>1737370077969</td>\n",
       "      <td>1.737400e+12</td>\n",
       "      <td>5.0</td>\n",
       "      <td>AffinityPropagation</td>\n",
       "      <td>5</td>\n",
       "      <td>100</td>\n",
       "      <td>1000</td>\n",
       "      <td>9</td>\n",
       "      <td>0.275843</td>\n",
       "      <td>...</td>\n",
       "      <td>1432.916</td>\n",
       "      <td>0.953065</td>\n",
       "      <td>162.0</td>\n",
       "      <td>0.290882</td>\n",
       "      <td>0.802651</td>\n",
       "      <td>-0.010245</td>\n",
       "      <td>NaN</td>\n",
       "      <td>9deb4c2278d440e6bfe9327a8420f8ff</td>\n",
       "      <td>NaN</td>\n",
       "      <td>False</td>\n",
       "    </tr>\n",
       "    <tr>\n",
       "      <th>fef66750ca9c4469a783662c957b3eb8</th>\n",
       "      <td>FINISHED</td>\n",
       "      <td>1737417802981</td>\n",
       "      <td>1.737419e+12</td>\n",
       "      <td>10.0</td>\n",
       "      <td>WardAgglomerativeClustering</td>\n",
       "      <td>5</td>\n",
       "      <td>1000</td>\n",
       "      <td>1000</td>\n",
       "      <td>3</td>\n",
       "      <td>0.712519</td>\n",
       "      <td>...</td>\n",
       "      <td>576.268</td>\n",
       "      <td>1.492547</td>\n",
       "      <td>14.0</td>\n",
       "      <td>0.713236</td>\n",
       "      <td>0.873611</td>\n",
       "      <td>-0.000762</td>\n",
       "      <td>NaN</td>\n",
       "      <td>40fffeb15abe4c52a0ccd56613b9ca5d</td>\n",
       "      <td>NaN</td>\n",
       "      <td>False</td>\n",
       "    </tr>\n",
       "    <tr>\n",
       "      <th>fefa886e7787483a994a7774c47b50ce</th>\n",
       "      <td>FINISHED</td>\n",
       "      <td>1737417746438</td>\n",
       "      <td>1.737423e+12</td>\n",
       "      <td>3.0</td>\n",
       "      <td>AffinityPropagation</td>\n",
       "      <td>5</td>\n",
       "      <td>1000</td>\n",
       "      <td>1000</td>\n",
       "      <td>4</td>\n",
       "      <td>0.007942</td>\n",
       "      <td>...</td>\n",
       "      <td>1359.220</td>\n",
       "      <td>0.079953</td>\n",
       "      <td>133.0</td>\n",
       "      <td>0.025368</td>\n",
       "      <td>0.793431</td>\n",
       "      <td>-0.027983</td>\n",
       "      <td>NaN</td>\n",
       "      <td>e4b33d8ac5dc4a1084e91ffa92a96675</td>\n",
       "      <td>NaN</td>\n",
       "      <td>False</td>\n",
       "    </tr>\n",
       "    <tr>\n",
       "      <th>ff0e922021c2413bbcd128b00d830b24</th>\n",
       "      <td>FINISHED</td>\n",
       "      <td>1737417746431</td>\n",
       "      <td>1.737422e+12</td>\n",
       "      <td>10.0</td>\n",
       "      <td>AffinityPropagation</td>\n",
       "      <td>5</td>\n",
       "      <td>1000</td>\n",
       "      <td>100</td>\n",
       "      <td>4</td>\n",
       "      <td>0.389665</td>\n",
       "      <td>...</td>\n",
       "      <td>1350.700</td>\n",
       "      <td>1.029417</td>\n",
       "      <td>30.0</td>\n",
       "      <td>0.422266</td>\n",
       "      <td>0.810405</td>\n",
       "      <td>-0.006073</td>\n",
       "      <td>NaN</td>\n",
       "      <td>2a5c78955a7a42afb880afad03a49892</td>\n",
       "      <td>NaN</td>\n",
       "      <td>False</td>\n",
       "    </tr>\n",
       "    <tr>\n",
       "      <th>ff1ab76a7cab41de8037c2273860a85d</th>\n",
       "      <td>FINISHED</td>\n",
       "      <td>1737417629277</td>\n",
       "      <td>1.737418e+12</td>\n",
       "      <td>3.0</td>\n",
       "      <td>KMeans</td>\n",
       "      <td>5</td>\n",
       "      <td>1000</td>\n",
       "      <td>100</td>\n",
       "      <td>4</td>\n",
       "      <td>0.006377</td>\n",
       "      <td>...</td>\n",
       "      <td>522.204</td>\n",
       "      <td>0.067961</td>\n",
       "      <td>14.0</td>\n",
       "      <td>0.035387</td>\n",
       "      <td>0.723222</td>\n",
       "      <td>-0.005169</td>\n",
       "      <td>NaN</td>\n",
       "      <td>0bfc0a55627246f6a2eac874410cb11f</td>\n",
       "      <td>NaN</td>\n",
       "      <td>False</td>\n",
       "    </tr>\n",
       "  </tbody>\n",
       "</table>\n",
       "<p>700 rows × 29 columns</p>\n",
       "</div>"
      ]
     },
     "execution_count": 12,
     "metadata": {},
     "output_type": "execute_result"
    }
   ],
   "execution_count": 12
  },
  {
   "cell_type": "markdown",
   "id": "776e77ee-197d-44f6-aa1f-04cdec88e5fd",
   "metadata": {},
   "source": [
    "## Delete duplicate runs (if any) and complete some models that cannot run with some datasets"
   ]
  },
  {
   "cell_type": "code",
   "id": "4828f7c630f8d96c",
   "metadata": {
    "ExecuteTime": {
     "end_time": "2025-01-21T11:02:53.728215Z",
     "start_time": "2025-01-21T11:02:53.720876Z"
    }
   },
   "source": [
    "non_duplicate_columns = [\n",
    "    'model_nickname',\n",
    "    'n_samples',\n",
    "    'n_features',\n",
    "    'n_centers',\n",
    "    'distance',\n",
    "    'seed_unified',\n",
    "]\n",
    "df_runs_parents = df_runs_raw_parents.dropna(axis=0, how='all', subset=['best_adjusted_rand']).copy()\n",
    "df_runs_parents = df_runs_parents.loc[(~df_runs_parents.duplicated(non_duplicate_columns))]"
   ],
   "outputs": [],
   "execution_count": 13
  },
  {
   "cell_type": "markdown",
   "id": "a615eba11699fb61",
   "metadata": {},
   "source": [
    "no_run_time = 4*3600\n",
    "df_runs_timed_out = df_runs_raw.copy()\n",
    "df_runs_timed_out = df_runs_timed_out.loc[df_runs_timed_out.EXCEPTION == 'FunctionTimedOut']\n",
    "df_runs_timed_out = df_runs_timed_out.loc[(~df_runs_timed_out.duplicated(non_duplicate_columns))]\n",
    "df_runs_timed_out['fit_model_return_elapsed_time'] = no_run_time\n",
    "df_runs = pd.concat([df_runs, df_runs_timed_out])"
   ]
  },
  {
   "cell_type": "markdown",
   "id": "6a6cdf40029d2727",
   "metadata": {},
   "source": [
    "status = 'FAILED'\n",
    "no_run_memory = 2*120000\n",
    "raised_exception = True\n",
    "EXCEPTION = 'NoRun'\n",
    "start_time = time.time() * 1000\n",
    "end_time = time.time() * 1000"
   ]
  },
  {
   "cell_type": "markdown",
   "id": "67f0c8be49091fcd",
   "metadata": {},
   "source": [
    "# IRFLLRR do not run with n_samples > 14427\n",
    "model_nickname = 'IRFLLRR'\n",
    "n_samples = ['14427', '50000']\n",
    "n_features = ['100', '347', '1202', '4163', '14427', '50000']\n",
    "combinations = product(n_samples, n_features)\n",
    "df_cat = []\n",
    "indexes = []\n",
    "for n_sample, n_feature in combinations:\n",
    "    df = {}\n",
    "    index = f'{model_nickname}_{n_sample}_{n_feature}'\n",
    "    df['status'] = status\n",
    "    df['start_time'] = start_time\n",
    "    df['end_time'] = end_time\n",
    "    df['model_nickname'] = model_nickname\n",
    "    df['n_features'] = n_feature\n",
    "    df['n_samples'] = n_sample\n",
    "    df['fit_model_return_elapsed_time'] = no_run_time\n",
    "    df['max_memory_used'] = no_run_memory\n",
    "    df['EXCEPTION'] = EXCEPTION\n",
    "    df['raised_exception'] = raised_exception\n",
    "    df_cat.append(df)\n",
    "    indexes.append(index)\n",
    "df_no_run = pd.DataFrame(df_cat, index=indexes)\n",
    "df_runs = pd.concat([df_runs, df_no_run])"
   ]
  },
  {
   "cell_type": "markdown",
   "id": "484313a8900bf00f",
   "metadata": {},
   "source": [
    "# KMeansProj do not run with (14427,14427), (14427,50000), (50000,14427), (50000,50000)\n",
    "model_nickname = 'KMeansProj'\n",
    "n_samples = ['14427', '50000']\n",
    "n_features = ['14427', '50000']\n",
    "combinations = product(n_samples, n_features)\n",
    "df_cat = []\n",
    "indexes = []\n",
    "for n_sample, n_feature in combinations:\n",
    "    df = {}\n",
    "    index = f'{model_nickname}_{n_sample}_{n_feature}'\n",
    "    df['status'] = status\n",
    "    df['start_time'] = start_time\n",
    "    df['end_time'] = end_time\n",
    "    df['model_nickname'] = model_nickname\n",
    "    df['n_features'] = n_feature\n",
    "    df['n_samples'] = n_sample\n",
    "    df['fit_model_return_elapsed_time'] = no_run_time\n",
    "    df['max_memory_used'] = no_run_memory\n",
    "    df['EXCEPTION'] = EXCEPTION\n",
    "    df['raised_exception'] = raised_exception\n",
    "    df_cat.append(df)\n",
    "    indexes.append(index)\n",
    "df_no_run = pd.DataFrame(df_cat, index=indexes)\n",
    "df_runs = pd.concat([df_runs, df_no_run])"
   ]
  },
  {
   "cell_type": "markdown",
   "id": "d0314e34fe3767e1",
   "metadata": {},
   "source": [
    "# HDBSCAN do not run with (14427,14427), (14427,50000), and n_samples = 50000 n_features > 347\n",
    "model_nickname = 'HDBSCAN'\n",
    "n_samples = ['50000']\n",
    "n_features = ['347', '1202', '4163', '14427', '50000']\n",
    "combinations = list(product(n_samples, n_features))\n",
    "combinations += [('14427', '14427'), ('14427', '50000')]\n",
    "df_cat = []\n",
    "indexes = []\n",
    "for n_sample, n_feature in combinations:\n",
    "    df = {}\n",
    "    index = f'{model_nickname}_{n_sample}_{n_feature}'\n",
    "    df['status'] = status\n",
    "    df['start_time'] = start_time\n",
    "    df['end_time'] = end_time\n",
    "    df['model_nickname'] = model_nickname\n",
    "    df['n_features'] = n_feature\n",
    "    df['n_samples'] = n_sample\n",
    "    df['fit_model_return_elapsed_time'] = no_run_time\n",
    "    df['max_memory_used'] = no_run_memory\n",
    "    df['EXCEPTION'] = EXCEPTION\n",
    "    df['raised_exception'] = raised_exception\n",
    "    df_cat.append(df)\n",
    "    indexes.append(index)\n",
    "df_no_run = pd.DataFrame(df_cat, index=indexes)\n",
    "df_runs = pd.concat([df_runs, df_no_run])"
   ]
  },
  {
   "cell_type": "markdown",
   "id": "e698831249b36712",
   "metadata": {},
   "source": [
    "# SpectralSubspaceRandomization do not run with n_samples > 50000\n",
    "model_nickname = 'SpectralSubspaceRandomization'\n",
    "n_samples = ['50000']\n",
    "n_features = ['100', '347', '1202', '4163', '14427', '50000']\n",
    "combinations = list(product(n_samples, n_features))\n",
    "df_cat = []\n",
    "indexes = []\n",
    "for n_sample, n_feature in combinations:\n",
    "    df = {}\n",
    "    index = f'{model_nickname}_{n_sample}_{n_feature}'\n",
    "    df['status'] = status\n",
    "    df['start_time'] = start_time\n",
    "    df['end_time'] = end_time\n",
    "    df['model_nickname'] = model_nickname\n",
    "    df['n_features'] = n_feature\n",
    "    df['n_samples'] = n_sample\n",
    "    df['fit_model_return_elapsed_time'] = no_run_time\n",
    "    df['max_memory_used'] = no_run_memory\n",
    "    df['EXCEPTION'] = EXCEPTION\n",
    "    df['raised_exception'] = raised_exception\n",
    "    df_cat.append(df)\n",
    "    indexes.append(index)\n",
    "df_no_run = pd.DataFrame(df_cat, index=indexes)\n",
    "df_runs = pd.concat([df_runs, df_no_run])"
   ]
  },
  {
   "cell_type": "markdown",
   "id": "1286cd01cae9a6ae",
   "metadata": {},
   "source": [
    "# ensure no duplicates\n",
    "df_runs = df_runs.loc[(~df_runs.duplicated(non_duplicate_columns))]"
   ]
  },
  {
   "cell_type": "markdown",
   "id": "a6339d9a",
   "metadata": {},
   "source": [
    "# Missing"
   ]
  },
  {
   "cell_type": "code",
   "id": "439af2ca-b308-4b39-8cbb-9b65d8c0ee41",
   "metadata": {
    "ExecuteTime": {
     "end_time": "2025-01-21T12:22:26.899207860Z",
     "start_time": "2025-01-21T11:02:57.647558Z"
    }
   },
   "source": [
    "df_runs_parents['model_nickname'].unique().tolist()"
   ],
   "outputs": [
    {
     "data": {
      "text/plain": [
       "['AffinityPropagation',\n",
       " 'HDBSCAN',\n",
       " 'WardAgglomerativeClustering',\n",
       " 'SpectralSubspaceRandomization',\n",
       " 'RecursiveClustering',\n",
       " 'KMeans',\n",
       " 'DBSCAN']"
      ]
     },
     "execution_count": 14,
     "metadata": {},
     "output_type": "execute_result"
    }
   ],
   "execution_count": 14
  },
  {
   "cell_type": "code",
   "id": "8e715d31-cfc2-46b2-8729-698e883db92a",
   "metadata": {
    "ExecuteTime": {
     "end_time": "2025-01-21T12:22:26.899605861Z",
     "start_time": "2025-01-21T11:02:59.649632Z"
    }
   },
   "source": [
    "non_duplicate_columns = [\n",
    "    'model_nickname',\n",
    "    'n_samples',\n",
    "    'n_features',\n",
    "    'distance',\n",
    "    'n_centers',\n",
    "    'seed_unified',\n",
    "]"
   ],
   "outputs": [],
   "execution_count": 15
  },
  {
   "cell_type": "code",
   "id": "1d034b7d",
   "metadata": {
    "ExecuteTime": {
     "end_time": "2025-01-21T12:22:26.899834072Z",
     "start_time": "2025-01-21T11:03:54.986905Z"
    }
   },
   "source": [
    "n_samples = ['100', '1000']\n",
    "n_features = ['1000']\n",
    "distances = ['3.0', '5.0', '10.0', '30.0', '100.0']\n",
    "n_centers = ['5']\n",
    "seed_unified = [f'{i}' for i in range(5)]\n",
    "model_nickname = [\n",
    "    'AffinityPropagation',\n",
    "    'HDBSCAN',\n",
    "    'WardAgglomerativeClustering',\n",
    "    'SpectralSubspaceRandomization',\n",
    "    'RecursiveClustering',\n",
    "    'KMeans',\n",
    "    'DBSCAN'\n",
    "]\n",
    "columns_names = non_duplicate_columns\n",
    "should_contain_values = [model_nickname, n_samples, n_features, distances, n_centers, seed_unified]\n",
    "df_missing = get_missing_entries(df_runs_parents, columns_names, should_contain_values)"
   ],
   "outputs": [],
   "execution_count": 18
  },
  {
   "cell_type": "code",
   "id": "81e11466ca3d50fb",
   "metadata": {
    "ExecuteTime": {
     "end_time": "2025-01-21T12:22:26.899983558Z",
     "start_time": "2025-01-21T11:04:12.657605Z"
    }
   },
   "source": [
    "df_missing"
   ],
   "outputs": [
    {
     "data": {
      "text/plain": [
       "                  model_nickname n_samples n_features distance n_centers  \\\n",
       "0  SpectralSubspaceRandomization      1000       1000     30.0         5   \n",
       "1  SpectralSubspaceRandomization      1000       1000    100.0         5   \n",
       "\n",
       "  seed_unified  \n",
       "0            4  \n",
       "1            4  "
      ],
      "text/html": [
       "<div>\n",
       "<style scoped>\n",
       "    .dataframe tbody tr th:only-of-type {\n",
       "        vertical-align: middle;\n",
       "    }\n",
       "\n",
       "    .dataframe tbody tr th {\n",
       "        vertical-align: top;\n",
       "    }\n",
       "\n",
       "    .dataframe thead th {\n",
       "        text-align: right;\n",
       "    }\n",
       "</style>\n",
       "<table border=\"1\" class=\"dataframe\">\n",
       "  <thead>\n",
       "    <tr style=\"text-align: right;\">\n",
       "      <th></th>\n",
       "      <th>model_nickname</th>\n",
       "      <th>n_samples</th>\n",
       "      <th>n_features</th>\n",
       "      <th>distance</th>\n",
       "      <th>n_centers</th>\n",
       "      <th>seed_unified</th>\n",
       "    </tr>\n",
       "  </thead>\n",
       "  <tbody>\n",
       "    <tr>\n",
       "      <th>0</th>\n",
       "      <td>SpectralSubspaceRandomization</td>\n",
       "      <td>1000</td>\n",
       "      <td>1000</td>\n",
       "      <td>30.0</td>\n",
       "      <td>5</td>\n",
       "      <td>4</td>\n",
       "    </tr>\n",
       "    <tr>\n",
       "      <th>1</th>\n",
       "      <td>SpectralSubspaceRandomization</td>\n",
       "      <td>1000</td>\n",
       "      <td>1000</td>\n",
       "      <td>100.0</td>\n",
       "      <td>5</td>\n",
       "      <td>4</td>\n",
       "    </tr>\n",
       "  </tbody>\n",
       "</table>\n",
       "</div>"
      ]
     },
     "execution_count": 20,
     "metadata": {},
     "output_type": "execute_result"
    }
   ],
   "execution_count": 20
  },
  {
   "cell_type": "markdown",
   "id": "c908d9e33213b83f",
   "metadata": {},
   "source": [
    "# Get common combinations"
   ]
  },
  {
   "cell_type": "code",
   "id": "4562f6c92230fd0f",
   "metadata": {
    "ExecuteTime": {
     "end_time": "2025-01-21T12:22:26.900906587Z",
     "start_time": "2025-01-21T11:04:21.762661Z"
    }
   },
   "source": [
    "model_nickname = [\n",
    "    'AffinityPropagation',\n",
    "    'HDBSCAN',\n",
    "    'WardAgglomerativeClustering',\n",
    "    'SpectralSubspaceRandomization',\n",
    "    'RecursiveClustering',\n",
    "    'KMeans',\n",
    "    'DBSCAN'\n",
    "]\n",
    "df = df_runs_parents.copy()\n",
    "df = df.loc[df['model_nickname'].isin(model_nickname)]\n",
    "column = 'model_nickname'\n",
    "combination_columns = [\n",
    "    'n_samples',\n",
    "    'n_features',\n",
    "    'distance',\n",
    "    'n_centers',\n",
    "    'seed_unified',\n",
    "]\n",
    "common_combinations = get_common_combinations(df, column, combination_columns)"
   ],
   "outputs": [],
   "execution_count": 21
  },
  {
   "cell_type": "code",
   "id": "58575bddf358b878",
   "metadata": {
    "ExecuteTime": {
     "end_time": "2025-01-21T12:22:26.901070048Z",
     "start_time": "2025-01-21T11:04:22.731855Z"
    }
   },
   "source": [
    "df_common = get_df_with_combinations(df, combination_columns, common_combinations)"
   ],
   "outputs": [],
   "execution_count": 22
  },
  {
   "cell_type": "code",
   "id": "a09a4bd163976fbb",
   "metadata": {
    "ExecuteTime": {
     "end_time": "2025-01-21T12:22:26.901216312Z",
     "start_time": "2025-01-21T11:04:23.086237Z"
    }
   },
   "source": [
    "df_common['n_samples'] = df_common['n_samples'].astype(int)\n",
    "df_common['n_features'] = df_common['n_features'].astype(int)\n",
    "df_common['distance'] = df_common['distance'].astype(float)\n",
    "df_common['n_centers'] = df_common['n_centers'].astype(float)\n",
    "df_common['seed_unified'] = df_common['seed_unified'].astype(int)"
   ],
   "outputs": [],
   "execution_count": 23
  },
  {
   "cell_type": "code",
   "id": "69f7b1d0c03dd623",
   "metadata": {
    "ExecuteTime": {
     "end_time": "2025-01-21T12:22:26.901367495Z",
     "start_time": "2025-01-21T11:04:23.509486Z"
    }
   },
   "source": [
    "df_common"
   ],
   "outputs": [
    {
     "data": {
      "text/plain": [
       "key                                 status     start_time      end_time  \\\n",
       "run_uuid                                                                  \n",
       "00d72239d3d442cd92f198f39d180401  FINISHED  1737417765262  1.737418e+12   \n",
       "00f5ede9d1d3460580e6ec22c4e2010d  FINISHED  1737370049357  1.737370e+12   \n",
       "01435afcd6fb481b966e4c91c37a7929  FINISHED  1737370014728  1.737370e+12   \n",
       "0146e2f7bcde414c89652abf655baa8c  FINISHED  1737417830446  1.737418e+12   \n",
       "017138d5d2e345ad9ae7558e02e6ba68  FINISHED  1737370025437  1.737403e+12   \n",
       "...                                    ...            ...           ...   \n",
       "fee797330cdd473db838f3b87d418f78  FINISHED  1737370077969  1.737400e+12   \n",
       "fef66750ca9c4469a783662c957b3eb8  FINISHED  1737417802981  1.737419e+12   \n",
       "fefa886e7787483a994a7774c47b50ce  FINISHED  1737417746438  1.737423e+12   \n",
       "ff0e922021c2413bbcd128b00d830b24  FINISHED  1737417746431  1.737422e+12   \n",
       "ff1ab76a7cab41de8037c2273860a85d  FINISHED  1737417629277  1.737418e+12   \n",
       "\n",
       "key                               distance                 model_nickname  \\\n",
       "run_uuid                                                                    \n",
       "00d72239d3d442cd92f198f39d180401       5.0            AffinityPropagation   \n",
       "00f5ede9d1d3460580e6ec22c4e2010d     100.0                        HDBSCAN   \n",
       "01435afcd6fb481b966e4c91c37a7929      30.0    WardAgglomerativeClustering   \n",
       "0146e2f7bcde414c89652abf655baa8c      30.0    WardAgglomerativeClustering   \n",
       "017138d5d2e345ad9ae7558e02e6ba68       3.0  SpectralSubspaceRandomization   \n",
       "...                                    ...                            ...   \n",
       "fee797330cdd473db838f3b87d418f78       5.0            AffinityPropagation   \n",
       "fef66750ca9c4469a783662c957b3eb8      10.0    WardAgglomerativeClustering   \n",
       "fefa886e7787483a994a7774c47b50ce       3.0            AffinityPropagation   \n",
       "ff0e922021c2413bbcd128b00d830b24      10.0            AffinityPropagation   \n",
       "ff1ab76a7cab41de8037c2273860a85d       3.0                         KMeans   \n",
       "\n",
       "key                               n_centers  n_features  n_samples  \\\n",
       "run_uuid                                                             \n",
       "00d72239d3d442cd92f198f39d180401        5.0        1000        100   \n",
       "00f5ede9d1d3460580e6ec22c4e2010d        5.0         100       1000   \n",
       "01435afcd6fb481b966e4c91c37a7929        5.0         100       1000   \n",
       "0146e2f7bcde414c89652abf655baa8c        5.0        1000       1000   \n",
       "017138d5d2e345ad9ae7558e02e6ba68        5.0         100       1000   \n",
       "...                                     ...         ...        ...   \n",
       "fee797330cdd473db838f3b87d418f78        5.0         100       1000   \n",
       "fef66750ca9c4469a783662c957b3eb8        5.0        1000       1000   \n",
       "fefa886e7787483a994a7774c47b50ce        5.0        1000       1000   \n",
       "ff0e922021c2413bbcd128b00d830b24        5.0        1000        100   \n",
       "ff1ab76a7cab41de8037c2273860a85d        5.0        1000        100   \n",
       "\n",
       "key                               seed_unified  adjusted_mutual_info  ...  \\\n",
       "run_uuid                                                              ...   \n",
       "00d72239d3d442cd92f198f39d180401             1              0.052337  ...   \n",
       "00f5ede9d1d3460580e6ec22c4e2010d             3              1.000000  ...   \n",
       "01435afcd6fb481b966e4c91c37a7929             5              0.769025  ...   \n",
       "0146e2f7bcde414c89652abf655baa8c             0              0.771151  ...   \n",
       "017138d5d2e345ad9ae7558e02e6ba68             6              0.139336  ...   \n",
       "...                                        ...                   ...  ...   \n",
       "fee797330cdd473db838f3b87d418f78             9              0.275843  ...   \n",
       "fef66750ca9c4469a783662c957b3eb8             3              0.712519  ...   \n",
       "fefa886e7787483a994a7774c47b50ce             4              0.007942  ...   \n",
       "ff0e922021c2413bbcd128b00d830b24             4              0.389665  ...   \n",
       "ff1ab76a7cab41de8037c2273860a85d             4              0.006377  ...   \n",
       "\n",
       "key                               max_memory_used  mutual_info  n_clusters_  \\\n",
       "run_uuid                                                                      \n",
       "00d72239d3d442cd92f198f39d180401          349.024     0.217890         24.0   \n",
       "00f5ede9d1d3460580e6ec22c4e2010d          525.568     1.609438          5.0   \n",
       "01435afcd6fb481b966e4c91c37a7929          516.412     1.609438         14.0   \n",
       "0146e2f7bcde414c89652abf655baa8c          549.276     1.609438         14.0   \n",
       "017138d5d2e345ad9ae7558e02e6ba68        16105.284     0.341715         30.0   \n",
       "...                                           ...          ...          ...   \n",
       "fee797330cdd473db838f3b87d418f78         1432.916     0.953065        162.0   \n",
       "fef66750ca9c4469a783662c957b3eb8          576.268     1.492547         14.0   \n",
       "fefa886e7787483a994a7774c47b50ce         1359.220     0.079953        133.0   \n",
       "ff0e922021c2413bbcd128b00d830b24         1350.700     1.029417         30.0   \n",
       "ff1ab76a7cab41de8037c2273860a85d          522.204     0.067961         14.0   \n",
       "\n",
       "key                               normalized_mutual_info  rand_score  \\\n",
       "run_uuid                                                               \n",
       "00d72239d3d442cd92f198f39d180401                0.092974    0.776361   \n",
       "00f5ede9d1d3460580e6ec22c4e2010d                1.000000    1.000000   \n",
       "01435afcd6fb481b966e4c91c37a7929                0.769601    0.880928   \n",
       "0146e2f7bcde414c89652abf655baa8c                0.771724    0.882679   \n",
       "017138d5d2e345ad9ae7558e02e6ba68                0.143582    0.790122   \n",
       "...                                                  ...         ...   \n",
       "fee797330cdd473db838f3b87d418f78                0.290882    0.802651   \n",
       "fef66750ca9c4469a783662c957b3eb8                0.713236    0.873611   \n",
       "fefa886e7787483a994a7774c47b50ce                0.025368    0.793431   \n",
       "ff0e922021c2413bbcd128b00d830b24                0.422266    0.810405   \n",
       "ff1ab76a7cab41de8037c2273860a85d                0.035387    0.723222   \n",
       "\n",
       "key                               silhouette  EXCEPTION  \\\n",
       "run_uuid                                                  \n",
       "00d72239d3d442cd92f198f39d180401   -0.003887        NaN   \n",
       "00f5ede9d1d3460580e6ec22c4e2010d    0.859418        NaN   \n",
       "01435afcd6fb481b966e4c91c37a7929    0.002602        NaN   \n",
       "0146e2f7bcde414c89652abf655baa8c    0.000147        NaN   \n",
       "017138d5d2e345ad9ae7558e02e6ba68   -0.009516        NaN   \n",
       "...                                      ...        ...   \n",
       "fee797330cdd473db838f3b87d418f78   -0.010245        NaN   \n",
       "fef66750ca9c4469a783662c957b3eb8   -0.000762        NaN   \n",
       "fefa886e7787483a994a7774c47b50ce   -0.027983        NaN   \n",
       "ff0e922021c2413bbcd128b00d830b24   -0.006073        NaN   \n",
       "ff1ab76a7cab41de8037c2273860a85d   -0.005169        NaN   \n",
       "\n",
       "key                                              best_child_run_id  \\\n",
       "run_uuid                                                             \n",
       "00d72239d3d442cd92f198f39d180401  9cf265ec6b0042ef9f98cf013f584ca6   \n",
       "00f5ede9d1d3460580e6ec22c4e2010d  d120a6fecc2b4a8ba19678a96dd5caac   \n",
       "01435afcd6fb481b966e4c91c37a7929  6305eb488d744b84ba80edcdf108f443   \n",
       "0146e2f7bcde414c89652abf655baa8c  5dd2c7a93fb844a3a83ac6609128ffa0   \n",
       "017138d5d2e345ad9ae7558e02e6ba68  0bc87d170a7c4c219e57450cfd8abfb4   \n",
       "...                                                            ...   \n",
       "fee797330cdd473db838f3b87d418f78  9deb4c2278d440e6bfe9327a8420f8ff   \n",
       "fef66750ca9c4469a783662c957b3eb8  40fffeb15abe4c52a0ccd56613b9ca5d   \n",
       "fefa886e7787483a994a7774c47b50ce  e4b33d8ac5dc4a1084e91ffa92a96675   \n",
       "ff0e922021c2413bbcd128b00d830b24  2a5c78955a7a42afb880afad03a49892   \n",
       "ff1ab76a7cab41de8037c2273860a85d  0bfc0a55627246f6a2eac874410cb11f   \n",
       "\n",
       "key                               parent_run_id  raised_exception  \n",
       "run_uuid                                                           \n",
       "00d72239d3d442cd92f198f39d180401            NaN             False  \n",
       "00f5ede9d1d3460580e6ec22c4e2010d            NaN             False  \n",
       "01435afcd6fb481b966e4c91c37a7929            NaN             False  \n",
       "0146e2f7bcde414c89652abf655baa8c            NaN             False  \n",
       "017138d5d2e345ad9ae7558e02e6ba68            NaN             False  \n",
       "...                                         ...               ...  \n",
       "fee797330cdd473db838f3b87d418f78            NaN             False  \n",
       "fef66750ca9c4469a783662c957b3eb8            NaN             False  \n",
       "fefa886e7787483a994a7774c47b50ce            NaN             False  \n",
       "ff0e922021c2413bbcd128b00d830b24            NaN             False  \n",
       "ff1ab76a7cab41de8037c2273860a85d            NaN             False  \n",
       "\n",
       "[686 rows x 29 columns]"
      ],
      "text/html": [
       "<div>\n",
       "<style scoped>\n",
       "    .dataframe tbody tr th:only-of-type {\n",
       "        vertical-align: middle;\n",
       "    }\n",
       "\n",
       "    .dataframe tbody tr th {\n",
       "        vertical-align: top;\n",
       "    }\n",
       "\n",
       "    .dataframe thead th {\n",
       "        text-align: right;\n",
       "    }\n",
       "</style>\n",
       "<table border=\"1\" class=\"dataframe\">\n",
       "  <thead>\n",
       "    <tr style=\"text-align: right;\">\n",
       "      <th>key</th>\n",
       "      <th>status</th>\n",
       "      <th>start_time</th>\n",
       "      <th>end_time</th>\n",
       "      <th>distance</th>\n",
       "      <th>model_nickname</th>\n",
       "      <th>n_centers</th>\n",
       "      <th>n_features</th>\n",
       "      <th>n_samples</th>\n",
       "      <th>seed_unified</th>\n",
       "      <th>adjusted_mutual_info</th>\n",
       "      <th>...</th>\n",
       "      <th>max_memory_used</th>\n",
       "      <th>mutual_info</th>\n",
       "      <th>n_clusters_</th>\n",
       "      <th>normalized_mutual_info</th>\n",
       "      <th>rand_score</th>\n",
       "      <th>silhouette</th>\n",
       "      <th>EXCEPTION</th>\n",
       "      <th>best_child_run_id</th>\n",
       "      <th>parent_run_id</th>\n",
       "      <th>raised_exception</th>\n",
       "    </tr>\n",
       "    <tr>\n",
       "      <th>run_uuid</th>\n",
       "      <th></th>\n",
       "      <th></th>\n",
       "      <th></th>\n",
       "      <th></th>\n",
       "      <th></th>\n",
       "      <th></th>\n",
       "      <th></th>\n",
       "      <th></th>\n",
       "      <th></th>\n",
       "      <th></th>\n",
       "      <th></th>\n",
       "      <th></th>\n",
       "      <th></th>\n",
       "      <th></th>\n",
       "      <th></th>\n",
       "      <th></th>\n",
       "      <th></th>\n",
       "      <th></th>\n",
       "      <th></th>\n",
       "      <th></th>\n",
       "      <th></th>\n",
       "    </tr>\n",
       "  </thead>\n",
       "  <tbody>\n",
       "    <tr>\n",
       "      <th>00d72239d3d442cd92f198f39d180401</th>\n",
       "      <td>FINISHED</td>\n",
       "      <td>1737417765262</td>\n",
       "      <td>1.737418e+12</td>\n",
       "      <td>5.0</td>\n",
       "      <td>AffinityPropagation</td>\n",
       "      <td>5.0</td>\n",
       "      <td>1000</td>\n",
       "      <td>100</td>\n",
       "      <td>1</td>\n",
       "      <td>0.052337</td>\n",
       "      <td>...</td>\n",
       "      <td>349.024</td>\n",
       "      <td>0.217890</td>\n",
       "      <td>24.0</td>\n",
       "      <td>0.092974</td>\n",
       "      <td>0.776361</td>\n",
       "      <td>-0.003887</td>\n",
       "      <td>NaN</td>\n",
       "      <td>9cf265ec6b0042ef9f98cf013f584ca6</td>\n",
       "      <td>NaN</td>\n",
       "      <td>False</td>\n",
       "    </tr>\n",
       "    <tr>\n",
       "      <th>00f5ede9d1d3460580e6ec22c4e2010d</th>\n",
       "      <td>FINISHED</td>\n",
       "      <td>1737370049357</td>\n",
       "      <td>1.737370e+12</td>\n",
       "      <td>100.0</td>\n",
       "      <td>HDBSCAN</td>\n",
       "      <td>5.0</td>\n",
       "      <td>100</td>\n",
       "      <td>1000</td>\n",
       "      <td>3</td>\n",
       "      <td>1.000000</td>\n",
       "      <td>...</td>\n",
       "      <td>525.568</td>\n",
       "      <td>1.609438</td>\n",
       "      <td>5.0</td>\n",
       "      <td>1.000000</td>\n",
       "      <td>1.000000</td>\n",
       "      <td>0.859418</td>\n",
       "      <td>NaN</td>\n",
       "      <td>d120a6fecc2b4a8ba19678a96dd5caac</td>\n",
       "      <td>NaN</td>\n",
       "      <td>False</td>\n",
       "    </tr>\n",
       "    <tr>\n",
       "      <th>01435afcd6fb481b966e4c91c37a7929</th>\n",
       "      <td>FINISHED</td>\n",
       "      <td>1737370014728</td>\n",
       "      <td>1.737370e+12</td>\n",
       "      <td>30.0</td>\n",
       "      <td>WardAgglomerativeClustering</td>\n",
       "      <td>5.0</td>\n",
       "      <td>100</td>\n",
       "      <td>1000</td>\n",
       "      <td>5</td>\n",
       "      <td>0.769025</td>\n",
       "      <td>...</td>\n",
       "      <td>516.412</td>\n",
       "      <td>1.609438</td>\n",
       "      <td>14.0</td>\n",
       "      <td>0.769601</td>\n",
       "      <td>0.880928</td>\n",
       "      <td>0.002602</td>\n",
       "      <td>NaN</td>\n",
       "      <td>6305eb488d744b84ba80edcdf108f443</td>\n",
       "      <td>NaN</td>\n",
       "      <td>False</td>\n",
       "    </tr>\n",
       "    <tr>\n",
       "      <th>0146e2f7bcde414c89652abf655baa8c</th>\n",
       "      <td>FINISHED</td>\n",
       "      <td>1737417830446</td>\n",
       "      <td>1.737418e+12</td>\n",
       "      <td>30.0</td>\n",
       "      <td>WardAgglomerativeClustering</td>\n",
       "      <td>5.0</td>\n",
       "      <td>1000</td>\n",
       "      <td>1000</td>\n",
       "      <td>0</td>\n",
       "      <td>0.771151</td>\n",
       "      <td>...</td>\n",
       "      <td>549.276</td>\n",
       "      <td>1.609438</td>\n",
       "      <td>14.0</td>\n",
       "      <td>0.771724</td>\n",
       "      <td>0.882679</td>\n",
       "      <td>0.000147</td>\n",
       "      <td>NaN</td>\n",
       "      <td>5dd2c7a93fb844a3a83ac6609128ffa0</td>\n",
       "      <td>NaN</td>\n",
       "      <td>False</td>\n",
       "    </tr>\n",
       "    <tr>\n",
       "      <th>017138d5d2e345ad9ae7558e02e6ba68</th>\n",
       "      <td>FINISHED</td>\n",
       "      <td>1737370025437</td>\n",
       "      <td>1.737403e+12</td>\n",
       "      <td>3.0</td>\n",
       "      <td>SpectralSubspaceRandomization</td>\n",
       "      <td>5.0</td>\n",
       "      <td>100</td>\n",
       "      <td>1000</td>\n",
       "      <td>6</td>\n",
       "      <td>0.139336</td>\n",
       "      <td>...</td>\n",
       "      <td>16105.284</td>\n",
       "      <td>0.341715</td>\n",
       "      <td>30.0</td>\n",
       "      <td>0.143582</td>\n",
       "      <td>0.790122</td>\n",
       "      <td>-0.009516</td>\n",
       "      <td>NaN</td>\n",
       "      <td>0bc87d170a7c4c219e57450cfd8abfb4</td>\n",
       "      <td>NaN</td>\n",
       "      <td>False</td>\n",
       "    </tr>\n",
       "    <tr>\n",
       "      <th>...</th>\n",
       "      <td>...</td>\n",
       "      <td>...</td>\n",
       "      <td>...</td>\n",
       "      <td>...</td>\n",
       "      <td>...</td>\n",
       "      <td>...</td>\n",
       "      <td>...</td>\n",
       "      <td>...</td>\n",
       "      <td>...</td>\n",
       "      <td>...</td>\n",
       "      <td>...</td>\n",
       "      <td>...</td>\n",
       "      <td>...</td>\n",
       "      <td>...</td>\n",
       "      <td>...</td>\n",
       "      <td>...</td>\n",
       "      <td>...</td>\n",
       "      <td>...</td>\n",
       "      <td>...</td>\n",
       "      <td>...</td>\n",
       "      <td>...</td>\n",
       "    </tr>\n",
       "    <tr>\n",
       "      <th>fee797330cdd473db838f3b87d418f78</th>\n",
       "      <td>FINISHED</td>\n",
       "      <td>1737370077969</td>\n",
       "      <td>1.737400e+12</td>\n",
       "      <td>5.0</td>\n",
       "      <td>AffinityPropagation</td>\n",
       "      <td>5.0</td>\n",
       "      <td>100</td>\n",
       "      <td>1000</td>\n",
       "      <td>9</td>\n",
       "      <td>0.275843</td>\n",
       "      <td>...</td>\n",
       "      <td>1432.916</td>\n",
       "      <td>0.953065</td>\n",
       "      <td>162.0</td>\n",
       "      <td>0.290882</td>\n",
       "      <td>0.802651</td>\n",
       "      <td>-0.010245</td>\n",
       "      <td>NaN</td>\n",
       "      <td>9deb4c2278d440e6bfe9327a8420f8ff</td>\n",
       "      <td>NaN</td>\n",
       "      <td>False</td>\n",
       "    </tr>\n",
       "    <tr>\n",
       "      <th>fef66750ca9c4469a783662c957b3eb8</th>\n",
       "      <td>FINISHED</td>\n",
       "      <td>1737417802981</td>\n",
       "      <td>1.737419e+12</td>\n",
       "      <td>10.0</td>\n",
       "      <td>WardAgglomerativeClustering</td>\n",
       "      <td>5.0</td>\n",
       "      <td>1000</td>\n",
       "      <td>1000</td>\n",
       "      <td>3</td>\n",
       "      <td>0.712519</td>\n",
       "      <td>...</td>\n",
       "      <td>576.268</td>\n",
       "      <td>1.492547</td>\n",
       "      <td>14.0</td>\n",
       "      <td>0.713236</td>\n",
       "      <td>0.873611</td>\n",
       "      <td>-0.000762</td>\n",
       "      <td>NaN</td>\n",
       "      <td>40fffeb15abe4c52a0ccd56613b9ca5d</td>\n",
       "      <td>NaN</td>\n",
       "      <td>False</td>\n",
       "    </tr>\n",
       "    <tr>\n",
       "      <th>fefa886e7787483a994a7774c47b50ce</th>\n",
       "      <td>FINISHED</td>\n",
       "      <td>1737417746438</td>\n",
       "      <td>1.737423e+12</td>\n",
       "      <td>3.0</td>\n",
       "      <td>AffinityPropagation</td>\n",
       "      <td>5.0</td>\n",
       "      <td>1000</td>\n",
       "      <td>1000</td>\n",
       "      <td>4</td>\n",
       "      <td>0.007942</td>\n",
       "      <td>...</td>\n",
       "      <td>1359.220</td>\n",
       "      <td>0.079953</td>\n",
       "      <td>133.0</td>\n",
       "      <td>0.025368</td>\n",
       "      <td>0.793431</td>\n",
       "      <td>-0.027983</td>\n",
       "      <td>NaN</td>\n",
       "      <td>e4b33d8ac5dc4a1084e91ffa92a96675</td>\n",
       "      <td>NaN</td>\n",
       "      <td>False</td>\n",
       "    </tr>\n",
       "    <tr>\n",
       "      <th>ff0e922021c2413bbcd128b00d830b24</th>\n",
       "      <td>FINISHED</td>\n",
       "      <td>1737417746431</td>\n",
       "      <td>1.737422e+12</td>\n",
       "      <td>10.0</td>\n",
       "      <td>AffinityPropagation</td>\n",
       "      <td>5.0</td>\n",
       "      <td>1000</td>\n",
       "      <td>100</td>\n",
       "      <td>4</td>\n",
       "      <td>0.389665</td>\n",
       "      <td>...</td>\n",
       "      <td>1350.700</td>\n",
       "      <td>1.029417</td>\n",
       "      <td>30.0</td>\n",
       "      <td>0.422266</td>\n",
       "      <td>0.810405</td>\n",
       "      <td>-0.006073</td>\n",
       "      <td>NaN</td>\n",
       "      <td>2a5c78955a7a42afb880afad03a49892</td>\n",
       "      <td>NaN</td>\n",
       "      <td>False</td>\n",
       "    </tr>\n",
       "    <tr>\n",
       "      <th>ff1ab76a7cab41de8037c2273860a85d</th>\n",
       "      <td>FINISHED</td>\n",
       "      <td>1737417629277</td>\n",
       "      <td>1.737418e+12</td>\n",
       "      <td>3.0</td>\n",
       "      <td>KMeans</td>\n",
       "      <td>5.0</td>\n",
       "      <td>1000</td>\n",
       "      <td>100</td>\n",
       "      <td>4</td>\n",
       "      <td>0.006377</td>\n",
       "      <td>...</td>\n",
       "      <td>522.204</td>\n",
       "      <td>0.067961</td>\n",
       "      <td>14.0</td>\n",
       "      <td>0.035387</td>\n",
       "      <td>0.723222</td>\n",
       "      <td>-0.005169</td>\n",
       "      <td>NaN</td>\n",
       "      <td>0bfc0a55627246f6a2eac874410cb11f</td>\n",
       "      <td>NaN</td>\n",
       "      <td>False</td>\n",
       "    </tr>\n",
       "  </tbody>\n",
       "</table>\n",
       "<p>686 rows × 29 columns</p>\n",
       "</div>"
      ]
     },
     "execution_count": 24,
     "metadata": {},
     "output_type": "execute_result"
    }
   ],
   "execution_count": 24
  },
  {
   "cell_type": "markdown",
   "id": "811f99102f36c7ae",
   "metadata": {},
   "source": [
    "# Plots"
   ]
  },
  {
   "metadata": {
    "ExecuteTime": {
     "end_time": "2025-01-21T12:22:26.902606408Z",
     "start_time": "2025-01-21T12:20:54.430002Z"
    }
   },
   "cell_type": "code",
   "source": [
    "df = df_common.copy()\n",
    "df = df.loc[df['n_samples'] == 1000]\n",
    "df = df.loc[df['n_features'] == 100]\n",
    "df = df.loc[df['n_centers'] == 5.0]\n",
    "df = df.sort_values(['model_nickname', 'distance'])\n",
    "fig = px.line(df, x='distance', y='best_adjusted_rand', color='model_nickname', line_group='seed_unified')\n",
    "fig.show()\n",
    "sns.relplot(data=df, x='distance', y='best_adjusted_rand', hue='model_nickname', kind='line', errorbar='ci')"
   ],
   "id": "cb0389864fb60d55",
   "outputs": [
    {
     "ename": "NameError",
     "evalue": "name 'df_common' is not defined",
     "output_type": "error",
     "traceback": [
      "\u001B[0;31m---------------------------------------------------------------------------\u001B[0m",
      "\u001B[0;31mNameError\u001B[0m                                 Traceback (most recent call last)",
      "Cell \u001B[0;32mIn[1], line 1\u001B[0m\n\u001B[0;32m----> 1\u001B[0m df \u001B[38;5;241m=\u001B[39m \u001B[43mdf_common\u001B[49m\u001B[38;5;241m.\u001B[39mcopy()\n\u001B[1;32m      2\u001B[0m df \u001B[38;5;241m=\u001B[39m df\u001B[38;5;241m.\u001B[39mloc[df[\u001B[38;5;124m'\u001B[39m\u001B[38;5;124mn_samples\u001B[39m\u001B[38;5;124m'\u001B[39m] \u001B[38;5;241m==\u001B[39m \u001B[38;5;241m1000\u001B[39m]\n\u001B[1;32m      3\u001B[0m df \u001B[38;5;241m=\u001B[39m df\u001B[38;5;241m.\u001B[39mloc[df[\u001B[38;5;124m'\u001B[39m\u001B[38;5;124mn_features\u001B[39m\u001B[38;5;124m'\u001B[39m] \u001B[38;5;241m==\u001B[39m \u001B[38;5;241m100\u001B[39m]\n",
      "\u001B[0;31mNameError\u001B[0m: name 'df_common' is not defined"
     ]
    }
   ],
   "execution_count": 1
  },
  {
   "metadata": {
    "ExecuteTime": {
     "end_time": "2025-01-20T18:19:19.730287Z",
     "start_time": "2025-01-20T18:19:19.172531Z"
    }
   },
   "cell_type": "code",
   "source": "",
   "id": "8be4c08d75fd81dc",
   "outputs": [
    {
     "data": {
      "text/plain": [
       "<seaborn.axisgrid.FacetGrid at 0x7968b9bffb10>"
      ]
     },
     "execution_count": 81,
     "metadata": {},
     "output_type": "execute_result"
    },
    {
     "data": {
      "text/plain": [
       "<Figure size 758.75x500 with 1 Axes>"
      ],
      "image/png": "[encoded data removed]"
     },
     "metadata": {},
     "output_type": "display_data"
    }
   ],
   "execution_count": 81
  },
  {
   "cell_type": "code",
   "id": "291879bd2235776a",
   "metadata": {
    "ExecuteTime": {
     "end_time": "2025-01-17T16:41:48.193747Z",
     "start_time": "2025-01-17T16:41:48.125911Z"
    }
   },
   "source": [
    "df = df_common.copy()\n",
    "df = df.loc[df['n_samples'] == 1000]\n",
    "df = df.loc[df['n_features'] == 1000]\n",
    "df = df.loc[df['pct_random'] == 0.5]\n",
    "df = df.loc[df['class_sep'] == 100.0]\n",
    "df = df.sort_values('model_nickname')\n",
    "fig = px.box(df, x='model_nickname', y='best_adjusted_rand', color='model_nickname')\n",
    "fig.show()"
   ],
   "outputs": [
    {
     "data": {
      "application/vnd.plotly.v1+json": {
       "data": [
        {
         "alignmentgroup": "True",
         "hovertemplate": "model_nickname=%{x}<br>best_adjusted_rand=%{y}<extra></extra>",
         "legendgroup": "AffinityPropagation",
         "marker": {
          "color": "#636efa"
         },
         "name": "AffinityPropagation",
         "notched": false,
         "offsetgroup": "AffinityPropagation",
         "orientation": "v",
         "showlegend": true,
         "x": [
          "AffinityPropagation",
          "AffinityPropagation",
          "AffinityPropagation",
          "AffinityPropagation",
          "AffinityPropagation",
          "AffinityPropagation",
          "AffinityPropagation",
          "AffinityPropagation",
          "AffinityPropagation",
          "AffinityPropagation"
         ],
         "x0": " ",
         "xaxis": "x",
         "y": [
          1.0,
          1.0,
          1.0,
          1.0,
          1.0,
          1.0,
          1.0,
          1.0,
          1.0,
          1.0
         ],
         "y0": " ",
         "yaxis": "y",
         "type": "box"
        },
        {
         "alignmentgroup": "True",
         "hovertemplate": "model_nickname=%{x}<br>best_adjusted_rand=%{y}<extra></extra>",
         "legendgroup": "AverageAgglomerativeClustering",
         "marker": {
          "color": "#EF553B"
         },
         "name": "AverageAgglomerativeClustering",
         "notched": false,
         "offsetgroup": "AverageAgglomerativeClustering",
         "orientation": "v",
         "showlegend": true,
         "x": [
          "AverageAgglomerativeClustering",
          "AverageAgglomerativeClustering",
          "AverageAgglomerativeClustering",
          "AverageAgglomerativeClustering",
          "AverageAgglomerativeClustering",
          "AverageAgglomerativeClustering",
          "AverageAgglomerativeClustering",
          "AverageAgglomerativeClustering",
          "AverageAgglomerativeClustering",
          "AverageAgglomerativeClustering"
         ],
         "x0": " ",
         "xaxis": "x",
         "y": [
          1.0,
          1.0,
          1.0,
          1.0,
          1.0,
          1.0,
          1.0,
          1.0,
          1.0,
          1.0
         ],
         "y0": " ",
         "yaxis": "y",
         "type": "box"
        },
        {
         "alignmentgroup": "True",
         "hovertemplate": "model_nickname=%{x}<br>best_adjusted_rand=%{y}<extra></extra>",
         "legendgroup": "CompleteAgglomerativeClustering",
         "marker": {
          "color": "#00cc96"
         },
         "name": "CompleteAgglomerativeClustering",
         "notched": false,
         "offsetgroup": "CompleteAgglomerativeClustering",
         "orientation": "v",
         "showlegend": true,
         "x": [
          "CompleteAgglomerativeClustering",
          "CompleteAgglomerativeClustering",
          "CompleteAgglomerativeClustering",
          "CompleteAgglomerativeClustering",
          "CompleteAgglomerativeClustering",
          "CompleteAgglomerativeClustering",
          "CompleteAgglomerativeClustering",
          "CompleteAgglomerativeClustering",
          "CompleteAgglomerativeClustering",
          "CompleteAgglomerativeClustering"
         ],
         "x0": " ",
         "xaxis": "x",
         "y": [
          1.0,
          1.0,
          1.0,
          1.0,
          1.0,
          1.0,
          1.0,
          1.0,
          1.0,
          1.0
         ],
         "y0": " ",
         "yaxis": "y",
         "type": "box"
        },
        {
         "alignmentgroup": "True",
         "hovertemplate": "model_nickname=%{x}<br>best_adjusted_rand=%{y}<extra></extra>",
         "legendgroup": "DBSCAN",
         "marker": {
          "color": "#ab63fa"
         },
         "name": "DBSCAN",
         "notched": false,
         "offsetgroup": "DBSCAN",
         "orientation": "v",
         "showlegend": true,
         "x": [
          "DBSCAN",
          "DBSCAN",
          "DBSCAN",
          "DBSCAN",
          "DBSCAN",
          "DBSCAN",
          "DBSCAN",
          "DBSCAN",
          "DBSCAN",
          "DBSCAN"
         ],
         "x0": " ",
         "xaxis": "x",
         "y": [
          0.0,
          0.0,
          0.0,
          0.0,
          0.0,
          0.0,
          0.0,
          0.0,
          0.0,
          0.0
         ],
         "y0": " ",
         "yaxis": "y",
         "type": "box"
        },
        {
         "alignmentgroup": "True",
         "hovertemplate": "model_nickname=%{x}<br>best_adjusted_rand=%{y}<extra></extra>",
         "legendgroup": "HDBSCAN",
         "marker": {
          "color": "#FFA15A"
         },
         "name": "HDBSCAN",
         "notched": false,
         "offsetgroup": "HDBSCAN",
         "orientation": "v",
         "showlegend": true,
         "x": [
          "HDBSCAN",
          "HDBSCAN",
          "HDBSCAN",
          "HDBSCAN",
          "HDBSCAN",
          "HDBSCAN",
          "HDBSCAN",
          "HDBSCAN",
          "HDBSCAN",
          "HDBSCAN"
         ],
         "x0": " ",
         "xaxis": "x",
         "y": [
          1.0,
          1.0,
          1.0,
          1.0,
          1.0,
          1.0,
          1.0,
          1.0,
          1.0,
          1.0
         ],
         "y0": " ",
         "yaxis": "y",
         "type": "box"
        },
        {
         "alignmentgroup": "True",
         "hovertemplate": "model_nickname=%{x}<br>best_adjusted_rand=%{y}<extra></extra>",
         "legendgroup": "KMeans",
         "marker": {
          "color": "#19d3f3"
         },
         "name": "KMeans",
         "notched": false,
         "offsetgroup": "KMeans",
         "orientation": "v",
         "showlegend": true,
         "x": [
          "KMeans",
          "KMeans",
          "KMeans",
          "KMeans",
          "KMeans",
          "KMeans",
          "KMeans",
          "KMeans",
          "KMeans",
          "KMeans"
         ],
         "x0": " ",
         "xaxis": "x",
         "y": [
          1.0,
          1.0,
          1.0,
          1.0,
          1.0,
          1.0,
          1.0,
          1.0,
          1.0,
          1.0
         ],
         "y0": " ",
         "yaxis": "y",
         "type": "box"
        },
        {
         "alignmentgroup": "True",
         "hovertemplate": "model_nickname=%{x}<br>best_adjusted_rand=%{y}<extra></extra>",
         "legendgroup": "OPTICS",
         "marker": {
          "color": "#FF6692"
         },
         "name": "OPTICS",
         "notched": false,
         "offsetgroup": "OPTICS",
         "orientation": "v",
         "showlegend": true,
         "x": [
          "OPTICS",
          "OPTICS",
          "OPTICS",
          "OPTICS",
          "OPTICS",
          "OPTICS",
          "OPTICS",
          "OPTICS",
          "OPTICS",
          "OPTICS"
         ],
         "x0": " ",
         "xaxis": "x",
         "y": [
          1.0,
          1.0,
          1.0,
          1.0,
          1.0,
          1.0,
          1.0,
          1.0,
          1.0,
          1.0
         ],
         "y0": " ",
         "yaxis": "y",
         "type": "box"
        },
        {
         "alignmentgroup": "True",
         "hovertemplate": "model_nickname=%{x}<br>best_adjusted_rand=%{y}<extra></extra>",
         "legendgroup": "Proclus",
         "marker": {
          "color": "#B6E880"
         },
         "name": "Proclus",
         "notched": false,
         "offsetgroup": "Proclus",
         "orientation": "v",
         "showlegend": true,
         "x": [
          "Proclus",
          "Proclus",
          "Proclus",
          "Proclus",
          "Proclus",
          "Proclus",
          "Proclus",
          "Proclus",
          "Proclus",
          "Proclus"
         ],
         "x0": " ",
         "xaxis": "x",
         "y": [
          9.078087222900022E-4,
          0.0050608329230681474,
          7.055462748796514E-4,
          -2.1599905653494543E-4,
          -8.495639983228026E-5,
          9.063537184163128E-6,
          -3.3555658017935355E-4,
          0.0042874052859619245,
          8.483450278625669E-5,
          -0.0016981689033413168
         ],
         "y0": " ",
         "yaxis": "y",
         "type": "box"
        },
        {
         "alignmentgroup": "True",
         "hovertemplate": "model_nickname=%{x}<br>best_adjusted_rand=%{y}<extra></extra>",
         "legendgroup": "RecursiveClustering",
         "marker": {
          "color": "#FF97FF"
         },
         "name": "RecursiveClustering",
         "notched": false,
         "offsetgroup": "RecursiveClustering",
         "orientation": "v",
         "showlegend": true,
         "x": [
          "RecursiveClustering",
          "RecursiveClustering",
          "RecursiveClustering",
          "RecursiveClustering",
          "RecursiveClustering",
          "RecursiveClustering",
          "RecursiveClustering",
          "RecursiveClustering",
          "RecursiveClustering",
          "RecursiveClustering"
         ],
         "x0": " ",
         "xaxis": "x",
         "y": [
          1.0,
          1.0,
          1.0,
          1.0,
          1.0,
          1.0,
          1.0,
          1.0,
          1.0,
          1.0
         ],
         "y0": " ",
         "yaxis": "y",
         "type": "box"
        },
        {
         "alignmentgroup": "True",
         "hovertemplate": "model_nickname=%{x}<br>best_adjusted_rand=%{y}<extra></extra>",
         "legendgroup": "SingleAgglomerativeClustering",
         "marker": {
          "color": "#FECB52"
         },
         "name": "SingleAgglomerativeClustering",
         "notched": false,
         "offsetgroup": "SingleAgglomerativeClustering",
         "orientation": "v",
         "showlegend": true,
         "x": [
          "SingleAgglomerativeClustering",
          "SingleAgglomerativeClustering",
          "SingleAgglomerativeClustering",
          "SingleAgglomerativeClustering",
          "SingleAgglomerativeClustering",
          "SingleAgglomerativeClustering",
          "SingleAgglomerativeClustering",
          "SingleAgglomerativeClustering",
          "SingleAgglomerativeClustering",
          "SingleAgglomerativeClustering"
         ],
         "x0": " ",
         "xaxis": "x",
         "y": [
          1.0,
          1.0,
          1.0,
          1.0,
          1.0,
          1.0,
          1.0,
          1.0,
          1.0,
          1.0
         ],
         "y0": " ",
         "yaxis": "y",
         "type": "box"
        },
        {
         "alignmentgroup": "True",
         "hovertemplate": "model_nickname=%{x}<br>best_adjusted_rand=%{y}<extra></extra>",
         "legendgroup": "SpectralClustering",
         "marker": {
          "color": "#636efa"
         },
         "name": "SpectralClustering",
         "notched": false,
         "offsetgroup": "SpectralClustering",
         "orientation": "v",
         "showlegend": true,
         "x": [
          "SpectralClustering",
          "SpectralClustering",
          "SpectralClustering",
          "SpectralClustering",
          "SpectralClustering",
          "SpectralClustering",
          "SpectralClustering",
          "SpectralClustering",
          "SpectralClustering",
          "SpectralClustering"
         ],
         "x0": " ",
         "xaxis": "x",
         "y": [
          -1.670130153306097E-4,
          -2.0343866078561035E-4,
          -1.7349851701001147E-6,
          -1.6408230443957033E-4,
          -2.1103535614248528E-4,
          -4.132651949405296E-5,
          -7.055843374923031E-5,
          0.0010197277032039664,
          1.724203870375564E-5,
          -1.119220930640983E-5
         ],
         "y0": " ",
         "yaxis": "y",
         "type": "box"
        },
        {
         "alignmentgroup": "True",
         "hovertemplate": "model_nickname=%{x}<br>best_adjusted_rand=%{y}<extra></extra>",
         "legendgroup": "SpectralSubspaceRandomization",
         "marker": {
          "color": "#EF553B"
         },
         "name": "SpectralSubspaceRandomization",
         "notched": false,
         "offsetgroup": "SpectralSubspaceRandomization",
         "orientation": "v",
         "showlegend": true,
         "x": [
          "SpectralSubspaceRandomization",
          "SpectralSubspaceRandomization",
          "SpectralSubspaceRandomization",
          "SpectralSubspaceRandomization",
          "SpectralSubspaceRandomization",
          "SpectralSubspaceRandomization",
          "SpectralSubspaceRandomization",
          "SpectralSubspaceRandomization",
          "SpectralSubspaceRandomization",
          "SpectralSubspaceRandomization"
         ],
         "x0": " ",
         "xaxis": "x",
         "y": [
          1.0,
          1.0,
          1.0,
          1.0,
          1.0,
          1.0,
          1.0,
          1.0,
          1.0,
          1.0
         ],
         "y0": " ",
         "yaxis": "y",
         "type": "box"
        },
        {
         "alignmentgroup": "True",
         "hovertemplate": "model_nickname=%{x}<br>best_adjusted_rand=%{y}<extra></extra>",
         "legendgroup": "WardAgglomerativeClustering",
         "marker": {
          "color": "#00cc96"
         },
         "name": "WardAgglomerativeClustering",
         "notched": false,
         "offsetgroup": "WardAgglomerativeClustering",
         "orientation": "v",
         "showlegend": true,
         "x": [
          "WardAgglomerativeClustering",
          "WardAgglomerativeClustering",
          "WardAgglomerativeClustering",
          "WardAgglomerativeClustering",
          "WardAgglomerativeClustering",
          "WardAgglomerativeClustering",
          "WardAgglomerativeClustering",
          "WardAgglomerativeClustering",
          "WardAgglomerativeClustering",
          "WardAgglomerativeClustering"
         ],
         "x0": " ",
         "xaxis": "x",
         "y": [
          1.0,
          1.0,
          1.0,
          1.0,
          1.0,
          1.0,
          1.0,
          1.0,
          1.0,
          1.0
         ],
         "y0": " ",
         "yaxis": "y",
         "type": "box"
        }
       ],
       "layout": {
        "template": {
         "data": {
          "histogram2dcontour": [
           {
            "type": "histogram2dcontour",
            "colorbar": {
             "outlinewidth": 0,
             "ticks": ""
            },
            "colorscale": [
             [
              0.0,
              "#0d0887"
             ],
             [
              0.1111111111111111,
              "#46039f"
             ],
             [
              0.2222222222222222,
              "#7201a8"
             ],
             [
              0.3333333333333333,
              "#9c179e"
             ],
             [
              0.4444444444444444,
              "#bd3786"
             ],
             [
              0.5555555555555556,
              "#d8576b"
             ],
             [
              0.6666666666666666,
              "#ed7953"
             ],
             [
              0.7777777777777778,
              "#fb9f3a"
             ],
             [
              0.8888888888888888,
              "#fdca26"
             ],
             [
              1.0,
              "#f0f921"
             ]
            ]
           }
          ],
          "choropleth": [
           {
            "type": "choropleth",
            "colorbar": {
             "outlinewidth": 0,
             "ticks": ""
            }
           }
          ],
          "histogram2d": [
           {
            "type": "histogram2d",
            "colorbar": {
             "outlinewidth": 0,
             "ticks": ""
            },
            "colorscale": [
             [
              0.0,
              "#0d0887"
             ],
             [
              0.1111111111111111,
              "#46039f"
             ],
             [
              0.2222222222222222,
              "#7201a8"
             ],
             [
              0.3333333333333333,
              "#9c179e"
             ],
             [
              0.4444444444444444,
              "#bd3786"
             ],
             [
              0.5555555555555556,
              "#d8576b"
             ],
             [
              0.6666666666666666,
              "#ed7953"
             ],
             [
              0.7777777777777778,
              "#fb9f3a"
             ],
             [
              0.8888888888888888,
              "#fdca26"
             ],
             [
              1.0,
              "#f0f921"
             ]
            ]
           }
          ],
          "heatmap": [
           {
            "type": "heatmap",
            "colorbar": {
             "outlinewidth": 0,
             "ticks": ""
            },
            "colorscale": [
             [
              0.0,
              "#0d0887"
             ],
             [
              0.1111111111111111,
              "#46039f"
             ],
             [
              0.2222222222222222,
              "#7201a8"
             ],
             [
              0.3333333333333333,
              "#9c179e"
             ],
             [
              0.4444444444444444,
              "#bd3786"
             ],
             [
              0.5555555555555556,
              "#d8576b"
             ],
             [
              0.6666666666666666,
              "#ed7953"
             ],
             [
              0.7777777777777778,
              "#fb9f3a"
             ],
             [
              0.8888888888888888,
              "#fdca26"
             ],
             [
              1.0,
              "#f0f921"
             ]
            ]
           }
          ],
          "heatmapgl": [
           {
            "type": "heatmapgl",
            "colorbar": {
             "outlinewidth": 0,
             "ticks": ""
            },
            "colorscale": [
             [
              0.0,
              "#0d0887"
             ],
             [
              0.1111111111111111,
              "#46039f"
             ],
             [
              0.2222222222222222,
              "#7201a8"
             ],
             [
              0.3333333333333333,
              "#9c179e"
             ],
             [
              0.4444444444444444,
              "#bd3786"
             ],
             [
              0.5555555555555556,
              "#d8576b"
             ],
             [
              0.6666666666666666,
              "#ed7953"
             ],
             [
              0.7777777777777778,
              "#fb9f3a"
             ],
             [
              0.8888888888888888,
              "#fdca26"
             ],
             [
              1.0,
              "#f0f921"
             ]
            ]
           }
          ],
          "contourcarpet": [
           {
            "type": "contourcarpet",
            "colorbar": {
             "outlinewidth": 0,
             "ticks": ""
            }
           }
          ],
          "contour": [
           {
            "type": "contour",
            "colorbar": {
             "outlinewidth": 0,
             "ticks": ""
            },
            "colorscale": [
             [
              0.0,
              "#0d0887"
             ],
             [
              0.1111111111111111,
              "#46039f"
             ],
             [
              0.2222222222222222,
              "#7201a8"
             ],
             [
              0.3333333333333333,
              "#9c179e"
             ],
             [
              0.4444444444444444,
              "#bd3786"
             ],
             [
              0.5555555555555556,
              "#d8576b"
             ],
             [
              0.6666666666666666,
              "#ed7953"
             ],
             [
              0.7777777777777778,
              "#fb9f3a"
             ],
             [
              0.8888888888888888,
              "#fdca26"
             ],
             [
              1.0,
              "#f0f921"
             ]
            ]
           }
          ],
          "surface": [
           {
            "type": "surface",
            "colorbar": {
             "outlinewidth": 0,
             "ticks": ""
            },
            "colorscale": [
             [
              0.0,
              "#0d0887"
             ],
             [
              0.1111111111111111,
              "#46039f"
             ],
             [
              0.2222222222222222,
              "#7201a8"
             ],
             [
              0.3333333333333333,
              "#9c179e"
             ],
             [
              0.4444444444444444,
              "#bd3786"
             ],
             [
              0.5555555555555556,
              "#d8576b"
             ],
             [
              0.6666666666666666,
              "#ed7953"
             ],
             [
              0.7777777777777778,
              "#fb9f3a"
             ],
             [
              0.8888888888888888,
              "#fdca26"
             ],
             [
              1.0,
              "#f0f921"
             ]
            ]
           }
          ],
          "mesh3d": [
           {
            "type": "mesh3d",
            "colorbar": {
             "outlinewidth": 0,
             "ticks": ""
            }
           }
          ],
          "scatter": [
           {
            "marker": {
             "line": {
              "color": "#283442"
             }
            },
            "type": "scatter"
           }
          ],
          "parcoords": [
           {
            "type": "parcoords",
            "line": {
             "colorbar": {
              "outlinewidth": 0,
              "ticks": ""
             }
            }
           }
          ],
          "scatterpolargl": [
           {
            "type": "scatterpolargl",
            "marker": {
             "colorbar": {
              "outlinewidth": 0,
              "ticks": ""
             }
            }
           }
          ],
          "bar": [
           {
            "error_x": {
             "color": "#f2f5fa"
            },
            "error_y": {
             "color": "#f2f5fa"
            },
            "marker": {
             "line": {
              "color": "rgb(17,17,17)",
              "width": 0.5
             },
             "pattern": {
              "fillmode": "overlay",
              "size": 10,
              "solidity": 0.2
             }
            },
            "type": "bar"
           }
          ],
          "scattergeo": [
           {
            "type": "scattergeo",
            "marker": {
             "colorbar": {
              "outlinewidth": 0,
              "ticks": ""
             }
            }
           }
          ],
          "scatterpolar": [
           {
            "type": "scatterpolar",
            "marker": {
             "colorbar": {
              "outlinewidth": 0,
              "ticks": ""
             }
            }
           }
          ],
          "histogram": [
           {
            "marker": {
             "pattern": {
              "fillmode": "overlay",
              "size": 10,
              "solidity": 0.2
             }
            },
            "type": "histogram"
           }
          ],
          "scattergl": [
           {
            "marker": {
             "line": {
              "color": "#283442"
             }
            },
            "type": "scattergl"
           }
          ],
          "scatter3d": [
           {
            "type": "scatter3d",
            "line": {
             "colorbar": {
              "outlinewidth": 0,
              "ticks": ""
             }
            },
            "marker": {
             "colorbar": {
              "outlinewidth": 0,
              "ticks": ""
             }
            }
           }
          ],
          "scattermapbox": [
           {
            "type": "scattermapbox",
            "marker": {
             "colorbar": {
              "outlinewidth": 0,
              "ticks": ""
             }
            }
           }
          ],
          "scatterternary": [
           {
            "type": "scatterternary",
            "marker": {
             "colorbar": {
              "outlinewidth": 0,
              "ticks": ""
             }
            }
           }
          ],
          "scattercarpet": [
           {
            "type": "scattercarpet",
            "marker": {
             "colorbar": {
              "outlinewidth": 0,
              "ticks": ""
             }
            }
           }
          ],
          "carpet": [
           {
            "aaxis": {
             "endlinecolor": "#A2B1C6",
             "gridcolor": "#506784",
             "linecolor": "#506784",
             "minorgridcolor": "#506784",
             "startlinecolor": "#A2B1C6"
            },
            "baxis": {
             "endlinecolor": "#A2B1C6",
             "gridcolor": "#506784",
             "linecolor": "#506784",
             "minorgridcolor": "#506784",
             "startlinecolor": "#A2B1C6"
            },
            "type": "carpet"
           }
          ],
          "table": [
           {
            "cells": {
             "fill": {
              "color": "#506784"
             },
             "line": {
              "color": "rgb(17,17,17)"
             }
            },
            "header": {
             "fill": {
              "color": "#2a3f5f"
             },
             "line": {
              "color": "rgb(17,17,17)"
             }
            },
            "type": "table"
           }
          ],
          "barpolar": [
           {
            "marker": {
             "line": {
              "color": "rgb(17,17,17)",
              "width": 0.5
             },
             "pattern": {
              "fillmode": "overlay",
              "size": 10,
              "solidity": 0.2
             }
            },
            "type": "barpolar"
           }
          ],
          "pie": [
           {
            "automargin": true,
            "type": "pie"
           }
          ]
         },
         "layout": {
          "autotypenumbers": "strict",
          "colorway": [
           "#636efa",
           "#EF553B",
           "#00cc96",
           "#ab63fa",
           "#FFA15A",
           "#19d3f3",
           "#FF6692",
           "#B6E880",
           "#FF97FF",
           "#FECB52"
          ],
          "font": {
           "color": "#f2f5fa"
          },
          "hovermode": "closest",
          "hoverlabel": {
           "align": "left"
          },
          "paper_bgcolor": "rgb(17,17,17)",
          "plot_bgcolor": "rgb(17,17,17)",
          "polar": {
           "bgcolor": "rgb(17,17,17)",
           "angularaxis": {
            "gridcolor": "#506784",
            "linecolor": "#506784",
            "ticks": ""
           },
           "radialaxis": {
            "gridcolor": "#506784",
            "linecolor": "#506784",
            "ticks": ""
           }
          },
          "ternary": {
           "bgcolor": "rgb(17,17,17)",
           "aaxis": {
            "gridcolor": "#506784",
            "linecolor": "#506784",
            "ticks": ""
           },
           "baxis": {
            "gridcolor": "#506784",
            "linecolor": "#506784",
            "ticks": ""
           },
           "caxis": {
            "gridcolor": "#506784",
            "linecolor": "#506784",
            "ticks": ""
           }
          },
          "coloraxis": {
           "colorbar": {
            "outlinewidth": 0,
            "ticks": ""
           }
          },
          "colorscale": {
           "sequential": [
            [
             0.0,
             "#0d0887"
            ],
            [
             0.1111111111111111,
             "#46039f"
            ],
            [
             0.2222222222222222,
             "#7201a8"
            ],
            [
             0.3333333333333333,
             "#9c179e"
            ],
            [
             0.4444444444444444,
             "#bd3786"
            ],
            [
             0.5555555555555556,
             "#d8576b"
            ],
            [
             0.6666666666666666,
             "#ed7953"
            ],
            [
             0.7777777777777778,
             "#fb9f3a"
            ],
            [
             0.8888888888888888,
             "#fdca26"
            ],
            [
             1.0,
             "#f0f921"
            ]
           ],
           "sequentialminus": [
            [
             0.0,
             "#0d0887"
            ],
            [
             0.1111111111111111,
             "#46039f"
            ],
            [
             0.2222222222222222,
             "#7201a8"
            ],
            [
             0.3333333333333333,
             "#9c179e"
            ],
            [
             0.4444444444444444,
             "#bd3786"
            ],
            [
             0.5555555555555556,
             "#d8576b"
            ],
            [
             0.6666666666666666,
             "#ed7953"
            ],
            [
             0.7777777777777778,
             "#fb9f3a"
            ],
            [
             0.8888888888888888,
             "#fdca26"
            ],
            [
             1.0,
             "#f0f921"
            ]
           ],
           "diverging": [
            [
             0,
             "#8e0152"
            ],
            [
             0.1,
             "#c51b7d"
            ],
            [
             0.2,
             "#de77ae"
            ],
            [
             0.3,
             "#f1b6da"
            ],
            [
             0.4,
             "#fde0ef"
            ],
            [
             0.5,
             "#f7f7f7"
            ],
            [
             0.6,
             "#e6f5d0"
            ],
            [
             0.7,
             "#b8e186"
            ],
            [
             0.8,
             "#7fbc41"
            ],
            [
             0.9,
             "#4d9221"
            ],
            [
             1,
             "#276419"
            ]
           ]
          },
          "xaxis": {
           "gridcolor": "#283442",
           "linecolor": "#506784",
           "ticks": "",
           "title": {
            "standoff": 15
           },
           "zerolinecolor": "#283442",
           "automargin": true,
           "zerolinewidth": 2
          },
          "yaxis": {
           "gridcolor": "#283442",
           "linecolor": "#506784",
           "ticks": "",
           "title": {
            "standoff": 15
           },
           "zerolinecolor": "#283442",
           "automargin": true,
           "zerolinewidth": 2
          },
          "scene": {
           "xaxis": {
            "backgroundcolor": "rgb(17,17,17)",
            "gridcolor": "#506784",
            "linecolor": "#506784",
            "showbackground": true,
            "ticks": "",
            "zerolinecolor": "#C8D4E3",
            "gridwidth": 2
           },
           "yaxis": {
            "backgroundcolor": "rgb(17,17,17)",
            "gridcolor": "#506784",
            "linecolor": "#506784",
            "showbackground": true,
            "ticks": "",
            "zerolinecolor": "#C8D4E3",
            "gridwidth": 2
           },
           "zaxis": {
            "backgroundcolor": "rgb(17,17,17)",
            "gridcolor": "#506784",
            "linecolor": "#506784",
            "showbackground": true,
            "ticks": "",
            "zerolinecolor": "#C8D4E3",
            "gridwidth": 2
           }
          },
          "shapedefaults": {
           "line": {
            "color": "#f2f5fa"
           }
          },
          "annotationdefaults": {
           "arrowcolor": "#f2f5fa",
           "arrowhead": 0,
           "arrowwidth": 1
          },
          "geo": {
           "bgcolor": "rgb(17,17,17)",
           "landcolor": "rgb(17,17,17)",
           "subunitcolor": "#506784",
           "showland": true,
           "showlakes": true,
           "lakecolor": "rgb(17,17,17)"
          },
          "title": {
           "x": 0.05
          },
          "updatemenudefaults": {
           "bgcolor": "#506784",
           "borderwidth": 0
          },
          "sliderdefaults": {
           "bgcolor": "#C8D4E3",
           "borderwidth": 1,
           "bordercolor": "rgb(17,17,17)",
           "tickwidth": 0
          },
          "mapbox": {
           "style": "dark"
          }
         }
        },
        "xaxis": {
         "anchor": "y",
         "domain": [
          0.0,
          1.0
         ],
         "title": {
          "text": "model_nickname"
         },
         "categoryorder": "array",
         "categoryarray": [
          "AffinityPropagation",
          "AverageAgglomerativeClustering",
          "CompleteAgglomerativeClustering",
          "DBSCAN",
          "HDBSCAN",
          "KMeans",
          "OPTICS",
          "Proclus",
          "RecursiveClustering",
          "SingleAgglomerativeClustering",
          "SpectralClustering",
          "SpectralSubspaceRandomization",
          "WardAgglomerativeClustering"
         ]
        },
        "yaxis": {
         "anchor": "x",
         "domain": [
          0.0,
          1.0
         ],
         "title": {
          "text": "best_adjusted_rand"
         }
        },
        "legend": {
         "title": {
          "text": "model_nickname"
         },
         "tracegroupgap": 0
        },
        "margin": {
         "t": 60
        },
        "boxmode": "overlay"
       },
       "config": {
        "plotlyServerURL": "https://plot.ly"
       }
      },
      "text/html": [
       "<div>                            <div id=\"16bab4ab-fda4-44c2-8e77-4d1eaad81657\" class=\"plotly-graph-div\" style=\"height:525px; width:100%;\"></div>            <script type=\"text/javascript\">                require([\"plotly\"], function(Plotly) {                    window.PLOTLYENV=window.PLOTLYENV || {};                                    if (document.getElementById(\"16bab4ab-fda4-44c2-8e77-4d1eaad81657\")) {                    Plotly.newPlot(                        \"16bab4ab-fda4-44c2-8e77-4d1eaad81657\",                        [{\"alignmentgroup\":\"True\",\"hovertemplate\":\"model_nickname=%{x}\\u003cbr\\u003ebest_adjusted_rand=%{y}\\u003cextra\\u003e\\u003c\\u002fextra\\u003e\",\"legendgroup\":\"AffinityPropagation\",\"marker\":{\"color\":\"#636efa\"},\"name\":\"AffinityPropagation\",\"notched\":false,\"offsetgroup\":\"AffinityPropagation\",\"orientation\":\"v\",\"showlegend\":true,\"x\":[\"AffinityPropagation\",\"AffinityPropagation\",\"AffinityPropagation\",\"AffinityPropagation\",\"AffinityPropagation\",\"AffinityPropagation\",\"AffinityPropagation\",\"AffinityPropagation\",\"AffinityPropagation\",\"AffinityPropagation\"],\"x0\":\" \",\"xaxis\":\"x\",\"y\":[1.0,1.0,1.0,1.0,1.0,1.0,1.0,1.0,1.0,1.0],\"y0\":\" \",\"yaxis\":\"y\",\"type\":\"box\"},{\"alignmentgroup\":\"True\",\"hovertemplate\":\"model_nickname=%{x}\\u003cbr\\u003ebest_adjusted_rand=%{y}\\u003cextra\\u003e\\u003c\\u002fextra\\u003e\",\"legendgroup\":\"AverageAgglomerativeClustering\",\"marker\":{\"color\":\"#EF553B\"},\"name\":\"AverageAgglomerativeClustering\",\"notched\":false,\"offsetgroup\":\"AverageAgglomerativeClustering\",\"orientation\":\"v\",\"showlegend\":true,\"x\":[\"AverageAgglomerativeClustering\",\"AverageAgglomerativeClustering\",\"AverageAgglomerativeClustering\",\"AverageAgglomerativeClustering\",\"AverageAgglomerativeClustering\",\"AverageAgglomerativeClustering\",\"AverageAgglomerativeClustering\",\"AverageAgglomerativeClustering\",\"AverageAgglomerativeClustering\",\"AverageAgglomerativeClustering\"],\"x0\":\" \",\"xaxis\":\"x\",\"y\":[1.0,1.0,1.0,1.0,1.0,1.0,1.0,1.0,1.0,1.0],\"y0\":\" \",\"yaxis\":\"y\",\"type\":\"box\"},{\"alignmentgroup\":\"True\",\"hovertemplate\":\"model_nickname=%{x}\\u003cbr\\u003ebest_adjusted_rand=%{y}\\u003cextra\\u003e\\u003c\\u002fextra\\u003e\",\"legendgroup\":\"CompleteAgglomerativeClustering\",\"marker\":{\"color\":\"#00cc96\"},\"name\":\"CompleteAgglomerativeClustering\",\"notched\":false,\"offsetgroup\":\"CompleteAgglomerativeClustering\",\"orientation\":\"v\",\"showlegend\":true,\"x\":[\"CompleteAgglomerativeClustering\",\"CompleteAgglomerativeClustering\",\"CompleteAgglomerativeClustering\",\"CompleteAgglomerativeClustering\",\"CompleteAgglomerativeClustering\",\"CompleteAgglomerativeClustering\",\"CompleteAgglomerativeClustering\",\"CompleteAgglomerativeClustering\",\"CompleteAgglomerativeClustering\",\"CompleteAgglomerativeClustering\"],\"x0\":\" \",\"xaxis\":\"x\",\"y\":[1.0,1.0,1.0,1.0,1.0,1.0,1.0,1.0,1.0,1.0],\"y0\":\" \",\"yaxis\":\"y\",\"type\":\"box\"},{\"alignmentgroup\":\"True\",\"hovertemplate\":\"model_nickname=%{x}\\u003cbr\\u003ebest_adjusted_rand=%{y}\\u003cextra\\u003e\\u003c\\u002fextra\\u003e\",\"legendgroup\":\"DBSCAN\",\"marker\":{\"color\":\"#ab63fa\"},\"name\":\"DBSCAN\",\"notched\":false,\"offsetgroup\":\"DBSCAN\",\"orientation\":\"v\",\"showlegend\":true,\"x\":[\"DBSCAN\",\"DBSCAN\",\"DBSCAN\",\"DBSCAN\",\"DBSCAN\",\"DBSCAN\",\"DBSCAN\",\"DBSCAN\",\"DBSCAN\",\"DBSCAN\"],\"x0\":\" \",\"xaxis\":\"x\",\"y\":[0.0,0.0,0.0,0.0,0.0,0.0,0.0,0.0,0.0,0.0],\"y0\":\" \",\"yaxis\":\"y\",\"type\":\"box\"},{\"alignmentgroup\":\"True\",\"hovertemplate\":\"model_nickname=%{x}\\u003cbr\\u003ebest_adjusted_rand=%{y}\\u003cextra\\u003e\\u003c\\u002fextra\\u003e\",\"legendgroup\":\"HDBSCAN\",\"marker\":{\"color\":\"#FFA15A\"},\"name\":\"HDBSCAN\",\"notched\":false,\"offsetgroup\":\"HDBSCAN\",\"orientation\":\"v\",\"showlegend\":true,\"x\":[\"HDBSCAN\",\"HDBSCAN\",\"HDBSCAN\",\"HDBSCAN\",\"HDBSCAN\",\"HDBSCAN\",\"HDBSCAN\",\"HDBSCAN\",\"HDBSCAN\",\"HDBSCAN\"],\"x0\":\" \",\"xaxis\":\"x\",\"y\":[1.0,1.0,1.0,1.0,1.0,1.0,1.0,1.0,1.0,1.0],\"y0\":\" \",\"yaxis\":\"y\",\"type\":\"box\"},{\"alignmentgroup\":\"True\",\"hovertemplate\":\"model_nickname=%{x}\\u003cbr\\u003ebest_adjusted_rand=%{y}\\u003cextra\\u003e\\u003c\\u002fextra\\u003e\",\"legendgroup\":\"KMeans\",\"marker\":{\"color\":\"#19d3f3\"},\"name\":\"KMeans\",\"notched\":false,\"offsetgroup\":\"KMeans\",\"orientation\":\"v\",\"showlegend\":true,\"x\":[\"KMeans\",\"KMeans\",\"KMeans\",\"KMeans\",\"KMeans\",\"KMeans\",\"KMeans\",\"KMeans\",\"KMeans\",\"KMeans\"],\"x0\":\" \",\"xaxis\":\"x\",\"y\":[1.0,1.0,1.0,1.0,1.0,1.0,1.0,1.0,1.0,1.0],\"y0\":\" \",\"yaxis\":\"y\",\"type\":\"box\"},{\"alignmentgroup\":\"True\",\"hovertemplate\":\"model_nickname=%{x}\\u003cbr\\u003ebest_adjusted_rand=%{y}\\u003cextra\\u003e\\u003c\\u002fextra\\u003e\",\"legendgroup\":\"OPTICS\",\"marker\":{\"color\":\"#FF6692\"},\"name\":\"OPTICS\",\"notched\":false,\"offsetgroup\":\"OPTICS\",\"orientation\":\"v\",\"showlegend\":true,\"x\":[\"OPTICS\",\"OPTICS\",\"OPTICS\",\"OPTICS\",\"OPTICS\",\"OPTICS\",\"OPTICS\",\"OPTICS\",\"OPTICS\",\"OPTICS\"],\"x0\":\" \",\"xaxis\":\"x\",\"y\":[1.0,1.0,1.0,1.0,1.0,1.0,1.0,1.0,1.0,1.0],\"y0\":\" \",\"yaxis\":\"y\",\"type\":\"box\"},{\"alignmentgroup\":\"True\",\"hovertemplate\":\"model_nickname=%{x}\\u003cbr\\u003ebest_adjusted_rand=%{y}\\u003cextra\\u003e\\u003c\\u002fextra\\u003e\",\"legendgroup\":\"Proclus\",\"marker\":{\"color\":\"#B6E880\"},\"name\":\"Proclus\",\"notched\":false,\"offsetgroup\":\"Proclus\",\"orientation\":\"v\",\"showlegend\":true,\"x\":[\"Proclus\",\"Proclus\",\"Proclus\",\"Proclus\",\"Proclus\",\"Proclus\",\"Proclus\",\"Proclus\",\"Proclus\",\"Proclus\"],\"x0\":\" \",\"xaxis\":\"x\",\"y\":[0.0009078087222900022,0.0050608329230681474,0.0007055462748796514,-0.00021599905653494543,-8.495639983228026e-05,9.063537184163128e-06,-0.00033555658017935355,0.0042874052859619245,8.483450278625669e-05,-0.0016981689033413168],\"y0\":\" \",\"yaxis\":\"y\",\"type\":\"box\"},{\"alignmentgroup\":\"True\",\"hovertemplate\":\"model_nickname=%{x}\\u003cbr\\u003ebest_adjusted_rand=%{y}\\u003cextra\\u003e\\u003c\\u002fextra\\u003e\",\"legendgroup\":\"RecursiveClustering\",\"marker\":{\"color\":\"#FF97FF\"},\"name\":\"RecursiveClustering\",\"notched\":false,\"offsetgroup\":\"RecursiveClustering\",\"orientation\":\"v\",\"showlegend\":true,\"x\":[\"RecursiveClustering\",\"RecursiveClustering\",\"RecursiveClustering\",\"RecursiveClustering\",\"RecursiveClustering\",\"RecursiveClustering\",\"RecursiveClustering\",\"RecursiveClustering\",\"RecursiveClustering\",\"RecursiveClustering\"],\"x0\":\" \",\"xaxis\":\"x\",\"y\":[1.0,1.0,1.0,1.0,1.0,1.0,1.0,1.0,1.0,1.0],\"y0\":\" \",\"yaxis\":\"y\",\"type\":\"box\"},{\"alignmentgroup\":\"True\",\"hovertemplate\":\"model_nickname=%{x}\\u003cbr\\u003ebest_adjusted_rand=%{y}\\u003cextra\\u003e\\u003c\\u002fextra\\u003e\",\"legendgroup\":\"SingleAgglomerativeClustering\",\"marker\":{\"color\":\"#FECB52\"},\"name\":\"SingleAgglomerativeClustering\",\"notched\":false,\"offsetgroup\":\"SingleAgglomerativeClustering\",\"orientation\":\"v\",\"showlegend\":true,\"x\":[\"SingleAgglomerativeClustering\",\"SingleAgglomerativeClustering\",\"SingleAgglomerativeClustering\",\"SingleAgglomerativeClustering\",\"SingleAgglomerativeClustering\",\"SingleAgglomerativeClustering\",\"SingleAgglomerativeClustering\",\"SingleAgglomerativeClustering\",\"SingleAgglomerativeClustering\",\"SingleAgglomerativeClustering\"],\"x0\":\" \",\"xaxis\":\"x\",\"y\":[1.0,1.0,1.0,1.0,1.0,1.0,1.0,1.0,1.0,1.0],\"y0\":\" \",\"yaxis\":\"y\",\"type\":\"box\"},{\"alignmentgroup\":\"True\",\"hovertemplate\":\"model_nickname=%{x}\\u003cbr\\u003ebest_adjusted_rand=%{y}\\u003cextra\\u003e\\u003c\\u002fextra\\u003e\",\"legendgroup\":\"SpectralClustering\",\"marker\":{\"color\":\"#636efa\"},\"name\":\"SpectralClustering\",\"notched\":false,\"offsetgroup\":\"SpectralClustering\",\"orientation\":\"v\",\"showlegend\":true,\"x\":[\"SpectralClustering\",\"SpectralClustering\",\"SpectralClustering\",\"SpectralClustering\",\"SpectralClustering\",\"SpectralClustering\",\"SpectralClustering\",\"SpectralClustering\",\"SpectralClustering\",\"SpectralClustering\"],\"x0\":\" \",\"xaxis\":\"x\",\"y\":[-0.0001670130153306097,-0.00020343866078561035,-1.7349851701001147e-06,-0.00016408230443957033,-0.00021103535614248528,-4.132651949405296e-05,-7.055843374923031e-05,0.0010197277032039664,1.724203870375564e-05,-1.119220930640983e-05],\"y0\":\" \",\"yaxis\":\"y\",\"type\":\"box\"},{\"alignmentgroup\":\"True\",\"hovertemplate\":\"model_nickname=%{x}\\u003cbr\\u003ebest_adjusted_rand=%{y}\\u003cextra\\u003e\\u003c\\u002fextra\\u003e\",\"legendgroup\":\"SpectralSubspaceRandomization\",\"marker\":{\"color\":\"#EF553B\"},\"name\":\"SpectralSubspaceRandomization\",\"notched\":false,\"offsetgroup\":\"SpectralSubspaceRandomization\",\"orientation\":\"v\",\"showlegend\":true,\"x\":[\"SpectralSubspaceRandomization\",\"SpectralSubspaceRandomization\",\"SpectralSubspaceRandomization\",\"SpectralSubspaceRandomization\",\"SpectralSubspaceRandomization\",\"SpectralSubspaceRandomization\",\"SpectralSubspaceRandomization\",\"SpectralSubspaceRandomization\",\"SpectralSubspaceRandomization\",\"SpectralSubspaceRandomization\"],\"x0\":\" \",\"xaxis\":\"x\",\"y\":[1.0,1.0,1.0,1.0,1.0,1.0,1.0,1.0,1.0,1.0],\"y0\":\" \",\"yaxis\":\"y\",\"type\":\"box\"},{\"alignmentgroup\":\"True\",\"hovertemplate\":\"model_nickname=%{x}\\u003cbr\\u003ebest_adjusted_rand=%{y}\\u003cextra\\u003e\\u003c\\u002fextra\\u003e\",\"legendgroup\":\"WardAgglomerativeClustering\",\"marker\":{\"color\":\"#00cc96\"},\"name\":\"WardAgglomerativeClustering\",\"notched\":false,\"offsetgroup\":\"WardAgglomerativeClustering\",\"orientation\":\"v\",\"showlegend\":true,\"x\":[\"WardAgglomerativeClustering\",\"WardAgglomerativeClustering\",\"WardAgglomerativeClustering\",\"WardAgglomerativeClustering\",\"WardAgglomerativeClustering\",\"WardAgglomerativeClustering\",\"WardAgglomerativeClustering\",\"WardAgglomerativeClustering\",\"WardAgglomerativeClustering\",\"WardAgglomerativeClustering\"],\"x0\":\" \",\"xaxis\":\"x\",\"y\":[1.0,1.0,1.0,1.0,1.0,1.0,1.0,1.0,1.0,1.0],\"y0\":\" \",\"yaxis\":\"y\",\"type\":\"box\"}],                        {\"template\":{\"data\":{\"histogram2dcontour\":[{\"type\":\"histogram2dcontour\",\"colorbar\":{\"outlinewidth\":0,\"ticks\":\"\"},\"colorscale\":[[0.0,\"#0d0887\"],[0.1111111111111111,\"#46039f\"],[0.2222222222222222,\"#7201a8\"],[0.3333333333333333,\"#9c179e\"],[0.4444444444444444,\"#bd3786\"],[0.5555555555555556,\"#d8576b\"],[0.6666666666666666,\"#ed7953\"],[0.7777777777777778,\"#fb9f3a\"],[0.8888888888888888,\"#fdca26\"],[1.0,\"#f0f921\"]]}],\"choropleth\":[{\"type\":\"choropleth\",\"colorbar\":{\"outlinewidth\":0,\"ticks\":\"\"}}],\"histogram2d\":[{\"type\":\"histogram2d\",\"colorbar\":{\"outlinewidth\":0,\"ticks\":\"\"},\"colorscale\":[[0.0,\"#0d0887\"],[0.1111111111111111,\"#46039f\"],[0.2222222222222222,\"#7201a8\"],[0.3333333333333333,\"#9c179e\"],[0.4444444444444444,\"#bd3786\"],[0.5555555555555556,\"#d8576b\"],[0.6666666666666666,\"#ed7953\"],[0.7777777777777778,\"#fb9f3a\"],[0.8888888888888888,\"#fdca26\"],[1.0,\"#f0f921\"]]}],\"heatmap\":[{\"type\":\"heatmap\",\"colorbar\":{\"outlinewidth\":0,\"ticks\":\"\"},\"colorscale\":[[0.0,\"#0d0887\"],[0.1111111111111111,\"#46039f\"],[0.2222222222222222,\"#7201a8\"],[0.3333333333333333,\"#9c179e\"],[0.4444444444444444,\"#bd3786\"],[0.5555555555555556,\"#d8576b\"],[0.6666666666666666,\"#ed7953\"],[0.7777777777777778,\"#fb9f3a\"],[0.8888888888888888,\"#fdca26\"],[1.0,\"#f0f921\"]]}],\"heatmapgl\":[{\"type\":\"heatmapgl\",\"colorbar\":{\"outlinewidth\":0,\"ticks\":\"\"},\"colorscale\":[[0.0,\"#0d0887\"],[0.1111111111111111,\"#46039f\"],[0.2222222222222222,\"#7201a8\"],[0.3333333333333333,\"#9c179e\"],[0.4444444444444444,\"#bd3786\"],[0.5555555555555556,\"#d8576b\"],[0.6666666666666666,\"#ed7953\"],[0.7777777777777778,\"#fb9f3a\"],[0.8888888888888888,\"#fdca26\"],[1.0,\"#f0f921\"]]}],\"contourcarpet\":[{\"type\":\"contourcarpet\",\"colorbar\":{\"outlinewidth\":0,\"ticks\":\"\"}}],\"contour\":[{\"type\":\"contour\",\"colorbar\":{\"outlinewidth\":0,\"ticks\":\"\"},\"colorscale\":[[0.0,\"#0d0887\"],[0.1111111111111111,\"#46039f\"],[0.2222222222222222,\"#7201a8\"],[0.3333333333333333,\"#9c179e\"],[0.4444444444444444,\"#bd3786\"],[0.5555555555555556,\"#d8576b\"],[0.6666666666666666,\"#ed7953\"],[0.7777777777777778,\"#fb9f3a\"],[0.8888888888888888,\"#fdca26\"],[1.0,\"#f0f921\"]]}],\"surface\":[{\"type\":\"surface\",\"colorbar\":{\"outlinewidth\":0,\"ticks\":\"\"},\"colorscale\":[[0.0,\"#0d0887\"],[0.1111111111111111,\"#46039f\"],[0.2222222222222222,\"#7201a8\"],[0.3333333333333333,\"#9c179e\"],[0.4444444444444444,\"#bd3786\"],[0.5555555555555556,\"#d8576b\"],[0.6666666666666666,\"#ed7953\"],[0.7777777777777778,\"#fb9f3a\"],[0.8888888888888888,\"#fdca26\"],[1.0,\"#f0f921\"]]}],\"mesh3d\":[{\"type\":\"mesh3d\",\"colorbar\":{\"outlinewidth\":0,\"ticks\":\"\"}}],\"scatter\":[{\"marker\":{\"line\":{\"color\":\"#283442\"}},\"type\":\"scatter\"}],\"parcoords\":[{\"type\":\"parcoords\",\"line\":{\"colorbar\":{\"outlinewidth\":0,\"ticks\":\"\"}}}],\"scatterpolargl\":[{\"type\":\"scatterpolargl\",\"marker\":{\"colorbar\":{\"outlinewidth\":0,\"ticks\":\"\"}}}],\"bar\":[{\"error_x\":{\"color\":\"#f2f5fa\"},\"error_y\":{\"color\":\"#f2f5fa\"},\"marker\":{\"line\":{\"color\":\"rgb(17,17,17)\",\"width\":0.5},\"pattern\":{\"fillmode\":\"overlay\",\"size\":10,\"solidity\":0.2}},\"type\":\"bar\"}],\"scattergeo\":[{\"type\":\"scattergeo\",\"marker\":{\"colorbar\":{\"outlinewidth\":0,\"ticks\":\"\"}}}],\"scatterpolar\":[{\"type\":\"scatterpolar\",\"marker\":{\"colorbar\":{\"outlinewidth\":0,\"ticks\":\"\"}}}],\"histogram\":[{\"marker\":{\"pattern\":{\"fillmode\":\"overlay\",\"size\":10,\"solidity\":0.2}},\"type\":\"histogram\"}],\"scattergl\":[{\"marker\":{\"line\":{\"color\":\"#283442\"}},\"type\":\"scattergl\"}],\"scatter3d\":[{\"type\":\"scatter3d\",\"line\":{\"colorbar\":{\"outlinewidth\":0,\"ticks\":\"\"}},\"marker\":{\"colorbar\":{\"outlinewidth\":0,\"ticks\":\"\"}}}],\"scattermapbox\":[{\"type\":\"scattermapbox\",\"marker\":{\"colorbar\":{\"outlinewidth\":0,\"ticks\":\"\"}}}],\"scatterternary\":[{\"type\":\"scatterternary\",\"marker\":{\"colorbar\":{\"outlinewidth\":0,\"ticks\":\"\"}}}],\"scattercarpet\":[{\"type\":\"scattercarpet\",\"marker\":{\"colorbar\":{\"outlinewidth\":0,\"ticks\":\"\"}}}],\"carpet\":[{\"aaxis\":{\"endlinecolor\":\"#A2B1C6\",\"gridcolor\":\"#506784\",\"linecolor\":\"#506784\",\"minorgridcolor\":\"#506784\",\"startlinecolor\":\"#A2B1C6\"},\"baxis\":{\"endlinecolor\":\"#A2B1C6\",\"gridcolor\":\"#506784\",\"linecolor\":\"#506784\",\"minorgridcolor\":\"#506784\",\"startlinecolor\":\"#A2B1C6\"},\"type\":\"carpet\"}],\"table\":[{\"cells\":{\"fill\":{\"color\":\"#506784\"},\"line\":{\"color\":\"rgb(17,17,17)\"}},\"header\":{\"fill\":{\"color\":\"#2a3f5f\"},\"line\":{\"color\":\"rgb(17,17,17)\"}},\"type\":\"table\"}],\"barpolar\":[{\"marker\":{\"line\":{\"color\":\"rgb(17,17,17)\",\"width\":0.5},\"pattern\":{\"fillmode\":\"overlay\",\"size\":10,\"solidity\":0.2}},\"type\":\"barpolar\"}],\"pie\":[{\"automargin\":true,\"type\":\"pie\"}]},\"layout\":{\"autotypenumbers\":\"strict\",\"colorway\":[\"#636efa\",\"#EF553B\",\"#00cc96\",\"#ab63fa\",\"#FFA15A\",\"#19d3f3\",\"#FF6692\",\"#B6E880\",\"#FF97FF\",\"#FECB52\"],\"font\":{\"color\":\"#f2f5fa\"},\"hovermode\":\"closest\",\"hoverlabel\":{\"align\":\"left\"},\"paper_bgcolor\":\"rgb(17,17,17)\",\"plot_bgcolor\":\"rgb(17,17,17)\",\"polar\":{\"bgcolor\":\"rgb(17,17,17)\",\"angularaxis\":{\"gridcolor\":\"#506784\",\"linecolor\":\"#506784\",\"ticks\":\"\"},\"radialaxis\":{\"gridcolor\":\"#506784\",\"linecolor\":\"#506784\",\"ticks\":\"\"}},\"ternary\":{\"bgcolor\":\"rgb(17,17,17)\",\"aaxis\":{\"gridcolor\":\"#506784\",\"linecolor\":\"#506784\",\"ticks\":\"\"},\"baxis\":{\"gridcolor\":\"#506784\",\"linecolor\":\"#506784\",\"ticks\":\"\"},\"caxis\":{\"gridcolor\":\"#506784\",\"linecolor\":\"#506784\",\"ticks\":\"\"}},\"coloraxis\":{\"colorbar\":{\"outlinewidth\":0,\"ticks\":\"\"}},\"colorscale\":{\"sequential\":[[0.0,\"#0d0887\"],[0.1111111111111111,\"#46039f\"],[0.2222222222222222,\"#7201a8\"],[0.3333333333333333,\"#9c179e\"],[0.4444444444444444,\"#bd3786\"],[0.5555555555555556,\"#d8576b\"],[0.6666666666666666,\"#ed7953\"],[0.7777777777777778,\"#fb9f3a\"],[0.8888888888888888,\"#fdca26\"],[1.0,\"#f0f921\"]],\"sequentialminus\":[[0.0,\"#0d0887\"],[0.1111111111111111,\"#46039f\"],[0.2222222222222222,\"#7201a8\"],[0.3333333333333333,\"#9c179e\"],[0.4444444444444444,\"#bd3786\"],[0.5555555555555556,\"#d8576b\"],[0.6666666666666666,\"#ed7953\"],[0.7777777777777778,\"#fb9f3a\"],[0.8888888888888888,\"#fdca26\"],[1.0,\"#f0f921\"]],\"diverging\":[[0,\"#8e0152\"],[0.1,\"#c51b7d\"],[0.2,\"#de77ae\"],[0.3,\"#f1b6da\"],[0.4,\"#fde0ef\"],[0.5,\"#f7f7f7\"],[0.6,\"#e6f5d0\"],[0.7,\"#b8e186\"],[0.8,\"#7fbc41\"],[0.9,\"#4d9221\"],[1,\"#276419\"]]},\"xaxis\":{\"gridcolor\":\"#283442\",\"linecolor\":\"#506784\",\"ticks\":\"\",\"title\":{\"standoff\":15},\"zerolinecolor\":\"#283442\",\"automargin\":true,\"zerolinewidth\":2},\"yaxis\":{\"gridcolor\":\"#283442\",\"linecolor\":\"#506784\",\"ticks\":\"\",\"title\":{\"standoff\":15},\"zerolinecolor\":\"#283442\",\"automargin\":true,\"zerolinewidth\":2},\"scene\":{\"xaxis\":{\"backgroundcolor\":\"rgb(17,17,17)\",\"gridcolor\":\"#506784\",\"linecolor\":\"#506784\",\"showbackground\":true,\"ticks\":\"\",\"zerolinecolor\":\"#C8D4E3\",\"gridwidth\":2},\"yaxis\":{\"backgroundcolor\":\"rgb(17,17,17)\",\"gridcolor\":\"#506784\",\"linecolor\":\"#506784\",\"showbackground\":true,\"ticks\":\"\",\"zerolinecolor\":\"#C8D4E3\",\"gridwidth\":2},\"zaxis\":{\"backgroundcolor\":\"rgb(17,17,17)\",\"gridcolor\":\"#506784\",\"linecolor\":\"#506784\",\"showbackground\":true,\"ticks\":\"\",\"zerolinecolor\":\"#C8D4E3\",\"gridwidth\":2}},\"shapedefaults\":{\"line\":{\"color\":\"#f2f5fa\"}},\"annotationdefaults\":{\"arrowcolor\":\"#f2f5fa\",\"arrowhead\":0,\"arrowwidth\":1},\"geo\":{\"bgcolor\":\"rgb(17,17,17)\",\"landcolor\":\"rgb(17,17,17)\",\"subunitcolor\":\"#506784\",\"showland\":true,\"showlakes\":true,\"lakecolor\":\"rgb(17,17,17)\"},\"title\":{\"x\":0.05},\"updatemenudefaults\":{\"bgcolor\":\"#506784\",\"borderwidth\":0},\"sliderdefaults\":{\"bgcolor\":\"#C8D4E3\",\"borderwidth\":1,\"bordercolor\":\"rgb(17,17,17)\",\"tickwidth\":0},\"mapbox\":{\"style\":\"dark\"}}},\"xaxis\":{\"anchor\":\"y\",\"domain\":[0.0,1.0],\"title\":{\"text\":\"model_nickname\"},\"categoryorder\":\"array\",\"categoryarray\":[\"AffinityPropagation\",\"AverageAgglomerativeClustering\",\"CompleteAgglomerativeClustering\",\"DBSCAN\",\"HDBSCAN\",\"KMeans\",\"OPTICS\",\"Proclus\",\"RecursiveClustering\",\"SingleAgglomerativeClustering\",\"SpectralClustering\",\"SpectralSubspaceRandomization\",\"WardAgglomerativeClustering\"]},\"yaxis\":{\"anchor\":\"x\",\"domain\":[0.0,1.0],\"title\":{\"text\":\"best_adjusted_rand\"}},\"legend\":{\"title\":{\"text\":\"model_nickname\"},\"tracegroupgap\":0},\"margin\":{\"t\":60},\"boxmode\":\"overlay\"},                        {\"responsive\": true}                    ).then(function(){\n",
       "                            \n",
       "var gd = document.getElementById('16bab4ab-fda4-44c2-8e77-4d1eaad81657');\n",
       "var x = new MutationObserver(function (mutations, observer) {{\n",
       "        var display = window.getComputedStyle(gd).display;\n",
       "        if (!display || display === 'none') {{\n",
       "            console.log([gd, 'removed!']);\n",
       "            Plotly.purge(gd);\n",
       "            observer.disconnect();\n",
       "        }}\n",
       "}});\n",
       "\n",
       "// Listen for the removal of the full notebook cells\n",
       "var notebookContainer = gd.closest('#notebook-container');\n",
       "if (notebookContainer) {{\n",
       "    x.observe(notebookContainer, {childList: true});\n",
       "}}\n",
       "\n",
       "// Listen for the clearing of the current output cell\n",
       "var outputEl = gd.closest('.output');\n",
       "if (outputEl) {{\n",
       "    x.observe(outputEl, {childList: true});\n",
       "}}\n",
       "\n",
       "                        })                };                });            </script>        </div>"
      ]
     },
     "metadata": {},
     "output_type": "display_data"
    }
   ],
   "execution_count": 125
  },
  {
   "cell_type": "code",
   "id": "fd82bb2eccefb45",
   "metadata": {
    "ExecuteTime": {
     "end_time": "2025-01-17T16:41:48.298555Z",
     "start_time": "2025-01-17T16:41:48.250234Z"
    }
   },
   "source": [
    "df = df_common.copy()\n",
    "df = df.loc[df['n_samples'] == 1000]\n",
    "df = df.loc[df['n_features'] == 1000]\n",
    "# df = df.loc[df['pct_random'] == 0.7]\n",
    "df = df.loc[df['class_sep'] == 100.0]\n",
    "df = df.loc[df['model_nickname'].isin(['RecursiveClustering', 'KMeans', 'HDBSCAN', 'DBSCAN', 'AffinityPropagation', 'OPTICS', 'SpectralSubspaceRandomization', 'WardAgglomerativeClustering'])]\n",
    "df = df.sort_values('model_nickname')\n",
    "df = df.rename(columns={'fit_model_return_elapsed_time': 'Time (s)', 'max_memory_used': 'Memory (MB)', 'n_samples': 'Number of samples', 'n_features': 'Number of features', 'model_nickname': 'Model', 'best_adjusted_rand': 'Adjusted Rand', 'best_n_clusters_': 'Number of Clusters Found', 'n_classes': 'True Number of Clusters', 'class_sep': 'Class Separation', 'pct_random': '% Random Features', 'seed_unified': 'Seed'})\n",
    "df = df[['Model', 'Adjusted Rand', 'Time (s)', 'Memory (MB)', 'Number of samples', 'Number of features', 'Class Separation', '% Random Features', 'Seed', 'Number of Clusters Found', 'True Number of Clusters']]\n",
    "df = df.groupby('Model').agg({'Adjusted Rand': ['mean', 'std'], 'Number of Clusters Found': ['median', ('Q25', lambda x: x.quantile(0.25)), ('Q75', lambda x: x.quantile(0.75))], 'Time (s)': ['mean', 'std'], 'Memory (MB)': ['mean', 'std'], 'Number of samples': ['mean', 'nunique'], 'Number of features': ['mean', 'nunique'], 'Class Separation': ['mean', 'nunique'], '% Random Features': ['mean', 'nunique'], 'True Number of Clusters': ['mean', 'nunique'], 'Seed': ['mean', 'nunique']})\n",
    "df.to_csv('simulated_data_easy.csv')\n",
    "df"
   ],
   "outputs": [
    {
     "data": {
      "text/plain": [
       "key                           Adjusted Rand      Number of Clusters Found  \\\n",
       "                                       mean  std                   median   \n",
       "Model                                                                       \n",
       "AffinityPropagation                     1.0  0.0                      5.0   \n",
       "DBSCAN                                  0.0  0.0                      1.0   \n",
       "HDBSCAN                                 1.0  0.0                      5.0   \n",
       "KMeans                                  1.0  0.0                      5.0   \n",
       "OPTICS                                  1.0  0.0                      5.0   \n",
       "RecursiveClustering                     1.0  0.0                      5.0   \n",
       "SpectralSubspaceRandomization           1.0  0.0                      5.0   \n",
       "WardAgglomerativeClustering             1.0  0.0                      5.0   \n",
       "\n",
       "key                                         Time (s)             Memory (MB)  \\\n",
       "                               Q25  Q75         mean         std        mean   \n",
       "Model                                                                          \n",
       "AffinityPropagation            5.0  5.0   537.226421   39.111352   2059.4429   \n",
       "DBSCAN                         1.0  1.0   495.724737   24.503844   2034.5569   \n",
       "HDBSCAN                        5.0  5.0   156.379071   16.678345   1951.1594   \n",
       "KMeans                         5.0  5.0   455.211977   39.756185   2024.6738   \n",
       "OPTICS                         5.0  5.0   186.481377   12.323363   2067.3815   \n",
       "RecursiveClustering            5.0  5.0  2264.785293  217.413369   2080.0290   \n",
       "SpectralSubspaceRandomization  5.0  5.0  3496.919557  733.693875   1108.6247   \n",
       "WardAgglomerativeClustering    5.0  5.0   267.337123   30.720733   2059.1330   \n",
       "\n",
       "key                                       Number of samples  ...  \\\n",
       "                                      std              mean  ...   \n",
       "Model                                                        ...   \n",
       "AffinityPropagation              1.779558            1000.0  ...   \n",
       "DBSCAN                           1.282687            1000.0  ...   \n",
       "HDBSCAN                        228.016285            1000.0  ...   \n",
       "KMeans                         151.542389            1000.0  ...   \n",
       "OPTICS                           0.839997            1000.0  ...   \n",
       "RecursiveClustering              2.354198            1000.0  ...   \n",
       "SpectralSubspaceRandomization   27.026635            1000.0  ...   \n",
       "WardAgglomerativeClustering      1.695819            1000.0  ...   \n",
       "\n",
       "key                           Number of features         Class Separation  \\\n",
       "                                            mean nunique             mean   \n",
       "Model                                                                       \n",
       "AffinityPropagation                       1000.0       1            100.0   \n",
       "DBSCAN                                    1000.0       1            100.0   \n",
       "HDBSCAN                                   1000.0       1            100.0   \n",
       "KMeans                                    1000.0       1            100.0   \n",
       "OPTICS                                    1000.0       1            100.0   \n",
       "RecursiveClustering                       1000.0       1            100.0   \n",
       "SpectralSubspaceRandomization             1000.0       1            100.0   \n",
       "WardAgglomerativeClustering               1000.0       1            100.0   \n",
       "\n",
       "key                                   % Random Features          \\\n",
       "                              nunique              mean nunique   \n",
       "Model                                                             \n",
       "AffinityPropagation                 1              0.35       4   \n",
       "DBSCAN                              1              0.35       4   \n",
       "HDBSCAN                             1              0.35       4   \n",
       "KMeans                              1              0.35       4   \n",
       "OPTICS                              1              0.35       4   \n",
       "RecursiveClustering                 1              0.35       4   \n",
       "SpectralSubspaceRandomization       1              0.35       4   \n",
       "WardAgglomerativeClustering         1              0.35       4   \n",
       "\n",
       "key                           True Number of Clusters         Seed          \n",
       "                                                 mean nunique mean nunique  \n",
       "Model                                                                       \n",
       "AffinityPropagation                               5.0       1  4.5      10  \n",
       "DBSCAN                                            5.0       1  4.5      10  \n",
       "HDBSCAN                                           5.0       1  4.5      10  \n",
       "KMeans                                            5.0       1  4.5      10  \n",
       "OPTICS                                            5.0       1  4.5      10  \n",
       "RecursiveClustering                               5.0       1  4.5      10  \n",
       "SpectralSubspaceRandomization                     5.0       1  4.5      10  \n",
       "WardAgglomerativeClustering                       5.0       1  4.5      10  \n",
       "\n",
       "[8 rows x 21 columns]"
      ],
      "text/html": [
       "<div>\n",
       "<style scoped>\n",
       "    .dataframe tbody tr th:only-of-type {\n",
       "        vertical-align: middle;\n",
       "    }\n",
       "\n",
       "    .dataframe tbody tr th {\n",
       "        vertical-align: top;\n",
       "    }\n",
       "\n",
       "    .dataframe thead tr th {\n",
       "        text-align: left;\n",
       "    }\n",
       "\n",
       "    .dataframe thead tr:last-of-type th {\n",
       "        text-align: right;\n",
       "    }\n",
       "</style>\n",
       "<table border=\"1\" class=\"dataframe\">\n",
       "  <thead>\n",
       "    <tr>\n",
       "      <th>key</th>\n",
       "      <th colspan=\"2\" halign=\"left\">Adjusted Rand</th>\n",
       "      <th colspan=\"3\" halign=\"left\">Number of Clusters Found</th>\n",
       "      <th colspan=\"2\" halign=\"left\">Time (s)</th>\n",
       "      <th colspan=\"2\" halign=\"left\">Memory (MB)</th>\n",
       "      <th>Number of samples</th>\n",
       "      <th>...</th>\n",
       "      <th colspan=\"2\" halign=\"left\">Number of features</th>\n",
       "      <th colspan=\"2\" halign=\"left\">Class Separation</th>\n",
       "      <th colspan=\"2\" halign=\"left\">% Random Features</th>\n",
       "      <th colspan=\"2\" halign=\"left\">True Number of Clusters</th>\n",
       "      <th colspan=\"2\" halign=\"left\">Seed</th>\n",
       "    </tr>\n",
       "    <tr>\n",
       "      <th></th>\n",
       "      <th>mean</th>\n",
       "      <th>std</th>\n",
       "      <th>median</th>\n",
       "      <th>Q25</th>\n",
       "      <th>Q75</th>\n",
       "      <th>mean</th>\n",
       "      <th>std</th>\n",
       "      <th>mean</th>\n",
       "      <th>std</th>\n",
       "      <th>mean</th>\n",
       "      <th>...</th>\n",
       "      <th>mean</th>\n",
       "      <th>nunique</th>\n",
       "      <th>mean</th>\n",
       "      <th>nunique</th>\n",
       "      <th>mean</th>\n",
       "      <th>nunique</th>\n",
       "      <th>mean</th>\n",
       "      <th>nunique</th>\n",
       "      <th>mean</th>\n",
       "      <th>nunique</th>\n",
       "    </tr>\n",
       "    <tr>\n",
       "      <th>Model</th>\n",
       "      <th></th>\n",
       "      <th></th>\n",
       "      <th></th>\n",
       "      <th></th>\n",
       "      <th></th>\n",
       "      <th></th>\n",
       "      <th></th>\n",
       "      <th></th>\n",
       "      <th></th>\n",
       "      <th></th>\n",
       "      <th></th>\n",
       "      <th></th>\n",
       "      <th></th>\n",
       "      <th></th>\n",
       "      <th></th>\n",
       "      <th></th>\n",
       "      <th></th>\n",
       "      <th></th>\n",
       "      <th></th>\n",
       "      <th></th>\n",
       "      <th></th>\n",
       "    </tr>\n",
       "  </thead>\n",
       "  <tbody>\n",
       "    <tr>\n",
       "      <th>AffinityPropagation</th>\n",
       "      <td>1.0</td>\n",
       "      <td>0.0</td>\n",
       "      <td>5.0</td>\n",
       "      <td>5.0</td>\n",
       "      <td>5.0</td>\n",
       "      <td>537.226421</td>\n",
       "      <td>39.111352</td>\n",
       "      <td>2059.4429</td>\n",
       "      <td>1.779558</td>\n",
       "      <td>1000.0</td>\n",
       "      <td>...</td>\n",
       "      <td>1000.0</td>\n",
       "      <td>1</td>\n",
       "      <td>100.0</td>\n",
       "      <td>1</td>\n",
       "      <td>0.35</td>\n",
       "      <td>4</td>\n",
       "      <td>5.0</td>\n",
       "      <td>1</td>\n",
       "      <td>4.5</td>\n",
       "      <td>10</td>\n",
       "    </tr>\n",
       "    <tr>\n",
       "      <th>DBSCAN</th>\n",
       "      <td>0.0</td>\n",
       "      <td>0.0</td>\n",
       "      <td>1.0</td>\n",
       "      <td>1.0</td>\n",
       "      <td>1.0</td>\n",
       "      <td>495.724737</td>\n",
       "      <td>24.503844</td>\n",
       "      <td>2034.5569</td>\n",
       "      <td>1.282687</td>\n",
       "      <td>1000.0</td>\n",
       "      <td>...</td>\n",
       "      <td>1000.0</td>\n",
       "      <td>1</td>\n",
       "      <td>100.0</td>\n",
       "      <td>1</td>\n",
       "      <td>0.35</td>\n",
       "      <td>4</td>\n",
       "      <td>5.0</td>\n",
       "      <td>1</td>\n",
       "      <td>4.5</td>\n",
       "      <td>10</td>\n",
       "    </tr>\n",
       "    <tr>\n",
       "      <th>HDBSCAN</th>\n",
       "      <td>1.0</td>\n",
       "      <td>0.0</td>\n",
       "      <td>5.0</td>\n",
       "      <td>5.0</td>\n",
       "      <td>5.0</td>\n",
       "      <td>156.379071</td>\n",
       "      <td>16.678345</td>\n",
       "      <td>1951.1594</td>\n",
       "      <td>228.016285</td>\n",
       "      <td>1000.0</td>\n",
       "      <td>...</td>\n",
       "      <td>1000.0</td>\n",
       "      <td>1</td>\n",
       "      <td>100.0</td>\n",
       "      <td>1</td>\n",
       "      <td>0.35</td>\n",
       "      <td>4</td>\n",
       "      <td>5.0</td>\n",
       "      <td>1</td>\n",
       "      <td>4.5</td>\n",
       "      <td>10</td>\n",
       "    </tr>\n",
       "    <tr>\n",
       "      <th>KMeans</th>\n",
       "      <td>1.0</td>\n",
       "      <td>0.0</td>\n",
       "      <td>5.0</td>\n",
       "      <td>5.0</td>\n",
       "      <td>5.0</td>\n",
       "      <td>455.211977</td>\n",
       "      <td>39.756185</td>\n",
       "      <td>2024.6738</td>\n",
       "      <td>151.542389</td>\n",
       "      <td>1000.0</td>\n",
       "      <td>...</td>\n",
       "      <td>1000.0</td>\n",
       "      <td>1</td>\n",
       "      <td>100.0</td>\n",
       "      <td>1</td>\n",
       "      <td>0.35</td>\n",
       "      <td>4</td>\n",
       "      <td>5.0</td>\n",
       "      <td>1</td>\n",
       "      <td>4.5</td>\n",
       "      <td>10</td>\n",
       "    </tr>\n",
       "    <tr>\n",
       "      <th>OPTICS</th>\n",
       "      <td>1.0</td>\n",
       "      <td>0.0</td>\n",
       "      <td>5.0</td>\n",
       "      <td>5.0</td>\n",
       "      <td>5.0</td>\n",
       "      <td>186.481377</td>\n",
       "      <td>12.323363</td>\n",
       "      <td>2067.3815</td>\n",
       "      <td>0.839997</td>\n",
       "      <td>1000.0</td>\n",
       "      <td>...</td>\n",
       "      <td>1000.0</td>\n",
       "      <td>1</td>\n",
       "      <td>100.0</td>\n",
       "      <td>1</td>\n",
       "      <td>0.35</td>\n",
       "      <td>4</td>\n",
       "      <td>5.0</td>\n",
       "      <td>1</td>\n",
       "      <td>4.5</td>\n",
       "      <td>10</td>\n",
       "    </tr>\n",
       "    <tr>\n",
       "      <th>RecursiveClustering</th>\n",
       "      <td>1.0</td>\n",
       "      <td>0.0</td>\n",
       "      <td>5.0</td>\n",
       "      <td>5.0</td>\n",
       "      <td>5.0</td>\n",
       "      <td>2264.785293</td>\n",
       "      <td>217.413369</td>\n",
       "      <td>2080.0290</td>\n",
       "      <td>2.354198</td>\n",
       "      <td>1000.0</td>\n",
       "      <td>...</td>\n",
       "      <td>1000.0</td>\n",
       "      <td>1</td>\n",
       "      <td>100.0</td>\n",
       "      <td>1</td>\n",
       "      <td>0.35</td>\n",
       "      <td>4</td>\n",
       "      <td>5.0</td>\n",
       "      <td>1</td>\n",
       "      <td>4.5</td>\n",
       "      <td>10</td>\n",
       "    </tr>\n",
       "    <tr>\n",
       "      <th>SpectralSubspaceRandomization</th>\n",
       "      <td>1.0</td>\n",
       "      <td>0.0</td>\n",
       "      <td>5.0</td>\n",
       "      <td>5.0</td>\n",
       "      <td>5.0</td>\n",
       "      <td>3496.919557</td>\n",
       "      <td>733.693875</td>\n",
       "      <td>1108.6247</td>\n",
       "      <td>27.026635</td>\n",
       "      <td>1000.0</td>\n",
       "      <td>...</td>\n",
       "      <td>1000.0</td>\n",
       "      <td>1</td>\n",
       "      <td>100.0</td>\n",
       "      <td>1</td>\n",
       "      <td>0.35</td>\n",
       "      <td>4</td>\n",
       "      <td>5.0</td>\n",
       "      <td>1</td>\n",
       "      <td>4.5</td>\n",
       "      <td>10</td>\n",
       "    </tr>\n",
       "    <tr>\n",
       "      <th>WardAgglomerativeClustering</th>\n",
       "      <td>1.0</td>\n",
       "      <td>0.0</td>\n",
       "      <td>5.0</td>\n",
       "      <td>5.0</td>\n",
       "      <td>5.0</td>\n",
       "      <td>267.337123</td>\n",
       "      <td>30.720733</td>\n",
       "      <td>2059.1330</td>\n",
       "      <td>1.695819</td>\n",
       "      <td>1000.0</td>\n",
       "      <td>...</td>\n",
       "      <td>1000.0</td>\n",
       "      <td>1</td>\n",
       "      <td>100.0</td>\n",
       "      <td>1</td>\n",
       "      <td>0.35</td>\n",
       "      <td>4</td>\n",
       "      <td>5.0</td>\n",
       "      <td>1</td>\n",
       "      <td>4.5</td>\n",
       "      <td>10</td>\n",
       "    </tr>\n",
       "  </tbody>\n",
       "</table>\n",
       "<p>8 rows × 21 columns</p>\n",
       "</div>"
      ]
     },
     "execution_count": 126,
     "metadata": {},
     "output_type": "execute_result"
    }
   ],
   "execution_count": 126
  },
  {
   "cell_type": "code",
   "id": "3081e46542a86320",
   "metadata": {
    "ExecuteTime": {
     "end_time": "2025-01-17T16:41:48.433355Z",
     "start_time": "2025-01-17T16:41:48.392685Z"
    }
   },
   "source": [
    "df = df_common.copy()\n",
    "df = df.loc[df['n_samples'] == 1000]\n",
    "df = df.loc[df['n_features'] == 1000]\n",
    "df = df.loc[df['pct_random'] == 0.5]\n",
    "df = df.loc[df['class_sep'] == 10.0]\n",
    "df = df.loc[df['model_nickname'].isin(['RecursiveClustering', 'KMeans', 'HDBSCAN', 'DBSCAN', 'AffinityPropagation', 'OPTICS', 'SpectralSubspaceRandomization', 'WardAgglomerativeClustering'])]\n",
    "df = df.sort_values('model_nickname')\n",
    "df = df.rename(columns={'fit_model_return_elapsed_time': 'Time (s)', 'max_memory_used': 'Memory (MB)', 'n_samples': 'Number of samples', 'n_features': 'Number of features', 'model_nickname': 'Model', 'best_adjusted_rand': 'Adjusted Rand', 'best_n_clusters_': 'Number of Clusters Found', 'n_classes': 'True Number of Clusters', 'class_sep': 'Class Separation', 'pct_random': '% Random Features', 'seed_unified': 'Seed'})\n",
    "df = df[['Model', 'Adjusted Rand', 'Time (s)', 'Memory (MB)', 'Number of samples', 'Number of features', 'Class Separation', '% Random Features', 'Seed', 'Number of Clusters Found', 'True Number of Clusters']]\n",
    "df = df.groupby('Model').agg({'Adjusted Rand': ['mean', 'std'], 'Number of Clusters Found': ['median', ('Q25', lambda x: x.quantile(0.25)), ('Q75', lambda x: x.quantile(0.75))], 'Time (s)': ['mean', 'std'], 'Memory (MB)': ['mean', 'std'], 'Number of samples': ['mean', 'nunique'], 'Number of features': ['mean', 'nunique'], 'Class Separation': ['mean', 'nunique'], '% Random Features': ['mean', 'nunique'], 'True Number of Clusters': ['mean', 'nunique'], 'Seed': ['mean', 'nunique']})\n",
    "df.to_csv('simulated_data_hard.csv')\n",
    "df"
   ],
   "outputs": [
    {
     "data": {
      "text/plain": [
       "key                           Adjusted Rand            \\\n",
       "                                       mean       std   \n",
       "Model                                                   \n",
       "AffinityPropagation                0.189093  0.017298   \n",
       "DBSCAN                             0.000000  0.000000   \n",
       "HDBSCAN                            0.993713  0.003036   \n",
       "KMeans                             0.200988  0.060978   \n",
       "OPTICS                             0.399327  0.344323   \n",
       "RecursiveClustering                0.433655  0.230195   \n",
       "SpectralSubspaceRandomization      0.915287  0.202475   \n",
       "WardAgglomerativeClustering        0.494884  0.296377   \n",
       "\n",
       "key                           Number of Clusters Found              \\\n",
       "                                                median  Q25    Q75   \n",
       "Model                                                                \n",
       "AffinityPropagation                               21.5  2.0  42.00   \n",
       "DBSCAN                                             1.0  1.0   1.00   \n",
       "HDBSCAN                                            6.0  6.0   6.00   \n",
       "KMeans                                             2.0  2.0   2.00   \n",
       "OPTICS                                             2.5  2.0   4.50   \n",
       "RecursiveClustering                                4.0  3.0   4.75   \n",
       "SpectralSubspaceRandomization                      5.0  5.0   5.00   \n",
       "WardAgglomerativeClustering                        2.0  2.0   4.25   \n",
       "\n",
       "key                               Time (s)             Memory (MB)  \\\n",
       "                                      mean         std        mean   \n",
       "Model                                                                \n",
       "AffinityPropagation             529.730182   10.693666   2059.4900   \n",
       "DBSCAN                          478.425069    8.144741   2034.9944   \n",
       "HDBSCAN                         157.498777    5.076115   2008.3772   \n",
       "KMeans                          421.863799   23.231615   2065.8152   \n",
       "OPTICS                          193.670200    4.669891   2067.3468   \n",
       "RecursiveClustering            2390.756949  168.434082   2078.1840   \n",
       "SpectralSubspaceRandomization  3650.157271  473.980725   1103.1100   \n",
       "WardAgglomerativeClustering     250.402186   13.845500   2058.1964   \n",
       "\n",
       "key                                       Number of samples  ...  \\\n",
       "                                      std              mean  ...   \n",
       "Model                                                        ...   \n",
       "AffinityPropagation              2.024502            1000.0  ...   \n",
       "DBSCAN                           1.190787            1000.0  ...   \n",
       "HDBSCAN                        178.319054            1000.0  ...   \n",
       "KMeans                           4.504178            1000.0  ...   \n",
       "OPTICS                           1.081793            1000.0  ...   \n",
       "RecursiveClustering              2.627123            1000.0  ...   \n",
       "SpectralSubspaceRandomization    4.184572            1000.0  ...   \n",
       "WardAgglomerativeClustering      2.105722            1000.0  ...   \n",
       "\n",
       "key                           Number of features         Class Separation  \\\n",
       "                                            mean nunique             mean   \n",
       "Model                                                                       \n",
       "AffinityPropagation                       1000.0       1             10.0   \n",
       "DBSCAN                                    1000.0       1             10.0   \n",
       "HDBSCAN                                   1000.0       1             10.0   \n",
       "KMeans                                    1000.0       1             10.0   \n",
       "OPTICS                                    1000.0       1             10.0   \n",
       "RecursiveClustering                       1000.0       1             10.0   \n",
       "SpectralSubspaceRandomization             1000.0       1             10.0   \n",
       "WardAgglomerativeClustering               1000.0       1             10.0   \n",
       "\n",
       "key                                   % Random Features          \\\n",
       "                              nunique              mean nunique   \n",
       "Model                                                             \n",
       "AffinityPropagation                 1               0.5       1   \n",
       "DBSCAN                              1               0.5       1   \n",
       "HDBSCAN                             1               0.5       1   \n",
       "KMeans                              1               0.5       1   \n",
       "OPTICS                              1               0.5       1   \n",
       "RecursiveClustering                 1               0.5       1   \n",
       "SpectralSubspaceRandomization       1               0.5       1   \n",
       "WardAgglomerativeClustering         1               0.5       1   \n",
       "\n",
       "key                           True Number of Clusters         Seed          \n",
       "                                                 mean nunique mean nunique  \n",
       "Model                                                                       \n",
       "AffinityPropagation                               5.0       1  4.5      10  \n",
       "DBSCAN                                            5.0       1  4.5      10  \n",
       "HDBSCAN                                           5.0       1  4.5      10  \n",
       "KMeans                                            5.0       1  4.5      10  \n",
       "OPTICS                                            5.0       1  4.5      10  \n",
       "RecursiveClustering                               5.0       1  4.5      10  \n",
       "SpectralSubspaceRandomization                     5.0       1  4.5      10  \n",
       "WardAgglomerativeClustering                       5.0       1  4.5      10  \n",
       "\n",
       "[8 rows x 21 columns]"
      ],
      "text/html": [
       "<div>\n",
       "<style scoped>\n",
       "    .dataframe tbody tr th:only-of-type {\n",
       "        vertical-align: middle;\n",
       "    }\n",
       "\n",
       "    .dataframe tbody tr th {\n",
       "        vertical-align: top;\n",
       "    }\n",
       "\n",
       "    .dataframe thead tr th {\n",
       "        text-align: left;\n",
       "    }\n",
       "\n",
       "    .dataframe thead tr:last-of-type th {\n",
       "        text-align: right;\n",
       "    }\n",
       "</style>\n",
       "<table border=\"1\" class=\"dataframe\">\n",
       "  <thead>\n",
       "    <tr>\n",
       "      <th>key</th>\n",
       "      <th colspan=\"2\" halign=\"left\">Adjusted Rand</th>\n",
       "      <th colspan=\"3\" halign=\"left\">Number of Clusters Found</th>\n",
       "      <th colspan=\"2\" halign=\"left\">Time (s)</th>\n",
       "      <th colspan=\"2\" halign=\"left\">Memory (MB)</th>\n",
       "      <th>Number of samples</th>\n",
       "      <th>...</th>\n",
       "      <th colspan=\"2\" halign=\"left\">Number of features</th>\n",
       "      <th colspan=\"2\" halign=\"left\">Class Separation</th>\n",
       "      <th colspan=\"2\" halign=\"left\">% Random Features</th>\n",
       "      <th colspan=\"2\" halign=\"left\">True Number of Clusters</th>\n",
       "      <th colspan=\"2\" halign=\"left\">Seed</th>\n",
       "    </tr>\n",
       "    <tr>\n",
       "      <th></th>\n",
       "      <th>mean</th>\n",
       "      <th>std</th>\n",
       "      <th>median</th>\n",
       "      <th>Q25</th>\n",
       "      <th>Q75</th>\n",
       "      <th>mean</th>\n",
       "      <th>std</th>\n",
       "      <th>mean</th>\n",
       "      <th>std</th>\n",
       "      <th>mean</th>\n",
       "      <th>...</th>\n",
       "      <th>mean</th>\n",
       "      <th>nunique</th>\n",
       "      <th>mean</th>\n",
       "      <th>nunique</th>\n",
       "      <th>mean</th>\n",
       "      <th>nunique</th>\n",
       "      <th>mean</th>\n",
       "      <th>nunique</th>\n",
       "      <th>mean</th>\n",
       "      <th>nunique</th>\n",
       "    </tr>\n",
       "    <tr>\n",
       "      <th>Model</th>\n",
       "      <th></th>\n",
       "      <th></th>\n",
       "      <th></th>\n",
       "      <th></th>\n",
       "      <th></th>\n",
       "      <th></th>\n",
       "      <th></th>\n",
       "      <th></th>\n",
       "      <th></th>\n",
       "      <th></th>\n",
       "      <th></th>\n",
       "      <th></th>\n",
       "      <th></th>\n",
       "      <th></th>\n",
       "      <th></th>\n",
       "      <th></th>\n",
       "      <th></th>\n",
       "      <th></th>\n",
       "      <th></th>\n",
       "      <th></th>\n",
       "      <th></th>\n",
       "    </tr>\n",
       "  </thead>\n",
       "  <tbody>\n",
       "    <tr>\n",
       "      <th>AffinityPropagation</th>\n",
       "      <td>0.189093</td>\n",
       "      <td>0.017298</td>\n",
       "      <td>21.5</td>\n",
       "      <td>2.0</td>\n",
       "      <td>42.00</td>\n",
       "      <td>529.730182</td>\n",
       "      <td>10.693666</td>\n",
       "      <td>2059.4900</td>\n",
       "      <td>2.024502</td>\n",
       "      <td>1000.0</td>\n",
       "      <td>...</td>\n",
       "      <td>1000.0</td>\n",
       "      <td>1</td>\n",
       "      <td>10.0</td>\n",
       "      <td>1</td>\n",
       "      <td>0.5</td>\n",
       "      <td>1</td>\n",
       "      <td>5.0</td>\n",
       "      <td>1</td>\n",
       "      <td>4.5</td>\n",
       "      <td>10</td>\n",
       "    </tr>\n",
       "    <tr>\n",
       "      <th>DBSCAN</th>\n",
       "      <td>0.000000</td>\n",
       "      <td>0.000000</td>\n",
       "      <td>1.0</td>\n",
       "      <td>1.0</td>\n",
       "      <td>1.00</td>\n",
       "      <td>478.425069</td>\n",
       "      <td>8.144741</td>\n",
       "      <td>2034.9944</td>\n",
       "      <td>1.190787</td>\n",
       "      <td>1000.0</td>\n",
       "      <td>...</td>\n",
       "      <td>1000.0</td>\n",
       "      <td>1</td>\n",
       "      <td>10.0</td>\n",
       "      <td>1</td>\n",
       "      <td>0.5</td>\n",
       "      <td>1</td>\n",
       "      <td>5.0</td>\n",
       "      <td>1</td>\n",
       "      <td>4.5</td>\n",
       "      <td>10</td>\n",
       "    </tr>\n",
       "    <tr>\n",
       "      <th>HDBSCAN</th>\n",
       "      <td>0.993713</td>\n",
       "      <td>0.003036</td>\n",
       "      <td>6.0</td>\n",
       "      <td>6.0</td>\n",
       "      <td>6.00</td>\n",
       "      <td>157.498777</td>\n",
       "      <td>5.076115</td>\n",
       "      <td>2008.3772</td>\n",
       "      <td>178.319054</td>\n",
       "      <td>1000.0</td>\n",
       "      <td>...</td>\n",
       "      <td>1000.0</td>\n",
       "      <td>1</td>\n",
       "      <td>10.0</td>\n",
       "      <td>1</td>\n",
       "      <td>0.5</td>\n",
       "      <td>1</td>\n",
       "      <td>5.0</td>\n",
       "      <td>1</td>\n",
       "      <td>4.5</td>\n",
       "      <td>10</td>\n",
       "    </tr>\n",
       "    <tr>\n",
       "      <th>KMeans</th>\n",
       "      <td>0.200988</td>\n",
       "      <td>0.060978</td>\n",
       "      <td>2.0</td>\n",
       "      <td>2.0</td>\n",
       "      <td>2.00</td>\n",
       "      <td>421.863799</td>\n",
       "      <td>23.231615</td>\n",
       "      <td>2065.8152</td>\n",
       "      <td>4.504178</td>\n",
       "      <td>1000.0</td>\n",
       "      <td>...</td>\n",
       "      <td>1000.0</td>\n",
       "      <td>1</td>\n",
       "      <td>10.0</td>\n",
       "      <td>1</td>\n",
       "      <td>0.5</td>\n",
       "      <td>1</td>\n",
       "      <td>5.0</td>\n",
       "      <td>1</td>\n",
       "      <td>4.5</td>\n",
       "      <td>10</td>\n",
       "    </tr>\n",
       "    <tr>\n",
       "      <th>OPTICS</th>\n",
       "      <td>0.399327</td>\n",
       "      <td>0.344323</td>\n",
       "      <td>2.5</td>\n",
       "      <td>2.0</td>\n",
       "      <td>4.50</td>\n",
       "      <td>193.670200</td>\n",
       "      <td>4.669891</td>\n",
       "      <td>2067.3468</td>\n",
       "      <td>1.081793</td>\n",
       "      <td>1000.0</td>\n",
       "      <td>...</td>\n",
       "      <td>1000.0</td>\n",
       "      <td>1</td>\n",
       "      <td>10.0</td>\n",
       "      <td>1</td>\n",
       "      <td>0.5</td>\n",
       "      <td>1</td>\n",
       "      <td>5.0</td>\n",
       "      <td>1</td>\n",
       "      <td>4.5</td>\n",
       "      <td>10</td>\n",
       "    </tr>\n",
       "    <tr>\n",
       "      <th>RecursiveClustering</th>\n",
       "      <td>0.433655</td>\n",
       "      <td>0.230195</td>\n",
       "      <td>4.0</td>\n",
       "      <td>3.0</td>\n",
       "      <td>4.75</td>\n",
       "      <td>2390.756949</td>\n",
       "      <td>168.434082</td>\n",
       "      <td>2078.1840</td>\n",
       "      <td>2.627123</td>\n",
       "      <td>1000.0</td>\n",
       "      <td>...</td>\n",
       "      <td>1000.0</td>\n",
       "      <td>1</td>\n",
       "      <td>10.0</td>\n",
       "      <td>1</td>\n",
       "      <td>0.5</td>\n",
       "      <td>1</td>\n",
       "      <td>5.0</td>\n",
       "      <td>1</td>\n",
       "      <td>4.5</td>\n",
       "      <td>10</td>\n",
       "    </tr>\n",
       "    <tr>\n",
       "      <th>SpectralSubspaceRandomization</th>\n",
       "      <td>0.915287</td>\n",
       "      <td>0.202475</td>\n",
       "      <td>5.0</td>\n",
       "      <td>5.0</td>\n",
       "      <td>5.00</td>\n",
       "      <td>3650.157271</td>\n",
       "      <td>473.980725</td>\n",
       "      <td>1103.1100</td>\n",
       "      <td>4.184572</td>\n",
       "      <td>1000.0</td>\n",
       "      <td>...</td>\n",
       "      <td>1000.0</td>\n",
       "      <td>1</td>\n",
       "      <td>10.0</td>\n",
       "      <td>1</td>\n",
       "      <td>0.5</td>\n",
       "      <td>1</td>\n",
       "      <td>5.0</td>\n",
       "      <td>1</td>\n",
       "      <td>4.5</td>\n",
       "      <td>10</td>\n",
       "    </tr>\n",
       "    <tr>\n",
       "      <th>WardAgglomerativeClustering</th>\n",
       "      <td>0.494884</td>\n",
       "      <td>0.296377</td>\n",
       "      <td>2.0</td>\n",
       "      <td>2.0</td>\n",
       "      <td>4.25</td>\n",
       "      <td>250.402186</td>\n",
       "      <td>13.845500</td>\n",
       "      <td>2058.1964</td>\n",
       "      <td>2.105722</td>\n",
       "      <td>1000.0</td>\n",
       "      <td>...</td>\n",
       "      <td>1000.0</td>\n",
       "      <td>1</td>\n",
       "      <td>10.0</td>\n",
       "      <td>1</td>\n",
       "      <td>0.5</td>\n",
       "      <td>1</td>\n",
       "      <td>5.0</td>\n",
       "      <td>1</td>\n",
       "      <td>4.5</td>\n",
       "      <td>10</td>\n",
       "    </tr>\n",
       "  </tbody>\n",
       "</table>\n",
       "<p>8 rows × 21 columns</p>\n",
       "</div>"
      ]
     },
     "execution_count": 127,
     "metadata": {},
     "output_type": "execute_result"
    }
   ],
   "execution_count": 127
  },
  {
   "cell_type": "markdown",
   "id": "479c0c52a51f730b",
   "metadata": {},
   "source": [
    "# With filling values"
   ]
  },
  {
   "cell_type": "code",
   "id": "a6b9ed6a05e8ef50",
   "metadata": {
    "ExecuteTime": {
     "end_time": "2025-01-17T16:41:48.527101Z",
     "start_time": "2025-01-17T16:41:48.490316Z"
    }
   },
   "source": [
    "non_duplicate_columns = [\n",
    "    'model_nickname',\n",
    "    'n_samples',\n",
    "    'n_features',\n",
    "    'pct_random',\n",
    "    'seed_unified',\n",
    "    'class_sep',\n",
    "    'n_random',\n",
    "    'n_informative',\n",
    "    'n_classes'\n",
    "]\n",
    "df_runs_parents_fill = df_runs_raw_parents.dropna(axis=0, how='all', subset=['best_adjusted_rand']).copy()\n",
    "df_runs_parents_fill = df_runs_parents_fill.loc[(~df_runs_parents_fill.duplicated(non_duplicate_columns))]"
   ],
   "outputs": [],
   "execution_count": 128
  },
  {
   "cell_type": "code",
   "id": "99f2c3d39f18873a",
   "metadata": {
    "ExecuteTime": {
     "end_time": "2025-01-17T16:41:48.686042Z",
     "start_time": "2025-01-17T16:41:48.683238Z"
    }
   },
   "source": [
    "# for the moment, I did not manage to run HDBSCAN and SpectralSubspaceRandomization with samples >= 10000, so we will fill these values for the moment as \"no run\" and we will see later\n",
    "status = 'FAILED'\n",
    "no_run_time = np.inf\n",
    "no_run_memory = np.inf\n",
    "no_run_metric = np.nan\n",
    "raised_exception = True\n",
    "EXCEPTION = 'NoRun'\n",
    "start_time = time.time() * 1000\n",
    "end_time = time.time() * 1000"
   ],
   "outputs": [],
   "execution_count": 129
  },
  {
   "cell_type": "code",
   "id": "844d9c25e9f65065",
   "metadata": {
    "ExecuteTime": {
     "end_time": "2025-01-17T16:41:48.936596Z",
     "start_time": "2025-01-17T16:41:48.916764Z"
    }
   },
   "source": [
    "model_nickname = 'HDBSCAN'\n",
    "n_samples = ['10000']\n",
    "n_features = ['100', '1000', '10000']\n",
    "pct_random = ['0.0', '0.2', '0.5', '0.7']\n",
    "seed_unified = [f'{i}' for i in range(10)]\n",
    "class_sep = ['10.0', '100.0', '50.0']\n",
    "n_classes = 5\n",
    "combinations = list(product(n_samples, n_features, pct_random, seed_unified, class_sep))\n",
    "df_cat = []\n",
    "indexes = []\n",
    "for n_sample, n_feature, pct_r, seed, class_s in combinations:\n",
    "    df = {}\n",
    "    index = f'{model_nickname}_{n_sample}_{n_feature}'\n",
    "    df['status'] = status\n",
    "    df['start_time'] = start_time\n",
    "    df['end_time'] = end_time\n",
    "    df['model_nickname'] = model_nickname\n",
    "    df['n_classes'] = n_classes\n",
    "    df['n_features'] = n_feature\n",
    "    df['n_samples'] = n_sample\n",
    "    df['pct_random'] = pct_r\n",
    "    df['seed_unified'] = seed\n",
    "    df['class_sep'] = class_s\n",
    "    df['fit_model_return_elapsed_time'] = no_run_time\n",
    "    df['max_memory_used'] = no_run_memory\n",
    "    df['best_adjusted_rand'] = no_run_metric\n",
    "    df['best_n_clusters_'] = no_run_metric\n",
    "    df['EXCEPTION'] = EXCEPTION\n",
    "    df['raised_exception'] = raised_exception\n",
    "    df_cat.append(df)\n",
    "    indexes.append(index)\n",
    "df_no_run = pd.DataFrame(df_cat, index=indexes)\n",
    "df_runs_parents_fill = pd.concat([df_runs_parents_fill, df_no_run])"
   ],
   "outputs": [],
   "execution_count": 130
  },
  {
   "cell_type": "code",
   "id": "6c94ed6223adcf64",
   "metadata": {
    "ExecuteTime": {
     "end_time": "2025-01-17T16:41:49.132686Z",
     "start_time": "2025-01-17T16:41:49.117545Z"
    }
   },
   "source": [
    "model_nickname = 'SpectralSubspaceRandomization'\n",
    "n_samples = ['10000']\n",
    "n_features = ['100', '1000', '10000']\n",
    "pct_random = ['0.0', '0.2', '0.5', '0.7']\n",
    "seed_unified = [f'{i}' for i in range(10)]\n",
    "class_sep = ['10.0', '100.0', '50.0']\n",
    "n_classes = 5\n",
    "combinations = list(product(n_samples, n_features, pct_random, seed_unified, class_sep))\n",
    "df_cat = []\n",
    "indexes = []\n",
    "for n_sample, n_feature, pct_r, seed, class_s in combinations:\n",
    "    df = {}\n",
    "    index = f'{model_nickname}_{n_sample}_{n_feature}'\n",
    "    df['status'] = status\n",
    "    df['start_time'] = start_time\n",
    "    df['end_time'] = end_time\n",
    "    df['model_nickname'] = model_nickname\n",
    "    df['n_classes'] = n_classes\n",
    "    df['n_features'] = n_feature\n",
    "    df['n_samples'] = n_sample\n",
    "    df['pct_random'] = pct_r\n",
    "    df['seed_unified'] = seed\n",
    "    df['class_sep'] = class_s\n",
    "    df['fit_model_return_elapsed_time'] = no_run_time\n",
    "    df['max_memory_used'] = no_run_memory\n",
    "    df['best_adjusted_rand'] = no_run_metric\n",
    "    df['best_n_clusters_'] = no_run_metric\n",
    "    df['EXCEPTION'] = EXCEPTION\n",
    "    df['raised_exception'] = raised_exception\n",
    "    df_cat.append(df)\n",
    "    indexes.append(index)\n",
    "df_no_run = pd.DataFrame(df_cat, index=indexes)\n",
    "df_runs_parents_fill = pd.concat([df_runs_parents_fill, df_no_run])"
   ],
   "outputs": [],
   "execution_count": 131
  },
  {
   "cell_type": "code",
   "id": "4510ab87b065d8b4",
   "metadata": {
    "ExecuteTime": {
     "end_time": "2025-01-17T16:41:49.306562Z",
     "start_time": "2025-01-17T16:41:49.276666Z"
    }
   },
   "source": [
    "# ensure no duplicates\n",
    "df_runs_parents_fill = df_runs_parents_fill.loc[(~df_runs_parents_fill.duplicated(non_duplicate_columns))]"
   ],
   "outputs": [],
   "execution_count": 132
  },
  {
   "cell_type": "markdown",
   "id": "a5abcfebd1fc02e4",
   "metadata": {},
   "source": [
    "# Missing"
   ]
  },
  {
   "cell_type": "code",
   "id": "62031fdcd17521b7",
   "metadata": {
    "ExecuteTime": {
     "end_time": "2025-01-17T16:41:49.541596Z",
     "start_time": "2025-01-17T16:41:49.536203Z"
    }
   },
   "source": [
    "df_runs_parents_fill['model_nickname'].unique().tolist()"
   ],
   "outputs": [
    {
     "data": {
      "text/plain": [
       "['AffinityPropagation',\n",
       " 'RecursiveClustering',\n",
       " 'AverageAgglomerativeClustering',\n",
       " 'HDBSCAN',\n",
       " 'DBSCAN',\n",
       " 'KMeansProj',\n",
       " 'OPTICS',\n",
       " 'SpectralSubspaceRandomization',\n",
       " 'Proclus',\n",
       " 'WardAgglomerativeClustering',\n",
       " 'KMeans',\n",
       " 'SingleAgglomerativeClustering',\n",
       " 'SpectralClustering',\n",
       " 'CompleteAgglomerativeClustering',\n",
       " 'IRFLLRR',\n",
       " 'Clique']"
      ]
     },
     "execution_count": 133,
     "metadata": {},
     "output_type": "execute_result"
    }
   ],
   "execution_count": 133
  },
  {
   "cell_type": "code",
   "id": "f8e3ce39c8324c8a",
   "metadata": {
    "ExecuteTime": {
     "end_time": "2025-01-17T16:41:49.668550Z",
     "start_time": "2025-01-17T16:41:49.666063Z"
    }
   },
   "source": [
    "non_duplicate_columns = [\n",
    "    'model_nickname',\n",
    "    'n_samples',\n",
    "    'n_features',\n",
    "    'pct_random',\n",
    "    'seed_unified',\n",
    "    'class_sep',\n",
    "]"
   ],
   "outputs": [],
   "execution_count": 134
  },
  {
   "cell_type": "code",
   "id": "1c0c9d13f7213ae9",
   "metadata": {
    "ExecuteTime": {
     "end_time": "2025-01-17T16:41:49.807930Z",
     "start_time": "2025-01-17T16:41:49.753465Z"
    }
   },
   "source": [
    "df_runs_parents_fill"
   ],
   "outputs": [
    {
     "data": {
      "text/plain": [
       "                                             status    start_time  \\\n",
       "000aaf76d56747d59a35d53ba0fde4a4           FINISHED  1.736981e+12   \n",
       "000b291a142341289479933ddb447488           FINISHED  1.736872e+12   \n",
       "000f29a52641434a9a03ec3951ba12ba           FINISHED  1.736890e+12   \n",
       "00142f7d57c244c2b33da0cfa8480cbf           FINISHED  1.737110e+12   \n",
       "00151ab7956742b391a46ebbc769a9ff           FINISHED  1.737069e+12   \n",
       "...                                             ...           ...   \n",
       "SpectralSubspaceRandomization_10000_10000    FAILED  1.737132e+12   \n",
       "SpectralSubspaceRandomization_10000_10000    FAILED  1.737132e+12   \n",
       "SpectralSubspaceRandomization_10000_10000    FAILED  1.737132e+12   \n",
       "SpectralSubspaceRandomization_10000_10000    FAILED  1.737132e+12   \n",
       "SpectralSubspaceRandomization_10000_10000    FAILED  1.737132e+12   \n",
       "\n",
       "                                               end_time class_sep  \\\n",
       "000aaf76d56747d59a35d53ba0fde4a4           1.736985e+12      50.0   \n",
       "000b291a142341289479933ddb447488           1.736877e+12      50.0   \n",
       "000f29a52641434a9a03ec3951ba12ba           1.736911e+12      50.0   \n",
       "00142f7d57c244c2b33da0cfa8480cbf           1.737119e+12      50.0   \n",
       "00151ab7956742b391a46ebbc769a9ff           1.737078e+12      50.0   \n",
       "...                                                 ...       ...   \n",
       "SpectralSubspaceRandomization_10000_10000  1.737132e+12     100.0   \n",
       "SpectralSubspaceRandomization_10000_10000  1.737132e+12      50.0   \n",
       "SpectralSubspaceRandomization_10000_10000  1.737132e+12      10.0   \n",
       "SpectralSubspaceRandomization_10000_10000  1.737132e+12     100.0   \n",
       "SpectralSubspaceRandomization_10000_10000  1.737132e+12      50.0   \n",
       "\n",
       "                                                           model_nickname  \\\n",
       "000aaf76d56747d59a35d53ba0fde4a4                      AffinityPropagation   \n",
       "000b291a142341289479933ddb447488                      RecursiveClustering   \n",
       "000f29a52641434a9a03ec3951ba12ba           AverageAgglomerativeClustering   \n",
       "00142f7d57c244c2b33da0cfa8480cbf                                  HDBSCAN   \n",
       "00151ab7956742b391a46ebbc769a9ff                                   DBSCAN   \n",
       "...                                                                   ...   \n",
       "SpectralSubspaceRandomization_10000_10000   SpectralSubspaceRandomization   \n",
       "SpectralSubspaceRandomization_10000_10000   SpectralSubspaceRandomization   \n",
       "SpectralSubspaceRandomization_10000_10000   SpectralSubspaceRandomization   \n",
       "SpectralSubspaceRandomization_10000_10000   SpectralSubspaceRandomization   \n",
       "SpectralSubspaceRandomization_10000_10000   SpectralSubspaceRandomization   \n",
       "\n",
       "                                          n_classes n_features n_informative  \\\n",
       "000aaf76d56747d59a35d53ba0fde4a4                  5      10000             2   \n",
       "000b291a142341289479933ddb447488                  5      10000             2   \n",
       "000f29a52641434a9a03ec3951ba12ba                  5      10000             2   \n",
       "00142f7d57c244c2b33da0cfa8480cbf                  5      10000             2   \n",
       "00151ab7956742b391a46ebbc769a9ff                  5        100             2   \n",
       "...                                             ...        ...           ...   \n",
       "SpectralSubspaceRandomization_10000_10000         5      10000           NaN   \n",
       "SpectralSubspaceRandomization_10000_10000         5      10000           NaN   \n",
       "SpectralSubspaceRandomization_10000_10000         5      10000           NaN   \n",
       "SpectralSubspaceRandomization_10000_10000         5      10000           NaN   \n",
       "SpectralSubspaceRandomization_10000_10000         5      10000           NaN   \n",
       "\n",
       "                                          n_random n_samples  ...  \\\n",
       "000aaf76d56747d59a35d53ba0fde4a4                16       100  ...   \n",
       "000b291a142341289479933ddb447488                16      1000  ...   \n",
       "000f29a52641434a9a03ec3951ba12ba                16     10000  ...   \n",
       "00142f7d57c244c2b33da0cfa8480cbf                16       100  ...   \n",
       "00151ab7956742b391a46ebbc769a9ff                16     10000  ...   \n",
       "...                                            ...       ...  ...   \n",
       "SpectralSubspaceRandomization_10000_10000      NaN     10000  ...   \n",
       "SpectralSubspaceRandomization_10000_10000      NaN     10000  ...   \n",
       "SpectralSubspaceRandomization_10000_10000      NaN     10000  ...   \n",
       "SpectralSubspaceRandomization_10000_10000      NaN     10000  ...   \n",
       "SpectralSubspaceRandomization_10000_10000      NaN     10000  ...   \n",
       "\n",
       "                                          max_memory_used mutual_info  \\\n",
       "000aaf76d56747d59a35d53ba0fde4a4                 2000.884    1.609438   \n",
       "000b291a142341289479933ddb447488                 1156.568    1.609438   \n",
       "000f29a52641434a9a03ec3951ba12ba                 1941.040    1.608578   \n",
       "00142f7d57c244c2b33da0cfa8480cbf                 1982.980    1.609438   \n",
       "00151ab7956742b391a46ebbc769a9ff                 1611.760    1.606954   \n",
       "...                                                   ...         ...   \n",
       "SpectralSubspaceRandomization_10000_10000             inf         NaN   \n",
       "SpectralSubspaceRandomization_10000_10000             inf         NaN   \n",
       "SpectralSubspaceRandomization_10000_10000             inf         NaN   \n",
       "SpectralSubspaceRandomization_10000_10000             inf         NaN   \n",
       "SpectralSubspaceRandomization_10000_10000             inf         NaN   \n",
       "\n",
       "                                           n_clusters_  \\\n",
       "000aaf76d56747d59a35d53ba0fde4a4                  10.0   \n",
       "000b291a142341289479933ddb447488                 577.0   \n",
       "000f29a52641434a9a03ec3951ba12ba                   8.0   \n",
       "00142f7d57c244c2b33da0cfa8480cbf                   5.0   \n",
       "00151ab7956742b391a46ebbc769a9ff                   6.0   \n",
       "...                                                ...   \n",
       "SpectralSubspaceRandomization_10000_10000          NaN   \n",
       "SpectralSubspaceRandomization_10000_10000          NaN   \n",
       "SpectralSubspaceRandomization_10000_10000          NaN   \n",
       "SpectralSubspaceRandomization_10000_10000          NaN   \n",
       "SpectralSubspaceRandomization_10000_10000          NaN   \n",
       "\n",
       "                                           normalized_mutual_info  rand_score  \\\n",
       "000aaf76d56747d59a35d53ba0fde4a4                         0.837703    0.912525   \n",
       "000b291a142341289479933ddb447488                         0.425927    0.806024   \n",
       "000f29a52641434a9a03ec3951ba12ba                         0.997419    0.999561   \n",
       "00142f7d57c244c2b33da0cfa8480cbf                         1.000000    1.000000   \n",
       "00151ab7956742b391a46ebbc769a9ff                         0.995135    0.999239   \n",
       "...                                                           ...         ...   \n",
       "SpectralSubspaceRandomization_10000_10000                     NaN         NaN   \n",
       "SpectralSubspaceRandomization_10000_10000                     NaN         NaN   \n",
       "SpectralSubspaceRandomization_10000_10000                     NaN         NaN   \n",
       "SpectralSubspaceRandomization_10000_10000                     NaN         NaN   \n",
       "SpectralSubspaceRandomization_10000_10000                     NaN         NaN   \n",
       "\n",
       "                                           silhouette  EXCEPTION  \\\n",
       "000aaf76d56747d59a35d53ba0fde4a4             0.165996        NaN   \n",
       "000b291a142341289479933ddb447488            -0.104928        NaN   \n",
       "000f29a52641434a9a03ec3951ba12ba             0.283838        NaN   \n",
       "00142f7d57c244c2b33da0cfa8480cbf             0.410559        NaN   \n",
       "00151ab7956742b391a46ebbc769a9ff             0.906276        NaN   \n",
       "...                                               ...        ...   \n",
       "SpectralSubspaceRandomization_10000_10000         NaN      NoRun   \n",
       "SpectralSubspaceRandomization_10000_10000         NaN      NoRun   \n",
       "SpectralSubspaceRandomization_10000_10000         NaN      NoRun   \n",
       "SpectralSubspaceRandomization_10000_10000         NaN      NoRun   \n",
       "SpectralSubspaceRandomization_10000_10000         NaN      NoRun   \n",
       "\n",
       "                                                          best_child_run_id  \\\n",
       "000aaf76d56747d59a35d53ba0fde4a4           20b7f8404daf40f0b2c5d0bd9f3730db   \n",
       "000b291a142341289479933ddb447488           e62023cb27d941dd8b9683eaef947ccc   \n",
       "000f29a52641434a9a03ec3951ba12ba           8e0a1045c9474ca5925d553aa6030f20   \n",
       "00142f7d57c244c2b33da0cfa8480cbf           3196639866e543c0beba6df8434456b6   \n",
       "00151ab7956742b391a46ebbc769a9ff           830e0db68eb041c1b24fe960ac07e499   \n",
       "...                                                                     ...   \n",
       "SpectralSubspaceRandomization_10000_10000                               NaN   \n",
       "SpectralSubspaceRandomization_10000_10000                               NaN   \n",
       "SpectralSubspaceRandomization_10000_10000                               NaN   \n",
       "SpectralSubspaceRandomization_10000_10000                               NaN   \n",
       "SpectralSubspaceRandomization_10000_10000                               NaN   \n",
       "\n",
       "                                           parent_run_id  raised_exception  \n",
       "000aaf76d56747d59a35d53ba0fde4a4                     NaN             False  \n",
       "000b291a142341289479933ddb447488                     NaN             False  \n",
       "000f29a52641434a9a03ec3951ba12ba                     NaN             False  \n",
       "00142f7d57c244c2b33da0cfa8480cbf                     NaN             False  \n",
       "00151ab7956742b391a46ebbc769a9ff                     NaN             False  \n",
       "...                                                  ...               ...  \n",
       "SpectralSubspaceRandomization_10000_10000            NaN              True  \n",
       "SpectralSubspaceRandomization_10000_10000            NaN              True  \n",
       "SpectralSubspaceRandomization_10000_10000            NaN              True  \n",
       "SpectralSubspaceRandomization_10000_10000            NaN              True  \n",
       "SpectralSubspaceRandomization_10000_10000            NaN              True  \n",
       "\n",
       "[13000 rows x 32 columns]"
      ],
      "text/html": [
       "<div>\n",
       "<style scoped>\n",
       "    .dataframe tbody tr th:only-of-type {\n",
       "        vertical-align: middle;\n",
       "    }\n",
       "\n",
       "    .dataframe tbody tr th {\n",
       "        vertical-align: top;\n",
       "    }\n",
       "\n",
       "    .dataframe thead th {\n",
       "        text-align: right;\n",
       "    }\n",
       "</style>\n",
       "<table border=\"1\" class=\"dataframe\">\n",
       "  <thead>\n",
       "    <tr style=\"text-align: right;\">\n",
       "      <th></th>\n",
       "      <th>status</th>\n",
       "      <th>start_time</th>\n",
       "      <th>end_time</th>\n",
       "      <th>class_sep</th>\n",
       "      <th>model_nickname</th>\n",
       "      <th>n_classes</th>\n",
       "      <th>n_features</th>\n",
       "      <th>n_informative</th>\n",
       "      <th>n_random</th>\n",
       "      <th>n_samples</th>\n",
       "      <th>...</th>\n",
       "      <th>max_memory_used</th>\n",
       "      <th>mutual_info</th>\n",
       "      <th>n_clusters_</th>\n",
       "      <th>normalized_mutual_info</th>\n",
       "      <th>rand_score</th>\n",
       "      <th>silhouette</th>\n",
       "      <th>EXCEPTION</th>\n",
       "      <th>best_child_run_id</th>\n",
       "      <th>parent_run_id</th>\n",
       "      <th>raised_exception</th>\n",
       "    </tr>\n",
       "  </thead>\n",
       "  <tbody>\n",
       "    <tr>\n",
       "      <th>000aaf76d56747d59a35d53ba0fde4a4</th>\n",
       "      <td>FINISHED</td>\n",
       "      <td>1.736981e+12</td>\n",
       "      <td>1.736985e+12</td>\n",
       "      <td>50.0</td>\n",
       "      <td>AffinityPropagation</td>\n",
       "      <td>5</td>\n",
       "      <td>10000</td>\n",
       "      <td>2</td>\n",
       "      <td>16</td>\n",
       "      <td>100</td>\n",
       "      <td>...</td>\n",
       "      <td>2000.884</td>\n",
       "      <td>1.609438</td>\n",
       "      <td>10.0</td>\n",
       "      <td>0.837703</td>\n",
       "      <td>0.912525</td>\n",
       "      <td>0.165996</td>\n",
       "      <td>NaN</td>\n",
       "      <td>20b7f8404daf40f0b2c5d0bd9f3730db</td>\n",
       "      <td>NaN</td>\n",
       "      <td>False</td>\n",
       "    </tr>\n",
       "    <tr>\n",
       "      <th>000b291a142341289479933ddb447488</th>\n",
       "      <td>FINISHED</td>\n",
       "      <td>1.736872e+12</td>\n",
       "      <td>1.736877e+12</td>\n",
       "      <td>50.0</td>\n",
       "      <td>RecursiveClustering</td>\n",
       "      <td>5</td>\n",
       "      <td>10000</td>\n",
       "      <td>2</td>\n",
       "      <td>16</td>\n",
       "      <td>1000</td>\n",
       "      <td>...</td>\n",
       "      <td>1156.568</td>\n",
       "      <td>1.609438</td>\n",
       "      <td>577.0</td>\n",
       "      <td>0.425927</td>\n",
       "      <td>0.806024</td>\n",
       "      <td>-0.104928</td>\n",
       "      <td>NaN</td>\n",
       "      <td>e62023cb27d941dd8b9683eaef947ccc</td>\n",
       "      <td>NaN</td>\n",
       "      <td>False</td>\n",
       "    </tr>\n",
       "    <tr>\n",
       "      <th>000f29a52641434a9a03ec3951ba12ba</th>\n",
       "      <td>FINISHED</td>\n",
       "      <td>1.736890e+12</td>\n",
       "      <td>1.736911e+12</td>\n",
       "      <td>50.0</td>\n",
       "      <td>AverageAgglomerativeClustering</td>\n",
       "      <td>5</td>\n",
       "      <td>10000</td>\n",
       "      <td>2</td>\n",
       "      <td>16</td>\n",
       "      <td>10000</td>\n",
       "      <td>...</td>\n",
       "      <td>1941.040</td>\n",
       "      <td>1.608578</td>\n",
       "      <td>8.0</td>\n",
       "      <td>0.997419</td>\n",
       "      <td>0.999561</td>\n",
       "      <td>0.283838</td>\n",
       "      <td>NaN</td>\n",
       "      <td>8e0a1045c9474ca5925d553aa6030f20</td>\n",
       "      <td>NaN</td>\n",
       "      <td>False</td>\n",
       "    </tr>\n",
       "    <tr>\n",
       "      <th>00142f7d57c244c2b33da0cfa8480cbf</th>\n",
       "      <td>FINISHED</td>\n",
       "      <td>1.737110e+12</td>\n",
       "      <td>1.737119e+12</td>\n",
       "      <td>50.0</td>\n",
       "      <td>HDBSCAN</td>\n",
       "      <td>5</td>\n",
       "      <td>10000</td>\n",
       "      <td>2</td>\n",
       "      <td>16</td>\n",
       "      <td>100</td>\n",
       "      <td>...</td>\n",
       "      <td>1982.980</td>\n",
       "      <td>1.609438</td>\n",
       "      <td>5.0</td>\n",
       "      <td>1.000000</td>\n",
       "      <td>1.000000</td>\n",
       "      <td>0.410559</td>\n",
       "      <td>NaN</td>\n",
       "      <td>3196639866e543c0beba6df8434456b6</td>\n",
       "      <td>NaN</td>\n",
       "      <td>False</td>\n",
       "    </tr>\n",
       "    <tr>\n",
       "      <th>00151ab7956742b391a46ebbc769a9ff</th>\n",
       "      <td>FINISHED</td>\n",
       "      <td>1.737069e+12</td>\n",
       "      <td>1.737078e+12</td>\n",
       "      <td>50.0</td>\n",
       "      <td>DBSCAN</td>\n",
       "      <td>5</td>\n",
       "      <td>100</td>\n",
       "      <td>2</td>\n",
       "      <td>16</td>\n",
       "      <td>10000</td>\n",
       "      <td>...</td>\n",
       "      <td>1611.760</td>\n",
       "      <td>1.606954</td>\n",
       "      <td>6.0</td>\n",
       "      <td>0.995135</td>\n",
       "      <td>0.999239</td>\n",
       "      <td>0.906276</td>\n",
       "      <td>NaN</td>\n",
       "      <td>830e0db68eb041c1b24fe960ac07e499</td>\n",
       "      <td>NaN</td>\n",
       "      <td>False</td>\n",
       "    </tr>\n",
       "    <tr>\n",
       "      <th>...</th>\n",
       "      <td>...</td>\n",
       "      <td>...</td>\n",
       "      <td>...</td>\n",
       "      <td>...</td>\n",
       "      <td>...</td>\n",
       "      <td>...</td>\n",
       "      <td>...</td>\n",
       "      <td>...</td>\n",
       "      <td>...</td>\n",
       "      <td>...</td>\n",
       "      <td>...</td>\n",
       "      <td>...</td>\n",
       "      <td>...</td>\n",
       "      <td>...</td>\n",
       "      <td>...</td>\n",
       "      <td>...</td>\n",
       "      <td>...</td>\n",
       "      <td>...</td>\n",
       "      <td>...</td>\n",
       "      <td>...</td>\n",
       "      <td>...</td>\n",
       "    </tr>\n",
       "    <tr>\n",
       "      <th>SpectralSubspaceRandomization_10000_10000</th>\n",
       "      <td>FAILED</td>\n",
       "      <td>1.737132e+12</td>\n",
       "      <td>1.737132e+12</td>\n",
       "      <td>100.0</td>\n",
       "      <td>SpectralSubspaceRandomization</td>\n",
       "      <td>5</td>\n",
       "      <td>10000</td>\n",
       "      <td>NaN</td>\n",
       "      <td>NaN</td>\n",
       "      <td>10000</td>\n",
       "      <td>...</td>\n",
       "      <td>inf</td>\n",
       "      <td>NaN</td>\n",
       "      <td>NaN</td>\n",
       "      <td>NaN</td>\n",
       "      <td>NaN</td>\n",
       "      <td>NaN</td>\n",
       "      <td>NoRun</td>\n",
       "      <td>NaN</td>\n",
       "      <td>NaN</td>\n",
       "      <td>True</td>\n",
       "    </tr>\n",
       "    <tr>\n",
       "      <th>SpectralSubspaceRandomization_10000_10000</th>\n",
       "      <td>FAILED</td>\n",
       "      <td>1.737132e+12</td>\n",
       "      <td>1.737132e+12</td>\n",
       "      <td>50.0</td>\n",
       "      <td>SpectralSubspaceRandomization</td>\n",
       "      <td>5</td>\n",
       "      <td>10000</td>\n",
       "      <td>NaN</td>\n",
       "      <td>NaN</td>\n",
       "      <td>10000</td>\n",
       "      <td>...</td>\n",
       "      <td>inf</td>\n",
       "      <td>NaN</td>\n",
       "      <td>NaN</td>\n",
       "      <td>NaN</td>\n",
       "      <td>NaN</td>\n",
       "      <td>NaN</td>\n",
       "      <td>NoRun</td>\n",
       "      <td>NaN</td>\n",
       "      <td>NaN</td>\n",
       "      <td>True</td>\n",
       "    </tr>\n",
       "    <tr>\n",
       "      <th>SpectralSubspaceRandomization_10000_10000</th>\n",
       "      <td>FAILED</td>\n",
       "      <td>1.737132e+12</td>\n",
       "      <td>1.737132e+12</td>\n",
       "      <td>10.0</td>\n",
       "      <td>SpectralSubspaceRandomization</td>\n",
       "      <td>5</td>\n",
       "      <td>10000</td>\n",
       "      <td>NaN</td>\n",
       "      <td>NaN</td>\n",
       "      <td>10000</td>\n",
       "      <td>...</td>\n",
       "      <td>inf</td>\n",
       "      <td>NaN</td>\n",
       "      <td>NaN</td>\n",
       "      <td>NaN</td>\n",
       "      <td>NaN</td>\n",
       "      <td>NaN</td>\n",
       "      <td>NoRun</td>\n",
       "      <td>NaN</td>\n",
       "      <td>NaN</td>\n",
       "      <td>True</td>\n",
       "    </tr>\n",
       "    <tr>\n",
       "      <th>SpectralSubspaceRandomization_10000_10000</th>\n",
       "      <td>FAILED</td>\n",
       "      <td>1.737132e+12</td>\n",
       "      <td>1.737132e+12</td>\n",
       "      <td>100.0</td>\n",
       "      <td>SpectralSubspaceRandomization</td>\n",
       "      <td>5</td>\n",
       "      <td>10000</td>\n",
       "      <td>NaN</td>\n",
       "      <td>NaN</td>\n",
       "      <td>10000</td>\n",
       "      <td>...</td>\n",
       "      <td>inf</td>\n",
       "      <td>NaN</td>\n",
       "      <td>NaN</td>\n",
       "      <td>NaN</td>\n",
       "      <td>NaN</td>\n",
       "      <td>NaN</td>\n",
       "      <td>NoRun</td>\n",
       "      <td>NaN</td>\n",
       "      <td>NaN</td>\n",
       "      <td>True</td>\n",
       "    </tr>\n",
       "    <tr>\n",
       "      <th>SpectralSubspaceRandomization_10000_10000</th>\n",
       "      <td>FAILED</td>\n",
       "      <td>1.737132e+12</td>\n",
       "      <td>1.737132e+12</td>\n",
       "      <td>50.0</td>\n",
       "      <td>SpectralSubspaceRandomization</td>\n",
       "      <td>5</td>\n",
       "      <td>10000</td>\n",
       "      <td>NaN</td>\n",
       "      <td>NaN</td>\n",
       "      <td>10000</td>\n",
       "      <td>...</td>\n",
       "      <td>inf</td>\n",
       "      <td>NaN</td>\n",
       "      <td>NaN</td>\n",
       "      <td>NaN</td>\n",
       "      <td>NaN</td>\n",
       "      <td>NaN</td>\n",
       "      <td>NoRun</td>\n",
       "      <td>NaN</td>\n",
       "      <td>NaN</td>\n",
       "      <td>True</td>\n",
       "    </tr>\n",
       "  </tbody>\n",
       "</table>\n",
       "<p>13000 rows × 32 columns</p>\n",
       "</div>"
      ]
     },
     "execution_count": 135,
     "metadata": {},
     "output_type": "execute_result"
    }
   ],
   "execution_count": 135
  },
  {
   "cell_type": "code",
   "id": "c5ebaaffc8e1f983",
   "metadata": {
    "ExecuteTime": {
     "end_time": "2025-01-17T16:41:49.934724Z",
     "start_time": "2025-01-17T16:41:49.892818Z"
    }
   },
   "source": [
    "n_samples = ['100', '1000', '10000']\n",
    "n_features = ['100', '1000', '10000']\n",
    "pct_random = ['0.0', '0.2', '0.5', '0.7']\n",
    "seed_unified = [f'{i}' for i in range(1)]\n",
    "class_sep = ['10.0', '100.0']\n",
    "model_nickname = [\n",
    "    # 'KMeansProj',\n",
    "    # 'IRFLLRR',\n",
    "    # 'Clique',\n",
    "    'HDBSCAN',\n",
    "    'SpectralSubspaceRandomization',\n",
    "    'SingleAgglomerativeClustering',\n",
    "    'SpectralClustering',\n",
    "    'RecursiveClustering',\n",
    "    'OPTICS',\n",
    "    'Proclus',\n",
    "    'WardAgglomerativeClustering',\n",
    "    'KMeans',\n",
    "    'DBSCAN',\n",
    "    'CompleteAgglomerativeClustering',\n",
    "    'AverageAgglomerativeClustering',\n",
    "    'AffinityPropagation'\n",
    "]\n",
    "columns_names = non_duplicate_columns\n",
    "should_contain_values = [model_nickname, n_samples, n_features, pct_random, seed_unified, class_sep]\n",
    "df_missing = get_missing_entries(df_runs_parents_fill, columns_names, should_contain_values)"
   ],
   "outputs": [],
   "execution_count": 136
  },
  {
   "cell_type": "code",
   "id": "1854e318a8eb98e3",
   "metadata": {
    "ExecuteTime": {
     "end_time": "2025-01-17T16:41:49.978083Z",
     "start_time": "2025-01-17T16:41:49.971325Z"
    }
   },
   "source": [
    "df_missing"
   ],
   "outputs": [
    {
     "data": {
      "text/plain": [
       "                   model_nickname n_samples n_features pct_random  \\\n",
       "0   SingleAgglomerativeClustering     10000      10000        0.0   \n",
       "1   SingleAgglomerativeClustering     10000      10000        0.0   \n",
       "2   SingleAgglomerativeClustering     10000      10000        0.2   \n",
       "3   SingleAgglomerativeClustering     10000      10000        0.2   \n",
       "4   SingleAgglomerativeClustering     10000      10000        0.5   \n",
       "5   SingleAgglomerativeClustering     10000      10000        0.5   \n",
       "6   SingleAgglomerativeClustering     10000      10000        0.7   \n",
       "7   SingleAgglomerativeClustering     10000      10000        0.7   \n",
       "8              SpectralClustering     10000        100        0.5   \n",
       "9              SpectralClustering     10000        100        0.5   \n",
       "10             SpectralClustering     10000        100        0.7   \n",
       "11             SpectralClustering     10000        100        0.7   \n",
       "\n",
       "   seed_unified class_sep  \n",
       "0             0      10.0  \n",
       "1             0     100.0  \n",
       "2             0      10.0  \n",
       "3             0     100.0  \n",
       "4             0      10.0  \n",
       "5             0     100.0  \n",
       "6             0      10.0  \n",
       "7             0     100.0  \n",
       "8             0      10.0  \n",
       "9             0     100.0  \n",
       "10            0      10.0  \n",
       "11            0     100.0  "
      ],
      "text/html": [
       "<div>\n",
       "<style scoped>\n",
       "    .dataframe tbody tr th:only-of-type {\n",
       "        vertical-align: middle;\n",
       "    }\n",
       "\n",
       "    .dataframe tbody tr th {\n",
       "        vertical-align: top;\n",
       "    }\n",
       "\n",
       "    .dataframe thead th {\n",
       "        text-align: right;\n",
       "    }\n",
       "</style>\n",
       "<table border=\"1\" class=\"dataframe\">\n",
       "  <thead>\n",
       "    <tr style=\"text-align: right;\">\n",
       "      <th></th>\n",
       "      <th>model_nickname</th>\n",
       "      <th>n_samples</th>\n",
       "      <th>n_features</th>\n",
       "      <th>pct_random</th>\n",
       "      <th>seed_unified</th>\n",
       "      <th>class_sep</th>\n",
       "    </tr>\n",
       "  </thead>\n",
       "  <tbody>\n",
       "    <tr>\n",
       "      <th>0</th>\n",
       "      <td>SingleAgglomerativeClustering</td>\n",
       "      <td>10000</td>\n",
       "      <td>10000</td>\n",
       "      <td>0.0</td>\n",
       "      <td>0</td>\n",
       "      <td>10.0</td>\n",
       "    </tr>\n",
       "    <tr>\n",
       "      <th>1</th>\n",
       "      <td>SingleAgglomerativeClustering</td>\n",
       "      <td>10000</td>\n",
       "      <td>10000</td>\n",
       "      <td>0.0</td>\n",
       "      <td>0</td>\n",
       "      <td>100.0</td>\n",
       "    </tr>\n",
       "    <tr>\n",
       "      <th>2</th>\n",
       "      <td>SingleAgglomerativeClustering</td>\n",
       "      <td>10000</td>\n",
       "      <td>10000</td>\n",
       "      <td>0.2</td>\n",
       "      <td>0</td>\n",
       "      <td>10.0</td>\n",
       "    </tr>\n",
       "    <tr>\n",
       "      <th>3</th>\n",
       "      <td>SingleAgglomerativeClustering</td>\n",
       "      <td>10000</td>\n",
       "      <td>10000</td>\n",
       "      <td>0.2</td>\n",
       "      <td>0</td>\n",
       "      <td>100.0</td>\n",
       "    </tr>\n",
       "    <tr>\n",
       "      <th>4</th>\n",
       "      <td>SingleAgglomerativeClustering</td>\n",
       "      <td>10000</td>\n",
       "      <td>10000</td>\n",
       "      <td>0.5</td>\n",
       "      <td>0</td>\n",
       "      <td>10.0</td>\n",
       "    </tr>\n",
       "    <tr>\n",
       "      <th>5</th>\n",
       "      <td>SingleAgglomerativeClustering</td>\n",
       "      <td>10000</td>\n",
       "      <td>10000</td>\n",
       "      <td>0.5</td>\n",
       "      <td>0</td>\n",
       "      <td>100.0</td>\n",
       "    </tr>\n",
       "    <tr>\n",
       "      <th>6</th>\n",
       "      <td>SingleAgglomerativeClustering</td>\n",
       "      <td>10000</td>\n",
       "      <td>10000</td>\n",
       "      <td>0.7</td>\n",
       "      <td>0</td>\n",
       "      <td>10.0</td>\n",
       "    </tr>\n",
       "    <tr>\n",
       "      <th>7</th>\n",
       "      <td>SingleAgglomerativeClustering</td>\n",
       "      <td>10000</td>\n",
       "      <td>10000</td>\n",
       "      <td>0.7</td>\n",
       "      <td>0</td>\n",
       "      <td>100.0</td>\n",
       "    </tr>\n",
       "    <tr>\n",
       "      <th>8</th>\n",
       "      <td>SpectralClustering</td>\n",
       "      <td>10000</td>\n",
       "      <td>100</td>\n",
       "      <td>0.5</td>\n",
       "      <td>0</td>\n",
       "      <td>10.0</td>\n",
       "    </tr>\n",
       "    <tr>\n",
       "      <th>9</th>\n",
       "      <td>SpectralClustering</td>\n",
       "      <td>10000</td>\n",
       "      <td>100</td>\n",
       "      <td>0.5</td>\n",
       "      <td>0</td>\n",
       "      <td>100.0</td>\n",
       "    </tr>\n",
       "    <tr>\n",
       "      <th>10</th>\n",
       "      <td>SpectralClustering</td>\n",
       "      <td>10000</td>\n",
       "      <td>100</td>\n",
       "      <td>0.7</td>\n",
       "      <td>0</td>\n",
       "      <td>10.0</td>\n",
       "    </tr>\n",
       "    <tr>\n",
       "      <th>11</th>\n",
       "      <td>SpectralClustering</td>\n",
       "      <td>10000</td>\n",
       "      <td>100</td>\n",
       "      <td>0.7</td>\n",
       "      <td>0</td>\n",
       "      <td>100.0</td>\n",
       "    </tr>\n",
       "  </tbody>\n",
       "</table>\n",
       "</div>"
      ]
     },
     "execution_count": 137,
     "metadata": {},
     "output_type": "execute_result"
    }
   ],
   "execution_count": 137
  },
  {
   "cell_type": "markdown",
   "id": "4f5e4d3d6efdba27",
   "metadata": {},
   "source": [
    "# Get common combinations"
   ]
  },
  {
   "cell_type": "code",
   "id": "bc455163b03116c9",
   "metadata": {
    "ExecuteTime": {
     "end_time": "2025-01-17T16:41:50.097510Z",
     "start_time": "2025-01-17T16:41:50.007007Z"
    }
   },
   "source": [
    "model_nickname = [\n",
    "    # 'KMeansProj',\n",
    "    # 'IRFLLRR',\n",
    "    # 'Clique',\n",
    "    'HDBSCAN',\n",
    "    'SpectralSubspaceRandomization',\n",
    "    # 'SingleAgglomerativeClustering',\n",
    "    # 'SpectralClustering',\n",
    "    'RecursiveClustering',\n",
    "    'OPTICS',\n",
    "    'Proclus',\n",
    "    'WardAgglomerativeClustering',\n",
    "    'KMeans',\n",
    "    'DBSCAN',\n",
    "    'CompleteAgglomerativeClustering',\n",
    "    'AverageAgglomerativeClustering',\n",
    "    'AffinityPropagation'\n",
    "]\n",
    "df = df_runs_parents_fill.copy()\n",
    "df = df.loc[df['model_nickname'].isin(model_nickname)]\n",
    "column = 'model_nickname'\n",
    "combination_columns = [\n",
    "    'n_samples',\n",
    "    'n_features',\n",
    "    'pct_random',\n",
    "    'seed_unified',\n",
    "    'class_sep',\n",
    "]\n",
    "common_combinations = get_common_combinations(df, column, combination_columns)"
   ],
   "outputs": [],
   "execution_count": 138
  },
  {
   "cell_type": "code",
   "id": "b223aeb8ea9ee096",
   "metadata": {
    "ExecuteTime": {
     "end_time": "2025-01-17T16:41:50.195642Z",
     "start_time": "2025-01-17T16:41:50.164561Z"
    }
   },
   "source": [
    "df_common_fill = get_df_with_combinations(df, combination_columns, common_combinations)"
   ],
   "outputs": [],
   "execution_count": 139
  },
  {
   "cell_type": "code",
   "id": "a961d45c9dabfa53",
   "metadata": {
    "ExecuteTime": {
     "end_time": "2025-01-17T16:41:50.231010Z",
     "start_time": "2025-01-17T16:41:50.221575Z"
    }
   },
   "source": [
    "df_common_fill['n_samples'] = df_common_fill['n_samples'].astype(int)\n",
    "df_common_fill['n_features'] = df_common_fill['n_features'].astype(int)\n",
    "df_common_fill['pct_random'] = df_common_fill['pct_random'].astype(float)\n",
    "df_common_fill['class_sep'] = df_common_fill['class_sep'].astype(float)\n",
    "df_common_fill['seed_unified'] = df_common_fill['seed_unified'].astype(int)\n",
    "df_common_fill['n_classes'] = df_common_fill['n_classes'].astype(int)"
   ],
   "outputs": [],
   "execution_count": 140
  },
  {
   "cell_type": "markdown",
   "id": "40e43f60572b79f9",
   "metadata": {},
   "source": [
    "## Plot"
   ]
  },
  {
   "cell_type": "code",
   "id": "b259a01b02f4f532",
   "metadata": {},
   "source": [
    "df = df_common_fill.copy()\n",
    "df = df.loc[df['n_samples'] == 10000]\n",
    "df = df.loc[df['n_features'] == 10000]\n",
    "# df = df.loc[df['pct_random'] == 0.5]\n",
    "df = df.loc[df['class_sep'] == 50.0]\n",
    "df = df.sort_values('model_nickname')\n",
    "fig = px.box(df, x='model_nickname', y='best_adjusted_rand', color='model_nickname')\n",
    "fig.show()"
   ],
   "outputs": [],
   "execution_count": null
  },
  {
   "cell_type": "code",
   "execution_count": 40,
   "id": "5c3748bdfd9c300d",
   "metadata": {
    "ExecuteTime": {
     "end_time": "2025-01-17T13:08:36.855819Z",
     "start_time": "2025-01-17T13:08:36.818789Z"
    }
   },
   "outputs": [],
   "source": [
    "df = df_common_fill.copy()\n",
    "df = df.loc[df['model_nickname'].isin(['RecursiveClustering', 'KMeans', 'HDBSCAN', 'DBSCAN', 'AffinityPropagation', 'OPTICS', 'SpectralSubspaceRandomization', 'WardAgglomerativeClustering'])]\n",
    "df['Config.'] = '\\parbox{1.5cm}{l=' + df['class_sep'].astype(str) + '; n=' + df['n_samples'].astype(str) + '; p=' + df['n_features'].astype(str) + '; r=' + df['pct_random'].astype(str) + ';}'\n",
    "df = df.rename(columns={'model_nickname': 'Model'})\n",
    "df = df.groupby(['Config.', 'Model']).agg({'best_adjusted_rand': ['mean', 'std'], 'fit_model_return_elapsed_time': ['mean', 'std'], 'max_memory_used': ['mean', 'std'], 'seed_unified': 'count', 'class_sep': 'first', 'n_samples': 'first', 'n_features': 'first', 'pct_random': 'first'})\n",
    "df = df.sort_values([('class_sep', 'first'), ('n_samples', 'first'), ('n_features', 'first'), ('pct_random', 'first')])\n",
    "df = df[['best_adjusted_rand']]\n",
    "df = df.rename(columns={'best_adjusted_rand': 'ARI'})\n",
    "# df = df.rename(columns={'fit_model_return_elapsed_time': 'Time (s)', 'max_memory_used': 'Memory (MB)', 'n_samples': 'Number of samples', 'n_features': 'Number of features', 'model_nickname': 'Model', 'best_adjusted_rand': 'Adjusted Rand', 'best_n_clusters_': 'Number of Clusters Found', 'n_classes': 'True Number of Clusters', 'class_sep': 'Class Separation', 'pct_random': '% Random Features', 'seed_unified': 'Seed'})\n",
    "# df = df[['Model', 'Adjusted Rand', 'Time (s)', 'Memory (MB)', 'Number of samples', 'Number of features', 'Class Separation', '% Random Features', 'Seed', 'Number of Clusters Found', 'True Number of Clusters']]\n",
    "# df = df.groupby('Model').agg({'Adjusted Rand': ['mean', 'std'], 'Number of Clusters Found': ['median', ('Q25', lambda x: x.quantile(0.25)), ('Q75', lambda x: x.quantile(0.75))], 'Time (s)': ['mean', 'std'], 'Memory (MB)': ['mean', 'std'], 'Number of samples': ['mean', 'nunique'], 'Number of features': ['mean', 'nunique'], 'Class Separation': ['mean', 'nunique'], '% Random Features': ['mean', 'nunique'], 'True Number of Clusters': ['mean', 'nunique'], 'Seed': ['mean', 'nunique']})\n",
    "# df.to_csv('simulated_data_easy_more_samples.csv')\n",
    "# df"
   ]
  },
  {
   "cell_type": "code",
   "id": "22fc0366bf91d5d3",
   "metadata": {
    "ExecuteTime": {
     "end_time": "2025-01-17T16:38:15.012216Z",
     "start_time": "2025-01-17T16:38:14.973260Z"
    }
   },
   "source": [
    "# \"interesting cases\"\n",
    "# easy: 1000 samples, 1000 features, x random, 100 class sep\n",
    "# easy more samples: 10000 samples, 10000 features, x random, 100 class sep\n",
    "# hard: 1000 samples, 1000 features, x random, 10 class sep\n",
    "# hard more samples: 10000 samples, 1000 features, x random, 10 class sep\n",
    "# medium: x samples, 10000 features, x random, 50 class sep\n",
    "\n",
    "df = df_common_fill.copy()\n",
    "# df = df.loc[df['n_samples'] == 10000]\n",
    "# df = df.loc[df['n_features'] == 10000]\n",
    "# df = df.loc[df['pct_random'] == 0.5]\n",
    "# df = df.loc[df['class_sep'] == 100.0]\n",
    "df = df.loc[df['model_nickname'].isin(['RecursiveClustering', 'KMeans', 'HDBSCAN', 'DBSCAN', 'AffinityPropagation', 'OPTICS', 'SpectralSubspaceRandomization', 'WardAgglomerativeClustering'])]\n",
    "df['Config.'] = '\\parbox{1.5cm}{l=' + df['class_sep'].astype(str) + '; n=' + df['n_samples'].astype(str) + '; p=' + df['n_features'].astype(str) + '; r=' + df['pct_random'].astype(str) + ';}'\n",
    "df = df.rename(columns={'model_nickname': 'Model'})\n",
    "df = df.groupby(['Config.', 'Model']).agg({'best_adjusted_rand': ['mean', 'std'], 'fit_model_return_elapsed_time': ['mean', 'std'], 'max_memory_used': ['mean', 'std'], 'seed_unified': 'count', 'class_sep': 'first', 'n_samples': 'first', 'n_features': 'first', 'pct_random': 'first'})\n",
    "df = df.sort_values([('class_sep', 'first'), ('n_samples', 'first'), ('n_features', 'first'), ('pct_random', 'first')])\n",
    "df = df.rename(columns={'best_adjusted_rand': 'ARI'})\n",
    "# easy = 1000 samples, 1000 features, x random, 100 class sep\n",
    "df_easy = df.loc[(df[('n_samples', 'first')] == 1000) & (df[('n_features', 'first')] == 1000) & (df[('class_sep', 'first')] == 100.0) \n",
    "                 & (df[('pct_random', 'first')] == 0.0)].copy()\n",
    "df_easy = df_easy[['ARI']]\n",
    "# easy more samples = 10000 samples, 10000 features, x random, 100 class sep\n",
    "df_easy_more_samples = df.loc[(df[('n_samples', 'first')] == 10000) & (df[('n_features', 'first')] == 10000) & (df[('class_sep', 'first')] == 100.0)\n",
    "                               & (df[('pct_random', 'first')] == 0.0)].copy()\n",
    "df_easy_more_samples = df_easy_more_samples[['ARI']]\n",
    "# hard = 1000 samples, 1000 features, x random, 10 class sep\n",
    "df_hard = df.loc[(df[('n_samples', 'first')] == 1000) & (df[('n_features', 'first')] == 1000) & (df[('class_sep', 'first')] == 10.0)].copy()\n",
    "df_hard = df_hard[['ARI']]\n",
    "# hard more samples = 10000 samples, 1000 features, x random, 10 class sep\n",
    "# df_hard_more_samples = df.loc[(df[('n_samples', 'first')] == 10000) & (df[('n_features', 'first')] == 1000) & (df[('class_sep', 'first')] == 10.0)].copy()\n",
    "# df_hard_more_samples = df_hard_more_samples[['ARI']]\n",
    "# medium = x samples, 10000 features, x random, 50 class sep\n",
    "df_medium = df.loc[(df[('n_samples', 'first')] == 100) & (df[('n_features', 'first')] == 10000) & (df[('class_sep', 'first')] == 50.0) & (df[('pct_random', 'first')] == 0.0)].copy()\n",
    "df_medium = df_medium[['ARI']]\n",
    "\n",
    "df = pd.concat([df_easy, df_easy_more_samples, df_hard, df_medium], axis=0)"
   ],
   "outputs": [],
   "execution_count": 167
  },
  {
   "cell_type": "code",
   "id": "3dbf9e5f-e637-41be-87d4-0a80a20008b7",
   "metadata": {
    "ExecuteTime": {
     "end_time": "2025-01-17T16:38:16.510732Z",
     "start_time": "2025-01-17T16:38:16.507250Z"
    }
   },
   "source": [
    "def highlight_max(df):\n",
    "    max_values = df.groupby(level=0).transform('max')\n",
    "    is_highlighted = df == max_values\n",
    "    df_css = df.copy().astype(str)\n",
    "    df_css.loc[:, :] = ''\n",
    "    df_css[is_highlighted] = 'font-weight: bold'\n",
    "    return df_css"
   ],
   "outputs": [],
   "execution_count": 168
  },
  {
   "metadata": {
    "ExecuteTime": {
     "end_time": "2025-01-17T16:38:24.598334Z",
     "start_time": "2025-01-17T16:38:24.586476Z"
    }
   },
   "cell_type": "code",
   "source": "print(df.style.apply(highlight_max, subset=[('ARI', 'mean')], axis=None).format(precision=3, na_rep='No Run').to_latex(hrules=True, clines='skip-last;data', convert_css=True))",
   "id": "95cad8a054f7c3e3",
   "outputs": [
    {
     "name": "stdout",
     "output_type": "stream",
     "text": [
      "\\begin{tabular}{llrr}\n",
      "\\toprule\n",
      " &  & \\multicolumn{2}{r}{ARI} \\\\\n",
      " &  & mean & std \\\\\n",
      "Config. & Model &  &  \\\\\n",
      "\\midrule\n",
      "\\multirow[c]{8}{*}{\\parbox{1.5cm}{l=100.0; n=1000; p=1000; r=0.0;}} & AffinityPropagation & \\bfseries 1.000 & 0.000 \\\\\n",
      " & DBSCAN & 0.000 & 0.000 \\\\\n",
      " & HDBSCAN & \\bfseries 1.000 & 0.000 \\\\\n",
      " & KMeans & \\bfseries 1.000 & 0.000 \\\\\n",
      " & OPTICS & \\bfseries 1.000 & 0.000 \\\\\n",
      " & RecursiveClustering & \\bfseries 1.000 & 0.000 \\\\\n",
      " & SpectralSubspaceRandomization & \\bfseries 1.000 & 0.000 \\\\\n",
      " & WardAgglomerativeClustering & \\bfseries 1.000 & 0.000 \\\\\n",
      "\\cline{1-4}\n",
      "\\multirow[c]{8}{*}{\\parbox{1.5cm}{l=100.0; n=10000; p=10000; r=0.0;}} & AffinityPropagation & 0.115 & No Run \\\\\n",
      " & DBSCAN & 0.000 & No Run \\\\\n",
      " & HDBSCAN & No Run & No Run \\\\\n",
      " & KMeans & \\bfseries 1.000 & No Run \\\\\n",
      " & OPTICS & \\bfseries 1.000 & No Run \\\\\n",
      " & RecursiveClustering & \\bfseries 1.000 & No Run \\\\\n",
      " & SpectralSubspaceRandomization & No Run & No Run \\\\\n",
      " & WardAgglomerativeClustering & 0.783 & No Run \\\\\n",
      "\\cline{1-4}\n",
      "\\multirow[c]{8}{*}{\\parbox{1.5cm}{l=10.0; n=1000; p=1000; r=0.0;}} & AffinityPropagation & 0.174 & 0.041 \\\\\n",
      " & DBSCAN & 0.000 & 0.000 \\\\\n",
      " & HDBSCAN & 0.733 & 0.391 \\\\\n",
      " & KMeans & 0.086 & 0.049 \\\\\n",
      " & OPTICS & 0.000 & 0.000 \\\\\n",
      " & RecursiveClustering & 0.288 & 0.210 \\\\\n",
      " & SpectralSubspaceRandomization & \\bfseries 0.811 & 0.308 \\\\\n",
      " & WardAgglomerativeClustering & 0.096 & 0.061 \\\\\n",
      "\\cline{1-4}\n",
      "\\multirow[c]{8}{*}{\\parbox{1.5cm}{l=10.0; n=1000; p=1000; r=0.2;}} & AffinityPropagation & 0.176 & 0.026 \\\\\n",
      " & DBSCAN & 0.000 & 0.000 \\\\\n",
      " & HDBSCAN & 0.875 & 0.308 \\\\\n",
      " & KMeans & 0.111 & 0.042 \\\\\n",
      " & OPTICS & 0.000 & 0.000 \\\\\n",
      " & RecursiveClustering & 0.346 & 0.262 \\\\\n",
      " & SpectralSubspaceRandomization & \\bfseries 0.899 & 0.252 \\\\\n",
      " & WardAgglomerativeClustering & 0.134 & 0.049 \\\\\n",
      "\\cline{1-4}\n",
      "\\multirow[c]{8}{*}{\\parbox{1.5cm}{l=10.0; n=1000; p=1000; r=0.5;}} & AffinityPropagation & 0.189 & 0.017 \\\\\n",
      " & DBSCAN & 0.000 & 0.000 \\\\\n",
      " & HDBSCAN & \\bfseries 0.994 & 0.003 \\\\\n",
      " & KMeans & 0.201 & 0.061 \\\\\n",
      " & OPTICS & 0.399 & 0.344 \\\\\n",
      " & RecursiveClustering & 0.434 & 0.230 \\\\\n",
      " & SpectralSubspaceRandomization & 0.915 & 0.202 \\\\\n",
      " & WardAgglomerativeClustering & 0.495 & 0.296 \\\\\n",
      "\\cline{1-4}\n",
      "\\multirow[c]{8}{*}{\\parbox{1.5cm}{l=10.0; n=1000; p=1000; r=0.7;}} & AffinityPropagation & 0.301 & 0.216 \\\\\n",
      " & DBSCAN & 0.000 & 0.000 \\\\\n",
      " & HDBSCAN & \\bfseries 0.999 & 0.001 \\\\\n",
      " & KMeans & 0.839 & 0.286 \\\\\n",
      " & OPTICS & 0.999 & 0.002 \\\\\n",
      " & RecursiveClustering & 0.520 & 0.197 \\\\\n",
      " & SpectralSubspaceRandomization & 0.978 & 0.069 \\\\\n",
      " & WardAgglomerativeClustering & 0.916 & 0.202 \\\\\n",
      "\\cline{1-4}\n",
      "\\multirow[c]{8}{*}{\\parbox{1.5cm}{l=50.0; n=100; p=10000; r=0.0;}} & AffinityPropagation & 0.529 & No Run \\\\\n",
      " & DBSCAN & 0.000 & No Run \\\\\n",
      " & HDBSCAN & \\bfseries 1.000 & No Run \\\\\n",
      " & KMeans & 0.172 & No Run \\\\\n",
      " & OPTICS & \\bfseries 1.000 & No Run \\\\\n",
      " & RecursiveClustering & 0.924 & No Run \\\\\n",
      " & SpectralSubspaceRandomization & \\bfseries 1.000 & No Run \\\\\n",
      " & WardAgglomerativeClustering & 0.816 & No Run \\\\\n",
      "\\cline{1-4}\n",
      "\\bottomrule\n",
      "\\end{tabular}\n",
      "\n"
     ]
    }
   ],
   "execution_count": 169
  },
  {
   "cell_type": "code",
   "execution_count": 63,
   "id": "d8845abf-1106-4540-b337-0aaec6eee278",
   "metadata": {},
   "outputs": [
    {
     "data": {
      "text/html": [
       "<div>\n",
       "<style scoped>\n",
       "    .dataframe tbody tr th:only-of-type {\n",
       "        vertical-align: middle;\n",
       "    }\n",
       "\n",
       "    .dataframe tbody tr th {\n",
       "        vertical-align: top;\n",
       "    }\n",
       "\n",
       "    .dataframe thead tr th {\n",
       "        text-align: left;\n",
       "    }\n",
       "\n",
       "    .dataframe thead tr:last-of-type th {\n",
       "        text-align: right;\n",
       "    }\n",
       "</style>\n",
       "<table border=\"1\" class=\"dataframe\">\n",
       "  <thead>\n",
       "    <tr>\n",
       "      <th></th>\n",
       "      <th></th>\n",
       "      <th colspan=\"2\" halign=\"left\">ARI</th>\n",
       "    </tr>\n",
       "    <tr>\n",
       "      <th></th>\n",
       "      <th></th>\n",
       "      <th>mean</th>\n",
       "      <th>std</th>\n",
       "    </tr>\n",
       "    <tr>\n",
       "      <th>Config.</th>\n",
       "      <th>Model</th>\n",
       "      <th></th>\n",
       "      <th></th>\n",
       "    </tr>\n",
       "  </thead>\n",
       "  <tbody>\n",
       "    <tr>\n",
       "      <th rowspan=\"8\" valign=\"top\">\\parbox{1.5cm}{l=100.0; n=1000; p=1000; r=0.0;}</th>\n",
       "      <th>AffinityPropagation</th>\n",
       "      <td>(\\parbox{1.5cm}{l=100.0; n=1000; p=1000; r=0.0;}, AffinityPropagation)</td>\n",
       "      <td>(\\parbox{1.5cm}{l=100.0; n=1000; p=1000; r=0.0;}, AffinityPropagation)</td>\n",
       "    </tr>\n",
       "    <tr>\n",
       "      <th>DBSCAN</th>\n",
       "      <td>(\\parbox{1.5cm}{l=100.0; n=1000; p=1000; r=0.0;}, AffinityPropagation)</td>\n",
       "      <td>(\\parbox{1.5cm}{l=100.0; n=1000; p=1000; r=0.0;}, AffinityPropagation)</td>\n",
       "    </tr>\n",
       "    <tr>\n",
       "      <th>HDBSCAN</th>\n",
       "      <td>(\\parbox{1.5cm}{l=100.0; n=1000; p=1000; r=0.0;}, AffinityPropagation)</td>\n",
       "      <td>(\\parbox{1.5cm}{l=100.0; n=1000; p=1000; r=0.0;}, AffinityPropagation)</td>\n",
       "    </tr>\n",
       "    <tr>\n",
       "      <th>KMeans</th>\n",
       "      <td>(\\parbox{1.5cm}{l=100.0; n=1000; p=1000; r=0.0;}, AffinityPropagation)</td>\n",
       "      <td>(\\parbox{1.5cm}{l=100.0; n=1000; p=1000; r=0.0;}, AffinityPropagation)</td>\n",
       "    </tr>\n",
       "    <tr>\n",
       "      <th>OPTICS</th>\n",
       "      <td>(\\parbox{1.5cm}{l=100.0; n=1000; p=1000; r=0.0;}, AffinityPropagation)</td>\n",
       "      <td>(\\parbox{1.5cm}{l=100.0; n=1000; p=1000; r=0.0;}, AffinityPropagation)</td>\n",
       "    </tr>\n",
       "    <tr>\n",
       "      <th>RecursiveClustering</th>\n",
       "      <td>(\\parbox{1.5cm}{l=100.0; n=1000; p=1000; r=0.0;}, AffinityPropagation)</td>\n",
       "      <td>(\\parbox{1.5cm}{l=100.0; n=1000; p=1000; r=0.0;}, AffinityPropagation)</td>\n",
       "    </tr>\n",
       "    <tr>\n",
       "      <th>SpectralSubspaceRandomization</th>\n",
       "      <td>(\\parbox{1.5cm}{l=100.0; n=1000; p=1000; r=0.0;}, AffinityPropagation)</td>\n",
       "      <td>(\\parbox{1.5cm}{l=100.0; n=1000; p=1000; r=0.0;}, AffinityPropagation)</td>\n",
       "    </tr>\n",
       "    <tr>\n",
       "      <th>WardAgglomerativeClustering</th>\n",
       "      <td>(\\parbox{1.5cm}{l=100.0; n=1000; p=1000; r=0.0;}, AffinityPropagation)</td>\n",
       "      <td>(\\parbox{1.5cm}{l=100.0; n=1000; p=1000; r=0.0;}, AffinityPropagation)</td>\n",
       "    </tr>\n",
       "    <tr>\n",
       "      <th rowspan=\"8\" valign=\"top\">\\parbox{1.5cm}{l=100.0; n=10000; p=10000; r=0.0;}</th>\n",
       "      <th>AffinityPropagation</th>\n",
       "      <td>(\\parbox{1.5cm}{l=100.0; n=10000; p=10000; r=0.0;}, KMeans)</td>\n",
       "      <td>NaN</td>\n",
       "    </tr>\n",
       "    <tr>\n",
       "      <th>DBSCAN</th>\n",
       "      <td>(\\parbox{1.5cm}{l=100.0; n=10000; p=10000; r=0.0;}, KMeans)</td>\n",
       "      <td>NaN</td>\n",
       "    </tr>\n",
       "    <tr>\n",
       "      <th>HDBSCAN</th>\n",
       "      <td>(\\parbox{1.5cm}{l=100.0; n=10000; p=10000; r=0.0;}, KMeans)</td>\n",
       "      <td>NaN</td>\n",
       "    </tr>\n",
       "    <tr>\n",
       "      <th>KMeans</th>\n",
       "      <td>(\\parbox{1.5cm}{l=100.0; n=10000; p=10000; r=0.0;}, KMeans)</td>\n",
       "      <td>NaN</td>\n",
       "    </tr>\n",
       "    <tr>\n",
       "      <th>OPTICS</th>\n",
       "      <td>(\\parbox{1.5cm}{l=100.0; n=10000; p=10000; r=0.0;}, KMeans)</td>\n",
       "      <td>NaN</td>\n",
       "    </tr>\n",
       "    <tr>\n",
       "      <th>RecursiveClustering</th>\n",
       "      <td>(\\parbox{1.5cm}{l=100.0; n=10000; p=10000; r=0.0;}, KMeans)</td>\n",
       "      <td>NaN</td>\n",
       "    </tr>\n",
       "    <tr>\n",
       "      <th>SpectralSubspaceRandomization</th>\n",
       "      <td>(\\parbox{1.5cm}{l=100.0; n=10000; p=10000; r=0.0;}, KMeans)</td>\n",
       "      <td>NaN</td>\n",
       "    </tr>\n",
       "    <tr>\n",
       "      <th>WardAgglomerativeClustering</th>\n",
       "      <td>(\\parbox{1.5cm}{l=100.0; n=10000; p=10000; r=0.0;}, KMeans)</td>\n",
       "      <td>NaN</td>\n",
       "    </tr>\n",
       "    <tr>\n",
       "      <th rowspan=\"8\" valign=\"top\">\\parbox{1.5cm}{l=10.0; n=1000; p=1000; r=0.0;}</th>\n",
       "      <th>AffinityPropagation</th>\n",
       "      <td>(\\parbox{1.5cm}{l=10.0; n=1000; p=1000; r=0.0;}, SpectralSubspaceRandomization)</td>\n",
       "      <td>(\\parbox{1.5cm}{l=10.0; n=1000; p=1000; r=0.0;}, HDBSCAN)</td>\n",
       "    </tr>\n",
       "    <tr>\n",
       "      <th>DBSCAN</th>\n",
       "      <td>(\\parbox{1.5cm}{l=10.0; n=1000; p=1000; r=0.0;}, SpectralSubspaceRandomization)</td>\n",
       "      <td>(\\parbox{1.5cm}{l=10.0; n=1000; p=1000; r=0.0;}, HDBSCAN)</td>\n",
       "    </tr>\n",
       "    <tr>\n",
       "      <th>HDBSCAN</th>\n",
       "      <td>(\\parbox{1.5cm}{l=10.0; n=1000; p=1000; r=0.0;}, SpectralSubspaceRandomization)</td>\n",
       "      <td>(\\parbox{1.5cm}{l=10.0; n=1000; p=1000; r=0.0;}, HDBSCAN)</td>\n",
       "    </tr>\n",
       "    <tr>\n",
       "      <th>KMeans</th>\n",
       "      <td>(\\parbox{1.5cm}{l=10.0; n=1000; p=1000; r=0.0;}, SpectralSubspaceRandomization)</td>\n",
       "      <td>(\\parbox{1.5cm}{l=10.0; n=1000; p=1000; r=0.0;}, HDBSCAN)</td>\n",
       "    </tr>\n",
       "    <tr>\n",
       "      <th>OPTICS</th>\n",
       "      <td>(\\parbox{1.5cm}{l=10.0; n=1000; p=1000; r=0.0;}, SpectralSubspaceRandomization)</td>\n",
       "      <td>(\\parbox{1.5cm}{l=10.0; n=1000; p=1000; r=0.0;}, HDBSCAN)</td>\n",
       "    </tr>\n",
       "    <tr>\n",
       "      <th>RecursiveClustering</th>\n",
       "      <td>(\\parbox{1.5cm}{l=10.0; n=1000; p=1000; r=0.0;}, SpectralSubspaceRandomization)</td>\n",
       "      <td>(\\parbox{1.5cm}{l=10.0; n=1000; p=1000; r=0.0;}, HDBSCAN)</td>\n",
       "    </tr>\n",
       "    <tr>\n",
       "      <th>SpectralSubspaceRandomization</th>\n",
       "      <td>(\\parbox{1.5cm}{l=10.0; n=1000; p=1000; r=0.0;}, SpectralSubspaceRandomization)</td>\n",
       "      <td>(\\parbox{1.5cm}{l=10.0; n=1000; p=1000; r=0.0;}, HDBSCAN)</td>\n",
       "    </tr>\n",
       "    <tr>\n",
       "      <th>WardAgglomerativeClustering</th>\n",
       "      <td>(\\parbox{1.5cm}{l=10.0; n=1000; p=1000; r=0.0;}, SpectralSubspaceRandomization)</td>\n",
       "      <td>(\\parbox{1.5cm}{l=10.0; n=1000; p=1000; r=0.0;}, HDBSCAN)</td>\n",
       "    </tr>\n",
       "    <tr>\n",
       "      <th rowspan=\"8\" valign=\"top\">\\parbox{1.5cm}{l=10.0; n=1000; p=1000; r=0.2;}</th>\n",
       "      <th>AffinityPropagation</th>\n",
       "      <td>(\\parbox{1.5cm}{l=10.0; n=1000; p=1000; r=0.2;}, SpectralSubspaceRandomization)</td>\n",
       "      <td>(\\parbox{1.5cm}{l=10.0; n=1000; p=1000; r=0.2;}, HDBSCAN)</td>\n",
       "    </tr>\n",
       "    <tr>\n",
       "      <th>DBSCAN</th>\n",
       "      <td>(\\parbox{1.5cm}{l=10.0; n=1000; p=1000; r=0.2;}, SpectralSubspaceRandomization)</td>\n",
       "      <td>(\\parbox{1.5cm}{l=10.0; n=1000; p=1000; r=0.2;}, HDBSCAN)</td>\n",
       "    </tr>\n",
       "    <tr>\n",
       "      <th>HDBSCAN</th>\n",
       "      <td>(\\parbox{1.5cm}{l=10.0; n=1000; p=1000; r=0.2;}, SpectralSubspaceRandomization)</td>\n",
       "      <td>(\\parbox{1.5cm}{l=10.0; n=1000; p=1000; r=0.2;}, HDBSCAN)</td>\n",
       "    </tr>\n",
       "    <tr>\n",
       "      <th>KMeans</th>\n",
       "      <td>(\\parbox{1.5cm}{l=10.0; n=1000; p=1000; r=0.2;}, SpectralSubspaceRandomization)</td>\n",
       "      <td>(\\parbox{1.5cm}{l=10.0; n=1000; p=1000; r=0.2;}, HDBSCAN)</td>\n",
       "    </tr>\n",
       "    <tr>\n",
       "      <th>OPTICS</th>\n",
       "      <td>(\\parbox{1.5cm}{l=10.0; n=1000; p=1000; r=0.2;}, SpectralSubspaceRandomization)</td>\n",
       "      <td>(\\parbox{1.5cm}{l=10.0; n=1000; p=1000; r=0.2;}, HDBSCAN)</td>\n",
       "    </tr>\n",
       "    <tr>\n",
       "      <th>RecursiveClustering</th>\n",
       "      <td>(\\parbox{1.5cm}{l=10.0; n=1000; p=1000; r=0.2;}, SpectralSubspaceRandomization)</td>\n",
       "      <td>(\\parbox{1.5cm}{l=10.0; n=1000; p=1000; r=0.2;}, HDBSCAN)</td>\n",
       "    </tr>\n",
       "    <tr>\n",
       "      <th>SpectralSubspaceRandomization</th>\n",
       "      <td>(\\parbox{1.5cm}{l=10.0; n=1000; p=1000; r=0.2;}, SpectralSubspaceRandomization)</td>\n",
       "      <td>(\\parbox{1.5cm}{l=10.0; n=1000; p=1000; r=0.2;}, HDBSCAN)</td>\n",
       "    </tr>\n",
       "    <tr>\n",
       "      <th>WardAgglomerativeClustering</th>\n",
       "      <td>(\\parbox{1.5cm}{l=10.0; n=1000; p=1000; r=0.2;}, SpectralSubspaceRandomization)</td>\n",
       "      <td>(\\parbox{1.5cm}{l=10.0; n=1000; p=1000; r=0.2;}, HDBSCAN)</td>\n",
       "    </tr>\n",
       "    <tr>\n",
       "      <th rowspan=\"8\" valign=\"top\">\\parbox{1.5cm}{l=10.0; n=1000; p=1000; r=0.5;}</th>\n",
       "      <th>AffinityPropagation</th>\n",
       "      <td>(\\parbox{1.5cm}{l=10.0; n=1000; p=1000; r=0.5;}, HDBSCAN)</td>\n",
       "      <td>(\\parbox{1.5cm}{l=10.0; n=1000; p=1000; r=0.5;}, OPTICS)</td>\n",
       "    </tr>\n",
       "    <tr>\n",
       "      <th>DBSCAN</th>\n",
       "      <td>(\\parbox{1.5cm}{l=10.0; n=1000; p=1000; r=0.5;}, HDBSCAN)</td>\n",
       "      <td>(\\parbox{1.5cm}{l=10.0; n=1000; p=1000; r=0.5;}, OPTICS)</td>\n",
       "    </tr>\n",
       "    <tr>\n",
       "      <th>HDBSCAN</th>\n",
       "      <td>(\\parbox{1.5cm}{l=10.0; n=1000; p=1000; r=0.5;}, HDBSCAN)</td>\n",
       "      <td>(\\parbox{1.5cm}{l=10.0; n=1000; p=1000; r=0.5;}, OPTICS)</td>\n",
       "    </tr>\n",
       "    <tr>\n",
       "      <th>KMeans</th>\n",
       "      <td>(\\parbox{1.5cm}{l=10.0; n=1000; p=1000; r=0.5;}, HDBSCAN)</td>\n",
       "      <td>(\\parbox{1.5cm}{l=10.0; n=1000; p=1000; r=0.5;}, OPTICS)</td>\n",
       "    </tr>\n",
       "    <tr>\n",
       "      <th>OPTICS</th>\n",
       "      <td>(\\parbox{1.5cm}{l=10.0; n=1000; p=1000; r=0.5;}, HDBSCAN)</td>\n",
       "      <td>(\\parbox{1.5cm}{l=10.0; n=1000; p=1000; r=0.5;}, OPTICS)</td>\n",
       "    </tr>\n",
       "    <tr>\n",
       "      <th>RecursiveClustering</th>\n",
       "      <td>(\\parbox{1.5cm}{l=10.0; n=1000; p=1000; r=0.5;}, HDBSCAN)</td>\n",
       "      <td>(\\parbox{1.5cm}{l=10.0; n=1000; p=1000; r=0.5;}, OPTICS)</td>\n",
       "    </tr>\n",
       "    <tr>\n",
       "      <th>SpectralSubspaceRandomization</th>\n",
       "      <td>(\\parbox{1.5cm}{l=10.0; n=1000; p=1000; r=0.5;}, HDBSCAN)</td>\n",
       "      <td>(\\parbox{1.5cm}{l=10.0; n=1000; p=1000; r=0.5;}, OPTICS)</td>\n",
       "    </tr>\n",
       "    <tr>\n",
       "      <th>WardAgglomerativeClustering</th>\n",
       "      <td>(\\parbox{1.5cm}{l=10.0; n=1000; p=1000; r=0.5;}, HDBSCAN)</td>\n",
       "      <td>(\\parbox{1.5cm}{l=10.0; n=1000; p=1000; r=0.5;}, OPTICS)</td>\n",
       "    </tr>\n",
       "    <tr>\n",
       "      <th rowspan=\"8\" valign=\"top\">\\parbox{1.5cm}{l=10.0; n=1000; p=1000; r=0.7;}</th>\n",
       "      <th>AffinityPropagation</th>\n",
       "      <td>(\\parbox{1.5cm}{l=10.0; n=1000; p=1000; r=0.7;}, HDBSCAN)</td>\n",
       "      <td>(\\parbox{1.5cm}{l=10.0; n=1000; p=1000; r=0.7;}, KMeans)</td>\n",
       "    </tr>\n",
       "    <tr>\n",
       "      <th>DBSCAN</th>\n",
       "      <td>(\\parbox{1.5cm}{l=10.0; n=1000; p=1000; r=0.7;}, HDBSCAN)</td>\n",
       "      <td>(\\parbox{1.5cm}{l=10.0; n=1000; p=1000; r=0.7;}, KMeans)</td>\n",
       "    </tr>\n",
       "    <tr>\n",
       "      <th>HDBSCAN</th>\n",
       "      <td>(\\parbox{1.5cm}{l=10.0; n=1000; p=1000; r=0.7;}, HDBSCAN)</td>\n",
       "      <td>(\\parbox{1.5cm}{l=10.0; n=1000; p=1000; r=0.7;}, KMeans)</td>\n",
       "    </tr>\n",
       "    <tr>\n",
       "      <th>KMeans</th>\n",
       "      <td>(\\parbox{1.5cm}{l=10.0; n=1000; p=1000; r=0.7;}, HDBSCAN)</td>\n",
       "      <td>(\\parbox{1.5cm}{l=10.0; n=1000; p=1000; r=0.7;}, KMeans)</td>\n",
       "    </tr>\n",
       "    <tr>\n",
       "      <th>OPTICS</th>\n",
       "      <td>(\\parbox{1.5cm}{l=10.0; n=1000; p=1000; r=0.7;}, HDBSCAN)</td>\n",
       "      <td>(\\parbox{1.5cm}{l=10.0; n=1000; p=1000; r=0.7;}, KMeans)</td>\n",
       "    </tr>\n",
       "    <tr>\n",
       "      <th>RecursiveClustering</th>\n",
       "      <td>(\\parbox{1.5cm}{l=10.0; n=1000; p=1000; r=0.7;}, HDBSCAN)</td>\n",
       "      <td>(\\parbox{1.5cm}{l=10.0; n=1000; p=1000; r=0.7;}, KMeans)</td>\n",
       "    </tr>\n",
       "    <tr>\n",
       "      <th>SpectralSubspaceRandomization</th>\n",
       "      <td>(\\parbox{1.5cm}{l=10.0; n=1000; p=1000; r=0.7;}, HDBSCAN)</td>\n",
       "      <td>(\\parbox{1.5cm}{l=10.0; n=1000; p=1000; r=0.7;}, KMeans)</td>\n",
       "    </tr>\n",
       "    <tr>\n",
       "      <th>WardAgglomerativeClustering</th>\n",
       "      <td>(\\parbox{1.5cm}{l=10.0; n=1000; p=1000; r=0.7;}, HDBSCAN)</td>\n",
       "      <td>(\\parbox{1.5cm}{l=10.0; n=1000; p=1000; r=0.7;}, KMeans)</td>\n",
       "    </tr>\n",
       "    <tr>\n",
       "      <th rowspan=\"8\" valign=\"top\">\\parbox{1.5cm}{l=50.0; n=100; p=10000; r=0.0;}</th>\n",
       "      <th>AffinityPropagation</th>\n",
       "      <td>(\\parbox{1.5cm}{l=50.0; n=100; p=10000; r=0.0;}, RecursiveClustering)</td>\n",
       "      <td>(\\parbox{1.5cm}{l=50.0; n=100; p=10000; r=0.0;}, SpectralSubspaceRandomization)</td>\n",
       "    </tr>\n",
       "    <tr>\n",
       "      <th>DBSCAN</th>\n",
       "      <td>(\\parbox{1.5cm}{l=50.0; n=100; p=10000; r=0.0;}, RecursiveClustering)</td>\n",
       "      <td>(\\parbox{1.5cm}{l=50.0; n=100; p=10000; r=0.0;}, SpectralSubspaceRandomization)</td>\n",
       "    </tr>\n",
       "    <tr>\n",
       "      <th>HDBSCAN</th>\n",
       "      <td>(\\parbox{1.5cm}{l=50.0; n=100; p=10000; r=0.0;}, RecursiveClustering)</td>\n",
       "      <td>(\\parbox{1.5cm}{l=50.0; n=100; p=10000; r=0.0;}, SpectralSubspaceRandomization)</td>\n",
       "    </tr>\n",
       "    <tr>\n",
       "      <th>KMeans</th>\n",
       "      <td>(\\parbox{1.5cm}{l=50.0; n=100; p=10000; r=0.0;}, RecursiveClustering)</td>\n",
       "      <td>(\\parbox{1.5cm}{l=50.0; n=100; p=10000; r=0.0;}, SpectralSubspaceRandomization)</td>\n",
       "    </tr>\n",
       "    <tr>\n",
       "      <th>OPTICS</th>\n",
       "      <td>(\\parbox{1.5cm}{l=50.0; n=100; p=10000; r=0.0;}, RecursiveClustering)</td>\n",
       "      <td>(\\parbox{1.5cm}{l=50.0; n=100; p=10000; r=0.0;}, SpectralSubspaceRandomization)</td>\n",
       "    </tr>\n",
       "    <tr>\n",
       "      <th>RecursiveClustering</th>\n",
       "      <td>(\\parbox{1.5cm}{l=50.0; n=100; p=10000; r=0.0;}, RecursiveClustering)</td>\n",
       "      <td>(\\parbox{1.5cm}{l=50.0; n=100; p=10000; r=0.0;}, SpectralSubspaceRandomization)</td>\n",
       "    </tr>\n",
       "    <tr>\n",
       "      <th>SpectralSubspaceRandomization</th>\n",
       "      <td>(\\parbox{1.5cm}{l=50.0; n=100; p=10000; r=0.0;}, RecursiveClustering)</td>\n",
       "      <td>(\\parbox{1.5cm}{l=50.0; n=100; p=10000; r=0.0;}, SpectralSubspaceRandomization)</td>\n",
       "    </tr>\n",
       "    <tr>\n",
       "      <th>WardAgglomerativeClustering</th>\n",
       "      <td>(\\parbox{1.5cm}{l=50.0; n=100; p=10000; r=0.0;}, RecursiveClustering)</td>\n",
       "      <td>(\\parbox{1.5cm}{l=50.0; n=100; p=10000; r=0.0;}, SpectralSubspaceRandomization)</td>\n",
       "    </tr>\n",
       "  </tbody>\n",
       "</table>\n",
       "</div>"
      ],
      "text/plain": [
       "                                                                                                                                                             ARI  \\\n",
       "                                                                                                                                                            mean   \n",
       "Config.                                           Model                                                                                                            \n",
       "\\parbox{1.5cm}{l=100.0; n=1000; p=1000; r=0.0;}   AffinityPropagation                     (\\parbox{1.5cm}{l=100.0; n=1000; p=1000; r=0.0;}, AffinityPropagation)   \n",
       "                                                  DBSCAN                                  (\\parbox{1.5cm}{l=100.0; n=1000; p=1000; r=0.0;}, AffinityPropagation)   \n",
       "                                                  HDBSCAN                                 (\\parbox{1.5cm}{l=100.0; n=1000; p=1000; r=0.0;}, AffinityPropagation)   \n",
       "                                                  KMeans                                  (\\parbox{1.5cm}{l=100.0; n=1000; p=1000; r=0.0;}, AffinityPropagation)   \n",
       "                                                  OPTICS                                  (\\parbox{1.5cm}{l=100.0; n=1000; p=1000; r=0.0;}, AffinityPropagation)   \n",
       "                                                  RecursiveClustering                     (\\parbox{1.5cm}{l=100.0; n=1000; p=1000; r=0.0;}, AffinityPropagation)   \n",
       "                                                  SpectralSubspaceRandomization           (\\parbox{1.5cm}{l=100.0; n=1000; p=1000; r=0.0;}, AffinityPropagation)   \n",
       "                                                  WardAgglomerativeClustering             (\\parbox{1.5cm}{l=100.0; n=1000; p=1000; r=0.0;}, AffinityPropagation)   \n",
       "\\parbox{1.5cm}{l=100.0; n=10000; p=10000; r=0.0;} AffinityPropagation                                (\\parbox{1.5cm}{l=100.0; n=10000; p=10000; r=0.0;}, KMeans)   \n",
       "                                                  DBSCAN                                             (\\parbox{1.5cm}{l=100.0; n=10000; p=10000; r=0.0;}, KMeans)   \n",
       "                                                  HDBSCAN                                            (\\parbox{1.5cm}{l=100.0; n=10000; p=10000; r=0.0;}, KMeans)   \n",
       "                                                  KMeans                                             (\\parbox{1.5cm}{l=100.0; n=10000; p=10000; r=0.0;}, KMeans)   \n",
       "                                                  OPTICS                                             (\\parbox{1.5cm}{l=100.0; n=10000; p=10000; r=0.0;}, KMeans)   \n",
       "                                                  RecursiveClustering                                (\\parbox{1.5cm}{l=100.0; n=10000; p=10000; r=0.0;}, KMeans)   \n",
       "                                                  SpectralSubspaceRandomization                      (\\parbox{1.5cm}{l=100.0; n=10000; p=10000; r=0.0;}, KMeans)   \n",
       "                                                  WardAgglomerativeClustering                        (\\parbox{1.5cm}{l=100.0; n=10000; p=10000; r=0.0;}, KMeans)   \n",
       "\\parbox{1.5cm}{l=10.0; n=1000; p=1000; r=0.0;}    AffinityPropagation            (\\parbox{1.5cm}{l=10.0; n=1000; p=1000; r=0.0;}, SpectralSubspaceRandomization)   \n",
       "                                                  DBSCAN                         (\\parbox{1.5cm}{l=10.0; n=1000; p=1000; r=0.0;}, SpectralSubspaceRandomization)   \n",
       "                                                  HDBSCAN                        (\\parbox{1.5cm}{l=10.0; n=1000; p=1000; r=0.0;}, SpectralSubspaceRandomization)   \n",
       "                                                  KMeans                         (\\parbox{1.5cm}{l=10.0; n=1000; p=1000; r=0.0;}, SpectralSubspaceRandomization)   \n",
       "                                                  OPTICS                         (\\parbox{1.5cm}{l=10.0; n=1000; p=1000; r=0.0;}, SpectralSubspaceRandomization)   \n",
       "                                                  RecursiveClustering            (\\parbox{1.5cm}{l=10.0; n=1000; p=1000; r=0.0;}, SpectralSubspaceRandomization)   \n",
       "                                                  SpectralSubspaceRandomization  (\\parbox{1.5cm}{l=10.0; n=1000; p=1000; r=0.0;}, SpectralSubspaceRandomization)   \n",
       "                                                  WardAgglomerativeClustering    (\\parbox{1.5cm}{l=10.0; n=1000; p=1000; r=0.0;}, SpectralSubspaceRandomization)   \n",
       "\\parbox{1.5cm}{l=10.0; n=1000; p=1000; r=0.2;}    AffinityPropagation            (\\parbox{1.5cm}{l=10.0; n=1000; p=1000; r=0.2;}, SpectralSubspaceRandomization)   \n",
       "                                                  DBSCAN                         (\\parbox{1.5cm}{l=10.0; n=1000; p=1000; r=0.2;}, SpectralSubspaceRandomization)   \n",
       "                                                  HDBSCAN                        (\\parbox{1.5cm}{l=10.0; n=1000; p=1000; r=0.2;}, SpectralSubspaceRandomization)   \n",
       "                                                  KMeans                         (\\parbox{1.5cm}{l=10.0; n=1000; p=1000; r=0.2;}, SpectralSubspaceRandomization)   \n",
       "                                                  OPTICS                         (\\parbox{1.5cm}{l=10.0; n=1000; p=1000; r=0.2;}, SpectralSubspaceRandomization)   \n",
       "                                                  RecursiveClustering            (\\parbox{1.5cm}{l=10.0; n=1000; p=1000; r=0.2;}, SpectralSubspaceRandomization)   \n",
       "                                                  SpectralSubspaceRandomization  (\\parbox{1.5cm}{l=10.0; n=1000; p=1000; r=0.2;}, SpectralSubspaceRandomization)   \n",
       "                                                  WardAgglomerativeClustering    (\\parbox{1.5cm}{l=10.0; n=1000; p=1000; r=0.2;}, SpectralSubspaceRandomization)   \n",
       "\\parbox{1.5cm}{l=10.0; n=1000; p=1000; r=0.5;}    AffinityPropagation                                  (\\parbox{1.5cm}{l=10.0; n=1000; p=1000; r=0.5;}, HDBSCAN)   \n",
       "                                                  DBSCAN                                               (\\parbox{1.5cm}{l=10.0; n=1000; p=1000; r=0.5;}, HDBSCAN)   \n",
       "                                                  HDBSCAN                                              (\\parbox{1.5cm}{l=10.0; n=1000; p=1000; r=0.5;}, HDBSCAN)   \n",
       "                                                  KMeans                                               (\\parbox{1.5cm}{l=10.0; n=1000; p=1000; r=0.5;}, HDBSCAN)   \n",
       "                                                  OPTICS                                               (\\parbox{1.5cm}{l=10.0; n=1000; p=1000; r=0.5;}, HDBSCAN)   \n",
       "                                                  RecursiveClustering                                  (\\parbox{1.5cm}{l=10.0; n=1000; p=1000; r=0.5;}, HDBSCAN)   \n",
       "                                                  SpectralSubspaceRandomization                        (\\parbox{1.5cm}{l=10.0; n=1000; p=1000; r=0.5;}, HDBSCAN)   \n",
       "                                                  WardAgglomerativeClustering                          (\\parbox{1.5cm}{l=10.0; n=1000; p=1000; r=0.5;}, HDBSCAN)   \n",
       "\\parbox{1.5cm}{l=10.0; n=1000; p=1000; r=0.7;}    AffinityPropagation                                  (\\parbox{1.5cm}{l=10.0; n=1000; p=1000; r=0.7;}, HDBSCAN)   \n",
       "                                                  DBSCAN                                               (\\parbox{1.5cm}{l=10.0; n=1000; p=1000; r=0.7;}, HDBSCAN)   \n",
       "                                                  HDBSCAN                                              (\\parbox{1.5cm}{l=10.0; n=1000; p=1000; r=0.7;}, HDBSCAN)   \n",
       "                                                  KMeans                                               (\\parbox{1.5cm}{l=10.0; n=1000; p=1000; r=0.7;}, HDBSCAN)   \n",
       "                                                  OPTICS                                               (\\parbox{1.5cm}{l=10.0; n=1000; p=1000; r=0.7;}, HDBSCAN)   \n",
       "                                                  RecursiveClustering                                  (\\parbox{1.5cm}{l=10.0; n=1000; p=1000; r=0.7;}, HDBSCAN)   \n",
       "                                                  SpectralSubspaceRandomization                        (\\parbox{1.5cm}{l=10.0; n=1000; p=1000; r=0.7;}, HDBSCAN)   \n",
       "                                                  WardAgglomerativeClustering                          (\\parbox{1.5cm}{l=10.0; n=1000; p=1000; r=0.7;}, HDBSCAN)   \n",
       "\\parbox{1.5cm}{l=50.0; n=100; p=10000; r=0.0;}    AffinityPropagation                      (\\parbox{1.5cm}{l=50.0; n=100; p=10000; r=0.0;}, RecursiveClustering)   \n",
       "                                                  DBSCAN                                   (\\parbox{1.5cm}{l=50.0; n=100; p=10000; r=0.0;}, RecursiveClustering)   \n",
       "                                                  HDBSCAN                                  (\\parbox{1.5cm}{l=50.0; n=100; p=10000; r=0.0;}, RecursiveClustering)   \n",
       "                                                  KMeans                                   (\\parbox{1.5cm}{l=50.0; n=100; p=10000; r=0.0;}, RecursiveClustering)   \n",
       "                                                  OPTICS                                   (\\parbox{1.5cm}{l=50.0; n=100; p=10000; r=0.0;}, RecursiveClustering)   \n",
       "                                                  RecursiveClustering                      (\\parbox{1.5cm}{l=50.0; n=100; p=10000; r=0.0;}, RecursiveClustering)   \n",
       "                                                  SpectralSubspaceRandomization            (\\parbox{1.5cm}{l=50.0; n=100; p=10000; r=0.0;}, RecursiveClustering)   \n",
       "                                                  WardAgglomerativeClustering              (\\parbox{1.5cm}{l=50.0; n=100; p=10000; r=0.0;}, RecursiveClustering)   \n",
       "\n",
       "                                                                                                                                                                  \n",
       "                                                                                                                                                             std  \n",
       "Config.                                           Model                                                                                                           \n",
       "\\parbox{1.5cm}{l=100.0; n=1000; p=1000; r=0.0;}   AffinityPropagation                     (\\parbox{1.5cm}{l=100.0; n=1000; p=1000; r=0.0;}, AffinityPropagation)  \n",
       "                                                  DBSCAN                                  (\\parbox{1.5cm}{l=100.0; n=1000; p=1000; r=0.0;}, AffinityPropagation)  \n",
       "                                                  HDBSCAN                                 (\\parbox{1.5cm}{l=100.0; n=1000; p=1000; r=0.0;}, AffinityPropagation)  \n",
       "                                                  KMeans                                  (\\parbox{1.5cm}{l=100.0; n=1000; p=1000; r=0.0;}, AffinityPropagation)  \n",
       "                                                  OPTICS                                  (\\parbox{1.5cm}{l=100.0; n=1000; p=1000; r=0.0;}, AffinityPropagation)  \n",
       "                                                  RecursiveClustering                     (\\parbox{1.5cm}{l=100.0; n=1000; p=1000; r=0.0;}, AffinityPropagation)  \n",
       "                                                  SpectralSubspaceRandomization           (\\parbox{1.5cm}{l=100.0; n=1000; p=1000; r=0.0;}, AffinityPropagation)  \n",
       "                                                  WardAgglomerativeClustering             (\\parbox{1.5cm}{l=100.0; n=1000; p=1000; r=0.0;}, AffinityPropagation)  \n",
       "\\parbox{1.5cm}{l=100.0; n=10000; p=10000; r=0.0;} AffinityPropagation                                                                                        NaN  \n",
       "                                                  DBSCAN                                                                                                     NaN  \n",
       "                                                  HDBSCAN                                                                                                    NaN  \n",
       "                                                  KMeans                                                                                                     NaN  \n",
       "                                                  OPTICS                                                                                                     NaN  \n",
       "                                                  RecursiveClustering                                                                                        NaN  \n",
       "                                                  SpectralSubspaceRandomization                                                                              NaN  \n",
       "                                                  WardAgglomerativeClustering                                                                                NaN  \n",
       "\\parbox{1.5cm}{l=10.0; n=1000; p=1000; r=0.0;}    AffinityPropagation                                  (\\parbox{1.5cm}{l=10.0; n=1000; p=1000; r=0.0;}, HDBSCAN)  \n",
       "                                                  DBSCAN                                               (\\parbox{1.5cm}{l=10.0; n=1000; p=1000; r=0.0;}, HDBSCAN)  \n",
       "                                                  HDBSCAN                                              (\\parbox{1.5cm}{l=10.0; n=1000; p=1000; r=0.0;}, HDBSCAN)  \n",
       "                                                  KMeans                                               (\\parbox{1.5cm}{l=10.0; n=1000; p=1000; r=0.0;}, HDBSCAN)  \n",
       "                                                  OPTICS                                               (\\parbox{1.5cm}{l=10.0; n=1000; p=1000; r=0.0;}, HDBSCAN)  \n",
       "                                                  RecursiveClustering                                  (\\parbox{1.5cm}{l=10.0; n=1000; p=1000; r=0.0;}, HDBSCAN)  \n",
       "                                                  SpectralSubspaceRandomization                        (\\parbox{1.5cm}{l=10.0; n=1000; p=1000; r=0.0;}, HDBSCAN)  \n",
       "                                                  WardAgglomerativeClustering                          (\\parbox{1.5cm}{l=10.0; n=1000; p=1000; r=0.0;}, HDBSCAN)  \n",
       "\\parbox{1.5cm}{l=10.0; n=1000; p=1000; r=0.2;}    AffinityPropagation                                  (\\parbox{1.5cm}{l=10.0; n=1000; p=1000; r=0.2;}, HDBSCAN)  \n",
       "                                                  DBSCAN                                               (\\parbox{1.5cm}{l=10.0; n=1000; p=1000; r=0.2;}, HDBSCAN)  \n",
       "                                                  HDBSCAN                                              (\\parbox{1.5cm}{l=10.0; n=1000; p=1000; r=0.2;}, HDBSCAN)  \n",
       "                                                  KMeans                                               (\\parbox{1.5cm}{l=10.0; n=1000; p=1000; r=0.2;}, HDBSCAN)  \n",
       "                                                  OPTICS                                               (\\parbox{1.5cm}{l=10.0; n=1000; p=1000; r=0.2;}, HDBSCAN)  \n",
       "                                                  RecursiveClustering                                  (\\parbox{1.5cm}{l=10.0; n=1000; p=1000; r=0.2;}, HDBSCAN)  \n",
       "                                                  SpectralSubspaceRandomization                        (\\parbox{1.5cm}{l=10.0; n=1000; p=1000; r=0.2;}, HDBSCAN)  \n",
       "                                                  WardAgglomerativeClustering                          (\\parbox{1.5cm}{l=10.0; n=1000; p=1000; r=0.2;}, HDBSCAN)  \n",
       "\\parbox{1.5cm}{l=10.0; n=1000; p=1000; r=0.5;}    AffinityPropagation                                   (\\parbox{1.5cm}{l=10.0; n=1000; p=1000; r=0.5;}, OPTICS)  \n",
       "                                                  DBSCAN                                                (\\parbox{1.5cm}{l=10.0; n=1000; p=1000; r=0.5;}, OPTICS)  \n",
       "                                                  HDBSCAN                                               (\\parbox{1.5cm}{l=10.0; n=1000; p=1000; r=0.5;}, OPTICS)  \n",
       "                                                  KMeans                                                (\\parbox{1.5cm}{l=10.0; n=1000; p=1000; r=0.5;}, OPTICS)  \n",
       "                                                  OPTICS                                                (\\parbox{1.5cm}{l=10.0; n=1000; p=1000; r=0.5;}, OPTICS)  \n",
       "                                                  RecursiveClustering                                   (\\parbox{1.5cm}{l=10.0; n=1000; p=1000; r=0.5;}, OPTICS)  \n",
       "                                                  SpectralSubspaceRandomization                         (\\parbox{1.5cm}{l=10.0; n=1000; p=1000; r=0.5;}, OPTICS)  \n",
       "                                                  WardAgglomerativeClustering                           (\\parbox{1.5cm}{l=10.0; n=1000; p=1000; r=0.5;}, OPTICS)  \n",
       "\\parbox{1.5cm}{l=10.0; n=1000; p=1000; r=0.7;}    AffinityPropagation                                   (\\parbox{1.5cm}{l=10.0; n=1000; p=1000; r=0.7;}, KMeans)  \n",
       "                                                  DBSCAN                                                (\\parbox{1.5cm}{l=10.0; n=1000; p=1000; r=0.7;}, KMeans)  \n",
       "                                                  HDBSCAN                                               (\\parbox{1.5cm}{l=10.0; n=1000; p=1000; r=0.7;}, KMeans)  \n",
       "                                                  KMeans                                                (\\parbox{1.5cm}{l=10.0; n=1000; p=1000; r=0.7;}, KMeans)  \n",
       "                                                  OPTICS                                                (\\parbox{1.5cm}{l=10.0; n=1000; p=1000; r=0.7;}, KMeans)  \n",
       "                                                  RecursiveClustering                                   (\\parbox{1.5cm}{l=10.0; n=1000; p=1000; r=0.7;}, KMeans)  \n",
       "                                                  SpectralSubspaceRandomization                         (\\parbox{1.5cm}{l=10.0; n=1000; p=1000; r=0.7;}, KMeans)  \n",
       "                                                  WardAgglomerativeClustering                           (\\parbox{1.5cm}{l=10.0; n=1000; p=1000; r=0.7;}, KMeans)  \n",
       "\\parbox{1.5cm}{l=50.0; n=100; p=10000; r=0.0;}    AffinityPropagation            (\\parbox{1.5cm}{l=50.0; n=100; p=10000; r=0.0;}, SpectralSubspaceRandomization)  \n",
       "                                                  DBSCAN                         (\\parbox{1.5cm}{l=50.0; n=100; p=10000; r=0.0;}, SpectralSubspaceRandomization)  \n",
       "                                                  HDBSCAN                        (\\parbox{1.5cm}{l=50.0; n=100; p=10000; r=0.0;}, SpectralSubspaceRandomization)  \n",
       "                                                  KMeans                         (\\parbox{1.5cm}{l=50.0; n=100; p=10000; r=0.0;}, SpectralSubspaceRandomization)  \n",
       "                                                  OPTICS                         (\\parbox{1.5cm}{l=50.0; n=100; p=10000; r=0.0;}, SpectralSubspaceRandomization)  \n",
       "                                                  RecursiveClustering            (\\parbox{1.5cm}{l=50.0; n=100; p=10000; r=0.0;}, SpectralSubspaceRandomization)  \n",
       "                                                  SpectralSubspaceRandomization  (\\parbox{1.5cm}{l=50.0; n=100; p=10000; r=0.0;}, SpectralSubspaceRandomization)  \n",
       "                                                  WardAgglomerativeClustering    (\\parbox{1.5cm}{l=50.0; n=100; p=10000; r=0.0;}, SpectralSubspaceRandomization)  "
      ]
     },
     "metadata": {},
     "output_type": "display_data"
    }
   ],
   "source": [
    "with pd.option_context('display.max_colwidth', None):\n",
    "    display(df.style.highlight_max(subset=[('ARI', 'mean')], axis=0))"
   ]
  },
  {
   "cell_type": "code",
   "execution_count": null,
   "id": "c24a29cf-732a-416e-99aa-80c16738f00a",
   "metadata": {},
   "outputs": [],
   "source": []
  },
  {
   "cell_type": "code",
   "execution_count": null,
   "id": "d940fc39-ae06-4cb2-951e-e18a9d15ca4f",
   "metadata": {},
   "outputs": [],
   "source": []
  },
  {
   "cell_type": "code",
   "execution_count": null,
   "id": "c96269fd-35fd-49c3-9c5d-555130670ddd",
   "metadata": {},
   "outputs": [],
   "source": []
  },
  {
   "cell_type": "markdown",
   "id": "6bfc34a7",
   "metadata": {},
   "source": [
    "# Debug and explore"
   ]
  },
  {
   "cell_type": "code",
   "execution_count": 61,
   "id": "006db7c9-57b5-447a-9101-57b2ff88f48a",
   "metadata": {
    "ExecuteTime": {
     "end_time": "2025-01-15T09:44:08.959554Z",
     "start_time": "2025-01-15T09:44:08.946030Z"
    }
   },
   "outputs": [],
   "source": [
    "df = df_runs_raw_parents.copy()\n",
    "df = df.loc[df['model_nickname'] == 'SpectralClustering']\n",
    "df = df.loc[df['n_samples'] == '10000']\n",
    "df = df.loc[df['n_features'] == '100']\n",
    "df = df.loc[df['best_adjusted_rand'].isna()]"
   ]
  },
  {
   "cell_type": "code",
   "execution_count": 62,
   "id": "7ed57a52-6a8f-44cf-80f4-008d5edb6a78",
   "metadata": {
    "ExecuteTime": {
     "end_time": "2025-01-15T09:44:09.412943Z",
     "start_time": "2025-01-15T09:44:09.400882Z"
    },
    "scrolled": true
   },
   "outputs": [
    {
     "data": {
      "text/html": [
       "<div>\n",
       "<style scoped>\n",
       "    .dataframe tbody tr th:only-of-type {\n",
       "        vertical-align: middle;\n",
       "    }\n",
       "\n",
       "    .dataframe tbody tr th {\n",
       "        vertical-align: top;\n",
       "    }\n",
       "\n",
       "    .dataframe thead th {\n",
       "        text-align: right;\n",
       "    }\n",
       "</style>\n",
       "<table border=\"1\" class=\"dataframe\">\n",
       "  <thead>\n",
       "    <tr style=\"text-align: right;\">\n",
       "      <th>key</th>\n",
       "      <th>status</th>\n",
       "      <th>start_time</th>\n",
       "      <th>end_time</th>\n",
       "      <th>class_sep</th>\n",
       "      <th>model_nickname</th>\n",
       "      <th>n_classes</th>\n",
       "      <th>n_features</th>\n",
       "      <th>n_informative</th>\n",
       "      <th>n_random</th>\n",
       "      <th>n_samples</th>\n",
       "      <th>...</th>\n",
       "      <th>max_memory_used</th>\n",
       "      <th>mutual_info</th>\n",
       "      <th>n_clusters_</th>\n",
       "      <th>normalized_mutual_info</th>\n",
       "      <th>rand_score</th>\n",
       "      <th>silhouette</th>\n",
       "      <th>EXCEPTION</th>\n",
       "      <th>best_child_run_id</th>\n",
       "      <th>parent_run_id</th>\n",
       "      <th>raised_exception</th>\n",
       "    </tr>\n",
       "    <tr>\n",
       "      <th>run_uuid</th>\n",
       "      <th></th>\n",
       "      <th></th>\n",
       "      <th></th>\n",
       "      <th></th>\n",
       "      <th></th>\n",
       "      <th></th>\n",
       "      <th></th>\n",
       "      <th></th>\n",
       "      <th></th>\n",
       "      <th></th>\n",
       "      <th></th>\n",
       "      <th></th>\n",
       "      <th></th>\n",
       "      <th></th>\n",
       "      <th></th>\n",
       "      <th></th>\n",
       "      <th></th>\n",
       "      <th></th>\n",
       "      <th></th>\n",
       "      <th></th>\n",
       "      <th></th>\n",
       "    </tr>\n",
       "  </thead>\n",
       "  <tbody>\n",
       "    <tr>\n",
       "      <th>030506f367eb4de3ba20854815b5204e</th>\n",
       "      <td>RUNNING</td>\n",
       "      <td>1736933684597</td>\n",
       "      <td>NaN</td>\n",
       "      <td>50.0</td>\n",
       "      <td>SpectralClustering</td>\n",
       "      <td>5</td>\n",
       "      <td>100</td>\n",
       "      <td>2</td>\n",
       "      <td>16</td>\n",
       "      <td>10000</td>\n",
       "      <td>...</td>\n",
       "      <td>NaN</td>\n",
       "      <td>NaN</td>\n",
       "      <td>NaN</td>\n",
       "      <td>NaN</td>\n",
       "      <td>NaN</td>\n",
       "      <td>NaN</td>\n",
       "      <td>NaN</td>\n",
       "      <td>NaN</td>\n",
       "      <td>NaN</td>\n",
       "      <td>NaN</td>\n",
       "    </tr>\n",
       "    <tr>\n",
       "      <th>0a9621d4c0b94f71b8b3381c6fb5c007</th>\n",
       "      <td>RUNNING</td>\n",
       "      <td>1736933682412</td>\n",
       "      <td>NaN</td>\n",
       "      <td>50.0</td>\n",
       "      <td>SpectralClustering</td>\n",
       "      <td>5</td>\n",
       "      <td>100</td>\n",
       "      <td>2</td>\n",
       "      <td>16</td>\n",
       "      <td>10000</td>\n",
       "      <td>...</td>\n",
       "      <td>NaN</td>\n",
       "      <td>NaN</td>\n",
       "      <td>NaN</td>\n",
       "      <td>NaN</td>\n",
       "      <td>NaN</td>\n",
       "      <td>NaN</td>\n",
       "      <td>NaN</td>\n",
       "      <td>NaN</td>\n",
       "      <td>NaN</td>\n",
       "      <td>NaN</td>\n",
       "    </tr>\n",
       "    <tr>\n",
       "      <th>4283d0ec6c2a44609380a30ba9ad84b7</th>\n",
       "      <td>RUNNING</td>\n",
       "      <td>1736933676990</td>\n",
       "      <td>NaN</td>\n",
       "      <td>100.0</td>\n",
       "      <td>SpectralClustering</td>\n",
       "      <td>5</td>\n",
       "      <td>100</td>\n",
       "      <td>2</td>\n",
       "      <td>16</td>\n",
       "      <td>10000</td>\n",
       "      <td>...</td>\n",
       "      <td>NaN</td>\n",
       "      <td>NaN</td>\n",
       "      <td>NaN</td>\n",
       "      <td>NaN</td>\n",
       "      <td>NaN</td>\n",
       "      <td>NaN</td>\n",
       "      <td>NaN</td>\n",
       "      <td>NaN</td>\n",
       "      <td>NaN</td>\n",
       "      <td>NaN</td>\n",
       "    </tr>\n",
       "    <tr>\n",
       "      <th>86f54c66e3a24ae3abd719993b9e8e8f</th>\n",
       "      <td>RUNNING</td>\n",
       "      <td>1736933680295</td>\n",
       "      <td>NaN</td>\n",
       "      <td>10.0</td>\n",
       "      <td>SpectralClustering</td>\n",
       "      <td>5</td>\n",
       "      <td>100</td>\n",
       "      <td>2</td>\n",
       "      <td>16</td>\n",
       "      <td>10000</td>\n",
       "      <td>...</td>\n",
       "      <td>NaN</td>\n",
       "      <td>NaN</td>\n",
       "      <td>NaN</td>\n",
       "      <td>NaN</td>\n",
       "      <td>NaN</td>\n",
       "      <td>NaN</td>\n",
       "      <td>NaN</td>\n",
       "      <td>NaN</td>\n",
       "      <td>NaN</td>\n",
       "      <td>NaN</td>\n",
       "    </tr>\n",
       "    <tr>\n",
       "      <th>d40e99f19313471b849c6a89d5714ec3</th>\n",
       "      <td>RUNNING</td>\n",
       "      <td>1736933677012</td>\n",
       "      <td>NaN</td>\n",
       "      <td>10.0</td>\n",
       "      <td>SpectralClustering</td>\n",
       "      <td>5</td>\n",
       "      <td>100</td>\n",
       "      <td>2</td>\n",
       "      <td>16</td>\n",
       "      <td>10000</td>\n",
       "      <td>...</td>\n",
       "      <td>NaN</td>\n",
       "      <td>NaN</td>\n",
       "      <td>NaN</td>\n",
       "      <td>NaN</td>\n",
       "      <td>NaN</td>\n",
       "      <td>NaN</td>\n",
       "      <td>NaN</td>\n",
       "      <td>NaN</td>\n",
       "      <td>NaN</td>\n",
       "      <td>NaN</td>\n",
       "    </tr>\n",
       "    <tr>\n",
       "      <th>f2472d2177ee4224888a3f9221aa27f8</th>\n",
       "      <td>RUNNING</td>\n",
       "      <td>1736933676833</td>\n",
       "      <td>NaN</td>\n",
       "      <td>100.0</td>\n",
       "      <td>SpectralClustering</td>\n",
       "      <td>5</td>\n",
       "      <td>100</td>\n",
       "      <td>2</td>\n",
       "      <td>16</td>\n",
       "      <td>10000</td>\n",
       "      <td>...</td>\n",
       "      <td>NaN</td>\n",
       "      <td>NaN</td>\n",
       "      <td>NaN</td>\n",
       "      <td>NaN</td>\n",
       "      <td>NaN</td>\n",
       "      <td>NaN</td>\n",
       "      <td>NaN</td>\n",
       "      <td>NaN</td>\n",
       "      <td>NaN</td>\n",
       "      <td>NaN</td>\n",
       "    </tr>\n",
       "  </tbody>\n",
       "</table>\n",
       "<p>6 rows × 32 columns</p>\n",
       "</div>"
      ],
      "text/plain": [
       "key                                status     start_time  end_time class_sep  \\\n",
       "run_uuid                                                                       \n",
       "030506f367eb4de3ba20854815b5204e  RUNNING  1736933684597       NaN      50.0   \n",
       "0a9621d4c0b94f71b8b3381c6fb5c007  RUNNING  1736933682412       NaN      50.0   \n",
       "4283d0ec6c2a44609380a30ba9ad84b7  RUNNING  1736933676990       NaN     100.0   \n",
       "86f54c66e3a24ae3abd719993b9e8e8f  RUNNING  1736933680295       NaN      10.0   \n",
       "d40e99f19313471b849c6a89d5714ec3  RUNNING  1736933677012       NaN      10.0   \n",
       "f2472d2177ee4224888a3f9221aa27f8  RUNNING  1736933676833       NaN     100.0   \n",
       "\n",
       "key                                   model_nickname n_classes n_features  \\\n",
       "run_uuid                                                                    \n",
       "030506f367eb4de3ba20854815b5204e  SpectralClustering         5        100   \n",
       "0a9621d4c0b94f71b8b3381c6fb5c007  SpectralClustering         5        100   \n",
       "4283d0ec6c2a44609380a30ba9ad84b7  SpectralClustering         5        100   \n",
       "86f54c66e3a24ae3abd719993b9e8e8f  SpectralClustering         5        100   \n",
       "d40e99f19313471b849c6a89d5714ec3  SpectralClustering         5        100   \n",
       "f2472d2177ee4224888a3f9221aa27f8  SpectralClustering         5        100   \n",
       "\n",
       "key                              n_informative n_random n_samples  ...  \\\n",
       "run_uuid                                                           ...   \n",
       "030506f367eb4de3ba20854815b5204e             2       16     10000  ...   \n",
       "0a9621d4c0b94f71b8b3381c6fb5c007             2       16     10000  ...   \n",
       "4283d0ec6c2a44609380a30ba9ad84b7             2       16     10000  ...   \n",
       "86f54c66e3a24ae3abd719993b9e8e8f             2       16     10000  ...   \n",
       "d40e99f19313471b849c6a89d5714ec3             2       16     10000  ...   \n",
       "f2472d2177ee4224888a3f9221aa27f8             2       16     10000  ...   \n",
       "\n",
       "key                              max_memory_used mutual_info  n_clusters_  \\\n",
       "run_uuid                                                                    \n",
       "030506f367eb4de3ba20854815b5204e             NaN         NaN          NaN   \n",
       "0a9621d4c0b94f71b8b3381c6fb5c007             NaN         NaN          NaN   \n",
       "4283d0ec6c2a44609380a30ba9ad84b7             NaN         NaN          NaN   \n",
       "86f54c66e3a24ae3abd719993b9e8e8f             NaN         NaN          NaN   \n",
       "d40e99f19313471b849c6a89d5714ec3             NaN         NaN          NaN   \n",
       "f2472d2177ee4224888a3f9221aa27f8             NaN         NaN          NaN   \n",
       "\n",
       "key                               normalized_mutual_info  rand_score  \\\n",
       "run_uuid                                                               \n",
       "030506f367eb4de3ba20854815b5204e                     NaN         NaN   \n",
       "0a9621d4c0b94f71b8b3381c6fb5c007                     NaN         NaN   \n",
       "4283d0ec6c2a44609380a30ba9ad84b7                     NaN         NaN   \n",
       "86f54c66e3a24ae3abd719993b9e8e8f                     NaN         NaN   \n",
       "d40e99f19313471b849c6a89d5714ec3                     NaN         NaN   \n",
       "f2472d2177ee4224888a3f9221aa27f8                     NaN         NaN   \n",
       "\n",
       "key                               silhouette  EXCEPTION  best_child_run_id  \\\n",
       "run_uuid                                                                     \n",
       "030506f367eb4de3ba20854815b5204e         NaN        NaN                NaN   \n",
       "0a9621d4c0b94f71b8b3381c6fb5c007         NaN        NaN                NaN   \n",
       "4283d0ec6c2a44609380a30ba9ad84b7         NaN        NaN                NaN   \n",
       "86f54c66e3a24ae3abd719993b9e8e8f         NaN        NaN                NaN   \n",
       "d40e99f19313471b849c6a89d5714ec3         NaN        NaN                NaN   \n",
       "f2472d2177ee4224888a3f9221aa27f8         NaN        NaN                NaN   \n",
       "\n",
       "key                               parent_run_id  raised_exception  \n",
       "run_uuid                                                           \n",
       "030506f367eb4de3ba20854815b5204e            NaN               NaN  \n",
       "0a9621d4c0b94f71b8b3381c6fb5c007            NaN               NaN  \n",
       "4283d0ec6c2a44609380a30ba9ad84b7            NaN               NaN  \n",
       "86f54c66e3a24ae3abd719993b9e8e8f            NaN               NaN  \n",
       "d40e99f19313471b849c6a89d5714ec3            NaN               NaN  \n",
       "f2472d2177ee4224888a3f9221aa27f8            NaN               NaN  \n",
       "\n",
       "[6 rows x 32 columns]"
      ]
     },
     "execution_count": 62,
     "metadata": {},
     "output_type": "execute_result"
    }
   ],
   "source": [
    "df"
   ]
  },
  {
   "cell_type": "code",
   "execution_count": 38,
   "id": "dad6f68bbd1182a",
   "metadata": {
    "ExecuteTime": {
     "end_time": "2025-01-15T09:30:57.642030Z",
     "start_time": "2025-01-15T09:30:57.638809Z"
    }
   },
   "outputs": [],
   "source": [
    "parent_run_ids = list(df.index)"
   ]
  },
  {
   "cell_type": "code",
   "execution_count": 39,
   "id": "e5f3510464e6d7a",
   "metadata": {
    "ExecuteTime": {
     "end_time": "2025-01-15T09:30:58.012557Z",
     "start_time": "2025-01-15T09:30:58.009413Z"
    }
   },
   "outputs": [
    {
     "data": {
      "text/plain": [
       "['19a02df7b5aa4cf7afa3bd89746701e6',\n",
       " '49cd3a57c8c445888338d601be88e165',\n",
       " '4ca1b086e9d54eb69b43c9d2a9f61751',\n",
       " '8ebecbdcf2534dbdb37fab56eb920877',\n",
       " 'bc25dc49e69644d9b4ea7d47831c0db5',\n",
       " 'c08e53cf4d534e67904e72ae35794d0e']"
      ]
     },
     "execution_count": 39,
     "metadata": {},
     "output_type": "execute_result"
    }
   ],
   "source": [
    "parent_run_ids"
   ]
  },
  {
   "cell_type": "code",
   "execution_count": 40,
   "id": "f5518fd0f46eb043",
   "metadata": {
    "ExecuteTime": {
     "end_time": "2025-01-15T09:31:09.500407Z",
     "start_time": "2025-01-15T09:31:08.925019Z"
    }
   },
   "outputs": [],
   "source": [
    "df = df_runs_raw.copy()\n",
    "df = df.loc[df['parent_run_id'].isin(parent_run_ids)]"
   ]
  },
  {
   "cell_type": "code",
   "execution_count": 41,
   "id": "f4c51f057597faba",
   "metadata": {
    "ExecuteTime": {
     "end_time": "2025-01-15T09:31:11.357362Z",
     "start_time": "2025-01-15T09:31:11.352283Z"
    }
   },
   "outputs": [],
   "source": [
    "child_run_ids = list(df.index)"
   ]
  },
  {
   "cell_type": "code",
   "execution_count": 42,
   "id": "d0d1a4c59166ed93",
   "metadata": {
    "ExecuteTime": {
     "end_time": "2025-01-15T09:31:13.239066Z",
     "start_time": "2025-01-15T09:31:13.236375Z"
    }
   },
   "outputs": [],
   "source": [
    "runs_to_delete = parent_run_ids + child_run_ids"
   ]
  },
  {
   "cell_type": "code",
   "execution_count": 43,
   "id": "6387b481b5a2ae8e",
   "metadata": {
    "ExecuteTime": {
     "end_time": "2025-01-15T09:31:13.636916Z",
     "start_time": "2025-01-15T09:31:13.632985Z"
    }
   },
   "outputs": [
    {
     "data": {
      "text/plain": [
       "['19a02df7b5aa4cf7afa3bd89746701e6',\n",
       " '49cd3a57c8c445888338d601be88e165',\n",
       " '4ca1b086e9d54eb69b43c9d2a9f61751',\n",
       " '8ebecbdcf2534dbdb37fab56eb920877',\n",
       " 'bc25dc49e69644d9b4ea7d47831c0db5',\n",
       " 'c08e53cf4d534e67904e72ae35794d0e',\n",
       " '1d4c759e165b4267af1d71e2dadb662e',\n",
       " '4731af3b49f94df79ed9c06cb61e5da9',\n",
       " '667f300899fe4b998d839e3958dedbd0',\n",
       " '8f9e6a95c8bd4f838fcb3085a3927482',\n",
       " 'c7b04bdc92654f8da5f28f7a0474de79',\n",
       " 'e97b7dd9f4c94acb95ad1b389c91aa3d']"
      ]
     },
     "execution_count": 43,
     "metadata": {},
     "output_type": "execute_result"
    }
   ],
   "source": [
    "runs_to_delete"
   ]
  },
  {
   "cell_type": "code",
   "execution_count": 44,
   "id": "25ee2425-49bb-409f-950d-5858dbc353f1",
   "metadata": {
    "ExecuteTime": {
     "end_time": "2025-01-15T09:31:21.620811Z",
     "start_time": "2025-01-15T09:31:21.616876Z"
    }
   },
   "outputs": [],
   "source": [
    "run_uuid_query = [f\"'{run_id}'\" for run_id in runs_to_delete]\n",
    "run_uuid_query = ', '.join(run_uuid_query)"
   ]
  },
  {
   "cell_type": "code",
   "execution_count": 45,
   "id": "8faf9a3d-1826-4bd5-bb4b-e345b78dc64b",
   "metadata": {
    "ExecuteTime": {
     "end_time": "2025-01-15T09:31:24.135749Z",
     "start_time": "2025-01-15T09:31:24.110014Z"
    }
   },
   "outputs": [],
   "source": [
    "query = f\"\"\"\n",
    "UPDATE runs\n",
    "SET lifecycle_stage = 'deleted'\n",
    "WHERE run_uuid IN ({run_uuid_query}) \n",
    "\"\"\"\n",
    "with engine.begin() as conn:\n",
    "    conn.execute(text(query))"
   ]
  },
  {
   "cell_type": "markdown",
   "id": "50445ba0-7375-4be6-8bde-0607911a3637",
   "metadata": {},
   "source": [
    "for i, row in df_runs_raw.iterrows():\n",
    "    run_id = row.run_id\n",
    "    model_name = row['params.model_name']\n",
    "    with mlflow.start_run(run_id) as run:\n",
    "        mlflow.log_param('model_nickname', model_name)    "
   ]
  }
 ],
 "metadata": {
  "kernelspec": {
   "display_name": "tab_benchmark",
   "language": "python",
   "name": "tab_benchmark"
  },
  "language_info": {
   "codemirror_mode": {
    "name": "ipython",
    "version": 3
   },
   "file_extension": ".py",
   "mimetype": "text/x-python",
   "name": "python",
   "nbconvert_exporter": "python",
   "pygments_lexer": "ipython3",
   "version": "3.11.9"
  }
 },
 "nbformat": 4,
 "nbformat_minor": 5
}
