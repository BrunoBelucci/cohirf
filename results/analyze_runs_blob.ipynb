{
 "cells": [
  {
   "cell_type": "code",
   "id": "1f85d4fd",
   "metadata": {
    "ExecuteTime": {
     "end_time": "2025-01-30T15:17:26.315733Z",
     "start_time": "2025-01-30T15:17:25.019007Z"
    }
   },
   "source": [
    "from sqlalchemy import create_engine, text\n",
    "import pandas as pd\n",
    "from ml_experiments.analyze import get_df_runs_from_mlflow_sql, get_missing_entries, get_common_combinations, get_df_with_combinations\n",
    "import plotly.express as px\n",
    "from itertools import product\n",
    "import time\n",
    "import numpy as np"
   ],
   "outputs": [],
   "execution_count": 1
  },
  {
   "cell_type": "markdown",
   "id": "6a3938ba",
   "metadata": {},
   "source": [
    "# Save Results"
   ]
  },
  {
   "cell_type": "markdown",
   "id": "063d38d6",
   "metadata": {},
   "source": [
    "## Load mlflow runs"
   ]
  },
  {
   "cell_type": "code",
   "id": "796bc2d4",
   "metadata": {
    "ExecuteTime": {
     "end_time": "2025-01-30T16:41:11.948089Z",
     "start_time": "2025-01-30T16:41:11.818414Z"
    }
   },
   "source": [
    "db_port = 5003\n",
    "db_name = 'recursive_clustering'\n",
    "w = 'clust9'\n",
    "# url = f'postgresql://{w}.ceremade.dauphine.lan:{db_port}/{db_name}'\n",
    "url = f'postgresql://belucci@localhost:{db_port}/{db_name}'\n",
    "engine = create_engine(url)\n",
    "query = 'SELECT experiments.name from experiments'\n",
    "experiment_names = pd.read_sql(query, engine)['name'].tolist()\n",
    "# results_dir = Path('~/tab_benchmark/results')\n",
    "# os.makedirs(results_dir, exist_ok=True)"
   ],
   "outputs": [],
   "execution_count": 207
  },
  {
   "cell_type": "code",
   "id": "a5d787a8-9184-4399-9178-db921e4f4cc5",
   "metadata": {
    "ExecuteTime": {
     "end_time": "2025-01-30T16:41:12.101616Z",
     "start_time": "2025-01-30T16:41:12.098352Z"
    }
   },
   "source": [
    "experiment_names"
   ],
   "outputs": [
    {
     "data": {
      "text/plain": [
       "['Default',\n",
       " 'blob_experiment',\n",
       " 'hpo_classif_experiment',\n",
       " 'hpo_openml_experiment',\n",
       " 'hpo_gaussian_experiment',\n",
       " 'hpo_openml_final',\n",
       " 'outlier_hc',\n",
       " 'time_hc']"
      ]
     },
     "execution_count": 208,
     "metadata": {},
     "output_type": "execute_result"
    }
   ],
   "execution_count": 208
  },
  {
   "cell_type": "code",
   "id": "4ed24836-1159-4283-bba2-647e80f3e48a",
   "metadata": {
    "ExecuteTime": {
     "end_time": "2025-01-30T16:41:12.256991Z",
     "start_time": "2025-01-30T16:41:12.254879Z"
    }
   },
   "source": [
    "experiments_names = [\n",
    "    'blob_experiment',\n",
    "]"
   ],
   "outputs": [],
   "execution_count": 209
  },
  {
   "cell_type": "code",
   "id": "7cbcd544-55f8-4316-a9e0-483822d4da62",
   "metadata": {
    "ExecuteTime": {
     "end_time": "2025-01-30T16:41:12.377333Z",
     "start_time": "2025-01-30T16:41:12.374865Z"
    }
   },
   "source": [
    "params_columns = [\n",
    "    'model_nickname',\n",
    "    'n_samples',\n",
    "    'n_features',\n",
    "    'n_cores',\n",
    "    'n_jobs',\n",
    "    'model_params/representative_method',\n",
    "    'seed_dataset',\n",
    "]"
   ],
   "outputs": [],
   "execution_count": 210
  },
  {
   "cell_type": "code",
   "id": "54adf5d4-9285-4af5-83f7-11d351c790fc",
   "metadata": {
    "ExecuteTime": {
     "end_time": "2025-01-30T16:41:12.526076Z",
     "start_time": "2025-01-30T16:41:12.523930Z"
    }
   },
   "source": [
    "latest_metrics_columns = [\n",
    "    'fit_model_return_elapsed_time',\n",
    "    'max_memory_used'\n",
    "]"
   ],
   "outputs": [],
   "execution_count": 211
  },
  {
   "cell_type": "code",
   "id": "f34719ec-326d-41e5-9ac1-74fd7e73c887",
   "metadata": {
    "ExecuteTime": {
     "end_time": "2025-01-30T16:41:12.714765Z",
     "start_time": "2025-01-30T16:41:12.712095Z"
    }
   },
   "source": [
    "tags_columns = [\n",
    "    'raised_exception',\n",
    "    'EXCEPTION'\n",
    "]"
   ],
   "outputs": [],
   "execution_count": 212
  },
  {
   "cell_type": "code",
   "id": "7a771e592e8de7ce",
   "metadata": {
    "ExecuteTime": {
     "end_time": "2025-01-30T16:41:15.235558Z",
     "start_time": "2025-01-30T16:41:12.875088Z"
    }
   },
   "source": [
    "runs_columns = ['run_uuid', 'status', 'start_time', 'end_time']\n",
    "experiments_columns = []\n",
    "other_table = 'params'\n",
    "other_table_keys = params_columns\n",
    "df_params = get_df_runs_from_mlflow_sql(engine, runs_columns=runs_columns, experiments_columns=experiments_columns, experiments_names=experiments_names, other_table=other_table, other_table_keys=other_table_keys)\n",
    "df_latest_metrics = get_df_runs_from_mlflow_sql(engine, runs_columns=['run_uuid'], experiments_columns=experiments_columns, experiments_names=experiments_names, other_table='latest_metrics', other_table_keys=latest_metrics_columns)\n",
    "df_tags = get_df_runs_from_mlflow_sql(engine, runs_columns=['run_uuid'], experiments_columns=experiments_columns, experiments_names=experiments_names, other_table='tags', other_table_keys=tags_columns)"
   ],
   "outputs": [],
   "execution_count": 213
  },
  {
   "cell_type": "code",
   "id": "56ece867-3e41-463f-9808-a5770db4c686",
   "metadata": {
    "ExecuteTime": {
     "end_time": "2025-01-30T16:41:15.271905Z",
     "start_time": "2025-01-30T16:41:15.253994Z"
    }
   },
   "source": [
    "df_runs_raw = df_params.join(df_latest_metrics)\n",
    "df_runs_raw = df_runs_raw.join(df_tags)"
   ],
   "outputs": [],
   "execution_count": 214
  },
  {
   "cell_type": "code",
   "id": "b589cc73-1fc4-49ec-ba22-3163557b3b78",
   "metadata": {
    "ExecuteTime": {
     "end_time": "2025-01-30T16:41:15.334644Z",
     "start_time": "2025-01-30T16:41:15.320521Z"
    }
   },
   "source": [
    "df_runs_raw"
   ],
   "outputs": [
    {
     "data": {
      "text/plain": [
       "key                                 status     start_time      end_time  \\\n",
       "run_uuid                                                                  \n",
       "00069f9700f1440a9dd1c3e85a51c153  FINISHED  1732899429970  1.732899e+12   \n",
       "002ae3bc028c4dd6be9a023079ad331e  FINISHED  1738204074106  1.738204e+12   \n",
       "00554ba1404b47b489b3a115188a20e3   RUNNING  1738251002151           NaN   \n",
       "006d6f6e42a046d9aa1036b72d4c956b  FINISHED  1738254131466  1.738254e+12   \n",
       "00855d71613747f4aaab34ff2a216354  FINISHED  1738250378524  1.738250e+12   \n",
       "...                                    ...            ...           ...   \n",
       "ffa6616a8f40469985fa3e01985d0b9f   RUNNING  1733324309627           NaN   \n",
       "ffb49cd02bf84f6e9ea02faaccf8b08f  FINISHED  1732899554272  1.732900e+12   \n",
       "ffcd7958d9234c729e0727716e1247e8  FINISHED  1732899454862  1.732899e+12   \n",
       "ffd0bed75c72479e997f73763234e0f1  FINISHED  1733065861385  1.733066e+12   \n",
       "fff2bf99e0d2452da97d4a41184d7c76  FINISHED  1732903537734  1.732904e+12   \n",
       "\n",
       "key                                                model_nickname  \\\n",
       "run_uuid                                                            \n",
       "00069f9700f1440a9dd1c3e85a51c153              RecursiveClustering   \n",
       "002ae3bc028c4dd6be9a023079ad331e              RecursiveClustering   \n",
       "00554ba1404b47b489b3a115188a20e3      WardAgglomerativeClustering   \n",
       "006d6f6e42a046d9aa1036b72d4c956b                          HDBSCAN   \n",
       "00855d71613747f4aaab34ff2a216354              RecursiveClustering   \n",
       "...                                                           ...   \n",
       "ffa6616a8f40469985fa3e01985d0b9f  CompleteAgglomerativeClustering   \n",
       "ffb49cd02bf84f6e9ea02faaccf8b08f              RecursiveClustering   \n",
       "ffcd7958d9234c729e0727716e1247e8              RecursiveClustering   \n",
       "ffd0bed75c72479e997f73763234e0f1                           Clique   \n",
       "fff2bf99e0d2452da97d4a41184d7c76                           OPTICS   \n",
       "\n",
       "key                              model_params/representative_method n_cores  \\\n",
       "run_uuid                                                                      \n",
       "00069f9700f1440a9dd1c3e85a51c153                                NaN       1   \n",
       "002ae3bc028c4dd6be9a023079ad331e               closest_overall_1000       4   \n",
       "00554ba1404b47b489b3a115188a20e3                                NaN       4   \n",
       "006d6f6e42a046d9aa1036b72d4c956b                                NaN       4   \n",
       "00855d71613747f4aaab34ff2a216354                                NaN       4   \n",
       "...                                                             ...     ...   \n",
       "ffa6616a8f40469985fa3e01985d0b9f                                NaN       4   \n",
       "ffb49cd02bf84f6e9ea02faaccf8b08f                                NaN       1   \n",
       "ffcd7958d9234c729e0727716e1247e8                                NaN       1   \n",
       "ffd0bed75c72479e997f73763234e0f1                                NaN       1   \n",
       "fff2bf99e0d2452da97d4a41184d7c76                                NaN       1   \n",
       "\n",
       "key                              n_features n_jobs n_samples seed_dataset  \\\n",
       "run_uuid                                                                    \n",
       "00069f9700f1440a9dd1c3e85a51c153      14427      1       100            0   \n",
       "002ae3bc028c4dd6be9a023079ad331e      14427      4       347            0   \n",
       "00554ba1404b47b489b3a115188a20e3      14427    NaN     14427            3   \n",
       "006d6f6e42a046d9aa1036b72d4c956b       1202      4     14427            4   \n",
       "00855d71613747f4aaab34ff2a216354      14427      4       347            1   \n",
       "...                                     ...    ...       ...          ...   \n",
       "ffa6616a8f40469985fa3e01985d0b9f      14427    NaN     14427            0   \n",
       "ffb49cd02bf84f6e9ea02faaccf8b08f      50000      1     14427            0   \n",
       "ffcd7958d9234c729e0727716e1247e8       4163      1      4163            0   \n",
       "ffd0bed75c72479e997f73763234e0f1       1202    NaN      4163            0   \n",
       "fff2bf99e0d2452da97d4a41184d7c76       1202      1      1202            0   \n",
       "\n",
       "key                               fit_model_return_elapsed_time  \\\n",
       "run_uuid                                                          \n",
       "00069f9700f1440a9dd1c3e85a51c153                       0.108414   \n",
       "002ae3bc028c4dd6be9a023079ad331e                       0.348808   \n",
       "00554ba1404b47b489b3a115188a20e3                            NaN   \n",
       "006d6f6e42a046d9aa1036b72d4c956b                     225.304374   \n",
       "00855d71613747f4aaab34ff2a216354                       2.199081   \n",
       "...                                                         ...   \n",
       "ffa6616a8f40469985fa3e01985d0b9f                            NaN   \n",
       "ffb49cd02bf84f6e9ea02faaccf8b08f                      17.187922   \n",
       "ffcd7958d9234c729e0727716e1247e8                       1.280236   \n",
       "ffd0bed75c72479e997f73763234e0f1                       2.459768   \n",
       "fff2bf99e0d2452da97d4a41184d7c76                      39.756346   \n",
       "\n",
       "key                               max_memory_used EXCEPTION raised_exception  \n",
       "run_uuid                                                                      \n",
       "00069f9700f1440a9dd1c3e85a51c153          278.552       NaN            False  \n",
       "002ae3bc028c4dd6be9a023079ad331e          348.192       NaN            False  \n",
       "00554ba1404b47b489b3a115188a20e3              NaN       NaN              NaN  \n",
       "006d6f6e42a046d9aa1036b72d4c956b          543.728       NaN            False  \n",
       "00855d71613747f4aaab34ff2a216354          347.992       NaN            False  \n",
       "...                                           ...       ...              ...  \n",
       "ffa6616a8f40469985fa3e01985d0b9f              NaN       NaN              NaN  \n",
       "ffb49cd02bf84f6e9ea02faaccf8b08f        11611.328       NaN            False  \n",
       "ffcd7958d9234c729e0727716e1247e8         1224.972       NaN            False  \n",
       "ffd0bed75c72479e997f73763234e0f1        39392.436       NaN            False  \n",
       "fff2bf99e0d2452da97d4a41184d7c76        59044.508       NaN            False  \n",
       "\n",
       "[1123 rows x 14 columns]"
      ],
      "text/html": [
       "<div>\n",
       "<style scoped>\n",
       "    .dataframe tbody tr th:only-of-type {\n",
       "        vertical-align: middle;\n",
       "    }\n",
       "\n",
       "    .dataframe tbody tr th {\n",
       "        vertical-align: top;\n",
       "    }\n",
       "\n",
       "    .dataframe thead th {\n",
       "        text-align: right;\n",
       "    }\n",
       "</style>\n",
       "<table border=\"1\" class=\"dataframe\">\n",
       "  <thead>\n",
       "    <tr style=\"text-align: right;\">\n",
       "      <th>key</th>\n",
       "      <th>status</th>\n",
       "      <th>start_time</th>\n",
       "      <th>end_time</th>\n",
       "      <th>model_nickname</th>\n",
       "      <th>model_params/representative_method</th>\n",
       "      <th>n_cores</th>\n",
       "      <th>n_features</th>\n",
       "      <th>n_jobs</th>\n",
       "      <th>n_samples</th>\n",
       "      <th>seed_dataset</th>\n",
       "      <th>fit_model_return_elapsed_time</th>\n",
       "      <th>max_memory_used</th>\n",
       "      <th>EXCEPTION</th>\n",
       "      <th>raised_exception</th>\n",
       "    </tr>\n",
       "    <tr>\n",
       "      <th>run_uuid</th>\n",
       "      <th></th>\n",
       "      <th></th>\n",
       "      <th></th>\n",
       "      <th></th>\n",
       "      <th></th>\n",
       "      <th></th>\n",
       "      <th></th>\n",
       "      <th></th>\n",
       "      <th></th>\n",
       "      <th></th>\n",
       "      <th></th>\n",
       "      <th></th>\n",
       "      <th></th>\n",
       "      <th></th>\n",
       "    </tr>\n",
       "  </thead>\n",
       "  <tbody>\n",
       "    <tr>\n",
       "      <th>00069f9700f1440a9dd1c3e85a51c153</th>\n",
       "      <td>FINISHED</td>\n",
       "      <td>1732899429970</td>\n",
       "      <td>1.732899e+12</td>\n",
       "      <td>RecursiveClustering</td>\n",
       "      <td>NaN</td>\n",
       "      <td>1</td>\n",
       "      <td>14427</td>\n",
       "      <td>1</td>\n",
       "      <td>100</td>\n",
       "      <td>0</td>\n",
       "      <td>0.108414</td>\n",
       "      <td>278.552</td>\n",
       "      <td>NaN</td>\n",
       "      <td>False</td>\n",
       "    </tr>\n",
       "    <tr>\n",
       "      <th>002ae3bc028c4dd6be9a023079ad331e</th>\n",
       "      <td>FINISHED</td>\n",
       "      <td>1738204074106</td>\n",
       "      <td>1.738204e+12</td>\n",
       "      <td>RecursiveClustering</td>\n",
       "      <td>closest_overall_1000</td>\n",
       "      <td>4</td>\n",
       "      <td>14427</td>\n",
       "      <td>4</td>\n",
       "      <td>347</td>\n",
       "      <td>0</td>\n",
       "      <td>0.348808</td>\n",
       "      <td>348.192</td>\n",
       "      <td>NaN</td>\n",
       "      <td>False</td>\n",
       "    </tr>\n",
       "    <tr>\n",
       "      <th>00554ba1404b47b489b3a115188a20e3</th>\n",
       "      <td>RUNNING</td>\n",
       "      <td>1738251002151</td>\n",
       "      <td>NaN</td>\n",
       "      <td>WardAgglomerativeClustering</td>\n",
       "      <td>NaN</td>\n",
       "      <td>4</td>\n",
       "      <td>14427</td>\n",
       "      <td>NaN</td>\n",
       "      <td>14427</td>\n",
       "      <td>3</td>\n",
       "      <td>NaN</td>\n",
       "      <td>NaN</td>\n",
       "      <td>NaN</td>\n",
       "      <td>NaN</td>\n",
       "    </tr>\n",
       "    <tr>\n",
       "      <th>006d6f6e42a046d9aa1036b72d4c956b</th>\n",
       "      <td>FINISHED</td>\n",
       "      <td>1738254131466</td>\n",
       "      <td>1.738254e+12</td>\n",
       "      <td>HDBSCAN</td>\n",
       "      <td>NaN</td>\n",
       "      <td>4</td>\n",
       "      <td>1202</td>\n",
       "      <td>4</td>\n",
       "      <td>14427</td>\n",
       "      <td>4</td>\n",
       "      <td>225.304374</td>\n",
       "      <td>543.728</td>\n",
       "      <td>NaN</td>\n",
       "      <td>False</td>\n",
       "    </tr>\n",
       "    <tr>\n",
       "      <th>00855d71613747f4aaab34ff2a216354</th>\n",
       "      <td>FINISHED</td>\n",
       "      <td>1738250378524</td>\n",
       "      <td>1.738250e+12</td>\n",
       "      <td>RecursiveClustering</td>\n",
       "      <td>NaN</td>\n",
       "      <td>4</td>\n",
       "      <td>14427</td>\n",
       "      <td>4</td>\n",
       "      <td>347</td>\n",
       "      <td>1</td>\n",
       "      <td>2.199081</td>\n",
       "      <td>347.992</td>\n",
       "      <td>NaN</td>\n",
       "      <td>False</td>\n",
       "    </tr>\n",
       "    <tr>\n",
       "      <th>...</th>\n",
       "      <td>...</td>\n",
       "      <td>...</td>\n",
       "      <td>...</td>\n",
       "      <td>...</td>\n",
       "      <td>...</td>\n",
       "      <td>...</td>\n",
       "      <td>...</td>\n",
       "      <td>...</td>\n",
       "      <td>...</td>\n",
       "      <td>...</td>\n",
       "      <td>...</td>\n",
       "      <td>...</td>\n",
       "      <td>...</td>\n",
       "      <td>...</td>\n",
       "    </tr>\n",
       "    <tr>\n",
       "      <th>ffa6616a8f40469985fa3e01985d0b9f</th>\n",
       "      <td>RUNNING</td>\n",
       "      <td>1733324309627</td>\n",
       "      <td>NaN</td>\n",
       "      <td>CompleteAgglomerativeClustering</td>\n",
       "      <td>NaN</td>\n",
       "      <td>4</td>\n",
       "      <td>14427</td>\n",
       "      <td>NaN</td>\n",
       "      <td>14427</td>\n",
       "      <td>0</td>\n",
       "      <td>NaN</td>\n",
       "      <td>NaN</td>\n",
       "      <td>NaN</td>\n",
       "      <td>NaN</td>\n",
       "    </tr>\n",
       "    <tr>\n",
       "      <th>ffb49cd02bf84f6e9ea02faaccf8b08f</th>\n",
       "      <td>FINISHED</td>\n",
       "      <td>1732899554272</td>\n",
       "      <td>1.732900e+12</td>\n",
       "      <td>RecursiveClustering</td>\n",
       "      <td>NaN</td>\n",
       "      <td>1</td>\n",
       "      <td>50000</td>\n",
       "      <td>1</td>\n",
       "      <td>14427</td>\n",
       "      <td>0</td>\n",
       "      <td>17.187922</td>\n",
       "      <td>11611.328</td>\n",
       "      <td>NaN</td>\n",
       "      <td>False</td>\n",
       "    </tr>\n",
       "    <tr>\n",
       "      <th>ffcd7958d9234c729e0727716e1247e8</th>\n",
       "      <td>FINISHED</td>\n",
       "      <td>1732899454862</td>\n",
       "      <td>1.732899e+12</td>\n",
       "      <td>RecursiveClustering</td>\n",
       "      <td>NaN</td>\n",
       "      <td>1</td>\n",
       "      <td>4163</td>\n",
       "      <td>1</td>\n",
       "      <td>4163</td>\n",
       "      <td>0</td>\n",
       "      <td>1.280236</td>\n",
       "      <td>1224.972</td>\n",
       "      <td>NaN</td>\n",
       "      <td>False</td>\n",
       "    </tr>\n",
       "    <tr>\n",
       "      <th>ffd0bed75c72479e997f73763234e0f1</th>\n",
       "      <td>FINISHED</td>\n",
       "      <td>1733065861385</td>\n",
       "      <td>1.733066e+12</td>\n",
       "      <td>Clique</td>\n",
       "      <td>NaN</td>\n",
       "      <td>1</td>\n",
       "      <td>1202</td>\n",
       "      <td>NaN</td>\n",
       "      <td>4163</td>\n",
       "      <td>0</td>\n",
       "      <td>2.459768</td>\n",
       "      <td>39392.436</td>\n",
       "      <td>NaN</td>\n",
       "      <td>False</td>\n",
       "    </tr>\n",
       "    <tr>\n",
       "      <th>fff2bf99e0d2452da97d4a41184d7c76</th>\n",
       "      <td>FINISHED</td>\n",
       "      <td>1732903537734</td>\n",
       "      <td>1.732904e+12</td>\n",
       "      <td>OPTICS</td>\n",
       "      <td>NaN</td>\n",
       "      <td>1</td>\n",
       "      <td>1202</td>\n",
       "      <td>1</td>\n",
       "      <td>1202</td>\n",
       "      <td>0</td>\n",
       "      <td>39.756346</td>\n",
       "      <td>59044.508</td>\n",
       "      <td>NaN</td>\n",
       "      <td>False</td>\n",
       "    </tr>\n",
       "  </tbody>\n",
       "</table>\n",
       "<p>1123 rows × 14 columns</p>\n",
       "</div>"
      ]
     },
     "execution_count": 215,
     "metadata": {},
     "output_type": "execute_result"
    }
   ],
   "execution_count": 215
  },
  {
   "metadata": {
    "ExecuteTime": {
     "end_time": "2025-01-30T16:41:15.403690Z",
     "start_time": "2025-01-30T16:41:15.398579Z"
    }
   },
   "cell_type": "code",
   "source": [
    "# Separate our method with two types of representative_method\n",
    "df_runs = df_runs_raw.copy()\n",
    "df_runs.loc[(df_runs['model_nickname'] == 'RecursiveClustering') & (df_runs['model_params/representative_method'].isna()), 'model_params/representative_method'] = 'closest_overall'\n",
    "df_runs.loc[(df_runs['model_nickname'] == 'RecursiveClustering') & (df_runs['model_params/representative_method'] == 'closest_overall_1000'), 'model_nickname'] = df_runs.loc[(df_runs['model_nickname'] == 'RecursiveClustering') & (df_runs['model_params/representative_method'] == 'closest_overall_1000'), 'model_nickname'] + '_aproximated'\n"
   ],
   "id": "2336a729ecf272fa",
   "outputs": [],
   "execution_count": 216
  },
  {
   "cell_type": "markdown",
   "id": "776e77ee-197d-44f6-aa1f-04cdec88e5fd",
   "metadata": {},
   "source": [
    "## Delete duplicate runs (if any) and complete some models that cannot run with some datasets"
   ]
  },
  {
   "cell_type": "code",
   "id": "4828f7c630f8d96c",
   "metadata": {
    "ExecuteTime": {
     "end_time": "2025-01-30T16:41:15.462916Z",
     "start_time": "2025-01-30T16:41:15.455476Z"
    }
   },
   "source": [
    "non_duplicate_columns = [\n",
    "    'model_nickname',\n",
    "    'n_samples',\n",
    "    'n_features',\n",
    "    'seed_dataset',\n",
    "]\n",
    "df_runs = df_runs.dropna(axis=0, how='all', subset=['fit_model_return_elapsed_time']).copy()\n",
    "df_runs = df_runs.loc[(~df_runs.duplicated(non_duplicate_columns))]"
   ],
   "outputs": [],
   "execution_count": 217
  },
  {
   "cell_type": "code",
   "id": "1c6f67740aacd714",
   "metadata": {
    "ExecuteTime": {
     "end_time": "2025-01-30T16:41:15.527875Z",
     "start_time": "2025-01-30T16:41:15.521662Z"
    }
   },
   "source": [
    "no_run_time = np.inf\n",
    "df_runs_timed_out = df_runs_raw.copy()\n",
    "df_runs_timed_out = df_runs_timed_out.loc[df_runs_timed_out.EXCEPTION == 'FunctionTimedOut']\n",
    "df_runs_timed_out = df_runs_timed_out.loc[(~df_runs_timed_out.duplicated(non_duplicate_columns))]\n",
    "df_runs_timed_out['fit_model_return_elapsed_time'] = no_run_time\n",
    "df_runs = pd.concat([df_runs, df_runs_timed_out])"
   ],
   "outputs": [],
   "execution_count": 218
  },
  {
   "cell_type": "code",
   "id": "2e4acf3d40c30463",
   "metadata": {
    "ExecuteTime": {
     "end_time": "2025-01-30T16:41:15.560333Z",
     "start_time": "2025-01-30T16:41:15.557758Z"
    }
   },
   "source": [
    "status = 'FAILED'\n",
    "no_run_memory = np.inf\n",
    "raised_exception = True\n",
    "EXCEPTION = 'NoRun'\n",
    "start_time = time.time() * 1000\n",
    "end_time = time.time() * 1000"
   ],
   "outputs": [],
   "execution_count": 219
  },
  {
   "cell_type": "code",
   "id": "24807de8f0a366e6",
   "metadata": {
    "ExecuteTime": {
     "end_time": "2025-01-30T16:41:15.668483Z",
     "start_time": "2025-01-30T16:41:15.659855Z"
    }
   },
   "source": [
    "# IRFLLRR do not run with n_samples > 14427\n",
    "model_nickname = 'IRFLLRR'\n",
    "n_samples = ['14427', '50000']\n",
    "n_features = ['100', '347', '1202', '4163', '14427', '50000']\n",
    "seeds_datasets = [str(i) for i in range(10)]\n",
    "combinations = product(n_samples, n_features, seeds_datasets)\n",
    "df_cat = []\n",
    "indexes = []\n",
    "for n_sample, n_feature, seed in combinations:\n",
    "    df = {}\n",
    "    index = f'{model_nickname}_{n_sample}_{n_feature}'\n",
    "    df['status'] = status\n",
    "    df['start_time'] = start_time\n",
    "    df['end_time'] = end_time\n",
    "    df['model_nickname'] = model_nickname\n",
    "    df['n_features'] = n_feature\n",
    "    df['n_samples'] = n_sample\n",
    "    df['seed_dataset'] = seed\n",
    "    df['fit_model_return_elapsed_time'] = no_run_time\n",
    "    df['max_memory_used'] = no_run_memory\n",
    "    df['EXCEPTION'] = EXCEPTION\n",
    "    df['raised_exception'] = raised_exception\n",
    "    df_cat.append(df)\n",
    "    indexes.append(index)\n",
    "df_no_run = pd.DataFrame(df_cat, index=indexes)\n",
    "df_runs = pd.concat([df_runs, df_no_run])"
   ],
   "outputs": [],
   "execution_count": 220
  },
  {
   "cell_type": "code",
   "id": "4247b6c8820f3669",
   "metadata": {
    "ExecuteTime": {
     "end_time": "2025-01-30T16:41:15.756788Z",
     "start_time": "2025-01-30T16:41:15.750582Z"
    }
   },
   "source": [
    "# KMeansProj do not run with (14427,14427), (14427,50000), (50000,14427), (50000,50000)\n",
    "model_nickname = 'KMeansProj'\n",
    "n_samples = ['14427', '50000']\n",
    "n_features = ['14427', '50000']\n",
    "seeds_datasets = [str(i) for i in range(10)]\n",
    "combinations = product(n_samples, n_features, seeds_datasets)\n",
    "df_cat = []\n",
    "indexes = []\n",
    "for n_sample, n_feature, seed in combinations:\n",
    "    df = {}\n",
    "    index = f'{model_nickname}_{n_sample}_{n_feature}'\n",
    "    df['status'] = status\n",
    "    df['start_time'] = start_time\n",
    "    df['end_time'] = end_time\n",
    "    df['model_nickname'] = model_nickname\n",
    "    df['n_features'] = n_feature\n",
    "    df['n_samples'] = n_sample\n",
    "    df['seed_dataset'] = seed\n",
    "    df['fit_model_return_elapsed_time'] = no_run_time\n",
    "    df['max_memory_used'] = no_run_memory\n",
    "    df['EXCEPTION'] = EXCEPTION\n",
    "    df['raised_exception'] = raised_exception\n",
    "    df_cat.append(df)\n",
    "    indexes.append(index)\n",
    "df_no_run = pd.DataFrame(df_cat, index=indexes)\n",
    "df_runs = pd.concat([df_runs, df_no_run])"
   ],
   "outputs": [],
   "execution_count": 221
  },
  {
   "cell_type": "code",
   "id": "d804c623c647b54d",
   "metadata": {
    "ExecuteTime": {
     "end_time": "2025-01-30T16:41:15.809498Z",
     "start_time": "2025-01-30T16:41:15.799410Z"
    }
   },
   "source": [
    "# HDBSCAN do not run with (14427,14427), (14427,50000), and n_samples = 50000 n_features > 347\n",
    "model_nickname = 'HDBSCAN'\n",
    "n_samples = ['50000']\n",
    "n_features = ['347', '1202', '4163', '14427', '50000']\n",
    "seeds_datasets = [str(i) for i in range(10)]\n",
    "combinations = list(product(n_samples, n_features, seeds_datasets))\n",
    "combinations_samples_features = [('14427', '14427'), ('14427', '50000')]\n",
    "for samples, features in combinations_samples_features:\n",
    "    combinations += list(product([samples], [features], seeds_datasets))\n",
    "df_cat = []\n",
    "indexes = []\n",
    "for n_sample, n_feature, seed in combinations:\n",
    "    df = {}\n",
    "    index = f'{model_nickname}_{n_sample}_{n_feature}'\n",
    "    df['status'] = status\n",
    "    df['start_time'] = start_time\n",
    "    df['end_time'] = end_time\n",
    "    df['model_nickname'] = model_nickname\n",
    "    df['n_features'] = n_feature\n",
    "    df['n_samples'] = n_sample\n",
    "    df['seed_dataset'] = seed\n",
    "    df['fit_model_return_elapsed_time'] = no_run_time\n",
    "    df['max_memory_used'] = no_run_memory\n",
    "    df['EXCEPTION'] = EXCEPTION\n",
    "    df['raised_exception'] = raised_exception\n",
    "    df_cat.append(df)\n",
    "    indexes.append(index)\n",
    "df_no_run = pd.DataFrame(df_cat, index=indexes)\n",
    "df_runs = pd.concat([df_runs, df_no_run])"
   ],
   "outputs": [],
   "execution_count": 222
  },
  {
   "cell_type": "code",
   "id": "500c1e4cfd2e080b",
   "metadata": {
    "ExecuteTime": {
     "end_time": "2025-01-30T16:41:15.859707Z",
     "start_time": "2025-01-30T16:41:15.851321Z"
    }
   },
   "source": [
    "# SpectralSubspaceRandomization do not run with n_samples > 50000\n",
    "model_nickname = 'SpectralSubspaceRandomization'\n",
    "n_samples = ['50000']\n",
    "n_features = ['100', '347', '1202', '4163', '14427', '50000']\n",
    "seeds_datasets = [str(i) for i in range(10)]\n",
    "combinations = list(product(n_samples, n_features, seeds_datasets))\n",
    "df_cat = []\n",
    "indexes = []\n",
    "for n_sample, n_feature, seed in combinations:\n",
    "    df = {}\n",
    "    index = f'{model_nickname}_{n_sample}_{n_feature}'\n",
    "    df['status'] = status\n",
    "    df['start_time'] = start_time\n",
    "    df['end_time'] = end_time\n",
    "    df['model_nickname'] = model_nickname\n",
    "    df['n_features'] = n_feature\n",
    "    df['n_samples'] = n_sample\n",
    "    df['seed_dataset'] = seed\n",
    "    df['fit_model_return_elapsed_time'] = no_run_time\n",
    "    df['max_memory_used'] = no_run_memory\n",
    "    df['EXCEPTION'] = EXCEPTION\n",
    "    df['raised_exception'] = raised_exception\n",
    "    df_cat.append(df)\n",
    "    indexes.append(index)\n",
    "df_no_run = pd.DataFrame(df_cat, index=indexes)\n",
    "df_runs = pd.concat([df_runs, df_no_run])"
   ],
   "outputs": [],
   "execution_count": 223
  },
  {
   "cell_type": "code",
   "id": "a47e4078c2a60921",
   "metadata": {
    "ExecuteTime": {
     "end_time": "2025-01-30T16:41:15.906668Z",
     "start_time": "2025-01-30T16:41:15.902240Z"
    }
   },
   "source": [
    "# ensure no duplicates\n",
    "df_runs = df_runs.loc[(~df_runs.duplicated(non_duplicate_columns))]"
   ],
   "outputs": [],
   "execution_count": 224
  },
  {
   "cell_type": "markdown",
   "id": "a6339d9a",
   "metadata": {},
   "source": [
    "# Missing"
   ]
  },
  {
   "metadata": {
    "ExecuteTime": {
     "end_time": "2025-01-30T16:41:15.967030Z",
     "start_time": "2025-01-30T16:41:15.956659Z"
    }
   },
   "cell_type": "code",
   "source": "df_runs",
   "id": "bfde93cc13ee0201",
   "outputs": [
    {
     "data": {
      "text/plain": [
       "                                             status    start_time  \\\n",
       "00069f9700f1440a9dd1c3e85a51c153           FINISHED  1.732899e+12   \n",
       "002ae3bc028c4dd6be9a023079ad331e           FINISHED  1.738204e+12   \n",
       "006d6f6e42a046d9aa1036b72d4c956b           FINISHED  1.738254e+12   \n",
       "00855d71613747f4aaab34ff2a216354           FINISHED  1.738250e+12   \n",
       "009060d102de4ee2b02fabfd9b962a68           FINISHED  1.738252e+12   \n",
       "...                                             ...           ...   \n",
       "SpectralSubspaceRandomization_50000_50000    FAILED  1.738255e+12   \n",
       "SpectralSubspaceRandomization_50000_50000    FAILED  1.738255e+12   \n",
       "SpectralSubspaceRandomization_50000_50000    FAILED  1.738255e+12   \n",
       "SpectralSubspaceRandomization_50000_50000    FAILED  1.738255e+12   \n",
       "SpectralSubspaceRandomization_50000_50000    FAILED  1.738255e+12   \n",
       "\n",
       "                                               end_time  \\\n",
       "00069f9700f1440a9dd1c3e85a51c153           1.732899e+12   \n",
       "002ae3bc028c4dd6be9a023079ad331e           1.738204e+12   \n",
       "006d6f6e42a046d9aa1036b72d4c956b           1.738254e+12   \n",
       "00855d71613747f4aaab34ff2a216354           1.738250e+12   \n",
       "009060d102de4ee2b02fabfd9b962a68           1.738252e+12   \n",
       "...                                                 ...   \n",
       "SpectralSubspaceRandomization_50000_50000  1.738255e+12   \n",
       "SpectralSubspaceRandomization_50000_50000  1.738255e+12   \n",
       "SpectralSubspaceRandomization_50000_50000  1.738255e+12   \n",
       "SpectralSubspaceRandomization_50000_50000  1.738255e+12   \n",
       "SpectralSubspaceRandomization_50000_50000  1.738255e+12   \n",
       "\n",
       "                                                            model_nickname  \\\n",
       "00069f9700f1440a9dd1c3e85a51c153                       RecursiveClustering   \n",
       "002ae3bc028c4dd6be9a023079ad331e           RecursiveClustering_aproximated   \n",
       "006d6f6e42a046d9aa1036b72d4c956b                                   HDBSCAN   \n",
       "00855d71613747f4aaab34ff2a216354                       RecursiveClustering   \n",
       "009060d102de4ee2b02fabfd9b962a68             SpectralSubspaceRandomization   \n",
       "...                                                                    ...   \n",
       "SpectralSubspaceRandomization_50000_50000    SpectralSubspaceRandomization   \n",
       "SpectralSubspaceRandomization_50000_50000    SpectralSubspaceRandomization   \n",
       "SpectralSubspaceRandomization_50000_50000    SpectralSubspaceRandomization   \n",
       "SpectralSubspaceRandomization_50000_50000    SpectralSubspaceRandomization   \n",
       "SpectralSubspaceRandomization_50000_50000    SpectralSubspaceRandomization   \n",
       "\n",
       "                                          model_params/representative_method  \\\n",
       "00069f9700f1440a9dd1c3e85a51c153                             closest_overall   \n",
       "002ae3bc028c4dd6be9a023079ad331e                        closest_overall_1000   \n",
       "006d6f6e42a046d9aa1036b72d4c956b                                         NaN   \n",
       "00855d71613747f4aaab34ff2a216354                             closest_overall   \n",
       "009060d102de4ee2b02fabfd9b962a68                                         NaN   \n",
       "...                                                                      ...   \n",
       "SpectralSubspaceRandomization_50000_50000                                NaN   \n",
       "SpectralSubspaceRandomization_50000_50000                                NaN   \n",
       "SpectralSubspaceRandomization_50000_50000                                NaN   \n",
       "SpectralSubspaceRandomization_50000_50000                                NaN   \n",
       "SpectralSubspaceRandomization_50000_50000                                NaN   \n",
       "\n",
       "                                          n_cores n_features n_jobs n_samples  \\\n",
       "00069f9700f1440a9dd1c3e85a51c153                1      14427      1       100   \n",
       "002ae3bc028c4dd6be9a023079ad331e                4      14427      4       347   \n",
       "006d6f6e42a046d9aa1036b72d4c956b                4       1202      4     14427   \n",
       "00855d71613747f4aaab34ff2a216354                4      14427      4       347   \n",
       "009060d102de4ee2b02fabfd9b962a68                4      14427    NaN       100   \n",
       "...                                           ...        ...    ...       ...   \n",
       "SpectralSubspaceRandomization_50000_50000     NaN      50000    NaN     50000   \n",
       "SpectralSubspaceRandomization_50000_50000     NaN      50000    NaN     50000   \n",
       "SpectralSubspaceRandomization_50000_50000     NaN      50000    NaN     50000   \n",
       "SpectralSubspaceRandomization_50000_50000     NaN      50000    NaN     50000   \n",
       "SpectralSubspaceRandomization_50000_50000     NaN      50000    NaN     50000   \n",
       "\n",
       "                                          seed_dataset  \\\n",
       "00069f9700f1440a9dd1c3e85a51c153                     0   \n",
       "002ae3bc028c4dd6be9a023079ad331e                     0   \n",
       "006d6f6e42a046d9aa1036b72d4c956b                     4   \n",
       "00855d71613747f4aaab34ff2a216354                     1   \n",
       "009060d102de4ee2b02fabfd9b962a68                     1   \n",
       "...                                                ...   \n",
       "SpectralSubspaceRandomization_50000_50000            5   \n",
       "SpectralSubspaceRandomization_50000_50000            6   \n",
       "SpectralSubspaceRandomization_50000_50000            7   \n",
       "SpectralSubspaceRandomization_50000_50000            8   \n",
       "SpectralSubspaceRandomization_50000_50000            9   \n",
       "\n",
       "                                           fit_model_return_elapsed_time  \\\n",
       "00069f9700f1440a9dd1c3e85a51c153                                0.108414   \n",
       "002ae3bc028c4dd6be9a023079ad331e                                0.348808   \n",
       "006d6f6e42a046d9aa1036b72d4c956b                              225.304374   \n",
       "00855d71613747f4aaab34ff2a216354                                2.199081   \n",
       "009060d102de4ee2b02fabfd9b962a68                                1.183900   \n",
       "...                                                                  ...   \n",
       "SpectralSubspaceRandomization_50000_50000                            inf   \n",
       "SpectralSubspaceRandomization_50000_50000                            inf   \n",
       "SpectralSubspaceRandomization_50000_50000                            inf   \n",
       "SpectralSubspaceRandomization_50000_50000                            inf   \n",
       "SpectralSubspaceRandomization_50000_50000                            inf   \n",
       "\n",
       "                                           max_memory_used EXCEPTION  \\\n",
       "00069f9700f1440a9dd1c3e85a51c153                   278.552       NaN   \n",
       "002ae3bc028c4dd6be9a023079ad331e                   348.192       NaN   \n",
       "006d6f6e42a046d9aa1036b72d4c956b                   543.728       NaN   \n",
       "00855d71613747f4aaab34ff2a216354                   347.992       NaN   \n",
       "009060d102de4ee2b02fabfd9b962a68                   295.056       NaN   \n",
       "...                                                    ...       ...   \n",
       "SpectralSubspaceRandomization_50000_50000              inf     NoRun   \n",
       "SpectralSubspaceRandomization_50000_50000              inf     NoRun   \n",
       "SpectralSubspaceRandomization_50000_50000              inf     NoRun   \n",
       "SpectralSubspaceRandomization_50000_50000              inf     NoRun   \n",
       "SpectralSubspaceRandomization_50000_50000              inf     NoRun   \n",
       "\n",
       "                                          raised_exception  \n",
       "00069f9700f1440a9dd1c3e85a51c153                     False  \n",
       "002ae3bc028c4dd6be9a023079ad331e                     False  \n",
       "006d6f6e42a046d9aa1036b72d4c956b                     False  \n",
       "00855d71613747f4aaab34ff2a216354                     False  \n",
       "009060d102de4ee2b02fabfd9b962a68                     False  \n",
       "...                                                    ...  \n",
       "SpectralSubspaceRandomization_50000_50000             True  \n",
       "SpectralSubspaceRandomization_50000_50000             True  \n",
       "SpectralSubspaceRandomization_50000_50000             True  \n",
       "SpectralSubspaceRandomization_50000_50000             True  \n",
       "SpectralSubspaceRandomization_50000_50000             True  \n",
       "\n",
       "[1188 rows x 14 columns]"
      ],
      "text/html": [
       "<div>\n",
       "<style scoped>\n",
       "    .dataframe tbody tr th:only-of-type {\n",
       "        vertical-align: middle;\n",
       "    }\n",
       "\n",
       "    .dataframe tbody tr th {\n",
       "        vertical-align: top;\n",
       "    }\n",
       "\n",
       "    .dataframe thead th {\n",
       "        text-align: right;\n",
       "    }\n",
       "</style>\n",
       "<table border=\"1\" class=\"dataframe\">\n",
       "  <thead>\n",
       "    <tr style=\"text-align: right;\">\n",
       "      <th></th>\n",
       "      <th>status</th>\n",
       "      <th>start_time</th>\n",
       "      <th>end_time</th>\n",
       "      <th>model_nickname</th>\n",
       "      <th>model_params/representative_method</th>\n",
       "      <th>n_cores</th>\n",
       "      <th>n_features</th>\n",
       "      <th>n_jobs</th>\n",
       "      <th>n_samples</th>\n",
       "      <th>seed_dataset</th>\n",
       "      <th>fit_model_return_elapsed_time</th>\n",
       "      <th>max_memory_used</th>\n",
       "      <th>EXCEPTION</th>\n",
       "      <th>raised_exception</th>\n",
       "    </tr>\n",
       "  </thead>\n",
       "  <tbody>\n",
       "    <tr>\n",
       "      <th>00069f9700f1440a9dd1c3e85a51c153</th>\n",
       "      <td>FINISHED</td>\n",
       "      <td>1.732899e+12</td>\n",
       "      <td>1.732899e+12</td>\n",
       "      <td>RecursiveClustering</td>\n",
       "      <td>closest_overall</td>\n",
       "      <td>1</td>\n",
       "      <td>14427</td>\n",
       "      <td>1</td>\n",
       "      <td>100</td>\n",
       "      <td>0</td>\n",
       "      <td>0.108414</td>\n",
       "      <td>278.552</td>\n",
       "      <td>NaN</td>\n",
       "      <td>False</td>\n",
       "    </tr>\n",
       "    <tr>\n",
       "      <th>002ae3bc028c4dd6be9a023079ad331e</th>\n",
       "      <td>FINISHED</td>\n",
       "      <td>1.738204e+12</td>\n",
       "      <td>1.738204e+12</td>\n",
       "      <td>RecursiveClustering_aproximated</td>\n",
       "      <td>closest_overall_1000</td>\n",
       "      <td>4</td>\n",
       "      <td>14427</td>\n",
       "      <td>4</td>\n",
       "      <td>347</td>\n",
       "      <td>0</td>\n",
       "      <td>0.348808</td>\n",
       "      <td>348.192</td>\n",
       "      <td>NaN</td>\n",
       "      <td>False</td>\n",
       "    </tr>\n",
       "    <tr>\n",
       "      <th>006d6f6e42a046d9aa1036b72d4c956b</th>\n",
       "      <td>FINISHED</td>\n",
       "      <td>1.738254e+12</td>\n",
       "      <td>1.738254e+12</td>\n",
       "      <td>HDBSCAN</td>\n",
       "      <td>NaN</td>\n",
       "      <td>4</td>\n",
       "      <td>1202</td>\n",
       "      <td>4</td>\n",
       "      <td>14427</td>\n",
       "      <td>4</td>\n",
       "      <td>225.304374</td>\n",
       "      <td>543.728</td>\n",
       "      <td>NaN</td>\n",
       "      <td>False</td>\n",
       "    </tr>\n",
       "    <tr>\n",
       "      <th>00855d71613747f4aaab34ff2a216354</th>\n",
       "      <td>FINISHED</td>\n",
       "      <td>1.738250e+12</td>\n",
       "      <td>1.738250e+12</td>\n",
       "      <td>RecursiveClustering</td>\n",
       "      <td>closest_overall</td>\n",
       "      <td>4</td>\n",
       "      <td>14427</td>\n",
       "      <td>4</td>\n",
       "      <td>347</td>\n",
       "      <td>1</td>\n",
       "      <td>2.199081</td>\n",
       "      <td>347.992</td>\n",
       "      <td>NaN</td>\n",
       "      <td>False</td>\n",
       "    </tr>\n",
       "    <tr>\n",
       "      <th>009060d102de4ee2b02fabfd9b962a68</th>\n",
       "      <td>FINISHED</td>\n",
       "      <td>1.738252e+12</td>\n",
       "      <td>1.738252e+12</td>\n",
       "      <td>SpectralSubspaceRandomization</td>\n",
       "      <td>NaN</td>\n",
       "      <td>4</td>\n",
       "      <td>14427</td>\n",
       "      <td>NaN</td>\n",
       "      <td>100</td>\n",
       "      <td>1</td>\n",
       "      <td>1.183900</td>\n",
       "      <td>295.056</td>\n",
       "      <td>NaN</td>\n",
       "      <td>False</td>\n",
       "    </tr>\n",
       "    <tr>\n",
       "      <th>...</th>\n",
       "      <td>...</td>\n",
       "      <td>...</td>\n",
       "      <td>...</td>\n",
       "      <td>...</td>\n",
       "      <td>...</td>\n",
       "      <td>...</td>\n",
       "      <td>...</td>\n",
       "      <td>...</td>\n",
       "      <td>...</td>\n",
       "      <td>...</td>\n",
       "      <td>...</td>\n",
       "      <td>...</td>\n",
       "      <td>...</td>\n",
       "      <td>...</td>\n",
       "    </tr>\n",
       "    <tr>\n",
       "      <th>SpectralSubspaceRandomization_50000_50000</th>\n",
       "      <td>FAILED</td>\n",
       "      <td>1.738255e+12</td>\n",
       "      <td>1.738255e+12</td>\n",
       "      <td>SpectralSubspaceRandomization</td>\n",
       "      <td>NaN</td>\n",
       "      <td>NaN</td>\n",
       "      <td>50000</td>\n",
       "      <td>NaN</td>\n",
       "      <td>50000</td>\n",
       "      <td>5</td>\n",
       "      <td>inf</td>\n",
       "      <td>inf</td>\n",
       "      <td>NoRun</td>\n",
       "      <td>True</td>\n",
       "    </tr>\n",
       "    <tr>\n",
       "      <th>SpectralSubspaceRandomization_50000_50000</th>\n",
       "      <td>FAILED</td>\n",
       "      <td>1.738255e+12</td>\n",
       "      <td>1.738255e+12</td>\n",
       "      <td>SpectralSubspaceRandomization</td>\n",
       "      <td>NaN</td>\n",
       "      <td>NaN</td>\n",
       "      <td>50000</td>\n",
       "      <td>NaN</td>\n",
       "      <td>50000</td>\n",
       "      <td>6</td>\n",
       "      <td>inf</td>\n",
       "      <td>inf</td>\n",
       "      <td>NoRun</td>\n",
       "      <td>True</td>\n",
       "    </tr>\n",
       "    <tr>\n",
       "      <th>SpectralSubspaceRandomization_50000_50000</th>\n",
       "      <td>FAILED</td>\n",
       "      <td>1.738255e+12</td>\n",
       "      <td>1.738255e+12</td>\n",
       "      <td>SpectralSubspaceRandomization</td>\n",
       "      <td>NaN</td>\n",
       "      <td>NaN</td>\n",
       "      <td>50000</td>\n",
       "      <td>NaN</td>\n",
       "      <td>50000</td>\n",
       "      <td>7</td>\n",
       "      <td>inf</td>\n",
       "      <td>inf</td>\n",
       "      <td>NoRun</td>\n",
       "      <td>True</td>\n",
       "    </tr>\n",
       "    <tr>\n",
       "      <th>SpectralSubspaceRandomization_50000_50000</th>\n",
       "      <td>FAILED</td>\n",
       "      <td>1.738255e+12</td>\n",
       "      <td>1.738255e+12</td>\n",
       "      <td>SpectralSubspaceRandomization</td>\n",
       "      <td>NaN</td>\n",
       "      <td>NaN</td>\n",
       "      <td>50000</td>\n",
       "      <td>NaN</td>\n",
       "      <td>50000</td>\n",
       "      <td>8</td>\n",
       "      <td>inf</td>\n",
       "      <td>inf</td>\n",
       "      <td>NoRun</td>\n",
       "      <td>True</td>\n",
       "    </tr>\n",
       "    <tr>\n",
       "      <th>SpectralSubspaceRandomization_50000_50000</th>\n",
       "      <td>FAILED</td>\n",
       "      <td>1.738255e+12</td>\n",
       "      <td>1.738255e+12</td>\n",
       "      <td>SpectralSubspaceRandomization</td>\n",
       "      <td>NaN</td>\n",
       "      <td>NaN</td>\n",
       "      <td>50000</td>\n",
       "      <td>NaN</td>\n",
       "      <td>50000</td>\n",
       "      <td>9</td>\n",
       "      <td>inf</td>\n",
       "      <td>inf</td>\n",
       "      <td>NoRun</td>\n",
       "      <td>True</td>\n",
       "    </tr>\n",
       "  </tbody>\n",
       "</table>\n",
       "<p>1188 rows × 14 columns</p>\n",
       "</div>"
      ]
     },
     "execution_count": 225,
     "metadata": {},
     "output_type": "execute_result"
    }
   ],
   "execution_count": 225
  },
  {
   "cell_type": "code",
   "id": "439af2ca-b308-4b39-8cbb-9b65d8c0ee41",
   "metadata": {
    "ExecuteTime": {
     "end_time": "2025-01-30T16:41:16.042577Z",
     "start_time": "2025-01-30T16:41:16.038939Z"
    }
   },
   "source": [
    "df_runs['model_nickname'].unique().tolist()"
   ],
   "outputs": [
    {
     "data": {
      "text/plain": [
       "['RecursiveClustering',\n",
       " 'RecursiveClustering_aproximated',\n",
       " 'HDBSCAN',\n",
       " 'SpectralSubspaceRandomization',\n",
       " 'AffinityPropagation',\n",
       " 'KMeans',\n",
       " 'OPTICS',\n",
       " 'Clique',\n",
       " 'WardAgglomerativeClustering',\n",
       " 'SpectralClustering',\n",
       " 'MeanShift',\n",
       " 'SingleAgglomerativeClustering',\n",
       " 'IRFLLRR',\n",
       " 'CompleteAgglomerativeClustering',\n",
       " 'KMeansProj',\n",
       " 'Proclus',\n",
       " 'DBSCAN',\n",
       " 'AverageAgglomerativeClustering']"
      ]
     },
     "execution_count": 226,
     "metadata": {},
     "output_type": "execute_result"
    }
   ],
   "execution_count": 226
  },
  {
   "cell_type": "code",
   "id": "8e715d31-cfc2-46b2-8729-698e883db92a",
   "metadata": {
    "ExecuteTime": {
     "end_time": "2025-01-30T16:41:16.329925Z",
     "start_time": "2025-01-30T16:41:16.327780Z"
    }
   },
   "source": [
    "non_duplicate_columns = [\n",
    "    'model_nickname',\n",
    "    'n_samples',\n",
    "    'n_features',\n",
    "    'seed_dataset',\n",
    "]"
   ],
   "outputs": [],
   "execution_count": 227
  },
  {
   "cell_type": "code",
   "id": "1d034b7d",
   "metadata": {
    "ExecuteTime": {
     "end_time": "2025-01-30T16:41:16.683676Z",
     "start_time": "2025-01-30T16:41:16.676837Z"
    }
   },
   "source": [
    "n_features = ['14427']\n",
    "n_samples = ['100', '347', '1202', '4163', '14427', '50000']\n",
    "seeds_datasets = [str(i) for i in range(5)]\n",
    "model_nickname = [\n",
    "    # 'RecursiveClustering',\n",
    "    # 'RecursiveClustering_aproximated',\n",
    "    # 'KMeans',\n",
    "    # 'AffinityPropagation',\n",
    "    # 'Clique',\n",
    "    # 'SpectralClustering',\n",
    "    # 'MeanShift',\n",
    "    # 'SingleAgglomerativeClustering',\n",
    "    # 'IRFLLRR',\n",
    "    # 'CompleteAgglomerativeClustering',\n",
    "    # 'KMeansProj',\n",
    "    # 'HDBSCAN',\n",
    "    # 'Proclus',\n",
    "    # 'OPTICS',\n",
    "    # 'SpectralSubspaceRandomization',\n",
    "    # 'AverageAgglomerativeClustering',\n",
    "    'DBSCAN',\n",
    "    # 'WardAgglomerativeClustering'\n",
    "]\n",
    "columns_names = non_duplicate_columns\n",
    "should_contain_values = [model_nickname, n_samples, n_features, seeds_datasets]\n",
    "df_missing = get_missing_entries(df_runs, columns_names, should_contain_values)"
   ],
   "outputs": [],
   "execution_count": 228
  },
  {
   "cell_type": "code",
   "id": "81e11466ca3d50fb",
   "metadata": {
    "ExecuteTime": {
     "end_time": "2025-01-30T16:41:17.020390Z",
     "start_time": "2025-01-30T16:41:17.015979Z"
    }
   },
   "source": "df_missing",
   "outputs": [
    {
     "data": {
      "text/plain": [
       "Empty DataFrame\n",
       "Columns: [model_nickname, n_samples, n_features, seed_dataset]\n",
       "Index: []"
      ],
      "text/html": [
       "<div>\n",
       "<style scoped>\n",
       "    .dataframe tbody tr th:only-of-type {\n",
       "        vertical-align: middle;\n",
       "    }\n",
       "\n",
       "    .dataframe tbody tr th {\n",
       "        vertical-align: top;\n",
       "    }\n",
       "\n",
       "    .dataframe thead th {\n",
       "        text-align: right;\n",
       "    }\n",
       "</style>\n",
       "<table border=\"1\" class=\"dataframe\">\n",
       "  <thead>\n",
       "    <tr style=\"text-align: right;\">\n",
       "      <th></th>\n",
       "      <th>model_nickname</th>\n",
       "      <th>n_samples</th>\n",
       "      <th>n_features</th>\n",
       "      <th>seed_dataset</th>\n",
       "    </tr>\n",
       "  </thead>\n",
       "  <tbody>\n",
       "  </tbody>\n",
       "</table>\n",
       "</div>"
      ]
     },
     "execution_count": 229,
     "metadata": {},
     "output_type": "execute_result"
    }
   ],
   "execution_count": 229
  },
  {
   "metadata": {
    "ExecuteTime": {
     "end_time": "2025-01-30T16:41:17.366023Z",
     "start_time": "2025-01-30T16:41:17.363604Z"
    }
   },
   "cell_type": "code",
   "source": [
    "import matplotlib.pyplot as plt\n",
    "import matplotlib as mpl\n",
    "import seaborn as sns"
   ],
   "id": "88ecab1743aa07cd",
   "outputs": [],
   "execution_count": 230
  },
  {
   "metadata": {
    "ExecuteTime": {
     "end_time": "2025-01-30T18:02:38.356603Z",
     "start_time": "2025-01-30T18:02:36.608909Z"
    }
   },
   "cell_type": "code",
   "source": [
    "df = df_runs.copy()\n",
    "df['n_samples'] = df['n_samples'].astype(int)\n",
    "df['n_features'] = df['n_features'].astype(int)\n",
    "n_features = 14427\n",
    "n_samples = 14427\n",
    "models_names = {\n",
    "    'RecursiveClustering': 'CoHiRF',\n",
    "    'RecursiveClustering_aproximated': 'CoHiRF-1000',\n",
    "    'KMeans': 'K-Means',\n",
    "    'HDBSCAN': 'HDBSCAN',\n",
    "    'DBSCAN': 'DBSCAN',\n",
    "    'AffinityPropagation': 'Affinity Propagation',\n",
    "    'OPTICS': 'OPTICS',\n",
    "    'SpectralSubspaceRandomization': 'SC-SRGF',\n",
    "    'WardAgglomerativeClustering': \"Ward's Method\",\n",
    "}\n",
    "df = df.loc[df['model_nickname'].isin(['RecursiveClustering','RecursiveClustering_aproximated', 'KMeans', 'HDBSCAN', 'AffinityPropagation', 'OPTICS', 'SpectralSubspaceRandomization', 'WardAgglomerativeClustering'])]\n",
    "df = df.replace({'model_nickname': models_names})\n",
    "df = df.sort_values(by='model_nickname')\n",
    "df = df.rename(columns={'fit_model_return_elapsed_time': 'Time (s)', 'max_memory_used': 'Memory (MB)', 'n_samples': 'Number of samples (n)', 'n_features': 'Number of features (p)', 'model_nickname': 'Model'})\n",
    "plt.style.use('default')\n",
    "# plt.style.use('seaborn-v0_8-paper')\n",
    "with mpl.rc_context(rc={\n",
    "    'figure.constrained_layout.use': True, \n",
    "    'savefig.bbox': 'tight', \n",
    "    'figure.figsize': (10, 8),\n",
    "    'legend.loc': 'upper left',\n",
    "    'legend.frameon': False,\n",
    "    'font.size': 15,\n",
    "    # 'font.family': 'serif',\n",
    "    # 'font.serif': 'Times',\n",
    "    'text.color': 'black',\n",
    "    'grid.color': 'black',\n",
    "    'grid.alpha': 0.5,\n",
    "}):\n",
    "    # fig, axs = plt.subplots(1, 1)\n",
    "    # axs = axs.flatten()\n",
    "    df_plot = df.copy()\n",
    "    df_plot = df_plot.loc[df_plot['Number of features (p)']==n_features]\n",
    "    # df_plot = df_plot.loc[df_plot['Number of samples (n)']==n_samples]\n",
    "    ax = sns.lineplot(data=df_plot, x='Number of samples (n)', y='Time (s)', hue='Model', style='Model', markers=True, errorbar='ci')\n",
    "    ax.set_xscale('log')\n",
    "    ax.set_yscale('log')\n",
    "    # set grid\n",
    "    ax.grid(True, which='both', color='gray', alpha=0.2)\n",
    "    plt.legend(title=None, bbox_to_anchor=(0.0, 1.0), ncols=2)\n",
    "    plt.savefig(f'time_n-samples_n-features{n_features}_2.pdf')\n",
    "        # plt.legend(title=None, bbox_to_anchor=(0.6, 0.3))\n",
    "        # plt.savefig(f'hypercube_n-samples{n_samples}_n-features{n_features}_pct-random{pct_random}.pdf')\n",
    "        # plt.show()\n",
    "    plt.show()"
   ],
   "id": "1a5b291ab533def5",
   "outputs": [
    {
     "data": {
      "text/plain": [
       "<Figure size 1000x800 with 1 Axes>"
      ],
      "image/png": "[encoded data removed]"
     },
     "metadata": {},
     "output_type": "display_data"
    }
   ],
   "execution_count": 255
  },
  {
   "metadata": {
    "ExecuteTime": {
     "end_time": "2025-01-30T18:02:43.027451Z",
     "start_time": "2025-01-30T18:02:41.526266Z"
    }
   },
   "cell_type": "code",
   "source": [
    "df = df_runs.copy()\n",
    "df['n_samples'] = df['n_samples'].astype(int)\n",
    "df['n_features'] = df['n_features'].astype(int)\n",
    "n_features = 14427\n",
    "n_samples = 14427\n",
    "models_names = {\n",
    "    'RecursiveClustering': 'CoHiRF',\n",
    "    'RecursiveClustering_aproximated': 'CoHiRF-1000',\n",
    "    'KMeans': 'K-Means',\n",
    "    'HDBSCAN': 'HDBSCAN',\n",
    "    'DBSCAN': 'DBSCAN',\n",
    "    'AffinityPropagation': 'Affinity Propagation',\n",
    "    'OPTICS': 'OPTICS',\n",
    "    'SpectralSubspaceRandomization': 'SC-SRGF',\n",
    "    'WardAgglomerativeClustering': \"Ward's Method\",\n",
    "}\n",
    "df = df.loc[df['model_nickname'].isin(['RecursiveClustering','RecursiveClustering_aproximated', 'KMeans', 'HDBSCAN', 'AffinityPropagation', 'OPTICS', 'SpectralSubspaceRandomization', 'WardAgglomerativeClustering'])]\n",
    "df = df.replace({'model_nickname': models_names})\n",
    "df = df.sort_values(by='model_nickname')\n",
    "df = df.rename(columns={'fit_model_return_elapsed_time': 'Time (s)', 'max_memory_used': 'Memory (MB)', 'n_samples': 'Number of samples (n)', 'n_features': 'Number of features (p)', 'model_nickname': 'Model'})\n",
    "plt.style.use('default')\n",
    "# plt.style.use('seaborn-v0_8-paper')\n",
    "with mpl.rc_context(rc={\n",
    "    'figure.constrained_layout.use': True, \n",
    "    'savefig.bbox': 'tight', \n",
    "    'figure.figsize': (10, 8),\n",
    "    'legend.loc': 'upper left',\n",
    "    'legend.frameon': False,\n",
    "    'font.size': 15,\n",
    "    # 'font.family': 'serif',\n",
    "    # 'font.serif': 'Times',\n",
    "    'text.color': 'black',\n",
    "    'grid.color': 'black',\n",
    "    'grid.alpha': 0.5,\n",
    "}):\n",
    "    # fig, axs = plt.subplots(1, 1)\n",
    "    # axs = axs.flatten()\n",
    "    df_plot = df.copy()\n",
    "    # df_plot = df_plot.loc[df_plot['Number of features (p)']==n_features]\n",
    "    df_plot = df_plot.loc[df_plot['Number of samples (n)']==n_samples]\n",
    "    ax = sns.lineplot(data=df_plot, x='Number of features (p)', y='Time (s)', hue='Model', style='Model', markers=True, errorbar='ci')\n",
    "    ax.set_xscale('log')\n",
    "    ax.set_yscale('log')\n",
    "    # set grid\n",
    "    ax.grid(True, which='both', color='gray', alpha=0.2)\n",
    "    plt.legend(title=None, bbox_to_anchor=(0.0, 1.0), ncols=2)\n",
    "    plt.savefig(f'time_n-features_n-samples{n_samples}_2.pdf')\n",
    "        # plt.legend(title=None, bbox_to_anchor=(0.6, 0.3))\n",
    "        # plt.savefig(f'hypercube_n-samples{n_samples}_n-features{n_features}_pct-random{pct_random}.pdf')\n",
    "        # plt.show()\n",
    "    plt.show()"
   ],
   "id": "2069b01dde1d488c",
   "outputs": [
    {
     "data": {
      "text/plain": [
       "<Figure size 1000x800 with 1 Axes>"
      ],
      "image/png": "[encoded data removed]"
     },
     "metadata": {},
     "output_type": "display_data"
    }
   ],
   "execution_count": 256
  },
  {
   "metadata": {
    "ExecuteTime": {
     "end_time": "2025-01-30T16:41:20.856654Z",
     "start_time": "2025-01-30T16:41:20.846253Z"
    }
   },
   "cell_type": "code",
   "source": "df_plot",
   "id": "a5a25bbdb8e296f4",
   "outputs": [
    {
     "data": {
      "text/plain": [
       "                                    status    start_time      end_time  \\\n",
       "daeba1b976834f988bbaa55a26b43b07  FINISHED  1.733315e+12  1.733316e+12   \n",
       "da949e442502476bb21ae9dac6aff949  FINISHED  1.738253e+12  1.738254e+12   \n",
       "2dfce60c2393401c8cb60f8d8e1c69d6  FINISHED  1.733243e+12  1.733244e+12   \n",
       "76c66781187843f5b8da0e18e37d88ba  FINISHED  1.733243e+12  1.733244e+12   \n",
       "cab9d8de96794bd4933b81d74ff791cd  FINISHED  1.733315e+12  1.733316e+12   \n",
       "...                                    ...           ...           ...   \n",
       "4e0b96330c514159a9ee69c57aff0f2a  FINISHED  1.738251e+12  1.738251e+12   \n",
       "51384fd5e1cc47449f8866d5bc79854f  FINISHED  1.733321e+12  1.733321e+12   \n",
       "572e4d14a5ab483a8375cf27f3cf2c61  FINISHED  1.733321e+12  1.733321e+12   \n",
       "e52e382e377040faa7771e68da3edf3f  FINISHED  1.738251e+12  1.738253e+12   \n",
       "607e8dd63bd84a6a8517dab8505fcce1  FINISHED  1.738251e+12  1.738252e+12   \n",
       "\n",
       "                                                 Model  \\\n",
       "daeba1b976834f988bbaa55a26b43b07  Affinity Propagation   \n",
       "da949e442502476bb21ae9dac6aff949  Affinity Propagation   \n",
       "2dfce60c2393401c8cb60f8d8e1c69d6  Affinity Propagation   \n",
       "76c66781187843f5b8da0e18e37d88ba  Affinity Propagation   \n",
       "cab9d8de96794bd4933b81d74ff791cd  Affinity Propagation   \n",
       "...                                                ...   \n",
       "4e0b96330c514159a9ee69c57aff0f2a         Ward's Method   \n",
       "51384fd5e1cc47449f8866d5bc79854f         Ward's Method   \n",
       "572e4d14a5ab483a8375cf27f3cf2c61         Ward's Method   \n",
       "e52e382e377040faa7771e68da3edf3f         Ward's Method   \n",
       "607e8dd63bd84a6a8517dab8505fcce1         Ward's Method   \n",
       "\n",
       "                                 model_params/representative_method n_cores  \\\n",
       "daeba1b976834f988bbaa55a26b43b07                                NaN       4   \n",
       "da949e442502476bb21ae9dac6aff949                                NaN       4   \n",
       "2dfce60c2393401c8cb60f8d8e1c69d6                                NaN       4   \n",
       "76c66781187843f5b8da0e18e37d88ba                                NaN       4   \n",
       "cab9d8de96794bd4933b81d74ff791cd                                NaN       4   \n",
       "...                                                             ...     ...   \n",
       "4e0b96330c514159a9ee69c57aff0f2a                                NaN       4   \n",
       "51384fd5e1cc47449f8866d5bc79854f                                NaN       4   \n",
       "572e4d14a5ab483a8375cf27f3cf2c61                                NaN       4   \n",
       "e52e382e377040faa7771e68da3edf3f                                NaN       4   \n",
       "607e8dd63bd84a6a8517dab8505fcce1                                NaN       4   \n",
       "\n",
       "                                  Number of features n_jobs  \\\n",
       "daeba1b976834f988bbaa55a26b43b07               50000    NaN   \n",
       "da949e442502476bb21ae9dac6aff949               14427    NaN   \n",
       "2dfce60c2393401c8cb60f8d8e1c69d6                1202    NaN   \n",
       "76c66781187843f5b8da0e18e37d88ba                 100    NaN   \n",
       "cab9d8de96794bd4933b81d74ff791cd               14427    NaN   \n",
       "...                                              ...    ...   \n",
       "4e0b96330c514159a9ee69c57aff0f2a                 100    NaN   \n",
       "51384fd5e1cc47449f8866d5bc79854f                4163    NaN   \n",
       "572e4d14a5ab483a8375cf27f3cf2c61                1202    NaN   \n",
       "e52e382e377040faa7771e68da3edf3f               14427    NaN   \n",
       "607e8dd63bd84a6a8517dab8505fcce1                4163    NaN   \n",
       "\n",
       "                                  Number of samples seed_dataset     Time (s)  \\\n",
       "daeba1b976834f988bbaa55a26b43b07              14427            0   950.120544   \n",
       "da949e442502476bb21ae9dac6aff949              14427            2   970.724413   \n",
       "2dfce60c2393401c8cb60f8d8e1c69d6              14427            0  1303.966123   \n",
       "76c66781187843f5b8da0e18e37d88ba              14427            0  1305.449661   \n",
       "cab9d8de96794bd4933b81d74ff791cd              14427            0   844.338348   \n",
       "...                                             ...          ...          ...   \n",
       "4e0b96330c514159a9ee69c57aff0f2a              14427            4    21.183220   \n",
       "51384fd5e1cc47449f8866d5bc79854f              14427            0   422.569989   \n",
       "572e4d14a5ab483a8375cf27f3cf2c61              14427            0   130.313048   \n",
       "e52e382e377040faa7771e68da3edf3f              14427            2  1439.519601   \n",
       "607e8dd63bd84a6a8517dab8505fcce1              14427            3   379.222556   \n",
       "\n",
       "                                  Memory (MB) EXCEPTION raised_exception  \n",
       "daeba1b976834f988bbaa55a26b43b07    15093.744       NaN            False  \n",
       "da949e442502476bb21ae9dac6aff949    10611.408       NaN            False  \n",
       "2dfce60c2393401c8cb60f8d8e1c69d6     8041.264       NaN            False  \n",
       "76c66781187843f5b8da0e18e37d88ba    10063.452       NaN            False  \n",
       "cab9d8de96794bd4933b81d74ff791cd    10614.240       NaN            False  \n",
       "...                                       ...       ...              ...  \n",
       "4e0b96330c514159a9ee69c57aff0f2a     2026.516       NaN            False  \n",
       "51384fd5e1cc47449f8866d5bc79854f     2377.932       NaN            False  \n",
       "572e4d14a5ab483a8375cf27f3cf2c61     2050.272       NaN            False  \n",
       "e52e382e377040faa7771e68da3edf3f     4082.652       NaN            False  \n",
       "607e8dd63bd84a6a8517dab8505fcce1     2372.356       NaN            False  \n",
       "\n",
       "[186 rows x 14 columns]"
      ],
      "text/html": [
       "<div>\n",
       "<style scoped>\n",
       "    .dataframe tbody tr th:only-of-type {\n",
       "        vertical-align: middle;\n",
       "    }\n",
       "\n",
       "    .dataframe tbody tr th {\n",
       "        vertical-align: top;\n",
       "    }\n",
       "\n",
       "    .dataframe thead th {\n",
       "        text-align: right;\n",
       "    }\n",
       "</style>\n",
       "<table border=\"1\" class=\"dataframe\">\n",
       "  <thead>\n",
       "    <tr style=\"text-align: right;\">\n",
       "      <th></th>\n",
       "      <th>status</th>\n",
       "      <th>start_time</th>\n",
       "      <th>end_time</th>\n",
       "      <th>Model</th>\n",
       "      <th>model_params/representative_method</th>\n",
       "      <th>n_cores</th>\n",
       "      <th>Number of features</th>\n",
       "      <th>n_jobs</th>\n",
       "      <th>Number of samples</th>\n",
       "      <th>seed_dataset</th>\n",
       "      <th>Time (s)</th>\n",
       "      <th>Memory (MB)</th>\n",
       "      <th>EXCEPTION</th>\n",
       "      <th>raised_exception</th>\n",
       "    </tr>\n",
       "  </thead>\n",
       "  <tbody>\n",
       "    <tr>\n",
       "      <th>daeba1b976834f988bbaa55a26b43b07</th>\n",
       "      <td>FINISHED</td>\n",
       "      <td>1.733315e+12</td>\n",
       "      <td>1.733316e+12</td>\n",
       "      <td>Affinity Propagation</td>\n",
       "      <td>NaN</td>\n",
       "      <td>4</td>\n",
       "      <td>50000</td>\n",
       "      <td>NaN</td>\n",
       "      <td>14427</td>\n",
       "      <td>0</td>\n",
       "      <td>950.120544</td>\n",
       "      <td>15093.744</td>\n",
       "      <td>NaN</td>\n",
       "      <td>False</td>\n",
       "    </tr>\n",
       "    <tr>\n",
       "      <th>da949e442502476bb21ae9dac6aff949</th>\n",
       "      <td>FINISHED</td>\n",
       "      <td>1.738253e+12</td>\n",
       "      <td>1.738254e+12</td>\n",
       "      <td>Affinity Propagation</td>\n",
       "      <td>NaN</td>\n",
       "      <td>4</td>\n",
       "      <td>14427</td>\n",
       "      <td>NaN</td>\n",
       "      <td>14427</td>\n",
       "      <td>2</td>\n",
       "      <td>970.724413</td>\n",
       "      <td>10611.408</td>\n",
       "      <td>NaN</td>\n",
       "      <td>False</td>\n",
       "    </tr>\n",
       "    <tr>\n",
       "      <th>2dfce60c2393401c8cb60f8d8e1c69d6</th>\n",
       "      <td>FINISHED</td>\n",
       "      <td>1.733243e+12</td>\n",
       "      <td>1.733244e+12</td>\n",
       "      <td>Affinity Propagation</td>\n",
       "      <td>NaN</td>\n",
       "      <td>4</td>\n",
       "      <td>1202</td>\n",
       "      <td>NaN</td>\n",
       "      <td>14427</td>\n",
       "      <td>0</td>\n",
       "      <td>1303.966123</td>\n",
       "      <td>8041.264</td>\n",
       "      <td>NaN</td>\n",
       "      <td>False</td>\n",
       "    </tr>\n",
       "    <tr>\n",
       "      <th>76c66781187843f5b8da0e18e37d88ba</th>\n",
       "      <td>FINISHED</td>\n",
       "      <td>1.733243e+12</td>\n",
       "      <td>1.733244e+12</td>\n",
       "      <td>Affinity Propagation</td>\n",
       "      <td>NaN</td>\n",
       "      <td>4</td>\n",
       "      <td>100</td>\n",
       "      <td>NaN</td>\n",
       "      <td>14427</td>\n",
       "      <td>0</td>\n",
       "      <td>1305.449661</td>\n",
       "      <td>10063.452</td>\n",
       "      <td>NaN</td>\n",
       "      <td>False</td>\n",
       "    </tr>\n",
       "    <tr>\n",
       "      <th>cab9d8de96794bd4933b81d74ff791cd</th>\n",
       "      <td>FINISHED</td>\n",
       "      <td>1.733315e+12</td>\n",
       "      <td>1.733316e+12</td>\n",
       "      <td>Affinity Propagation</td>\n",
       "      <td>NaN</td>\n",
       "      <td>4</td>\n",
       "      <td>14427</td>\n",
       "      <td>NaN</td>\n",
       "      <td>14427</td>\n",
       "      <td>0</td>\n",
       "      <td>844.338348</td>\n",
       "      <td>10614.240</td>\n",
       "      <td>NaN</td>\n",
       "      <td>False</td>\n",
       "    </tr>\n",
       "    <tr>\n",
       "      <th>...</th>\n",
       "      <td>...</td>\n",
       "      <td>...</td>\n",
       "      <td>...</td>\n",
       "      <td>...</td>\n",
       "      <td>...</td>\n",
       "      <td>...</td>\n",
       "      <td>...</td>\n",
       "      <td>...</td>\n",
       "      <td>...</td>\n",
       "      <td>...</td>\n",
       "      <td>...</td>\n",
       "      <td>...</td>\n",
       "      <td>...</td>\n",
       "      <td>...</td>\n",
       "    </tr>\n",
       "    <tr>\n",
       "      <th>4e0b96330c514159a9ee69c57aff0f2a</th>\n",
       "      <td>FINISHED</td>\n",
       "      <td>1.738251e+12</td>\n",
       "      <td>1.738251e+12</td>\n",
       "      <td>Ward's Method</td>\n",
       "      <td>NaN</td>\n",
       "      <td>4</td>\n",
       "      <td>100</td>\n",
       "      <td>NaN</td>\n",
       "      <td>14427</td>\n",
       "      <td>4</td>\n",
       "      <td>21.183220</td>\n",
       "      <td>2026.516</td>\n",
       "      <td>NaN</td>\n",
       "      <td>False</td>\n",
       "    </tr>\n",
       "    <tr>\n",
       "      <th>51384fd5e1cc47449f8866d5bc79854f</th>\n",
       "      <td>FINISHED</td>\n",
       "      <td>1.733321e+12</td>\n",
       "      <td>1.733321e+12</td>\n",
       "      <td>Ward's Method</td>\n",
       "      <td>NaN</td>\n",
       "      <td>4</td>\n",
       "      <td>4163</td>\n",
       "      <td>NaN</td>\n",
       "      <td>14427</td>\n",
       "      <td>0</td>\n",
       "      <td>422.569989</td>\n",
       "      <td>2377.932</td>\n",
       "      <td>NaN</td>\n",
       "      <td>False</td>\n",
       "    </tr>\n",
       "    <tr>\n",
       "      <th>572e4d14a5ab483a8375cf27f3cf2c61</th>\n",
       "      <td>FINISHED</td>\n",
       "      <td>1.733321e+12</td>\n",
       "      <td>1.733321e+12</td>\n",
       "      <td>Ward's Method</td>\n",
       "      <td>NaN</td>\n",
       "      <td>4</td>\n",
       "      <td>1202</td>\n",
       "      <td>NaN</td>\n",
       "      <td>14427</td>\n",
       "      <td>0</td>\n",
       "      <td>130.313048</td>\n",
       "      <td>2050.272</td>\n",
       "      <td>NaN</td>\n",
       "      <td>False</td>\n",
       "    </tr>\n",
       "    <tr>\n",
       "      <th>e52e382e377040faa7771e68da3edf3f</th>\n",
       "      <td>FINISHED</td>\n",
       "      <td>1.738251e+12</td>\n",
       "      <td>1.738253e+12</td>\n",
       "      <td>Ward's Method</td>\n",
       "      <td>NaN</td>\n",
       "      <td>4</td>\n",
       "      <td>14427</td>\n",
       "      <td>NaN</td>\n",
       "      <td>14427</td>\n",
       "      <td>2</td>\n",
       "      <td>1439.519601</td>\n",
       "      <td>4082.652</td>\n",
       "      <td>NaN</td>\n",
       "      <td>False</td>\n",
       "    </tr>\n",
       "    <tr>\n",
       "      <th>607e8dd63bd84a6a8517dab8505fcce1</th>\n",
       "      <td>FINISHED</td>\n",
       "      <td>1.738251e+12</td>\n",
       "      <td>1.738252e+12</td>\n",
       "      <td>Ward's Method</td>\n",
       "      <td>NaN</td>\n",
       "      <td>4</td>\n",
       "      <td>4163</td>\n",
       "      <td>NaN</td>\n",
       "      <td>14427</td>\n",
       "      <td>3</td>\n",
       "      <td>379.222556</td>\n",
       "      <td>2372.356</td>\n",
       "      <td>NaN</td>\n",
       "      <td>False</td>\n",
       "    </tr>\n",
       "  </tbody>\n",
       "</table>\n",
       "<p>186 rows × 14 columns</p>\n",
       "</div>"
      ]
     },
     "execution_count": 233,
     "metadata": {},
     "output_type": "execute_result"
    }
   ],
   "execution_count": 233
  },
  {
   "metadata": {},
   "cell_type": "code",
   "outputs": [],
   "execution_count": null,
   "source": "",
   "id": "124d57a995bacd27"
  },
  {
   "metadata": {},
   "cell_type": "code",
   "outputs": [],
   "execution_count": null,
   "source": [
    "df = df_common.copy()\n",
    "n_features = 14427\n",
    "df = df.loc[df['n_features']==n_features]\n",
    "df = df.loc[df['model_nickname'].isin(['RecursiveClustering', 'RecursiveClustering_aproximated', 'KMeans', 'HDBSCAN', 'DBSCAN', 'AffinityPropagation', 'OPTICS', 'SpectralSubspaceRandomization', 'WardAgglomerativeClustering'])]\n",
    "models_names = {\n",
    "    'RecursiveClustering': 'CoHiRF',\n",
    "    'RecursiveClustering_rbf': 'CoHiRF-RBF',\n",
    "    'RecursiveClustering_aproximated': 'CoHiRF-1000',\n",
    "    'KMeans': 'K-Means',\n",
    "    'HDBSCAN': 'HDBSCAN',\n",
    "    'DBSCAN': 'DBSCAN',\n",
    "    'AffinityPropagation': 'Affinity Propagation',\n",
    "    'OPTICS': 'OPTICS',\n",
    "    'SpectralSubspaceRandomization': 'SC-SRGF',\n",
    "    'WardAgglomerativeClustering': \"Ward's Method\",\n",
    "}\n",
    "df = df.replace({'model_nickname': models_names})\n",
    "df = df.sort_values(by=['model_nickname', 'n_samples'])\n",
    "df = df.rename(columns={'fit_model_return_elapsed_time': 'Time (s)', 'max_memory_used': 'Memory (MB)', 'n_samples': 'Number of samples', 'n_features': 'Number of features', 'model_nickname': 'Model'})\n",
    "fig = px.line(df, x='Number of samples', y='Time (s)', color='Model', line_dash='Model', log_x=True, log_y=True, markers=True, template='presentation', \n",
    "              category_orders={'Model': ['RecursiveClustering', 'KMeans', 'HDBSCAN', 'DBSCAN', 'AffinityPropagation', 'OPTICS', 'SpectralSubspaceRandomization', 'WardAgglomerativeClustering']})\n",
    "# # transparent background\n",
    "fig.update_layout({\n",
    "    'font': {\n",
    "        'color': 'black',\n",
    "        'size': 15\n",
    "    },\n",
    "    'xaxis': {\n",
    "        'color': 'black',\n",
    "        'title': {'standoff': 15},\n",
    "    }, \n",
    "    'yaxis': {\n",
    "        'color': 'black',\n",
    "    },\n",
    "    'margin': {\n",
    "        't': 10,\n",
    "        'b': 50,\n",
    "        'l': 50,\n",
    "        'r': 30,\n",
    "    },\n",
    "    'legend': {\n",
    "        'orientation': 'h',\n",
    "        'yanchor': 'bottom',\n",
    "        'y': 1.02,\n",
    "        'xanchor': 'left',\n",
    "        'x': 0.01,\n",
    "        'title': {'text': ''}\n",
    "    }\n",
    "})\n",
    "fig.update_xaxes(showline=True, mirror=True, dtick='D2')\n",
    "fig.update_yaxes(showline=True, mirror=True, dtick='D2')\n",
    "fig.show()\n",
    "fig.write_image(f'time_n-samples_n-features{n_features}.pdf')"
   ],
   "id": "c3807ea0cee7059d"
  },
  {
   "cell_type": "markdown",
   "id": "c908d9e33213b83f",
   "metadata": {},
   "source": [
    "# Get common combinations"
   ]
  },
  {
   "cell_type": "code",
   "id": "2359ed2652638232",
   "metadata": {
    "ExecuteTime": {
     "end_time": "2025-01-30T11:12:11.837852Z",
     "start_time": "2025-01-30T11:12:11.834232Z"
    }
   },
   "source": [
    "df_runs_raw['model_nickname'].unique().tolist()"
   ],
   "outputs": [
    {
     "data": {
      "text/plain": [
       "['RecursiveClustering',\n",
       " 'KMeans',\n",
       " 'Proclus',\n",
       " 'AffinityPropagation',\n",
       " 'Clique',\n",
       " 'SpectralClustering',\n",
       " 'HDBSCAN',\n",
       " 'MeanShift',\n",
       " 'SingleAgglomerativeClustering',\n",
       " 'IRFLLRR',\n",
       " 'CompleteAgglomerativeClustering',\n",
       " 'KMeansProj',\n",
       " 'DBSCAN',\n",
       " 'OPTICS',\n",
       " 'SpectralSubspaceRandomization',\n",
       " 'AverageAgglomerativeClustering',\n",
       " 'WardAgglomerativeClustering']"
      ]
     },
     "execution_count": 83,
     "metadata": {},
     "output_type": "execute_result"
    }
   ],
   "execution_count": 83
  },
  {
   "cell_type": "code",
   "id": "4562f6c92230fd0f",
   "metadata": {
    "ExecuteTime": {
     "end_time": "2025-01-30T11:12:16.795783Z",
     "start_time": "2025-01-30T11:12:16.780117Z"
    }
   },
   "source": [
    "model_nickname = [\n",
    "    'RecursiveClustering',\n",
    "    'RecursiveClustering_aproximated',\n",
    "    'KMeans',\n",
    "    'Proclus',\n",
    "    'AffinityPropagation',\n",
    "    'Clique',\n",
    "    'SpectralClustering',\n",
    "    'HDBSCAN',\n",
    "    'MeanShift',\n",
    "    'SingleAgglomerativeClustering',\n",
    "    'IRFLLRR',\n",
    "    'CompleteAgglomerativeClustering',\n",
    "    'KMeansProj',\n",
    "    'DBSCAN',\n",
    "    'OPTICS',\n",
    "    'SpectralSubspaceRandomization',\n",
    "    'AverageAgglomerativeClustering',\n",
    "    'WardAgglomerativeClustering'\n",
    "]\n",
    "df = df_runs.copy()\n",
    "df = df.loc[df['model_nickname'].isin(model_nickname)]\n",
    "column = 'model_nickname'\n",
    "combination_columns = ['n_samples', 'n_features']\n",
    "common_combinations = get_common_combinations(df, column, combination_columns)"
   ],
   "outputs": [],
   "execution_count": 84
  },
  {
   "cell_type": "code",
   "id": "58575bddf358b878",
   "metadata": {
    "ExecuteTime": {
     "end_time": "2025-01-30T11:12:17.784586Z",
     "start_time": "2025-01-30T11:12:17.780048Z"
    }
   },
   "source": [
    "df_common = get_df_with_combinations(df, combination_columns, common_combinations)"
   ],
   "outputs": [],
   "execution_count": 85
  },
  {
   "cell_type": "code",
   "id": "a09a4bd163976fbb",
   "metadata": {
    "ExecuteTime": {
     "end_time": "2025-01-30T11:12:18.742644Z",
     "start_time": "2025-01-30T11:12:18.739590Z"
    }
   },
   "source": [
    "df_common['n_samples'] = df_common['n_samples'].astype(int)\n",
    "df_common['n_features'] = df_common['n_features'].astype(int)"
   ],
   "outputs": [],
   "execution_count": 86
  },
  {
   "cell_type": "code",
   "id": "69f7b1d0c03dd623",
   "metadata": {
    "ExecuteTime": {
     "end_time": "2025-01-30T11:12:19.039343Z",
     "start_time": "2025-01-30T11:12:19.027869Z"
    }
   },
   "source": [
    "df_common"
   ],
   "outputs": [
    {
     "data": {
      "text/plain": [
       "                                             status    start_time  \\\n",
       "00069f9700f1440a9dd1c3e85a51c153           FINISHED  1.732899e+12   \n",
       "002ae3bc028c4dd6be9a023079ad331e           FINISHED  1.738204e+12   \n",
       "01144a4db4ec4f3eacec84b883262710           FINISHED  1.732902e+12   \n",
       "01e9b7f4d4a242fea08ef947f475d150           FINISHED  1.733235e+12   \n",
       "02a83aa346bf423c80077788a889a0d4           FINISHED  1.733067e+12   \n",
       "...                                             ...           ...   \n",
       "SpectralSubspaceRandomization_50000_100      FAILED  1.738236e+12   \n",
       "SpectralSubspaceRandomization_50000_347      FAILED  1.738236e+12   \n",
       "SpectralSubspaceRandomization_50000_1202     FAILED  1.738236e+12   \n",
       "SpectralSubspaceRandomization_50000_4163     FAILED  1.738236e+12   \n",
       "SpectralSubspaceRandomization_50000_14427    FAILED  1.738236e+12   \n",
       "\n",
       "                                               end_time  \\\n",
       "00069f9700f1440a9dd1c3e85a51c153           1.732899e+12   \n",
       "002ae3bc028c4dd6be9a023079ad331e           1.738204e+12   \n",
       "01144a4db4ec4f3eacec84b883262710           1.732902e+12   \n",
       "01e9b7f4d4a242fea08ef947f475d150           1.733235e+12   \n",
       "02a83aa346bf423c80077788a889a0d4           1.733067e+12   \n",
       "...                                                 ...   \n",
       "SpectralSubspaceRandomization_50000_100    1.738236e+12   \n",
       "SpectralSubspaceRandomization_50000_347    1.738236e+12   \n",
       "SpectralSubspaceRandomization_50000_1202   1.738236e+12   \n",
       "SpectralSubspaceRandomization_50000_4163   1.738236e+12   \n",
       "SpectralSubspaceRandomization_50000_14427  1.738236e+12   \n",
       "\n",
       "                                                            model_nickname  \\\n",
       "00069f9700f1440a9dd1c3e85a51c153                       RecursiveClustering   \n",
       "002ae3bc028c4dd6be9a023079ad331e           RecursiveClustering_aproximated   \n",
       "01144a4db4ec4f3eacec84b883262710                                    KMeans   \n",
       "01e9b7f4d4a242fea08ef947f475d150                       AffinityPropagation   \n",
       "02a83aa346bf423c80077788a889a0d4                                    Clique   \n",
       "...                                                                    ...   \n",
       "SpectralSubspaceRandomization_50000_100      SpectralSubspaceRandomization   \n",
       "SpectralSubspaceRandomization_50000_347      SpectralSubspaceRandomization   \n",
       "SpectralSubspaceRandomization_50000_1202     SpectralSubspaceRandomization   \n",
       "SpectralSubspaceRandomization_50000_4163     SpectralSubspaceRandomization   \n",
       "SpectralSubspaceRandomization_50000_14427    SpectralSubspaceRandomization   \n",
       "\n",
       "                                          model_params/representative_method  \\\n",
       "00069f9700f1440a9dd1c3e85a51c153                             closest_overall   \n",
       "002ae3bc028c4dd6be9a023079ad331e                        closest_overall_1000   \n",
       "01144a4db4ec4f3eacec84b883262710                                         NaN   \n",
       "01e9b7f4d4a242fea08ef947f475d150                                         NaN   \n",
       "02a83aa346bf423c80077788a889a0d4                                         NaN   \n",
       "...                                                                      ...   \n",
       "SpectralSubspaceRandomization_50000_100                                  NaN   \n",
       "SpectralSubspaceRandomization_50000_347                                  NaN   \n",
       "SpectralSubspaceRandomization_50000_1202                                 NaN   \n",
       "SpectralSubspaceRandomization_50000_4163                                 NaN   \n",
       "SpectralSubspaceRandomization_50000_14427                                NaN   \n",
       "\n",
       "                                          n_cores  n_features n_jobs  \\\n",
       "00069f9700f1440a9dd1c3e85a51c153                1       14427      1   \n",
       "002ae3bc028c4dd6be9a023079ad331e                4       14427      4   \n",
       "01144a4db4ec4f3eacec84b883262710                1        4163    NaN   \n",
       "01e9b7f4d4a242fea08ef947f475d150                4         347    NaN   \n",
       "02a83aa346bf423c80077788a889a0d4                1       14427    NaN   \n",
       "...                                           ...         ...    ...   \n",
       "SpectralSubspaceRandomization_50000_100       NaN         100    NaN   \n",
       "SpectralSubspaceRandomization_50000_347       NaN         347    NaN   \n",
       "SpectralSubspaceRandomization_50000_1202      NaN        1202    NaN   \n",
       "SpectralSubspaceRandomization_50000_4163      NaN        4163    NaN   \n",
       "SpectralSubspaceRandomization_50000_14427     NaN       14427    NaN   \n",
       "\n",
       "                                           n_samples  \\\n",
       "00069f9700f1440a9dd1c3e85a51c153                 100   \n",
       "002ae3bc028c4dd6be9a023079ad331e                 347   \n",
       "01144a4db4ec4f3eacec84b883262710               50000   \n",
       "01e9b7f4d4a242fea08ef947f475d150                 347   \n",
       "02a83aa346bf423c80077788a889a0d4               50000   \n",
       "...                                              ...   \n",
       "SpectralSubspaceRandomization_50000_100        50000   \n",
       "SpectralSubspaceRandomization_50000_347        50000   \n",
       "SpectralSubspaceRandomization_50000_1202       50000   \n",
       "SpectralSubspaceRandomization_50000_4163       50000   \n",
       "SpectralSubspaceRandomization_50000_14427      50000   \n",
       "\n",
       "                                           fit_model_return_elapsed_time  \\\n",
       "00069f9700f1440a9dd1c3e85a51c153                                0.108414   \n",
       "002ae3bc028c4dd6be9a023079ad331e                                0.348808   \n",
       "01144a4db4ec4f3eacec84b883262710                                7.079966   \n",
       "01e9b7f4d4a242fea08ef947f475d150                                0.429152   \n",
       "02a83aa346bf423c80077788a889a0d4                              359.365488   \n",
       "...                                                                  ...   \n",
       "SpectralSubspaceRandomization_50000_100                              inf   \n",
       "SpectralSubspaceRandomization_50000_347                              inf   \n",
       "SpectralSubspaceRandomization_50000_1202                             inf   \n",
       "SpectralSubspaceRandomization_50000_4163                             inf   \n",
       "SpectralSubspaceRandomization_50000_14427                            inf   \n",
       "\n",
       "                                           max_memory_used EXCEPTION  \\\n",
       "00069f9700f1440a9dd1c3e85a51c153                   278.552       NaN   \n",
       "002ae3bc028c4dd6be9a023079ad331e                   348.192       NaN   \n",
       "01144a4db4ec4f3eacec84b883262710                 39404.500       NaN   \n",
       "01e9b7f4d4a242fea08ef947f475d150                   419.316       NaN   \n",
       "02a83aa346bf423c80077788a889a0d4                 39392.436       NaN   \n",
       "...                                                    ...       ...   \n",
       "SpectralSubspaceRandomization_50000_100                inf     NoRun   \n",
       "SpectralSubspaceRandomization_50000_347                inf     NoRun   \n",
       "SpectralSubspaceRandomization_50000_1202               inf     NoRun   \n",
       "SpectralSubspaceRandomization_50000_4163               inf     NoRun   \n",
       "SpectralSubspaceRandomization_50000_14427              inf     NoRun   \n",
       "\n",
       "                                          raised_exception  \n",
       "00069f9700f1440a9dd1c3e85a51c153                     False  \n",
       "002ae3bc028c4dd6be9a023079ad331e                     False  \n",
       "01144a4db4ec4f3eacec84b883262710                     False  \n",
       "01e9b7f4d4a242fea08ef947f475d150                     False  \n",
       "02a83aa346bf423c80077788a889a0d4                     False  \n",
       "...                                                    ...  \n",
       "SpectralSubspaceRandomization_50000_100               True  \n",
       "SpectralSubspaceRandomization_50000_347               True  \n",
       "SpectralSubspaceRandomization_50000_1202              True  \n",
       "SpectralSubspaceRandomization_50000_4163              True  \n",
       "SpectralSubspaceRandomization_50000_14427             True  \n",
       "\n",
       "[630 rows x 13 columns]"
      ],
      "text/html": [
       "<div>\n",
       "<style scoped>\n",
       "    .dataframe tbody tr th:only-of-type {\n",
       "        vertical-align: middle;\n",
       "    }\n",
       "\n",
       "    .dataframe tbody tr th {\n",
       "        vertical-align: top;\n",
       "    }\n",
       "\n",
       "    .dataframe thead th {\n",
       "        text-align: right;\n",
       "    }\n",
       "</style>\n",
       "<table border=\"1\" class=\"dataframe\">\n",
       "  <thead>\n",
       "    <tr style=\"text-align: right;\">\n",
       "      <th></th>\n",
       "      <th>status</th>\n",
       "      <th>start_time</th>\n",
       "      <th>end_time</th>\n",
       "      <th>model_nickname</th>\n",
       "      <th>model_params/representative_method</th>\n",
       "      <th>n_cores</th>\n",
       "      <th>n_features</th>\n",
       "      <th>n_jobs</th>\n",
       "      <th>n_samples</th>\n",
       "      <th>fit_model_return_elapsed_time</th>\n",
       "      <th>max_memory_used</th>\n",
       "      <th>EXCEPTION</th>\n",
       "      <th>raised_exception</th>\n",
       "    </tr>\n",
       "  </thead>\n",
       "  <tbody>\n",
       "    <tr>\n",
       "      <th>00069f9700f1440a9dd1c3e85a51c153</th>\n",
       "      <td>FINISHED</td>\n",
       "      <td>1.732899e+12</td>\n",
       "      <td>1.732899e+12</td>\n",
       "      <td>RecursiveClustering</td>\n",
       "      <td>closest_overall</td>\n",
       "      <td>1</td>\n",
       "      <td>14427</td>\n",
       "      <td>1</td>\n",
       "      <td>100</td>\n",
       "      <td>0.108414</td>\n",
       "      <td>278.552</td>\n",
       "      <td>NaN</td>\n",
       "      <td>False</td>\n",
       "    </tr>\n",
       "    <tr>\n",
       "      <th>002ae3bc028c4dd6be9a023079ad331e</th>\n",
       "      <td>FINISHED</td>\n",
       "      <td>1.738204e+12</td>\n",
       "      <td>1.738204e+12</td>\n",
       "      <td>RecursiveClustering_aproximated</td>\n",
       "      <td>closest_overall_1000</td>\n",
       "      <td>4</td>\n",
       "      <td>14427</td>\n",
       "      <td>4</td>\n",
       "      <td>347</td>\n",
       "      <td>0.348808</td>\n",
       "      <td>348.192</td>\n",
       "      <td>NaN</td>\n",
       "      <td>False</td>\n",
       "    </tr>\n",
       "    <tr>\n",
       "      <th>01144a4db4ec4f3eacec84b883262710</th>\n",
       "      <td>FINISHED</td>\n",
       "      <td>1.732902e+12</td>\n",
       "      <td>1.732902e+12</td>\n",
       "      <td>KMeans</td>\n",
       "      <td>NaN</td>\n",
       "      <td>1</td>\n",
       "      <td>4163</td>\n",
       "      <td>NaN</td>\n",
       "      <td>50000</td>\n",
       "      <td>7.079966</td>\n",
       "      <td>39404.500</td>\n",
       "      <td>NaN</td>\n",
       "      <td>False</td>\n",
       "    </tr>\n",
       "    <tr>\n",
       "      <th>01e9b7f4d4a242fea08ef947f475d150</th>\n",
       "      <td>FINISHED</td>\n",
       "      <td>1.733235e+12</td>\n",
       "      <td>1.733235e+12</td>\n",
       "      <td>AffinityPropagation</td>\n",
       "      <td>NaN</td>\n",
       "      <td>4</td>\n",
       "      <td>347</td>\n",
       "      <td>NaN</td>\n",
       "      <td>347</td>\n",
       "      <td>0.429152</td>\n",
       "      <td>419.316</td>\n",
       "      <td>NaN</td>\n",
       "      <td>False</td>\n",
       "    </tr>\n",
       "    <tr>\n",
       "      <th>02a83aa346bf423c80077788a889a0d4</th>\n",
       "      <td>FINISHED</td>\n",
       "      <td>1.733067e+12</td>\n",
       "      <td>1.733067e+12</td>\n",
       "      <td>Clique</td>\n",
       "      <td>NaN</td>\n",
       "      <td>1</td>\n",
       "      <td>14427</td>\n",
       "      <td>NaN</td>\n",
       "      <td>50000</td>\n",
       "      <td>359.365488</td>\n",
       "      <td>39392.436</td>\n",
       "      <td>NaN</td>\n",
       "      <td>False</td>\n",
       "    </tr>\n",
       "    <tr>\n",
       "      <th>...</th>\n",
       "      <td>...</td>\n",
       "      <td>...</td>\n",
       "      <td>...</td>\n",
       "      <td>...</td>\n",
       "      <td>...</td>\n",
       "      <td>...</td>\n",
       "      <td>...</td>\n",
       "      <td>...</td>\n",
       "      <td>...</td>\n",
       "      <td>...</td>\n",
       "      <td>...</td>\n",
       "      <td>...</td>\n",
       "      <td>...</td>\n",
       "    </tr>\n",
       "    <tr>\n",
       "      <th>SpectralSubspaceRandomization_50000_100</th>\n",
       "      <td>FAILED</td>\n",
       "      <td>1.738236e+12</td>\n",
       "      <td>1.738236e+12</td>\n",
       "      <td>SpectralSubspaceRandomization</td>\n",
       "      <td>NaN</td>\n",
       "      <td>NaN</td>\n",
       "      <td>100</td>\n",
       "      <td>NaN</td>\n",
       "      <td>50000</td>\n",
       "      <td>inf</td>\n",
       "      <td>inf</td>\n",
       "      <td>NoRun</td>\n",
       "      <td>True</td>\n",
       "    </tr>\n",
       "    <tr>\n",
       "      <th>SpectralSubspaceRandomization_50000_347</th>\n",
       "      <td>FAILED</td>\n",
       "      <td>1.738236e+12</td>\n",
       "      <td>1.738236e+12</td>\n",
       "      <td>SpectralSubspaceRandomization</td>\n",
       "      <td>NaN</td>\n",
       "      <td>NaN</td>\n",
       "      <td>347</td>\n",
       "      <td>NaN</td>\n",
       "      <td>50000</td>\n",
       "      <td>inf</td>\n",
       "      <td>inf</td>\n",
       "      <td>NoRun</td>\n",
       "      <td>True</td>\n",
       "    </tr>\n",
       "    <tr>\n",
       "      <th>SpectralSubspaceRandomization_50000_1202</th>\n",
       "      <td>FAILED</td>\n",
       "      <td>1.738236e+12</td>\n",
       "      <td>1.738236e+12</td>\n",
       "      <td>SpectralSubspaceRandomization</td>\n",
       "      <td>NaN</td>\n",
       "      <td>NaN</td>\n",
       "      <td>1202</td>\n",
       "      <td>NaN</td>\n",
       "      <td>50000</td>\n",
       "      <td>inf</td>\n",
       "      <td>inf</td>\n",
       "      <td>NoRun</td>\n",
       "      <td>True</td>\n",
       "    </tr>\n",
       "    <tr>\n",
       "      <th>SpectralSubspaceRandomization_50000_4163</th>\n",
       "      <td>FAILED</td>\n",
       "      <td>1.738236e+12</td>\n",
       "      <td>1.738236e+12</td>\n",
       "      <td>SpectralSubspaceRandomization</td>\n",
       "      <td>NaN</td>\n",
       "      <td>NaN</td>\n",
       "      <td>4163</td>\n",
       "      <td>NaN</td>\n",
       "      <td>50000</td>\n",
       "      <td>inf</td>\n",
       "      <td>inf</td>\n",
       "      <td>NoRun</td>\n",
       "      <td>True</td>\n",
       "    </tr>\n",
       "    <tr>\n",
       "      <th>SpectralSubspaceRandomization_50000_14427</th>\n",
       "      <td>FAILED</td>\n",
       "      <td>1.738236e+12</td>\n",
       "      <td>1.738236e+12</td>\n",
       "      <td>SpectralSubspaceRandomization</td>\n",
       "      <td>NaN</td>\n",
       "      <td>NaN</td>\n",
       "      <td>14427</td>\n",
       "      <td>NaN</td>\n",
       "      <td>50000</td>\n",
       "      <td>inf</td>\n",
       "      <td>inf</td>\n",
       "      <td>NoRun</td>\n",
       "      <td>True</td>\n",
       "    </tr>\n",
       "  </tbody>\n",
       "</table>\n",
       "<p>630 rows × 13 columns</p>\n",
       "</div>"
      ]
     },
     "execution_count": 87,
     "metadata": {},
     "output_type": "execute_result"
    }
   ],
   "execution_count": 87
  },
  {
   "metadata": {},
   "cell_type": "markdown",
   "source": "# Plots",
   "id": "df6044631ddb3c4c"
  },
  {
   "metadata": {},
   "cell_type": "markdown",
   "source": "## Time",
   "id": "1fa28b46b12babff"
  },
  {
   "cell_type": "code",
   "id": "291879bd2235776a",
   "metadata": {
    "ExecuteTime": {
     "end_time": "2025-01-21T14:42:21.664554Z",
     "start_time": "2025-01-21T14:42:21.597197Z"
    }
   },
   "source": [
    "df_time = df_common.copy()\n",
    "fig = px.box(df_time, x='model_nickname', y='fit_model_return_elapsed_time', color='model_nickname', log_y=True)\n",
    "fig.show()"
   ],
   "outputs": [
    {
     "data": {
      "application/vnd.plotly.v1+json": {
       "data": [
        {
         "alignmentgroup": "True",
         "hovertemplate": "model_nickname=%{x}<br>fit_model_return_elapsed_time=%{y}<extra></extra>",
         "legendgroup": "RecursiveClustering",
         "marker": {
          "color": "#636efa"
         },
         "name": "RecursiveClustering",
         "notched": false,
         "offsetgroup": "RecursiveClustering",
         "orientation": "v",
         "showlegend": true,
         "x": [
          "RecursiveClustering",
          "RecursiveClustering",
          "RecursiveClustering",
          "RecursiveClustering",
          "RecursiveClustering",
          "RecursiveClustering",
          "RecursiveClustering",
          "RecursiveClustering",
          "RecursiveClustering",
          "RecursiveClustering",
          "RecursiveClustering",
          "RecursiveClustering",
          "RecursiveClustering",
          "RecursiveClustering",
          "RecursiveClustering",
          "RecursiveClustering",
          "RecursiveClustering",
          "RecursiveClustering",
          "RecursiveClustering",
          "RecursiveClustering",
          "RecursiveClustering",
          "RecursiveClustering",
          "RecursiveClustering",
          "RecursiveClustering",
          "RecursiveClustering",
          "RecursiveClustering",
          "RecursiveClustering",
          "RecursiveClustering",
          "RecursiveClustering",
          "RecursiveClustering",
          "RecursiveClustering",
          "RecursiveClustering",
          "RecursiveClustering",
          "RecursiveClustering",
          "RecursiveClustering",
          "RecursiveClustering"
         ],
         "x0": " ",
         "xaxis": "x",
         "y": [
          0.10841437382623553,
          0.2713635847903788,
          0.21147432504221797,
          0.17780665587633848,
          21.054063057992607,
          14.641426105052233,
          0.34823574032634497,
          3.4615936130285263,
          132.75927348295227,
          4.498260552063584,
          0.5764954602345824,
          10.407265902031213,
          0.05100748501718044,
          2.116953680757433,
          47.4107681219466,
          0.5426869858056307,
          1.54515857482329,
          0.3185981111600995,
          0.5562354838475585,
          2.5050868480466306,
          0.25788637110963464,
          0.33837378583848476,
          7.074277047067881,
          0.4051935328170657,
          11.780191365163773,
          0.2901693060994148,
          1.1102939848788083,
          0.3372849151492119,
          2.6131800981238484,
          0.05101421196013689,
          0.2517179320566356,
          0.5926107950508595,
          0.38402798119932413,
          0.073908856138587,
          17.18792238784954,
          1.2802362879738212
         ],
         "y0": " ",
         "yaxis": "y",
         "type": "box"
        },
        {
         "alignmentgroup": "True",
         "hovertemplate": "model_nickname=%{x}<br>fit_model_return_elapsed_time=%{y}<extra></extra>",
         "legendgroup": "KMeans",
         "marker": {
          "color": "#EF553B"
         },
         "name": "KMeans",
         "notched": false,
         "offsetgroup": "KMeans",
         "orientation": "v",
         "showlegend": true,
         "x": [
          "KMeans",
          "KMeans",
          "KMeans",
          "KMeans",
          "KMeans",
          "KMeans",
          "KMeans",
          "KMeans",
          "KMeans",
          "KMeans",
          "KMeans",
          "KMeans",
          "KMeans",
          "KMeans",
          "KMeans",
          "KMeans",
          "KMeans",
          "KMeans",
          "KMeans",
          "KMeans",
          "KMeans",
          "KMeans",
          "KMeans",
          "KMeans",
          "KMeans",
          "KMeans",
          "KMeans",
          "KMeans",
          "KMeans",
          "KMeans",
          "KMeans",
          "KMeans",
          "KMeans",
          "KMeans",
          "KMeans",
          "KMeans"
         ],
         "x0": " ",
         "xaxis": "x",
         "y": [
          7.07996587920934,
          1.1440084306523204,
          13.37486203899607,
          0.6829324648715556,
          1.4208350228145719,
          0.025977537035942078,
          0.019911947194486856,
          0.09093161718919873,
          8.423156165983528,
          0.01920995395630598,
          25.801226657815278,
          0.4100434216670692,
          0.590611255262047,
          0.035022156313061714,
          0.34503894997760653,
          0.026854893658310175,
          0.027392395306378603,
          0.6303772148676217,
          2.2441787063144147,
          0.016388532239943743,
          0.1623558127321303,
          0.31098515540361404,
          2.398749521933496,
          79.09997352492064,
          0.4804870071820915,
          4.373474506661296,
          0.17808318277820945,
          0.08569710841402411,
          0.05158607801422477,
          0.2519635371863842,
          0.018913140054792166,
          0.03368050325661898,
          1.0111704710870981,
          3.6745711537078023,
          0.03165674302726984,
          0.17716072406619787
         ],
         "y0": " ",
         "yaxis": "y",
         "type": "box"
        },
        {
         "alignmentgroup": "True",
         "hovertemplate": "model_nickname=%{x}<br>fit_model_return_elapsed_time=%{y}<extra></extra>",
         "legendgroup": "AffinityPropagation",
         "marker": {
          "color": "#00cc96"
         },
         "name": "AffinityPropagation",
         "notched": false,
         "offsetgroup": "AffinityPropagation",
         "orientation": "v",
         "showlegend": true,
         "x": [
          "AffinityPropagation",
          "AffinityPropagation",
          "AffinityPropagation",
          "AffinityPropagation",
          "AffinityPropagation",
          "AffinityPropagation",
          "AffinityPropagation",
          "AffinityPropagation",
          "AffinityPropagation",
          "AffinityPropagation",
          "AffinityPropagation",
          "AffinityPropagation",
          "AffinityPropagation",
          "AffinityPropagation",
          "AffinityPropagation",
          "AffinityPropagation",
          "AffinityPropagation",
          "AffinityPropagation",
          "AffinityPropagation",
          "AffinityPropagation",
          "AffinityPropagation",
          "AffinityPropagation",
          "AffinityPropagation",
          "AffinityPropagation",
          "AffinityPropagation",
          "AffinityPropagation",
          "AffinityPropagation",
          "AffinityPropagation",
          "AffinityPropagation",
          "AffinityPropagation",
          "AffinityPropagation",
          "AffinityPropagation",
          "AffinityPropagation",
          "AffinityPropagation",
          "AffinityPropagation",
          "AffinityPropagation"
         ],
         "x0": " ",
         "xaxis": "x",
         "y": [
          0.4291515410877764,
          31.760947484057397,
          0.3825430399738252,
          0.11963541386649013,
          1.2494164910167456,
          9.223530455026776,
          1303.966122912243,
          33.43737772013992,
          104.50684454292059,
          90.6022418430075,
          0.09950848761945963,
          0.09317973395809531,
          1298.2232589893974,
          1305.4496605228633,
          115.58828049898148,
          2.6725039430893958,
          0.07709479378536344,
          32.83666263986379,
          0.6427752072922885,
          1307.9004879873246,
          0.3728419761173427,
          105.18542669573799,
          30.76192540116608,
          0.5342904296703637,
          844.3383482280187,
          93.28907828079537,
          30.938994152937084,
          950.1205439330079,
          0.06487540621310472,
          94.03067388338968,
          null,
          null,
          null,
          null,
          null,
          null
         ],
         "y0": " ",
         "yaxis": "y",
         "type": "box"
        },
        {
         "alignmentgroup": "True",
         "hovertemplate": "model_nickname=%{x}<br>fit_model_return_elapsed_time=%{y}<extra></extra>",
         "legendgroup": "Clique",
         "marker": {
          "color": "#ab63fa"
         },
         "name": "Clique",
         "notched": false,
         "offsetgroup": "Clique",
         "orientation": "v",
         "showlegend": true,
         "x": [
          "Clique",
          "Clique",
          "Clique",
          "Clique",
          "Clique",
          "Clique",
          "Clique",
          "Clique",
          "Clique",
          "Clique",
          "Clique",
          "Clique",
          "Clique",
          "Clique",
          "Clique",
          "Clique",
          "Clique",
          "Clique",
          "Clique",
          "Clique",
          "Clique",
          "Clique",
          "Clique",
          "Clique",
          "Clique",
          "Clique",
          "Clique",
          "Clique",
          "Clique",
          "Clique",
          "Clique",
          "Clique",
          "Clique",
          "Clique",
          "Clique",
          "Clique"
         ],
         "x0": " ",
         "xaxis": "x",
         "y": [
          359.36548762209713,
          2.6142347818240523,
          0.07240482373163104,
          3.0803032158873975,
          0.062390636187046766,
          8.510201110038906,
          9.123948491178453,
          1228.1652099946514,
          0.25283603463321924,
          0.0630630562081933,
          101.701822060626,
          8.467757266014814,
          0.010632125195115805,
          102.58494770992547,
          2.4536710716784,
          29.383034309837967,
          29.400618228130043,
          0.21782978624105453,
          353.33163586305454,
          30.053395746275783,
          0.021015071775764227,
          0.20473424112424254,
          8.646431381814182,
          0.7472893372178078,
          2.440586622338742,
          0.026358837727457285,
          29.873905192129314,
          0.889307077974081,
          0.7004016707651317,
          0.7115566949360073,
          2.486298780888319,
          102.62105858838186,
          0.21731707965955138,
          8.512735407333821,
          0.7252112696878612,
          2.45976768899709
         ],
         "y0": " ",
         "yaxis": "y",
         "type": "box"
        },
        {
         "alignmentgroup": "True",
         "hovertemplate": "model_nickname=%{x}<br>fit_model_return_elapsed_time=%{y}<extra></extra>",
         "legendgroup": "SpectralClustering",
         "marker": {
          "color": "#FFA15A"
         },
         "name": "SpectralClustering",
         "notched": false,
         "offsetgroup": "SpectralClustering",
         "orientation": "v",
         "showlegend": true,
         "x": [
          "SpectralClustering",
          "SpectralClustering",
          "SpectralClustering",
          "SpectralClustering",
          "SpectralClustering",
          "SpectralClustering",
          "SpectralClustering",
          "SpectralClustering",
          "SpectralClustering",
          "SpectralClustering",
          "SpectralClustering",
          "SpectralClustering",
          "SpectralClustering",
          "SpectralClustering",
          "SpectralClustering",
          "SpectralClustering",
          "SpectralClustering",
          "SpectralClustering",
          "SpectralClustering",
          "SpectralClustering",
          "SpectralClustering",
          "SpectralClustering",
          "SpectralClustering",
          "SpectralClustering",
          "SpectralClustering",
          "SpectralClustering",
          "SpectralClustering",
          "SpectralClustering",
          "SpectralClustering",
          "SpectralClustering",
          "SpectralClustering",
          "SpectralClustering",
          "SpectralClustering",
          "SpectralClustering",
          "SpectralClustering",
          "SpectralClustering"
         ],
         "x0": " ",
         "xaxis": "x",
         "y": [
          0.034801680129021406,
          0.33556195767596364,
          0.030064214020967484,
          3.0956991496495903,
          63.38605046086013,
          122.79042468685657,
          0.06860385602340102,
          1550.373374874238,
          5.9408986759372056,
          3.8795987679623067,
          46.67146863043308,
          0.3216413124464452,
          0.0332301277667284,
          6.804666596930474,
          208.81139951385558,
          3180.085443410091,
          1893.7307089590468,
          0.0350476810708642,
          40.87685772404075,
          1.7682707658968866,
          19.49088584864512,
          0.13052011001855135,
          215.61679712403566,
          0.3732515429146588,
          0.5998675441369414,
          0.18512453977018595,
          7.465329913888127,
          1454.4860665099695,
          0.12440697010606527,
          0.08479316299781203,
          null,
          null,
          null,
          null,
          null,
          null
         ],
         "y0": " ",
         "yaxis": "y",
         "type": "box"
        },
        {
         "alignmentgroup": "True",
         "hovertemplate": "model_nickname=%{x}<br>fit_model_return_elapsed_time=%{y}<extra></extra>",
         "legendgroup": "MeanShift",
         "marker": {
          "color": "#19d3f3"
         },
         "name": "MeanShift",
         "notched": false,
         "offsetgroup": "MeanShift",
         "orientation": "v",
         "showlegend": true,
         "x": [
          "MeanShift",
          "MeanShift",
          "MeanShift",
          "MeanShift",
          "MeanShift",
          "MeanShift",
          "MeanShift",
          "MeanShift",
          "MeanShift",
          "MeanShift",
          "MeanShift",
          "MeanShift",
          "MeanShift",
          "MeanShift",
          "MeanShift",
          "MeanShift",
          "MeanShift",
          "MeanShift",
          "MeanShift",
          "MeanShift",
          "MeanShift",
          "MeanShift",
          "MeanShift",
          "MeanShift",
          "MeanShift",
          "MeanShift",
          "MeanShift",
          "MeanShift",
          "MeanShift",
          "MeanShift",
          "MeanShift",
          "MeanShift",
          "MeanShift",
          "MeanShift",
          "MeanShift",
          "MeanShift"
         ],
         "x0": " ",
         "xaxis": "x",
         "y": [
          2737.315194416791,
          17410.242399740964,
          0.23979247082024813,
          116.31868553021923,
          1526.8591388366185,
          12001.807069711853,
          334.81587847787887,
          536.2680496308021,
          75.42661059414968,
          1033.2180355130695,
          33.71753704920411,
          234.99787676194683,
          86689.53330129618,
          111.878647306934,
          77.11291527189314,
          6311.671254310757,
          322.4290032796562,
          219.75152167584747,
          0.4118987531401217,
          31.49821079010144,
          0.22448283107951283,
          72.4857128271833,
          0.1743910969235003,
          313.7083935639821,
          212.4285362381488,
          32.61872394196689,
          2002.6021945979446,
          74.85550486017019,
          3582.885516330134,
          33.06768949562684,
          81.80550131713971,
          null,
          null,
          null,
          null,
          null
         ],
         "y0": " ",
         "yaxis": "y",
         "type": "box"
        },
        {
         "alignmentgroup": "True",
         "hovertemplate": "model_nickname=%{x}<br>fit_model_return_elapsed_time=%{y}<extra></extra>",
         "legendgroup": "SingleAgglomerativeClustering",
         "marker": {
          "color": "#FF6692"
         },
         "name": "SingleAgglomerativeClustering",
         "notched": false,
         "offsetgroup": "SingleAgglomerativeClustering",
         "orientation": "v",
         "showlegend": true,
         "x": [
          "SingleAgglomerativeClustering",
          "SingleAgglomerativeClustering",
          "SingleAgglomerativeClustering",
          "SingleAgglomerativeClustering",
          "SingleAgglomerativeClustering",
          "SingleAgglomerativeClustering",
          "SingleAgglomerativeClustering",
          "SingleAgglomerativeClustering",
          "SingleAgglomerativeClustering",
          "SingleAgglomerativeClustering",
          "SingleAgglomerativeClustering",
          "SingleAgglomerativeClustering",
          "SingleAgglomerativeClustering",
          "SingleAgglomerativeClustering",
          "SingleAgglomerativeClustering",
          "SingleAgglomerativeClustering",
          "SingleAgglomerativeClustering",
          "SingleAgglomerativeClustering",
          "SingleAgglomerativeClustering",
          "SingleAgglomerativeClustering",
          "SingleAgglomerativeClustering",
          "SingleAgglomerativeClustering",
          "SingleAgglomerativeClustering",
          "SingleAgglomerativeClustering",
          "SingleAgglomerativeClustering",
          "SingleAgglomerativeClustering",
          "SingleAgglomerativeClustering",
          "SingleAgglomerativeClustering",
          "SingleAgglomerativeClustering",
          "SingleAgglomerativeClustering",
          "SingleAgglomerativeClustering",
          "SingleAgglomerativeClustering",
          "SingleAgglomerativeClustering",
          "SingleAgglomerativeClustering",
          "SingleAgglomerativeClustering",
          "SingleAgglomerativeClustering"
         ],
         "x0": " ",
         "xaxis": "x",
         "y": [
          0.0030727828852832317,
          0.07172303600236773,
          129.9758461290039,
          62954.167524033226,
          3.109453796874732,
          452.36738394526765,
          435.76903497008607,
          0.011811431962996721,
          3.0126649467274547,
          0.2508839722722769,
          5464.480393415317,
          487.9753392911516,
          0.8500979617238045,
          0.8876049192622304,
          18742.254233571235,
          36.46853772830218,
          10.806507580913603,
          10.040247300174087,
          3.0234275772236288,
          5231.730977918953,
          37.6075287386775,
          0.8224215349182487,
          1556.1570713757537,
          130.3856032048352,
          38.155095470137894,
          0.022436417173594236,
          0.0745180370286107,
          137.40847628796473,
          1571.4390591979027,
          0.2519620303064585,
          0.006385051179677248,
          10.530743250157684,
          0.25154605181887746,
          0.07177492091432214,
          0.02119302609935403,
          0.004567787051200867
         ],
         "y0": " ",
         "yaxis": "y",
         "type": "box"
        },
        {
         "alignmentgroup": "True",
         "hovertemplate": "model_nickname=%{x}<br>fit_model_return_elapsed_time=%{y}<extra></extra>",
         "legendgroup": "IRFLLRR",
         "marker": {
          "color": "#B6E880"
         },
         "name": "IRFLLRR",
         "notched": false,
         "offsetgroup": "IRFLLRR",
         "orientation": "v",
         "showlegend": true,
         "x": [
          "IRFLLRR",
          "IRFLLRR",
          "IRFLLRR",
          "IRFLLRR",
          "IRFLLRR",
          "IRFLLRR",
          "IRFLLRR",
          "IRFLLRR",
          "IRFLLRR",
          "IRFLLRR",
          "IRFLLRR",
          "IRFLLRR",
          "IRFLLRR",
          "IRFLLRR",
          "IRFLLRR",
          "IRFLLRR",
          "IRFLLRR",
          "IRFLLRR",
          "IRFLLRR",
          "IRFLLRR",
          "IRFLLRR",
          "IRFLLRR",
          "IRFLLRR",
          "IRFLLRR",
          "IRFLLRR",
          "IRFLLRR",
          "IRFLLRR",
          "IRFLLRR",
          "IRFLLRR",
          "IRFLLRR",
          "IRFLLRR",
          "IRFLLRR",
          "IRFLLRR",
          "IRFLLRR",
          "IRFLLRR",
          "IRFLLRR"
         ],
         "x0": " ",
         "xaxis": "x",
         "y": [
          10.584055672865361,
          68.72593598905951,
          20886.199884145055,
          35.10223178612068,
          2118.8199196672067,
          62.15961195807904,
          955.6244052369148,
          15764.537849284708,
          4.059305633418262,
          66.04541143821552,
          285.94349554227665,
          470.2346164388582,
          107.48584835464135,
          120.95982184261084,
          14.125991712789983,
          204.33794614719227,
          54.32440599380061,
          1385.2410540780984,
          5379.105576141272,
          3.385992791969329,
          1208.2892839079723,
          525.1216241489165,
          4.669887363910675,
          null,
          null,
          null,
          null,
          null,
          null,
          null,
          null,
          null,
          null,
          null,
          null,
          null
         ],
         "y0": " ",
         "yaxis": "y",
         "type": "box"
        },
        {
         "alignmentgroup": "True",
         "hovertemplate": "model_nickname=%{x}<br>fit_model_return_elapsed_time=%{y}<extra></extra>",
         "legendgroup": "CompleteAgglomerativeClustering",
         "marker": {
          "color": "#FF97FF"
         },
         "name": "CompleteAgglomerativeClustering",
         "notched": false,
         "offsetgroup": "CompleteAgglomerativeClustering",
         "orientation": "v",
         "showlegend": true,
         "x": [
          "CompleteAgglomerativeClustering",
          "CompleteAgglomerativeClustering",
          "CompleteAgglomerativeClustering",
          "CompleteAgglomerativeClustering",
          "CompleteAgglomerativeClustering",
          "CompleteAgglomerativeClustering",
          "CompleteAgglomerativeClustering",
          "CompleteAgglomerativeClustering",
          "CompleteAgglomerativeClustering",
          "CompleteAgglomerativeClustering",
          "CompleteAgglomerativeClustering",
          "CompleteAgglomerativeClustering",
          "CompleteAgglomerativeClustering",
          "CompleteAgglomerativeClustering",
          "CompleteAgglomerativeClustering",
          "CompleteAgglomerativeClustering",
          "CompleteAgglomerativeClustering",
          "CompleteAgglomerativeClustering",
          "CompleteAgglomerativeClustering",
          "CompleteAgglomerativeClustering",
          "CompleteAgglomerativeClustering",
          "CompleteAgglomerativeClustering",
          "CompleteAgglomerativeClustering",
          "CompleteAgglomerativeClustering",
          "CompleteAgglomerativeClustering",
          "CompleteAgglomerativeClustering",
          "CompleteAgglomerativeClustering",
          "CompleteAgglomerativeClustering",
          "CompleteAgglomerativeClustering",
          "CompleteAgglomerativeClustering",
          "CompleteAgglomerativeClustering",
          "CompleteAgglomerativeClustering",
          "CompleteAgglomerativeClustering",
          "CompleteAgglomerativeClustering",
          "CompleteAgglomerativeClustering",
          "CompleteAgglomerativeClustering"
         ],
         "x0": " ",
         "xaxis": "x",
         "y": [
          0.215601391158998,
          121.28397076996043,
          3223.8971380302683,
          8.662870922125876,
          66.01990315830335,
          0.016883572097867727,
          0.012742981314659119,
          183.70491825044155,
          0.17403118032962084,
          427.01896228501573,
          456.3669907487929,
          0.02489262167364359,
          0.055102413054555655,
          0.053975088987499475,
          4.1001329170539975,
          1736.843070722185,
          0.16803926974534988,
          0.014819620177149773,
          33.78446825686842,
          430.8792737061158,
          2.4298303429968655,
          2.9664902072399855,
          0.035376898013055325,
          0.5253987442702055,
          24.10275136306882,
          0.10017155297100544,
          34.04634071001783,
          5863.426620204002,
          997.7532055098563,
          0.6750540332868695,
          10.396883946843445,
          0.024587390013039112,
          129.9806003528647,
          1.352367689833045,
          null,
          null
         ],
         "y0": " ",
         "yaxis": "y",
         "type": "box"
        },
        {
         "alignmentgroup": "True",
         "hovertemplate": "model_nickname=%{x}<br>fit_model_return_elapsed_time=%{y}<extra></extra>",
         "legendgroup": "KMeansProj",
         "marker": {
          "color": "#FECB52"
         },
         "name": "KMeansProj",
         "notched": false,
         "offsetgroup": "KMeansProj",
         "orientation": "v",
         "showlegend": true,
         "x": [
          "KMeansProj",
          "KMeansProj",
          "KMeansProj",
          "KMeansProj",
          "KMeansProj",
          "KMeansProj",
          "KMeansProj",
          "KMeansProj",
          "KMeansProj",
          "KMeansProj",
          "KMeansProj",
          "KMeansProj",
          "KMeansProj",
          "KMeansProj",
          "KMeansProj",
          "KMeansProj",
          "KMeansProj",
          "KMeansProj",
          "KMeansProj",
          "KMeansProj",
          "KMeansProj",
          "KMeansProj",
          "KMeansProj",
          "KMeansProj",
          "KMeansProj",
          "KMeansProj",
          "KMeansProj",
          "KMeansProj",
          "KMeansProj",
          "KMeansProj",
          "KMeansProj",
          "KMeansProj",
          "KMeansProj",
          "KMeansProj",
          "KMeansProj",
          "KMeansProj"
         ],
         "x0": " ",
         "xaxis": "x",
         "y": [
          2.786427061073482,
          23.737039007712156,
          31.28267538268119,
          4.650684057734907,
          114.93309007771313,
          65.48256814200431,
          107.52201802888885,
          11.376700937282294,
          672.6224533920176,
          12.541707145050168,
          80.41896203532815,
          12.328311251010746,
          27.551719408016652,
          44.815670480020344,
          51.78557010227814,
          19.72925839200616,
          1652.3099759789184,
          0.9607341368682683,
          45.13946031732485,
          40.00156544521451,
          4.899608195293695,
          429.9832000997849,
          3776.3566830898635,
          42.04117568209767,
          4854.621731645428,
          66.88209230778739,
          167.50944244489074,
          234.50443705217913,
          99.17735935328528,
          437.80533450935036,
          283.98503924626857,
          23.6840785369277,
          null,
          null,
          null,
          null
         ],
         "y0": " ",
         "yaxis": "y",
         "type": "box"
        },
        {
         "alignmentgroup": "True",
         "hovertemplate": "model_nickname=%{x}<br>fit_model_return_elapsed_time=%{y}<extra></extra>",
         "legendgroup": "HDBSCAN",
         "marker": {
          "color": "#636efa"
         },
         "name": "HDBSCAN",
         "notched": false,
         "offsetgroup": "HDBSCAN",
         "orientation": "v",
         "showlegend": true,
         "x": [
          "HDBSCAN",
          "HDBSCAN",
          "HDBSCAN",
          "HDBSCAN",
          "HDBSCAN",
          "HDBSCAN",
          "HDBSCAN",
          "HDBSCAN",
          "HDBSCAN",
          "HDBSCAN",
          "HDBSCAN",
          "HDBSCAN",
          "HDBSCAN",
          "HDBSCAN",
          "HDBSCAN",
          "HDBSCAN",
          "HDBSCAN",
          "HDBSCAN",
          "HDBSCAN",
          "HDBSCAN",
          "HDBSCAN",
          "HDBSCAN",
          "HDBSCAN",
          "HDBSCAN",
          "HDBSCAN",
          "HDBSCAN",
          "HDBSCAN",
          "HDBSCAN",
          "HDBSCAN",
          "HDBSCAN",
          "HDBSCAN",
          "HDBSCAN",
          "HDBSCAN",
          "HDBSCAN",
          "HDBSCAN",
          "HDBSCAN"
         ],
         "x0": " ",
         "xaxis": "x",
         "y": [
          0.8538718861527741,
          7.790774574037641,
          319.4356659920886,
          30.665402431041002,
          114.59050129214302,
          0.5814016852527857,
          494.7187224258669,
          1.4807086270302534,
          2.740312841255218,
          0.08969149738550186,
          0.10097496584057808,
          0.04246479319408536,
          882.9180880105123,
          9.4280850966461,
          2.1934118950739503,
          0.6090225852094591,
          316.9094292470254,
          30.119914270937443,
          0.3091121753677726,
          2.2267292719334364,
          2.3172239679843187,
          881.2915713405237,
          7.820252540986985,
          99.3278774889186,
          7.665860196109861,
          6.58948418404907,
          97.54003904061392,
          0.03344483207911253,
          38.87270701210946,
          null,
          null,
          null,
          null,
          null,
          null,
          null
         ],
         "y0": " ",
         "yaxis": "y",
         "type": "box"
        },
        {
         "alignmentgroup": "True",
         "hovertemplate": "model_nickname=%{x}<br>fit_model_return_elapsed_time=%{y}<extra></extra>",
         "legendgroup": "Proclus",
         "marker": {
          "color": "#EF553B"
         },
         "name": "Proclus",
         "notched": false,
         "offsetgroup": "Proclus",
         "orientation": "v",
         "showlegend": true,
         "x": [
          "Proclus",
          "Proclus",
          "Proclus",
          "Proclus",
          "Proclus",
          "Proclus",
          "Proclus",
          "Proclus",
          "Proclus",
          "Proclus",
          "Proclus",
          "Proclus",
          "Proclus",
          "Proclus",
          "Proclus",
          "Proclus",
          "Proclus",
          "Proclus",
          "Proclus",
          "Proclus",
          "Proclus",
          "Proclus",
          "Proclus",
          "Proclus",
          "Proclus",
          "Proclus",
          "Proclus",
          "Proclus",
          "Proclus",
          "Proclus",
          "Proclus",
          "Proclus",
          "Proclus",
          "Proclus",
          "Proclus",
          "Proclus"
         ],
         "x0": " ",
         "xaxis": "x",
         "y": [
          4.622201720252633,
          0.09684744104743004,
          0.0518595757894218,
          1.4380281590856612,
          193.65103578707203,
          0.032813346944749355,
          0.03677188232541084,
          402.4054299723357,
          0.8295976258814335,
          982.8702355371788,
          49.51919801020995,
          0.10159436892718077,
          523.8038224009797,
          126.5521425101906,
          3165.1345913494006,
          0.9713129950687289,
          3715.840734471567,
          0.015300188679248095,
          941.845563152805,
          13.312871407717466,
          0.13284947210922837,
          0.05775199504569173,
          0.2676401697099209,
          50.05873041879386,
          197.76304006995633,
          0.3469825219362974,
          80.73979844525456,
          3.3314387858845294,
          564.5645147538744,
          0.2563679777085781,
          12.443727327976376,
          1.09006264526397,
          26.31951997289434,
          4.4595458349213,
          null,
          null
         ],
         "y0": " ",
         "yaxis": "y",
         "type": "box"
        },
        {
         "alignmentgroup": "True",
         "hovertemplate": "model_nickname=%{x}<br>fit_model_return_elapsed_time=%{y}<extra></extra>",
         "legendgroup": "OPTICS",
         "marker": {
          "color": "#00cc96"
         },
         "name": "OPTICS",
         "notched": false,
         "offsetgroup": "OPTICS",
         "orientation": "v",
         "showlegend": true,
         "x": [
          "OPTICS",
          "OPTICS",
          "OPTICS",
          "OPTICS",
          "OPTICS",
          "OPTICS",
          "OPTICS",
          "OPTICS",
          "OPTICS",
          "OPTICS",
          "OPTICS",
          "OPTICS",
          "OPTICS",
          "OPTICS",
          "OPTICS",
          "OPTICS",
          "OPTICS",
          "OPTICS",
          "OPTICS",
          "OPTICS",
          "OPTICS",
          "OPTICS",
          "OPTICS",
          "OPTICS",
          "OPTICS",
          "OPTICS",
          "OPTICS",
          "OPTICS",
          "OPTICS",
          "OPTICS",
          "OPTICS",
          "OPTICS",
          "OPTICS",
          "OPTICS",
          "OPTICS",
          "OPTICS"
         ],
         "x0": " ",
         "xaxis": "x",
         "y": [
          2664.880539461039,
          6518.182734677102,
          56.1551320371218,
          13.293886363040656,
          42243.84468270885,
          676.9673596257344,
          259.2296450366266,
          110.46083682309836,
          0.24531146278604865,
          93.54114902904257,
          7859.00250052195,
          12.219657314009964,
          54.26519906613976,
          123.42787459958345,
          21.081355320755392,
          1.2227962729521096,
          766.049036199227,
          195.71820232272148,
          584.7964469450526,
          12.025712898932397,
          0.10909285582602024,
          85.72637630999088,
          770.1778594721109,
          65643.0915197921,
          4347.481262045912,
          12.062762605026364,
          114.28134645242244,
          2243.72188385576,
          20.580720562953502,
          0.12658081715926528,
          26080.454640017357,
          38.30137491505593,
          39.17182761337608,
          39.7563460348174,
          null,
          null
         ],
         "y0": " ",
         "yaxis": "y",
         "type": "box"
        },
        {
         "alignmentgroup": "True",
         "hovertemplate": "model_nickname=%{x}<br>fit_model_return_elapsed_time=%{y}<extra></extra>",
         "legendgroup": "SpectralSubspaceRandomization",
         "marker": {
          "color": "#ab63fa"
         },
         "name": "SpectralSubspaceRandomization",
         "notched": false,
         "offsetgroup": "SpectralSubspaceRandomization",
         "orientation": "v",
         "showlegend": true,
         "x": [
          "SpectralSubspaceRandomization",
          "SpectralSubspaceRandomization",
          "SpectralSubspaceRandomization",
          "SpectralSubspaceRandomization",
          "SpectralSubspaceRandomization",
          "SpectralSubspaceRandomization",
          "SpectralSubspaceRandomization",
          "SpectralSubspaceRandomization",
          "SpectralSubspaceRandomization",
          "SpectralSubspaceRandomization",
          "SpectralSubspaceRandomization",
          "SpectralSubspaceRandomization",
          "SpectralSubspaceRandomization",
          "SpectralSubspaceRandomization",
          "SpectralSubspaceRandomization",
          "SpectralSubspaceRandomization",
          "SpectralSubspaceRandomization",
          "SpectralSubspaceRandomization",
          "SpectralSubspaceRandomization",
          "SpectralSubspaceRandomization",
          "SpectralSubspaceRandomization",
          "SpectralSubspaceRandomization",
          "SpectralSubspaceRandomization",
          "SpectralSubspaceRandomization",
          "SpectralSubspaceRandomization",
          "SpectralSubspaceRandomization",
          "SpectralSubspaceRandomization",
          "SpectralSubspaceRandomization",
          "SpectralSubspaceRandomization",
          "SpectralSubspaceRandomization",
          "SpectralSubspaceRandomization",
          "SpectralSubspaceRandomization",
          "SpectralSubspaceRandomization",
          "SpectralSubspaceRandomization",
          "SpectralSubspaceRandomization",
          "SpectralSubspaceRandomization"
         ],
         "x0": " ",
         "xaxis": "x",
         "y": [
          2.701908117160201,
          50.876529936213046,
          49.7776536620222,
          666.4143146267161,
          6831.591921461746,
          748.887991102878,
          4.518633394036442,
          5.265218805987388,
          0.49385603005066514,
          0.7184339943341911,
          1.0950484122149646,
          56.60047254804522,
          891.5120137007907,
          625.3241953579709,
          61.02115531498566,
          104.11518431082368,
          7.564164415933192,
          6878.019722459838,
          657.9324727482162,
          0.6303368168883026,
          4.590623204130679,
          6812.829081216827,
          15.022930847015232,
          669.7553109102882,
          0.5779830752871931,
          7129.926340038888,
          4.304327022749931,
          51.09784781280905,
          null,
          null,
          null,
          null,
          null,
          null,
          null,
          null
         ],
         "y0": " ",
         "yaxis": "y",
         "type": "box"
        },
        {
         "alignmentgroup": "True",
         "hovertemplate": "model_nickname=%{x}<br>fit_model_return_elapsed_time=%{y}<extra></extra>",
         "legendgroup": "AverageAgglomerativeClustering",
         "marker": {
          "color": "#FFA15A"
         },
         "name": "AverageAgglomerativeClustering",
         "notched": false,
         "offsetgroup": "AverageAgglomerativeClustering",
         "orientation": "v",
         "showlegend": true,
         "x": [
          "AverageAgglomerativeClustering",
          "AverageAgglomerativeClustering",
          "AverageAgglomerativeClustering",
          "AverageAgglomerativeClustering",
          "AverageAgglomerativeClustering",
          "AverageAgglomerativeClustering",
          "AverageAgglomerativeClustering",
          "AverageAgglomerativeClustering",
          "AverageAgglomerativeClustering",
          "AverageAgglomerativeClustering",
          "AverageAgglomerativeClustering",
          "AverageAgglomerativeClustering",
          "AverageAgglomerativeClustering",
          "AverageAgglomerativeClustering",
          "AverageAgglomerativeClustering",
          "AverageAgglomerativeClustering",
          "AverageAgglomerativeClustering",
          "AverageAgglomerativeClustering",
          "AverageAgglomerativeClustering",
          "AverageAgglomerativeClustering",
          "AverageAgglomerativeClustering",
          "AverageAgglomerativeClustering",
          "AverageAgglomerativeClustering",
          "AverageAgglomerativeClustering",
          "AverageAgglomerativeClustering",
          "AverageAgglomerativeClustering",
          "AverageAgglomerativeClustering",
          "AverageAgglomerativeClustering",
          "AverageAgglomerativeClustering",
          "AverageAgglomerativeClustering",
          "AverageAgglomerativeClustering",
          "AverageAgglomerativeClustering",
          "AverageAgglomerativeClustering",
          "AverageAgglomerativeClustering",
          "AverageAgglomerativeClustering",
          "AverageAgglomerativeClustering"
         ],
         "x0": " ",
         "xaxis": "x",
         "y": [
          188.84256841428578,
          949.0874732863158,
          295.82873467123136,
          0.1367352707311511,
          0.1634446270763874,
          264.4745646030642,
          0.4552782503888011,
          12.435895307920873,
          0.9347097259014845,
          0.014208300039172173,
          0.06498803896829486,
          3191.019092805218,
          0.27483667666092515,
          1000.7964539700188,
          0.040873285848647356,
          0.004098932724446058,
          0.0038207322359085083,
          11507.726254811976,
          80.89398341672495,
          0.49665459198877215,
          78.94059446593747,
          5.960899313911796,
          7.4655008227564394,
          43850.13272217801,
          21.765175399836153,
          459.422892941162,
          30.69401361932978,
          2.0897074197418988,
          1.8372434116899967,
          0.0386018012650311,
          3609.734588111285,
          1.9869130440056324,
          24.7175029120408,
          0.14302102383226156,
          0.009500971995294094,
          0.012016744818538427
         ],
         "y0": " ",
         "yaxis": "y",
         "type": "box"
        },
        {
         "alignmentgroup": "True",
         "hovertemplate": "model_nickname=%{x}<br>fit_model_return_elapsed_time=%{y}<extra></extra>",
         "legendgroup": "DBSCAN",
         "marker": {
          "color": "#19d3f3"
         },
         "name": "DBSCAN",
         "notched": false,
         "offsetgroup": "DBSCAN",
         "orientation": "v",
         "showlegend": true,
         "x": [
          "DBSCAN",
          "DBSCAN",
          "DBSCAN",
          "DBSCAN",
          "DBSCAN",
          "DBSCAN",
          "DBSCAN",
          "DBSCAN",
          "DBSCAN",
          "DBSCAN",
          "DBSCAN",
          "DBSCAN",
          "DBSCAN",
          "DBSCAN",
          "DBSCAN",
          "DBSCAN",
          "DBSCAN",
          "DBSCAN",
          "DBSCAN",
          "DBSCAN",
          "DBSCAN",
          "DBSCAN",
          "DBSCAN",
          "DBSCAN",
          "DBSCAN",
          "DBSCAN",
          "DBSCAN",
          "DBSCAN",
          "DBSCAN",
          "DBSCAN",
          "DBSCAN",
          "DBSCAN",
          "DBSCAN",
          "DBSCAN",
          "DBSCAN",
          "DBSCAN"
         ],
         "x0": " ",
         "xaxis": "x",
         "y": [
          0.2575635309331119,
          0.125115433242172,
          0.034546053037047386,
          0.6326453969813883,
          0.011192782782018185,
          3.1925318259745836,
          0.4013166450895369,
          5.069345069117844,
          0.1193258729763329,
          688.1563758817501,
          3368.2815414359793,
          60.68192249489948,
          16.19314087415114,
          0.4456427600234747,
          0.010406597051769495,
          0.1392604294233024,
          270.72191579593346,
          19.72008107090369,
          0.014636242296546698,
          16.350426414981484,
          0.10011453088372946,
          239.32877375371754,
          0.15321044996380806,
          0.06899773422628641,
          1.6607282860204577,
          64.52679201774299,
          6.174722949974239,
          0.6943527217954397,
          1.624539171345532,
          0.1458879397250712,
          0.027173635084182024,
          0.09708350198343396,
          0.01890877028927207,
          5.642886382061988,
          0.06452342588454485,
          0.08385901991277933
         ],
         "y0": " ",
         "yaxis": "y",
         "type": "box"
        },
        {
         "alignmentgroup": "True",
         "hovertemplate": "model_nickname=%{x}<br>fit_model_return_elapsed_time=%{y}<extra></extra>",
         "legendgroup": "WardAgglomerativeClustering",
         "marker": {
          "color": "#FF6692"
         },
         "name": "WardAgglomerativeClustering",
         "notched": false,
         "offsetgroup": "WardAgglomerativeClustering",
         "orientation": "v",
         "showlegend": true,
         "x": [
          "WardAgglomerativeClustering",
          "WardAgglomerativeClustering",
          "WardAgglomerativeClustering",
          "WardAgglomerativeClustering",
          "WardAgglomerativeClustering",
          "WardAgglomerativeClustering",
          "WardAgglomerativeClustering",
          "WardAgglomerativeClustering",
          "WardAgglomerativeClustering",
          "WardAgglomerativeClustering",
          "WardAgglomerativeClustering",
          "WardAgglomerativeClustering",
          "WardAgglomerativeClustering",
          "WardAgglomerativeClustering",
          "WardAgglomerativeClustering",
          "WardAgglomerativeClustering",
          "WardAgglomerativeClustering",
          "WardAgglomerativeClustering",
          "WardAgglomerativeClustering",
          "WardAgglomerativeClustering",
          "WardAgglomerativeClustering",
          "WardAgglomerativeClustering",
          "WardAgglomerativeClustering",
          "WardAgglomerativeClustering",
          "WardAgglomerativeClustering",
          "WardAgglomerativeClustering",
          "WardAgglomerativeClustering",
          "WardAgglomerativeClustering",
          "WardAgglomerativeClustering",
          "WardAgglomerativeClustering",
          "WardAgglomerativeClustering",
          "WardAgglomerativeClustering",
          "WardAgglomerativeClustering",
          "WardAgglomerativeClustering",
          "WardAgglomerativeClustering",
          "WardAgglomerativeClustering"
         ],
         "x0": " ",
         "xaxis": "x",
         "y": [
          1039.8745521595702,
          0.4359037522226572,
          10.018436203245074,
          0.20569367008283734,
          0.05404145224019885,
          0.39840248180553317,
          0.34633760061115026,
          1.2676191716454923,
          39.333141474053264,
          9.718740925192833,
          418.55404857266694,
          422.5699889129028,
          130.31304786074907,
          0.766875202767551,
          125.34407827584073,
          0.39669684832915664,
          0.43187417136505246,
          3.5762417120859027,
          6006.6997085455805,
          0.42780232708901167,
          988.4900958705693,
          1712.2537794206291,
          0.5933193010278046,
          0.10929615190252662,
          71.81289326911792,
          37.71147154131904,
          467.5921896658838,
          0.44275482185184956,
          0.22439131513237953,
          0.33942834101617336,
          2.6153134191408753,
          3414.9898419631645,
          2.6204141499474645,
          31.15680183377117,
          null,
          null
         ],
         "y0": " ",
         "yaxis": "y",
         "type": "box"
        }
       ],
       "layout": {
        "template": {
         "data": {
          "histogram2dcontour": [
           {
            "type": "histogram2dcontour",
            "colorbar": {
             "outlinewidth": 0,
             "ticks": ""
            },
            "colorscale": [
             [
              0.0,
              "#0d0887"
             ],
             [
              0.1111111111111111,
              "#46039f"
             ],
             [
              0.2222222222222222,
              "#7201a8"
             ],
             [
              0.3333333333333333,
              "#9c179e"
             ],
             [
              0.4444444444444444,
              "#bd3786"
             ],
             [
              0.5555555555555556,
              "#d8576b"
             ],
             [
              0.6666666666666666,
              "#ed7953"
             ],
             [
              0.7777777777777778,
              "#fb9f3a"
             ],
             [
              0.8888888888888888,
              "#fdca26"
             ],
             [
              1.0,
              "#f0f921"
             ]
            ]
           }
          ],
          "choropleth": [
           {
            "type": "choropleth",
            "colorbar": {
             "outlinewidth": 0,
             "ticks": ""
            }
           }
          ],
          "histogram2d": [
           {
            "type": "histogram2d",
            "colorbar": {
             "outlinewidth": 0,
             "ticks": ""
            },
            "colorscale": [
             [
              0.0,
              "#0d0887"
             ],
             [
              0.1111111111111111,
              "#46039f"
             ],
             [
              0.2222222222222222,
              "#7201a8"
             ],
             [
              0.3333333333333333,
              "#9c179e"
             ],
             [
              0.4444444444444444,
              "#bd3786"
             ],
             [
              0.5555555555555556,
              "#d8576b"
             ],
             [
              0.6666666666666666,
              "#ed7953"
             ],
             [
              0.7777777777777778,
              "#fb9f3a"
             ],
             [
              0.8888888888888888,
              "#fdca26"
             ],
             [
              1.0,
              "#f0f921"
             ]
            ]
           }
          ],
          "heatmap": [
           {
            "type": "heatmap",
            "colorbar": {
             "outlinewidth": 0,
             "ticks": ""
            },
            "colorscale": [
             [
              0.0,
              "#0d0887"
             ],
             [
              0.1111111111111111,
              "#46039f"
             ],
             [
              0.2222222222222222,
              "#7201a8"
             ],
             [
              0.3333333333333333,
              "#9c179e"
             ],
             [
              0.4444444444444444,
              "#bd3786"
             ],
             [
              0.5555555555555556,
              "#d8576b"
             ],
             [
              0.6666666666666666,
              "#ed7953"
             ],
             [
              0.7777777777777778,
              "#fb9f3a"
             ],
             [
              0.8888888888888888,
              "#fdca26"
             ],
             [
              1.0,
              "#f0f921"
             ]
            ]
           }
          ],
          "heatmapgl": [
           {
            "type": "heatmapgl",
            "colorbar": {
             "outlinewidth": 0,
             "ticks": ""
            },
            "colorscale": [
             [
              0.0,
              "#0d0887"
             ],
             [
              0.1111111111111111,
              "#46039f"
             ],
             [
              0.2222222222222222,
              "#7201a8"
             ],
             [
              0.3333333333333333,
              "#9c179e"
             ],
             [
              0.4444444444444444,
              "#bd3786"
             ],
             [
              0.5555555555555556,
              "#d8576b"
             ],
             [
              0.6666666666666666,
              "#ed7953"
             ],
             [
              0.7777777777777778,
              "#fb9f3a"
             ],
             [
              0.8888888888888888,
              "#fdca26"
             ],
             [
              1.0,
              "#f0f921"
             ]
            ]
           }
          ],
          "contourcarpet": [
           {
            "type": "contourcarpet",
            "colorbar": {
             "outlinewidth": 0,
             "ticks": ""
            }
           }
          ],
          "contour": [
           {
            "type": "contour",
            "colorbar": {
             "outlinewidth": 0,
             "ticks": ""
            },
            "colorscale": [
             [
              0.0,
              "#0d0887"
             ],
             [
              0.1111111111111111,
              "#46039f"
             ],
             [
              0.2222222222222222,
              "#7201a8"
             ],
             [
              0.3333333333333333,
              "#9c179e"
             ],
             [
              0.4444444444444444,
              "#bd3786"
             ],
             [
              0.5555555555555556,
              "#d8576b"
             ],
             [
              0.6666666666666666,
              "#ed7953"
             ],
             [
              0.7777777777777778,
              "#fb9f3a"
             ],
             [
              0.8888888888888888,
              "#fdca26"
             ],
             [
              1.0,
              "#f0f921"
             ]
            ]
           }
          ],
          "surface": [
           {
            "type": "surface",
            "colorbar": {
             "outlinewidth": 0,
             "ticks": ""
            },
            "colorscale": [
             [
              0.0,
              "#0d0887"
             ],
             [
              0.1111111111111111,
              "#46039f"
             ],
             [
              0.2222222222222222,
              "#7201a8"
             ],
             [
              0.3333333333333333,
              "#9c179e"
             ],
             [
              0.4444444444444444,
              "#bd3786"
             ],
             [
              0.5555555555555556,
              "#d8576b"
             ],
             [
              0.6666666666666666,
              "#ed7953"
             ],
             [
              0.7777777777777778,
              "#fb9f3a"
             ],
             [
              0.8888888888888888,
              "#fdca26"
             ],
             [
              1.0,
              "#f0f921"
             ]
            ]
           }
          ],
          "mesh3d": [
           {
            "type": "mesh3d",
            "colorbar": {
             "outlinewidth": 0,
             "ticks": ""
            }
           }
          ],
          "scatter": [
           {
            "marker": {
             "line": {
              "color": "#283442"
             }
            },
            "type": "scatter"
           }
          ],
          "parcoords": [
           {
            "type": "parcoords",
            "line": {
             "colorbar": {
              "outlinewidth": 0,
              "ticks": ""
             }
            }
           }
          ],
          "scatterpolargl": [
           {
            "type": "scatterpolargl",
            "marker": {
             "colorbar": {
              "outlinewidth": 0,
              "ticks": ""
             }
            }
           }
          ],
          "bar": [
           {
            "error_x": {
             "color": "#f2f5fa"
            },
            "error_y": {
             "color": "#f2f5fa"
            },
            "marker": {
             "line": {
              "color": "rgb(17,17,17)",
              "width": 0.5
             },
             "pattern": {
              "fillmode": "overlay",
              "size": 10,
              "solidity": 0.2
             }
            },
            "type": "bar"
           }
          ],
          "scattergeo": [
           {
            "type": "scattergeo",
            "marker": {
             "colorbar": {
              "outlinewidth": 0,
              "ticks": ""
             }
            }
           }
          ],
          "scatterpolar": [
           {
            "type": "scatterpolar",
            "marker": {
             "colorbar": {
              "outlinewidth": 0,
              "ticks": ""
             }
            }
           }
          ],
          "histogram": [
           {
            "marker": {
             "pattern": {
              "fillmode": "overlay",
              "size": 10,
              "solidity": 0.2
             }
            },
            "type": "histogram"
           }
          ],
          "scattergl": [
           {
            "marker": {
             "line": {
              "color": "#283442"
             }
            },
            "type": "scattergl"
           }
          ],
          "scatter3d": [
           {
            "type": "scatter3d",
            "line": {
             "colorbar": {
              "outlinewidth": 0,
              "ticks": ""
             }
            },
            "marker": {
             "colorbar": {
              "outlinewidth": 0,
              "ticks": ""
             }
            }
           }
          ],
          "scattermapbox": [
           {
            "type": "scattermapbox",
            "marker": {
             "colorbar": {
              "outlinewidth": 0,
              "ticks": ""
             }
            }
           }
          ],
          "scatterternary": [
           {
            "type": "scatterternary",
            "marker": {
             "colorbar": {
              "outlinewidth": 0,
              "ticks": ""
             }
            }
           }
          ],
          "scattercarpet": [
           {
            "type": "scattercarpet",
            "marker": {
             "colorbar": {
              "outlinewidth": 0,
              "ticks": ""
             }
            }
           }
          ],
          "carpet": [
           {
            "aaxis": {
             "endlinecolor": "#A2B1C6",
             "gridcolor": "#506784",
             "linecolor": "#506784",
             "minorgridcolor": "#506784",
             "startlinecolor": "#A2B1C6"
            },
            "baxis": {
             "endlinecolor": "#A2B1C6",
             "gridcolor": "#506784",
             "linecolor": "#506784",
             "minorgridcolor": "#506784",
             "startlinecolor": "#A2B1C6"
            },
            "type": "carpet"
           }
          ],
          "table": [
           {
            "cells": {
             "fill": {
              "color": "#506784"
             },
             "line": {
              "color": "rgb(17,17,17)"
             }
            },
            "header": {
             "fill": {
              "color": "#2a3f5f"
             },
             "line": {
              "color": "rgb(17,17,17)"
             }
            },
            "type": "table"
           }
          ],
          "barpolar": [
           {
            "marker": {
             "line": {
              "color": "rgb(17,17,17)",
              "width": 0.5
             },
             "pattern": {
              "fillmode": "overlay",
              "size": 10,
              "solidity": 0.2
             }
            },
            "type": "barpolar"
           }
          ],
          "pie": [
           {
            "automargin": true,
            "type": "pie"
           }
          ]
         },
         "layout": {
          "autotypenumbers": "strict",
          "colorway": [
           "#636efa",
           "#EF553B",
           "#00cc96",
           "#ab63fa",
           "#FFA15A",
           "#19d3f3",
           "#FF6692",
           "#B6E880",
           "#FF97FF",
           "#FECB52"
          ],
          "font": {
           "color": "#f2f5fa"
          },
          "hovermode": "closest",
          "hoverlabel": {
           "align": "left"
          },
          "paper_bgcolor": "rgb(17,17,17)",
          "plot_bgcolor": "rgb(17,17,17)",
          "polar": {
           "bgcolor": "rgb(17,17,17)",
           "angularaxis": {
            "gridcolor": "#506784",
            "linecolor": "#506784",
            "ticks": ""
           },
           "radialaxis": {
            "gridcolor": "#506784",
            "linecolor": "#506784",
            "ticks": ""
           }
          },
          "ternary": {
           "bgcolor": "rgb(17,17,17)",
           "aaxis": {
            "gridcolor": "#506784",
            "linecolor": "#506784",
            "ticks": ""
           },
           "baxis": {
            "gridcolor": "#506784",
            "linecolor": "#506784",
            "ticks": ""
           },
           "caxis": {
            "gridcolor": "#506784",
            "linecolor": "#506784",
            "ticks": ""
           }
          },
          "coloraxis": {
           "colorbar": {
            "outlinewidth": 0,
            "ticks": ""
           }
          },
          "colorscale": {
           "sequential": [
            [
             0.0,
             "#0d0887"
            ],
            [
             0.1111111111111111,
             "#46039f"
            ],
            [
             0.2222222222222222,
             "#7201a8"
            ],
            [
             0.3333333333333333,
             "#9c179e"
            ],
            [
             0.4444444444444444,
             "#bd3786"
            ],
            [
             0.5555555555555556,
             "#d8576b"
            ],
            [
             0.6666666666666666,
             "#ed7953"
            ],
            [
             0.7777777777777778,
             "#fb9f3a"
            ],
            [
             0.8888888888888888,
             "#fdca26"
            ],
            [
             1.0,
             "#f0f921"
            ]
           ],
           "sequentialminus": [
            [
             0.0,
             "#0d0887"
            ],
            [
             0.1111111111111111,
             "#46039f"
            ],
            [
             0.2222222222222222,
             "#7201a8"
            ],
            [
             0.3333333333333333,
             "#9c179e"
            ],
            [
             0.4444444444444444,
             "#bd3786"
            ],
            [
             0.5555555555555556,
             "#d8576b"
            ],
            [
             0.6666666666666666,
             "#ed7953"
            ],
            [
             0.7777777777777778,
             "#fb9f3a"
            ],
            [
             0.8888888888888888,
             "#fdca26"
            ],
            [
             1.0,
             "#f0f921"
            ]
           ],
           "diverging": [
            [
             0,
             "#8e0152"
            ],
            [
             0.1,
             "#c51b7d"
            ],
            [
             0.2,
             "#de77ae"
            ],
            [
             0.3,
             "#f1b6da"
            ],
            [
             0.4,
             "#fde0ef"
            ],
            [
             0.5,
             "#f7f7f7"
            ],
            [
             0.6,
             "#e6f5d0"
            ],
            [
             0.7,
             "#b8e186"
            ],
            [
             0.8,
             "#7fbc41"
            ],
            [
             0.9,
             "#4d9221"
            ],
            [
             1,
             "#276419"
            ]
           ]
          },
          "xaxis": {
           "gridcolor": "#283442",
           "linecolor": "#506784",
           "ticks": "",
           "title": {
            "standoff": 15
           },
           "zerolinecolor": "#283442",
           "automargin": true,
           "zerolinewidth": 2
          },
          "yaxis": {
           "gridcolor": "#283442",
           "linecolor": "#506784",
           "ticks": "",
           "title": {
            "standoff": 15
           },
           "zerolinecolor": "#283442",
           "automargin": true,
           "zerolinewidth": 2
          },
          "scene": {
           "xaxis": {
            "backgroundcolor": "rgb(17,17,17)",
            "gridcolor": "#506784",
            "linecolor": "#506784",
            "showbackground": true,
            "ticks": "",
            "zerolinecolor": "#C8D4E3",
            "gridwidth": 2
           },
           "yaxis": {
            "backgroundcolor": "rgb(17,17,17)",
            "gridcolor": "#506784",
            "linecolor": "#506784",
            "showbackground": true,
            "ticks": "",
            "zerolinecolor": "#C8D4E3",
            "gridwidth": 2
           },
           "zaxis": {
            "backgroundcolor": "rgb(17,17,17)",
            "gridcolor": "#506784",
            "linecolor": "#506784",
            "showbackground": true,
            "ticks": "",
            "zerolinecolor": "#C8D4E3",
            "gridwidth": 2
           }
          },
          "shapedefaults": {
           "line": {
            "color": "#f2f5fa"
           }
          },
          "annotationdefaults": {
           "arrowcolor": "#f2f5fa",
           "arrowhead": 0,
           "arrowwidth": 1
          },
          "geo": {
           "bgcolor": "rgb(17,17,17)",
           "landcolor": "rgb(17,17,17)",
           "subunitcolor": "#506784",
           "showland": true,
           "showlakes": true,
           "lakecolor": "rgb(17,17,17)"
          },
          "title": {
           "x": 0.05
          },
          "updatemenudefaults": {
           "bgcolor": "#506784",
           "borderwidth": 0
          },
          "sliderdefaults": {
           "bgcolor": "#C8D4E3",
           "borderwidth": 1,
           "bordercolor": "rgb(17,17,17)",
           "tickwidth": 0
          },
          "mapbox": {
           "style": "dark"
          }
         }
        },
        "xaxis": {
         "anchor": "y",
         "domain": [
          0.0,
          1.0
         ],
         "title": {
          "text": "model_nickname"
         },
         "categoryorder": "array",
         "categoryarray": [
          "RecursiveClustering",
          "KMeans",
          "AffinityPropagation",
          "Clique",
          "SpectralClustering",
          "MeanShift",
          "SingleAgglomerativeClustering",
          "IRFLLRR",
          "CompleteAgglomerativeClustering",
          "KMeansProj",
          "HDBSCAN",
          "Proclus",
          "OPTICS",
          "SpectralSubspaceRandomization",
          "AverageAgglomerativeClustering",
          "DBSCAN",
          "WardAgglomerativeClustering"
         ]
        },
        "yaxis": {
         "anchor": "x",
         "domain": [
          0.0,
          1.0
         ],
         "title": {
          "text": "fit_model_return_elapsed_time"
         },
         "type": "log"
        },
        "legend": {
         "title": {
          "text": "model_nickname"
         },
         "tracegroupgap": 0
        },
        "margin": {
         "t": 60
        },
        "boxmode": "overlay"
       },
       "config": {
        "plotlyServerURL": "https://plot.ly"
       }
      },
      "text/html": [
       "<div>                            <div id=\"e7ea87f7-3d75-4869-81fe-9a69e40c41a2\" class=\"plotly-graph-div\" style=\"height:525px; width:100%;\"></div>            <script type=\"text/javascript\">                require([\"plotly\"], function(Plotly) {                    window.PLOTLYENV=window.PLOTLYENV || {};                                    if (document.getElementById(\"e7ea87f7-3d75-4869-81fe-9a69e40c41a2\")) {                    Plotly.newPlot(                        \"e7ea87f7-3d75-4869-81fe-9a69e40c41a2\",                        [{\"alignmentgroup\":\"True\",\"hovertemplate\":\"model_nickname=%{x}\\u003cbr\\u003efit_model_return_elapsed_time=%{y}\\u003cextra\\u003e\\u003c\\u002fextra\\u003e\",\"legendgroup\":\"RecursiveClustering\",\"marker\":{\"color\":\"#636efa\"},\"name\":\"RecursiveClustering\",\"notched\":false,\"offsetgroup\":\"RecursiveClustering\",\"orientation\":\"v\",\"showlegend\":true,\"x\":[\"RecursiveClustering\",\"RecursiveClustering\",\"RecursiveClustering\",\"RecursiveClustering\",\"RecursiveClustering\",\"RecursiveClustering\",\"RecursiveClustering\",\"RecursiveClustering\",\"RecursiveClustering\",\"RecursiveClustering\",\"RecursiveClustering\",\"RecursiveClustering\",\"RecursiveClustering\",\"RecursiveClustering\",\"RecursiveClustering\",\"RecursiveClustering\",\"RecursiveClustering\",\"RecursiveClustering\",\"RecursiveClustering\",\"RecursiveClustering\",\"RecursiveClustering\",\"RecursiveClustering\",\"RecursiveClustering\",\"RecursiveClustering\",\"RecursiveClustering\",\"RecursiveClustering\",\"RecursiveClustering\",\"RecursiveClustering\",\"RecursiveClustering\",\"RecursiveClustering\",\"RecursiveClustering\",\"RecursiveClustering\",\"RecursiveClustering\",\"RecursiveClustering\",\"RecursiveClustering\",\"RecursiveClustering\"],\"x0\":\" \",\"xaxis\":\"x\",\"y\":[0.10841437382623553,0.2713635847903788,0.21147432504221797,0.17780665587633848,21.054063057992607,14.641426105052233,0.34823574032634497,3.4615936130285263,132.75927348295227,4.498260552063584,0.5764954602345824,10.407265902031213,0.05100748501718044,2.116953680757433,47.4107681219466,0.5426869858056307,1.54515857482329,0.3185981111600995,0.5562354838475585,2.5050868480466306,0.25788637110963464,0.33837378583848476,7.074277047067881,0.4051935328170657,11.780191365163773,0.2901693060994148,1.1102939848788083,0.3372849151492119,2.6131800981238484,0.05101421196013689,0.2517179320566356,0.5926107950508595,0.38402798119932413,0.073908856138587,17.18792238784954,1.2802362879738212],\"y0\":\" \",\"yaxis\":\"y\",\"type\":\"box\"},{\"alignmentgroup\":\"True\",\"hovertemplate\":\"model_nickname=%{x}\\u003cbr\\u003efit_model_return_elapsed_time=%{y}\\u003cextra\\u003e\\u003c\\u002fextra\\u003e\",\"legendgroup\":\"KMeans\",\"marker\":{\"color\":\"#EF553B\"},\"name\":\"KMeans\",\"notched\":false,\"offsetgroup\":\"KMeans\",\"orientation\":\"v\",\"showlegend\":true,\"x\":[\"KMeans\",\"KMeans\",\"KMeans\",\"KMeans\",\"KMeans\",\"KMeans\",\"KMeans\",\"KMeans\",\"KMeans\",\"KMeans\",\"KMeans\",\"KMeans\",\"KMeans\",\"KMeans\",\"KMeans\",\"KMeans\",\"KMeans\",\"KMeans\",\"KMeans\",\"KMeans\",\"KMeans\",\"KMeans\",\"KMeans\",\"KMeans\",\"KMeans\",\"KMeans\",\"KMeans\",\"KMeans\",\"KMeans\",\"KMeans\",\"KMeans\",\"KMeans\",\"KMeans\",\"KMeans\",\"KMeans\",\"KMeans\"],\"x0\":\" \",\"xaxis\":\"x\",\"y\":[7.07996587920934,1.1440084306523204,13.37486203899607,0.6829324648715556,1.4208350228145719,0.025977537035942078,0.019911947194486856,0.09093161718919873,8.423156165983528,0.01920995395630598,25.801226657815278,0.4100434216670692,0.590611255262047,0.035022156313061714,0.34503894997760653,0.026854893658310175,0.027392395306378603,0.6303772148676217,2.2441787063144147,0.016388532239943743,0.1623558127321303,0.31098515540361404,2.398749521933496,79.09997352492064,0.4804870071820915,4.373474506661296,0.17808318277820945,0.08569710841402411,0.05158607801422477,0.2519635371863842,0.018913140054792166,0.03368050325661898,1.0111704710870981,3.6745711537078023,0.03165674302726984,0.17716072406619787],\"y0\":\" \",\"yaxis\":\"y\",\"type\":\"box\"},{\"alignmentgroup\":\"True\",\"hovertemplate\":\"model_nickname=%{x}\\u003cbr\\u003efit_model_return_elapsed_time=%{y}\\u003cextra\\u003e\\u003c\\u002fextra\\u003e\",\"legendgroup\":\"AffinityPropagation\",\"marker\":{\"color\":\"#00cc96\"},\"name\":\"AffinityPropagation\",\"notched\":false,\"offsetgroup\":\"AffinityPropagation\",\"orientation\":\"v\",\"showlegend\":true,\"x\":[\"AffinityPropagation\",\"AffinityPropagation\",\"AffinityPropagation\",\"AffinityPropagation\",\"AffinityPropagation\",\"AffinityPropagation\",\"AffinityPropagation\",\"AffinityPropagation\",\"AffinityPropagation\",\"AffinityPropagation\",\"AffinityPropagation\",\"AffinityPropagation\",\"AffinityPropagation\",\"AffinityPropagation\",\"AffinityPropagation\",\"AffinityPropagation\",\"AffinityPropagation\",\"AffinityPropagation\",\"AffinityPropagation\",\"AffinityPropagation\",\"AffinityPropagation\",\"AffinityPropagation\",\"AffinityPropagation\",\"AffinityPropagation\",\"AffinityPropagation\",\"AffinityPropagation\",\"AffinityPropagation\",\"AffinityPropagation\",\"AffinityPropagation\",\"AffinityPropagation\",\"AffinityPropagation\",\"AffinityPropagation\",\"AffinityPropagation\",\"AffinityPropagation\",\"AffinityPropagation\",\"AffinityPropagation\"],\"x0\":\" \",\"xaxis\":\"x\",\"y\":[0.4291515410877764,31.760947484057397,0.3825430399738252,0.11963541386649013,1.2494164910167456,9.223530455026776,1303.966122912243,33.43737772013992,104.50684454292059,90.6022418430075,0.09950848761945963,0.09317973395809531,1298.2232589893974,1305.4496605228633,115.58828049898148,2.6725039430893958,0.07709479378536344,32.83666263986379,0.6427752072922885,1307.9004879873246,0.3728419761173427,105.18542669573799,30.76192540116608,0.5342904296703637,844.3383482280187,93.28907828079537,30.938994152937084,950.1205439330079,0.06487540621310472,94.03067388338968,null,null,null,null,null,null],\"y0\":\" \",\"yaxis\":\"y\",\"type\":\"box\"},{\"alignmentgroup\":\"True\",\"hovertemplate\":\"model_nickname=%{x}\\u003cbr\\u003efit_model_return_elapsed_time=%{y}\\u003cextra\\u003e\\u003c\\u002fextra\\u003e\",\"legendgroup\":\"Clique\",\"marker\":{\"color\":\"#ab63fa\"},\"name\":\"Clique\",\"notched\":false,\"offsetgroup\":\"Clique\",\"orientation\":\"v\",\"showlegend\":true,\"x\":[\"Clique\",\"Clique\",\"Clique\",\"Clique\",\"Clique\",\"Clique\",\"Clique\",\"Clique\",\"Clique\",\"Clique\",\"Clique\",\"Clique\",\"Clique\",\"Clique\",\"Clique\",\"Clique\",\"Clique\",\"Clique\",\"Clique\",\"Clique\",\"Clique\",\"Clique\",\"Clique\",\"Clique\",\"Clique\",\"Clique\",\"Clique\",\"Clique\",\"Clique\",\"Clique\",\"Clique\",\"Clique\",\"Clique\",\"Clique\",\"Clique\",\"Clique\"],\"x0\":\" \",\"xaxis\":\"x\",\"y\":[359.36548762209713,2.6142347818240523,0.07240482373163104,3.0803032158873975,0.062390636187046766,8.510201110038906,9.123948491178453,1228.1652099946514,0.25283603463321924,0.0630630562081933,101.701822060626,8.467757266014814,0.010632125195115805,102.58494770992547,2.4536710716784,29.383034309837967,29.400618228130043,0.21782978624105453,353.33163586305454,30.053395746275783,0.021015071775764227,0.20473424112424254,8.646431381814182,0.7472893372178078,2.440586622338742,0.026358837727457285,29.873905192129314,0.889307077974081,0.7004016707651317,0.7115566949360073,2.486298780888319,102.62105858838186,0.21731707965955138,8.512735407333821,0.7252112696878612,2.45976768899709],\"y0\":\" \",\"yaxis\":\"y\",\"type\":\"box\"},{\"alignmentgroup\":\"True\",\"hovertemplate\":\"model_nickname=%{x}\\u003cbr\\u003efit_model_return_elapsed_time=%{y}\\u003cextra\\u003e\\u003c\\u002fextra\\u003e\",\"legendgroup\":\"SpectralClustering\",\"marker\":{\"color\":\"#FFA15A\"},\"name\":\"SpectralClustering\",\"notched\":false,\"offsetgroup\":\"SpectralClustering\",\"orientation\":\"v\",\"showlegend\":true,\"x\":[\"SpectralClustering\",\"SpectralClustering\",\"SpectralClustering\",\"SpectralClustering\",\"SpectralClustering\",\"SpectralClustering\",\"SpectralClustering\",\"SpectralClustering\",\"SpectralClustering\",\"SpectralClustering\",\"SpectralClustering\",\"SpectralClustering\",\"SpectralClustering\",\"SpectralClustering\",\"SpectralClustering\",\"SpectralClustering\",\"SpectralClustering\",\"SpectralClustering\",\"SpectralClustering\",\"SpectralClustering\",\"SpectralClustering\",\"SpectralClustering\",\"SpectralClustering\",\"SpectralClustering\",\"SpectralClustering\",\"SpectralClustering\",\"SpectralClustering\",\"SpectralClustering\",\"SpectralClustering\",\"SpectralClustering\",\"SpectralClustering\",\"SpectralClustering\",\"SpectralClustering\",\"SpectralClustering\",\"SpectralClustering\",\"SpectralClustering\"],\"x0\":\" \",\"xaxis\":\"x\",\"y\":[0.034801680129021406,0.33556195767596364,0.030064214020967484,3.0956991496495903,63.38605046086013,122.79042468685657,0.06860385602340102,1550.373374874238,5.9408986759372056,3.8795987679623067,46.67146863043308,0.3216413124464452,0.0332301277667284,6.804666596930474,208.81139951385558,3180.085443410091,1893.7307089590468,0.0350476810708642,40.87685772404075,1.7682707658968866,19.49088584864512,0.13052011001855135,215.61679712403566,0.3732515429146588,0.5998675441369414,0.18512453977018595,7.465329913888127,1454.4860665099695,0.12440697010606527,0.08479316299781203,null,null,null,null,null,null],\"y0\":\" \",\"yaxis\":\"y\",\"type\":\"box\"},{\"alignmentgroup\":\"True\",\"hovertemplate\":\"model_nickname=%{x}\\u003cbr\\u003efit_model_return_elapsed_time=%{y}\\u003cextra\\u003e\\u003c\\u002fextra\\u003e\",\"legendgroup\":\"MeanShift\",\"marker\":{\"color\":\"#19d3f3\"},\"name\":\"MeanShift\",\"notched\":false,\"offsetgroup\":\"MeanShift\",\"orientation\":\"v\",\"showlegend\":true,\"x\":[\"MeanShift\",\"MeanShift\",\"MeanShift\",\"MeanShift\",\"MeanShift\",\"MeanShift\",\"MeanShift\",\"MeanShift\",\"MeanShift\",\"MeanShift\",\"MeanShift\",\"MeanShift\",\"MeanShift\",\"MeanShift\",\"MeanShift\",\"MeanShift\",\"MeanShift\",\"MeanShift\",\"MeanShift\",\"MeanShift\",\"MeanShift\",\"MeanShift\",\"MeanShift\",\"MeanShift\",\"MeanShift\",\"MeanShift\",\"MeanShift\",\"MeanShift\",\"MeanShift\",\"MeanShift\",\"MeanShift\",\"MeanShift\",\"MeanShift\",\"MeanShift\",\"MeanShift\",\"MeanShift\"],\"x0\":\" \",\"xaxis\":\"x\",\"y\":[2737.315194416791,17410.242399740964,0.23979247082024813,116.31868553021923,1526.8591388366185,12001.807069711853,334.81587847787887,536.2680496308021,75.42661059414968,1033.2180355130695,33.71753704920411,234.99787676194683,86689.53330129618,111.878647306934,77.11291527189314,6311.671254310757,322.4290032796562,219.75152167584747,0.4118987531401217,31.49821079010144,0.22448283107951283,72.4857128271833,0.1743910969235003,313.7083935639821,212.4285362381488,32.61872394196689,2002.6021945979446,74.85550486017019,3582.885516330134,33.06768949562684,81.80550131713971,null,null,null,null,null],\"y0\":\" \",\"yaxis\":\"y\",\"type\":\"box\"},{\"alignmentgroup\":\"True\",\"hovertemplate\":\"model_nickname=%{x}\\u003cbr\\u003efit_model_return_elapsed_time=%{y}\\u003cextra\\u003e\\u003c\\u002fextra\\u003e\",\"legendgroup\":\"SingleAgglomerativeClustering\",\"marker\":{\"color\":\"#FF6692\"},\"name\":\"SingleAgglomerativeClustering\",\"notched\":false,\"offsetgroup\":\"SingleAgglomerativeClustering\",\"orientation\":\"v\",\"showlegend\":true,\"x\":[\"SingleAgglomerativeClustering\",\"SingleAgglomerativeClustering\",\"SingleAgglomerativeClustering\",\"SingleAgglomerativeClustering\",\"SingleAgglomerativeClustering\",\"SingleAgglomerativeClustering\",\"SingleAgglomerativeClustering\",\"SingleAgglomerativeClustering\",\"SingleAgglomerativeClustering\",\"SingleAgglomerativeClustering\",\"SingleAgglomerativeClustering\",\"SingleAgglomerativeClustering\",\"SingleAgglomerativeClustering\",\"SingleAgglomerativeClustering\",\"SingleAgglomerativeClustering\",\"SingleAgglomerativeClustering\",\"SingleAgglomerativeClustering\",\"SingleAgglomerativeClustering\",\"SingleAgglomerativeClustering\",\"SingleAgglomerativeClustering\",\"SingleAgglomerativeClustering\",\"SingleAgglomerativeClustering\",\"SingleAgglomerativeClustering\",\"SingleAgglomerativeClustering\",\"SingleAgglomerativeClustering\",\"SingleAgglomerativeClustering\",\"SingleAgglomerativeClustering\",\"SingleAgglomerativeClustering\",\"SingleAgglomerativeClustering\",\"SingleAgglomerativeClustering\",\"SingleAgglomerativeClustering\",\"SingleAgglomerativeClustering\",\"SingleAgglomerativeClustering\",\"SingleAgglomerativeClustering\",\"SingleAgglomerativeClustering\",\"SingleAgglomerativeClustering\"],\"x0\":\" \",\"xaxis\":\"x\",\"y\":[0.0030727828852832317,0.07172303600236773,129.9758461290039,62954.167524033226,3.109453796874732,452.36738394526765,435.76903497008607,0.011811431962996721,3.0126649467274547,0.2508839722722769,5464.480393415317,487.9753392911516,0.8500979617238045,0.8876049192622304,18742.254233571235,36.46853772830218,10.806507580913603,10.040247300174087,3.0234275772236288,5231.730977918953,37.6075287386775,0.8224215349182487,1556.1570713757537,130.3856032048352,38.155095470137894,0.022436417173594236,0.0745180370286107,137.40847628796473,1571.4390591979027,0.2519620303064585,0.006385051179677248,10.530743250157684,0.25154605181887746,0.07177492091432214,0.02119302609935403,0.004567787051200867],\"y0\":\" \",\"yaxis\":\"y\",\"type\":\"box\"},{\"alignmentgroup\":\"True\",\"hovertemplate\":\"model_nickname=%{x}\\u003cbr\\u003efit_model_return_elapsed_time=%{y}\\u003cextra\\u003e\\u003c\\u002fextra\\u003e\",\"legendgroup\":\"IRFLLRR\",\"marker\":{\"color\":\"#B6E880\"},\"name\":\"IRFLLRR\",\"notched\":false,\"offsetgroup\":\"IRFLLRR\",\"orientation\":\"v\",\"showlegend\":true,\"x\":[\"IRFLLRR\",\"IRFLLRR\",\"IRFLLRR\",\"IRFLLRR\",\"IRFLLRR\",\"IRFLLRR\",\"IRFLLRR\",\"IRFLLRR\",\"IRFLLRR\",\"IRFLLRR\",\"IRFLLRR\",\"IRFLLRR\",\"IRFLLRR\",\"IRFLLRR\",\"IRFLLRR\",\"IRFLLRR\",\"IRFLLRR\",\"IRFLLRR\",\"IRFLLRR\",\"IRFLLRR\",\"IRFLLRR\",\"IRFLLRR\",\"IRFLLRR\",\"IRFLLRR\",\"IRFLLRR\",\"IRFLLRR\",\"IRFLLRR\",\"IRFLLRR\",\"IRFLLRR\",\"IRFLLRR\",\"IRFLLRR\",\"IRFLLRR\",\"IRFLLRR\",\"IRFLLRR\",\"IRFLLRR\",\"IRFLLRR\"],\"x0\":\" \",\"xaxis\":\"x\",\"y\":[10.584055672865361,68.72593598905951,20886.199884145055,35.10223178612068,2118.8199196672067,62.15961195807904,955.6244052369148,15764.537849284708,4.059305633418262,66.04541143821552,285.94349554227665,470.2346164388582,107.48584835464135,120.95982184261084,14.125991712789983,204.33794614719227,54.32440599380061,1385.2410540780984,5379.105576141272,3.385992791969329,1208.2892839079723,525.1216241489165,4.669887363910675,null,null,null,null,null,null,null,null,null,null,null,null,null],\"y0\":\" \",\"yaxis\":\"y\",\"type\":\"box\"},{\"alignmentgroup\":\"True\",\"hovertemplate\":\"model_nickname=%{x}\\u003cbr\\u003efit_model_return_elapsed_time=%{y}\\u003cextra\\u003e\\u003c\\u002fextra\\u003e\",\"legendgroup\":\"CompleteAgglomerativeClustering\",\"marker\":{\"color\":\"#FF97FF\"},\"name\":\"CompleteAgglomerativeClustering\",\"notched\":false,\"offsetgroup\":\"CompleteAgglomerativeClustering\",\"orientation\":\"v\",\"showlegend\":true,\"x\":[\"CompleteAgglomerativeClustering\",\"CompleteAgglomerativeClustering\",\"CompleteAgglomerativeClustering\",\"CompleteAgglomerativeClustering\",\"CompleteAgglomerativeClustering\",\"CompleteAgglomerativeClustering\",\"CompleteAgglomerativeClustering\",\"CompleteAgglomerativeClustering\",\"CompleteAgglomerativeClustering\",\"CompleteAgglomerativeClustering\",\"CompleteAgglomerativeClustering\",\"CompleteAgglomerativeClustering\",\"CompleteAgglomerativeClustering\",\"CompleteAgglomerativeClustering\",\"CompleteAgglomerativeClustering\",\"CompleteAgglomerativeClustering\",\"CompleteAgglomerativeClustering\",\"CompleteAgglomerativeClustering\",\"CompleteAgglomerativeClustering\",\"CompleteAgglomerativeClustering\",\"CompleteAgglomerativeClustering\",\"CompleteAgglomerativeClustering\",\"CompleteAgglomerativeClustering\",\"CompleteAgglomerativeClustering\",\"CompleteAgglomerativeClustering\",\"CompleteAgglomerativeClustering\",\"CompleteAgglomerativeClustering\",\"CompleteAgglomerativeClustering\",\"CompleteAgglomerativeClustering\",\"CompleteAgglomerativeClustering\",\"CompleteAgglomerativeClustering\",\"CompleteAgglomerativeClustering\",\"CompleteAgglomerativeClustering\",\"CompleteAgglomerativeClustering\",\"CompleteAgglomerativeClustering\",\"CompleteAgglomerativeClustering\"],\"x0\":\" \",\"xaxis\":\"x\",\"y\":[0.215601391158998,121.28397076996043,3223.8971380302683,8.662870922125876,66.01990315830335,0.016883572097867727,0.012742981314659119,183.70491825044155,0.17403118032962084,427.01896228501573,456.3669907487929,0.02489262167364359,0.055102413054555655,0.053975088987499475,4.1001329170539975,1736.843070722185,0.16803926974534988,0.014819620177149773,33.78446825686842,430.8792737061158,2.4298303429968655,2.9664902072399855,0.035376898013055325,0.5253987442702055,24.10275136306882,0.10017155297100544,34.04634071001783,5863.426620204002,997.7532055098563,0.6750540332868695,10.396883946843445,0.024587390013039112,129.9806003528647,1.352367689833045,null,null],\"y0\":\" \",\"yaxis\":\"y\",\"type\":\"box\"},{\"alignmentgroup\":\"True\",\"hovertemplate\":\"model_nickname=%{x}\\u003cbr\\u003efit_model_return_elapsed_time=%{y}\\u003cextra\\u003e\\u003c\\u002fextra\\u003e\",\"legendgroup\":\"KMeansProj\",\"marker\":{\"color\":\"#FECB52\"},\"name\":\"KMeansProj\",\"notched\":false,\"offsetgroup\":\"KMeansProj\",\"orientation\":\"v\",\"showlegend\":true,\"x\":[\"KMeansProj\",\"KMeansProj\",\"KMeansProj\",\"KMeansProj\",\"KMeansProj\",\"KMeansProj\",\"KMeansProj\",\"KMeansProj\",\"KMeansProj\",\"KMeansProj\",\"KMeansProj\",\"KMeansProj\",\"KMeansProj\",\"KMeansProj\",\"KMeansProj\",\"KMeansProj\",\"KMeansProj\",\"KMeansProj\",\"KMeansProj\",\"KMeansProj\",\"KMeansProj\",\"KMeansProj\",\"KMeansProj\",\"KMeansProj\",\"KMeansProj\",\"KMeansProj\",\"KMeansProj\",\"KMeansProj\",\"KMeansProj\",\"KMeansProj\",\"KMeansProj\",\"KMeansProj\",\"KMeansProj\",\"KMeansProj\",\"KMeansProj\",\"KMeansProj\"],\"x0\":\" \",\"xaxis\":\"x\",\"y\":[2.786427061073482,23.737039007712156,31.28267538268119,4.650684057734907,114.93309007771313,65.48256814200431,107.52201802888885,11.376700937282294,672.6224533920176,12.541707145050168,80.41896203532815,12.328311251010746,27.551719408016652,44.815670480020344,51.78557010227814,19.72925839200616,1652.3099759789184,0.9607341368682683,45.13946031732485,40.00156544521451,4.899608195293695,429.9832000997849,3776.3566830898635,42.04117568209767,4854.621731645428,66.88209230778739,167.50944244489074,234.50443705217913,99.17735935328528,437.80533450935036,283.98503924626857,23.6840785369277,null,null,null,null],\"y0\":\" \",\"yaxis\":\"y\",\"type\":\"box\"},{\"alignmentgroup\":\"True\",\"hovertemplate\":\"model_nickname=%{x}\\u003cbr\\u003efit_model_return_elapsed_time=%{y}\\u003cextra\\u003e\\u003c\\u002fextra\\u003e\",\"legendgroup\":\"HDBSCAN\",\"marker\":{\"color\":\"#636efa\"},\"name\":\"HDBSCAN\",\"notched\":false,\"offsetgroup\":\"HDBSCAN\",\"orientation\":\"v\",\"showlegend\":true,\"x\":[\"HDBSCAN\",\"HDBSCAN\",\"HDBSCAN\",\"HDBSCAN\",\"HDBSCAN\",\"HDBSCAN\",\"HDBSCAN\",\"HDBSCAN\",\"HDBSCAN\",\"HDBSCAN\",\"HDBSCAN\",\"HDBSCAN\",\"HDBSCAN\",\"HDBSCAN\",\"HDBSCAN\",\"HDBSCAN\",\"HDBSCAN\",\"HDBSCAN\",\"HDBSCAN\",\"HDBSCAN\",\"HDBSCAN\",\"HDBSCAN\",\"HDBSCAN\",\"HDBSCAN\",\"HDBSCAN\",\"HDBSCAN\",\"HDBSCAN\",\"HDBSCAN\",\"HDBSCAN\",\"HDBSCAN\",\"HDBSCAN\",\"HDBSCAN\",\"HDBSCAN\",\"HDBSCAN\",\"HDBSCAN\",\"HDBSCAN\"],\"x0\":\" \",\"xaxis\":\"x\",\"y\":[0.8538718861527741,7.790774574037641,319.4356659920886,30.665402431041002,114.59050129214302,0.5814016852527857,494.7187224258669,1.4807086270302534,2.740312841255218,0.08969149738550186,0.10097496584057808,0.04246479319408536,882.9180880105123,9.4280850966461,2.1934118950739503,0.6090225852094591,316.9094292470254,30.119914270937443,0.3091121753677726,2.2267292719334364,2.3172239679843187,881.2915713405237,7.820252540986985,99.3278774889186,7.665860196109861,6.58948418404907,97.54003904061392,0.03344483207911253,38.87270701210946,null,null,null,null,null,null,null],\"y0\":\" \",\"yaxis\":\"y\",\"type\":\"box\"},{\"alignmentgroup\":\"True\",\"hovertemplate\":\"model_nickname=%{x}\\u003cbr\\u003efit_model_return_elapsed_time=%{y}\\u003cextra\\u003e\\u003c\\u002fextra\\u003e\",\"legendgroup\":\"Proclus\",\"marker\":{\"color\":\"#EF553B\"},\"name\":\"Proclus\",\"notched\":false,\"offsetgroup\":\"Proclus\",\"orientation\":\"v\",\"showlegend\":true,\"x\":[\"Proclus\",\"Proclus\",\"Proclus\",\"Proclus\",\"Proclus\",\"Proclus\",\"Proclus\",\"Proclus\",\"Proclus\",\"Proclus\",\"Proclus\",\"Proclus\",\"Proclus\",\"Proclus\",\"Proclus\",\"Proclus\",\"Proclus\",\"Proclus\",\"Proclus\",\"Proclus\",\"Proclus\",\"Proclus\",\"Proclus\",\"Proclus\",\"Proclus\",\"Proclus\",\"Proclus\",\"Proclus\",\"Proclus\",\"Proclus\",\"Proclus\",\"Proclus\",\"Proclus\",\"Proclus\",\"Proclus\",\"Proclus\"],\"x0\":\" \",\"xaxis\":\"x\",\"y\":[4.622201720252633,0.09684744104743004,0.0518595757894218,1.4380281590856612,193.65103578707203,0.032813346944749355,0.03677188232541084,402.4054299723357,0.8295976258814335,982.8702355371788,49.51919801020995,0.10159436892718077,523.8038224009797,126.5521425101906,3165.1345913494006,0.9713129950687289,3715.840734471567,0.015300188679248095,941.845563152805,13.312871407717466,0.13284947210922837,0.05775199504569173,0.2676401697099209,50.05873041879386,197.76304006995633,0.3469825219362974,80.73979844525456,3.3314387858845294,564.5645147538744,0.2563679777085781,12.443727327976376,1.09006264526397,26.31951997289434,4.4595458349213,null,null],\"y0\":\" \",\"yaxis\":\"y\",\"type\":\"box\"},{\"alignmentgroup\":\"True\",\"hovertemplate\":\"model_nickname=%{x}\\u003cbr\\u003efit_model_return_elapsed_time=%{y}\\u003cextra\\u003e\\u003c\\u002fextra\\u003e\",\"legendgroup\":\"OPTICS\",\"marker\":{\"color\":\"#00cc96\"},\"name\":\"OPTICS\",\"notched\":false,\"offsetgroup\":\"OPTICS\",\"orientation\":\"v\",\"showlegend\":true,\"x\":[\"OPTICS\",\"OPTICS\",\"OPTICS\",\"OPTICS\",\"OPTICS\",\"OPTICS\",\"OPTICS\",\"OPTICS\",\"OPTICS\",\"OPTICS\",\"OPTICS\",\"OPTICS\",\"OPTICS\",\"OPTICS\",\"OPTICS\",\"OPTICS\",\"OPTICS\",\"OPTICS\",\"OPTICS\",\"OPTICS\",\"OPTICS\",\"OPTICS\",\"OPTICS\",\"OPTICS\",\"OPTICS\",\"OPTICS\",\"OPTICS\",\"OPTICS\",\"OPTICS\",\"OPTICS\",\"OPTICS\",\"OPTICS\",\"OPTICS\",\"OPTICS\",\"OPTICS\",\"OPTICS\"],\"x0\":\" \",\"xaxis\":\"x\",\"y\":[2664.880539461039,6518.182734677102,56.1551320371218,13.293886363040656,42243.84468270885,676.9673596257344,259.2296450366266,110.46083682309836,0.24531146278604865,93.54114902904257,7859.00250052195,12.219657314009964,54.26519906613976,123.42787459958345,21.081355320755392,1.2227962729521096,766.049036199227,195.71820232272148,584.7964469450526,12.025712898932397,0.10909285582602024,85.72637630999088,770.1778594721109,65643.0915197921,4347.481262045912,12.062762605026364,114.28134645242244,2243.72188385576,20.580720562953502,0.12658081715926528,26080.454640017357,38.30137491505593,39.17182761337608,39.7563460348174,null,null],\"y0\":\" \",\"yaxis\":\"y\",\"type\":\"box\"},{\"alignmentgroup\":\"True\",\"hovertemplate\":\"model_nickname=%{x}\\u003cbr\\u003efit_model_return_elapsed_time=%{y}\\u003cextra\\u003e\\u003c\\u002fextra\\u003e\",\"legendgroup\":\"SpectralSubspaceRandomization\",\"marker\":{\"color\":\"#ab63fa\"},\"name\":\"SpectralSubspaceRandomization\",\"notched\":false,\"offsetgroup\":\"SpectralSubspaceRandomization\",\"orientation\":\"v\",\"showlegend\":true,\"x\":[\"SpectralSubspaceRandomization\",\"SpectralSubspaceRandomization\",\"SpectralSubspaceRandomization\",\"SpectralSubspaceRandomization\",\"SpectralSubspaceRandomization\",\"SpectralSubspaceRandomization\",\"SpectralSubspaceRandomization\",\"SpectralSubspaceRandomization\",\"SpectralSubspaceRandomization\",\"SpectralSubspaceRandomization\",\"SpectralSubspaceRandomization\",\"SpectralSubspaceRandomization\",\"SpectralSubspaceRandomization\",\"SpectralSubspaceRandomization\",\"SpectralSubspaceRandomization\",\"SpectralSubspaceRandomization\",\"SpectralSubspaceRandomization\",\"SpectralSubspaceRandomization\",\"SpectralSubspaceRandomization\",\"SpectralSubspaceRandomization\",\"SpectralSubspaceRandomization\",\"SpectralSubspaceRandomization\",\"SpectralSubspaceRandomization\",\"SpectralSubspaceRandomization\",\"SpectralSubspaceRandomization\",\"SpectralSubspaceRandomization\",\"SpectralSubspaceRandomization\",\"SpectralSubspaceRandomization\",\"SpectralSubspaceRandomization\",\"SpectralSubspaceRandomization\",\"SpectralSubspaceRandomization\",\"SpectralSubspaceRandomization\",\"SpectralSubspaceRandomization\",\"SpectralSubspaceRandomization\",\"SpectralSubspaceRandomization\",\"SpectralSubspaceRandomization\"],\"x0\":\" \",\"xaxis\":\"x\",\"y\":[2.701908117160201,50.876529936213046,49.7776536620222,666.4143146267161,6831.591921461746,748.887991102878,4.518633394036442,5.265218805987388,0.49385603005066514,0.7184339943341911,1.0950484122149646,56.60047254804522,891.5120137007907,625.3241953579709,61.02115531498566,104.11518431082368,7.564164415933192,6878.019722459838,657.9324727482162,0.6303368168883026,4.590623204130679,6812.829081216827,15.022930847015232,669.7553109102882,0.5779830752871931,7129.926340038888,4.304327022749931,51.09784781280905,null,null,null,null,null,null,null,null],\"y0\":\" \",\"yaxis\":\"y\",\"type\":\"box\"},{\"alignmentgroup\":\"True\",\"hovertemplate\":\"model_nickname=%{x}\\u003cbr\\u003efit_model_return_elapsed_time=%{y}\\u003cextra\\u003e\\u003c\\u002fextra\\u003e\",\"legendgroup\":\"AverageAgglomerativeClustering\",\"marker\":{\"color\":\"#FFA15A\"},\"name\":\"AverageAgglomerativeClustering\",\"notched\":false,\"offsetgroup\":\"AverageAgglomerativeClustering\",\"orientation\":\"v\",\"showlegend\":true,\"x\":[\"AverageAgglomerativeClustering\",\"AverageAgglomerativeClustering\",\"AverageAgglomerativeClustering\",\"AverageAgglomerativeClustering\",\"AverageAgglomerativeClustering\",\"AverageAgglomerativeClustering\",\"AverageAgglomerativeClustering\",\"AverageAgglomerativeClustering\",\"AverageAgglomerativeClustering\",\"AverageAgglomerativeClustering\",\"AverageAgglomerativeClustering\",\"AverageAgglomerativeClustering\",\"AverageAgglomerativeClustering\",\"AverageAgglomerativeClustering\",\"AverageAgglomerativeClustering\",\"AverageAgglomerativeClustering\",\"AverageAgglomerativeClustering\",\"AverageAgglomerativeClustering\",\"AverageAgglomerativeClustering\",\"AverageAgglomerativeClustering\",\"AverageAgglomerativeClustering\",\"AverageAgglomerativeClustering\",\"AverageAgglomerativeClustering\",\"AverageAgglomerativeClustering\",\"AverageAgglomerativeClustering\",\"AverageAgglomerativeClustering\",\"AverageAgglomerativeClustering\",\"AverageAgglomerativeClustering\",\"AverageAgglomerativeClustering\",\"AverageAgglomerativeClustering\",\"AverageAgglomerativeClustering\",\"AverageAgglomerativeClustering\",\"AverageAgglomerativeClustering\",\"AverageAgglomerativeClustering\",\"AverageAgglomerativeClustering\",\"AverageAgglomerativeClustering\"],\"x0\":\" \",\"xaxis\":\"x\",\"y\":[188.84256841428578,949.0874732863158,295.82873467123136,0.1367352707311511,0.1634446270763874,264.4745646030642,0.4552782503888011,12.435895307920873,0.9347097259014845,0.014208300039172173,0.06498803896829486,3191.019092805218,0.27483667666092515,1000.7964539700188,0.040873285848647356,0.004098932724446058,0.0038207322359085083,11507.726254811976,80.89398341672495,0.49665459198877215,78.94059446593747,5.960899313911796,7.4655008227564394,43850.13272217801,21.765175399836153,459.422892941162,30.69401361932978,2.0897074197418988,1.8372434116899967,0.0386018012650311,3609.734588111285,1.9869130440056324,24.7175029120408,0.14302102383226156,0.009500971995294094,0.012016744818538427],\"y0\":\" \",\"yaxis\":\"y\",\"type\":\"box\"},{\"alignmentgroup\":\"True\",\"hovertemplate\":\"model_nickname=%{x}\\u003cbr\\u003efit_model_return_elapsed_time=%{y}\\u003cextra\\u003e\\u003c\\u002fextra\\u003e\",\"legendgroup\":\"DBSCAN\",\"marker\":{\"color\":\"#19d3f3\"},\"name\":\"DBSCAN\",\"notched\":false,\"offsetgroup\":\"DBSCAN\",\"orientation\":\"v\",\"showlegend\":true,\"x\":[\"DBSCAN\",\"DBSCAN\",\"DBSCAN\",\"DBSCAN\",\"DBSCAN\",\"DBSCAN\",\"DBSCAN\",\"DBSCAN\",\"DBSCAN\",\"DBSCAN\",\"DBSCAN\",\"DBSCAN\",\"DBSCAN\",\"DBSCAN\",\"DBSCAN\",\"DBSCAN\",\"DBSCAN\",\"DBSCAN\",\"DBSCAN\",\"DBSCAN\",\"DBSCAN\",\"DBSCAN\",\"DBSCAN\",\"DBSCAN\",\"DBSCAN\",\"DBSCAN\",\"DBSCAN\",\"DBSCAN\",\"DBSCAN\",\"DBSCAN\",\"DBSCAN\",\"DBSCAN\",\"DBSCAN\",\"DBSCAN\",\"DBSCAN\",\"DBSCAN\"],\"x0\":\" \",\"xaxis\":\"x\",\"y\":[0.2575635309331119,0.125115433242172,0.034546053037047386,0.6326453969813883,0.011192782782018185,3.1925318259745836,0.4013166450895369,5.069345069117844,0.1193258729763329,688.1563758817501,3368.2815414359793,60.68192249489948,16.19314087415114,0.4456427600234747,0.010406597051769495,0.1392604294233024,270.72191579593346,19.72008107090369,0.014636242296546698,16.350426414981484,0.10011453088372946,239.32877375371754,0.15321044996380806,0.06899773422628641,1.6607282860204577,64.52679201774299,6.174722949974239,0.6943527217954397,1.624539171345532,0.1458879397250712,0.027173635084182024,0.09708350198343396,0.01890877028927207,5.642886382061988,0.06452342588454485,0.08385901991277933],\"y0\":\" \",\"yaxis\":\"y\",\"type\":\"box\"},{\"alignmentgroup\":\"True\",\"hovertemplate\":\"model_nickname=%{x}\\u003cbr\\u003efit_model_return_elapsed_time=%{y}\\u003cextra\\u003e\\u003c\\u002fextra\\u003e\",\"legendgroup\":\"WardAgglomerativeClustering\",\"marker\":{\"color\":\"#FF6692\"},\"name\":\"WardAgglomerativeClustering\",\"notched\":false,\"offsetgroup\":\"WardAgglomerativeClustering\",\"orientation\":\"v\",\"showlegend\":true,\"x\":[\"WardAgglomerativeClustering\",\"WardAgglomerativeClustering\",\"WardAgglomerativeClustering\",\"WardAgglomerativeClustering\",\"WardAgglomerativeClustering\",\"WardAgglomerativeClustering\",\"WardAgglomerativeClustering\",\"WardAgglomerativeClustering\",\"WardAgglomerativeClustering\",\"WardAgglomerativeClustering\",\"WardAgglomerativeClustering\",\"WardAgglomerativeClustering\",\"WardAgglomerativeClustering\",\"WardAgglomerativeClustering\",\"WardAgglomerativeClustering\",\"WardAgglomerativeClustering\",\"WardAgglomerativeClustering\",\"WardAgglomerativeClustering\",\"WardAgglomerativeClustering\",\"WardAgglomerativeClustering\",\"WardAgglomerativeClustering\",\"WardAgglomerativeClustering\",\"WardAgglomerativeClustering\",\"WardAgglomerativeClustering\",\"WardAgglomerativeClustering\",\"WardAgglomerativeClustering\",\"WardAgglomerativeClustering\",\"WardAgglomerativeClustering\",\"WardAgglomerativeClustering\",\"WardAgglomerativeClustering\",\"WardAgglomerativeClustering\",\"WardAgglomerativeClustering\",\"WardAgglomerativeClustering\",\"WardAgglomerativeClustering\",\"WardAgglomerativeClustering\",\"WardAgglomerativeClustering\"],\"x0\":\" \",\"xaxis\":\"x\",\"y\":[1039.8745521595702,0.4359037522226572,10.018436203245074,0.20569367008283734,0.05404145224019885,0.39840248180553317,0.34633760061115026,1.2676191716454923,39.333141474053264,9.718740925192833,418.55404857266694,422.5699889129028,130.31304786074907,0.766875202767551,125.34407827584073,0.39669684832915664,0.43187417136505246,3.5762417120859027,6006.6997085455805,0.42780232708901167,988.4900958705693,1712.2537794206291,0.5933193010278046,0.10929615190252662,71.81289326911792,37.71147154131904,467.5921896658838,0.44275482185184956,0.22439131513237953,0.33942834101617336,2.6153134191408753,3414.9898419631645,2.6204141499474645,31.15680183377117,null,null],\"y0\":\" \",\"yaxis\":\"y\",\"type\":\"box\"}],                        {\"template\":{\"data\":{\"histogram2dcontour\":[{\"type\":\"histogram2dcontour\",\"colorbar\":{\"outlinewidth\":0,\"ticks\":\"\"},\"colorscale\":[[0.0,\"#0d0887\"],[0.1111111111111111,\"#46039f\"],[0.2222222222222222,\"#7201a8\"],[0.3333333333333333,\"#9c179e\"],[0.4444444444444444,\"#bd3786\"],[0.5555555555555556,\"#d8576b\"],[0.6666666666666666,\"#ed7953\"],[0.7777777777777778,\"#fb9f3a\"],[0.8888888888888888,\"#fdca26\"],[1.0,\"#f0f921\"]]}],\"choropleth\":[{\"type\":\"choropleth\",\"colorbar\":{\"outlinewidth\":0,\"ticks\":\"\"}}],\"histogram2d\":[{\"type\":\"histogram2d\",\"colorbar\":{\"outlinewidth\":0,\"ticks\":\"\"},\"colorscale\":[[0.0,\"#0d0887\"],[0.1111111111111111,\"#46039f\"],[0.2222222222222222,\"#7201a8\"],[0.3333333333333333,\"#9c179e\"],[0.4444444444444444,\"#bd3786\"],[0.5555555555555556,\"#d8576b\"],[0.6666666666666666,\"#ed7953\"],[0.7777777777777778,\"#fb9f3a\"],[0.8888888888888888,\"#fdca26\"],[1.0,\"#f0f921\"]]}],\"heatmap\":[{\"type\":\"heatmap\",\"colorbar\":{\"outlinewidth\":0,\"ticks\":\"\"},\"colorscale\":[[0.0,\"#0d0887\"],[0.1111111111111111,\"#46039f\"],[0.2222222222222222,\"#7201a8\"],[0.3333333333333333,\"#9c179e\"],[0.4444444444444444,\"#bd3786\"],[0.5555555555555556,\"#d8576b\"],[0.6666666666666666,\"#ed7953\"],[0.7777777777777778,\"#fb9f3a\"],[0.8888888888888888,\"#fdca26\"],[1.0,\"#f0f921\"]]}],\"heatmapgl\":[{\"type\":\"heatmapgl\",\"colorbar\":{\"outlinewidth\":0,\"ticks\":\"\"},\"colorscale\":[[0.0,\"#0d0887\"],[0.1111111111111111,\"#46039f\"],[0.2222222222222222,\"#7201a8\"],[0.3333333333333333,\"#9c179e\"],[0.4444444444444444,\"#bd3786\"],[0.5555555555555556,\"#d8576b\"],[0.6666666666666666,\"#ed7953\"],[0.7777777777777778,\"#fb9f3a\"],[0.8888888888888888,\"#fdca26\"],[1.0,\"#f0f921\"]]}],\"contourcarpet\":[{\"type\":\"contourcarpet\",\"colorbar\":{\"outlinewidth\":0,\"ticks\":\"\"}}],\"contour\":[{\"type\":\"contour\",\"colorbar\":{\"outlinewidth\":0,\"ticks\":\"\"},\"colorscale\":[[0.0,\"#0d0887\"],[0.1111111111111111,\"#46039f\"],[0.2222222222222222,\"#7201a8\"],[0.3333333333333333,\"#9c179e\"],[0.4444444444444444,\"#bd3786\"],[0.5555555555555556,\"#d8576b\"],[0.6666666666666666,\"#ed7953\"],[0.7777777777777778,\"#fb9f3a\"],[0.8888888888888888,\"#fdca26\"],[1.0,\"#f0f921\"]]}],\"surface\":[{\"type\":\"surface\",\"colorbar\":{\"outlinewidth\":0,\"ticks\":\"\"},\"colorscale\":[[0.0,\"#0d0887\"],[0.1111111111111111,\"#46039f\"],[0.2222222222222222,\"#7201a8\"],[0.3333333333333333,\"#9c179e\"],[0.4444444444444444,\"#bd3786\"],[0.5555555555555556,\"#d8576b\"],[0.6666666666666666,\"#ed7953\"],[0.7777777777777778,\"#fb9f3a\"],[0.8888888888888888,\"#fdca26\"],[1.0,\"#f0f921\"]]}],\"mesh3d\":[{\"type\":\"mesh3d\",\"colorbar\":{\"outlinewidth\":0,\"ticks\":\"\"}}],\"scatter\":[{\"marker\":{\"line\":{\"color\":\"#283442\"}},\"type\":\"scatter\"}],\"parcoords\":[{\"type\":\"parcoords\",\"line\":{\"colorbar\":{\"outlinewidth\":0,\"ticks\":\"\"}}}],\"scatterpolargl\":[{\"type\":\"scatterpolargl\",\"marker\":{\"colorbar\":{\"outlinewidth\":0,\"ticks\":\"\"}}}],\"bar\":[{\"error_x\":{\"color\":\"#f2f5fa\"},\"error_y\":{\"color\":\"#f2f5fa\"},\"marker\":{\"line\":{\"color\":\"rgb(17,17,17)\",\"width\":0.5},\"pattern\":{\"fillmode\":\"overlay\",\"size\":10,\"solidity\":0.2}},\"type\":\"bar\"}],\"scattergeo\":[{\"type\":\"scattergeo\",\"marker\":{\"colorbar\":{\"outlinewidth\":0,\"ticks\":\"\"}}}],\"scatterpolar\":[{\"type\":\"scatterpolar\",\"marker\":{\"colorbar\":{\"outlinewidth\":0,\"ticks\":\"\"}}}],\"histogram\":[{\"marker\":{\"pattern\":{\"fillmode\":\"overlay\",\"size\":10,\"solidity\":0.2}},\"type\":\"histogram\"}],\"scattergl\":[{\"marker\":{\"line\":{\"color\":\"#283442\"}},\"type\":\"scattergl\"}],\"scatter3d\":[{\"type\":\"scatter3d\",\"line\":{\"colorbar\":{\"outlinewidth\":0,\"ticks\":\"\"}},\"marker\":{\"colorbar\":{\"outlinewidth\":0,\"ticks\":\"\"}}}],\"scattermapbox\":[{\"type\":\"scattermapbox\",\"marker\":{\"colorbar\":{\"outlinewidth\":0,\"ticks\":\"\"}}}],\"scatterternary\":[{\"type\":\"scatterternary\",\"marker\":{\"colorbar\":{\"outlinewidth\":0,\"ticks\":\"\"}}}],\"scattercarpet\":[{\"type\":\"scattercarpet\",\"marker\":{\"colorbar\":{\"outlinewidth\":0,\"ticks\":\"\"}}}],\"carpet\":[{\"aaxis\":{\"endlinecolor\":\"#A2B1C6\",\"gridcolor\":\"#506784\",\"linecolor\":\"#506784\",\"minorgridcolor\":\"#506784\",\"startlinecolor\":\"#A2B1C6\"},\"baxis\":{\"endlinecolor\":\"#A2B1C6\",\"gridcolor\":\"#506784\",\"linecolor\":\"#506784\",\"minorgridcolor\":\"#506784\",\"startlinecolor\":\"#A2B1C6\"},\"type\":\"carpet\"}],\"table\":[{\"cells\":{\"fill\":{\"color\":\"#506784\"},\"line\":{\"color\":\"rgb(17,17,17)\"}},\"header\":{\"fill\":{\"color\":\"#2a3f5f\"},\"line\":{\"color\":\"rgb(17,17,17)\"}},\"type\":\"table\"}],\"barpolar\":[{\"marker\":{\"line\":{\"color\":\"rgb(17,17,17)\",\"width\":0.5},\"pattern\":{\"fillmode\":\"overlay\",\"size\":10,\"solidity\":0.2}},\"type\":\"barpolar\"}],\"pie\":[{\"automargin\":true,\"type\":\"pie\"}]},\"layout\":{\"autotypenumbers\":\"strict\",\"colorway\":[\"#636efa\",\"#EF553B\",\"#00cc96\",\"#ab63fa\",\"#FFA15A\",\"#19d3f3\",\"#FF6692\",\"#B6E880\",\"#FF97FF\",\"#FECB52\"],\"font\":{\"color\":\"#f2f5fa\"},\"hovermode\":\"closest\",\"hoverlabel\":{\"align\":\"left\"},\"paper_bgcolor\":\"rgb(17,17,17)\",\"plot_bgcolor\":\"rgb(17,17,17)\",\"polar\":{\"bgcolor\":\"rgb(17,17,17)\",\"angularaxis\":{\"gridcolor\":\"#506784\",\"linecolor\":\"#506784\",\"ticks\":\"\"},\"radialaxis\":{\"gridcolor\":\"#506784\",\"linecolor\":\"#506784\",\"ticks\":\"\"}},\"ternary\":{\"bgcolor\":\"rgb(17,17,17)\",\"aaxis\":{\"gridcolor\":\"#506784\",\"linecolor\":\"#506784\",\"ticks\":\"\"},\"baxis\":{\"gridcolor\":\"#506784\",\"linecolor\":\"#506784\",\"ticks\":\"\"},\"caxis\":{\"gridcolor\":\"#506784\",\"linecolor\":\"#506784\",\"ticks\":\"\"}},\"coloraxis\":{\"colorbar\":{\"outlinewidth\":0,\"ticks\":\"\"}},\"colorscale\":{\"sequential\":[[0.0,\"#0d0887\"],[0.1111111111111111,\"#46039f\"],[0.2222222222222222,\"#7201a8\"],[0.3333333333333333,\"#9c179e\"],[0.4444444444444444,\"#bd3786\"],[0.5555555555555556,\"#d8576b\"],[0.6666666666666666,\"#ed7953\"],[0.7777777777777778,\"#fb9f3a\"],[0.8888888888888888,\"#fdca26\"],[1.0,\"#f0f921\"]],\"sequentialminus\":[[0.0,\"#0d0887\"],[0.1111111111111111,\"#46039f\"],[0.2222222222222222,\"#7201a8\"],[0.3333333333333333,\"#9c179e\"],[0.4444444444444444,\"#bd3786\"],[0.5555555555555556,\"#d8576b\"],[0.6666666666666666,\"#ed7953\"],[0.7777777777777778,\"#fb9f3a\"],[0.8888888888888888,\"#fdca26\"],[1.0,\"#f0f921\"]],\"diverging\":[[0,\"#8e0152\"],[0.1,\"#c51b7d\"],[0.2,\"#de77ae\"],[0.3,\"#f1b6da\"],[0.4,\"#fde0ef\"],[0.5,\"#f7f7f7\"],[0.6,\"#e6f5d0\"],[0.7,\"#b8e186\"],[0.8,\"#7fbc41\"],[0.9,\"#4d9221\"],[1,\"#276419\"]]},\"xaxis\":{\"gridcolor\":\"#283442\",\"linecolor\":\"#506784\",\"ticks\":\"\",\"title\":{\"standoff\":15},\"zerolinecolor\":\"#283442\",\"automargin\":true,\"zerolinewidth\":2},\"yaxis\":{\"gridcolor\":\"#283442\",\"linecolor\":\"#506784\",\"ticks\":\"\",\"title\":{\"standoff\":15},\"zerolinecolor\":\"#283442\",\"automargin\":true,\"zerolinewidth\":2},\"scene\":{\"xaxis\":{\"backgroundcolor\":\"rgb(17,17,17)\",\"gridcolor\":\"#506784\",\"linecolor\":\"#506784\",\"showbackground\":true,\"ticks\":\"\",\"zerolinecolor\":\"#C8D4E3\",\"gridwidth\":2},\"yaxis\":{\"backgroundcolor\":\"rgb(17,17,17)\",\"gridcolor\":\"#506784\",\"linecolor\":\"#506784\",\"showbackground\":true,\"ticks\":\"\",\"zerolinecolor\":\"#C8D4E3\",\"gridwidth\":2},\"zaxis\":{\"backgroundcolor\":\"rgb(17,17,17)\",\"gridcolor\":\"#506784\",\"linecolor\":\"#506784\",\"showbackground\":true,\"ticks\":\"\",\"zerolinecolor\":\"#C8D4E3\",\"gridwidth\":2}},\"shapedefaults\":{\"line\":{\"color\":\"#f2f5fa\"}},\"annotationdefaults\":{\"arrowcolor\":\"#f2f5fa\",\"arrowhead\":0,\"arrowwidth\":1},\"geo\":{\"bgcolor\":\"rgb(17,17,17)\",\"landcolor\":\"rgb(17,17,17)\",\"subunitcolor\":\"#506784\",\"showland\":true,\"showlakes\":true,\"lakecolor\":\"rgb(17,17,17)\"},\"title\":{\"x\":0.05},\"updatemenudefaults\":{\"bgcolor\":\"#506784\",\"borderwidth\":0},\"sliderdefaults\":{\"bgcolor\":\"#C8D4E3\",\"borderwidth\":1,\"bordercolor\":\"rgb(17,17,17)\",\"tickwidth\":0},\"mapbox\":{\"style\":\"dark\"}}},\"xaxis\":{\"anchor\":\"y\",\"domain\":[0.0,1.0],\"title\":{\"text\":\"model_nickname\"},\"categoryorder\":\"array\",\"categoryarray\":[\"RecursiveClustering\",\"KMeans\",\"AffinityPropagation\",\"Clique\",\"SpectralClustering\",\"MeanShift\",\"SingleAgglomerativeClustering\",\"IRFLLRR\",\"CompleteAgglomerativeClustering\",\"KMeansProj\",\"HDBSCAN\",\"Proclus\",\"OPTICS\",\"SpectralSubspaceRandomization\",\"AverageAgglomerativeClustering\",\"DBSCAN\",\"WardAgglomerativeClustering\"]},\"yaxis\":{\"anchor\":\"x\",\"domain\":[0.0,1.0],\"title\":{\"text\":\"fit_model_return_elapsed_time\"},\"type\":\"log\"},\"legend\":{\"title\":{\"text\":\"model_nickname\"},\"tracegroupgap\":0},\"margin\":{\"t\":60},\"boxmode\":\"overlay\"},                        {\"responsive\": true}                    ).then(function(){\n",
       "                            \n",
       "var gd = document.getElementById('e7ea87f7-3d75-4869-81fe-9a69e40c41a2');\n",
       "var x = new MutationObserver(function (mutations, observer) {{\n",
       "        var display = window.getComputedStyle(gd).display;\n",
       "        if (!display || display === 'none') {{\n",
       "            console.log([gd, 'removed!']);\n",
       "            Plotly.purge(gd);\n",
       "            observer.disconnect();\n",
       "        }}\n",
       "}});\n",
       "\n",
       "// Listen for the removal of the full notebook cells\n",
       "var notebookContainer = gd.closest('#notebook-container');\n",
       "if (notebookContainer) {{\n",
       "    x.observe(notebookContainer, {childList: true});\n",
       "}}\n",
       "\n",
       "// Listen for the clearing of the current output cell\n",
       "var outputEl = gd.closest('.output');\n",
       "if (outputEl) {{\n",
       "    x.observe(outputEl, {childList: true});\n",
       "}}\n",
       "\n",
       "                        })                };                });            </script>        </div>"
      ]
     },
     "metadata": {},
     "output_type": "display_data"
    }
   ],
   "execution_count": 33
  },
  {
   "metadata": {},
   "cell_type": "code",
   "outputs": [],
   "execution_count": null,
   "source": "n_samples = ['100', '347', '1202', '4163', '14427', '50000']",
   "id": "b953981e91d4eed"
  },
  {
   "cell_type": "code",
   "id": "618e8cfa752eb1fa",
   "metadata": {
    "ExecuteTime": {
     "end_time": "2025-01-21T14:47:51.156448Z",
     "start_time": "2025-01-21T14:47:51.090232Z"
    }
   },
   "source": [
    "df = df_common.copy()\n",
    "df = df.loc[df['n_samples']==14427]\n",
    "df = df.sort_values(by='n_features')\n",
    "fig = px.line(df, x='n_features', y='fit_model_return_elapsed_time', color='model_nickname', line_dash='model_nickname', log_x=True, log_y=True, markers=True)\n",
    "fig.show()"
   ],
   "outputs": [
    {
     "data": {
      "application/vnd.plotly.v1+json": {
       "data": [
        {
         "hovertemplate": "model_nickname=OPTICS<br>n_features=%{x}<br>fit_model_return_elapsed_time=%{y}<extra></extra>",
         "legendgroup": "OPTICS",
         "line": {
          "color": "#636efa",
          "dash": "solid"
         },
         "marker": {
          "symbol": "circle"
         },
         "mode": "lines+markers",
         "name": "OPTICS",
         "orientation": "v",
         "showlegend": true,
         "x": [
          100,
          347,
          1202,
          4163,
          14427,
          50000
         ],
         "xaxis": "x",
         "y": [
          56.1551320371218,
          195.71820232272148,
          676.9673596257344,
          2243.72188385576,
          42243.84468270885,
          65643.0915197921
         ],
         "yaxis": "y",
         "type": "scatter"
        },
        {
         "hovertemplate": "model_nickname=MeanShift<br>n_features=%{x}<br>fit_model_return_elapsed_time=%{y}<extra></extra>",
         "legendgroup": "MeanShift",
         "line": {
          "color": "#EF553B",
          "dash": "dot"
         },
         "marker": {
          "symbol": "circle"
         },
         "mode": "lines+markers",
         "name": "MeanShift",
         "orientation": "v",
         "showlegend": true,
         "x": [
          100,
          347,
          1202,
          4163,
          14427,
          50000
         ],
         "xaxis": "x",
         "y": [
          116.31868553021923,
          322.4290032796562,
          1033.2180355130695,
          3582.885516330134,
          86689.53330129618,
          null
         ],
         "yaxis": "y",
         "type": "scatter"
        },
        {
         "hovertemplate": "model_nickname=DBSCAN<br>n_features=%{x}<br>fit_model_return_elapsed_time=%{y}<extra></extra>",
         "legendgroup": "DBSCAN",
         "line": {
          "color": "#00cc96",
          "dash": "dash"
         },
         "marker": {
          "symbol": "circle"
         },
         "mode": "lines+markers",
         "name": "DBSCAN",
         "orientation": "v",
         "showlegend": true,
         "x": [
          100,
          347,
          1202,
          4163,
          14427,
          50000
         ],
         "xaxis": "x",
         "y": [
          0.6326453969813883,
          1.624539171345532,
          5.069345069117844,
          16.19314087415114,
          64.52679201774299,
          239.32877375371754
         ],
         "yaxis": "y",
         "type": "scatter"
        },
        {
         "hovertemplate": "model_nickname=SpectralSubspaceRandomization<br>n_features=%{x}<br>fit_model_return_elapsed_time=%{y}<extra></extra>",
         "legendgroup": "SpectralSubspaceRandomization",
         "line": {
          "color": "#ab63fa",
          "dash": "longdash"
         },
         "marker": {
          "symbol": "circle"
         },
         "mode": "lines+markers",
         "name": "SpectralSubspaceRandomization",
         "orientation": "v",
         "showlegend": true,
         "x": [
          100,
          347,
          1202,
          4163,
          14427,
          50000
         ],
         "xaxis": "x",
         "y": [
          6831.591921461746,
          6812.829081216827,
          6878.019722459838,
          7129.926340038888,
          null,
          null
         ],
         "yaxis": "y",
         "type": "scatter"
        },
        {
         "hovertemplate": "model_nickname=AverageAgglomerativeClustering<br>n_features=%{x}<br>fit_model_return_elapsed_time=%{y}<extra></extra>",
         "legendgroup": "AverageAgglomerativeClustering",
         "line": {
          "color": "#FFA15A",
          "dash": "dashdot"
         },
         "marker": {
          "symbol": "circle"
         },
         "mode": "lines+markers",
         "name": "AverageAgglomerativeClustering",
         "orientation": "v",
         "showlegend": true,
         "x": [
          100,
          347,
          1202,
          4163,
          14427,
          50000
         ],
         "xaxis": "x",
         "y": [
          12.435895307920873,
          30.69401361932978,
          80.89398341672495,
          264.4745646030642,
          949.0874732863158,
          3609.734588111285
         ],
         "yaxis": "y",
         "type": "scatter"
        },
        {
         "hovertemplate": "model_nickname=RecursiveClustering<br>n_features=%{x}<br>fit_model_return_elapsed_time=%{y}<extra></extra>",
         "legendgroup": "RecursiveClustering",
         "line": {
          "color": "#19d3f3",
          "dash": "longdashdot"
         },
         "marker": {
          "symbol": "circle"
         },
         "mode": "lines+markers",
         "name": "RecursiveClustering",
         "orientation": "v",
         "showlegend": true,
         "x": [
          100,
          347,
          1202,
          4163,
          14427,
          50000
         ],
         "xaxis": "x",
         "y": [
          2.116953680757433,
          2.5050868480466306,
          2.6131800981238484,
          4.498260552063584,
          7.074277047067881,
          17.18792238784954
         ],
         "yaxis": "y",
         "type": "scatter"
        },
        {
         "hovertemplate": "model_nickname=AffinityPropagation<br>n_features=%{x}<br>fit_model_return_elapsed_time=%{y}<extra></extra>",
         "legendgroup": "AffinityPropagation",
         "line": {
          "color": "#FF6692",
          "dash": "solid"
         },
         "marker": {
          "symbol": "circle"
         },
         "mode": "lines+markers",
         "name": "AffinityPropagation",
         "orientation": "v",
         "showlegend": true,
         "x": [
          100,
          347,
          1202,
          4163,
          14427,
          50000
         ],
         "xaxis": "x",
         "y": [
          1305.4496605228633,
          1307.9004879873246,
          1303.966122912243,
          1298.2232589893974,
          844.3383482280187,
          950.1205439330079
         ],
         "yaxis": "y",
         "type": "scatter"
        },
        {
         "hovertemplate": "model_nickname=SingleAgglomerativeClustering<br>n_features=%{x}<br>fit_model_return_elapsed_time=%{y}<extra></extra>",
         "legendgroup": "SingleAgglomerativeClustering",
         "line": {
          "color": "#B6E880",
          "dash": "dot"
         },
         "marker": {
          "symbol": "circle"
         },
         "mode": "lines+markers",
         "name": "SingleAgglomerativeClustering",
         "orientation": "v",
         "showlegend": true,
         "x": [
          100,
          347,
          1202,
          4163,
          14427,
          50000
         ],
         "xaxis": "x",
         "y": [
          10.040247300174087,
          38.155095470137894,
          129.9758461290039,
          452.36738394526765,
          1556.1570713757537,
          5231.730977918953
         ],
         "yaxis": "y",
         "type": "scatter"
        },
        {
         "hovertemplate": "model_nickname=KMeansProj<br>n_features=%{x}<br>fit_model_return_elapsed_time=%{y}<extra></extra>",
         "legendgroup": "KMeansProj",
         "line": {
          "color": "#FF97FF",
          "dash": "dash"
         },
         "marker": {
          "symbol": "circle"
         },
         "mode": "lines+markers",
         "name": "KMeansProj",
         "orientation": "v",
         "showlegend": true,
         "x": [
          100,
          347,
          1202,
          4163,
          14427,
          50000
         ],
         "xaxis": "x",
         "y": [
          19.72925839200616,
          107.52201802888885,
          283.98503924626857,
          3776.3566830898635,
          null,
          null
         ],
         "yaxis": "y",
         "type": "scatter"
        },
        {
         "hovertemplate": "model_nickname=SpectralClustering<br>n_features=%{x}<br>fit_model_return_elapsed_time=%{y}<extra></extra>",
         "legendgroup": "SpectralClustering",
         "line": {
          "color": "#FECB52",
          "dash": "longdash"
         },
         "marker": {
          "symbol": "circle"
         },
         "mode": "lines+markers",
         "name": "SpectralClustering",
         "orientation": "v",
         "showlegend": true,
         "x": [
          100,
          347,
          1202,
          4163,
          14427,
          50000
         ],
         "xaxis": "x",
         "y": [
          null,
          null,
          40.87685772404075,
          46.67146863043308,
          63.38605046086013,
          122.79042468685657
         ],
         "yaxis": "y",
         "type": "scatter"
        },
        {
         "hovertemplate": "model_nickname=Clique<br>n_features=%{x}<br>fit_model_return_elapsed_time=%{y}<extra></extra>",
         "legendgroup": "Clique",
         "line": {
          "color": "#636efa",
          "dash": "dashdot"
         },
         "marker": {
          "symbol": "circle"
         },
         "mode": "lines+markers",
         "name": "Clique",
         "orientation": "v",
         "showlegend": true,
         "x": [
          100,
          347,
          1202,
          4163,
          14427,
          50000
         ],
         "xaxis": "x",
         "y": [
          0.7252112696878612,
          2.4536710716784,
          8.467757266014814,
          29.383034309837967,
          102.58494770992547,
          353.33163586305454
         ],
         "yaxis": "y",
         "type": "scatter"
        },
        {
         "hovertemplate": "model_nickname=WardAgglomerativeClustering<br>n_features=%{x}<br>fit_model_return_elapsed_time=%{y}<extra></extra>",
         "legendgroup": "WardAgglomerativeClustering",
         "line": {
          "color": "#EF553B",
          "dash": "longdashdot"
         },
         "marker": {
          "symbol": "circle"
         },
         "mode": "lines+markers",
         "name": "WardAgglomerativeClustering",
         "orientation": "v",
         "showlegend": true,
         "x": [
          100,
          347,
          1202,
          4163,
          14427,
          50000
         ],
         "xaxis": "x",
         "y": [
          31.15680183377117,
          71.81289326911792,
          130.31304786074907,
          422.5699889129028,
          1039.8745521595702,
          3414.9898419631645
         ],
         "yaxis": "y",
         "type": "scatter"
        },
        {
         "hovertemplate": "model_nickname=IRFLLRR<br>n_features=%{x}<br>fit_model_return_elapsed_time=%{y}<extra></extra>",
         "legendgroup": "IRFLLRR",
         "line": {
          "color": "#00cc96",
          "dash": "solid"
         },
         "marker": {
          "symbol": "circle"
         },
         "mode": "lines+markers",
         "name": "IRFLLRR",
         "orientation": "v",
         "showlegend": true,
         "x": [
          100,
          347,
          1202,
          4163,
          14427,
          50000
         ],
         "xaxis": "x",
         "y": [
          null,
          null,
          null,
          null,
          null,
          null
         ],
         "yaxis": "y",
         "type": "scatter"
        },
        {
         "hovertemplate": "model_nickname=Proclus<br>n_features=%{x}<br>fit_model_return_elapsed_time=%{y}<extra></extra>",
         "legendgroup": "Proclus",
         "line": {
          "color": "#ab63fa",
          "dash": "dot"
         },
         "marker": {
          "symbol": "circle"
         },
         "mode": "lines+markers",
         "name": "Proclus",
         "orientation": "v",
         "showlegend": true,
         "x": [
          100,
          347,
          1202,
          4163,
          14427,
          50000
         ],
         "xaxis": "x",
         "y": [
          26.31951997289434,
          80.73979844525456,
          193.65103578707203,
          523.8038224009797,
          982.8702355371788,
          3715.840734471567
         ],
         "yaxis": "y",
         "type": "scatter"
        },
        {
         "hovertemplate": "model_nickname=CompleteAgglomerativeClustering<br>n_features=%{x}<br>fit_model_return_elapsed_time=%{y}<extra></extra>",
         "legendgroup": "CompleteAgglomerativeClustering",
         "line": {
          "color": "#FFA15A",
          "dash": "dash"
         },
         "marker": {
          "symbol": "circle"
         },
         "mode": "lines+markers",
         "name": "CompleteAgglomerativeClustering",
         "orientation": "v",
         "showlegend": true,
         "x": [
          100,
          347,
          1202,
          4163,
          14427,
          50000
         ],
         "xaxis": "x",
         "y": [
          24.10275136306882,
          66.01990315830335,
          129.9806003528647,
          430.8792737061158,
          1736.843070722185,
          5863.426620204002
         ],
         "yaxis": "y",
         "type": "scatter"
        },
        {
         "hovertemplate": "model_nickname=KMeans<br>n_features=%{x}<br>fit_model_return_elapsed_time=%{y}<extra></extra>",
         "legendgroup": "KMeans",
         "line": {
          "color": "#19d3f3",
          "dash": "longdash"
         },
         "marker": {
          "symbol": "circle"
         },
         "mode": "lines+markers",
         "name": "KMeans",
         "orientation": "v",
         "showlegend": true,
         "x": [
          100,
          347,
          1202,
          4163,
          14427,
          50000
         ],
         "xaxis": "x",
         "y": [
          0.2519635371863842,
          0.34503894997760653,
          0.590611255262047,
          2.2441787063144147,
          4.373474506661296,
          13.37486203899607
         ],
         "yaxis": "y",
         "type": "scatter"
        },
        {
         "hovertemplate": "model_nickname=HDBSCAN<br>n_features=%{x}<br>fit_model_return_elapsed_time=%{y}<extra></extra>",
         "legendgroup": "HDBSCAN",
         "line": {
          "color": "#FF6692",
          "dash": "dashdot"
         },
         "marker": {
          "symbol": "circle"
         },
         "mode": "lines+markers",
         "name": "HDBSCAN",
         "orientation": "v",
         "showlegend": true,
         "x": [
          100,
          347,
          1202,
          4163,
          14427,
          50000
         ],
         "xaxis": "x",
         "y": [
          38.87270701210946,
          114.59050129214302,
          316.9094292470254,
          882.9180880105123,
          null,
          null
         ],
         "yaxis": "y",
         "type": "scatter"
        }
       ],
       "layout": {
        "template": {
         "data": {
          "histogram2dcontour": [
           {
            "type": "histogram2dcontour",
            "colorbar": {
             "outlinewidth": 0,
             "ticks": ""
            },
            "colorscale": [
             [
              0.0,
              "#0d0887"
             ],
             [
              0.1111111111111111,
              "#46039f"
             ],
             [
              0.2222222222222222,
              "#7201a8"
             ],
             [
              0.3333333333333333,
              "#9c179e"
             ],
             [
              0.4444444444444444,
              "#bd3786"
             ],
             [
              0.5555555555555556,
              "#d8576b"
             ],
             [
              0.6666666666666666,
              "#ed7953"
             ],
             [
              0.7777777777777778,
              "#fb9f3a"
             ],
             [
              0.8888888888888888,
              "#fdca26"
             ],
             [
              1.0,
              "#f0f921"
             ]
            ]
           }
          ],
          "choropleth": [
           {
            "type": "choropleth",
            "colorbar": {
             "outlinewidth": 0,
             "ticks": ""
            }
           }
          ],
          "histogram2d": [
           {
            "type": "histogram2d",
            "colorbar": {
             "outlinewidth": 0,
             "ticks": ""
            },
            "colorscale": [
             [
              0.0,
              "#0d0887"
             ],
             [
              0.1111111111111111,
              "#46039f"
             ],
             [
              0.2222222222222222,
              "#7201a8"
             ],
             [
              0.3333333333333333,
              "#9c179e"
             ],
             [
              0.4444444444444444,
              "#bd3786"
             ],
             [
              0.5555555555555556,
              "#d8576b"
             ],
             [
              0.6666666666666666,
              "#ed7953"
             ],
             [
              0.7777777777777778,
              "#fb9f3a"
             ],
             [
              0.8888888888888888,
              "#fdca26"
             ],
             [
              1.0,
              "#f0f921"
             ]
            ]
           }
          ],
          "heatmap": [
           {
            "type": "heatmap",
            "colorbar": {
             "outlinewidth": 0,
             "ticks": ""
            },
            "colorscale": [
             [
              0.0,
              "#0d0887"
             ],
             [
              0.1111111111111111,
              "#46039f"
             ],
             [
              0.2222222222222222,
              "#7201a8"
             ],
             [
              0.3333333333333333,
              "#9c179e"
             ],
             [
              0.4444444444444444,
              "#bd3786"
             ],
             [
              0.5555555555555556,
              "#d8576b"
             ],
             [
              0.6666666666666666,
              "#ed7953"
             ],
             [
              0.7777777777777778,
              "#fb9f3a"
             ],
             [
              0.8888888888888888,
              "#fdca26"
             ],
             [
              1.0,
              "#f0f921"
             ]
            ]
           }
          ],
          "heatmapgl": [
           {
            "type": "heatmapgl",
            "colorbar": {
             "outlinewidth": 0,
             "ticks": ""
            },
            "colorscale": [
             [
              0.0,
              "#0d0887"
             ],
             [
              0.1111111111111111,
              "#46039f"
             ],
             [
              0.2222222222222222,
              "#7201a8"
             ],
             [
              0.3333333333333333,
              "#9c179e"
             ],
             [
              0.4444444444444444,
              "#bd3786"
             ],
             [
              0.5555555555555556,
              "#d8576b"
             ],
             [
              0.6666666666666666,
              "#ed7953"
             ],
             [
              0.7777777777777778,
              "#fb9f3a"
             ],
             [
              0.8888888888888888,
              "#fdca26"
             ],
             [
              1.0,
              "#f0f921"
             ]
            ]
           }
          ],
          "contourcarpet": [
           {
            "type": "contourcarpet",
            "colorbar": {
             "outlinewidth": 0,
             "ticks": ""
            }
           }
          ],
          "contour": [
           {
            "type": "contour",
            "colorbar": {
             "outlinewidth": 0,
             "ticks": ""
            },
            "colorscale": [
             [
              0.0,
              "#0d0887"
             ],
             [
              0.1111111111111111,
              "#46039f"
             ],
             [
              0.2222222222222222,
              "#7201a8"
             ],
             [
              0.3333333333333333,
              "#9c179e"
             ],
             [
              0.4444444444444444,
              "#bd3786"
             ],
             [
              0.5555555555555556,
              "#d8576b"
             ],
             [
              0.6666666666666666,
              "#ed7953"
             ],
             [
              0.7777777777777778,
              "#fb9f3a"
             ],
             [
              0.8888888888888888,
              "#fdca26"
             ],
             [
              1.0,
              "#f0f921"
             ]
            ]
           }
          ],
          "surface": [
           {
            "type": "surface",
            "colorbar": {
             "outlinewidth": 0,
             "ticks": ""
            },
            "colorscale": [
             [
              0.0,
              "#0d0887"
             ],
             [
              0.1111111111111111,
              "#46039f"
             ],
             [
              0.2222222222222222,
              "#7201a8"
             ],
             [
              0.3333333333333333,
              "#9c179e"
             ],
             [
              0.4444444444444444,
              "#bd3786"
             ],
             [
              0.5555555555555556,
              "#d8576b"
             ],
             [
              0.6666666666666666,
              "#ed7953"
             ],
             [
              0.7777777777777778,
              "#fb9f3a"
             ],
             [
              0.8888888888888888,
              "#fdca26"
             ],
             [
              1.0,
              "#f0f921"
             ]
            ]
           }
          ],
          "mesh3d": [
           {
            "type": "mesh3d",
            "colorbar": {
             "outlinewidth": 0,
             "ticks": ""
            }
           }
          ],
          "scatter": [
           {
            "marker": {
             "line": {
              "color": "#283442"
             }
            },
            "type": "scatter"
           }
          ],
          "parcoords": [
           {
            "type": "parcoords",
            "line": {
             "colorbar": {
              "outlinewidth": 0,
              "ticks": ""
             }
            }
           }
          ],
          "scatterpolargl": [
           {
            "type": "scatterpolargl",
            "marker": {
             "colorbar": {
              "outlinewidth": 0,
              "ticks": ""
             }
            }
           }
          ],
          "bar": [
           {
            "error_x": {
             "color": "#f2f5fa"
            },
            "error_y": {
             "color": "#f2f5fa"
            },
            "marker": {
             "line": {
              "color": "rgb(17,17,17)",
              "width": 0.5
             },
             "pattern": {
              "fillmode": "overlay",
              "size": 10,
              "solidity": 0.2
             }
            },
            "type": "bar"
           }
          ],
          "scattergeo": [
           {
            "type": "scattergeo",
            "marker": {
             "colorbar": {
              "outlinewidth": 0,
              "ticks": ""
             }
            }
           }
          ],
          "scatterpolar": [
           {
            "type": "scatterpolar",
            "marker": {
             "colorbar": {
              "outlinewidth": 0,
              "ticks": ""
             }
            }
           }
          ],
          "histogram": [
           {
            "marker": {
             "pattern": {
              "fillmode": "overlay",
              "size": 10,
              "solidity": 0.2
             }
            },
            "type": "histogram"
           }
          ],
          "scattergl": [
           {
            "marker": {
             "line": {
              "color": "#283442"
             }
            },
            "type": "scattergl"
           }
          ],
          "scatter3d": [
           {
            "type": "scatter3d",
            "line": {
             "colorbar": {
              "outlinewidth": 0,
              "ticks": ""
             }
            },
            "marker": {
             "colorbar": {
              "outlinewidth": 0,
              "ticks": ""
             }
            }
           }
          ],
          "scattermapbox": [
           {
            "type": "scattermapbox",
            "marker": {
             "colorbar": {
              "outlinewidth": 0,
              "ticks": ""
             }
            }
           }
          ],
          "scatterternary": [
           {
            "type": "scatterternary",
            "marker": {
             "colorbar": {
              "outlinewidth": 0,
              "ticks": ""
             }
            }
           }
          ],
          "scattercarpet": [
           {
            "type": "scattercarpet",
            "marker": {
             "colorbar": {
              "outlinewidth": 0,
              "ticks": ""
             }
            }
           }
          ],
          "carpet": [
           {
            "aaxis": {
             "endlinecolor": "#A2B1C6",
             "gridcolor": "#506784",
             "linecolor": "#506784",
             "minorgridcolor": "#506784",
             "startlinecolor": "#A2B1C6"
            },
            "baxis": {
             "endlinecolor": "#A2B1C6",
             "gridcolor": "#506784",
             "linecolor": "#506784",
             "minorgridcolor": "#506784",
             "startlinecolor": "#A2B1C6"
            },
            "type": "carpet"
           }
          ],
          "table": [
           {
            "cells": {
             "fill": {
              "color": "#506784"
             },
             "line": {
              "color": "rgb(17,17,17)"
             }
            },
            "header": {
             "fill": {
              "color": "#2a3f5f"
             },
             "line": {
              "color": "rgb(17,17,17)"
             }
            },
            "type": "table"
           }
          ],
          "barpolar": [
           {
            "marker": {
             "line": {
              "color": "rgb(17,17,17)",
              "width": 0.5
             },
             "pattern": {
              "fillmode": "overlay",
              "size": 10,
              "solidity": 0.2
             }
            },
            "type": "barpolar"
           }
          ],
          "pie": [
           {
            "automargin": true,
            "type": "pie"
           }
          ]
         },
         "layout": {
          "autotypenumbers": "strict",
          "colorway": [
           "#636efa",
           "#EF553B",
           "#00cc96",
           "#ab63fa",
           "#FFA15A",
           "#19d3f3",
           "#FF6692",
           "#B6E880",
           "#FF97FF",
           "#FECB52"
          ],
          "font": {
           "color": "#f2f5fa"
          },
          "hovermode": "closest",
          "hoverlabel": {
           "align": "left"
          },
          "paper_bgcolor": "rgb(17,17,17)",
          "plot_bgcolor": "rgb(17,17,17)",
          "polar": {
           "bgcolor": "rgb(17,17,17)",
           "angularaxis": {
            "gridcolor": "#506784",
            "linecolor": "#506784",
            "ticks": ""
           },
           "radialaxis": {
            "gridcolor": "#506784",
            "linecolor": "#506784",
            "ticks": ""
           }
          },
          "ternary": {
           "bgcolor": "rgb(17,17,17)",
           "aaxis": {
            "gridcolor": "#506784",
            "linecolor": "#506784",
            "ticks": ""
           },
           "baxis": {
            "gridcolor": "#506784",
            "linecolor": "#506784",
            "ticks": ""
           },
           "caxis": {
            "gridcolor": "#506784",
            "linecolor": "#506784",
            "ticks": ""
           }
          },
          "coloraxis": {
           "colorbar": {
            "outlinewidth": 0,
            "ticks": ""
           }
          },
          "colorscale": {
           "sequential": [
            [
             0.0,
             "#0d0887"
            ],
            [
             0.1111111111111111,
             "#46039f"
            ],
            [
             0.2222222222222222,
             "#7201a8"
            ],
            [
             0.3333333333333333,
             "#9c179e"
            ],
            [
             0.4444444444444444,
             "#bd3786"
            ],
            [
             0.5555555555555556,
             "#d8576b"
            ],
            [
             0.6666666666666666,
             "#ed7953"
            ],
            [
             0.7777777777777778,
             "#fb9f3a"
            ],
            [
             0.8888888888888888,
             "#fdca26"
            ],
            [
             1.0,
             "#f0f921"
            ]
           ],
           "sequentialminus": [
            [
             0.0,
             "#0d0887"
            ],
            [
             0.1111111111111111,
             "#46039f"
            ],
            [
             0.2222222222222222,
             "#7201a8"
            ],
            [
             0.3333333333333333,
             "#9c179e"
            ],
            [
             0.4444444444444444,
             "#bd3786"
            ],
            [
             0.5555555555555556,
             "#d8576b"
            ],
            [
             0.6666666666666666,
             "#ed7953"
            ],
            [
             0.7777777777777778,
             "#fb9f3a"
            ],
            [
             0.8888888888888888,
             "#fdca26"
            ],
            [
             1.0,
             "#f0f921"
            ]
           ],
           "diverging": [
            [
             0,
             "#8e0152"
            ],
            [
             0.1,
             "#c51b7d"
            ],
            [
             0.2,
             "#de77ae"
            ],
            [
             0.3,
             "#f1b6da"
            ],
            [
             0.4,
             "#fde0ef"
            ],
            [
             0.5,
             "#f7f7f7"
            ],
            [
             0.6,
             "#e6f5d0"
            ],
            [
             0.7,
             "#b8e186"
            ],
            [
             0.8,
             "#7fbc41"
            ],
            [
             0.9,
             "#4d9221"
            ],
            [
             1,
             "#276419"
            ]
           ]
          },
          "xaxis": {
           "gridcolor": "#283442",
           "linecolor": "#506784",
           "ticks": "",
           "title": {
            "standoff": 15
           },
           "zerolinecolor": "#283442",
           "automargin": true,
           "zerolinewidth": 2
          },
          "yaxis": {
           "gridcolor": "#283442",
           "linecolor": "#506784",
           "ticks": "",
           "title": {
            "standoff": 15
           },
           "zerolinecolor": "#283442",
           "automargin": true,
           "zerolinewidth": 2
          },
          "scene": {
           "xaxis": {
            "backgroundcolor": "rgb(17,17,17)",
            "gridcolor": "#506784",
            "linecolor": "#506784",
            "showbackground": true,
            "ticks": "",
            "zerolinecolor": "#C8D4E3",
            "gridwidth": 2
           },
           "yaxis": {
            "backgroundcolor": "rgb(17,17,17)",
            "gridcolor": "#506784",
            "linecolor": "#506784",
            "showbackground": true,
            "ticks": "",
            "zerolinecolor": "#C8D4E3",
            "gridwidth": 2
           },
           "zaxis": {
            "backgroundcolor": "rgb(17,17,17)",
            "gridcolor": "#506784",
            "linecolor": "#506784",
            "showbackground": true,
            "ticks": "",
            "zerolinecolor": "#C8D4E3",
            "gridwidth": 2
           }
          },
          "shapedefaults": {
           "line": {
            "color": "#f2f5fa"
           }
          },
          "annotationdefaults": {
           "arrowcolor": "#f2f5fa",
           "arrowhead": 0,
           "arrowwidth": 1
          },
          "geo": {
           "bgcolor": "rgb(17,17,17)",
           "landcolor": "rgb(17,17,17)",
           "subunitcolor": "#506784",
           "showland": true,
           "showlakes": true,
           "lakecolor": "rgb(17,17,17)"
          },
          "title": {
           "x": 0.05
          },
          "updatemenudefaults": {
           "bgcolor": "#506784",
           "borderwidth": 0
          },
          "sliderdefaults": {
           "bgcolor": "#C8D4E3",
           "borderwidth": 1,
           "bordercolor": "rgb(17,17,17)",
           "tickwidth": 0
          },
          "mapbox": {
           "style": "dark"
          }
         }
        },
        "xaxis": {
         "anchor": "y",
         "domain": [
          0.0,
          1.0
         ],
         "title": {
          "text": "n_features"
         },
         "type": "log"
        },
        "yaxis": {
         "anchor": "x",
         "domain": [
          0.0,
          1.0
         ],
         "title": {
          "text": "fit_model_return_elapsed_time"
         },
         "type": "log"
        },
        "legend": {
         "title": {
          "text": "model_nickname"
         },
         "tracegroupgap": 0
        },
        "margin": {
         "t": 60
        }
       },
       "config": {
        "plotlyServerURL": "https://plot.ly"
       }
      },
      "text/html": [
       "<div>                            <div id=\"39eb25a6-44d7-4297-b7e6-9f2bd3fb2ede\" class=\"plotly-graph-div\" style=\"height:525px; width:100%;\"></div>            <script type=\"text/javascript\">                require([\"plotly\"], function(Plotly) {                    window.PLOTLYENV=window.PLOTLYENV || {};                                    if (document.getElementById(\"39eb25a6-44d7-4297-b7e6-9f2bd3fb2ede\")) {                    Plotly.newPlot(                        \"39eb25a6-44d7-4297-b7e6-9f2bd3fb2ede\",                        [{\"hovertemplate\":\"model_nickname=OPTICS\\u003cbr\\u003en_features=%{x}\\u003cbr\\u003efit_model_return_elapsed_time=%{y}\\u003cextra\\u003e\\u003c\\u002fextra\\u003e\",\"legendgroup\":\"OPTICS\",\"line\":{\"color\":\"#636efa\",\"dash\":\"solid\"},\"marker\":{\"symbol\":\"circle\"},\"mode\":\"lines+markers\",\"name\":\"OPTICS\",\"orientation\":\"v\",\"showlegend\":true,\"x\":[100,347,1202,4163,14427,50000],\"xaxis\":\"x\",\"y\":[56.1551320371218,195.71820232272148,676.9673596257344,2243.72188385576,42243.84468270885,65643.0915197921],\"yaxis\":\"y\",\"type\":\"scatter\"},{\"hovertemplate\":\"model_nickname=MeanShift\\u003cbr\\u003en_features=%{x}\\u003cbr\\u003efit_model_return_elapsed_time=%{y}\\u003cextra\\u003e\\u003c\\u002fextra\\u003e\",\"legendgroup\":\"MeanShift\",\"line\":{\"color\":\"#EF553B\",\"dash\":\"dot\"},\"marker\":{\"symbol\":\"circle\"},\"mode\":\"lines+markers\",\"name\":\"MeanShift\",\"orientation\":\"v\",\"showlegend\":true,\"x\":[100,347,1202,4163,14427,50000],\"xaxis\":\"x\",\"y\":[116.31868553021923,322.4290032796562,1033.2180355130695,3582.885516330134,86689.53330129618,null],\"yaxis\":\"y\",\"type\":\"scatter\"},{\"hovertemplate\":\"model_nickname=DBSCAN\\u003cbr\\u003en_features=%{x}\\u003cbr\\u003efit_model_return_elapsed_time=%{y}\\u003cextra\\u003e\\u003c\\u002fextra\\u003e\",\"legendgroup\":\"DBSCAN\",\"line\":{\"color\":\"#00cc96\",\"dash\":\"dash\"},\"marker\":{\"symbol\":\"circle\"},\"mode\":\"lines+markers\",\"name\":\"DBSCAN\",\"orientation\":\"v\",\"showlegend\":true,\"x\":[100,347,1202,4163,14427,50000],\"xaxis\":\"x\",\"y\":[0.6326453969813883,1.624539171345532,5.069345069117844,16.19314087415114,64.52679201774299,239.32877375371754],\"yaxis\":\"y\",\"type\":\"scatter\"},{\"hovertemplate\":\"model_nickname=SpectralSubspaceRandomization\\u003cbr\\u003en_features=%{x}\\u003cbr\\u003efit_model_return_elapsed_time=%{y}\\u003cextra\\u003e\\u003c\\u002fextra\\u003e\",\"legendgroup\":\"SpectralSubspaceRandomization\",\"line\":{\"color\":\"#ab63fa\",\"dash\":\"longdash\"},\"marker\":{\"symbol\":\"circle\"},\"mode\":\"lines+markers\",\"name\":\"SpectralSubspaceRandomization\",\"orientation\":\"v\",\"showlegend\":true,\"x\":[100,347,1202,4163,14427,50000],\"xaxis\":\"x\",\"y\":[6831.591921461746,6812.829081216827,6878.019722459838,7129.926340038888,null,null],\"yaxis\":\"y\",\"type\":\"scatter\"},{\"hovertemplate\":\"model_nickname=AverageAgglomerativeClustering\\u003cbr\\u003en_features=%{x}\\u003cbr\\u003efit_model_return_elapsed_time=%{y}\\u003cextra\\u003e\\u003c\\u002fextra\\u003e\",\"legendgroup\":\"AverageAgglomerativeClustering\",\"line\":{\"color\":\"#FFA15A\",\"dash\":\"dashdot\"},\"marker\":{\"symbol\":\"circle\"},\"mode\":\"lines+markers\",\"name\":\"AverageAgglomerativeClustering\",\"orientation\":\"v\",\"showlegend\":true,\"x\":[100,347,1202,4163,14427,50000],\"xaxis\":\"x\",\"y\":[12.435895307920873,30.69401361932978,80.89398341672495,264.4745646030642,949.0874732863158,3609.734588111285],\"yaxis\":\"y\",\"type\":\"scatter\"},{\"hovertemplate\":\"model_nickname=RecursiveClustering\\u003cbr\\u003en_features=%{x}\\u003cbr\\u003efit_model_return_elapsed_time=%{y}\\u003cextra\\u003e\\u003c\\u002fextra\\u003e\",\"legendgroup\":\"RecursiveClustering\",\"line\":{\"color\":\"#19d3f3\",\"dash\":\"longdashdot\"},\"marker\":{\"symbol\":\"circle\"},\"mode\":\"lines+markers\",\"name\":\"RecursiveClustering\",\"orientation\":\"v\",\"showlegend\":true,\"x\":[100,347,1202,4163,14427,50000],\"xaxis\":\"x\",\"y\":[2.116953680757433,2.5050868480466306,2.6131800981238484,4.498260552063584,7.074277047067881,17.18792238784954],\"yaxis\":\"y\",\"type\":\"scatter\"},{\"hovertemplate\":\"model_nickname=AffinityPropagation\\u003cbr\\u003en_features=%{x}\\u003cbr\\u003efit_model_return_elapsed_time=%{y}\\u003cextra\\u003e\\u003c\\u002fextra\\u003e\",\"legendgroup\":\"AffinityPropagation\",\"line\":{\"color\":\"#FF6692\",\"dash\":\"solid\"},\"marker\":{\"symbol\":\"circle\"},\"mode\":\"lines+markers\",\"name\":\"AffinityPropagation\",\"orientation\":\"v\",\"showlegend\":true,\"x\":[100,347,1202,4163,14427,50000],\"xaxis\":\"x\",\"y\":[1305.4496605228633,1307.9004879873246,1303.966122912243,1298.2232589893974,844.3383482280187,950.1205439330079],\"yaxis\":\"y\",\"type\":\"scatter\"},{\"hovertemplate\":\"model_nickname=SingleAgglomerativeClustering\\u003cbr\\u003en_features=%{x}\\u003cbr\\u003efit_model_return_elapsed_time=%{y}\\u003cextra\\u003e\\u003c\\u002fextra\\u003e\",\"legendgroup\":\"SingleAgglomerativeClustering\",\"line\":{\"color\":\"#B6E880\",\"dash\":\"dot\"},\"marker\":{\"symbol\":\"circle\"},\"mode\":\"lines+markers\",\"name\":\"SingleAgglomerativeClustering\",\"orientation\":\"v\",\"showlegend\":true,\"x\":[100,347,1202,4163,14427,50000],\"xaxis\":\"x\",\"y\":[10.040247300174087,38.155095470137894,129.9758461290039,452.36738394526765,1556.1570713757537,5231.730977918953],\"yaxis\":\"y\",\"type\":\"scatter\"},{\"hovertemplate\":\"model_nickname=KMeansProj\\u003cbr\\u003en_features=%{x}\\u003cbr\\u003efit_model_return_elapsed_time=%{y}\\u003cextra\\u003e\\u003c\\u002fextra\\u003e\",\"legendgroup\":\"KMeansProj\",\"line\":{\"color\":\"#FF97FF\",\"dash\":\"dash\"},\"marker\":{\"symbol\":\"circle\"},\"mode\":\"lines+markers\",\"name\":\"KMeansProj\",\"orientation\":\"v\",\"showlegend\":true,\"x\":[100,347,1202,4163,14427,50000],\"xaxis\":\"x\",\"y\":[19.72925839200616,107.52201802888885,283.98503924626857,3776.3566830898635,null,null],\"yaxis\":\"y\",\"type\":\"scatter\"},{\"hovertemplate\":\"model_nickname=SpectralClustering\\u003cbr\\u003en_features=%{x}\\u003cbr\\u003efit_model_return_elapsed_time=%{y}\\u003cextra\\u003e\\u003c\\u002fextra\\u003e\",\"legendgroup\":\"SpectralClustering\",\"line\":{\"color\":\"#FECB52\",\"dash\":\"longdash\"},\"marker\":{\"symbol\":\"circle\"},\"mode\":\"lines+markers\",\"name\":\"SpectralClustering\",\"orientation\":\"v\",\"showlegend\":true,\"x\":[100,347,1202,4163,14427,50000],\"xaxis\":\"x\",\"y\":[null,null,40.87685772404075,46.67146863043308,63.38605046086013,122.79042468685657],\"yaxis\":\"y\",\"type\":\"scatter\"},{\"hovertemplate\":\"model_nickname=Clique\\u003cbr\\u003en_features=%{x}\\u003cbr\\u003efit_model_return_elapsed_time=%{y}\\u003cextra\\u003e\\u003c\\u002fextra\\u003e\",\"legendgroup\":\"Clique\",\"line\":{\"color\":\"#636efa\",\"dash\":\"dashdot\"},\"marker\":{\"symbol\":\"circle\"},\"mode\":\"lines+markers\",\"name\":\"Clique\",\"orientation\":\"v\",\"showlegend\":true,\"x\":[100,347,1202,4163,14427,50000],\"xaxis\":\"x\",\"y\":[0.7252112696878612,2.4536710716784,8.467757266014814,29.383034309837967,102.58494770992547,353.33163586305454],\"yaxis\":\"y\",\"type\":\"scatter\"},{\"hovertemplate\":\"model_nickname=WardAgglomerativeClustering\\u003cbr\\u003en_features=%{x}\\u003cbr\\u003efit_model_return_elapsed_time=%{y}\\u003cextra\\u003e\\u003c\\u002fextra\\u003e\",\"legendgroup\":\"WardAgglomerativeClustering\",\"line\":{\"color\":\"#EF553B\",\"dash\":\"longdashdot\"},\"marker\":{\"symbol\":\"circle\"},\"mode\":\"lines+markers\",\"name\":\"WardAgglomerativeClustering\",\"orientation\":\"v\",\"showlegend\":true,\"x\":[100,347,1202,4163,14427,50000],\"xaxis\":\"x\",\"y\":[31.15680183377117,71.81289326911792,130.31304786074907,422.5699889129028,1039.8745521595702,3414.9898419631645],\"yaxis\":\"y\",\"type\":\"scatter\"},{\"hovertemplate\":\"model_nickname=IRFLLRR\\u003cbr\\u003en_features=%{x}\\u003cbr\\u003efit_model_return_elapsed_time=%{y}\\u003cextra\\u003e\\u003c\\u002fextra\\u003e\",\"legendgroup\":\"IRFLLRR\",\"line\":{\"color\":\"#00cc96\",\"dash\":\"solid\"},\"marker\":{\"symbol\":\"circle\"},\"mode\":\"lines+markers\",\"name\":\"IRFLLRR\",\"orientation\":\"v\",\"showlegend\":true,\"x\":[100,347,1202,4163,14427,50000],\"xaxis\":\"x\",\"y\":[null,null,null,null,null,null],\"yaxis\":\"y\",\"type\":\"scatter\"},{\"hovertemplate\":\"model_nickname=Proclus\\u003cbr\\u003en_features=%{x}\\u003cbr\\u003efit_model_return_elapsed_time=%{y}\\u003cextra\\u003e\\u003c\\u002fextra\\u003e\",\"legendgroup\":\"Proclus\",\"line\":{\"color\":\"#ab63fa\",\"dash\":\"dot\"},\"marker\":{\"symbol\":\"circle\"},\"mode\":\"lines+markers\",\"name\":\"Proclus\",\"orientation\":\"v\",\"showlegend\":true,\"x\":[100,347,1202,4163,14427,50000],\"xaxis\":\"x\",\"y\":[26.31951997289434,80.73979844525456,193.65103578707203,523.8038224009797,982.8702355371788,3715.840734471567],\"yaxis\":\"y\",\"type\":\"scatter\"},{\"hovertemplate\":\"model_nickname=CompleteAgglomerativeClustering\\u003cbr\\u003en_features=%{x}\\u003cbr\\u003efit_model_return_elapsed_time=%{y}\\u003cextra\\u003e\\u003c\\u002fextra\\u003e\",\"legendgroup\":\"CompleteAgglomerativeClustering\",\"line\":{\"color\":\"#FFA15A\",\"dash\":\"dash\"},\"marker\":{\"symbol\":\"circle\"},\"mode\":\"lines+markers\",\"name\":\"CompleteAgglomerativeClustering\",\"orientation\":\"v\",\"showlegend\":true,\"x\":[100,347,1202,4163,14427,50000],\"xaxis\":\"x\",\"y\":[24.10275136306882,66.01990315830335,129.9806003528647,430.8792737061158,1736.843070722185,5863.426620204002],\"yaxis\":\"y\",\"type\":\"scatter\"},{\"hovertemplate\":\"model_nickname=KMeans\\u003cbr\\u003en_features=%{x}\\u003cbr\\u003efit_model_return_elapsed_time=%{y}\\u003cextra\\u003e\\u003c\\u002fextra\\u003e\",\"legendgroup\":\"KMeans\",\"line\":{\"color\":\"#19d3f3\",\"dash\":\"longdash\"},\"marker\":{\"symbol\":\"circle\"},\"mode\":\"lines+markers\",\"name\":\"KMeans\",\"orientation\":\"v\",\"showlegend\":true,\"x\":[100,347,1202,4163,14427,50000],\"xaxis\":\"x\",\"y\":[0.2519635371863842,0.34503894997760653,0.590611255262047,2.2441787063144147,4.373474506661296,13.37486203899607],\"yaxis\":\"y\",\"type\":\"scatter\"},{\"hovertemplate\":\"model_nickname=HDBSCAN\\u003cbr\\u003en_features=%{x}\\u003cbr\\u003efit_model_return_elapsed_time=%{y}\\u003cextra\\u003e\\u003c\\u002fextra\\u003e\",\"legendgroup\":\"HDBSCAN\",\"line\":{\"color\":\"#FF6692\",\"dash\":\"dashdot\"},\"marker\":{\"symbol\":\"circle\"},\"mode\":\"lines+markers\",\"name\":\"HDBSCAN\",\"orientation\":\"v\",\"showlegend\":true,\"x\":[100,347,1202,4163,14427,50000],\"xaxis\":\"x\",\"y\":[38.87270701210946,114.59050129214302,316.9094292470254,882.9180880105123,null,null],\"yaxis\":\"y\",\"type\":\"scatter\"}],                        {\"template\":{\"data\":{\"histogram2dcontour\":[{\"type\":\"histogram2dcontour\",\"colorbar\":{\"outlinewidth\":0,\"ticks\":\"\"},\"colorscale\":[[0.0,\"#0d0887\"],[0.1111111111111111,\"#46039f\"],[0.2222222222222222,\"#7201a8\"],[0.3333333333333333,\"#9c179e\"],[0.4444444444444444,\"#bd3786\"],[0.5555555555555556,\"#d8576b\"],[0.6666666666666666,\"#ed7953\"],[0.7777777777777778,\"#fb9f3a\"],[0.8888888888888888,\"#fdca26\"],[1.0,\"#f0f921\"]]}],\"choropleth\":[{\"type\":\"choropleth\",\"colorbar\":{\"outlinewidth\":0,\"ticks\":\"\"}}],\"histogram2d\":[{\"type\":\"histogram2d\",\"colorbar\":{\"outlinewidth\":0,\"ticks\":\"\"},\"colorscale\":[[0.0,\"#0d0887\"],[0.1111111111111111,\"#46039f\"],[0.2222222222222222,\"#7201a8\"],[0.3333333333333333,\"#9c179e\"],[0.4444444444444444,\"#bd3786\"],[0.5555555555555556,\"#d8576b\"],[0.6666666666666666,\"#ed7953\"],[0.7777777777777778,\"#fb9f3a\"],[0.8888888888888888,\"#fdca26\"],[1.0,\"#f0f921\"]]}],\"heatmap\":[{\"type\":\"heatmap\",\"colorbar\":{\"outlinewidth\":0,\"ticks\":\"\"},\"colorscale\":[[0.0,\"#0d0887\"],[0.1111111111111111,\"#46039f\"],[0.2222222222222222,\"#7201a8\"],[0.3333333333333333,\"#9c179e\"],[0.4444444444444444,\"#bd3786\"],[0.5555555555555556,\"#d8576b\"],[0.6666666666666666,\"#ed7953\"],[0.7777777777777778,\"#fb9f3a\"],[0.8888888888888888,\"#fdca26\"],[1.0,\"#f0f921\"]]}],\"heatmapgl\":[{\"type\":\"heatmapgl\",\"colorbar\":{\"outlinewidth\":0,\"ticks\":\"\"},\"colorscale\":[[0.0,\"#0d0887\"],[0.1111111111111111,\"#46039f\"],[0.2222222222222222,\"#7201a8\"],[0.3333333333333333,\"#9c179e\"],[0.4444444444444444,\"#bd3786\"],[0.5555555555555556,\"#d8576b\"],[0.6666666666666666,\"#ed7953\"],[0.7777777777777778,\"#fb9f3a\"],[0.8888888888888888,\"#fdca26\"],[1.0,\"#f0f921\"]]}],\"contourcarpet\":[{\"type\":\"contourcarpet\",\"colorbar\":{\"outlinewidth\":0,\"ticks\":\"\"}}],\"contour\":[{\"type\":\"contour\",\"colorbar\":{\"outlinewidth\":0,\"ticks\":\"\"},\"colorscale\":[[0.0,\"#0d0887\"],[0.1111111111111111,\"#46039f\"],[0.2222222222222222,\"#7201a8\"],[0.3333333333333333,\"#9c179e\"],[0.4444444444444444,\"#bd3786\"],[0.5555555555555556,\"#d8576b\"],[0.6666666666666666,\"#ed7953\"],[0.7777777777777778,\"#fb9f3a\"],[0.8888888888888888,\"#fdca26\"],[1.0,\"#f0f921\"]]}],\"surface\":[{\"type\":\"surface\",\"colorbar\":{\"outlinewidth\":0,\"ticks\":\"\"},\"colorscale\":[[0.0,\"#0d0887\"],[0.1111111111111111,\"#46039f\"],[0.2222222222222222,\"#7201a8\"],[0.3333333333333333,\"#9c179e\"],[0.4444444444444444,\"#bd3786\"],[0.5555555555555556,\"#d8576b\"],[0.6666666666666666,\"#ed7953\"],[0.7777777777777778,\"#fb9f3a\"],[0.8888888888888888,\"#fdca26\"],[1.0,\"#f0f921\"]]}],\"mesh3d\":[{\"type\":\"mesh3d\",\"colorbar\":{\"outlinewidth\":0,\"ticks\":\"\"}}],\"scatter\":[{\"marker\":{\"line\":{\"color\":\"#283442\"}},\"type\":\"scatter\"}],\"parcoords\":[{\"type\":\"parcoords\",\"line\":{\"colorbar\":{\"outlinewidth\":0,\"ticks\":\"\"}}}],\"scatterpolargl\":[{\"type\":\"scatterpolargl\",\"marker\":{\"colorbar\":{\"outlinewidth\":0,\"ticks\":\"\"}}}],\"bar\":[{\"error_x\":{\"color\":\"#f2f5fa\"},\"error_y\":{\"color\":\"#f2f5fa\"},\"marker\":{\"line\":{\"color\":\"rgb(17,17,17)\",\"width\":0.5},\"pattern\":{\"fillmode\":\"overlay\",\"size\":10,\"solidity\":0.2}},\"type\":\"bar\"}],\"scattergeo\":[{\"type\":\"scattergeo\",\"marker\":{\"colorbar\":{\"outlinewidth\":0,\"ticks\":\"\"}}}],\"scatterpolar\":[{\"type\":\"scatterpolar\",\"marker\":{\"colorbar\":{\"outlinewidth\":0,\"ticks\":\"\"}}}],\"histogram\":[{\"marker\":{\"pattern\":{\"fillmode\":\"overlay\",\"size\":10,\"solidity\":0.2}},\"type\":\"histogram\"}],\"scattergl\":[{\"marker\":{\"line\":{\"color\":\"#283442\"}},\"type\":\"scattergl\"}],\"scatter3d\":[{\"type\":\"scatter3d\",\"line\":{\"colorbar\":{\"outlinewidth\":0,\"ticks\":\"\"}},\"marker\":{\"colorbar\":{\"outlinewidth\":0,\"ticks\":\"\"}}}],\"scattermapbox\":[{\"type\":\"scattermapbox\",\"marker\":{\"colorbar\":{\"outlinewidth\":0,\"ticks\":\"\"}}}],\"scatterternary\":[{\"type\":\"scatterternary\",\"marker\":{\"colorbar\":{\"outlinewidth\":0,\"ticks\":\"\"}}}],\"scattercarpet\":[{\"type\":\"scattercarpet\",\"marker\":{\"colorbar\":{\"outlinewidth\":0,\"ticks\":\"\"}}}],\"carpet\":[{\"aaxis\":{\"endlinecolor\":\"#A2B1C6\",\"gridcolor\":\"#506784\",\"linecolor\":\"#506784\",\"minorgridcolor\":\"#506784\",\"startlinecolor\":\"#A2B1C6\"},\"baxis\":{\"endlinecolor\":\"#A2B1C6\",\"gridcolor\":\"#506784\",\"linecolor\":\"#506784\",\"minorgridcolor\":\"#506784\",\"startlinecolor\":\"#A2B1C6\"},\"type\":\"carpet\"}],\"table\":[{\"cells\":{\"fill\":{\"color\":\"#506784\"},\"line\":{\"color\":\"rgb(17,17,17)\"}},\"header\":{\"fill\":{\"color\":\"#2a3f5f\"},\"line\":{\"color\":\"rgb(17,17,17)\"}},\"type\":\"table\"}],\"barpolar\":[{\"marker\":{\"line\":{\"color\":\"rgb(17,17,17)\",\"width\":0.5},\"pattern\":{\"fillmode\":\"overlay\",\"size\":10,\"solidity\":0.2}},\"type\":\"barpolar\"}],\"pie\":[{\"automargin\":true,\"type\":\"pie\"}]},\"layout\":{\"autotypenumbers\":\"strict\",\"colorway\":[\"#636efa\",\"#EF553B\",\"#00cc96\",\"#ab63fa\",\"#FFA15A\",\"#19d3f3\",\"#FF6692\",\"#B6E880\",\"#FF97FF\",\"#FECB52\"],\"font\":{\"color\":\"#f2f5fa\"},\"hovermode\":\"closest\",\"hoverlabel\":{\"align\":\"left\"},\"paper_bgcolor\":\"rgb(17,17,17)\",\"plot_bgcolor\":\"rgb(17,17,17)\",\"polar\":{\"bgcolor\":\"rgb(17,17,17)\",\"angularaxis\":{\"gridcolor\":\"#506784\",\"linecolor\":\"#506784\",\"ticks\":\"\"},\"radialaxis\":{\"gridcolor\":\"#506784\",\"linecolor\":\"#506784\",\"ticks\":\"\"}},\"ternary\":{\"bgcolor\":\"rgb(17,17,17)\",\"aaxis\":{\"gridcolor\":\"#506784\",\"linecolor\":\"#506784\",\"ticks\":\"\"},\"baxis\":{\"gridcolor\":\"#506784\",\"linecolor\":\"#506784\",\"ticks\":\"\"},\"caxis\":{\"gridcolor\":\"#506784\",\"linecolor\":\"#506784\",\"ticks\":\"\"}},\"coloraxis\":{\"colorbar\":{\"outlinewidth\":0,\"ticks\":\"\"}},\"colorscale\":{\"sequential\":[[0.0,\"#0d0887\"],[0.1111111111111111,\"#46039f\"],[0.2222222222222222,\"#7201a8\"],[0.3333333333333333,\"#9c179e\"],[0.4444444444444444,\"#bd3786\"],[0.5555555555555556,\"#d8576b\"],[0.6666666666666666,\"#ed7953\"],[0.7777777777777778,\"#fb9f3a\"],[0.8888888888888888,\"#fdca26\"],[1.0,\"#f0f921\"]],\"sequentialminus\":[[0.0,\"#0d0887\"],[0.1111111111111111,\"#46039f\"],[0.2222222222222222,\"#7201a8\"],[0.3333333333333333,\"#9c179e\"],[0.4444444444444444,\"#bd3786\"],[0.5555555555555556,\"#d8576b\"],[0.6666666666666666,\"#ed7953\"],[0.7777777777777778,\"#fb9f3a\"],[0.8888888888888888,\"#fdca26\"],[1.0,\"#f0f921\"]],\"diverging\":[[0,\"#8e0152\"],[0.1,\"#c51b7d\"],[0.2,\"#de77ae\"],[0.3,\"#f1b6da\"],[0.4,\"#fde0ef\"],[0.5,\"#f7f7f7\"],[0.6,\"#e6f5d0\"],[0.7,\"#b8e186\"],[0.8,\"#7fbc41\"],[0.9,\"#4d9221\"],[1,\"#276419\"]]},\"xaxis\":{\"gridcolor\":\"#283442\",\"linecolor\":\"#506784\",\"ticks\":\"\",\"title\":{\"standoff\":15},\"zerolinecolor\":\"#283442\",\"automargin\":true,\"zerolinewidth\":2},\"yaxis\":{\"gridcolor\":\"#283442\",\"linecolor\":\"#506784\",\"ticks\":\"\",\"title\":{\"standoff\":15},\"zerolinecolor\":\"#283442\",\"automargin\":true,\"zerolinewidth\":2},\"scene\":{\"xaxis\":{\"backgroundcolor\":\"rgb(17,17,17)\",\"gridcolor\":\"#506784\",\"linecolor\":\"#506784\",\"showbackground\":true,\"ticks\":\"\",\"zerolinecolor\":\"#C8D4E3\",\"gridwidth\":2},\"yaxis\":{\"backgroundcolor\":\"rgb(17,17,17)\",\"gridcolor\":\"#506784\",\"linecolor\":\"#506784\",\"showbackground\":true,\"ticks\":\"\",\"zerolinecolor\":\"#C8D4E3\",\"gridwidth\":2},\"zaxis\":{\"backgroundcolor\":\"rgb(17,17,17)\",\"gridcolor\":\"#506784\",\"linecolor\":\"#506784\",\"showbackground\":true,\"ticks\":\"\",\"zerolinecolor\":\"#C8D4E3\",\"gridwidth\":2}},\"shapedefaults\":{\"line\":{\"color\":\"#f2f5fa\"}},\"annotationdefaults\":{\"arrowcolor\":\"#f2f5fa\",\"arrowhead\":0,\"arrowwidth\":1},\"geo\":{\"bgcolor\":\"rgb(17,17,17)\",\"landcolor\":\"rgb(17,17,17)\",\"subunitcolor\":\"#506784\",\"showland\":true,\"showlakes\":true,\"lakecolor\":\"rgb(17,17,17)\"},\"title\":{\"x\":0.05},\"updatemenudefaults\":{\"bgcolor\":\"#506784\",\"borderwidth\":0},\"sliderdefaults\":{\"bgcolor\":\"#C8D4E3\",\"borderwidth\":1,\"bordercolor\":\"rgb(17,17,17)\",\"tickwidth\":0},\"mapbox\":{\"style\":\"dark\"}}},\"xaxis\":{\"anchor\":\"y\",\"domain\":[0.0,1.0],\"title\":{\"text\":\"n_features\"},\"type\":\"log\"},\"yaxis\":{\"anchor\":\"x\",\"domain\":[0.0,1.0],\"title\":{\"text\":\"fit_model_return_elapsed_time\"},\"type\":\"log\"},\"legend\":{\"title\":{\"text\":\"model_nickname\"},\"tracegroupgap\":0},\"margin\":{\"t\":60}},                        {\"responsive\": true}                    ).then(function(){\n",
       "                            \n",
       "var gd = document.getElementById('39eb25a6-44d7-4297-b7e6-9f2bd3fb2ede');\n",
       "var x = new MutationObserver(function (mutations, observer) {{\n",
       "        var display = window.getComputedStyle(gd).display;\n",
       "        if (!display || display === 'none') {{\n",
       "            console.log([gd, 'removed!']);\n",
       "            Plotly.purge(gd);\n",
       "            observer.disconnect();\n",
       "        }}\n",
       "}});\n",
       "\n",
       "// Listen for the removal of the full notebook cells\n",
       "var notebookContainer = gd.closest('#notebook-container');\n",
       "if (notebookContainer) {{\n",
       "    x.observe(notebookContainer, {childList: true});\n",
       "}}\n",
       "\n",
       "// Listen for the clearing of the current output cell\n",
       "var outputEl = gd.closest('.output');\n",
       "if (outputEl) {{\n",
       "    x.observe(outputEl, {childList: true});\n",
       "}}\n",
       "\n",
       "                        })                };                });            </script>        </div>"
      ]
     },
     "metadata": {},
     "output_type": "display_data"
    }
   ],
   "execution_count": 39
  },
  {
   "cell_type": "code",
   "id": "2e65cee48f1f1de",
   "metadata": {
    "ExecuteTime": {
     "end_time": "2025-01-30T11:16:26.919845Z",
     "start_time": "2025-01-30T11:16:26.753976Z"
    }
   },
   "source": [
    "df = df_common.copy()\n",
    "n_features = 14427\n",
    "df = df.loc[df['n_features']==n_features]\n",
    "df = df.loc[df['model_nickname'].isin(['RecursiveClustering', 'RecursiveClustering_aproximated', 'KMeans', 'HDBSCAN', 'DBSCAN', 'AffinityPropagation', 'OPTICS', 'SpectralSubspaceRandomization', 'WardAgglomerativeClustering'])]\n",
    "models_names = {\n",
    "    'RecursiveClustering': 'CoHiRF',\n",
    "    'RecursiveClustering_rbf': 'CoHiRF-RBF',\n",
    "    'RecursiveClustering_aproximated': 'CoHiRF-1000',\n",
    "    'KMeans': 'K-Means',\n",
    "    'HDBSCAN': 'HDBSCAN',\n",
    "    'DBSCAN': 'DBSCAN',\n",
    "    'AffinityPropagation': 'Affinity Propagation',\n",
    "    'OPTICS': 'OPTICS',\n",
    "    'SpectralSubspaceRandomization': 'SC-SRGF',\n",
    "    'WardAgglomerativeClustering': \"Ward's Method\",\n",
    "}\n",
    "df = df.replace({'model_nickname': models_names})\n",
    "df = df.sort_values(by=['model_nickname', 'n_samples'])\n",
    "df = df.rename(columns={'fit_model_return_elapsed_time': 'Time (s)', 'max_memory_used': 'Memory (MB)', 'n_samples': 'Number of samples', 'n_features': 'Number of features', 'model_nickname': 'Model'})\n",
    "fig = px.line(df, x='Number of samples', y='Time (s)', color='Model', line_dash='Model', log_x=True, log_y=True, markers=True, template='presentation', \n",
    "              category_orders={'Model': ['RecursiveClustering', 'KMeans', 'HDBSCAN', 'DBSCAN', 'AffinityPropagation', 'OPTICS', 'SpectralSubspaceRandomization', 'WardAgglomerativeClustering']})\n",
    "# # transparent background\n",
    "fig.update_layout({\n",
    "    'font': {\n",
    "        'color': 'black',\n",
    "        'size': 15\n",
    "    },\n",
    "    'xaxis': {\n",
    "        'color': 'black',\n",
    "        'title': {'standoff': 15},\n",
    "    }, \n",
    "    'yaxis': {\n",
    "        'color': 'black',\n",
    "    },\n",
    "    'margin': {\n",
    "        't': 10,\n",
    "        'b': 50,\n",
    "        'l': 50,\n",
    "        'r': 30,\n",
    "    },\n",
    "    'legend': {\n",
    "        'orientation': 'h',\n",
    "        'yanchor': 'bottom',\n",
    "        'y': 1.02,\n",
    "        'xanchor': 'left',\n",
    "        'x': 0.01,\n",
    "        'title': {'text': ''}\n",
    "    }\n",
    "})\n",
    "fig.update_xaxes(showline=True, mirror=True, dtick='D2')\n",
    "fig.update_yaxes(showline=True, mirror=True, dtick='D2')\n",
    "fig.show()\n",
    "fig.write_image(f'time_n-samples_n-features{n_features}.pdf')"
   ],
   "outputs": [
    {
     "data": {
      "application/vnd.plotly.v1+json": {
       "data": [
        {
         "hovertemplate": "Model=HDBSCAN<br>Number of samples=%{x}<br>Time (s)=%{y}<extra></extra>",
         "legendgroup": "HDBSCAN",
         "line": {
          "color": "#2CA02C",
          "dash": "dash"
         },
         "marker": {
          "symbol": "circle"
         },
         "mode": "lines+markers",
         "name": "HDBSCAN",
         "orientation": "v",
         "showlegend": true,
         "x": [
          100,
          347,
          1202,
          4163,
          14427,
          50000
         ],
         "xaxis": "x",
         "y": [
          1.4807086270302534,
          7.820252540986985,
          30.665402431041002,
          319.4356659920886,
          null,
          null
         ],
         "yaxis": "y",
         "type": "scatter"
        },
        {
         "hovertemplate": "Model=DBSCAN<br>Number of samples=%{x}<br>Time (s)=%{y}<extra></extra>",
         "legendgroup": "DBSCAN",
         "line": {
          "color": "#D62728",
          "dash": "longdash"
         },
         "marker": {
          "symbol": "circle"
         },
         "mode": "lines+markers",
         "name": "DBSCAN",
         "orientation": "v",
         "showlegend": true,
         "x": [
          100,
          347,
          1202,
          4163,
          14427,
          50000
         ],
         "xaxis": "x",
         "y": [
          0.08385901991277933,
          0.1193258729763329,
          0.6943527217954397,
          5.642886382061988,
          64.52679201774299,
          688.1563758817501
         ],
         "yaxis": "y",
         "type": "scatter"
        },
        {
         "hovertemplate": "Model=OPTICS<br>Number of samples=%{x}<br>Time (s)=%{y}<extra></extra>",
         "legendgroup": "OPTICS",
         "line": {
          "color": "#8C564B",
          "dash": "longdashdot"
         },
         "marker": {
          "symbol": "circle"
         },
         "mode": "lines+markers",
         "name": "OPTICS",
         "orientation": "v",
         "showlegend": true,
         "x": [
          100,
          347,
          1202,
          4163,
          14427,
          50000
         ],
         "xaxis": "x",
         "y": [
          21.081355320755392,
          110.46083682309836,
          584.7964469450526,
          4347.481262045912,
          42243.84468270885,
          null
         ],
         "yaxis": "y",
         "type": "scatter"
        },
        {
         "hovertemplate": "Model=Affinity Propagation<br>Number of samples=%{x}<br>Time (s)=%{y}<extra></extra>",
         "legendgroup": "Affinity Propagation",
         "line": {
          "color": "#BCBD22",
          "dash": "dash"
         },
         "marker": {
          "symbol": "circle"
         },
         "mode": "lines+markers",
         "name": "Affinity Propagation",
         "orientation": "v",
         "showlegend": true,
         "x": [
          100,
          347,
          1202,
          4163,
          14427,
          50000
         ],
         "xaxis": "x",
         "y": [
          0.09950848761945963,
          0.6427752072922885,
          31.760947484057397,
          94.03067388338968,
          844.3383482280187,
          null
         ],
         "yaxis": "y",
         "type": "scatter"
        },
        {
         "hovertemplate": "Model=CoHiRF<br>Number of samples=%{x}<br>Time (s)=%{y}<extra></extra>",
         "legendgroup": "CoHiRF",
         "line": {
          "color": "#17BECF",
          "dash": "longdash"
         },
         "marker": {
          "symbol": "circle"
         },
         "mode": "lines+markers",
         "name": "CoHiRF",
         "orientation": "v",
         "showlegend": true,
         "x": [
          100,
          347,
          1202,
          4163,
          14427,
          50000
         ],
         "xaxis": "x",
         "y": [
          0.10841437382623553,
          0.34823574032634497,
          0.5764954602345824,
          1.54515857482329,
          7.074277047067881,
          47.4107681219466
         ],
         "yaxis": "y",
         "type": "scatter"
        },
        {
         "hovertemplate": "Model=CoHiRF-1000<br>Number of samples=%{x}<br>Time (s)=%{y}<extra></extra>",
         "legendgroup": "CoHiRF-1000",
         "line": {
          "color": "#1F77B4",
          "dash": "dashdot"
         },
         "marker": {
          "symbol": "circle"
         },
         "mode": "lines+markers",
         "name": "CoHiRF-1000",
         "orientation": "v",
         "showlegend": true,
         "x": [
          100,
          347,
          1202,
          4163,
          14427,
          50000
         ],
         "xaxis": "x",
         "y": [
          2.949199433904141,
          0.34880751511082053,
          0.825924898032099,
          2.632816767320037,
          4.914987555705011,
          14.662524702958763
         ],
         "yaxis": "y",
         "type": "scatter"
        },
        {
         "hovertemplate": "Model=K-Means<br>Number of samples=%{x}<br>Time (s)=%{y}<extra></extra>",
         "legendgroup": "K-Means",
         "line": {
          "color": "#FF7F0E",
          "dash": "longdashdot"
         },
         "marker": {
          "symbol": "circle"
         },
         "mode": "lines+markers",
         "name": "K-Means",
         "orientation": "v",
         "showlegend": true,
         "x": [
          100,
          347,
          1202,
          4163,
          14427,
          50000
         ],
         "xaxis": "x",
         "y": [
          0.05158607801422477,
          1.4208350228145719,
          0.4804870071820915,
          1.0111704710870981,
          4.373474506661296,
          25.801226657815278
         ],
         "yaxis": "y",
         "type": "scatter"
        },
        {
         "hovertemplate": "Model=SC-SRGF<br>Number of samples=%{x}<br>Time (s)=%{y}<extra></extra>",
         "legendgroup": "SC-SRGF",
         "line": {
          "color": "#2CA02C",
          "dash": "solid"
         },
         "marker": {
          "symbol": "circle"
         },
         "mode": "lines+markers",
         "name": "SC-SRGF",
         "orientation": "v",
         "showlegend": true,
         "x": [
          100,
          347,
          1202,
          4163,
          14427,
          50000
         ],
         "xaxis": "x",
         "y": [
          1.0950484122149646,
          7.564164415933192,
          61.02115531498566,
          748.887991102878,
          null,
          null
         ],
         "yaxis": "y",
         "type": "scatter"
        },
        {
         "hovertemplate": "Model=Ward's Method<br>Number of samples=%{x}<br>Time (s)=%{y}<extra></extra>",
         "legendgroup": "Ward's Method",
         "line": {
          "color": "#D62728",
          "dash": "dot"
         },
         "marker": {
          "symbol": "circle"
         },
         "mode": "lines+markers",
         "name": "Ward's Method",
         "orientation": "v",
         "showlegend": true,
         "x": [
          100,
          347,
          1202,
          4163,
          14427,
          50000
         ],
         "xaxis": "x",
         "y": [
          0.39669684832915664,
          0.766875202767551,
          10.018436203245074,
          125.34407827584073,
          1039.8745521595702,
          null
         ],
         "yaxis": "y",
         "type": "scatter"
        }
       ],
       "layout": {
        "template": {
         "data": {
          "pie": [
           {
            "automargin": true,
            "type": "pie"
           }
          ],
          "scatter3d": [
           {
            "line": {
             "width": 3
            },
            "marker": {
             "size": 9
            },
            "type": "scatter3d"
           }
          ],
          "scattergeo": [
           {
            "line": {
             "width": 3
            },
            "marker": {
             "size": 9
            },
            "type": "scattergeo"
           }
          ],
          "scattergl": [
           {
            "line": {
             "width": 3
            },
            "marker": {
             "size": 9
            },
            "type": "scattergl"
           }
          ],
          "scatterpolargl": [
           {
            "line": {
             "width": 3
            },
            "marker": {
             "size": 9
            },
            "type": "scatterpolargl"
           }
          ],
          "scatterpolar": [
           {
            "line": {
             "width": 3
            },
            "marker": {
             "size": 9
            },
            "type": "scatterpolar"
           }
          ],
          "scatter": [
           {
            "line": {
             "width": 3
            },
            "marker": {
             "size": 9
            },
            "type": "scatter"
           }
          ],
          "scatterternary": [
           {
            "line": {
             "width": 3
            },
            "marker": {
             "size": 9
            },
            "type": "scatterternary"
           }
          ],
          "table": [
           {
            "cells": {
             "height": 30
            },
            "header": {
             "height": 36
            },
            "type": "table"
           }
          ]
         },
         "layout": {
          "font": {
           "size": 18
          },
          "xaxis": {
           "title": {
            "standoff": 15
           }
          },
          "yaxis": {
           "title": {
            "standoff": 15
           }
          }
         }
        },
        "xaxis": {
         "anchor": "y",
         "domain": [
          0.0,
          1.0
         ],
         "title": {
          "text": "Number of samples",
          "standoff": 15
         },
         "type": "log",
         "color": "black",
         "showline": true,
         "mirror": true,
         "dtick": "D2"
        },
        "yaxis": {
         "anchor": "x",
         "domain": [
          0.0,
          1.0
         ],
         "title": {
          "text": "Time (s)"
         },
         "type": "log",
         "color": "black",
         "showline": true,
         "mirror": true,
         "dtick": "D2"
        },
        "legend": {
         "title": {
          "text": ""
         },
         "tracegroupgap": 0,
         "orientation": "h",
         "yanchor": "bottom",
         "y": 1.02,
         "xanchor": "left",
         "x": 0.01
        },
        "margin": {
         "t": 10,
         "b": 50,
         "l": 50,
         "r": 30
        },
        "font": {
         "color": "black",
         "size": 15
        }
       },
       "config": {
        "plotlyServerURL": "https://plot.ly"
       }
      },
      "text/html": [
       "<div>                            <div id=\"38606df9-c486-4cba-a7a7-aba97cf7fd37\" class=\"plotly-graph-div\" style=\"height:525px; width:100%;\"></div>            <script type=\"text/javascript\">                require([\"plotly\"], function(Plotly) {                    window.PLOTLYENV=window.PLOTLYENV || {};                                    if (document.getElementById(\"38606df9-c486-4cba-a7a7-aba97cf7fd37\")) {                    Plotly.newPlot(                        \"38606df9-c486-4cba-a7a7-aba97cf7fd37\",                        [{\"hovertemplate\":\"Model=HDBSCAN\\u003cbr\\u003eNumber of samples=%{x}\\u003cbr\\u003eTime (s)=%{y}\\u003cextra\\u003e\\u003c\\u002fextra\\u003e\",\"legendgroup\":\"HDBSCAN\",\"line\":{\"color\":\"#2CA02C\",\"dash\":\"dash\"},\"marker\":{\"symbol\":\"circle\"},\"mode\":\"lines+markers\",\"name\":\"HDBSCAN\",\"orientation\":\"v\",\"showlegend\":true,\"x\":[100,347,1202,4163,14427,50000],\"xaxis\":\"x\",\"y\":[1.4807086270302534,7.820252540986985,30.665402431041002,319.4356659920886,null,null],\"yaxis\":\"y\",\"type\":\"scatter\"},{\"hovertemplate\":\"Model=DBSCAN\\u003cbr\\u003eNumber of samples=%{x}\\u003cbr\\u003eTime (s)=%{y}\\u003cextra\\u003e\\u003c\\u002fextra\\u003e\",\"legendgroup\":\"DBSCAN\",\"line\":{\"color\":\"#D62728\",\"dash\":\"longdash\"},\"marker\":{\"symbol\":\"circle\"},\"mode\":\"lines+markers\",\"name\":\"DBSCAN\",\"orientation\":\"v\",\"showlegend\":true,\"x\":[100,347,1202,4163,14427,50000],\"xaxis\":\"x\",\"y\":[0.08385901991277933,0.1193258729763329,0.6943527217954397,5.642886382061988,64.52679201774299,688.1563758817501],\"yaxis\":\"y\",\"type\":\"scatter\"},{\"hovertemplate\":\"Model=OPTICS\\u003cbr\\u003eNumber of samples=%{x}\\u003cbr\\u003eTime (s)=%{y}\\u003cextra\\u003e\\u003c\\u002fextra\\u003e\",\"legendgroup\":\"OPTICS\",\"line\":{\"color\":\"#8C564B\",\"dash\":\"longdashdot\"},\"marker\":{\"symbol\":\"circle\"},\"mode\":\"lines+markers\",\"name\":\"OPTICS\",\"orientation\":\"v\",\"showlegend\":true,\"x\":[100,347,1202,4163,14427,50000],\"xaxis\":\"x\",\"y\":[21.081355320755392,110.46083682309836,584.7964469450526,4347.481262045912,42243.84468270885,null],\"yaxis\":\"y\",\"type\":\"scatter\"},{\"hovertemplate\":\"Model=Affinity Propagation\\u003cbr\\u003eNumber of samples=%{x}\\u003cbr\\u003eTime (s)=%{y}\\u003cextra\\u003e\\u003c\\u002fextra\\u003e\",\"legendgroup\":\"Affinity Propagation\",\"line\":{\"color\":\"#BCBD22\",\"dash\":\"dash\"},\"marker\":{\"symbol\":\"circle\"},\"mode\":\"lines+markers\",\"name\":\"Affinity Propagation\",\"orientation\":\"v\",\"showlegend\":true,\"x\":[100,347,1202,4163,14427,50000],\"xaxis\":\"x\",\"y\":[0.09950848761945963,0.6427752072922885,31.760947484057397,94.03067388338968,844.3383482280187,null],\"yaxis\":\"y\",\"type\":\"scatter\"},{\"hovertemplate\":\"Model=CoHiRF\\u003cbr\\u003eNumber of samples=%{x}\\u003cbr\\u003eTime (s)=%{y}\\u003cextra\\u003e\\u003c\\u002fextra\\u003e\",\"legendgroup\":\"CoHiRF\",\"line\":{\"color\":\"#17BECF\",\"dash\":\"longdash\"},\"marker\":{\"symbol\":\"circle\"},\"mode\":\"lines+markers\",\"name\":\"CoHiRF\",\"orientation\":\"v\",\"showlegend\":true,\"x\":[100,347,1202,4163,14427,50000],\"xaxis\":\"x\",\"y\":[0.10841437382623553,0.34823574032634497,0.5764954602345824,1.54515857482329,7.074277047067881,47.4107681219466],\"yaxis\":\"y\",\"type\":\"scatter\"},{\"hovertemplate\":\"Model=CoHiRF-1000\\u003cbr\\u003eNumber of samples=%{x}\\u003cbr\\u003eTime (s)=%{y}\\u003cextra\\u003e\\u003c\\u002fextra\\u003e\",\"legendgroup\":\"CoHiRF-1000\",\"line\":{\"color\":\"#1F77B4\",\"dash\":\"dashdot\"},\"marker\":{\"symbol\":\"circle\"},\"mode\":\"lines+markers\",\"name\":\"CoHiRF-1000\",\"orientation\":\"v\",\"showlegend\":true,\"x\":[100,347,1202,4163,14427,50000],\"xaxis\":\"x\",\"y\":[2.949199433904141,0.34880751511082053,0.825924898032099,2.632816767320037,4.914987555705011,14.662524702958763],\"yaxis\":\"y\",\"type\":\"scatter\"},{\"hovertemplate\":\"Model=K-Means\\u003cbr\\u003eNumber of samples=%{x}\\u003cbr\\u003eTime (s)=%{y}\\u003cextra\\u003e\\u003c\\u002fextra\\u003e\",\"legendgroup\":\"K-Means\",\"line\":{\"color\":\"#FF7F0E\",\"dash\":\"longdashdot\"},\"marker\":{\"symbol\":\"circle\"},\"mode\":\"lines+markers\",\"name\":\"K-Means\",\"orientation\":\"v\",\"showlegend\":true,\"x\":[100,347,1202,4163,14427,50000],\"xaxis\":\"x\",\"y\":[0.05158607801422477,1.4208350228145719,0.4804870071820915,1.0111704710870981,4.373474506661296,25.801226657815278],\"yaxis\":\"y\",\"type\":\"scatter\"},{\"hovertemplate\":\"Model=SC-SRGF\\u003cbr\\u003eNumber of samples=%{x}\\u003cbr\\u003eTime (s)=%{y}\\u003cextra\\u003e\\u003c\\u002fextra\\u003e\",\"legendgroup\":\"SC-SRGF\",\"line\":{\"color\":\"#2CA02C\",\"dash\":\"solid\"},\"marker\":{\"symbol\":\"circle\"},\"mode\":\"lines+markers\",\"name\":\"SC-SRGF\",\"orientation\":\"v\",\"showlegend\":true,\"x\":[100,347,1202,4163,14427,50000],\"xaxis\":\"x\",\"y\":[1.0950484122149646,7.564164415933192,61.02115531498566,748.887991102878,null,null],\"yaxis\":\"y\",\"type\":\"scatter\"},{\"hovertemplate\":\"Model=Ward's Method\\u003cbr\\u003eNumber of samples=%{x}\\u003cbr\\u003eTime (s)=%{y}\\u003cextra\\u003e\\u003c\\u002fextra\\u003e\",\"legendgroup\":\"Ward's Method\",\"line\":{\"color\":\"#D62728\",\"dash\":\"dot\"},\"marker\":{\"symbol\":\"circle\"},\"mode\":\"lines+markers\",\"name\":\"Ward's Method\",\"orientation\":\"v\",\"showlegend\":true,\"x\":[100,347,1202,4163,14427,50000],\"xaxis\":\"x\",\"y\":[0.39669684832915664,0.766875202767551,10.018436203245074,125.34407827584073,1039.8745521595702,null],\"yaxis\":\"y\",\"type\":\"scatter\"}],                        {\"template\":{\"data\":{\"pie\":[{\"automargin\":true,\"type\":\"pie\"}],\"scatter3d\":[{\"line\":{\"width\":3},\"marker\":{\"size\":9},\"type\":\"scatter3d\"}],\"scattergeo\":[{\"line\":{\"width\":3},\"marker\":{\"size\":9},\"type\":\"scattergeo\"}],\"scattergl\":[{\"line\":{\"width\":3},\"marker\":{\"size\":9},\"type\":\"scattergl\"}],\"scatterpolargl\":[{\"line\":{\"width\":3},\"marker\":{\"size\":9},\"type\":\"scatterpolargl\"}],\"scatterpolar\":[{\"line\":{\"width\":3},\"marker\":{\"size\":9},\"type\":\"scatterpolar\"}],\"scatter\":[{\"line\":{\"width\":3},\"marker\":{\"size\":9},\"type\":\"scatter\"}],\"scatterternary\":[{\"line\":{\"width\":3},\"marker\":{\"size\":9},\"type\":\"scatterternary\"}],\"table\":[{\"cells\":{\"height\":30},\"header\":{\"height\":36},\"type\":\"table\"}]},\"layout\":{\"font\":{\"size\":18},\"xaxis\":{\"title\":{\"standoff\":15}},\"yaxis\":{\"title\":{\"standoff\":15}}}},\"xaxis\":{\"anchor\":\"y\",\"domain\":[0.0,1.0],\"title\":{\"text\":\"Number of samples\",\"standoff\":15},\"type\":\"log\",\"color\":\"black\",\"showline\":true,\"mirror\":true,\"dtick\":\"D2\"},\"yaxis\":{\"anchor\":\"x\",\"domain\":[0.0,1.0],\"title\":{\"text\":\"Time (s)\"},\"type\":\"log\",\"color\":\"black\",\"showline\":true,\"mirror\":true,\"dtick\":\"D2\"},\"legend\":{\"title\":{\"text\":\"\"},\"tracegroupgap\":0,\"orientation\":\"h\",\"yanchor\":\"bottom\",\"y\":1.02,\"xanchor\":\"left\",\"x\":0.01},\"margin\":{\"t\":10,\"b\":50,\"l\":50,\"r\":30},\"font\":{\"color\":\"black\",\"size\":15}},                        {\"responsive\": true}                    ).then(function(){\n",
       "                            \n",
       "var gd = document.getElementById('38606df9-c486-4cba-a7a7-aba97cf7fd37');\n",
       "var x = new MutationObserver(function (mutations, observer) {{\n",
       "        var display = window.getComputedStyle(gd).display;\n",
       "        if (!display || display === 'none') {{\n",
       "            console.log([gd, 'removed!']);\n",
       "            Plotly.purge(gd);\n",
       "            observer.disconnect();\n",
       "        }}\n",
       "}});\n",
       "\n",
       "// Listen for the removal of the full notebook cells\n",
       "var notebookContainer = gd.closest('#notebook-container');\n",
       "if (notebookContainer) {{\n",
       "    x.observe(notebookContainer, {childList: true});\n",
       "}}\n",
       "\n",
       "// Listen for the clearing of the current output cell\n",
       "var outputEl = gd.closest('.output');\n",
       "if (outputEl) {{\n",
       "    x.observe(outputEl, {childList: true});\n",
       "}}\n",
       "\n",
       "                        })                };                });            </script>        </div>"
      ]
     },
     "metadata": {},
     "output_type": "display_data"
    }
   ],
   "execution_count": 92
  },
  {
   "metadata": {
    "ExecuteTime": {
     "end_time": "2025-01-30T11:16:52.517893Z",
     "start_time": "2025-01-30T11:16:52.366415Z"
    }
   },
   "cell_type": "code",
   "source": [
    "df = df_common.copy()\n",
    "n_samples = 14427\n",
    "df = df.loc[df['n_samples']==n_samples]\n",
    "df = df.loc[df['model_nickname'].isin(['RecursiveClustering', 'RecursiveClustering_aproximated', 'KMeans', 'HDBSCAN', 'DBSCAN', 'AffinityPropagation', 'OPTICS', 'SpectralSubspaceRandomization', 'WardAgglomerativeClustering'])]\n",
    "models_names = {\n",
    "    'RecursiveClustering': 'CoHiRF',\n",
    "    'RecursiveClustering_rbf': 'CoHiRF-RBF',\n",
    "    'RecursiveClustering_aproximated': 'CoHiRF-1000',\n",
    "    'KMeans': 'K-Means',\n",
    "    'HDBSCAN': 'HDBSCAN',\n",
    "    'DBSCAN': 'DBSCAN',\n",
    "    'AffinityPropagation': 'Affinity Propagation',\n",
    "    'OPTICS': 'OPTICS',\n",
    "    'SpectralSubspaceRandomization': 'SC-SRGF',\n",
    "    'WardAgglomerativeClustering': \"Ward's Method\",\n",
    "}\n",
    "df = df.replace({'model_nickname': models_names})\n",
    "df = df.sort_values(by=['model_nickname', 'n_features'])\n",
    "df = df.rename(columns={'fit_model_return_elapsed_time': 'Time (s)', 'max_memory_used': 'Memory (MB)', 'n_samples': 'Number of samples', 'n_features': 'Number of features', 'model_nickname': 'Model'})\n",
    "fig = px.line(df, x='Number of features', y='Time (s)', color='Model', line_dash='Model', log_x=True, log_y=True, markers=True, template='presentation',\n",
    "              category_orders={'Model': ['RecursiveClustering', 'KMeans', 'HDBSCAN', 'DBSCAN', 'AffinityPropagation', 'OPTICS', 'SpectralSubspaceRandomization', 'WardAgglomerativeClustering']})\n",
    "# # transparent background\n",
    "fig.update_layout({\n",
    "    'font': {\n",
    "        'color': 'black',\n",
    "        'size': 15\n",
    "    },\n",
    "    'xaxis': {\n",
    "        'color': 'black',\n",
    "        'title': {'standoff': 15},\n",
    "    }, \n",
    "    'yaxis': {\n",
    "        'color': 'black',\n",
    "    },\n",
    "    'margin': {\n",
    "        't': 10,\n",
    "        'b': 50,\n",
    "        'l': 50,\n",
    "        'r': 30,\n",
    "    },\n",
    "    'legend': {\n",
    "        'orientation': 'h',\n",
    "        'yanchor': 'bottom',\n",
    "        'y': 1.02,\n",
    "        'xanchor': 'left',\n",
    "        'x': 0.01,\n",
    "        'title': {'text': ''}\n",
    "    }\n",
    "})\n",
    "fig.update_xaxes(showline=True, mirror=True, dtick='D2')\n",
    "fig.update_yaxes(showline=True, mirror=True, dtick='D2')\n",
    "fig.show()\n",
    "fig.write_image(f'time_n-features_n-samples{n_samples}.pdf')"
   ],
   "id": "4c6e7459603a2bef",
   "outputs": [
    {
     "data": {
      "application/vnd.plotly.v1+json": {
       "data": [
        {
         "hovertemplate": "Model=HDBSCAN<br>Number of features=%{x}<br>Time (s)=%{y}<extra></extra>",
         "legendgroup": "HDBSCAN",
         "line": {
          "color": "#2CA02C",
          "dash": "dash"
         },
         "marker": {
          "symbol": "circle"
         },
         "mode": "lines+markers",
         "name": "HDBSCAN",
         "orientation": "v",
         "showlegend": true,
         "x": [
          100,
          347,
          1202,
          4163,
          14427,
          50000
         ],
         "xaxis": "x",
         "y": [
          38.87270701210946,
          114.59050129214302,
          316.9094292470254,
          882.9180880105123,
          null,
          null
         ],
         "yaxis": "y",
         "type": "scatter"
        },
        {
         "hovertemplate": "Model=DBSCAN<br>Number of features=%{x}<br>Time (s)=%{y}<extra></extra>",
         "legendgroup": "DBSCAN",
         "line": {
          "color": "#D62728",
          "dash": "longdash"
         },
         "marker": {
          "symbol": "circle"
         },
         "mode": "lines+markers",
         "name": "DBSCAN",
         "orientation": "v",
         "showlegend": true,
         "x": [
          100,
          347,
          1202,
          4163,
          14427,
          50000
         ],
         "xaxis": "x",
         "y": [
          0.6326453969813883,
          1.624539171345532,
          5.069345069117844,
          16.19314087415114,
          64.52679201774299,
          239.32877375371754
         ],
         "yaxis": "y",
         "type": "scatter"
        },
        {
         "hovertemplate": "Model=OPTICS<br>Number of features=%{x}<br>Time (s)=%{y}<extra></extra>",
         "legendgroup": "OPTICS",
         "line": {
          "color": "#8C564B",
          "dash": "longdashdot"
         },
         "marker": {
          "symbol": "circle"
         },
         "mode": "lines+markers",
         "name": "OPTICS",
         "orientation": "v",
         "showlegend": true,
         "x": [
          100,
          347,
          1202,
          4163,
          14427,
          50000
         ],
         "xaxis": "x",
         "y": [
          56.1551320371218,
          195.71820232272148,
          676.9673596257344,
          2243.72188385576,
          42243.84468270885,
          65643.0915197921
         ],
         "yaxis": "y",
         "type": "scatter"
        },
        {
         "hovertemplate": "Model=Affinity Propagation<br>Number of features=%{x}<br>Time (s)=%{y}<extra></extra>",
         "legendgroup": "Affinity Propagation",
         "line": {
          "color": "#BCBD22",
          "dash": "dash"
         },
         "marker": {
          "symbol": "circle"
         },
         "mode": "lines+markers",
         "name": "Affinity Propagation",
         "orientation": "v",
         "showlegend": true,
         "x": [
          100,
          347,
          1202,
          4163,
          14427,
          50000
         ],
         "xaxis": "x",
         "y": [
          1305.4496605228633,
          1307.9004879873246,
          1303.966122912243,
          1298.2232589893974,
          844.3383482280187,
          950.1205439330079
         ],
         "yaxis": "y",
         "type": "scatter"
        },
        {
         "hovertemplate": "Model=CoHiRF<br>Number of features=%{x}<br>Time (s)=%{y}<extra></extra>",
         "legendgroup": "CoHiRF",
         "line": {
          "color": "#17BECF",
          "dash": "longdash"
         },
         "marker": {
          "symbol": "circle"
         },
         "mode": "lines+markers",
         "name": "CoHiRF",
         "orientation": "v",
         "showlegend": true,
         "x": [
          100,
          347,
          1202,
          4163,
          14427,
          50000
         ],
         "xaxis": "x",
         "y": [
          2.116953680757433,
          2.5050868480466306,
          2.6131800981238484,
          4.498260552063584,
          7.074277047067881,
          17.18792238784954
         ],
         "yaxis": "y",
         "type": "scatter"
        },
        {
         "hovertemplate": "Model=CoHiRF-1000<br>Number of features=%{x}<br>Time (s)=%{y}<extra></extra>",
         "legendgroup": "CoHiRF-1000",
         "line": {
          "color": "#1F77B4",
          "dash": "dashdot"
         },
         "marker": {
          "symbol": "circle"
         },
         "mode": "lines+markers",
         "name": "CoHiRF-1000",
         "orientation": "v",
         "showlegend": true,
         "x": [
          100,
          347,
          1202,
          4163,
          14427,
          50000
         ],
         "xaxis": "x",
         "y": [
          0.3989166631363332,
          0.39410308422520757,
          0.5588506641797721,
          2.2244459870271385,
          4.914987555705011,
          14.344671838916838
         ],
         "yaxis": "y",
         "type": "scatter"
        },
        {
         "hovertemplate": "Model=K-Means<br>Number of features=%{x}<br>Time (s)=%{y}<extra></extra>",
         "legendgroup": "K-Means",
         "line": {
          "color": "#FF7F0E",
          "dash": "longdashdot"
         },
         "marker": {
          "symbol": "circle"
         },
         "mode": "lines+markers",
         "name": "K-Means",
         "orientation": "v",
         "showlegend": true,
         "x": [
          100,
          347,
          1202,
          4163,
          14427,
          50000
         ],
         "xaxis": "x",
         "y": [
          0.2519635371863842,
          0.34503894997760653,
          0.590611255262047,
          2.2441787063144147,
          4.373474506661296,
          13.37486203899607
         ],
         "yaxis": "y",
         "type": "scatter"
        },
        {
         "hovertemplate": "Model=SC-SRGF<br>Number of features=%{x}<br>Time (s)=%{y}<extra></extra>",
         "legendgroup": "SC-SRGF",
         "line": {
          "color": "#2CA02C",
          "dash": "solid"
         },
         "marker": {
          "symbol": "circle"
         },
         "mode": "lines+markers",
         "name": "SC-SRGF",
         "orientation": "v",
         "showlegend": true,
         "x": [
          100,
          347,
          1202,
          4163,
          14427,
          50000
         ],
         "xaxis": "x",
         "y": [
          6831.591921461746,
          6812.829081216827,
          6878.019722459838,
          7129.926340038888,
          null,
          null
         ],
         "yaxis": "y",
         "type": "scatter"
        },
        {
         "hovertemplate": "Model=Ward's Method<br>Number of features=%{x}<br>Time (s)=%{y}<extra></extra>",
         "legendgroup": "Ward's Method",
         "line": {
          "color": "#D62728",
          "dash": "dot"
         },
         "marker": {
          "symbol": "circle"
         },
         "mode": "lines+markers",
         "name": "Ward's Method",
         "orientation": "v",
         "showlegend": true,
         "x": [
          100,
          347,
          1202,
          4163,
          14427,
          50000
         ],
         "xaxis": "x",
         "y": [
          31.15680183377117,
          71.81289326911792,
          130.31304786074907,
          422.5699889129028,
          1039.8745521595702,
          3414.9898419631645
         ],
         "yaxis": "y",
         "type": "scatter"
        }
       ],
       "layout": {
        "template": {
         "data": {
          "pie": [
           {
            "automargin": true,
            "type": "pie"
           }
          ],
          "scatter3d": [
           {
            "line": {
             "width": 3
            },
            "marker": {
             "size": 9
            },
            "type": "scatter3d"
           }
          ],
          "scattergeo": [
           {
            "line": {
             "width": 3
            },
            "marker": {
             "size": 9
            },
            "type": "scattergeo"
           }
          ],
          "scattergl": [
           {
            "line": {
             "width": 3
            },
            "marker": {
             "size": 9
            },
            "type": "scattergl"
           }
          ],
          "scatterpolargl": [
           {
            "line": {
             "width": 3
            },
            "marker": {
             "size": 9
            },
            "type": "scatterpolargl"
           }
          ],
          "scatterpolar": [
           {
            "line": {
             "width": 3
            },
            "marker": {
             "size": 9
            },
            "type": "scatterpolar"
           }
          ],
          "scatter": [
           {
            "line": {
             "width": 3
            },
            "marker": {
             "size": 9
            },
            "type": "scatter"
           }
          ],
          "scatterternary": [
           {
            "line": {
             "width": 3
            },
            "marker": {
             "size": 9
            },
            "type": "scatterternary"
           }
          ],
          "table": [
           {
            "cells": {
             "height": 30
            },
            "header": {
             "height": 36
            },
            "type": "table"
           }
          ]
         },
         "layout": {
          "font": {
           "size": 18
          },
          "xaxis": {
           "title": {
            "standoff": 15
           }
          },
          "yaxis": {
           "title": {
            "standoff": 15
           }
          }
         }
        },
        "xaxis": {
         "anchor": "y",
         "domain": [
          0.0,
          1.0
         ],
         "title": {
          "text": "Number of features",
          "standoff": 15
         },
         "type": "log",
         "color": "black",
         "showline": true,
         "mirror": true,
         "dtick": "D2"
        },
        "yaxis": {
         "anchor": "x",
         "domain": [
          0.0,
          1.0
         ],
         "title": {
          "text": "Time (s)"
         },
         "type": "log",
         "color": "black",
         "showline": true,
         "mirror": true,
         "dtick": "D2"
        },
        "legend": {
         "title": {
          "text": ""
         },
         "tracegroupgap": 0,
         "orientation": "h",
         "yanchor": "bottom",
         "y": 1.02,
         "xanchor": "left",
         "x": 0.01
        },
        "margin": {
         "t": 10,
         "b": 50,
         "l": 50,
         "r": 30
        },
        "font": {
         "color": "black",
         "size": 15
        }
       },
       "config": {
        "plotlyServerURL": "https://plot.ly"
       }
      },
      "text/html": [
       "<div>                            <div id=\"bd16a61c-5aff-4e0e-ab09-42079e6228a1\" class=\"plotly-graph-div\" style=\"height:525px; width:100%;\"></div>            <script type=\"text/javascript\">                require([\"plotly\"], function(Plotly) {                    window.PLOTLYENV=window.PLOTLYENV || {};                                    if (document.getElementById(\"bd16a61c-5aff-4e0e-ab09-42079e6228a1\")) {                    Plotly.newPlot(                        \"bd16a61c-5aff-4e0e-ab09-42079e6228a1\",                        [{\"hovertemplate\":\"Model=HDBSCAN\\u003cbr\\u003eNumber of features=%{x}\\u003cbr\\u003eTime (s)=%{y}\\u003cextra\\u003e\\u003c\\u002fextra\\u003e\",\"legendgroup\":\"HDBSCAN\",\"line\":{\"color\":\"#2CA02C\",\"dash\":\"dash\"},\"marker\":{\"symbol\":\"circle\"},\"mode\":\"lines+markers\",\"name\":\"HDBSCAN\",\"orientation\":\"v\",\"showlegend\":true,\"x\":[100,347,1202,4163,14427,50000],\"xaxis\":\"x\",\"y\":[38.87270701210946,114.59050129214302,316.9094292470254,882.9180880105123,null,null],\"yaxis\":\"y\",\"type\":\"scatter\"},{\"hovertemplate\":\"Model=DBSCAN\\u003cbr\\u003eNumber of features=%{x}\\u003cbr\\u003eTime (s)=%{y}\\u003cextra\\u003e\\u003c\\u002fextra\\u003e\",\"legendgroup\":\"DBSCAN\",\"line\":{\"color\":\"#D62728\",\"dash\":\"longdash\"},\"marker\":{\"symbol\":\"circle\"},\"mode\":\"lines+markers\",\"name\":\"DBSCAN\",\"orientation\":\"v\",\"showlegend\":true,\"x\":[100,347,1202,4163,14427,50000],\"xaxis\":\"x\",\"y\":[0.6326453969813883,1.624539171345532,5.069345069117844,16.19314087415114,64.52679201774299,239.32877375371754],\"yaxis\":\"y\",\"type\":\"scatter\"},{\"hovertemplate\":\"Model=OPTICS\\u003cbr\\u003eNumber of features=%{x}\\u003cbr\\u003eTime (s)=%{y}\\u003cextra\\u003e\\u003c\\u002fextra\\u003e\",\"legendgroup\":\"OPTICS\",\"line\":{\"color\":\"#8C564B\",\"dash\":\"longdashdot\"},\"marker\":{\"symbol\":\"circle\"},\"mode\":\"lines+markers\",\"name\":\"OPTICS\",\"orientation\":\"v\",\"showlegend\":true,\"x\":[100,347,1202,4163,14427,50000],\"xaxis\":\"x\",\"y\":[56.1551320371218,195.71820232272148,676.9673596257344,2243.72188385576,42243.84468270885,65643.0915197921],\"yaxis\":\"y\",\"type\":\"scatter\"},{\"hovertemplate\":\"Model=Affinity Propagation\\u003cbr\\u003eNumber of features=%{x}\\u003cbr\\u003eTime (s)=%{y}\\u003cextra\\u003e\\u003c\\u002fextra\\u003e\",\"legendgroup\":\"Affinity Propagation\",\"line\":{\"color\":\"#BCBD22\",\"dash\":\"dash\"},\"marker\":{\"symbol\":\"circle\"},\"mode\":\"lines+markers\",\"name\":\"Affinity Propagation\",\"orientation\":\"v\",\"showlegend\":true,\"x\":[100,347,1202,4163,14427,50000],\"xaxis\":\"x\",\"y\":[1305.4496605228633,1307.9004879873246,1303.966122912243,1298.2232589893974,844.3383482280187,950.1205439330079],\"yaxis\":\"y\",\"type\":\"scatter\"},{\"hovertemplate\":\"Model=CoHiRF\\u003cbr\\u003eNumber of features=%{x}\\u003cbr\\u003eTime (s)=%{y}\\u003cextra\\u003e\\u003c\\u002fextra\\u003e\",\"legendgroup\":\"CoHiRF\",\"line\":{\"color\":\"#17BECF\",\"dash\":\"longdash\"},\"marker\":{\"symbol\":\"circle\"},\"mode\":\"lines+markers\",\"name\":\"CoHiRF\",\"orientation\":\"v\",\"showlegend\":true,\"x\":[100,347,1202,4163,14427,50000],\"xaxis\":\"x\",\"y\":[2.116953680757433,2.5050868480466306,2.6131800981238484,4.498260552063584,7.074277047067881,17.18792238784954],\"yaxis\":\"y\",\"type\":\"scatter\"},{\"hovertemplate\":\"Model=CoHiRF-1000\\u003cbr\\u003eNumber of features=%{x}\\u003cbr\\u003eTime (s)=%{y}\\u003cextra\\u003e\\u003c\\u002fextra\\u003e\",\"legendgroup\":\"CoHiRF-1000\",\"line\":{\"color\":\"#1F77B4\",\"dash\":\"dashdot\"},\"marker\":{\"symbol\":\"circle\"},\"mode\":\"lines+markers\",\"name\":\"CoHiRF-1000\",\"orientation\":\"v\",\"showlegend\":true,\"x\":[100,347,1202,4163,14427,50000],\"xaxis\":\"x\",\"y\":[0.3989166631363332,0.39410308422520757,0.5588506641797721,2.2244459870271385,4.914987555705011,14.344671838916838],\"yaxis\":\"y\",\"type\":\"scatter\"},{\"hovertemplate\":\"Model=K-Means\\u003cbr\\u003eNumber of features=%{x}\\u003cbr\\u003eTime (s)=%{y}\\u003cextra\\u003e\\u003c\\u002fextra\\u003e\",\"legendgroup\":\"K-Means\",\"line\":{\"color\":\"#FF7F0E\",\"dash\":\"longdashdot\"},\"marker\":{\"symbol\":\"circle\"},\"mode\":\"lines+markers\",\"name\":\"K-Means\",\"orientation\":\"v\",\"showlegend\":true,\"x\":[100,347,1202,4163,14427,50000],\"xaxis\":\"x\",\"y\":[0.2519635371863842,0.34503894997760653,0.590611255262047,2.2441787063144147,4.373474506661296,13.37486203899607],\"yaxis\":\"y\",\"type\":\"scatter\"},{\"hovertemplate\":\"Model=SC-SRGF\\u003cbr\\u003eNumber of features=%{x}\\u003cbr\\u003eTime (s)=%{y}\\u003cextra\\u003e\\u003c\\u002fextra\\u003e\",\"legendgroup\":\"SC-SRGF\",\"line\":{\"color\":\"#2CA02C\",\"dash\":\"solid\"},\"marker\":{\"symbol\":\"circle\"},\"mode\":\"lines+markers\",\"name\":\"SC-SRGF\",\"orientation\":\"v\",\"showlegend\":true,\"x\":[100,347,1202,4163,14427,50000],\"xaxis\":\"x\",\"y\":[6831.591921461746,6812.829081216827,6878.019722459838,7129.926340038888,null,null],\"yaxis\":\"y\",\"type\":\"scatter\"},{\"hovertemplate\":\"Model=Ward's Method\\u003cbr\\u003eNumber of features=%{x}\\u003cbr\\u003eTime (s)=%{y}\\u003cextra\\u003e\\u003c\\u002fextra\\u003e\",\"legendgroup\":\"Ward's Method\",\"line\":{\"color\":\"#D62728\",\"dash\":\"dot\"},\"marker\":{\"symbol\":\"circle\"},\"mode\":\"lines+markers\",\"name\":\"Ward's Method\",\"orientation\":\"v\",\"showlegend\":true,\"x\":[100,347,1202,4163,14427,50000],\"xaxis\":\"x\",\"y\":[31.15680183377117,71.81289326911792,130.31304786074907,422.5699889129028,1039.8745521595702,3414.9898419631645],\"yaxis\":\"y\",\"type\":\"scatter\"}],                        {\"template\":{\"data\":{\"pie\":[{\"automargin\":true,\"type\":\"pie\"}],\"scatter3d\":[{\"line\":{\"width\":3},\"marker\":{\"size\":9},\"type\":\"scatter3d\"}],\"scattergeo\":[{\"line\":{\"width\":3},\"marker\":{\"size\":9},\"type\":\"scattergeo\"}],\"scattergl\":[{\"line\":{\"width\":3},\"marker\":{\"size\":9},\"type\":\"scattergl\"}],\"scatterpolargl\":[{\"line\":{\"width\":3},\"marker\":{\"size\":9},\"type\":\"scatterpolargl\"}],\"scatterpolar\":[{\"line\":{\"width\":3},\"marker\":{\"size\":9},\"type\":\"scatterpolar\"}],\"scatter\":[{\"line\":{\"width\":3},\"marker\":{\"size\":9},\"type\":\"scatter\"}],\"scatterternary\":[{\"line\":{\"width\":3},\"marker\":{\"size\":9},\"type\":\"scatterternary\"}],\"table\":[{\"cells\":{\"height\":30},\"header\":{\"height\":36},\"type\":\"table\"}]},\"layout\":{\"font\":{\"size\":18},\"xaxis\":{\"title\":{\"standoff\":15}},\"yaxis\":{\"title\":{\"standoff\":15}}}},\"xaxis\":{\"anchor\":\"y\",\"domain\":[0.0,1.0],\"title\":{\"text\":\"Number of features\",\"standoff\":15},\"type\":\"log\",\"color\":\"black\",\"showline\":true,\"mirror\":true,\"dtick\":\"D2\"},\"yaxis\":{\"anchor\":\"x\",\"domain\":[0.0,1.0],\"title\":{\"text\":\"Time (s)\"},\"type\":\"log\",\"color\":\"black\",\"showline\":true,\"mirror\":true,\"dtick\":\"D2\"},\"legend\":{\"title\":{\"text\":\"\"},\"tracegroupgap\":0,\"orientation\":\"h\",\"yanchor\":\"bottom\",\"y\":1.02,\"xanchor\":\"left\",\"x\":0.01},\"margin\":{\"t\":10,\"b\":50,\"l\":50,\"r\":30},\"font\":{\"color\":\"black\",\"size\":15}},                        {\"responsive\": true}                    ).then(function(){\n",
       "                            \n",
       "var gd = document.getElementById('bd16a61c-5aff-4e0e-ab09-42079e6228a1');\n",
       "var x = new MutationObserver(function (mutations, observer) {{\n",
       "        var display = window.getComputedStyle(gd).display;\n",
       "        if (!display || display === 'none') {{\n",
       "            console.log([gd, 'removed!']);\n",
       "            Plotly.purge(gd);\n",
       "            observer.disconnect();\n",
       "        }}\n",
       "}});\n",
       "\n",
       "// Listen for the removal of the full notebook cells\n",
       "var notebookContainer = gd.closest('#notebook-container');\n",
       "if (notebookContainer) {{\n",
       "    x.observe(notebookContainer, {childList: true});\n",
       "}}\n",
       "\n",
       "// Listen for the clearing of the current output cell\n",
       "var outputEl = gd.closest('.output');\n",
       "if (outputEl) {{\n",
       "    x.observe(outputEl, {childList: true});\n",
       "}}\n",
       "\n",
       "                        })                };                });            </script>        </div>"
      ]
     },
     "metadata": {},
     "output_type": "display_data"
    }
   ],
   "execution_count": 93
  },
  {
   "metadata": {},
   "cell_type": "markdown",
   "source": "## Memory",
   "id": "19333c1310e94300"
  },
  {
   "metadata": {
    "ExecuteTime": {
     "end_time": "2025-01-16T10:44:49.444839Z",
     "start_time": "2025-01-16T10:44:49.377978Z"
    }
   },
   "cell_type": "code",
   "source": [
    "df = df_common.copy()\n",
    "df = df.loc[df['n_features']==14427]\n",
    "df = df.sort_values(by='n_samples')\n",
    "fig = px.line(df, x='n_samples', y='max_memory_used', color='model_nickname', line_dash='model_nickname', log_x=True, log_y=True, markers=True)\n",
    "fig.show()"
   ],
   "id": "453463dc2e39a675",
   "outputs": [
    {
     "data": {
      "application/vnd.plotly.v1+json": {
       "data": [
        {
         "hovertemplate": "model_nickname=RecursiveClustering<br>n_samples=%{x}<br>max_memory_used=%{y}<extra></extra>",
         "legendgroup": "RecursiveClustering",
         "line": {
          "color": "#636efa",
          "dash": "solid"
         },
         "marker": {
          "symbol": "circle"
         },
         "mode": "lines+markers",
         "name": "RecursiveClustering",
         "orientation": "v",
         "showlegend": true,
         "x": [
          100,
          347,
          1202,
          4163,
          14427,
          50000
         ],
         "xaxis": "x",
         "y": [
          278.552,
          357.248,
          555.568,
          1224.972,
          4063.696,
          14075.58
         ],
         "yaxis": "y",
         "type": "scatter"
        },
        {
         "hovertemplate": "model_nickname=IRFLLRR<br>n_samples=%{x}<br>max_memory_used=%{y}<extra></extra>",
         "legendgroup": "IRFLLRR",
         "line": {
          "color": "#EF553B",
          "dash": "dot"
         },
         "marker": {
          "symbol": "circle"
         },
         "mode": "lines+markers",
         "name": "IRFLLRR",
         "orientation": "v",
         "showlegend": true,
         "x": [
          100,
          347,
          1202,
          4163,
          14427,
          50000
         ],
         "xaxis": "x",
         "y": [
          39394.56,
          39394.56,
          39394.56,
          39394.56,
          null,
          null
         ],
         "yaxis": "y",
         "type": "scatter"
        },
        {
         "hovertemplate": "model_nickname=HDBSCAN<br>n_samples=%{x}<br>max_memory_used=%{y}<extra></extra>",
         "legendgroup": "HDBSCAN",
         "line": {
          "color": "#00cc96",
          "dash": "dash"
         },
         "marker": {
          "symbol": "circle"
         },
         "mode": "lines+markers",
         "name": "HDBSCAN",
         "orientation": "v",
         "showlegend": true,
         "x": [
          100,
          347,
          1202,
          4163,
          14427,
          50000
         ],
         "xaxis": "x",
         "y": [
          5842.464,
          5558.044,
          534.828,
          890.9,
          null,
          null
         ],
         "yaxis": "y",
         "type": "scatter"
        },
        {
         "hovertemplate": "model_nickname=KMeansProj<br>n_samples=%{x}<br>max_memory_used=%{y}<extra></extra>",
         "legendgroup": "KMeansProj",
         "line": {
          "color": "#ab63fa",
          "dash": "longdash"
         },
         "marker": {
          "symbol": "circle"
         },
         "mode": "lines+markers",
         "name": "KMeansProj",
         "orientation": "v",
         "showlegend": true,
         "x": [
          100,
          347,
          1202,
          4163,
          14427,
          50000
         ],
         "xaxis": "x",
         "y": [
          5248.816,
          619.472,
          1468.296,
          4383.28,
          null,
          null
         ],
         "yaxis": "y",
         "type": "scatter"
        },
        {
         "hovertemplate": "model_nickname=CompleteAgglomerativeClustering<br>n_samples=%{x}<br>max_memory_used=%{y}<extra></extra>",
         "legendgroup": "CompleteAgglomerativeClustering",
         "line": {
          "color": "#FFA15A",
          "dash": "dashdot"
         },
         "marker": {
          "symbol": "circle"
         },
         "mode": "lines+markers",
         "name": "CompleteAgglomerativeClustering",
         "orientation": "v",
         "showlegend": true,
         "x": [
          100,
          347,
          1202,
          4163,
          14427,
          50000
         ],
         "xaxis": "x",
         "y": [
          285.376,
          346.644,
          542.032,
          1213.776,
          3536.008,
          21460.38
         ],
         "yaxis": "y",
         "type": "scatter"
        },
        {
         "hovertemplate": "model_nickname=WardAgglomerativeClustering<br>n_samples=%{x}<br>max_memory_used=%{y}<extra></extra>",
         "legendgroup": "WardAgglomerativeClustering",
         "line": {
          "color": "#19d3f3",
          "dash": "longdashdot"
         },
         "marker": {
          "symbol": "circle"
         },
         "mode": "lines+markers",
         "name": "WardAgglomerativeClustering",
         "orientation": "v",
         "showlegend": true,
         "x": [
          100,
          347,
          1202,
          4163,
          14427,
          50000
         ],
         "xaxis": "x",
         "y": [
          286.912,
          347.94,
          541.756,
          1215.704,
          3534.272,
          21459.372
         ],
         "yaxis": "y",
         "type": "scatter"
        },
        {
         "hovertemplate": "model_nickname=MeanShift<br>n_samples=%{x}<br>max_memory_used=%{y}<extra></extra>",
         "legendgroup": "MeanShift",
         "line": {
          "color": "#FF6692",
          "dash": "solid"
         },
         "marker": {
          "symbol": "circle"
         },
         "mode": "lines+markers",
         "name": "MeanShift",
         "orientation": "v",
         "showlegend": true,
         "x": [
          100,
          347,
          1202,
          4163,
          14427,
          50000
         ],
         "xaxis": "x",
         "y": [
          330.844,
          713.544,
          1998.664,
          5297.88,
          13623.388,
          14154.68
         ],
         "yaxis": "y",
         "type": "scatter"
        },
        {
         "hovertemplate": "model_nickname=AffinityPropagation<br>n_samples=%{x}<br>max_memory_used=%{y}<extra></extra>",
         "legendgroup": "AffinityPropagation",
         "line": {
          "color": "#B6E880",
          "dash": "dot"
         },
         "marker": {
          "symbol": "circle"
         },
         "mode": "lines+markers",
         "name": "AffinityPropagation",
         "orientation": "v",
         "showlegend": true,
         "x": [
          100,
          347,
          1202,
          4163,
          14427,
          50000
         ],
         "xaxis": "x",
         "y": [
          420.504,
          957.056,
          9199.884,
          1824.284,
          10614.24,
          94105.568
         ],
         "yaxis": "y",
         "type": "scatter"
        },
        {
         "hovertemplate": "model_nickname=OPTICS<br>n_samples=%{x}<br>max_memory_used=%{y}<extra></extra>",
         "legendgroup": "OPTICS",
         "line": {
          "color": "#FF97FF",
          "dash": "dash"
         },
         "marker": {
          "symbol": "circle"
         },
         "mode": "lines+markers",
         "name": "OPTICS",
         "orientation": "v",
         "showlegend": true,
         "x": [
          100,
          347,
          1202,
          4163,
          14427,
          50000
         ],
         "xaxis": "x",
         "y": [
          59044.508,
          59044.508,
          59044.508,
          59044.508,
          59044.508,
          11557.996
         ],
         "yaxis": "y",
         "type": "scatter"
        },
        {
         "hovertemplate": "model_nickname=SpectralClustering<br>n_samples=%{x}<br>max_memory_used=%{y}<extra></extra>",
         "legendgroup": "SpectralClustering",
         "line": {
          "color": "#FECB52",
          "dash": "longdash"
         },
         "marker": {
          "symbol": "circle"
         },
         "mode": "lines+markers",
         "name": "SpectralClustering",
         "orientation": "v",
         "showlegend": true,
         "x": [
          100,
          347,
          1202,
          4163,
          14427,
          50000
         ],
         "xaxis": "x",
         "y": [
          1220.448,
          1220.448,
          543.144,
          11523.908,
          8433.328,
          93960.684
         ],
         "yaxis": "y",
         "type": "scatter"
        },
        {
         "hovertemplate": "model_nickname=SpectralSubspaceRandomization<br>n_samples=%{x}<br>max_memory_used=%{y}<extra></extra>",
         "legendgroup": "SpectralSubspaceRandomization",
         "line": {
          "color": "#636efa",
          "dash": "dashdot"
         },
         "marker": {
          "symbol": "circle"
         },
         "mode": "lines+markers",
         "name": "SpectralSubspaceRandomization",
         "orientation": "v",
         "showlegend": true,
         "x": [
          100,
          347,
          1202,
          4163,
          14427,
          50000
         ],
         "xaxis": "x",
         "y": [
          296.58,
          394.408,
          1200.72,
          9549.18,
          105213.212,
          null
         ],
         "yaxis": "y",
         "type": "scatter"
        },
        {
         "hovertemplate": "model_nickname=AverageAgglomerativeClustering<br>n_samples=%{x}<br>max_memory_used=%{y}<extra></extra>",
         "legendgroup": "AverageAgglomerativeClustering",
         "line": {
          "color": "#EF553B",
          "dash": "longdashdot"
         },
         "marker": {
          "symbol": "circle"
         },
         "mode": "lines+markers",
         "name": "AverageAgglomerativeClustering",
         "orientation": "v",
         "showlegend": true,
         "x": [
          100,
          347,
          1202,
          4163,
          14427,
          50000
         ],
         "xaxis": "x",
         "y": [
          277.812,
          352.692,
          548.652,
          1229.896,
          4052.32,
          25496.476
         ],
         "yaxis": "y",
         "type": "scatter"
        },
        {
         "hovertemplate": "model_nickname=KMeans<br>n_samples=%{x}<br>max_memory_used=%{y}<extra></extra>",
         "legendgroup": "KMeans",
         "line": {
          "color": "#00cc96",
          "dash": "solid"
         },
         "marker": {
          "symbol": "circle"
         },
         "mode": "lines+markers",
         "name": "KMeans",
         "orientation": "v",
         "showlegend": true,
         "x": [
          100,
          347,
          1202,
          4163,
          14427,
          50000
         ],
         "xaxis": "x",
         "y": [
          39404.5,
          39404.5,
          39404.5,
          39404.5,
          39404.5,
          39404.5
         ],
         "yaxis": "y",
         "type": "scatter"
        },
        {
         "hovertemplate": "model_nickname=Clique<br>n_samples=%{x}<br>max_memory_used=%{y}<extra></extra>",
         "legendgroup": "Clique",
         "line": {
          "color": "#ab63fa",
          "dash": "dot"
         },
         "marker": {
          "symbol": "circle"
         },
         "mode": "lines+markers",
         "name": "Clique",
         "orientation": "v",
         "showlegend": true,
         "x": [
          100,
          347,
          1202,
          4163,
          14427,
          50000
         ],
         "xaxis": "x",
         "y": [
          39392.436,
          39392.436,
          39392.436,
          39392.436,
          39392.436,
          39392.436
         ],
         "yaxis": "y",
         "type": "scatter"
        },
        {
         "hovertemplate": "model_nickname=Proclus<br>n_samples=%{x}<br>max_memory_used=%{y}<extra></extra>",
         "legendgroup": "Proclus",
         "line": {
          "color": "#FFA15A",
          "dash": "dash"
         },
         "marker": {
          "symbol": "circle"
         },
         "mode": "lines+markers",
         "name": "Proclus",
         "orientation": "v",
         "showlegend": true,
         "x": [
          100,
          347,
          1202,
          4163,
          14427,
          50000
         ],
         "xaxis": "x",
         "y": [
          296.556,
          351.028,
          633.112,
          1592.428,
          6781.48,
          31221.9
         ],
         "yaxis": "y",
         "type": "scatter"
        },
        {
         "hovertemplate": "model_nickname=SingleAgglomerativeClustering<br>n_samples=%{x}<br>max_memory_used=%{y}<extra></extra>",
         "legendgroup": "SingleAgglomerativeClustering",
         "line": {
          "color": "#19d3f3",
          "dash": "longdash"
         },
         "marker": {
          "symbol": "circle"
         },
         "mode": "lines+markers",
         "name": "SingleAgglomerativeClustering",
         "orientation": "v",
         "showlegend": true,
         "x": [
          100,
          347,
          1202,
          4163,
          14427,
          50000
         ],
         "xaxis": "x",
         "y": [
          39392.436,
          39392.436,
          39392.436,
          39392.436,
          39392.436,
          39392.436
         ],
         "yaxis": "y",
         "type": "scatter"
        },
        {
         "hovertemplate": "model_nickname=DBSCAN<br>n_samples=%{x}<br>max_memory_used=%{y}<extra></extra>",
         "legendgroup": "DBSCAN",
         "line": {
          "color": "#FF6692",
          "dash": "dashdot"
         },
         "marker": {
          "symbol": "circle"
         },
         "mode": "lines+markers",
         "name": "DBSCAN",
         "orientation": "v",
         "showlegend": true,
         "x": [
          100,
          347,
          1202,
          4163,
          14427,
          50000
         ],
         "xaxis": "x",
         "y": [
          294.172,
          348.308,
          544.028,
          1214.288,
          3506.892,
          5917.108
         ],
         "yaxis": "y",
         "type": "scatter"
        }
       ],
       "layout": {
        "template": {
         "data": {
          "histogram2dcontour": [
           {
            "type": "histogram2dcontour",
            "colorbar": {
             "outlinewidth": 0,
             "ticks": ""
            },
            "colorscale": [
             [
              0.0,
              "#0d0887"
             ],
             [
              0.1111111111111111,
              "#46039f"
             ],
             [
              0.2222222222222222,
              "#7201a8"
             ],
             [
              0.3333333333333333,
              "#9c179e"
             ],
             [
              0.4444444444444444,
              "#bd3786"
             ],
             [
              0.5555555555555556,
              "#d8576b"
             ],
             [
              0.6666666666666666,
              "#ed7953"
             ],
             [
              0.7777777777777778,
              "#fb9f3a"
             ],
             [
              0.8888888888888888,
              "#fdca26"
             ],
             [
              1.0,
              "#f0f921"
             ]
            ]
           }
          ],
          "choropleth": [
           {
            "type": "choropleth",
            "colorbar": {
             "outlinewidth": 0,
             "ticks": ""
            }
           }
          ],
          "histogram2d": [
           {
            "type": "histogram2d",
            "colorbar": {
             "outlinewidth": 0,
             "ticks": ""
            },
            "colorscale": [
             [
              0.0,
              "#0d0887"
             ],
             [
              0.1111111111111111,
              "#46039f"
             ],
             [
              0.2222222222222222,
              "#7201a8"
             ],
             [
              0.3333333333333333,
              "#9c179e"
             ],
             [
              0.4444444444444444,
              "#bd3786"
             ],
             [
              0.5555555555555556,
              "#d8576b"
             ],
             [
              0.6666666666666666,
              "#ed7953"
             ],
             [
              0.7777777777777778,
              "#fb9f3a"
             ],
             [
              0.8888888888888888,
              "#fdca26"
             ],
             [
              1.0,
              "#f0f921"
             ]
            ]
           }
          ],
          "heatmap": [
           {
            "type": "heatmap",
            "colorbar": {
             "outlinewidth": 0,
             "ticks": ""
            },
            "colorscale": [
             [
              0.0,
              "#0d0887"
             ],
             [
              0.1111111111111111,
              "#46039f"
             ],
             [
              0.2222222222222222,
              "#7201a8"
             ],
             [
              0.3333333333333333,
              "#9c179e"
             ],
             [
              0.4444444444444444,
              "#bd3786"
             ],
             [
              0.5555555555555556,
              "#d8576b"
             ],
             [
              0.6666666666666666,
              "#ed7953"
             ],
             [
              0.7777777777777778,
              "#fb9f3a"
             ],
             [
              0.8888888888888888,
              "#fdca26"
             ],
             [
              1.0,
              "#f0f921"
             ]
            ]
           }
          ],
          "heatmapgl": [
           {
            "type": "heatmapgl",
            "colorbar": {
             "outlinewidth": 0,
             "ticks": ""
            },
            "colorscale": [
             [
              0.0,
              "#0d0887"
             ],
             [
              0.1111111111111111,
              "#46039f"
             ],
             [
              0.2222222222222222,
              "#7201a8"
             ],
             [
              0.3333333333333333,
              "#9c179e"
             ],
             [
              0.4444444444444444,
              "#bd3786"
             ],
             [
              0.5555555555555556,
              "#d8576b"
             ],
             [
              0.6666666666666666,
              "#ed7953"
             ],
             [
              0.7777777777777778,
              "#fb9f3a"
             ],
             [
              0.8888888888888888,
              "#fdca26"
             ],
             [
              1.0,
              "#f0f921"
             ]
            ]
           }
          ],
          "contourcarpet": [
           {
            "type": "contourcarpet",
            "colorbar": {
             "outlinewidth": 0,
             "ticks": ""
            }
           }
          ],
          "contour": [
           {
            "type": "contour",
            "colorbar": {
             "outlinewidth": 0,
             "ticks": ""
            },
            "colorscale": [
             [
              0.0,
              "#0d0887"
             ],
             [
              0.1111111111111111,
              "#46039f"
             ],
             [
              0.2222222222222222,
              "#7201a8"
             ],
             [
              0.3333333333333333,
              "#9c179e"
             ],
             [
              0.4444444444444444,
              "#bd3786"
             ],
             [
              0.5555555555555556,
              "#d8576b"
             ],
             [
              0.6666666666666666,
              "#ed7953"
             ],
             [
              0.7777777777777778,
              "#fb9f3a"
             ],
             [
              0.8888888888888888,
              "#fdca26"
             ],
             [
              1.0,
              "#f0f921"
             ]
            ]
           }
          ],
          "surface": [
           {
            "type": "surface",
            "colorbar": {
             "outlinewidth": 0,
             "ticks": ""
            },
            "colorscale": [
             [
              0.0,
              "#0d0887"
             ],
             [
              0.1111111111111111,
              "#46039f"
             ],
             [
              0.2222222222222222,
              "#7201a8"
             ],
             [
              0.3333333333333333,
              "#9c179e"
             ],
             [
              0.4444444444444444,
              "#bd3786"
             ],
             [
              0.5555555555555556,
              "#d8576b"
             ],
             [
              0.6666666666666666,
              "#ed7953"
             ],
             [
              0.7777777777777778,
              "#fb9f3a"
             ],
             [
              0.8888888888888888,
              "#fdca26"
             ],
             [
              1.0,
              "#f0f921"
             ]
            ]
           }
          ],
          "mesh3d": [
           {
            "type": "mesh3d",
            "colorbar": {
             "outlinewidth": 0,
             "ticks": ""
            }
           }
          ],
          "scatter": [
           {
            "marker": {
             "line": {
              "color": "#283442"
             }
            },
            "type": "scatter"
           }
          ],
          "parcoords": [
           {
            "type": "parcoords",
            "line": {
             "colorbar": {
              "outlinewidth": 0,
              "ticks": ""
             }
            }
           }
          ],
          "scatterpolargl": [
           {
            "type": "scatterpolargl",
            "marker": {
             "colorbar": {
              "outlinewidth": 0,
              "ticks": ""
             }
            }
           }
          ],
          "bar": [
           {
            "error_x": {
             "color": "#f2f5fa"
            },
            "error_y": {
             "color": "#f2f5fa"
            },
            "marker": {
             "line": {
              "color": "rgb(17,17,17)",
              "width": 0.5
             },
             "pattern": {
              "fillmode": "overlay",
              "size": 10,
              "solidity": 0.2
             }
            },
            "type": "bar"
           }
          ],
          "scattergeo": [
           {
            "type": "scattergeo",
            "marker": {
             "colorbar": {
              "outlinewidth": 0,
              "ticks": ""
             }
            }
           }
          ],
          "scatterpolar": [
           {
            "type": "scatterpolar",
            "marker": {
             "colorbar": {
              "outlinewidth": 0,
              "ticks": ""
             }
            }
           }
          ],
          "histogram": [
           {
            "marker": {
             "pattern": {
              "fillmode": "overlay",
              "size": 10,
              "solidity": 0.2
             }
            },
            "type": "histogram"
           }
          ],
          "scattergl": [
           {
            "marker": {
             "line": {
              "color": "#283442"
             }
            },
            "type": "scattergl"
           }
          ],
          "scatter3d": [
           {
            "type": "scatter3d",
            "line": {
             "colorbar": {
              "outlinewidth": 0,
              "ticks": ""
             }
            },
            "marker": {
             "colorbar": {
              "outlinewidth": 0,
              "ticks": ""
             }
            }
           }
          ],
          "scattermapbox": [
           {
            "type": "scattermapbox",
            "marker": {
             "colorbar": {
              "outlinewidth": 0,
              "ticks": ""
             }
            }
           }
          ],
          "scatterternary": [
           {
            "type": "scatterternary",
            "marker": {
             "colorbar": {
              "outlinewidth": 0,
              "ticks": ""
             }
            }
           }
          ],
          "scattercarpet": [
           {
            "type": "scattercarpet",
            "marker": {
             "colorbar": {
              "outlinewidth": 0,
              "ticks": ""
             }
            }
           }
          ],
          "carpet": [
           {
            "aaxis": {
             "endlinecolor": "#A2B1C6",
             "gridcolor": "#506784",
             "linecolor": "#506784",
             "minorgridcolor": "#506784",
             "startlinecolor": "#A2B1C6"
            },
            "baxis": {
             "endlinecolor": "#A2B1C6",
             "gridcolor": "#506784",
             "linecolor": "#506784",
             "minorgridcolor": "#506784",
             "startlinecolor": "#A2B1C6"
            },
            "type": "carpet"
           }
          ],
          "table": [
           {
            "cells": {
             "fill": {
              "color": "#506784"
             },
             "line": {
              "color": "rgb(17,17,17)"
             }
            },
            "header": {
             "fill": {
              "color": "#2a3f5f"
             },
             "line": {
              "color": "rgb(17,17,17)"
             }
            },
            "type": "table"
           }
          ],
          "barpolar": [
           {
            "marker": {
             "line": {
              "color": "rgb(17,17,17)",
              "width": 0.5
             },
             "pattern": {
              "fillmode": "overlay",
              "size": 10,
              "solidity": 0.2
             }
            },
            "type": "barpolar"
           }
          ],
          "pie": [
           {
            "automargin": true,
            "type": "pie"
           }
          ]
         },
         "layout": {
          "autotypenumbers": "strict",
          "colorway": [
           "#636efa",
           "#EF553B",
           "#00cc96",
           "#ab63fa",
           "#FFA15A",
           "#19d3f3",
           "#FF6692",
           "#B6E880",
           "#FF97FF",
           "#FECB52"
          ],
          "font": {
           "color": "#f2f5fa"
          },
          "hovermode": "closest",
          "hoverlabel": {
           "align": "left"
          },
          "paper_bgcolor": "rgb(17,17,17)",
          "plot_bgcolor": "rgb(17,17,17)",
          "polar": {
           "bgcolor": "rgb(17,17,17)",
           "angularaxis": {
            "gridcolor": "#506784",
            "linecolor": "#506784",
            "ticks": ""
           },
           "radialaxis": {
            "gridcolor": "#506784",
            "linecolor": "#506784",
            "ticks": ""
           }
          },
          "ternary": {
           "bgcolor": "rgb(17,17,17)",
           "aaxis": {
            "gridcolor": "#506784",
            "linecolor": "#506784",
            "ticks": ""
           },
           "baxis": {
            "gridcolor": "#506784",
            "linecolor": "#506784",
            "ticks": ""
           },
           "caxis": {
            "gridcolor": "#506784",
            "linecolor": "#506784",
            "ticks": ""
           }
          },
          "coloraxis": {
           "colorbar": {
            "outlinewidth": 0,
            "ticks": ""
           }
          },
          "colorscale": {
           "sequential": [
            [
             0.0,
             "#0d0887"
            ],
            [
             0.1111111111111111,
             "#46039f"
            ],
            [
             0.2222222222222222,
             "#7201a8"
            ],
            [
             0.3333333333333333,
             "#9c179e"
            ],
            [
             0.4444444444444444,
             "#bd3786"
            ],
            [
             0.5555555555555556,
             "#d8576b"
            ],
            [
             0.6666666666666666,
             "#ed7953"
            ],
            [
             0.7777777777777778,
             "#fb9f3a"
            ],
            [
             0.8888888888888888,
             "#fdca26"
            ],
            [
             1.0,
             "#f0f921"
            ]
           ],
           "sequentialminus": [
            [
             0.0,
             "#0d0887"
            ],
            [
             0.1111111111111111,
             "#46039f"
            ],
            [
             0.2222222222222222,
             "#7201a8"
            ],
            [
             0.3333333333333333,
             "#9c179e"
            ],
            [
             0.4444444444444444,
             "#bd3786"
            ],
            [
             0.5555555555555556,
             "#d8576b"
            ],
            [
             0.6666666666666666,
             "#ed7953"
            ],
            [
             0.7777777777777778,
             "#fb9f3a"
            ],
            [
             0.8888888888888888,
             "#fdca26"
            ],
            [
             1.0,
             "#f0f921"
            ]
           ],
           "diverging": [
            [
             0,
             "#8e0152"
            ],
            [
             0.1,
             "#c51b7d"
            ],
            [
             0.2,
             "#de77ae"
            ],
            [
             0.3,
             "#f1b6da"
            ],
            [
             0.4,
             "#fde0ef"
            ],
            [
             0.5,
             "#f7f7f7"
            ],
            [
             0.6,
             "#e6f5d0"
            ],
            [
             0.7,
             "#b8e186"
            ],
            [
             0.8,
             "#7fbc41"
            ],
            [
             0.9,
             "#4d9221"
            ],
            [
             1,
             "#276419"
            ]
           ]
          },
          "xaxis": {
           "gridcolor": "#283442",
           "linecolor": "#506784",
           "ticks": "",
           "title": {
            "standoff": 15
           },
           "zerolinecolor": "#283442",
           "automargin": true,
           "zerolinewidth": 2
          },
          "yaxis": {
           "gridcolor": "#283442",
           "linecolor": "#506784",
           "ticks": "",
           "title": {
            "standoff": 15
           },
           "zerolinecolor": "#283442",
           "automargin": true,
           "zerolinewidth": 2
          },
          "scene": {
           "xaxis": {
            "backgroundcolor": "rgb(17,17,17)",
            "gridcolor": "#506784",
            "linecolor": "#506784",
            "showbackground": true,
            "ticks": "",
            "zerolinecolor": "#C8D4E3",
            "gridwidth": 2
           },
           "yaxis": {
            "backgroundcolor": "rgb(17,17,17)",
            "gridcolor": "#506784",
            "linecolor": "#506784",
            "showbackground": true,
            "ticks": "",
            "zerolinecolor": "#C8D4E3",
            "gridwidth": 2
           },
           "zaxis": {
            "backgroundcolor": "rgb(17,17,17)",
            "gridcolor": "#506784",
            "linecolor": "#506784",
            "showbackground": true,
            "ticks": "",
            "zerolinecolor": "#C8D4E3",
            "gridwidth": 2
           }
          },
          "shapedefaults": {
           "line": {
            "color": "#f2f5fa"
           }
          },
          "annotationdefaults": {
           "arrowcolor": "#f2f5fa",
           "arrowhead": 0,
           "arrowwidth": 1
          },
          "geo": {
           "bgcolor": "rgb(17,17,17)",
           "landcolor": "rgb(17,17,17)",
           "subunitcolor": "#506784",
           "showland": true,
           "showlakes": true,
           "lakecolor": "rgb(17,17,17)"
          },
          "title": {
           "x": 0.05
          },
          "updatemenudefaults": {
           "bgcolor": "#506784",
           "borderwidth": 0
          },
          "sliderdefaults": {
           "bgcolor": "#C8D4E3",
           "borderwidth": 1,
           "bordercolor": "rgb(17,17,17)",
           "tickwidth": 0
          },
          "mapbox": {
           "style": "dark"
          }
         }
        },
        "xaxis": {
         "anchor": "y",
         "domain": [
          0.0,
          1.0
         ],
         "title": {
          "text": "n_samples"
         },
         "type": "log"
        },
        "yaxis": {
         "anchor": "x",
         "domain": [
          0.0,
          1.0
         ],
         "title": {
          "text": "max_memory_used"
         },
         "type": "log"
        },
        "legend": {
         "title": {
          "text": "model_nickname"
         },
         "tracegroupgap": 0
        },
        "margin": {
         "t": 60
        }
       },
       "config": {
        "plotlyServerURL": "https://plot.ly"
       }
      },
      "text/html": [
       "<div>                            <div id=\"193d4f57-f57b-442b-9b72-ecaa2c6e5048\" class=\"plotly-graph-div\" style=\"height:525px; width:100%;\"></div>            <script type=\"text/javascript\">                require([\"plotly\"], function(Plotly) {                    window.PLOTLYENV=window.PLOTLYENV || {};                                    if (document.getElementById(\"193d4f57-f57b-442b-9b72-ecaa2c6e5048\")) {                    Plotly.newPlot(                        \"193d4f57-f57b-442b-9b72-ecaa2c6e5048\",                        [{\"hovertemplate\":\"model_nickname=RecursiveClustering\\u003cbr\\u003en_samples=%{x}\\u003cbr\\u003emax_memory_used=%{y}\\u003cextra\\u003e\\u003c\\u002fextra\\u003e\",\"legendgroup\":\"RecursiveClustering\",\"line\":{\"color\":\"#636efa\",\"dash\":\"solid\"},\"marker\":{\"symbol\":\"circle\"},\"mode\":\"lines+markers\",\"name\":\"RecursiveClustering\",\"orientation\":\"v\",\"showlegend\":true,\"x\":[100,347,1202,4163,14427,50000],\"xaxis\":\"x\",\"y\":[278.552,357.248,555.568,1224.972,4063.696,14075.58],\"yaxis\":\"y\",\"type\":\"scatter\"},{\"hovertemplate\":\"model_nickname=IRFLLRR\\u003cbr\\u003en_samples=%{x}\\u003cbr\\u003emax_memory_used=%{y}\\u003cextra\\u003e\\u003c\\u002fextra\\u003e\",\"legendgroup\":\"IRFLLRR\",\"line\":{\"color\":\"#EF553B\",\"dash\":\"dot\"},\"marker\":{\"symbol\":\"circle\"},\"mode\":\"lines+markers\",\"name\":\"IRFLLRR\",\"orientation\":\"v\",\"showlegend\":true,\"x\":[100,347,1202,4163,14427,50000],\"xaxis\":\"x\",\"y\":[39394.56,39394.56,39394.56,39394.56,null,null],\"yaxis\":\"y\",\"type\":\"scatter\"},{\"hovertemplate\":\"model_nickname=HDBSCAN\\u003cbr\\u003en_samples=%{x}\\u003cbr\\u003emax_memory_used=%{y}\\u003cextra\\u003e\\u003c\\u002fextra\\u003e\",\"legendgroup\":\"HDBSCAN\",\"line\":{\"color\":\"#00cc96\",\"dash\":\"dash\"},\"marker\":{\"symbol\":\"circle\"},\"mode\":\"lines+markers\",\"name\":\"HDBSCAN\",\"orientation\":\"v\",\"showlegend\":true,\"x\":[100,347,1202,4163,14427,50000],\"xaxis\":\"x\",\"y\":[5842.464,5558.044,534.828,890.9,null,null],\"yaxis\":\"y\",\"type\":\"scatter\"},{\"hovertemplate\":\"model_nickname=KMeansProj\\u003cbr\\u003en_samples=%{x}\\u003cbr\\u003emax_memory_used=%{y}\\u003cextra\\u003e\\u003c\\u002fextra\\u003e\",\"legendgroup\":\"KMeansProj\",\"line\":{\"color\":\"#ab63fa\",\"dash\":\"longdash\"},\"marker\":{\"symbol\":\"circle\"},\"mode\":\"lines+markers\",\"name\":\"KMeansProj\",\"orientation\":\"v\",\"showlegend\":true,\"x\":[100,347,1202,4163,14427,50000],\"xaxis\":\"x\",\"y\":[5248.816,619.472,1468.296,4383.28,null,null],\"yaxis\":\"y\",\"type\":\"scatter\"},{\"hovertemplate\":\"model_nickname=CompleteAgglomerativeClustering\\u003cbr\\u003en_samples=%{x}\\u003cbr\\u003emax_memory_used=%{y}\\u003cextra\\u003e\\u003c\\u002fextra\\u003e\",\"legendgroup\":\"CompleteAgglomerativeClustering\",\"line\":{\"color\":\"#FFA15A\",\"dash\":\"dashdot\"},\"marker\":{\"symbol\":\"circle\"},\"mode\":\"lines+markers\",\"name\":\"CompleteAgglomerativeClustering\",\"orientation\":\"v\",\"showlegend\":true,\"x\":[100,347,1202,4163,14427,50000],\"xaxis\":\"x\",\"y\":[285.376,346.644,542.032,1213.776,3536.008,21460.38],\"yaxis\":\"y\",\"type\":\"scatter\"},{\"hovertemplate\":\"model_nickname=WardAgglomerativeClustering\\u003cbr\\u003en_samples=%{x}\\u003cbr\\u003emax_memory_used=%{y}\\u003cextra\\u003e\\u003c\\u002fextra\\u003e\",\"legendgroup\":\"WardAgglomerativeClustering\",\"line\":{\"color\":\"#19d3f3\",\"dash\":\"longdashdot\"},\"marker\":{\"symbol\":\"circle\"},\"mode\":\"lines+markers\",\"name\":\"WardAgglomerativeClustering\",\"orientation\":\"v\",\"showlegend\":true,\"x\":[100,347,1202,4163,14427,50000],\"xaxis\":\"x\",\"y\":[286.912,347.94,541.756,1215.704,3534.272,21459.372],\"yaxis\":\"y\",\"type\":\"scatter\"},{\"hovertemplate\":\"model_nickname=MeanShift\\u003cbr\\u003en_samples=%{x}\\u003cbr\\u003emax_memory_used=%{y}\\u003cextra\\u003e\\u003c\\u002fextra\\u003e\",\"legendgroup\":\"MeanShift\",\"line\":{\"color\":\"#FF6692\",\"dash\":\"solid\"},\"marker\":{\"symbol\":\"circle\"},\"mode\":\"lines+markers\",\"name\":\"MeanShift\",\"orientation\":\"v\",\"showlegend\":true,\"x\":[100,347,1202,4163,14427,50000],\"xaxis\":\"x\",\"y\":[330.844,713.544,1998.664,5297.88,13623.388,14154.68],\"yaxis\":\"y\",\"type\":\"scatter\"},{\"hovertemplate\":\"model_nickname=AffinityPropagation\\u003cbr\\u003en_samples=%{x}\\u003cbr\\u003emax_memory_used=%{y}\\u003cextra\\u003e\\u003c\\u002fextra\\u003e\",\"legendgroup\":\"AffinityPropagation\",\"line\":{\"color\":\"#B6E880\",\"dash\":\"dot\"},\"marker\":{\"symbol\":\"circle\"},\"mode\":\"lines+markers\",\"name\":\"AffinityPropagation\",\"orientation\":\"v\",\"showlegend\":true,\"x\":[100,347,1202,4163,14427,50000],\"xaxis\":\"x\",\"y\":[420.504,957.056,9199.884,1824.284,10614.24,94105.568],\"yaxis\":\"y\",\"type\":\"scatter\"},{\"hovertemplate\":\"model_nickname=OPTICS\\u003cbr\\u003en_samples=%{x}\\u003cbr\\u003emax_memory_used=%{y}\\u003cextra\\u003e\\u003c\\u002fextra\\u003e\",\"legendgroup\":\"OPTICS\",\"line\":{\"color\":\"#FF97FF\",\"dash\":\"dash\"},\"marker\":{\"symbol\":\"circle\"},\"mode\":\"lines+markers\",\"name\":\"OPTICS\",\"orientation\":\"v\",\"showlegend\":true,\"x\":[100,347,1202,4163,14427,50000],\"xaxis\":\"x\",\"y\":[59044.508,59044.508,59044.508,59044.508,59044.508,11557.996],\"yaxis\":\"y\",\"type\":\"scatter\"},{\"hovertemplate\":\"model_nickname=SpectralClustering\\u003cbr\\u003en_samples=%{x}\\u003cbr\\u003emax_memory_used=%{y}\\u003cextra\\u003e\\u003c\\u002fextra\\u003e\",\"legendgroup\":\"SpectralClustering\",\"line\":{\"color\":\"#FECB52\",\"dash\":\"longdash\"},\"marker\":{\"symbol\":\"circle\"},\"mode\":\"lines+markers\",\"name\":\"SpectralClustering\",\"orientation\":\"v\",\"showlegend\":true,\"x\":[100,347,1202,4163,14427,50000],\"xaxis\":\"x\",\"y\":[1220.448,1220.448,543.144,11523.908,8433.328,93960.684],\"yaxis\":\"y\",\"type\":\"scatter\"},{\"hovertemplate\":\"model_nickname=SpectralSubspaceRandomization\\u003cbr\\u003en_samples=%{x}\\u003cbr\\u003emax_memory_used=%{y}\\u003cextra\\u003e\\u003c\\u002fextra\\u003e\",\"legendgroup\":\"SpectralSubspaceRandomization\",\"line\":{\"color\":\"#636efa\",\"dash\":\"dashdot\"},\"marker\":{\"symbol\":\"circle\"},\"mode\":\"lines+markers\",\"name\":\"SpectralSubspaceRandomization\",\"orientation\":\"v\",\"showlegend\":true,\"x\":[100,347,1202,4163,14427,50000],\"xaxis\":\"x\",\"y\":[296.58,394.408,1200.72,9549.18,105213.212,null],\"yaxis\":\"y\",\"type\":\"scatter\"},{\"hovertemplate\":\"model_nickname=AverageAgglomerativeClustering\\u003cbr\\u003en_samples=%{x}\\u003cbr\\u003emax_memory_used=%{y}\\u003cextra\\u003e\\u003c\\u002fextra\\u003e\",\"legendgroup\":\"AverageAgglomerativeClustering\",\"line\":{\"color\":\"#EF553B\",\"dash\":\"longdashdot\"},\"marker\":{\"symbol\":\"circle\"},\"mode\":\"lines+markers\",\"name\":\"AverageAgglomerativeClustering\",\"orientation\":\"v\",\"showlegend\":true,\"x\":[100,347,1202,4163,14427,50000],\"xaxis\":\"x\",\"y\":[277.812,352.692,548.652,1229.896,4052.32,25496.476],\"yaxis\":\"y\",\"type\":\"scatter\"},{\"hovertemplate\":\"model_nickname=KMeans\\u003cbr\\u003en_samples=%{x}\\u003cbr\\u003emax_memory_used=%{y}\\u003cextra\\u003e\\u003c\\u002fextra\\u003e\",\"legendgroup\":\"KMeans\",\"line\":{\"color\":\"#00cc96\",\"dash\":\"solid\"},\"marker\":{\"symbol\":\"circle\"},\"mode\":\"lines+markers\",\"name\":\"KMeans\",\"orientation\":\"v\",\"showlegend\":true,\"x\":[100,347,1202,4163,14427,50000],\"xaxis\":\"x\",\"y\":[39404.5,39404.5,39404.5,39404.5,39404.5,39404.5],\"yaxis\":\"y\",\"type\":\"scatter\"},{\"hovertemplate\":\"model_nickname=Clique\\u003cbr\\u003en_samples=%{x}\\u003cbr\\u003emax_memory_used=%{y}\\u003cextra\\u003e\\u003c\\u002fextra\\u003e\",\"legendgroup\":\"Clique\",\"line\":{\"color\":\"#ab63fa\",\"dash\":\"dot\"},\"marker\":{\"symbol\":\"circle\"},\"mode\":\"lines+markers\",\"name\":\"Clique\",\"orientation\":\"v\",\"showlegend\":true,\"x\":[100,347,1202,4163,14427,50000],\"xaxis\":\"x\",\"y\":[39392.436,39392.436,39392.436,39392.436,39392.436,39392.436],\"yaxis\":\"y\",\"type\":\"scatter\"},{\"hovertemplate\":\"model_nickname=Proclus\\u003cbr\\u003en_samples=%{x}\\u003cbr\\u003emax_memory_used=%{y}\\u003cextra\\u003e\\u003c\\u002fextra\\u003e\",\"legendgroup\":\"Proclus\",\"line\":{\"color\":\"#FFA15A\",\"dash\":\"dash\"},\"marker\":{\"symbol\":\"circle\"},\"mode\":\"lines+markers\",\"name\":\"Proclus\",\"orientation\":\"v\",\"showlegend\":true,\"x\":[100,347,1202,4163,14427,50000],\"xaxis\":\"x\",\"y\":[296.556,351.028,633.112,1592.428,6781.48,31221.9],\"yaxis\":\"y\",\"type\":\"scatter\"},{\"hovertemplate\":\"model_nickname=SingleAgglomerativeClustering\\u003cbr\\u003en_samples=%{x}\\u003cbr\\u003emax_memory_used=%{y}\\u003cextra\\u003e\\u003c\\u002fextra\\u003e\",\"legendgroup\":\"SingleAgglomerativeClustering\",\"line\":{\"color\":\"#19d3f3\",\"dash\":\"longdash\"},\"marker\":{\"symbol\":\"circle\"},\"mode\":\"lines+markers\",\"name\":\"SingleAgglomerativeClustering\",\"orientation\":\"v\",\"showlegend\":true,\"x\":[100,347,1202,4163,14427,50000],\"xaxis\":\"x\",\"y\":[39392.436,39392.436,39392.436,39392.436,39392.436,39392.436],\"yaxis\":\"y\",\"type\":\"scatter\"},{\"hovertemplate\":\"model_nickname=DBSCAN\\u003cbr\\u003en_samples=%{x}\\u003cbr\\u003emax_memory_used=%{y}\\u003cextra\\u003e\\u003c\\u002fextra\\u003e\",\"legendgroup\":\"DBSCAN\",\"line\":{\"color\":\"#FF6692\",\"dash\":\"dashdot\"},\"marker\":{\"symbol\":\"circle\"},\"mode\":\"lines+markers\",\"name\":\"DBSCAN\",\"orientation\":\"v\",\"showlegend\":true,\"x\":[100,347,1202,4163,14427,50000],\"xaxis\":\"x\",\"y\":[294.172,348.308,544.028,1214.288,3506.892,5917.108],\"yaxis\":\"y\",\"type\":\"scatter\"}],                        {\"template\":{\"data\":{\"histogram2dcontour\":[{\"type\":\"histogram2dcontour\",\"colorbar\":{\"outlinewidth\":0,\"ticks\":\"\"},\"colorscale\":[[0.0,\"#0d0887\"],[0.1111111111111111,\"#46039f\"],[0.2222222222222222,\"#7201a8\"],[0.3333333333333333,\"#9c179e\"],[0.4444444444444444,\"#bd3786\"],[0.5555555555555556,\"#d8576b\"],[0.6666666666666666,\"#ed7953\"],[0.7777777777777778,\"#fb9f3a\"],[0.8888888888888888,\"#fdca26\"],[1.0,\"#f0f921\"]]}],\"choropleth\":[{\"type\":\"choropleth\",\"colorbar\":{\"outlinewidth\":0,\"ticks\":\"\"}}],\"histogram2d\":[{\"type\":\"histogram2d\",\"colorbar\":{\"outlinewidth\":0,\"ticks\":\"\"},\"colorscale\":[[0.0,\"#0d0887\"],[0.1111111111111111,\"#46039f\"],[0.2222222222222222,\"#7201a8\"],[0.3333333333333333,\"#9c179e\"],[0.4444444444444444,\"#bd3786\"],[0.5555555555555556,\"#d8576b\"],[0.6666666666666666,\"#ed7953\"],[0.7777777777777778,\"#fb9f3a\"],[0.8888888888888888,\"#fdca26\"],[1.0,\"#f0f921\"]]}],\"heatmap\":[{\"type\":\"heatmap\",\"colorbar\":{\"outlinewidth\":0,\"ticks\":\"\"},\"colorscale\":[[0.0,\"#0d0887\"],[0.1111111111111111,\"#46039f\"],[0.2222222222222222,\"#7201a8\"],[0.3333333333333333,\"#9c179e\"],[0.4444444444444444,\"#bd3786\"],[0.5555555555555556,\"#d8576b\"],[0.6666666666666666,\"#ed7953\"],[0.7777777777777778,\"#fb9f3a\"],[0.8888888888888888,\"#fdca26\"],[1.0,\"#f0f921\"]]}],\"heatmapgl\":[{\"type\":\"heatmapgl\",\"colorbar\":{\"outlinewidth\":0,\"ticks\":\"\"},\"colorscale\":[[0.0,\"#0d0887\"],[0.1111111111111111,\"#46039f\"],[0.2222222222222222,\"#7201a8\"],[0.3333333333333333,\"#9c179e\"],[0.4444444444444444,\"#bd3786\"],[0.5555555555555556,\"#d8576b\"],[0.6666666666666666,\"#ed7953\"],[0.7777777777777778,\"#fb9f3a\"],[0.8888888888888888,\"#fdca26\"],[1.0,\"#f0f921\"]]}],\"contourcarpet\":[{\"type\":\"contourcarpet\",\"colorbar\":{\"outlinewidth\":0,\"ticks\":\"\"}}],\"contour\":[{\"type\":\"contour\",\"colorbar\":{\"outlinewidth\":0,\"ticks\":\"\"},\"colorscale\":[[0.0,\"#0d0887\"],[0.1111111111111111,\"#46039f\"],[0.2222222222222222,\"#7201a8\"],[0.3333333333333333,\"#9c179e\"],[0.4444444444444444,\"#bd3786\"],[0.5555555555555556,\"#d8576b\"],[0.6666666666666666,\"#ed7953\"],[0.7777777777777778,\"#fb9f3a\"],[0.8888888888888888,\"#fdca26\"],[1.0,\"#f0f921\"]]}],\"surface\":[{\"type\":\"surface\",\"colorbar\":{\"outlinewidth\":0,\"ticks\":\"\"},\"colorscale\":[[0.0,\"#0d0887\"],[0.1111111111111111,\"#46039f\"],[0.2222222222222222,\"#7201a8\"],[0.3333333333333333,\"#9c179e\"],[0.4444444444444444,\"#bd3786\"],[0.5555555555555556,\"#d8576b\"],[0.6666666666666666,\"#ed7953\"],[0.7777777777777778,\"#fb9f3a\"],[0.8888888888888888,\"#fdca26\"],[1.0,\"#f0f921\"]]}],\"mesh3d\":[{\"type\":\"mesh3d\",\"colorbar\":{\"outlinewidth\":0,\"ticks\":\"\"}}],\"scatter\":[{\"marker\":{\"line\":{\"color\":\"#283442\"}},\"type\":\"scatter\"}],\"parcoords\":[{\"type\":\"parcoords\",\"line\":{\"colorbar\":{\"outlinewidth\":0,\"ticks\":\"\"}}}],\"scatterpolargl\":[{\"type\":\"scatterpolargl\",\"marker\":{\"colorbar\":{\"outlinewidth\":0,\"ticks\":\"\"}}}],\"bar\":[{\"error_x\":{\"color\":\"#f2f5fa\"},\"error_y\":{\"color\":\"#f2f5fa\"},\"marker\":{\"line\":{\"color\":\"rgb(17,17,17)\",\"width\":0.5},\"pattern\":{\"fillmode\":\"overlay\",\"size\":10,\"solidity\":0.2}},\"type\":\"bar\"}],\"scattergeo\":[{\"type\":\"scattergeo\",\"marker\":{\"colorbar\":{\"outlinewidth\":0,\"ticks\":\"\"}}}],\"scatterpolar\":[{\"type\":\"scatterpolar\",\"marker\":{\"colorbar\":{\"outlinewidth\":0,\"ticks\":\"\"}}}],\"histogram\":[{\"marker\":{\"pattern\":{\"fillmode\":\"overlay\",\"size\":10,\"solidity\":0.2}},\"type\":\"histogram\"}],\"scattergl\":[{\"marker\":{\"line\":{\"color\":\"#283442\"}},\"type\":\"scattergl\"}],\"scatter3d\":[{\"type\":\"scatter3d\",\"line\":{\"colorbar\":{\"outlinewidth\":0,\"ticks\":\"\"}},\"marker\":{\"colorbar\":{\"outlinewidth\":0,\"ticks\":\"\"}}}],\"scattermapbox\":[{\"type\":\"scattermapbox\",\"marker\":{\"colorbar\":{\"outlinewidth\":0,\"ticks\":\"\"}}}],\"scatterternary\":[{\"type\":\"scatterternary\",\"marker\":{\"colorbar\":{\"outlinewidth\":0,\"ticks\":\"\"}}}],\"scattercarpet\":[{\"type\":\"scattercarpet\",\"marker\":{\"colorbar\":{\"outlinewidth\":0,\"ticks\":\"\"}}}],\"carpet\":[{\"aaxis\":{\"endlinecolor\":\"#A2B1C6\",\"gridcolor\":\"#506784\",\"linecolor\":\"#506784\",\"minorgridcolor\":\"#506784\",\"startlinecolor\":\"#A2B1C6\"},\"baxis\":{\"endlinecolor\":\"#A2B1C6\",\"gridcolor\":\"#506784\",\"linecolor\":\"#506784\",\"minorgridcolor\":\"#506784\",\"startlinecolor\":\"#A2B1C6\"},\"type\":\"carpet\"}],\"table\":[{\"cells\":{\"fill\":{\"color\":\"#506784\"},\"line\":{\"color\":\"rgb(17,17,17)\"}},\"header\":{\"fill\":{\"color\":\"#2a3f5f\"},\"line\":{\"color\":\"rgb(17,17,17)\"}},\"type\":\"table\"}],\"barpolar\":[{\"marker\":{\"line\":{\"color\":\"rgb(17,17,17)\",\"width\":0.5},\"pattern\":{\"fillmode\":\"overlay\",\"size\":10,\"solidity\":0.2}},\"type\":\"barpolar\"}],\"pie\":[{\"automargin\":true,\"type\":\"pie\"}]},\"layout\":{\"autotypenumbers\":\"strict\",\"colorway\":[\"#636efa\",\"#EF553B\",\"#00cc96\",\"#ab63fa\",\"#FFA15A\",\"#19d3f3\",\"#FF6692\",\"#B6E880\",\"#FF97FF\",\"#FECB52\"],\"font\":{\"color\":\"#f2f5fa\"},\"hovermode\":\"closest\",\"hoverlabel\":{\"align\":\"left\"},\"paper_bgcolor\":\"rgb(17,17,17)\",\"plot_bgcolor\":\"rgb(17,17,17)\",\"polar\":{\"bgcolor\":\"rgb(17,17,17)\",\"angularaxis\":{\"gridcolor\":\"#506784\",\"linecolor\":\"#506784\",\"ticks\":\"\"},\"radialaxis\":{\"gridcolor\":\"#506784\",\"linecolor\":\"#506784\",\"ticks\":\"\"}},\"ternary\":{\"bgcolor\":\"rgb(17,17,17)\",\"aaxis\":{\"gridcolor\":\"#506784\",\"linecolor\":\"#506784\",\"ticks\":\"\"},\"baxis\":{\"gridcolor\":\"#506784\",\"linecolor\":\"#506784\",\"ticks\":\"\"},\"caxis\":{\"gridcolor\":\"#506784\",\"linecolor\":\"#506784\",\"ticks\":\"\"}},\"coloraxis\":{\"colorbar\":{\"outlinewidth\":0,\"ticks\":\"\"}},\"colorscale\":{\"sequential\":[[0.0,\"#0d0887\"],[0.1111111111111111,\"#46039f\"],[0.2222222222222222,\"#7201a8\"],[0.3333333333333333,\"#9c179e\"],[0.4444444444444444,\"#bd3786\"],[0.5555555555555556,\"#d8576b\"],[0.6666666666666666,\"#ed7953\"],[0.7777777777777778,\"#fb9f3a\"],[0.8888888888888888,\"#fdca26\"],[1.0,\"#f0f921\"]],\"sequentialminus\":[[0.0,\"#0d0887\"],[0.1111111111111111,\"#46039f\"],[0.2222222222222222,\"#7201a8\"],[0.3333333333333333,\"#9c179e\"],[0.4444444444444444,\"#bd3786\"],[0.5555555555555556,\"#d8576b\"],[0.6666666666666666,\"#ed7953\"],[0.7777777777777778,\"#fb9f3a\"],[0.8888888888888888,\"#fdca26\"],[1.0,\"#f0f921\"]],\"diverging\":[[0,\"#8e0152\"],[0.1,\"#c51b7d\"],[0.2,\"#de77ae\"],[0.3,\"#f1b6da\"],[0.4,\"#fde0ef\"],[0.5,\"#f7f7f7\"],[0.6,\"#e6f5d0\"],[0.7,\"#b8e186\"],[0.8,\"#7fbc41\"],[0.9,\"#4d9221\"],[1,\"#276419\"]]},\"xaxis\":{\"gridcolor\":\"#283442\",\"linecolor\":\"#506784\",\"ticks\":\"\",\"title\":{\"standoff\":15},\"zerolinecolor\":\"#283442\",\"automargin\":true,\"zerolinewidth\":2},\"yaxis\":{\"gridcolor\":\"#283442\",\"linecolor\":\"#506784\",\"ticks\":\"\",\"title\":{\"standoff\":15},\"zerolinecolor\":\"#283442\",\"automargin\":true,\"zerolinewidth\":2},\"scene\":{\"xaxis\":{\"backgroundcolor\":\"rgb(17,17,17)\",\"gridcolor\":\"#506784\",\"linecolor\":\"#506784\",\"showbackground\":true,\"ticks\":\"\",\"zerolinecolor\":\"#C8D4E3\",\"gridwidth\":2},\"yaxis\":{\"backgroundcolor\":\"rgb(17,17,17)\",\"gridcolor\":\"#506784\",\"linecolor\":\"#506784\",\"showbackground\":true,\"ticks\":\"\",\"zerolinecolor\":\"#C8D4E3\",\"gridwidth\":2},\"zaxis\":{\"backgroundcolor\":\"rgb(17,17,17)\",\"gridcolor\":\"#506784\",\"linecolor\":\"#506784\",\"showbackground\":true,\"ticks\":\"\",\"zerolinecolor\":\"#C8D4E3\",\"gridwidth\":2}},\"shapedefaults\":{\"line\":{\"color\":\"#f2f5fa\"}},\"annotationdefaults\":{\"arrowcolor\":\"#f2f5fa\",\"arrowhead\":0,\"arrowwidth\":1},\"geo\":{\"bgcolor\":\"rgb(17,17,17)\",\"landcolor\":\"rgb(17,17,17)\",\"subunitcolor\":\"#506784\",\"showland\":true,\"showlakes\":true,\"lakecolor\":\"rgb(17,17,17)\"},\"title\":{\"x\":0.05},\"updatemenudefaults\":{\"bgcolor\":\"#506784\",\"borderwidth\":0},\"sliderdefaults\":{\"bgcolor\":\"#C8D4E3\",\"borderwidth\":1,\"bordercolor\":\"rgb(17,17,17)\",\"tickwidth\":0},\"mapbox\":{\"style\":\"dark\"}}},\"xaxis\":{\"anchor\":\"y\",\"domain\":[0.0,1.0],\"title\":{\"text\":\"n_samples\"},\"type\":\"log\"},\"yaxis\":{\"anchor\":\"x\",\"domain\":[0.0,1.0],\"title\":{\"text\":\"max_memory_used\"},\"type\":\"log\"},\"legend\":{\"title\":{\"text\":\"model_nickname\"},\"tracegroupgap\":0},\"margin\":{\"t\":60}},                        {\"responsive\": true}                    ).then(function(){\n",
       "                            \n",
       "var gd = document.getElementById('193d4f57-f57b-442b-9b72-ecaa2c6e5048');\n",
       "var x = new MutationObserver(function (mutations, observer) {{\n",
       "        var display = window.getComputedStyle(gd).display;\n",
       "        if (!display || display === 'none') {{\n",
       "            console.log([gd, 'removed!']);\n",
       "            Plotly.purge(gd);\n",
       "            observer.disconnect();\n",
       "        }}\n",
       "}});\n",
       "\n",
       "// Listen for the removal of the full notebook cells\n",
       "var notebookContainer = gd.closest('#notebook-container');\n",
       "if (notebookContainer) {{\n",
       "    x.observe(notebookContainer, {childList: true});\n",
       "}}\n",
       "\n",
       "// Listen for the clearing of the current output cell\n",
       "var outputEl = gd.closest('.output');\n",
       "if (outputEl) {{\n",
       "    x.observe(outputEl, {childList: true});\n",
       "}}\n",
       "\n",
       "                        })                };                });            </script>        </div>"
      ]
     },
     "metadata": {},
     "output_type": "display_data"
    }
   ],
   "execution_count": 58
  },
  {
   "metadata": {
    "ExecuteTime": {
     "end_time": "2025-01-16T10:47:48.763827Z",
     "start_time": "2025-01-16T10:47:48.688450Z"
    }
   },
   "cell_type": "code",
   "source": [
    "df = df_common.copy()\n",
    "df = df.loc[df['n_samples']==14427]\n",
    "df = df.sort_values(by='n_features')\n",
    "fig = px.line(df, x='n_features', y='max_memory_used', color='model_nickname', line_dash='model_nickname', log_x=True, log_y=True, markers=True)\n",
    "fig.show()"
   ],
   "id": "b2317b799fcee789",
   "outputs": [
    {
     "data": {
      "application/vnd.plotly.v1+json": {
       "data": [
        {
         "hovertemplate": "model_nickname=OPTICS<br>n_features=%{x}<br>max_memory_used=%{y}<extra></extra>",
         "legendgroup": "OPTICS",
         "line": {
          "color": "#636efa",
          "dash": "solid"
         },
         "marker": {
          "symbol": "circle"
         },
         "mode": "lines+markers",
         "name": "OPTICS",
         "orientation": "v",
         "showlegend": true,
         "x": [
          100,
          347,
          1202,
          4163,
          14427,
          50000
         ],
         "xaxis": "x",
         "y": [
          59044.508,
          59044.508,
          59044.508,
          59044.508,
          59044.508,
          59044.508
         ],
         "yaxis": "y",
         "type": "scatter"
        },
        {
         "hovertemplate": "model_nickname=MeanShift<br>n_features=%{x}<br>max_memory_used=%{y}<extra></extra>",
         "legendgroup": "MeanShift",
         "line": {
          "color": "#EF553B",
          "dash": "dot"
         },
         "marker": {
          "symbol": "circle"
         },
         "mode": "lines+markers",
         "name": "MeanShift",
         "orientation": "v",
         "showlegend": true,
         "x": [
          100,
          347,
          1202,
          4163,
          14427,
          50000
         ],
         "xaxis": "x",
         "y": [
          13217.38,
          13217.38,
          13217.38,
          13217.38,
          13623.388,
          11833.908
         ],
         "yaxis": "y",
         "type": "scatter"
        },
        {
         "hovertemplate": "model_nickname=DBSCAN<br>n_features=%{x}<br>max_memory_used=%{y}<extra></extra>",
         "legendgroup": "DBSCAN",
         "line": {
          "color": "#00cc96",
          "dash": "dash"
         },
         "marker": {
          "symbol": "circle"
         },
         "mode": "lines+markers",
         "name": "DBSCAN",
         "orientation": "v",
         "showlegend": true,
         "x": [
          100,
          347,
          1202,
          4163,
          14427,
          50000
         ],
         "xaxis": "x",
         "y": [
          541.844,
          544.028,
          546.448,
          1214.856,
          3506.892,
          11523.908
         ],
         "yaxis": "y",
         "type": "scatter"
        },
        {
         "hovertemplate": "model_nickname=SpectralSubspaceRandomization<br>n_features=%{x}<br>max_memory_used=%{y}<extra></extra>",
         "legendgroup": "SpectralSubspaceRandomization",
         "line": {
          "color": "#ab63fa",
          "dash": "longdash"
         },
         "marker": {
          "symbol": "circle"
         },
         "mode": "lines+markers",
         "name": "SpectralSubspaceRandomization",
         "orientation": "v",
         "showlegend": true,
         "x": [
          100,
          347,
          1202,
          4163,
          14427,
          50000
         ],
         "xaxis": "x",
         "y": [
          102796.004,
          102855.016,
          102988.66,
          103476.468,
          105213.212,
          111232.488
         ],
         "yaxis": "y",
         "type": "scatter"
        },
        {
         "hovertemplate": "model_nickname=AverageAgglomerativeClustering<br>n_features=%{x}<br>max_memory_used=%{y}<extra></extra>",
         "legendgroup": "AverageAgglomerativeClustering",
         "line": {
          "color": "#FFA15A",
          "dash": "dashdot"
         },
         "marker": {
          "symbol": "circle"
         },
         "mode": "lines+markers",
         "name": "AverageAgglomerativeClustering",
         "orientation": "v",
         "showlegend": true,
         "x": [
          100,
          347,
          1202,
          4163,
          14427,
          50000
         ],
         "xaxis": "x",
         "y": [
          3544.304,
          3544.304,
          3544.304,
          3544.304,
          4052.32,
          11600.132
         ],
         "yaxis": "y",
         "type": "scatter"
        },
        {
         "hovertemplate": "model_nickname=RecursiveClustering<br>n_features=%{x}<br>max_memory_used=%{y}<extra></extra>",
         "legendgroup": "RecursiveClustering",
         "line": {
          "color": "#19d3f3",
          "dash": "longdashdot"
         },
         "marker": {
          "symbol": "circle"
         },
         "mode": "lines+markers",
         "name": "RecursiveClustering",
         "orientation": "v",
         "showlegend": true,
         "x": [
          100,
          347,
          1202,
          4163,
          14427,
          50000
         ],
         "xaxis": "x",
         "y": [
          3530.004,
          3530.004,
          3530.004,
          3530.004,
          4063.696,
          11611.328
         ],
         "yaxis": "y",
         "type": "scatter"
        },
        {
         "hovertemplate": "model_nickname=AffinityPropagation<br>n_features=%{x}<br>max_memory_used=%{y}<extra></extra>",
         "legendgroup": "AffinityPropagation",
         "line": {
          "color": "#FF6692",
          "dash": "solid"
         },
         "marker": {
          "symbol": "circle"
         },
         "mode": "lines+markers",
         "name": "AffinityPropagation",
         "orientation": "v",
         "showlegend": true,
         "x": [
          100,
          347,
          1202,
          4163,
          14427,
          50000
         ],
         "xaxis": "x",
         "y": [
          10063.452,
          9016.372,
          8041.264,
          10540.584,
          10614.24,
          15093.744
         ],
         "yaxis": "y",
         "type": "scatter"
        },
        {
         "hovertemplate": "model_nickname=SingleAgglomerativeClustering<br>n_features=%{x}<br>max_memory_used=%{y}<extra></extra>",
         "legendgroup": "SingleAgglomerativeClustering",
         "line": {
          "color": "#B6E880",
          "dash": "dot"
         },
         "marker": {
          "symbol": "circle"
         },
         "mode": "lines+markers",
         "name": "SingleAgglomerativeClustering",
         "orientation": "v",
         "showlegend": true,
         "x": [
          100,
          347,
          1202,
          4163,
          14427,
          50000
         ],
         "xaxis": "x",
         "y": [
          39392.436,
          39392.436,
          39392.436,
          39392.436,
          39392.436,
          39392.436
         ],
         "yaxis": "y",
         "type": "scatter"
        },
        {
         "hovertemplate": "model_nickname=KMeansProj<br>n_features=%{x}<br>max_memory_used=%{y}<extra></extra>",
         "legendgroup": "KMeansProj",
         "line": {
          "color": "#FF97FF",
          "dash": "dash"
         },
         "marker": {
          "symbol": "circle"
         },
         "mode": "lines+markers",
         "name": "KMeansProj",
         "orientation": "v",
         "showlegend": true,
         "x": [
          100,
          347,
          1202,
          4163,
          14427,
          50000
         ],
         "xaxis": "x",
         "y": [
          4383.28,
          4383.28,
          4383.28,
          4383.28,
          null,
          null
         ],
         "yaxis": "y",
         "type": "scatter"
        },
        {
         "hovertemplate": "model_nickname=SpectralClustering<br>n_features=%{x}<br>max_memory_used=%{y}<extra></extra>",
         "legendgroup": "SpectralClustering",
         "line": {
          "color": "#FECB52",
          "dash": "longdash"
         },
         "marker": {
          "symbol": "circle"
         },
         "mode": "lines+markers",
         "name": "SpectralClustering",
         "orientation": "v",
         "showlegend": true,
         "x": [
          100,
          347,
          1202,
          4163,
          14427,
          50000
         ],
         "xaxis": "x",
         "y": [
          6843.88,
          8511.432,
          6934.944,
          7265.964,
          8433.328,
          12442.764
         ],
         "yaxis": "y",
         "type": "scatter"
        },
        {
         "hovertemplate": "model_nickname=Clique<br>n_features=%{x}<br>max_memory_used=%{y}<extra></extra>",
         "legendgroup": "Clique",
         "line": {
          "color": "#636efa",
          "dash": "dashdot"
         },
         "marker": {
          "symbol": "circle"
         },
         "mode": "lines+markers",
         "name": "Clique",
         "orientation": "v",
         "showlegend": true,
         "x": [
          100,
          347,
          1202,
          4163,
          14427,
          50000
         ],
         "xaxis": "x",
         "y": [
          39392.436,
          39392.436,
          39392.436,
          39392.436,
          39392.436,
          39392.436
         ],
         "yaxis": "y",
         "type": "scatter"
        },
        {
         "hovertemplate": "model_nickname=WardAgglomerativeClustering<br>n_features=%{x}<br>max_memory_used=%{y}<extra></extra>",
         "legendgroup": "WardAgglomerativeClustering",
         "line": {
          "color": "#EF553B",
          "dash": "longdashdot"
         },
         "marker": {
          "symbol": "circle"
         },
         "mode": "lines+markers",
         "name": "WardAgglomerativeClustering",
         "orientation": "v",
         "showlegend": true,
         "x": [
          100,
          347,
          1202,
          4163,
          14427,
          50000
         ],
         "xaxis": "x",
         "y": [
          1910.276,
          1946.52,
          2050.272,
          2377.932,
          3534.272,
          7571.516
         ],
         "yaxis": "y",
         "type": "scatter"
        },
        {
         "hovertemplate": "model_nickname=IRFLLRR<br>n_features=%{x}<br>max_memory_used=%{y}<extra></extra>",
         "legendgroup": "IRFLLRR",
         "line": {
          "color": "#00cc96",
          "dash": "solid"
         },
         "marker": {
          "symbol": "circle"
         },
         "mode": "lines+markers",
         "name": "IRFLLRR",
         "orientation": "v",
         "showlegend": true,
         "x": [
          100,
          347,
          1202,
          4163,
          14427,
          50000
         ],
         "xaxis": "x",
         "y": [
          null,
          null,
          null,
          null,
          null,
          null
         ],
         "yaxis": "y",
         "type": "scatter"
        },
        {
         "hovertemplate": "model_nickname=Proclus<br>n_features=%{x}<br>max_memory_used=%{y}<extra></extra>",
         "legendgroup": "Proclus",
         "line": {
          "color": "#ab63fa",
          "dash": "dot"
         },
         "marker": {
          "symbol": "circle"
         },
         "mode": "lines+markers",
         "name": "Proclus",
         "orientation": "v",
         "showlegend": true,
         "x": [
          100,
          347,
          1202,
          4163,
          14427,
          50000
         ],
         "xaxis": "x",
         "y": [
          2724.508,
          2758.192,
          2861.476,
          3191.78,
          6781.48,
          16117.152
         ],
         "yaxis": "y",
         "type": "scatter"
        },
        {
         "hovertemplate": "model_nickname=CompleteAgglomerativeClustering<br>n_features=%{x}<br>max_memory_used=%{y}<extra></extra>",
         "legendgroup": "CompleteAgglomerativeClustering",
         "line": {
          "color": "#FFA15A",
          "dash": "dash"
         },
         "marker": {
          "symbol": "circle"
         },
         "mode": "lines+markers",
         "name": "CompleteAgglomerativeClustering",
         "orientation": "v",
         "showlegend": true,
         "x": [
          100,
          347,
          1202,
          4163,
          14427,
          50000
         ],
         "xaxis": "x",
         "y": [
          1913.548,
          1947.62,
          2048.848,
          2379.508,
          3536.008,
          7572.296
         ],
         "yaxis": "y",
         "type": "scatter"
        },
        {
         "hovertemplate": "model_nickname=KMeans<br>n_features=%{x}<br>max_memory_used=%{y}<extra></extra>",
         "legendgroup": "KMeans",
         "line": {
          "color": "#19d3f3",
          "dash": "longdash"
         },
         "marker": {
          "symbol": "circle"
         },
         "mode": "lines+markers",
         "name": "KMeans",
         "orientation": "v",
         "showlegend": true,
         "x": [
          100,
          347,
          1202,
          4163,
          14427,
          50000
         ],
         "xaxis": "x",
         "y": [
          39404.5,
          39404.5,
          39404.5,
          39404.5,
          39404.5,
          39404.5
         ],
         "yaxis": "y",
         "type": "scatter"
        },
        {
         "hovertemplate": "model_nickname=HDBSCAN<br>n_features=%{x}<br>max_memory_used=%{y}<extra></extra>",
         "legendgroup": "HDBSCAN",
         "line": {
          "color": "#FF6692",
          "dash": "dashdot"
         },
         "marker": {
          "symbol": "circle"
         },
         "mode": "lines+markers",
         "name": "HDBSCAN",
         "orientation": "v",
         "showlegend": true,
         "x": [
          100,
          347,
          1202,
          4163,
          14427,
          50000
         ],
         "xaxis": "x",
         "y": [
          1345.592,
          1377.68,
          1483.66,
          1818.696,
          null,
          null
         ],
         "yaxis": "y",
         "type": "scatter"
        }
       ],
       "layout": {
        "template": {
         "data": {
          "histogram2dcontour": [
           {
            "type": "histogram2dcontour",
            "colorbar": {
             "outlinewidth": 0,
             "ticks": ""
            },
            "colorscale": [
             [
              0.0,
              "#0d0887"
             ],
             [
              0.1111111111111111,
              "#46039f"
             ],
             [
              0.2222222222222222,
              "#7201a8"
             ],
             [
              0.3333333333333333,
              "#9c179e"
             ],
             [
              0.4444444444444444,
              "#bd3786"
             ],
             [
              0.5555555555555556,
              "#d8576b"
             ],
             [
              0.6666666666666666,
              "#ed7953"
             ],
             [
              0.7777777777777778,
              "#fb9f3a"
             ],
             [
              0.8888888888888888,
              "#fdca26"
             ],
             [
              1.0,
              "#f0f921"
             ]
            ]
           }
          ],
          "choropleth": [
           {
            "type": "choropleth",
            "colorbar": {
             "outlinewidth": 0,
             "ticks": ""
            }
           }
          ],
          "histogram2d": [
           {
            "type": "histogram2d",
            "colorbar": {
             "outlinewidth": 0,
             "ticks": ""
            },
            "colorscale": [
             [
              0.0,
              "#0d0887"
             ],
             [
              0.1111111111111111,
              "#46039f"
             ],
             [
              0.2222222222222222,
              "#7201a8"
             ],
             [
              0.3333333333333333,
              "#9c179e"
             ],
             [
              0.4444444444444444,
              "#bd3786"
             ],
             [
              0.5555555555555556,
              "#d8576b"
             ],
             [
              0.6666666666666666,
              "#ed7953"
             ],
             [
              0.7777777777777778,
              "#fb9f3a"
             ],
             [
              0.8888888888888888,
              "#fdca26"
             ],
             [
              1.0,
              "#f0f921"
             ]
            ]
           }
          ],
          "heatmap": [
           {
            "type": "heatmap",
            "colorbar": {
             "outlinewidth": 0,
             "ticks": ""
            },
            "colorscale": [
             [
              0.0,
              "#0d0887"
             ],
             [
              0.1111111111111111,
              "#46039f"
             ],
             [
              0.2222222222222222,
              "#7201a8"
             ],
             [
              0.3333333333333333,
              "#9c179e"
             ],
             [
              0.4444444444444444,
              "#bd3786"
             ],
             [
              0.5555555555555556,
              "#d8576b"
             ],
             [
              0.6666666666666666,
              "#ed7953"
             ],
             [
              0.7777777777777778,
              "#fb9f3a"
             ],
             [
              0.8888888888888888,
              "#fdca26"
             ],
             [
              1.0,
              "#f0f921"
             ]
            ]
           }
          ],
          "heatmapgl": [
           {
            "type": "heatmapgl",
            "colorbar": {
             "outlinewidth": 0,
             "ticks": ""
            },
            "colorscale": [
             [
              0.0,
              "#0d0887"
             ],
             [
              0.1111111111111111,
              "#46039f"
             ],
             [
              0.2222222222222222,
              "#7201a8"
             ],
             [
              0.3333333333333333,
              "#9c179e"
             ],
             [
              0.4444444444444444,
              "#bd3786"
             ],
             [
              0.5555555555555556,
              "#d8576b"
             ],
             [
              0.6666666666666666,
              "#ed7953"
             ],
             [
              0.7777777777777778,
              "#fb9f3a"
             ],
             [
              0.8888888888888888,
              "#fdca26"
             ],
             [
              1.0,
              "#f0f921"
             ]
            ]
           }
          ],
          "contourcarpet": [
           {
            "type": "contourcarpet",
            "colorbar": {
             "outlinewidth": 0,
             "ticks": ""
            }
           }
          ],
          "contour": [
           {
            "type": "contour",
            "colorbar": {
             "outlinewidth": 0,
             "ticks": ""
            },
            "colorscale": [
             [
              0.0,
              "#0d0887"
             ],
             [
              0.1111111111111111,
              "#46039f"
             ],
             [
              0.2222222222222222,
              "#7201a8"
             ],
             [
              0.3333333333333333,
              "#9c179e"
             ],
             [
              0.4444444444444444,
              "#bd3786"
             ],
             [
              0.5555555555555556,
              "#d8576b"
             ],
             [
              0.6666666666666666,
              "#ed7953"
             ],
             [
              0.7777777777777778,
              "#fb9f3a"
             ],
             [
              0.8888888888888888,
              "#fdca26"
             ],
             [
              1.0,
              "#f0f921"
             ]
            ]
           }
          ],
          "surface": [
           {
            "type": "surface",
            "colorbar": {
             "outlinewidth": 0,
             "ticks": ""
            },
            "colorscale": [
             [
              0.0,
              "#0d0887"
             ],
             [
              0.1111111111111111,
              "#46039f"
             ],
             [
              0.2222222222222222,
              "#7201a8"
             ],
             [
              0.3333333333333333,
              "#9c179e"
             ],
             [
              0.4444444444444444,
              "#bd3786"
             ],
             [
              0.5555555555555556,
              "#d8576b"
             ],
             [
              0.6666666666666666,
              "#ed7953"
             ],
             [
              0.7777777777777778,
              "#fb9f3a"
             ],
             [
              0.8888888888888888,
              "#fdca26"
             ],
             [
              1.0,
              "#f0f921"
             ]
            ]
           }
          ],
          "mesh3d": [
           {
            "type": "mesh3d",
            "colorbar": {
             "outlinewidth": 0,
             "ticks": ""
            }
           }
          ],
          "scatter": [
           {
            "marker": {
             "line": {
              "color": "#283442"
             }
            },
            "type": "scatter"
           }
          ],
          "parcoords": [
           {
            "type": "parcoords",
            "line": {
             "colorbar": {
              "outlinewidth": 0,
              "ticks": ""
             }
            }
           }
          ],
          "scatterpolargl": [
           {
            "type": "scatterpolargl",
            "marker": {
             "colorbar": {
              "outlinewidth": 0,
              "ticks": ""
             }
            }
           }
          ],
          "bar": [
           {
            "error_x": {
             "color": "#f2f5fa"
            },
            "error_y": {
             "color": "#f2f5fa"
            },
            "marker": {
             "line": {
              "color": "rgb(17,17,17)",
              "width": 0.5
             },
             "pattern": {
              "fillmode": "overlay",
              "size": 10,
              "solidity": 0.2
             }
            },
            "type": "bar"
           }
          ],
          "scattergeo": [
           {
            "type": "scattergeo",
            "marker": {
             "colorbar": {
              "outlinewidth": 0,
              "ticks": ""
             }
            }
           }
          ],
          "scatterpolar": [
           {
            "type": "scatterpolar",
            "marker": {
             "colorbar": {
              "outlinewidth": 0,
              "ticks": ""
             }
            }
           }
          ],
          "histogram": [
           {
            "marker": {
             "pattern": {
              "fillmode": "overlay",
              "size": 10,
              "solidity": 0.2
             }
            },
            "type": "histogram"
           }
          ],
          "scattergl": [
           {
            "marker": {
             "line": {
              "color": "#283442"
             }
            },
            "type": "scattergl"
           }
          ],
          "scatter3d": [
           {
            "type": "scatter3d",
            "line": {
             "colorbar": {
              "outlinewidth": 0,
              "ticks": ""
             }
            },
            "marker": {
             "colorbar": {
              "outlinewidth": 0,
              "ticks": ""
             }
            }
           }
          ],
          "scattermapbox": [
           {
            "type": "scattermapbox",
            "marker": {
             "colorbar": {
              "outlinewidth": 0,
              "ticks": ""
             }
            }
           }
          ],
          "scatterternary": [
           {
            "type": "scatterternary",
            "marker": {
             "colorbar": {
              "outlinewidth": 0,
              "ticks": ""
             }
            }
           }
          ],
          "scattercarpet": [
           {
            "type": "scattercarpet",
            "marker": {
             "colorbar": {
              "outlinewidth": 0,
              "ticks": ""
             }
            }
           }
          ],
          "carpet": [
           {
            "aaxis": {
             "endlinecolor": "#A2B1C6",
             "gridcolor": "#506784",
             "linecolor": "#506784",
             "minorgridcolor": "#506784",
             "startlinecolor": "#A2B1C6"
            },
            "baxis": {
             "endlinecolor": "#A2B1C6",
             "gridcolor": "#506784",
             "linecolor": "#506784",
             "minorgridcolor": "#506784",
             "startlinecolor": "#A2B1C6"
            },
            "type": "carpet"
           }
          ],
          "table": [
           {
            "cells": {
             "fill": {
              "color": "#506784"
             },
             "line": {
              "color": "rgb(17,17,17)"
             }
            },
            "header": {
             "fill": {
              "color": "#2a3f5f"
             },
             "line": {
              "color": "rgb(17,17,17)"
             }
            },
            "type": "table"
           }
          ],
          "barpolar": [
           {
            "marker": {
             "line": {
              "color": "rgb(17,17,17)",
              "width": 0.5
             },
             "pattern": {
              "fillmode": "overlay",
              "size": 10,
              "solidity": 0.2
             }
            },
            "type": "barpolar"
           }
          ],
          "pie": [
           {
            "automargin": true,
            "type": "pie"
           }
          ]
         },
         "layout": {
          "autotypenumbers": "strict",
          "colorway": [
           "#636efa",
           "#EF553B",
           "#00cc96",
           "#ab63fa",
           "#FFA15A",
           "#19d3f3",
           "#FF6692",
           "#B6E880",
           "#FF97FF",
           "#FECB52"
          ],
          "font": {
           "color": "#f2f5fa"
          },
          "hovermode": "closest",
          "hoverlabel": {
           "align": "left"
          },
          "paper_bgcolor": "rgb(17,17,17)",
          "plot_bgcolor": "rgb(17,17,17)",
          "polar": {
           "bgcolor": "rgb(17,17,17)",
           "angularaxis": {
            "gridcolor": "#506784",
            "linecolor": "#506784",
            "ticks": ""
           },
           "radialaxis": {
            "gridcolor": "#506784",
            "linecolor": "#506784",
            "ticks": ""
           }
          },
          "ternary": {
           "bgcolor": "rgb(17,17,17)",
           "aaxis": {
            "gridcolor": "#506784",
            "linecolor": "#506784",
            "ticks": ""
           },
           "baxis": {
            "gridcolor": "#506784",
            "linecolor": "#506784",
            "ticks": ""
           },
           "caxis": {
            "gridcolor": "#506784",
            "linecolor": "#506784",
            "ticks": ""
           }
          },
          "coloraxis": {
           "colorbar": {
            "outlinewidth": 0,
            "ticks": ""
           }
          },
          "colorscale": {
           "sequential": [
            [
             0.0,
             "#0d0887"
            ],
            [
             0.1111111111111111,
             "#46039f"
            ],
            [
             0.2222222222222222,
             "#7201a8"
            ],
            [
             0.3333333333333333,
             "#9c179e"
            ],
            [
             0.4444444444444444,
             "#bd3786"
            ],
            [
             0.5555555555555556,
             "#d8576b"
            ],
            [
             0.6666666666666666,
             "#ed7953"
            ],
            [
             0.7777777777777778,
             "#fb9f3a"
            ],
            [
             0.8888888888888888,
             "#fdca26"
            ],
            [
             1.0,
             "#f0f921"
            ]
           ],
           "sequentialminus": [
            [
             0.0,
             "#0d0887"
            ],
            [
             0.1111111111111111,
             "#46039f"
            ],
            [
             0.2222222222222222,
             "#7201a8"
            ],
            [
             0.3333333333333333,
             "#9c179e"
            ],
            [
             0.4444444444444444,
             "#bd3786"
            ],
            [
             0.5555555555555556,
             "#d8576b"
            ],
            [
             0.6666666666666666,
             "#ed7953"
            ],
            [
             0.7777777777777778,
             "#fb9f3a"
            ],
            [
             0.8888888888888888,
             "#fdca26"
            ],
            [
             1.0,
             "#f0f921"
            ]
           ],
           "diverging": [
            [
             0,
             "#8e0152"
            ],
            [
             0.1,
             "#c51b7d"
            ],
            [
             0.2,
             "#de77ae"
            ],
            [
             0.3,
             "#f1b6da"
            ],
            [
             0.4,
             "#fde0ef"
            ],
            [
             0.5,
             "#f7f7f7"
            ],
            [
             0.6,
             "#e6f5d0"
            ],
            [
             0.7,
             "#b8e186"
            ],
            [
             0.8,
             "#7fbc41"
            ],
            [
             0.9,
             "#4d9221"
            ],
            [
             1,
             "#276419"
            ]
           ]
          },
          "xaxis": {
           "gridcolor": "#283442",
           "linecolor": "#506784",
           "ticks": "",
           "title": {
            "standoff": 15
           },
           "zerolinecolor": "#283442",
           "automargin": true,
           "zerolinewidth": 2
          },
          "yaxis": {
           "gridcolor": "#283442",
           "linecolor": "#506784",
           "ticks": "",
           "title": {
            "standoff": 15
           },
           "zerolinecolor": "#283442",
           "automargin": true,
           "zerolinewidth": 2
          },
          "scene": {
           "xaxis": {
            "backgroundcolor": "rgb(17,17,17)",
            "gridcolor": "#506784",
            "linecolor": "#506784",
            "showbackground": true,
            "ticks": "",
            "zerolinecolor": "#C8D4E3",
            "gridwidth": 2
           },
           "yaxis": {
            "backgroundcolor": "rgb(17,17,17)",
            "gridcolor": "#506784",
            "linecolor": "#506784",
            "showbackground": true,
            "ticks": "",
            "zerolinecolor": "#C8D4E3",
            "gridwidth": 2
           },
           "zaxis": {
            "backgroundcolor": "rgb(17,17,17)",
            "gridcolor": "#506784",
            "linecolor": "#506784",
            "showbackground": true,
            "ticks": "",
            "zerolinecolor": "#C8D4E3",
            "gridwidth": 2
           }
          },
          "shapedefaults": {
           "line": {
            "color": "#f2f5fa"
           }
          },
          "annotationdefaults": {
           "arrowcolor": "#f2f5fa",
           "arrowhead": 0,
           "arrowwidth": 1
          },
          "geo": {
           "bgcolor": "rgb(17,17,17)",
           "landcolor": "rgb(17,17,17)",
           "subunitcolor": "#506784",
           "showland": true,
           "showlakes": true,
           "lakecolor": "rgb(17,17,17)"
          },
          "title": {
           "x": 0.05
          },
          "updatemenudefaults": {
           "bgcolor": "#506784",
           "borderwidth": 0
          },
          "sliderdefaults": {
           "bgcolor": "#C8D4E3",
           "borderwidth": 1,
           "bordercolor": "rgb(17,17,17)",
           "tickwidth": 0
          },
          "mapbox": {
           "style": "dark"
          }
         }
        },
        "xaxis": {
         "anchor": "y",
         "domain": [
          0.0,
          1.0
         ],
         "title": {
          "text": "n_features"
         },
         "type": "log"
        },
        "yaxis": {
         "anchor": "x",
         "domain": [
          0.0,
          1.0
         ],
         "title": {
          "text": "max_memory_used"
         },
         "type": "log"
        },
        "legend": {
         "title": {
          "text": "model_nickname"
         },
         "tracegroupgap": 0
        },
        "margin": {
         "t": 60
        }
       },
       "config": {
        "plotlyServerURL": "https://plot.ly"
       }
      },
      "text/html": [
       "<div>                            <div id=\"3595d0c0-819d-4081-9e1f-cee9a3338a83\" class=\"plotly-graph-div\" style=\"height:525px; width:100%;\"></div>            <script type=\"text/javascript\">                require([\"plotly\"], function(Plotly) {                    window.PLOTLYENV=window.PLOTLYENV || {};                                    if (document.getElementById(\"3595d0c0-819d-4081-9e1f-cee9a3338a83\")) {                    Plotly.newPlot(                        \"3595d0c0-819d-4081-9e1f-cee9a3338a83\",                        [{\"hovertemplate\":\"model_nickname=OPTICS\\u003cbr\\u003en_features=%{x}\\u003cbr\\u003emax_memory_used=%{y}\\u003cextra\\u003e\\u003c\\u002fextra\\u003e\",\"legendgroup\":\"OPTICS\",\"line\":{\"color\":\"#636efa\",\"dash\":\"solid\"},\"marker\":{\"symbol\":\"circle\"},\"mode\":\"lines+markers\",\"name\":\"OPTICS\",\"orientation\":\"v\",\"showlegend\":true,\"x\":[100,347,1202,4163,14427,50000],\"xaxis\":\"x\",\"y\":[59044.508,59044.508,59044.508,59044.508,59044.508,59044.508],\"yaxis\":\"y\",\"type\":\"scatter\"},{\"hovertemplate\":\"model_nickname=MeanShift\\u003cbr\\u003en_features=%{x}\\u003cbr\\u003emax_memory_used=%{y}\\u003cextra\\u003e\\u003c\\u002fextra\\u003e\",\"legendgroup\":\"MeanShift\",\"line\":{\"color\":\"#EF553B\",\"dash\":\"dot\"},\"marker\":{\"symbol\":\"circle\"},\"mode\":\"lines+markers\",\"name\":\"MeanShift\",\"orientation\":\"v\",\"showlegend\":true,\"x\":[100,347,1202,4163,14427,50000],\"xaxis\":\"x\",\"y\":[13217.38,13217.38,13217.38,13217.38,13623.388,11833.908],\"yaxis\":\"y\",\"type\":\"scatter\"},{\"hovertemplate\":\"model_nickname=DBSCAN\\u003cbr\\u003en_features=%{x}\\u003cbr\\u003emax_memory_used=%{y}\\u003cextra\\u003e\\u003c\\u002fextra\\u003e\",\"legendgroup\":\"DBSCAN\",\"line\":{\"color\":\"#00cc96\",\"dash\":\"dash\"},\"marker\":{\"symbol\":\"circle\"},\"mode\":\"lines+markers\",\"name\":\"DBSCAN\",\"orientation\":\"v\",\"showlegend\":true,\"x\":[100,347,1202,4163,14427,50000],\"xaxis\":\"x\",\"y\":[541.844,544.028,546.448,1214.856,3506.892,11523.908],\"yaxis\":\"y\",\"type\":\"scatter\"},{\"hovertemplate\":\"model_nickname=SpectralSubspaceRandomization\\u003cbr\\u003en_features=%{x}\\u003cbr\\u003emax_memory_used=%{y}\\u003cextra\\u003e\\u003c\\u002fextra\\u003e\",\"legendgroup\":\"SpectralSubspaceRandomization\",\"line\":{\"color\":\"#ab63fa\",\"dash\":\"longdash\"},\"marker\":{\"symbol\":\"circle\"},\"mode\":\"lines+markers\",\"name\":\"SpectralSubspaceRandomization\",\"orientation\":\"v\",\"showlegend\":true,\"x\":[100,347,1202,4163,14427,50000],\"xaxis\":\"x\",\"y\":[102796.004,102855.016,102988.66,103476.468,105213.212,111232.488],\"yaxis\":\"y\",\"type\":\"scatter\"},{\"hovertemplate\":\"model_nickname=AverageAgglomerativeClustering\\u003cbr\\u003en_features=%{x}\\u003cbr\\u003emax_memory_used=%{y}\\u003cextra\\u003e\\u003c\\u002fextra\\u003e\",\"legendgroup\":\"AverageAgglomerativeClustering\",\"line\":{\"color\":\"#FFA15A\",\"dash\":\"dashdot\"},\"marker\":{\"symbol\":\"circle\"},\"mode\":\"lines+markers\",\"name\":\"AverageAgglomerativeClustering\",\"orientation\":\"v\",\"showlegend\":true,\"x\":[100,347,1202,4163,14427,50000],\"xaxis\":\"x\",\"y\":[3544.304,3544.304,3544.304,3544.304,4052.32,11600.132],\"yaxis\":\"y\",\"type\":\"scatter\"},{\"hovertemplate\":\"model_nickname=RecursiveClustering\\u003cbr\\u003en_features=%{x}\\u003cbr\\u003emax_memory_used=%{y}\\u003cextra\\u003e\\u003c\\u002fextra\\u003e\",\"legendgroup\":\"RecursiveClustering\",\"line\":{\"color\":\"#19d3f3\",\"dash\":\"longdashdot\"},\"marker\":{\"symbol\":\"circle\"},\"mode\":\"lines+markers\",\"name\":\"RecursiveClustering\",\"orientation\":\"v\",\"showlegend\":true,\"x\":[100,347,1202,4163,14427,50000],\"xaxis\":\"x\",\"y\":[3530.004,3530.004,3530.004,3530.004,4063.696,11611.328],\"yaxis\":\"y\",\"type\":\"scatter\"},{\"hovertemplate\":\"model_nickname=AffinityPropagation\\u003cbr\\u003en_features=%{x}\\u003cbr\\u003emax_memory_used=%{y}\\u003cextra\\u003e\\u003c\\u002fextra\\u003e\",\"legendgroup\":\"AffinityPropagation\",\"line\":{\"color\":\"#FF6692\",\"dash\":\"solid\"},\"marker\":{\"symbol\":\"circle\"},\"mode\":\"lines+markers\",\"name\":\"AffinityPropagation\",\"orientation\":\"v\",\"showlegend\":true,\"x\":[100,347,1202,4163,14427,50000],\"xaxis\":\"x\",\"y\":[10063.452,9016.372,8041.264,10540.584,10614.24,15093.744],\"yaxis\":\"y\",\"type\":\"scatter\"},{\"hovertemplate\":\"model_nickname=SingleAgglomerativeClustering\\u003cbr\\u003en_features=%{x}\\u003cbr\\u003emax_memory_used=%{y}\\u003cextra\\u003e\\u003c\\u002fextra\\u003e\",\"legendgroup\":\"SingleAgglomerativeClustering\",\"line\":{\"color\":\"#B6E880\",\"dash\":\"dot\"},\"marker\":{\"symbol\":\"circle\"},\"mode\":\"lines+markers\",\"name\":\"SingleAgglomerativeClustering\",\"orientation\":\"v\",\"showlegend\":true,\"x\":[100,347,1202,4163,14427,50000],\"xaxis\":\"x\",\"y\":[39392.436,39392.436,39392.436,39392.436,39392.436,39392.436],\"yaxis\":\"y\",\"type\":\"scatter\"},{\"hovertemplate\":\"model_nickname=KMeansProj\\u003cbr\\u003en_features=%{x}\\u003cbr\\u003emax_memory_used=%{y}\\u003cextra\\u003e\\u003c\\u002fextra\\u003e\",\"legendgroup\":\"KMeansProj\",\"line\":{\"color\":\"#FF97FF\",\"dash\":\"dash\"},\"marker\":{\"symbol\":\"circle\"},\"mode\":\"lines+markers\",\"name\":\"KMeansProj\",\"orientation\":\"v\",\"showlegend\":true,\"x\":[100,347,1202,4163,14427,50000],\"xaxis\":\"x\",\"y\":[4383.28,4383.28,4383.28,4383.28,null,null],\"yaxis\":\"y\",\"type\":\"scatter\"},{\"hovertemplate\":\"model_nickname=SpectralClustering\\u003cbr\\u003en_features=%{x}\\u003cbr\\u003emax_memory_used=%{y}\\u003cextra\\u003e\\u003c\\u002fextra\\u003e\",\"legendgroup\":\"SpectralClustering\",\"line\":{\"color\":\"#FECB52\",\"dash\":\"longdash\"},\"marker\":{\"symbol\":\"circle\"},\"mode\":\"lines+markers\",\"name\":\"SpectralClustering\",\"orientation\":\"v\",\"showlegend\":true,\"x\":[100,347,1202,4163,14427,50000],\"xaxis\":\"x\",\"y\":[6843.88,8511.432,6934.944,7265.964,8433.328,12442.764],\"yaxis\":\"y\",\"type\":\"scatter\"},{\"hovertemplate\":\"model_nickname=Clique\\u003cbr\\u003en_features=%{x}\\u003cbr\\u003emax_memory_used=%{y}\\u003cextra\\u003e\\u003c\\u002fextra\\u003e\",\"legendgroup\":\"Clique\",\"line\":{\"color\":\"#636efa\",\"dash\":\"dashdot\"},\"marker\":{\"symbol\":\"circle\"},\"mode\":\"lines+markers\",\"name\":\"Clique\",\"orientation\":\"v\",\"showlegend\":true,\"x\":[100,347,1202,4163,14427,50000],\"xaxis\":\"x\",\"y\":[39392.436,39392.436,39392.436,39392.436,39392.436,39392.436],\"yaxis\":\"y\",\"type\":\"scatter\"},{\"hovertemplate\":\"model_nickname=WardAgglomerativeClustering\\u003cbr\\u003en_features=%{x}\\u003cbr\\u003emax_memory_used=%{y}\\u003cextra\\u003e\\u003c\\u002fextra\\u003e\",\"legendgroup\":\"WardAgglomerativeClustering\",\"line\":{\"color\":\"#EF553B\",\"dash\":\"longdashdot\"},\"marker\":{\"symbol\":\"circle\"},\"mode\":\"lines+markers\",\"name\":\"WardAgglomerativeClustering\",\"orientation\":\"v\",\"showlegend\":true,\"x\":[100,347,1202,4163,14427,50000],\"xaxis\":\"x\",\"y\":[1910.276,1946.52,2050.272,2377.932,3534.272,7571.516],\"yaxis\":\"y\",\"type\":\"scatter\"},{\"hovertemplate\":\"model_nickname=IRFLLRR\\u003cbr\\u003en_features=%{x}\\u003cbr\\u003emax_memory_used=%{y}\\u003cextra\\u003e\\u003c\\u002fextra\\u003e\",\"legendgroup\":\"IRFLLRR\",\"line\":{\"color\":\"#00cc96\",\"dash\":\"solid\"},\"marker\":{\"symbol\":\"circle\"},\"mode\":\"lines+markers\",\"name\":\"IRFLLRR\",\"orientation\":\"v\",\"showlegend\":true,\"x\":[100,347,1202,4163,14427,50000],\"xaxis\":\"x\",\"y\":[null,null,null,null,null,null],\"yaxis\":\"y\",\"type\":\"scatter\"},{\"hovertemplate\":\"model_nickname=Proclus\\u003cbr\\u003en_features=%{x}\\u003cbr\\u003emax_memory_used=%{y}\\u003cextra\\u003e\\u003c\\u002fextra\\u003e\",\"legendgroup\":\"Proclus\",\"line\":{\"color\":\"#ab63fa\",\"dash\":\"dot\"},\"marker\":{\"symbol\":\"circle\"},\"mode\":\"lines+markers\",\"name\":\"Proclus\",\"orientation\":\"v\",\"showlegend\":true,\"x\":[100,347,1202,4163,14427,50000],\"xaxis\":\"x\",\"y\":[2724.508,2758.192,2861.476,3191.78,6781.48,16117.152],\"yaxis\":\"y\",\"type\":\"scatter\"},{\"hovertemplate\":\"model_nickname=CompleteAgglomerativeClustering\\u003cbr\\u003en_features=%{x}\\u003cbr\\u003emax_memory_used=%{y}\\u003cextra\\u003e\\u003c\\u002fextra\\u003e\",\"legendgroup\":\"CompleteAgglomerativeClustering\",\"line\":{\"color\":\"#FFA15A\",\"dash\":\"dash\"},\"marker\":{\"symbol\":\"circle\"},\"mode\":\"lines+markers\",\"name\":\"CompleteAgglomerativeClustering\",\"orientation\":\"v\",\"showlegend\":true,\"x\":[100,347,1202,4163,14427,50000],\"xaxis\":\"x\",\"y\":[1913.548,1947.62,2048.848,2379.508,3536.008,7572.296],\"yaxis\":\"y\",\"type\":\"scatter\"},{\"hovertemplate\":\"model_nickname=KMeans\\u003cbr\\u003en_features=%{x}\\u003cbr\\u003emax_memory_used=%{y}\\u003cextra\\u003e\\u003c\\u002fextra\\u003e\",\"legendgroup\":\"KMeans\",\"line\":{\"color\":\"#19d3f3\",\"dash\":\"longdash\"},\"marker\":{\"symbol\":\"circle\"},\"mode\":\"lines+markers\",\"name\":\"KMeans\",\"orientation\":\"v\",\"showlegend\":true,\"x\":[100,347,1202,4163,14427,50000],\"xaxis\":\"x\",\"y\":[39404.5,39404.5,39404.5,39404.5,39404.5,39404.5],\"yaxis\":\"y\",\"type\":\"scatter\"},{\"hovertemplate\":\"model_nickname=HDBSCAN\\u003cbr\\u003en_features=%{x}\\u003cbr\\u003emax_memory_used=%{y}\\u003cextra\\u003e\\u003c\\u002fextra\\u003e\",\"legendgroup\":\"HDBSCAN\",\"line\":{\"color\":\"#FF6692\",\"dash\":\"dashdot\"},\"marker\":{\"symbol\":\"circle\"},\"mode\":\"lines+markers\",\"name\":\"HDBSCAN\",\"orientation\":\"v\",\"showlegend\":true,\"x\":[100,347,1202,4163,14427,50000],\"xaxis\":\"x\",\"y\":[1345.592,1377.68,1483.66,1818.696,null,null],\"yaxis\":\"y\",\"type\":\"scatter\"}],                        {\"template\":{\"data\":{\"histogram2dcontour\":[{\"type\":\"histogram2dcontour\",\"colorbar\":{\"outlinewidth\":0,\"ticks\":\"\"},\"colorscale\":[[0.0,\"#0d0887\"],[0.1111111111111111,\"#46039f\"],[0.2222222222222222,\"#7201a8\"],[0.3333333333333333,\"#9c179e\"],[0.4444444444444444,\"#bd3786\"],[0.5555555555555556,\"#d8576b\"],[0.6666666666666666,\"#ed7953\"],[0.7777777777777778,\"#fb9f3a\"],[0.8888888888888888,\"#fdca26\"],[1.0,\"#f0f921\"]]}],\"choropleth\":[{\"type\":\"choropleth\",\"colorbar\":{\"outlinewidth\":0,\"ticks\":\"\"}}],\"histogram2d\":[{\"type\":\"histogram2d\",\"colorbar\":{\"outlinewidth\":0,\"ticks\":\"\"},\"colorscale\":[[0.0,\"#0d0887\"],[0.1111111111111111,\"#46039f\"],[0.2222222222222222,\"#7201a8\"],[0.3333333333333333,\"#9c179e\"],[0.4444444444444444,\"#bd3786\"],[0.5555555555555556,\"#d8576b\"],[0.6666666666666666,\"#ed7953\"],[0.7777777777777778,\"#fb9f3a\"],[0.8888888888888888,\"#fdca26\"],[1.0,\"#f0f921\"]]}],\"heatmap\":[{\"type\":\"heatmap\",\"colorbar\":{\"outlinewidth\":0,\"ticks\":\"\"},\"colorscale\":[[0.0,\"#0d0887\"],[0.1111111111111111,\"#46039f\"],[0.2222222222222222,\"#7201a8\"],[0.3333333333333333,\"#9c179e\"],[0.4444444444444444,\"#bd3786\"],[0.5555555555555556,\"#d8576b\"],[0.6666666666666666,\"#ed7953\"],[0.7777777777777778,\"#fb9f3a\"],[0.8888888888888888,\"#fdca26\"],[1.0,\"#f0f921\"]]}],\"heatmapgl\":[{\"type\":\"heatmapgl\",\"colorbar\":{\"outlinewidth\":0,\"ticks\":\"\"},\"colorscale\":[[0.0,\"#0d0887\"],[0.1111111111111111,\"#46039f\"],[0.2222222222222222,\"#7201a8\"],[0.3333333333333333,\"#9c179e\"],[0.4444444444444444,\"#bd3786\"],[0.5555555555555556,\"#d8576b\"],[0.6666666666666666,\"#ed7953\"],[0.7777777777777778,\"#fb9f3a\"],[0.8888888888888888,\"#fdca26\"],[1.0,\"#f0f921\"]]}],\"contourcarpet\":[{\"type\":\"contourcarpet\",\"colorbar\":{\"outlinewidth\":0,\"ticks\":\"\"}}],\"contour\":[{\"type\":\"contour\",\"colorbar\":{\"outlinewidth\":0,\"ticks\":\"\"},\"colorscale\":[[0.0,\"#0d0887\"],[0.1111111111111111,\"#46039f\"],[0.2222222222222222,\"#7201a8\"],[0.3333333333333333,\"#9c179e\"],[0.4444444444444444,\"#bd3786\"],[0.5555555555555556,\"#d8576b\"],[0.6666666666666666,\"#ed7953\"],[0.7777777777777778,\"#fb9f3a\"],[0.8888888888888888,\"#fdca26\"],[1.0,\"#f0f921\"]]}],\"surface\":[{\"type\":\"surface\",\"colorbar\":{\"outlinewidth\":0,\"ticks\":\"\"},\"colorscale\":[[0.0,\"#0d0887\"],[0.1111111111111111,\"#46039f\"],[0.2222222222222222,\"#7201a8\"],[0.3333333333333333,\"#9c179e\"],[0.4444444444444444,\"#bd3786\"],[0.5555555555555556,\"#d8576b\"],[0.6666666666666666,\"#ed7953\"],[0.7777777777777778,\"#fb9f3a\"],[0.8888888888888888,\"#fdca26\"],[1.0,\"#f0f921\"]]}],\"mesh3d\":[{\"type\":\"mesh3d\",\"colorbar\":{\"outlinewidth\":0,\"ticks\":\"\"}}],\"scatter\":[{\"marker\":{\"line\":{\"color\":\"#283442\"}},\"type\":\"scatter\"}],\"parcoords\":[{\"type\":\"parcoords\",\"line\":{\"colorbar\":{\"outlinewidth\":0,\"ticks\":\"\"}}}],\"scatterpolargl\":[{\"type\":\"scatterpolargl\",\"marker\":{\"colorbar\":{\"outlinewidth\":0,\"ticks\":\"\"}}}],\"bar\":[{\"error_x\":{\"color\":\"#f2f5fa\"},\"error_y\":{\"color\":\"#f2f5fa\"},\"marker\":{\"line\":{\"color\":\"rgb(17,17,17)\",\"width\":0.5},\"pattern\":{\"fillmode\":\"overlay\",\"size\":10,\"solidity\":0.2}},\"type\":\"bar\"}],\"scattergeo\":[{\"type\":\"scattergeo\",\"marker\":{\"colorbar\":{\"outlinewidth\":0,\"ticks\":\"\"}}}],\"scatterpolar\":[{\"type\":\"scatterpolar\",\"marker\":{\"colorbar\":{\"outlinewidth\":0,\"ticks\":\"\"}}}],\"histogram\":[{\"marker\":{\"pattern\":{\"fillmode\":\"overlay\",\"size\":10,\"solidity\":0.2}},\"type\":\"histogram\"}],\"scattergl\":[{\"marker\":{\"line\":{\"color\":\"#283442\"}},\"type\":\"scattergl\"}],\"scatter3d\":[{\"type\":\"scatter3d\",\"line\":{\"colorbar\":{\"outlinewidth\":0,\"ticks\":\"\"}},\"marker\":{\"colorbar\":{\"outlinewidth\":0,\"ticks\":\"\"}}}],\"scattermapbox\":[{\"type\":\"scattermapbox\",\"marker\":{\"colorbar\":{\"outlinewidth\":0,\"ticks\":\"\"}}}],\"scatterternary\":[{\"type\":\"scatterternary\",\"marker\":{\"colorbar\":{\"outlinewidth\":0,\"ticks\":\"\"}}}],\"scattercarpet\":[{\"type\":\"scattercarpet\",\"marker\":{\"colorbar\":{\"outlinewidth\":0,\"ticks\":\"\"}}}],\"carpet\":[{\"aaxis\":{\"endlinecolor\":\"#A2B1C6\",\"gridcolor\":\"#506784\",\"linecolor\":\"#506784\",\"minorgridcolor\":\"#506784\",\"startlinecolor\":\"#A2B1C6\"},\"baxis\":{\"endlinecolor\":\"#A2B1C6\",\"gridcolor\":\"#506784\",\"linecolor\":\"#506784\",\"minorgridcolor\":\"#506784\",\"startlinecolor\":\"#A2B1C6\"},\"type\":\"carpet\"}],\"table\":[{\"cells\":{\"fill\":{\"color\":\"#506784\"},\"line\":{\"color\":\"rgb(17,17,17)\"}},\"header\":{\"fill\":{\"color\":\"#2a3f5f\"},\"line\":{\"color\":\"rgb(17,17,17)\"}},\"type\":\"table\"}],\"barpolar\":[{\"marker\":{\"line\":{\"color\":\"rgb(17,17,17)\",\"width\":0.5},\"pattern\":{\"fillmode\":\"overlay\",\"size\":10,\"solidity\":0.2}},\"type\":\"barpolar\"}],\"pie\":[{\"automargin\":true,\"type\":\"pie\"}]},\"layout\":{\"autotypenumbers\":\"strict\",\"colorway\":[\"#636efa\",\"#EF553B\",\"#00cc96\",\"#ab63fa\",\"#FFA15A\",\"#19d3f3\",\"#FF6692\",\"#B6E880\",\"#FF97FF\",\"#FECB52\"],\"font\":{\"color\":\"#f2f5fa\"},\"hovermode\":\"closest\",\"hoverlabel\":{\"align\":\"left\"},\"paper_bgcolor\":\"rgb(17,17,17)\",\"plot_bgcolor\":\"rgb(17,17,17)\",\"polar\":{\"bgcolor\":\"rgb(17,17,17)\",\"angularaxis\":{\"gridcolor\":\"#506784\",\"linecolor\":\"#506784\",\"ticks\":\"\"},\"radialaxis\":{\"gridcolor\":\"#506784\",\"linecolor\":\"#506784\",\"ticks\":\"\"}},\"ternary\":{\"bgcolor\":\"rgb(17,17,17)\",\"aaxis\":{\"gridcolor\":\"#506784\",\"linecolor\":\"#506784\",\"ticks\":\"\"},\"baxis\":{\"gridcolor\":\"#506784\",\"linecolor\":\"#506784\",\"ticks\":\"\"},\"caxis\":{\"gridcolor\":\"#506784\",\"linecolor\":\"#506784\",\"ticks\":\"\"}},\"coloraxis\":{\"colorbar\":{\"outlinewidth\":0,\"ticks\":\"\"}},\"colorscale\":{\"sequential\":[[0.0,\"#0d0887\"],[0.1111111111111111,\"#46039f\"],[0.2222222222222222,\"#7201a8\"],[0.3333333333333333,\"#9c179e\"],[0.4444444444444444,\"#bd3786\"],[0.5555555555555556,\"#d8576b\"],[0.6666666666666666,\"#ed7953\"],[0.7777777777777778,\"#fb9f3a\"],[0.8888888888888888,\"#fdca26\"],[1.0,\"#f0f921\"]],\"sequentialminus\":[[0.0,\"#0d0887\"],[0.1111111111111111,\"#46039f\"],[0.2222222222222222,\"#7201a8\"],[0.3333333333333333,\"#9c179e\"],[0.4444444444444444,\"#bd3786\"],[0.5555555555555556,\"#d8576b\"],[0.6666666666666666,\"#ed7953\"],[0.7777777777777778,\"#fb9f3a\"],[0.8888888888888888,\"#fdca26\"],[1.0,\"#f0f921\"]],\"diverging\":[[0,\"#8e0152\"],[0.1,\"#c51b7d\"],[0.2,\"#de77ae\"],[0.3,\"#f1b6da\"],[0.4,\"#fde0ef\"],[0.5,\"#f7f7f7\"],[0.6,\"#e6f5d0\"],[0.7,\"#b8e186\"],[0.8,\"#7fbc41\"],[0.9,\"#4d9221\"],[1,\"#276419\"]]},\"xaxis\":{\"gridcolor\":\"#283442\",\"linecolor\":\"#506784\",\"ticks\":\"\",\"title\":{\"standoff\":15},\"zerolinecolor\":\"#283442\",\"automargin\":true,\"zerolinewidth\":2},\"yaxis\":{\"gridcolor\":\"#283442\",\"linecolor\":\"#506784\",\"ticks\":\"\",\"title\":{\"standoff\":15},\"zerolinecolor\":\"#283442\",\"automargin\":true,\"zerolinewidth\":2},\"scene\":{\"xaxis\":{\"backgroundcolor\":\"rgb(17,17,17)\",\"gridcolor\":\"#506784\",\"linecolor\":\"#506784\",\"showbackground\":true,\"ticks\":\"\",\"zerolinecolor\":\"#C8D4E3\",\"gridwidth\":2},\"yaxis\":{\"backgroundcolor\":\"rgb(17,17,17)\",\"gridcolor\":\"#506784\",\"linecolor\":\"#506784\",\"showbackground\":true,\"ticks\":\"\",\"zerolinecolor\":\"#C8D4E3\",\"gridwidth\":2},\"zaxis\":{\"backgroundcolor\":\"rgb(17,17,17)\",\"gridcolor\":\"#506784\",\"linecolor\":\"#506784\",\"showbackground\":true,\"ticks\":\"\",\"zerolinecolor\":\"#C8D4E3\",\"gridwidth\":2}},\"shapedefaults\":{\"line\":{\"color\":\"#f2f5fa\"}},\"annotationdefaults\":{\"arrowcolor\":\"#f2f5fa\",\"arrowhead\":0,\"arrowwidth\":1},\"geo\":{\"bgcolor\":\"rgb(17,17,17)\",\"landcolor\":\"rgb(17,17,17)\",\"subunitcolor\":\"#506784\",\"showland\":true,\"showlakes\":true,\"lakecolor\":\"rgb(17,17,17)\"},\"title\":{\"x\":0.05},\"updatemenudefaults\":{\"bgcolor\":\"#506784\",\"borderwidth\":0},\"sliderdefaults\":{\"bgcolor\":\"#C8D4E3\",\"borderwidth\":1,\"bordercolor\":\"rgb(17,17,17)\",\"tickwidth\":0},\"mapbox\":{\"style\":\"dark\"}}},\"xaxis\":{\"anchor\":\"y\",\"domain\":[0.0,1.0],\"title\":{\"text\":\"n_features\"},\"type\":\"log\"},\"yaxis\":{\"anchor\":\"x\",\"domain\":[0.0,1.0],\"title\":{\"text\":\"max_memory_used\"},\"type\":\"log\"},\"legend\":{\"title\":{\"text\":\"model_nickname\"},\"tracegroupgap\":0},\"margin\":{\"t\":60}},                        {\"responsive\": true}                    ).then(function(){\n",
       "                            \n",
       "var gd = document.getElementById('3595d0c0-819d-4081-9e1f-cee9a3338a83');\n",
       "var x = new MutationObserver(function (mutations, observer) {{\n",
       "        var display = window.getComputedStyle(gd).display;\n",
       "        if (!display || display === 'none') {{\n",
       "            console.log([gd, 'removed!']);\n",
       "            Plotly.purge(gd);\n",
       "            observer.disconnect();\n",
       "        }}\n",
       "}});\n",
       "\n",
       "// Listen for the removal of the full notebook cells\n",
       "var notebookContainer = gd.closest('#notebook-container');\n",
       "if (notebookContainer) {{\n",
       "    x.observe(notebookContainer, {childList: true});\n",
       "}}\n",
       "\n",
       "// Listen for the clearing of the current output cell\n",
       "var outputEl = gd.closest('.output');\n",
       "if (outputEl) {{\n",
       "    x.observe(outputEl, {childList: true});\n",
       "}}\n",
       "\n",
       "                        })                };                });            </script>        </div>"
      ]
     },
     "metadata": {},
     "output_type": "display_data"
    }
   ],
   "execution_count": 59
  },
  {
   "cell_type": "markdown",
   "id": "6bfc34a7",
   "metadata": {},
   "source": [
    "# Debug and explore"
   ]
  },
  {
   "cell_type": "code",
   "execution_count": 45,
   "id": "8d529df1-bf92-461b-84d1-c8826e38a310",
   "metadata": {},
   "outputs": [
    {
     "data": {
      "text/plain": [
       "False"
      ]
     },
     "execution_count": 45,
     "metadata": {},
     "output_type": "execute_result"
    }
   ],
   "source": [
    "df_runs_raw[columns_names].duplicated().any()"
   ]
  },
  {
   "cell_type": "code",
   "execution_count": 36,
   "id": "006db7c9-57b5-447a-9101-57b2ff88f48a",
   "metadata": {},
   "outputs": [],
   "source": [
    "df_to_delete = df_runs_raw.loc[df_runs_raw.test_logloss.isna()]"
   ]
  },
  {
   "cell_type": "code",
   "execution_count": 37,
   "id": "7ed57a52-6a8f-44cf-80f4-008d5edb6a78",
   "metadata": {},
   "outputs": [
    {
     "data": {
      "text/html": [
       "<div>\n",
       "<style scoped>\n",
       "    .dataframe tbody tr th:only-of-type {\n",
       "        vertical-align: middle;\n",
       "    }\n",
       "\n",
       "    .dataframe tbody tr th {\n",
       "        vertical-align: top;\n",
       "    }\n",
       "\n",
       "    .dataframe thead th {\n",
       "        text-align: right;\n",
       "    }\n",
       "</style>\n",
       "<table border=\"1\" class=\"dataframe\">\n",
       "  <thead>\n",
       "    <tr style=\"text-align: right;\">\n",
       "      <th>key</th>\n",
       "      <th>status</th>\n",
       "      <th>start_time</th>\n",
       "      <th>end_time</th>\n",
       "      <th>dataset_name</th>\n",
       "      <th>model_name</th>\n",
       "      <th>model_nickname</th>\n",
       "      <th>seed_model</th>\n",
       "      <th>task_fold</th>\n",
       "      <th>task_id</th>\n",
       "      <th>task_name</th>\n",
       "      <th>test_auc</th>\n",
       "      <th>test_logloss</th>\n",
       "      <th>duration</th>\n",
       "    </tr>\n",
       "    <tr>\n",
       "      <th>run_uuid</th>\n",
       "      <th></th>\n",
       "      <th></th>\n",
       "      <th></th>\n",
       "      <th></th>\n",
       "      <th></th>\n",
       "      <th></th>\n",
       "      <th></th>\n",
       "      <th></th>\n",
       "      <th></th>\n",
       "      <th></th>\n",
       "      <th></th>\n",
       "      <th></th>\n",
       "      <th></th>\n",
       "    </tr>\n",
       "  </thead>\n",
       "  <tbody>\n",
       "    <tr>\n",
       "      <th>03cab7b441e34b40bd8ad8dc60fcd836</th>\n",
       "      <td>FINISHED</td>\n",
       "      <td>1726540996777</td>\n",
       "      <td>1726578901049</td>\n",
       "      <td>insurance_company</td>\n",
       "      <td>Transformer</td>\n",
       "      <td>TabBenchmarkTransformer</td>\n",
       "      <td>0</td>\n",
       "      <td>7</td>\n",
       "      <td>362081</td>\n",
       "      <td>binary_classification</td>\n",
       "      <td>NaN</td>\n",
       "      <td>NaN</td>\n",
       "      <td>10.528964</td>\n",
       "    </tr>\n",
       "    <tr>\n",
       "      <th>049febc2449c46c3afdd56d2afcaff5c</th>\n",
       "      <td>FINISHED</td>\n",
       "      <td>1726551253408</td>\n",
       "      <td>1726578901052</td>\n",
       "      <td>GesturePhaseSegmentationProcessed</td>\n",
       "      <td>Transformer</td>\n",
       "      <td>TabBenchmarkTransformer</td>\n",
       "      <td>0</td>\n",
       "      <td>4</td>\n",
       "      <td>14969</td>\n",
       "      <td>classification</td>\n",
       "      <td>NaN</td>\n",
       "      <td>NaN</td>\n",
       "      <td>7.679901</td>\n",
       "    </tr>\n",
       "    <tr>\n",
       "      <th>04abe372bcd84f2eadaea736307038f8</th>\n",
       "      <td>FINISHED</td>\n",
       "      <td>1726579962480</td>\n",
       "      <td>1726586658278</td>\n",
       "      <td>credit</td>\n",
       "      <td>Transformer</td>\n",
       "      <td>TabBenchmarkTransformer</td>\n",
       "      <td>0</td>\n",
       "      <td>6</td>\n",
       "      <td>361055</td>\n",
       "      <td>binary_classification</td>\n",
       "      <td>NaN</td>\n",
       "      <td>NaN</td>\n",
       "      <td>1.859944</td>\n",
       "    </tr>\n",
       "    <tr>\n",
       "      <th>05539e85c0604675b3f93096e8bc1feb</th>\n",
       "      <td>FINISHED</td>\n",
       "      <td>1726270121868</td>\n",
       "      <td>1726270157619</td>\n",
       "      <td>kc1</td>\n",
       "      <td>Transformer</td>\n",
       "      <td>TabBenchmarkTransformer</td>\n",
       "      <td>0</td>\n",
       "      <td>7</td>\n",
       "      <td>3917</td>\n",
       "      <td>binary_classification</td>\n",
       "      <td>NaN</td>\n",
       "      <td>NaN</td>\n",
       "      <td>0.009931</td>\n",
       "    </tr>\n",
       "    <tr>\n",
       "      <th>0e5ef3a920bf49869074fe5950bff043</th>\n",
       "      <td>FINISHED</td>\n",
       "      <td>1726579689874</td>\n",
       "      <td>1726586658276</td>\n",
       "      <td>artificial-characters</td>\n",
       "      <td>Transformer</td>\n",
       "      <td>TabBenchmarkTransformer</td>\n",
       "      <td>0</td>\n",
       "      <td>4</td>\n",
       "      <td>14964</td>\n",
       "      <td>classification</td>\n",
       "      <td>NaN</td>\n",
       "      <td>NaN</td>\n",
       "      <td>1.935667</td>\n",
       "    </tr>\n",
       "    <tr>\n",
       "      <th>...</th>\n",
       "      <td>...</td>\n",
       "      <td>...</td>\n",
       "      <td>...</td>\n",
       "      <td>...</td>\n",
       "      <td>...</td>\n",
       "      <td>...</td>\n",
       "      <td>...</td>\n",
       "      <td>...</td>\n",
       "      <td>...</td>\n",
       "      <td>...</td>\n",
       "      <td>...</td>\n",
       "      <td>...</td>\n",
       "      <td>...</td>\n",
       "    </tr>\n",
       "    <tr>\n",
       "      <th>f1f2c35f12104ead8b8f7e6e320c92d4</th>\n",
       "      <td>FINISHED</td>\n",
       "      <td>1726458758738</td>\n",
       "      <td>1726458823282</td>\n",
       "      <td>magic</td>\n",
       "      <td>Transformer</td>\n",
       "      <td>TabBenchmarkTransformer</td>\n",
       "      <td>0</td>\n",
       "      <td>4</td>\n",
       "      <td>146206</td>\n",
       "      <td>binary_classification</td>\n",
       "      <td>NaN</td>\n",
       "      <td>NaN</td>\n",
       "      <td>0.017929</td>\n",
       "    </tr>\n",
       "    <tr>\n",
       "      <th>f26f36657d21499280e65e2581921373</th>\n",
       "      <td>FINISHED</td>\n",
       "      <td>1726573970041</td>\n",
       "      <td>1726578901053</td>\n",
       "      <td>pendigits</td>\n",
       "      <td>Transformer</td>\n",
       "      <td>TabBenchmarkTransformer</td>\n",
       "      <td>0</td>\n",
       "      <td>2</td>\n",
       "      <td>32</td>\n",
       "      <td>classification</td>\n",
       "      <td>NaN</td>\n",
       "      <td>NaN</td>\n",
       "      <td>1.369726</td>\n",
       "    </tr>\n",
       "    <tr>\n",
       "      <th>f2def598dec344d5a4e82e1a5510e4bc</th>\n",
       "      <td>FINISHED</td>\n",
       "      <td>1726583892918</td>\n",
       "      <td>1726586658286</td>\n",
       "      <td>Pulsar-Dataset-HTRU2</td>\n",
       "      <td>Transformer</td>\n",
       "      <td>TabBenchmarkTransformer</td>\n",
       "      <td>0</td>\n",
       "      <td>5</td>\n",
       "      <td>362099</td>\n",
       "      <td>binary_classification</td>\n",
       "      <td>NaN</td>\n",
       "      <td>NaN</td>\n",
       "      <td>0.768158</td>\n",
       "    </tr>\n",
       "    <tr>\n",
       "      <th>f4a5f005dc5b4eb6aa5052446d7dcea6</th>\n",
       "      <td>FINISHED</td>\n",
       "      <td>1726580589165</td>\n",
       "      <td>1726581795200</td>\n",
       "      <td>covertype</td>\n",
       "      <td>MLP</td>\n",
       "      <td>TabBenchmarkMLP</td>\n",
       "      <td>0</td>\n",
       "      <td>0</td>\n",
       "      <td>7593</td>\n",
       "      <td>classification</td>\n",
       "      <td>NaN</td>\n",
       "      <td>NaN</td>\n",
       "      <td>0.335010</td>\n",
       "    </tr>\n",
       "    <tr>\n",
       "      <th>f97cf08c954e4ad8967e5b82abcd2f79</th>\n",
       "      <td>FINISHED</td>\n",
       "      <td>1726334280851</td>\n",
       "      <td>1726334687981</td>\n",
       "      <td>SpeedDating</td>\n",
       "      <td>CatBoostClassifier</td>\n",
       "      <td>TabBenchmarkCatBoostClassifier</td>\n",
       "      <td>0</td>\n",
       "      <td>3</td>\n",
       "      <td>146607</td>\n",
       "      <td>binary_classification</td>\n",
       "      <td>NaN</td>\n",
       "      <td>NaN</td>\n",
       "      <td>0.113092</td>\n",
       "    </tr>\n",
       "  </tbody>\n",
       "</table>\n",
       "<p>96 rows × 13 columns</p>\n",
       "</div>"
      ],
      "text/plain": [
       "key                                 status     start_time       end_time  \\\n",
       "run_uuid                                                                   \n",
       "03cab7b441e34b40bd8ad8dc60fcd836  FINISHED  1726540996777  1726578901049   \n",
       "049febc2449c46c3afdd56d2afcaff5c  FINISHED  1726551253408  1726578901052   \n",
       "04abe372bcd84f2eadaea736307038f8  FINISHED  1726579962480  1726586658278   \n",
       "05539e85c0604675b3f93096e8bc1feb  FINISHED  1726270121868  1726270157619   \n",
       "0e5ef3a920bf49869074fe5950bff043  FINISHED  1726579689874  1726586658276   \n",
       "...                                    ...            ...            ...   \n",
       "f1f2c35f12104ead8b8f7e6e320c92d4  FINISHED  1726458758738  1726458823282   \n",
       "f26f36657d21499280e65e2581921373  FINISHED  1726573970041  1726578901053   \n",
       "f2def598dec344d5a4e82e1a5510e4bc  FINISHED  1726583892918  1726586658286   \n",
       "f4a5f005dc5b4eb6aa5052446d7dcea6  FINISHED  1726580589165  1726581795200   \n",
       "f97cf08c954e4ad8967e5b82abcd2f79  FINISHED  1726334280851  1726334687981   \n",
       "\n",
       "key                                                    dataset_name  \\\n",
       "run_uuid                                                              \n",
       "03cab7b441e34b40bd8ad8dc60fcd836                  insurance_company   \n",
       "049febc2449c46c3afdd56d2afcaff5c  GesturePhaseSegmentationProcessed   \n",
       "04abe372bcd84f2eadaea736307038f8                             credit   \n",
       "05539e85c0604675b3f93096e8bc1feb                                kc1   \n",
       "0e5ef3a920bf49869074fe5950bff043              artificial-characters   \n",
       "...                                                             ...   \n",
       "f1f2c35f12104ead8b8f7e6e320c92d4                              magic   \n",
       "f26f36657d21499280e65e2581921373                          pendigits   \n",
       "f2def598dec344d5a4e82e1a5510e4bc               Pulsar-Dataset-HTRU2   \n",
       "f4a5f005dc5b4eb6aa5052446d7dcea6                          covertype   \n",
       "f97cf08c954e4ad8967e5b82abcd2f79                        SpeedDating   \n",
       "\n",
       "key                                       model_name  \\\n",
       "run_uuid                                               \n",
       "03cab7b441e34b40bd8ad8dc60fcd836         Transformer   \n",
       "049febc2449c46c3afdd56d2afcaff5c         Transformer   \n",
       "04abe372bcd84f2eadaea736307038f8         Transformer   \n",
       "05539e85c0604675b3f93096e8bc1feb         Transformer   \n",
       "0e5ef3a920bf49869074fe5950bff043         Transformer   \n",
       "...                                              ...   \n",
       "f1f2c35f12104ead8b8f7e6e320c92d4         Transformer   \n",
       "f26f36657d21499280e65e2581921373         Transformer   \n",
       "f2def598dec344d5a4e82e1a5510e4bc         Transformer   \n",
       "f4a5f005dc5b4eb6aa5052446d7dcea6                 MLP   \n",
       "f97cf08c954e4ad8967e5b82abcd2f79  CatBoostClassifier   \n",
       "\n",
       "key                                               model_nickname seed_model  \\\n",
       "run_uuid                                                                      \n",
       "03cab7b441e34b40bd8ad8dc60fcd836         TabBenchmarkTransformer          0   \n",
       "049febc2449c46c3afdd56d2afcaff5c         TabBenchmarkTransformer          0   \n",
       "04abe372bcd84f2eadaea736307038f8         TabBenchmarkTransformer          0   \n",
       "05539e85c0604675b3f93096e8bc1feb         TabBenchmarkTransformer          0   \n",
       "0e5ef3a920bf49869074fe5950bff043         TabBenchmarkTransformer          0   \n",
       "...                                                          ...        ...   \n",
       "f1f2c35f12104ead8b8f7e6e320c92d4         TabBenchmarkTransformer          0   \n",
       "f26f36657d21499280e65e2581921373         TabBenchmarkTransformer          0   \n",
       "f2def598dec344d5a4e82e1a5510e4bc         TabBenchmarkTransformer          0   \n",
       "f4a5f005dc5b4eb6aa5052446d7dcea6                 TabBenchmarkMLP          0   \n",
       "f97cf08c954e4ad8967e5b82abcd2f79  TabBenchmarkCatBoostClassifier          0   \n",
       "\n",
       "key                              task_fold task_id              task_name  \\\n",
       "run_uuid                                                                    \n",
       "03cab7b441e34b40bd8ad8dc60fcd836         7  362081  binary_classification   \n",
       "049febc2449c46c3afdd56d2afcaff5c         4   14969         classification   \n",
       "04abe372bcd84f2eadaea736307038f8         6  361055  binary_classification   \n",
       "05539e85c0604675b3f93096e8bc1feb         7    3917  binary_classification   \n",
       "0e5ef3a920bf49869074fe5950bff043         4   14964         classification   \n",
       "...                                    ...     ...                    ...   \n",
       "f1f2c35f12104ead8b8f7e6e320c92d4         4  146206  binary_classification   \n",
       "f26f36657d21499280e65e2581921373         2      32         classification   \n",
       "f2def598dec344d5a4e82e1a5510e4bc         5  362099  binary_classification   \n",
       "f4a5f005dc5b4eb6aa5052446d7dcea6         0    7593         classification   \n",
       "f97cf08c954e4ad8967e5b82abcd2f79         3  146607  binary_classification   \n",
       "\n",
       "key                               test_auc  test_logloss   duration  \n",
       "run_uuid                                                             \n",
       "03cab7b441e34b40bd8ad8dc60fcd836       NaN           NaN  10.528964  \n",
       "049febc2449c46c3afdd56d2afcaff5c       NaN           NaN   7.679901  \n",
       "04abe372bcd84f2eadaea736307038f8       NaN           NaN   1.859944  \n",
       "05539e85c0604675b3f93096e8bc1feb       NaN           NaN   0.009931  \n",
       "0e5ef3a920bf49869074fe5950bff043       NaN           NaN   1.935667  \n",
       "...                                    ...           ...        ...  \n",
       "f1f2c35f12104ead8b8f7e6e320c92d4       NaN           NaN   0.017929  \n",
       "f26f36657d21499280e65e2581921373       NaN           NaN   1.369726  \n",
       "f2def598dec344d5a4e82e1a5510e4bc       NaN           NaN   0.768158  \n",
       "f4a5f005dc5b4eb6aa5052446d7dcea6       NaN           NaN   0.335010  \n",
       "f97cf08c954e4ad8967e5b82abcd2f79       NaN           NaN   0.113092  \n",
       "\n",
       "[96 rows x 13 columns]"
      ]
     },
     "execution_count": 37,
     "metadata": {},
     "output_type": "execute_result"
    }
   ],
   "source": [
    "df_to_delete"
   ]
  },
  {
   "cell_type": "code",
   "execution_count": 38,
   "id": "25ee2425-49bb-409f-950d-5858dbc353f1",
   "metadata": {},
   "outputs": [],
   "source": [
    "run_uuid_query = [f\"'{run_id}'\" for run_id in df_to_delete.index]\n",
    "run_uuid_query = ', '.join(run_uuid_query)"
   ]
  },
  {
   "cell_type": "code",
   "execution_count": 39,
   "id": "8faf9a3d-1826-4bd5-bb4b-e345b78dc64b",
   "metadata": {},
   "outputs": [],
   "source": [
    "query = f\"\"\"\n",
    "UPDATE runs\n",
    "SET lifecycle_stage = 'deleted'\n",
    "WHERE run_uuid IN ({run_uuid_query}) \n",
    "\"\"\"\n",
    "with engine.begin() as conn:\n",
    "    conn.execute(text(query))"
   ]
  },
  {
   "cell_type": "markdown",
   "id": "50445ba0-7375-4be6-8bde-0607911a3637",
   "metadata": {},
   "source": [
    "for i, row in df_runs_raw.iterrows():\n",
    "    run_id = row.run_id\n",
    "    model_name = row['params.model_name']\n",
    "    with mlflow.start_run(run_id) as run:\n",
    "        mlflow.log_param('model_nickname', model_name)    "
   ]
  }
 ],
 "metadata": {
  "kernelspec": {
   "display_name": "recursive_clustering",
   "language": "python",
   "name": "recursive_clustering"
  },
  "language_info": {
   "codemirror_mode": {
    "name": "ipython",
    "version": 3
   },
   "file_extension": ".py",
   "mimetype": "text/x-python",
   "name": "python",
   "nbconvert_exporter": "python",
   "pygments_lexer": "ipython3",
   "version": "3.11.9"
  }
 },
 "nbformat": 4,
 "nbformat_minor": 5
}
