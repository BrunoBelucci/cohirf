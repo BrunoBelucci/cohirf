{
 "cells": [
  {
   "cell_type": "code",
   "execution_count": 7,
   "id": "initial_id",
   "metadata": {
    "ExecuteTime": {
     "end_time": "2024-11-04T19:23:08.771611Z",
     "start_time": "2024-11-04T19:23:07.739606Z"
    }
   },
   "outputs": [],
   "source": [
    "import pandas as pd\n",
    "from recursive_clustering.estimator import RecursiveClustering\n",
    "from sklearn.datasets import make_blobs, make_classification\n",
    "from sklearn.metrics import confusion_matrix, ConfusionMatrixDisplay\n",
    "from sklearn.cluster import HDBSCAN, OPTICS\n",
    "from sklearn.metrics import rand_score, adjusted_rand_score, mutual_info_score, adjusted_mutual_info_score, normalized_mutual_info_score, homogeneity_completeness_v_measure, silhouette_score\n",
    "from sklearn.manifold import TSNE\n",
    "import matplotlib.pyplot as plt\n",
    "from time import perf_counter"
   ]
  },
  {
   "cell_type": "code",
   "execution_count": 8,
   "id": "f4a6d7426013ecb5",
   "metadata": {
    "ExecuteTime": {
     "end_time": "2024-11-04T19:23:08.779076Z",
     "start_time": "2024-11-04T19:23:08.775596Z"
    }
   },
   "outputs": [],
   "source": [
    "def calculate_scores(y_true, y_pred, X=None):\n",
    "    rand = rand_score(y_true, y_pred)\n",
    "    adjusted_rand = adjusted_rand_score(y_true, y_pred)\n",
    "    mutual_info = mutual_info_score(y_true, y_pred)\n",
    "    adjusted_mutual_info = adjusted_mutual_info_score(y_true, y_pred)\n",
    "    normalized_mutual_info = normalized_mutual_info_score(y_true, y_pred)\n",
    "    homogeneity, completeness, v_measure = homogeneity_completeness_v_measure(y_true, y_pred)\n",
    "    scores = {\n",
    "        'rand': rand,\n",
    "        'adjusted_rand': adjusted_rand,\n",
    "        'mutual_info': mutual_info,\n",
    "        'adjusted_mutual_info': adjusted_mutual_info,\n",
    "        'normalized_mutual_info': normalized_mutual_info,\n",
    "        'homogeneity': homogeneity,\n",
    "        'completeness': completeness,\n",
    "        'v_measure': v_measure,\n",
    "    }\n",
    "    if X is not None:\n",
    "        silhouette = silhouette_score(X, y_pred)\n",
    "        scores['silhouette'] = silhouette\n",
    "    return scores"
   ]
  },
  {
   "cell_type": "code",
   "execution_count": 9,
   "id": "c4943a30a4b41e3",
   "metadata": {
    "ExecuteTime": {
     "end_time": "2024-11-04T19:23:08.861130Z",
     "start_time": "2024-11-04T19:23:08.858762Z"
    }
   },
   "outputs": [],
   "source": [
    "def plot_confusion_matrix(y_true, y_pred):\n",
    "    labels_true = pd.Series(y_true)\n",
    "    labels_pred = pd.Series(y_pred)\n",
    "    y_true = labels_true.factorize()[0]\n",
    "    y_pred = labels_pred.factorize()[0]\n",
    "    cm = confusion_matrix(y_true, y_pred)\n",
    "    disp = ConfusionMatrixDisplay(confusion_matrix=cm)\n",
    "    disp.plot()"
   ]
  },
  {
   "cell_type": "code",
   "execution_count": 10,
   "id": "1b20c12cad883fd0",
   "metadata": {
    "ExecuteTime": {
     "end_time": "2024-11-04T19:23:08.920939Z",
     "start_time": "2024-11-04T19:23:08.918235Z"
    }
   },
   "outputs": [],
   "source": [
    "def fit_predict_score_summary(estimator, X, y):\n",
    "    # fit and predict\n",
    "    start_time = perf_counter()\n",
    "    labels = estimator.fit_predict(X)\n",
    "    elapsed_time = perf_counter() - start_time\n",
    "    # number of clusters\n",
    "    n_clusters = len(set(labels)) - (1 if -1 in labels else 0)\n",
    "    # scores\n",
    "    scores = calculate_scores(y, labels, X)\n",
    "    scores['n_clusters'] = n_clusters\n",
    "    scores['elapsed_time'] = elapsed_time\n",
    "    return_dict = {\n",
    "        'labels': labels,\n",
    "        'scores': scores\n",
    "    }\n",
    "    return return_dict"
   ]
  },
  {
   "cell_type": "code",
   "execution_count": 25,
   "id": "c38522c3c0775cf1",
   "metadata": {
    "ExecuteTime": {
     "end_time": "2024-11-04T19:34:36.748043Z",
     "start_time": "2024-11-04T19:34:36.741658Z"
    }
   },
   "outputs": [],
   "source": [
    "def compare_estimators(X, y, random_state, **kwargs):\n",
    "    return_dict = {}\n",
    "    # our estimator\n",
    "    estimator = RecursiveClustering(random_state=random_state, **kwargs)\n",
    "    our_return = fit_predict_score_summary(estimator, X, y)\n",
    "    return_dict['our'] = our_return\n",
    "    # # DBSCAN\n",
    "    # dbscan = DBSCAN(eps=50, min_samples=5)\n",
    "    # dbscan_return = fit_predict_score_summary(dbscan, X, y)\n",
    "    # return_dict['dbscan'] = dbscan_return\n",
    "    # HDBSCAN\n",
    "    hdbscan = HDBSCAN(min_cluster_size=5)\n",
    "    hdbscan_return = fit_predict_score_summary(hdbscan, X, y)\n",
    "    return_dict['hdbscan'] = hdbscan_return\n",
    "    # # MeanShift\n",
    "    # meanshift = MeanShift(bandwidth=50)\n",
    "    # meanshift_return = fit_predict_score_summary(meanshift, X, y)\n",
    "    # return_dict['meanshift'] = meanshift_return\n",
    "    # OPTICS\n",
    "    optics = OPTICS(min_samples=5)\n",
    "    optics_return = fit_predict_score_summary(optics, X, y)\n",
    "    return_dict['optics'] = optics_return\n",
    "    scores_dict = {k: v['scores'] for k, v in return_dict.items()}\n",
    "    scores_frame = pd.DataFrame.from_records(scores_dict)\n",
    "    display(scores_frame)\n",
    "    return return_dict"
   ]
  },
  {
   "cell_type": "code",
   "execution_count": 112,
   "id": "219b9db7b1c9de6f",
   "metadata": {
    "ExecuteTime": {
     "end_time": "2024-11-04T19:46:48.119268Z",
     "start_time": "2024-11-04T19:46:47.562658Z"
    }
   },
   "outputs": [],
   "source": [
    "# dataset parameters\n",
    "n_samples = 100\n",
    "n_features = 100000\n",
    "centers = 30\n",
    "random_state = 42\n",
    "X, y = make_blobs(n_samples=n_samples, n_features=n_features, centers=centers, random_state=random_state)"
   ]
  },
  {
   "cell_type": "code",
   "execution_count": 113,
   "id": "9e93ea675b53fd61",
   "metadata": {
    "ExecuteTime": {
     "end_time": "2024-11-04T19:46:51.029603Z",
     "start_time": "2024-11-04T19:46:48.779079Z"
    }
   },
   "outputs": [
    {
     "data": {
      "text/plain": [
       "<matplotlib.collections.PathCollection at 0x7d95fbe487d0>"
      ]
     },
     "execution_count": 113,
     "metadata": {},
     "output_type": "execute_result"
    },
    {
     "data": {
      "image/png": "[encoded data removed]",
      "text/plain": [
       "<Figure size 640x480 with 1 Axes>"
      ]
     },
     "metadata": {},
     "output_type": "display_data"
    }
   ],
   "source": [
    "# t-SNE visualization\n",
    "tsne = TSNE(n_components=2, random_state=random_state)\n",
    "X_embedded = tsne.fit_transform(X)\n",
    "plt.scatter(X_embedded[:, 0], X_embedded[:, 1], c=y, cmap='tab10')"
   ]
  },
  {
   "cell_type": "code",
   "execution_count": 120,
   "id": "e0b994cc-2666-4406-88c4-0c4ec546ee3c",
   "metadata": {},
   "outputs": [
    {
     "name": "stdout",
     "output_type": "stream",
     "text": [
      "{'labels': array([ 0,  1,  2,  3,  4,  5,  6,  5,  7,  8,  9, 10, 11, 12, 13,  7,  4,\n",
      "       14, 15, 16,  3, 17, 18, 19, 16,  9, 13, 14, 14, 20, 21, 22, 23, 17,\n",
      "       24, 23, 11, 25, 26, 24,  0, 27,  2, 23, 10,  4, 24,  3, 13, 16, 26,\n",
      "       28, 20, 18,  1, 22,  0, 26, 23,  8, 22,  0, 17,  3, 22, 25, 26, 21,\n",
      "        6, 19, 27,  1, 12,  5, 11, 29, 12,  7, 11, 15, 25,  8, 20,  2, 29,\n",
      "        6, 27, 15, 18, 18, 10, 28, 28, 16, 27, 19, 21, 29,  7,  9]), 'scores': {'rand': 1.0, 'adjusted_rand': 1.0, 'mutual_info': np.float64(3.391485068339269), 'adjusted_mutual_info': np.float64(0.9999999999999997), 'normalized_mutual_info': np.float64(0.9999999999999999), 'homogeneity': np.float64(1.0), 'completeness': np.float64(0.9999999999999999), 'v_measure': np.float64(0.9999999999999999), 'silhouette': np.float64(0.8287495756248755), 'n_clusters': 30, 'elapsed_time': 0.3520781659999557}}\n"
     ]
    }
   ],
   "source": [
    "return_dict = {}\n",
    "kwargs = {}\n",
    "# our estimator\n",
    "estimator = RecursiveClustering(random_state=random_state, repetitions=10)\n",
    "our_return = fit_predict_score_summary(estimator, X, y)\n",
    "return_dict['our'] = our_return\n",
    "print(our_return)"
   ]
  },
  {
   "cell_type": "code",
   "execution_count": 37,
   "id": "bdaac765-28e6-4bdf-af9b-4f8589d17750",
   "metadata": {},
   "outputs": [
    {
     "name": "stdout",
     "output_type": "stream",
     "text": [
      "{'labels': array([-1, -1, -1, -1, -1, -1, -1, -1, -1, -1,  0,  1,  1, -1, -1, -1,  0,\n",
      "        0, -1, -1, -1, -1, -1, -1, -1, -1, -1, -1,  0, -1, -1,  1, -1, -1,\n",
      "       -1,  1,  1, -1, -1, -1, -1,  0, -1,  1, -1,  0, -1, -1, -1, -1, -1,\n",
      "       -1, -1, -1, -1,  1, -1, -1,  1, -1, -1, -1, -1, -1, -1, -1,  1, -1,\n",
      "       -1, -1, -1, -1, -1, -1,  1, -1, -1, -1,  1, -1, -1, -1, -1, -1, -1,\n",
      "       -1,  0, -1, -1, -1,  1, -1, -1, -1, -1, -1, -1, -1, -1,  0]), 'scores': {'rand': np.float64(0.35797979797979795), 'adjusted_rand': 0.011886680812093209, 'mutual_info': np.float64(0.4581844707303623), 'adjusted_mutual_info': np.float64(0.10367097110329664), 'normalized_mutual_info': np.float64(0.22758506322492889), 'homogeneity': np.float64(0.13509847795223362), 'completeness': np.float64(0.7215449423375362), 'v_measure': np.float64(0.2275850632249289), 'silhouette': np.float64(0.02192421093357115), 'n_clusters': 2, 'elapsed_time': 1.9728880499997103}}\n"
     ]
    }
   ],
   "source": [
    "# # DBSCAN\n",
    "# dbscan = DBSCAN(eps=50, min_samples=5)\n",
    "# dbscan_return = fit_predict_score_summary(dbscan, X, y)\n",
    "# return_dict['dbscan'] = dbscan_return\n",
    "# HDBSCAN\n",
    "hdbscan = HDBSCAN(min_cluster_size=5)\n",
    "hdbscan_return = fit_predict_score_summary(hdbscan, X, y)\n",
    "return_dict['hdbscan'] = hdbscan_return\n",
    "print(hdbscan_return)"
   ]
  },
  {
   "cell_type": "code",
   "execution_count": 38,
   "id": "0db4d5aa-2974-47d6-940d-d73f6be9b9ee",
   "metadata": {},
   "outputs": [
    {
     "ename": "ValueError",
     "evalue": "Number of labels is 1. Valid values are 2 to n_samples - 1 (inclusive)",
     "output_type": "error",
     "traceback": [
      "\u001B[0;31m---------------------------------------------------------------------------\u001B[0m",
      "\u001B[0;31mValueError\u001B[0m                                Traceback (most recent call last)",
      "Cell \u001B[0;32mIn[38], line 7\u001B[0m\n\u001B[1;32m      1\u001B[0m \u001B[38;5;66;03m# # MeanShift\u001B[39;00m\n\u001B[1;32m      2\u001B[0m \u001B[38;5;66;03m# meanshift = MeanShift(bandwidth=50)\u001B[39;00m\n\u001B[1;32m      3\u001B[0m \u001B[38;5;66;03m# meanshift_return = fit_predict_score_summary(meanshift, X, y)\u001B[39;00m\n\u001B[1;32m      4\u001B[0m \u001B[38;5;66;03m# return_dict['meanshift'] = meanshift_return\u001B[39;00m\n\u001B[1;32m      5\u001B[0m \u001B[38;5;66;03m# OPTICS\u001B[39;00m\n\u001B[1;32m      6\u001B[0m optics \u001B[38;5;241m=\u001B[39m OPTICS(min_samples\u001B[38;5;241m=\u001B[39m\u001B[38;5;241m5\u001B[39m)\n\u001B[0;32m----> 7\u001B[0m optics_return \u001B[38;5;241m=\u001B[39m \u001B[43mfit_predict_score_summary\u001B[49m\u001B[43m(\u001B[49m\u001B[43moptics\u001B[49m\u001B[43m,\u001B[49m\u001B[43m \u001B[49m\u001B[43mX\u001B[49m\u001B[43m,\u001B[49m\u001B[43m \u001B[49m\u001B[43my\u001B[49m\u001B[43m)\u001B[49m\n\u001B[1;32m      8\u001B[0m return_dict[\u001B[38;5;124m'\u001B[39m\u001B[38;5;124moptics\u001B[39m\u001B[38;5;124m'\u001B[39m] \u001B[38;5;241m=\u001B[39m optics_return\n\u001B[1;32m      9\u001B[0m scores_dict \u001B[38;5;241m=\u001B[39m {k: v[\u001B[38;5;124m'\u001B[39m\u001B[38;5;124mscores\u001B[39m\u001B[38;5;124m'\u001B[39m] \u001B[38;5;28;01mfor\u001B[39;00m k, v \u001B[38;5;129;01min\u001B[39;00m return_dict\u001B[38;5;241m.\u001B[39mitems()}\n",
      "Cell \u001B[0;32mIn[10], line 9\u001B[0m, in \u001B[0;36mfit_predict_score_summary\u001B[0;34m(estimator, X, y)\u001B[0m\n\u001B[1;32m      7\u001B[0m n_clusters \u001B[38;5;241m=\u001B[39m \u001B[38;5;28mlen\u001B[39m(\u001B[38;5;28mset\u001B[39m(labels)) \u001B[38;5;241m-\u001B[39m (\u001B[38;5;241m1\u001B[39m \u001B[38;5;28;01mif\u001B[39;00m \u001B[38;5;241m-\u001B[39m\u001B[38;5;241m1\u001B[39m \u001B[38;5;129;01min\u001B[39;00m labels \u001B[38;5;28;01melse\u001B[39;00m \u001B[38;5;241m0\u001B[39m)\n\u001B[1;32m      8\u001B[0m \u001B[38;5;66;03m# scores\u001B[39;00m\n\u001B[0;32m----> 9\u001B[0m scores \u001B[38;5;241m=\u001B[39m \u001B[43mcalculate_scores\u001B[49m\u001B[43m(\u001B[49m\u001B[43my\u001B[49m\u001B[43m,\u001B[49m\u001B[43m \u001B[49m\u001B[43mlabels\u001B[49m\u001B[43m,\u001B[49m\u001B[43m \u001B[49m\u001B[43mX\u001B[49m\u001B[43m)\u001B[49m\n\u001B[1;32m     10\u001B[0m scores[\u001B[38;5;124m'\u001B[39m\u001B[38;5;124mn_clusters\u001B[39m\u001B[38;5;124m'\u001B[39m] \u001B[38;5;241m=\u001B[39m n_clusters\n\u001B[1;32m     11\u001B[0m scores[\u001B[38;5;124m'\u001B[39m\u001B[38;5;124melapsed_time\u001B[39m\u001B[38;5;124m'\u001B[39m] \u001B[38;5;241m=\u001B[39m elapsed_time\n",
      "Cell \u001B[0;32mIn[8], line 19\u001B[0m, in \u001B[0;36mcalculate_scores\u001B[0;34m(y_true, y_pred, X)\u001B[0m\n\u001B[1;32m      8\u001B[0m scores \u001B[38;5;241m=\u001B[39m {\n\u001B[1;32m      9\u001B[0m     \u001B[38;5;124m'\u001B[39m\u001B[38;5;124mrand\u001B[39m\u001B[38;5;124m'\u001B[39m: rand,\n\u001B[1;32m     10\u001B[0m     \u001B[38;5;124m'\u001B[39m\u001B[38;5;124madjusted_rand\u001B[39m\u001B[38;5;124m'\u001B[39m: adjusted_rand,\n\u001B[0;32m   (...)\u001B[0m\n\u001B[1;32m     16\u001B[0m     \u001B[38;5;124m'\u001B[39m\u001B[38;5;124mv_measure\u001B[39m\u001B[38;5;124m'\u001B[39m: v_measure,\n\u001B[1;32m     17\u001B[0m }\n\u001B[1;32m     18\u001B[0m \u001B[38;5;28;01mif\u001B[39;00m X \u001B[38;5;129;01mis\u001B[39;00m \u001B[38;5;129;01mnot\u001B[39;00m \u001B[38;5;28;01mNone\u001B[39;00m:\n\u001B[0;32m---> 19\u001B[0m     silhouette \u001B[38;5;241m=\u001B[39m \u001B[43msilhouette_score\u001B[49m\u001B[43m(\u001B[49m\u001B[43mX\u001B[49m\u001B[43m,\u001B[49m\u001B[43m \u001B[49m\u001B[43my_pred\u001B[49m\u001B[43m)\u001B[49m\n\u001B[1;32m     20\u001B[0m     scores[\u001B[38;5;124m'\u001B[39m\u001B[38;5;124msilhouette\u001B[39m\u001B[38;5;124m'\u001B[39m] \u001B[38;5;241m=\u001B[39m silhouette\n\u001B[1;32m     21\u001B[0m \u001B[38;5;28;01mreturn\u001B[39;00m scores\n",
      "File \u001B[0;32m~/miniconda3/envs/clustering/lib/python3.13/site-packages/sklearn/utils/_param_validation.py:213\u001B[0m, in \u001B[0;36mvalidate_params.<locals>.decorator.<locals>.wrapper\u001B[0;34m(*args, **kwargs)\u001B[0m\n\u001B[1;32m    207\u001B[0m \u001B[38;5;28;01mtry\u001B[39;00m:\n\u001B[1;32m    208\u001B[0m     \u001B[38;5;28;01mwith\u001B[39;00m config_context(\n\u001B[1;32m    209\u001B[0m         skip_parameter_validation\u001B[38;5;241m=\u001B[39m(\n\u001B[1;32m    210\u001B[0m             prefer_skip_nested_validation \u001B[38;5;129;01mor\u001B[39;00m global_skip_validation\n\u001B[1;32m    211\u001B[0m         )\n\u001B[1;32m    212\u001B[0m     ):\n\u001B[0;32m--> 213\u001B[0m         \u001B[38;5;28;01mreturn\u001B[39;00m \u001B[43mfunc\u001B[49m\u001B[43m(\u001B[49m\u001B[38;5;241;43m*\u001B[39;49m\u001B[43margs\u001B[49m\u001B[43m,\u001B[49m\u001B[43m \u001B[49m\u001B[38;5;241;43m*\u001B[39;49m\u001B[38;5;241;43m*\u001B[39;49m\u001B[43mkwargs\u001B[49m\u001B[43m)\u001B[49m\n\u001B[1;32m    214\u001B[0m \u001B[38;5;28;01mexcept\u001B[39;00m InvalidParameterError \u001B[38;5;28;01mas\u001B[39;00m e:\n\u001B[1;32m    215\u001B[0m     \u001B[38;5;66;03m# When the function is just a wrapper around an estimator, we allow\u001B[39;00m\n\u001B[1;32m    216\u001B[0m     \u001B[38;5;66;03m# the function to delegate validation to the estimator, but we replace\u001B[39;00m\n\u001B[1;32m    217\u001B[0m     \u001B[38;5;66;03m# the name of the estimator by the name of the function in the error\u001B[39;00m\n\u001B[1;32m    218\u001B[0m     \u001B[38;5;66;03m# message to avoid confusion.\u001B[39;00m\n\u001B[1;32m    219\u001B[0m     msg \u001B[38;5;241m=\u001B[39m re\u001B[38;5;241m.\u001B[39msub(\n\u001B[1;32m    220\u001B[0m         \u001B[38;5;124mr\u001B[39m\u001B[38;5;124m\"\u001B[39m\u001B[38;5;124mparameter of \u001B[39m\u001B[38;5;124m\\\u001B[39m\u001B[38;5;124mw+ must be\u001B[39m\u001B[38;5;124m\"\u001B[39m,\n\u001B[1;32m    221\u001B[0m         \u001B[38;5;124mf\u001B[39m\u001B[38;5;124m\"\u001B[39m\u001B[38;5;124mparameter of \u001B[39m\u001B[38;5;132;01m{\u001B[39;00mfunc\u001B[38;5;241m.\u001B[39m\u001B[38;5;18m__qualname__\u001B[39m\u001B[38;5;132;01m}\u001B[39;00m\u001B[38;5;124m must be\u001B[39m\u001B[38;5;124m\"\u001B[39m,\n\u001B[1;32m    222\u001B[0m         \u001B[38;5;28mstr\u001B[39m(e),\n\u001B[1;32m    223\u001B[0m     )\n",
      "File \u001B[0;32m~/miniconda3/envs/clustering/lib/python3.13/site-packages/sklearn/metrics/cluster/_unsupervised.py:141\u001B[0m, in \u001B[0;36msilhouette_score\u001B[0;34m(X, labels, metric, sample_size, random_state, **kwds)\u001B[0m\n\u001B[1;32m    139\u001B[0m     \u001B[38;5;28;01melse\u001B[39;00m:\n\u001B[1;32m    140\u001B[0m         X, labels \u001B[38;5;241m=\u001B[39m X[indices], labels[indices]\n\u001B[0;32m--> 141\u001B[0m \u001B[38;5;28;01mreturn\u001B[39;00m np\u001B[38;5;241m.\u001B[39mmean(\u001B[43msilhouette_samples\u001B[49m\u001B[43m(\u001B[49m\u001B[43mX\u001B[49m\u001B[43m,\u001B[49m\u001B[43m \u001B[49m\u001B[43mlabels\u001B[49m\u001B[43m,\u001B[49m\u001B[43m \u001B[49m\u001B[43mmetric\u001B[49m\u001B[38;5;241;43m=\u001B[39;49m\u001B[43mmetric\u001B[49m\u001B[43m,\u001B[49m\u001B[43m \u001B[49m\u001B[38;5;241;43m*\u001B[39;49m\u001B[38;5;241;43m*\u001B[39;49m\u001B[43mkwds\u001B[49m\u001B[43m)\u001B[49m)\n",
      "File \u001B[0;32m~/miniconda3/envs/clustering/lib/python3.13/site-packages/sklearn/utils/_param_validation.py:186\u001B[0m, in \u001B[0;36mvalidate_params.<locals>.decorator.<locals>.wrapper\u001B[0;34m(*args, **kwargs)\u001B[0m\n\u001B[1;32m    184\u001B[0m global_skip_validation \u001B[38;5;241m=\u001B[39m get_config()[\u001B[38;5;124m\"\u001B[39m\u001B[38;5;124mskip_parameter_validation\u001B[39m\u001B[38;5;124m\"\u001B[39m]\n\u001B[1;32m    185\u001B[0m \u001B[38;5;28;01mif\u001B[39;00m global_skip_validation:\n\u001B[0;32m--> 186\u001B[0m     \u001B[38;5;28;01mreturn\u001B[39;00m \u001B[43mfunc\u001B[49m\u001B[43m(\u001B[49m\u001B[38;5;241;43m*\u001B[39;49m\u001B[43margs\u001B[49m\u001B[43m,\u001B[49m\u001B[43m \u001B[49m\u001B[38;5;241;43m*\u001B[39;49m\u001B[38;5;241;43m*\u001B[39;49m\u001B[43mkwargs\u001B[49m\u001B[43m)\u001B[49m\n\u001B[1;32m    188\u001B[0m func_sig \u001B[38;5;241m=\u001B[39m signature(func)\n\u001B[1;32m    190\u001B[0m \u001B[38;5;66;03m# Map *args/**kwargs to the function signature\u001B[39;00m\n",
      "File \u001B[0;32m~/miniconda3/envs/clustering/lib/python3.13/site-packages/sklearn/metrics/cluster/_unsupervised.py:299\u001B[0m, in \u001B[0;36msilhouette_samples\u001B[0;34m(X, labels, metric, **kwds)\u001B[0m\n\u001B[1;32m    297\u001B[0m n_samples \u001B[38;5;241m=\u001B[39m \u001B[38;5;28mlen\u001B[39m(labels)\n\u001B[1;32m    298\u001B[0m label_freqs \u001B[38;5;241m=\u001B[39m np\u001B[38;5;241m.\u001B[39mbincount(labels)\n\u001B[0;32m--> 299\u001B[0m \u001B[43mcheck_number_of_labels\u001B[49m\u001B[43m(\u001B[49m\u001B[38;5;28;43mlen\u001B[39;49m\u001B[43m(\u001B[49m\u001B[43mle\u001B[49m\u001B[38;5;241;43m.\u001B[39;49m\u001B[43mclasses_\u001B[49m\u001B[43m)\u001B[49m\u001B[43m,\u001B[49m\u001B[43m \u001B[49m\u001B[43mn_samples\u001B[49m\u001B[43m)\u001B[49m\n\u001B[1;32m    301\u001B[0m kwds[\u001B[38;5;124m\"\u001B[39m\u001B[38;5;124mmetric\u001B[39m\u001B[38;5;124m\"\u001B[39m] \u001B[38;5;241m=\u001B[39m metric\n\u001B[1;32m    302\u001B[0m reduce_func \u001B[38;5;241m=\u001B[39m functools\u001B[38;5;241m.\u001B[39mpartial(\n\u001B[1;32m    303\u001B[0m     _silhouette_reduce, labels\u001B[38;5;241m=\u001B[39mlabels, label_freqs\u001B[38;5;241m=\u001B[39mlabel_freqs\n\u001B[1;32m    304\u001B[0m )\n",
      "File \u001B[0;32m~/miniconda3/envs/clustering/lib/python3.13/site-packages/sklearn/metrics/cluster/_unsupervised.py:38\u001B[0m, in \u001B[0;36mcheck_number_of_labels\u001B[0;34m(n_labels, n_samples)\u001B[0m\n\u001B[1;32m     27\u001B[0m \u001B[38;5;250m\u001B[39m\u001B[38;5;124;03m\"\"\"Check that number of labels are valid.\u001B[39;00m\n\u001B[1;32m     28\u001B[0m \n\u001B[1;32m     29\u001B[0m \u001B[38;5;124;03mParameters\u001B[39;00m\n\u001B[0;32m   (...)\u001B[0m\n\u001B[1;32m     35\u001B[0m \u001B[38;5;124;03m    Number of samples.\u001B[39;00m\n\u001B[1;32m     36\u001B[0m \u001B[38;5;124;03m\"\"\"\u001B[39;00m\n\u001B[1;32m     37\u001B[0m \u001B[38;5;28;01mif\u001B[39;00m \u001B[38;5;129;01mnot\u001B[39;00m \u001B[38;5;241m1\u001B[39m \u001B[38;5;241m<\u001B[39m n_labels \u001B[38;5;241m<\u001B[39m n_samples:\n\u001B[0;32m---> 38\u001B[0m     \u001B[38;5;28;01mraise\u001B[39;00m \u001B[38;5;167;01mValueError\u001B[39;00m(\n\u001B[1;32m     39\u001B[0m         \u001B[38;5;124m\"\u001B[39m\u001B[38;5;124mNumber of labels is \u001B[39m\u001B[38;5;132;01m%d\u001B[39;00m\u001B[38;5;124m. Valid values are 2 to n_samples - 1 (inclusive)\u001B[39m\u001B[38;5;124m\"\u001B[39m\n\u001B[1;32m     40\u001B[0m         \u001B[38;5;241m%\u001B[39m n_labels\n\u001B[1;32m     41\u001B[0m     )\n",
      "\u001B[0;31mValueError\u001B[0m: Number of labels is 1. Valid values are 2 to n_samples - 1 (inclusive)"
     ]
    }
   ],
   "source": [
    "# # MeanShift\n",
    "# meanshift = MeanShift(bandwidth=50)\n",
    "# meanshift_return = fit_predict_score_summary(meanshift, X, y)\n",
    "# return_dict['meanshift'] = meanshift_return\n",
    "# OPTICS\n",
    "optics = OPTICS(min_samples=5)\n",
    "optics_return = fit_predict_score_summary(optics, X, y)\n",
    "return_dict['optics'] = optics_return\n",
    "scores_dict = {k: v['scores'] for k, v in return_dict.items()}\n",
    "scores_frame = pd.DataFrame.from_records(scores_dict)\n",
    "print(optics_return)"
   ]
  },
  {
   "cell_type": "code",
   "execution_count": 33,
   "id": "d3afbe9d-938b-44a7-8ede-3552601dc549",
   "metadata": {},
   "outputs": [
    {
     "data": {
      "text/html": [
       "<div>\n",
       "<style scoped>\n",
       "    .dataframe tbody tr th:only-of-type {\n",
       "        vertical-align: middle;\n",
       "    }\n",
       "\n",
       "    .dataframe tbody tr th {\n",
       "        vertical-align: top;\n",
       "    }\n",
       "\n",
       "    .dataframe thead th {\n",
       "        text-align: right;\n",
       "    }\n",
       "</style>\n",
       "<table border=\"1\" class=\"dataframe\">\n",
       "  <thead>\n",
       "    <tr style=\"text-align: right;\">\n",
       "      <th></th>\n",
       "      <th>hdbscan</th>\n",
       "      <th>optics</th>\n",
       "      <th>our</th>\n",
       "    </tr>\n",
       "  </thead>\n",
       "  <tbody>\n",
       "    <tr>\n",
       "      <th>rand</th>\n",
       "      <td>1.000000</td>\n",
       "      <td>1.000000</td>\n",
       "      <td>1.000000</td>\n",
       "    </tr>\n",
       "    <tr>\n",
       "      <th>adjusted_rand</th>\n",
       "      <td>1.000000</td>\n",
       "      <td>1.000000</td>\n",
       "      <td>1.000000</td>\n",
       "    </tr>\n",
       "    <tr>\n",
       "      <th>mutual_info</th>\n",
       "      <td>3.401098</td>\n",
       "      <td>3.401098</td>\n",
       "      <td>3.401098</td>\n",
       "    </tr>\n",
       "    <tr>\n",
       "      <th>adjusted_mutual_info</th>\n",
       "      <td>1.000000</td>\n",
       "      <td>1.000000</td>\n",
       "      <td>1.000000</td>\n",
       "    </tr>\n",
       "    <tr>\n",
       "      <th>normalized_mutual_info</th>\n",
       "      <td>1.000000</td>\n",
       "      <td>1.000000</td>\n",
       "      <td>1.000000</td>\n",
       "    </tr>\n",
       "    <tr>\n",
       "      <th>homogeneity</th>\n",
       "      <td>1.000000</td>\n",
       "      <td>1.000000</td>\n",
       "      <td>1.000000</td>\n",
       "    </tr>\n",
       "    <tr>\n",
       "      <th>completeness</th>\n",
       "      <td>1.000000</td>\n",
       "      <td>1.000000</td>\n",
       "      <td>1.000000</td>\n",
       "    </tr>\n",
       "    <tr>\n",
       "      <th>v_measure</th>\n",
       "      <td>1.000000</td>\n",
       "      <td>1.000000</td>\n",
       "      <td>1.000000</td>\n",
       "    </tr>\n",
       "    <tr>\n",
       "      <th>silhouette</th>\n",
       "      <td>0.828713</td>\n",
       "      <td>0.828713</td>\n",
       "      <td>0.828713</td>\n",
       "    </tr>\n",
       "    <tr>\n",
       "      <th>n_clusters</th>\n",
       "      <td>30.000000</td>\n",
       "      <td>30.000000</td>\n",
       "      <td>30.000000</td>\n",
       "    </tr>\n",
       "    <tr>\n",
       "      <th>elapsed_time</th>\n",
       "      <td>114.842924</td>\n",
       "      <td>445.569421</td>\n",
       "      <td>2.345143</td>\n",
       "    </tr>\n",
       "  </tbody>\n",
       "</table>\n",
       "</div>"
      ],
      "text/plain": [
       "                           hdbscan      optics        our\n",
       "rand                      1.000000    1.000000   1.000000\n",
       "adjusted_rand             1.000000    1.000000   1.000000\n",
       "mutual_info               3.401098    3.401098   3.401098\n",
       "adjusted_mutual_info      1.000000    1.000000   1.000000\n",
       "normalized_mutual_info    1.000000    1.000000   1.000000\n",
       "homogeneity               1.000000    1.000000   1.000000\n",
       "completeness              1.000000    1.000000   1.000000\n",
       "v_measure                 1.000000    1.000000   1.000000\n",
       "silhouette                0.828713    0.828713   0.828713\n",
       "n_clusters               30.000000   30.000000  30.000000\n",
       "elapsed_time            114.842924  445.569421   2.345143"
      ]
     },
     "metadata": {},
     "output_type": "display_data"
    }
   ],
   "source": [
    "display(scores_frame)"
   ]
  },
  {
   "cell_type": "code",
   "execution_count": 27,
   "id": "25acd22be9005577",
   "metadata": {
    "ExecuteTime": {
     "end_time": "2024-11-04T19:47:51.746215Z",
     "start_time": "2024-11-04T19:46:52.715041Z"
    }
   },
   "outputs": [
    {
     "name": "stderr",
     "output_type": "stream",
     "text": [
      "\n",
      "KeyboardInterrupt\n",
      "\n"
     ]
    }
   ],
   "source": [
    "# compare estimators\n",
    "results = compare_estimators(X, y, random_state)"
   ]
  },
  {
   "cell_type": "code",
   "execution_count": 106,
   "id": "8009164dcee6650e",
   "metadata": {
    "ExecuteTime": {
     "end_time": "2024-11-04T19:59:45.585902Z",
     "start_time": "2024-11-04T19:59:45.469798Z"
    }
   },
   "outputs": [],
   "source": [
    "# dataset parameters\n",
    "n_samples = 100\n",
    "n_random_features = 0\n",
    "n_informative = int(1e3)\n",
    "n_redundant = 100\n",
    "n_repeated = 100\n",
    "n_features = n_informative + n_redundant + n_repeated + n_random_features\n",
    "n_classes = 10\n",
    "n_clusters_per_class = 1\n",
    "weights = None\n",
    "flip_y = 0\n",
    "class_sep = 6\n",
    "hypercube = True\n",
    "shift = 0.0\n",
    "scale = 1.0\n",
    "shuffle = True\n",
    "random_state = 42\n",
    "X, y = make_classification(n_samples=n_samples, n_features=n_features, n_informative=n_informative, n_redundant=n_redundant, n_repeated=n_repeated, n_classes=n_classes, n_clusters_per_class=n_clusters_per_class, weights=weights, flip_y=flip_y, class_sep=class_sep, hypercube=hypercube, shift=shift, scale=scale, shuffle=shuffle, random_state=random_state)"
   ]
  },
  {
   "cell_type": "code",
   "execution_count": 107,
   "id": "be74e4cc17ad0101",
   "metadata": {
    "ExecuteTime": {
     "end_time": "2024-11-04T19:59:47.591699Z",
     "start_time": "2024-11-04T19:59:45.727908Z"
    }
   },
   "outputs": [
    {
     "data": {
      "text/plain": [
       "<matplotlib.collections.PathCollection at 0x7d95fbf74550>"
      ]
     },
     "execution_count": 107,
     "metadata": {},
     "output_type": "execute_result"
    },
    {
     "data": {
      "image/png": "[encoded data removed]",
      "text/plain": [
       "<Figure size 640x480 with 1 Axes>"
      ]
     },
     "metadata": {},
     "output_type": "display_data"
    }
   ],
   "source": [
    "# t-SNE visualization\n",
    "tsne = TSNE(n_components=2, random_state=random_state)\n",
    "X_embedded = tsne.fit_transform(X)\n",
    "plt.scatter(X_embedded[:, 0], X_embedded[:, 1], c=y, cmap='rainbow')"
   ]
  },
  {
   "cell_type": "code",
   "execution_count": 109,
   "id": "ed359873-f152-4e34-bfd9-881aeddbca12",
   "metadata": {},
   "outputs": [
    {
     "name": "stdout",
     "output_type": "stream",
     "text": [
      "{'labels': array([0, 1, 2, 2, 3, 2, 0, 4, 3, 3, 4, 4, 0, 4, 4, 4, 3, 2, 3, 2, 2, 4,\n",
      "       4, 2, 2, 3, 4, 4, 4, 0, 3, 2, 3, 3, 4, 2, 4, 2, 3, 2, 3, 2, 2, 5,\n",
      "       3, 0, 4, 4, 2, 0, 4, 4, 4, 4, 3, 6, 4, 3, 5, 0, 4, 4, 5, 3, 4, 4,\n",
      "       3, 4, 3, 4, 3, 3, 1, 4, 5, 3, 3, 3, 3, 5, 2, 3, 0, 7, 3, 5, 3, 3,\n",
      "       0, 4, 0, 4, 3, 3, 3, 2, 2, 4, 3, 5]), 'scores': {'rand': np.float64(0.7268686868686869), 'adjusted_rand': 0.01051230871590153, 'mutual_info': np.float64(0.3205441567974214), 'adjusted_mutual_info': np.float64(0.016566222625790984), 'normalized_mutual_info': np.float64(0.1634487893326586), 'homogeneity': np.float64(0.13921055850345082), 'completeness': np.float64(0.19790672860152728), 'v_measure': np.float64(0.1634487893326586), 'silhouette': np.float64(-0.04013087568723999), 'n_clusters': 8, 'elapsed_time': 0.31281661100001656}}\n"
     ]
    }
   ],
   "source": [
    "return_dict = {}\n",
    "kwargs = {}\n",
    "# our estimator\n",
    "estimator = RecursiveClustering(random_state=random_state, repetitions=3, kmeans_n_clusters=3, components_size=10)\n",
    "our_return = fit_predict_score_summary(estimator, X, y)\n",
    "return_dict['our'] = our_return\n",
    "print(our_return)"
   ]
  },
  {
   "cell_type": "code",
   "execution_count": 110,
   "id": "ca714428-6378-4ca5-a82d-4e3bca06b3a0",
   "metadata": {},
   "outputs": [
    {
     "ename": "ValueError",
     "evalue": "Number of labels is 1. Valid values are 2 to n_samples - 1 (inclusive)",
     "output_type": "error",
     "traceback": [
      "\u001B[0;31m---------------------------------------------------------------------------\u001B[0m",
      "\u001B[0;31mValueError\u001B[0m                                Traceback (most recent call last)",
      "Cell \u001B[0;32mIn[110], line 7\u001B[0m\n\u001B[1;32m      1\u001B[0m \u001B[38;5;66;03m# # DBSCAN\u001B[39;00m\n\u001B[1;32m      2\u001B[0m \u001B[38;5;66;03m# dbscan = DBSCAN(eps=50, min_samples=5)\u001B[39;00m\n\u001B[1;32m      3\u001B[0m \u001B[38;5;66;03m# dbscan_return = fit_predict_score_summary(dbscan, X, y)\u001B[39;00m\n\u001B[1;32m      4\u001B[0m \u001B[38;5;66;03m# return_dict['dbscan'] = dbscan_return\u001B[39;00m\n\u001B[1;32m      5\u001B[0m \u001B[38;5;66;03m# HDBSCAN\u001B[39;00m\n\u001B[1;32m      6\u001B[0m hdbscan \u001B[38;5;241m=\u001B[39m HDBSCAN(min_cluster_size\u001B[38;5;241m=\u001B[39m\u001B[38;5;241m5\u001B[39m)\n\u001B[0;32m----> 7\u001B[0m hdbscan_return \u001B[38;5;241m=\u001B[39m \u001B[43mfit_predict_score_summary\u001B[49m\u001B[43m(\u001B[49m\u001B[43mhdbscan\u001B[49m\u001B[43m,\u001B[49m\u001B[43m \u001B[49m\u001B[43mX\u001B[49m\u001B[43m,\u001B[49m\u001B[43m \u001B[49m\u001B[43my\u001B[49m\u001B[43m)\u001B[49m\n\u001B[1;32m      8\u001B[0m return_dict[\u001B[38;5;124m'\u001B[39m\u001B[38;5;124mhdbscan\u001B[39m\u001B[38;5;124m'\u001B[39m] \u001B[38;5;241m=\u001B[39m hdbscan_return\n\u001B[1;32m      9\u001B[0m \u001B[38;5;28mprint\u001B[39m(hdbscan_return)\n",
      "Cell \u001B[0;32mIn[10], line 9\u001B[0m, in \u001B[0;36mfit_predict_score_summary\u001B[0;34m(estimator, X, y)\u001B[0m\n\u001B[1;32m      7\u001B[0m n_clusters \u001B[38;5;241m=\u001B[39m \u001B[38;5;28mlen\u001B[39m(\u001B[38;5;28mset\u001B[39m(labels)) \u001B[38;5;241m-\u001B[39m (\u001B[38;5;241m1\u001B[39m \u001B[38;5;28;01mif\u001B[39;00m \u001B[38;5;241m-\u001B[39m\u001B[38;5;241m1\u001B[39m \u001B[38;5;129;01min\u001B[39;00m labels \u001B[38;5;28;01melse\u001B[39;00m \u001B[38;5;241m0\u001B[39m)\n\u001B[1;32m      8\u001B[0m \u001B[38;5;66;03m# scores\u001B[39;00m\n\u001B[0;32m----> 9\u001B[0m scores \u001B[38;5;241m=\u001B[39m \u001B[43mcalculate_scores\u001B[49m\u001B[43m(\u001B[49m\u001B[43my\u001B[49m\u001B[43m,\u001B[49m\u001B[43m \u001B[49m\u001B[43mlabels\u001B[49m\u001B[43m,\u001B[49m\u001B[43m \u001B[49m\u001B[43mX\u001B[49m\u001B[43m)\u001B[49m\n\u001B[1;32m     10\u001B[0m scores[\u001B[38;5;124m'\u001B[39m\u001B[38;5;124mn_clusters\u001B[39m\u001B[38;5;124m'\u001B[39m] \u001B[38;5;241m=\u001B[39m n_clusters\n\u001B[1;32m     11\u001B[0m scores[\u001B[38;5;124m'\u001B[39m\u001B[38;5;124melapsed_time\u001B[39m\u001B[38;5;124m'\u001B[39m] \u001B[38;5;241m=\u001B[39m elapsed_time\n",
      "Cell \u001B[0;32mIn[8], line 19\u001B[0m, in \u001B[0;36mcalculate_scores\u001B[0;34m(y_true, y_pred, X)\u001B[0m\n\u001B[1;32m      8\u001B[0m scores \u001B[38;5;241m=\u001B[39m {\n\u001B[1;32m      9\u001B[0m     \u001B[38;5;124m'\u001B[39m\u001B[38;5;124mrand\u001B[39m\u001B[38;5;124m'\u001B[39m: rand,\n\u001B[1;32m     10\u001B[0m     \u001B[38;5;124m'\u001B[39m\u001B[38;5;124madjusted_rand\u001B[39m\u001B[38;5;124m'\u001B[39m: adjusted_rand,\n\u001B[0;32m   (...)\u001B[0m\n\u001B[1;32m     16\u001B[0m     \u001B[38;5;124m'\u001B[39m\u001B[38;5;124mv_measure\u001B[39m\u001B[38;5;124m'\u001B[39m: v_measure,\n\u001B[1;32m     17\u001B[0m }\n\u001B[1;32m     18\u001B[0m \u001B[38;5;28;01mif\u001B[39;00m X \u001B[38;5;129;01mis\u001B[39;00m \u001B[38;5;129;01mnot\u001B[39;00m \u001B[38;5;28;01mNone\u001B[39;00m:\n\u001B[0;32m---> 19\u001B[0m     silhouette \u001B[38;5;241m=\u001B[39m \u001B[43msilhouette_score\u001B[49m\u001B[43m(\u001B[49m\u001B[43mX\u001B[49m\u001B[43m,\u001B[49m\u001B[43m \u001B[49m\u001B[43my_pred\u001B[49m\u001B[43m)\u001B[49m\n\u001B[1;32m     20\u001B[0m     scores[\u001B[38;5;124m'\u001B[39m\u001B[38;5;124msilhouette\u001B[39m\u001B[38;5;124m'\u001B[39m] \u001B[38;5;241m=\u001B[39m silhouette\n\u001B[1;32m     21\u001B[0m \u001B[38;5;28;01mreturn\u001B[39;00m scores\n",
      "File \u001B[0;32m~/miniconda3/envs/clustering/lib/python3.13/site-packages/sklearn/utils/_param_validation.py:213\u001B[0m, in \u001B[0;36mvalidate_params.<locals>.decorator.<locals>.wrapper\u001B[0;34m(*args, **kwargs)\u001B[0m\n\u001B[1;32m    207\u001B[0m \u001B[38;5;28;01mtry\u001B[39;00m:\n\u001B[1;32m    208\u001B[0m     \u001B[38;5;28;01mwith\u001B[39;00m config_context(\n\u001B[1;32m    209\u001B[0m         skip_parameter_validation\u001B[38;5;241m=\u001B[39m(\n\u001B[1;32m    210\u001B[0m             prefer_skip_nested_validation \u001B[38;5;129;01mor\u001B[39;00m global_skip_validation\n\u001B[1;32m    211\u001B[0m         )\n\u001B[1;32m    212\u001B[0m     ):\n\u001B[0;32m--> 213\u001B[0m         \u001B[38;5;28;01mreturn\u001B[39;00m \u001B[43mfunc\u001B[49m\u001B[43m(\u001B[49m\u001B[38;5;241;43m*\u001B[39;49m\u001B[43margs\u001B[49m\u001B[43m,\u001B[49m\u001B[43m \u001B[49m\u001B[38;5;241;43m*\u001B[39;49m\u001B[38;5;241;43m*\u001B[39;49m\u001B[43mkwargs\u001B[49m\u001B[43m)\u001B[49m\n\u001B[1;32m    214\u001B[0m \u001B[38;5;28;01mexcept\u001B[39;00m InvalidParameterError \u001B[38;5;28;01mas\u001B[39;00m e:\n\u001B[1;32m    215\u001B[0m     \u001B[38;5;66;03m# When the function is just a wrapper around an estimator, we allow\u001B[39;00m\n\u001B[1;32m    216\u001B[0m     \u001B[38;5;66;03m# the function to delegate validation to the estimator, but we replace\u001B[39;00m\n\u001B[1;32m    217\u001B[0m     \u001B[38;5;66;03m# the name of the estimator by the name of the function in the error\u001B[39;00m\n\u001B[1;32m    218\u001B[0m     \u001B[38;5;66;03m# message to avoid confusion.\u001B[39;00m\n\u001B[1;32m    219\u001B[0m     msg \u001B[38;5;241m=\u001B[39m re\u001B[38;5;241m.\u001B[39msub(\n\u001B[1;32m    220\u001B[0m         \u001B[38;5;124mr\u001B[39m\u001B[38;5;124m\"\u001B[39m\u001B[38;5;124mparameter of \u001B[39m\u001B[38;5;124m\\\u001B[39m\u001B[38;5;124mw+ must be\u001B[39m\u001B[38;5;124m\"\u001B[39m,\n\u001B[1;32m    221\u001B[0m         \u001B[38;5;124mf\u001B[39m\u001B[38;5;124m\"\u001B[39m\u001B[38;5;124mparameter of \u001B[39m\u001B[38;5;132;01m{\u001B[39;00mfunc\u001B[38;5;241m.\u001B[39m\u001B[38;5;18m__qualname__\u001B[39m\u001B[38;5;132;01m}\u001B[39;00m\u001B[38;5;124m must be\u001B[39m\u001B[38;5;124m\"\u001B[39m,\n\u001B[1;32m    222\u001B[0m         \u001B[38;5;28mstr\u001B[39m(e),\n\u001B[1;32m    223\u001B[0m     )\n",
      "File \u001B[0;32m~/miniconda3/envs/clustering/lib/python3.13/site-packages/sklearn/metrics/cluster/_unsupervised.py:141\u001B[0m, in \u001B[0;36msilhouette_score\u001B[0;34m(X, labels, metric, sample_size, random_state, **kwds)\u001B[0m\n\u001B[1;32m    139\u001B[0m     \u001B[38;5;28;01melse\u001B[39;00m:\n\u001B[1;32m    140\u001B[0m         X, labels \u001B[38;5;241m=\u001B[39m X[indices], labels[indices]\n\u001B[0;32m--> 141\u001B[0m \u001B[38;5;28;01mreturn\u001B[39;00m np\u001B[38;5;241m.\u001B[39mmean(\u001B[43msilhouette_samples\u001B[49m\u001B[43m(\u001B[49m\u001B[43mX\u001B[49m\u001B[43m,\u001B[49m\u001B[43m \u001B[49m\u001B[43mlabels\u001B[49m\u001B[43m,\u001B[49m\u001B[43m \u001B[49m\u001B[43mmetric\u001B[49m\u001B[38;5;241;43m=\u001B[39;49m\u001B[43mmetric\u001B[49m\u001B[43m,\u001B[49m\u001B[43m \u001B[49m\u001B[38;5;241;43m*\u001B[39;49m\u001B[38;5;241;43m*\u001B[39;49m\u001B[43mkwds\u001B[49m\u001B[43m)\u001B[49m)\n",
      "File \u001B[0;32m~/miniconda3/envs/clustering/lib/python3.13/site-packages/sklearn/utils/_param_validation.py:186\u001B[0m, in \u001B[0;36mvalidate_params.<locals>.decorator.<locals>.wrapper\u001B[0;34m(*args, **kwargs)\u001B[0m\n\u001B[1;32m    184\u001B[0m global_skip_validation \u001B[38;5;241m=\u001B[39m get_config()[\u001B[38;5;124m\"\u001B[39m\u001B[38;5;124mskip_parameter_validation\u001B[39m\u001B[38;5;124m\"\u001B[39m]\n\u001B[1;32m    185\u001B[0m \u001B[38;5;28;01mif\u001B[39;00m global_skip_validation:\n\u001B[0;32m--> 186\u001B[0m     \u001B[38;5;28;01mreturn\u001B[39;00m \u001B[43mfunc\u001B[49m\u001B[43m(\u001B[49m\u001B[38;5;241;43m*\u001B[39;49m\u001B[43margs\u001B[49m\u001B[43m,\u001B[49m\u001B[43m \u001B[49m\u001B[38;5;241;43m*\u001B[39;49m\u001B[38;5;241;43m*\u001B[39;49m\u001B[43mkwargs\u001B[49m\u001B[43m)\u001B[49m\n\u001B[1;32m    188\u001B[0m func_sig \u001B[38;5;241m=\u001B[39m signature(func)\n\u001B[1;32m    190\u001B[0m \u001B[38;5;66;03m# Map *args/**kwargs to the function signature\u001B[39;00m\n",
      "File \u001B[0;32m~/miniconda3/envs/clustering/lib/python3.13/site-packages/sklearn/metrics/cluster/_unsupervised.py:299\u001B[0m, in \u001B[0;36msilhouette_samples\u001B[0;34m(X, labels, metric, **kwds)\u001B[0m\n\u001B[1;32m    297\u001B[0m n_samples \u001B[38;5;241m=\u001B[39m \u001B[38;5;28mlen\u001B[39m(labels)\n\u001B[1;32m    298\u001B[0m label_freqs \u001B[38;5;241m=\u001B[39m np\u001B[38;5;241m.\u001B[39mbincount(labels)\n\u001B[0;32m--> 299\u001B[0m \u001B[43mcheck_number_of_labels\u001B[49m\u001B[43m(\u001B[49m\u001B[38;5;28;43mlen\u001B[39;49m\u001B[43m(\u001B[49m\u001B[43mle\u001B[49m\u001B[38;5;241;43m.\u001B[39;49m\u001B[43mclasses_\u001B[49m\u001B[43m)\u001B[49m\u001B[43m,\u001B[49m\u001B[43m \u001B[49m\u001B[43mn_samples\u001B[49m\u001B[43m)\u001B[49m\n\u001B[1;32m    301\u001B[0m kwds[\u001B[38;5;124m\"\u001B[39m\u001B[38;5;124mmetric\u001B[39m\u001B[38;5;124m\"\u001B[39m] \u001B[38;5;241m=\u001B[39m metric\n\u001B[1;32m    302\u001B[0m reduce_func \u001B[38;5;241m=\u001B[39m functools\u001B[38;5;241m.\u001B[39mpartial(\n\u001B[1;32m    303\u001B[0m     _silhouette_reduce, labels\u001B[38;5;241m=\u001B[39mlabels, label_freqs\u001B[38;5;241m=\u001B[39mlabel_freqs\n\u001B[1;32m    304\u001B[0m )\n",
      "File \u001B[0;32m~/miniconda3/envs/clustering/lib/python3.13/site-packages/sklearn/metrics/cluster/_unsupervised.py:38\u001B[0m, in \u001B[0;36mcheck_number_of_labels\u001B[0;34m(n_labels, n_samples)\u001B[0m\n\u001B[1;32m     27\u001B[0m \u001B[38;5;250m\u001B[39m\u001B[38;5;124;03m\"\"\"Check that number of labels are valid.\u001B[39;00m\n\u001B[1;32m     28\u001B[0m \n\u001B[1;32m     29\u001B[0m \u001B[38;5;124;03mParameters\u001B[39;00m\n\u001B[0;32m   (...)\u001B[0m\n\u001B[1;32m     35\u001B[0m \u001B[38;5;124;03m    Number of samples.\u001B[39;00m\n\u001B[1;32m     36\u001B[0m \u001B[38;5;124;03m\"\"\"\u001B[39;00m\n\u001B[1;32m     37\u001B[0m \u001B[38;5;28;01mif\u001B[39;00m \u001B[38;5;129;01mnot\u001B[39;00m \u001B[38;5;241m1\u001B[39m \u001B[38;5;241m<\u001B[39m n_labels \u001B[38;5;241m<\u001B[39m n_samples:\n\u001B[0;32m---> 38\u001B[0m     \u001B[38;5;28;01mraise\u001B[39;00m \u001B[38;5;167;01mValueError\u001B[39;00m(\n\u001B[1;32m     39\u001B[0m         \u001B[38;5;124m\"\u001B[39m\u001B[38;5;124mNumber of labels is \u001B[39m\u001B[38;5;132;01m%d\u001B[39;00m\u001B[38;5;124m. Valid values are 2 to n_samples - 1 (inclusive)\u001B[39m\u001B[38;5;124m\"\u001B[39m\n\u001B[1;32m     40\u001B[0m         \u001B[38;5;241m%\u001B[39m n_labels\n\u001B[1;32m     41\u001B[0m     )\n",
      "\u001B[0;31mValueError\u001B[0m: Number of labels is 1. Valid values are 2 to n_samples - 1 (inclusive)"
     ]
    }
   ],
   "source": [
    "# # DBSCAN\n",
    "# dbscan = DBSCAN(eps=50, min_samples=5)\n",
    "# dbscan_return = fit_predict_score_summary(dbscan, X, y)\n",
    "# return_dict['dbscan'] = dbscan_return\n",
    "# HDBSCAN\n",
    "hdbscan = HDBSCAN(min_cluster_size=5)\n",
    "hdbscan_return = fit_predict_score_summary(hdbscan, X, y)\n",
    "return_dict['hdbscan'] = hdbscan_return\n",
    "print(hdbscan_return)"
   ]
  },
  {
   "cell_type": "code",
   "execution_count": 111,
   "id": "581532be-e618-4f1f-bc56-de37983ec088",
   "metadata": {},
   "outputs": [
    {
     "ename": "ValueError",
     "evalue": "Number of labels is 1. Valid values are 2 to n_samples - 1 (inclusive)",
     "output_type": "error",
     "traceback": [
      "\u001B[0;31m---------------------------------------------------------------------------\u001B[0m",
      "\u001B[0;31mValueError\u001B[0m                                Traceback (most recent call last)",
      "Cell \u001B[0;32mIn[111], line 7\u001B[0m\n\u001B[1;32m      1\u001B[0m \u001B[38;5;66;03m# # MeanShift\u001B[39;00m\n\u001B[1;32m      2\u001B[0m \u001B[38;5;66;03m# meanshift = MeanShift(bandwidth=50)\u001B[39;00m\n\u001B[1;32m      3\u001B[0m \u001B[38;5;66;03m# meanshift_return = fit_predict_score_summary(meanshift, X, y)\u001B[39;00m\n\u001B[1;32m      4\u001B[0m \u001B[38;5;66;03m# return_dict['meanshift'] = meanshift_return\u001B[39;00m\n\u001B[1;32m      5\u001B[0m \u001B[38;5;66;03m# OPTICS\u001B[39;00m\n\u001B[1;32m      6\u001B[0m optics \u001B[38;5;241m=\u001B[39m OPTICS(min_samples\u001B[38;5;241m=\u001B[39m\u001B[38;5;241m5\u001B[39m)\n\u001B[0;32m----> 7\u001B[0m optics_return \u001B[38;5;241m=\u001B[39m \u001B[43mfit_predict_score_summary\u001B[49m\u001B[43m(\u001B[49m\u001B[43moptics\u001B[49m\u001B[43m,\u001B[49m\u001B[43m \u001B[49m\u001B[43mX\u001B[49m\u001B[43m,\u001B[49m\u001B[43m \u001B[49m\u001B[43my\u001B[49m\u001B[43m)\u001B[49m\n\u001B[1;32m      8\u001B[0m return_dict[\u001B[38;5;124m'\u001B[39m\u001B[38;5;124moptics\u001B[39m\u001B[38;5;124m'\u001B[39m] \u001B[38;5;241m=\u001B[39m optics_return\n\u001B[1;32m      9\u001B[0m scores_dict \u001B[38;5;241m=\u001B[39m {k: v[\u001B[38;5;124m'\u001B[39m\u001B[38;5;124mscores\u001B[39m\u001B[38;5;124m'\u001B[39m] \u001B[38;5;28;01mfor\u001B[39;00m k, v \u001B[38;5;129;01min\u001B[39;00m return_dict\u001B[38;5;241m.\u001B[39mitems()}\n",
      "Cell \u001B[0;32mIn[10], line 9\u001B[0m, in \u001B[0;36mfit_predict_score_summary\u001B[0;34m(estimator, X, y)\u001B[0m\n\u001B[1;32m      7\u001B[0m n_clusters \u001B[38;5;241m=\u001B[39m \u001B[38;5;28mlen\u001B[39m(\u001B[38;5;28mset\u001B[39m(labels)) \u001B[38;5;241m-\u001B[39m (\u001B[38;5;241m1\u001B[39m \u001B[38;5;28;01mif\u001B[39;00m \u001B[38;5;241m-\u001B[39m\u001B[38;5;241m1\u001B[39m \u001B[38;5;129;01min\u001B[39;00m labels \u001B[38;5;28;01melse\u001B[39;00m \u001B[38;5;241m0\u001B[39m)\n\u001B[1;32m      8\u001B[0m \u001B[38;5;66;03m# scores\u001B[39;00m\n\u001B[0;32m----> 9\u001B[0m scores \u001B[38;5;241m=\u001B[39m \u001B[43mcalculate_scores\u001B[49m\u001B[43m(\u001B[49m\u001B[43my\u001B[49m\u001B[43m,\u001B[49m\u001B[43m \u001B[49m\u001B[43mlabels\u001B[49m\u001B[43m,\u001B[49m\u001B[43m \u001B[49m\u001B[43mX\u001B[49m\u001B[43m)\u001B[49m\n\u001B[1;32m     10\u001B[0m scores[\u001B[38;5;124m'\u001B[39m\u001B[38;5;124mn_clusters\u001B[39m\u001B[38;5;124m'\u001B[39m] \u001B[38;5;241m=\u001B[39m n_clusters\n\u001B[1;32m     11\u001B[0m scores[\u001B[38;5;124m'\u001B[39m\u001B[38;5;124melapsed_time\u001B[39m\u001B[38;5;124m'\u001B[39m] \u001B[38;5;241m=\u001B[39m elapsed_time\n",
      "Cell \u001B[0;32mIn[8], line 19\u001B[0m, in \u001B[0;36mcalculate_scores\u001B[0;34m(y_true, y_pred, X)\u001B[0m\n\u001B[1;32m      8\u001B[0m scores \u001B[38;5;241m=\u001B[39m {\n\u001B[1;32m      9\u001B[0m     \u001B[38;5;124m'\u001B[39m\u001B[38;5;124mrand\u001B[39m\u001B[38;5;124m'\u001B[39m: rand,\n\u001B[1;32m     10\u001B[0m     \u001B[38;5;124m'\u001B[39m\u001B[38;5;124madjusted_rand\u001B[39m\u001B[38;5;124m'\u001B[39m: adjusted_rand,\n\u001B[0;32m   (...)\u001B[0m\n\u001B[1;32m     16\u001B[0m     \u001B[38;5;124m'\u001B[39m\u001B[38;5;124mv_measure\u001B[39m\u001B[38;5;124m'\u001B[39m: v_measure,\n\u001B[1;32m     17\u001B[0m }\n\u001B[1;32m     18\u001B[0m \u001B[38;5;28;01mif\u001B[39;00m X \u001B[38;5;129;01mis\u001B[39;00m \u001B[38;5;129;01mnot\u001B[39;00m \u001B[38;5;28;01mNone\u001B[39;00m:\n\u001B[0;32m---> 19\u001B[0m     silhouette \u001B[38;5;241m=\u001B[39m \u001B[43msilhouette_score\u001B[49m\u001B[43m(\u001B[49m\u001B[43mX\u001B[49m\u001B[43m,\u001B[49m\u001B[43m \u001B[49m\u001B[43my_pred\u001B[49m\u001B[43m)\u001B[49m\n\u001B[1;32m     20\u001B[0m     scores[\u001B[38;5;124m'\u001B[39m\u001B[38;5;124msilhouette\u001B[39m\u001B[38;5;124m'\u001B[39m] \u001B[38;5;241m=\u001B[39m silhouette\n\u001B[1;32m     21\u001B[0m \u001B[38;5;28;01mreturn\u001B[39;00m scores\n",
      "File \u001B[0;32m~/miniconda3/envs/clustering/lib/python3.13/site-packages/sklearn/utils/_param_validation.py:213\u001B[0m, in \u001B[0;36mvalidate_params.<locals>.decorator.<locals>.wrapper\u001B[0;34m(*args, **kwargs)\u001B[0m\n\u001B[1;32m    207\u001B[0m \u001B[38;5;28;01mtry\u001B[39;00m:\n\u001B[1;32m    208\u001B[0m     \u001B[38;5;28;01mwith\u001B[39;00m config_context(\n\u001B[1;32m    209\u001B[0m         skip_parameter_validation\u001B[38;5;241m=\u001B[39m(\n\u001B[1;32m    210\u001B[0m             prefer_skip_nested_validation \u001B[38;5;129;01mor\u001B[39;00m global_skip_validation\n\u001B[1;32m    211\u001B[0m         )\n\u001B[1;32m    212\u001B[0m     ):\n\u001B[0;32m--> 213\u001B[0m         \u001B[38;5;28;01mreturn\u001B[39;00m \u001B[43mfunc\u001B[49m\u001B[43m(\u001B[49m\u001B[38;5;241;43m*\u001B[39;49m\u001B[43margs\u001B[49m\u001B[43m,\u001B[49m\u001B[43m \u001B[49m\u001B[38;5;241;43m*\u001B[39;49m\u001B[38;5;241;43m*\u001B[39;49m\u001B[43mkwargs\u001B[49m\u001B[43m)\u001B[49m\n\u001B[1;32m    214\u001B[0m \u001B[38;5;28;01mexcept\u001B[39;00m InvalidParameterError \u001B[38;5;28;01mas\u001B[39;00m e:\n\u001B[1;32m    215\u001B[0m     \u001B[38;5;66;03m# When the function is just a wrapper around an estimator, we allow\u001B[39;00m\n\u001B[1;32m    216\u001B[0m     \u001B[38;5;66;03m# the function to delegate validation to the estimator, but we replace\u001B[39;00m\n\u001B[1;32m    217\u001B[0m     \u001B[38;5;66;03m# the name of the estimator by the name of the function in the error\u001B[39;00m\n\u001B[1;32m    218\u001B[0m     \u001B[38;5;66;03m# message to avoid confusion.\u001B[39;00m\n\u001B[1;32m    219\u001B[0m     msg \u001B[38;5;241m=\u001B[39m re\u001B[38;5;241m.\u001B[39msub(\n\u001B[1;32m    220\u001B[0m         \u001B[38;5;124mr\u001B[39m\u001B[38;5;124m\"\u001B[39m\u001B[38;5;124mparameter of \u001B[39m\u001B[38;5;124m\\\u001B[39m\u001B[38;5;124mw+ must be\u001B[39m\u001B[38;5;124m\"\u001B[39m,\n\u001B[1;32m    221\u001B[0m         \u001B[38;5;124mf\u001B[39m\u001B[38;5;124m\"\u001B[39m\u001B[38;5;124mparameter of \u001B[39m\u001B[38;5;132;01m{\u001B[39;00mfunc\u001B[38;5;241m.\u001B[39m\u001B[38;5;18m__qualname__\u001B[39m\u001B[38;5;132;01m}\u001B[39;00m\u001B[38;5;124m must be\u001B[39m\u001B[38;5;124m\"\u001B[39m,\n\u001B[1;32m    222\u001B[0m         \u001B[38;5;28mstr\u001B[39m(e),\n\u001B[1;32m    223\u001B[0m     )\n",
      "File \u001B[0;32m~/miniconda3/envs/clustering/lib/python3.13/site-packages/sklearn/metrics/cluster/_unsupervised.py:141\u001B[0m, in \u001B[0;36msilhouette_score\u001B[0;34m(X, labels, metric, sample_size, random_state, **kwds)\u001B[0m\n\u001B[1;32m    139\u001B[0m     \u001B[38;5;28;01melse\u001B[39;00m:\n\u001B[1;32m    140\u001B[0m         X, labels \u001B[38;5;241m=\u001B[39m X[indices], labels[indices]\n\u001B[0;32m--> 141\u001B[0m \u001B[38;5;28;01mreturn\u001B[39;00m np\u001B[38;5;241m.\u001B[39mmean(\u001B[43msilhouette_samples\u001B[49m\u001B[43m(\u001B[49m\u001B[43mX\u001B[49m\u001B[43m,\u001B[49m\u001B[43m \u001B[49m\u001B[43mlabels\u001B[49m\u001B[43m,\u001B[49m\u001B[43m \u001B[49m\u001B[43mmetric\u001B[49m\u001B[38;5;241;43m=\u001B[39;49m\u001B[43mmetric\u001B[49m\u001B[43m,\u001B[49m\u001B[43m \u001B[49m\u001B[38;5;241;43m*\u001B[39;49m\u001B[38;5;241;43m*\u001B[39;49m\u001B[43mkwds\u001B[49m\u001B[43m)\u001B[49m)\n",
      "File \u001B[0;32m~/miniconda3/envs/clustering/lib/python3.13/site-packages/sklearn/utils/_param_validation.py:186\u001B[0m, in \u001B[0;36mvalidate_params.<locals>.decorator.<locals>.wrapper\u001B[0;34m(*args, **kwargs)\u001B[0m\n\u001B[1;32m    184\u001B[0m global_skip_validation \u001B[38;5;241m=\u001B[39m get_config()[\u001B[38;5;124m\"\u001B[39m\u001B[38;5;124mskip_parameter_validation\u001B[39m\u001B[38;5;124m\"\u001B[39m]\n\u001B[1;32m    185\u001B[0m \u001B[38;5;28;01mif\u001B[39;00m global_skip_validation:\n\u001B[0;32m--> 186\u001B[0m     \u001B[38;5;28;01mreturn\u001B[39;00m \u001B[43mfunc\u001B[49m\u001B[43m(\u001B[49m\u001B[38;5;241;43m*\u001B[39;49m\u001B[43margs\u001B[49m\u001B[43m,\u001B[49m\u001B[43m \u001B[49m\u001B[38;5;241;43m*\u001B[39;49m\u001B[38;5;241;43m*\u001B[39;49m\u001B[43mkwargs\u001B[49m\u001B[43m)\u001B[49m\n\u001B[1;32m    188\u001B[0m func_sig \u001B[38;5;241m=\u001B[39m signature(func)\n\u001B[1;32m    190\u001B[0m \u001B[38;5;66;03m# Map *args/**kwargs to the function signature\u001B[39;00m\n",
      "File \u001B[0;32m~/miniconda3/envs/clustering/lib/python3.13/site-packages/sklearn/metrics/cluster/_unsupervised.py:299\u001B[0m, in \u001B[0;36msilhouette_samples\u001B[0;34m(X, labels, metric, **kwds)\u001B[0m\n\u001B[1;32m    297\u001B[0m n_samples \u001B[38;5;241m=\u001B[39m \u001B[38;5;28mlen\u001B[39m(labels)\n\u001B[1;32m    298\u001B[0m label_freqs \u001B[38;5;241m=\u001B[39m np\u001B[38;5;241m.\u001B[39mbincount(labels)\n\u001B[0;32m--> 299\u001B[0m \u001B[43mcheck_number_of_labels\u001B[49m\u001B[43m(\u001B[49m\u001B[38;5;28;43mlen\u001B[39;49m\u001B[43m(\u001B[49m\u001B[43mle\u001B[49m\u001B[38;5;241;43m.\u001B[39;49m\u001B[43mclasses_\u001B[49m\u001B[43m)\u001B[49m\u001B[43m,\u001B[49m\u001B[43m \u001B[49m\u001B[43mn_samples\u001B[49m\u001B[43m)\u001B[49m\n\u001B[1;32m    301\u001B[0m kwds[\u001B[38;5;124m\"\u001B[39m\u001B[38;5;124mmetric\u001B[39m\u001B[38;5;124m\"\u001B[39m] \u001B[38;5;241m=\u001B[39m metric\n\u001B[1;32m    302\u001B[0m reduce_func \u001B[38;5;241m=\u001B[39m functools\u001B[38;5;241m.\u001B[39mpartial(\n\u001B[1;32m    303\u001B[0m     _silhouette_reduce, labels\u001B[38;5;241m=\u001B[39mlabels, label_freqs\u001B[38;5;241m=\u001B[39mlabel_freqs\n\u001B[1;32m    304\u001B[0m )\n",
      "File \u001B[0;32m~/miniconda3/envs/clustering/lib/python3.13/site-packages/sklearn/metrics/cluster/_unsupervised.py:38\u001B[0m, in \u001B[0;36mcheck_number_of_labels\u001B[0;34m(n_labels, n_samples)\u001B[0m\n\u001B[1;32m     27\u001B[0m \u001B[38;5;250m\u001B[39m\u001B[38;5;124;03m\"\"\"Check that number of labels are valid.\u001B[39;00m\n\u001B[1;32m     28\u001B[0m \n\u001B[1;32m     29\u001B[0m \u001B[38;5;124;03mParameters\u001B[39;00m\n\u001B[0;32m   (...)\u001B[0m\n\u001B[1;32m     35\u001B[0m \u001B[38;5;124;03m    Number of samples.\u001B[39;00m\n\u001B[1;32m     36\u001B[0m \u001B[38;5;124;03m\"\"\"\u001B[39;00m\n\u001B[1;32m     37\u001B[0m \u001B[38;5;28;01mif\u001B[39;00m \u001B[38;5;129;01mnot\u001B[39;00m \u001B[38;5;241m1\u001B[39m \u001B[38;5;241m<\u001B[39m n_labels \u001B[38;5;241m<\u001B[39m n_samples:\n\u001B[0;32m---> 38\u001B[0m     \u001B[38;5;28;01mraise\u001B[39;00m \u001B[38;5;167;01mValueError\u001B[39;00m(\n\u001B[1;32m     39\u001B[0m         \u001B[38;5;124m\"\u001B[39m\u001B[38;5;124mNumber of labels is \u001B[39m\u001B[38;5;132;01m%d\u001B[39;00m\u001B[38;5;124m. Valid values are 2 to n_samples - 1 (inclusive)\u001B[39m\u001B[38;5;124m\"\u001B[39m\n\u001B[1;32m     40\u001B[0m         \u001B[38;5;241m%\u001B[39m n_labels\n\u001B[1;32m     41\u001B[0m     )\n",
      "\u001B[0;31mValueError\u001B[0m: Number of labels is 1. Valid values are 2 to n_samples - 1 (inclusive)"
     ]
    }
   ],
   "source": [
    "# # MeanShift\n",
    "# meanshift = MeanShift(bandwidth=50)\n",
    "# meanshift_return = fit_predict_score_summary(meanshift, X, y)\n",
    "# return_dict['meanshift'] = meanshift_return\n",
    "# OPTICS\n",
    "optics = OPTICS(min_samples=5)\n",
    "optics_return = fit_predict_score_summary(optics, X, y)\n",
    "return_dict['optics'] = optics_return\n",
    "scores_dict = {k: v['scores'] for k, v in return_dict.items()}\n",
    "scores_frame = pd.DataFrame.from_records(scores_dict)\n",
    "print(optics_return)"
   ]
  },
  {
   "cell_type": "code",
   "execution_count": 61,
   "id": "b55800de-949c-487a-b024-921a9cae8c07",
   "metadata": {},
   "outputs": [
    {
     "data": {
      "text/html": [
       "<div>\n",
       "<style scoped>\n",
       "    .dataframe tbody tr th:only-of-type {\n",
       "        vertical-align: middle;\n",
       "    }\n",
       "\n",
       "    .dataframe tbody tr th {\n",
       "        vertical-align: top;\n",
       "    }\n",
       "\n",
       "    .dataframe thead th {\n",
       "        text-align: right;\n",
       "    }\n",
       "</style>\n",
       "<table border=\"1\" class=\"dataframe\">\n",
       "  <thead>\n",
       "    <tr style=\"text-align: right;\">\n",
       "      <th></th>\n",
       "      <th>hdbscan</th>\n",
       "      <th>optics</th>\n",
       "      <th>our</th>\n",
       "    </tr>\n",
       "  </thead>\n",
       "  <tbody>\n",
       "    <tr>\n",
       "      <th>rand</th>\n",
       "      <td>1.000000</td>\n",
       "      <td>0.939394</td>\n",
       "      <td>0.909293</td>\n",
       "    </tr>\n",
       "    <tr>\n",
       "      <th>adjusted_rand</th>\n",
       "      <td>1.000000</td>\n",
       "      <td>0.717949</td>\n",
       "      <td>0.004033</td>\n",
       "    </tr>\n",
       "    <tr>\n",
       "      <th>mutual_info</th>\n",
       "      <td>2.302585</td>\n",
       "      <td>1.973001</td>\n",
       "      <td>2.302585</td>\n",
       "    </tr>\n",
       "    <tr>\n",
       "      <th>adjusted_mutual_info</th>\n",
       "      <td>1.000000</td>\n",
       "      <td>0.906063</td>\n",
       "      <td>0.010893</td>\n",
       "    </tr>\n",
       "    <tr>\n",
       "      <th>normalized_mutual_info</th>\n",
       "      <td>1.000000</td>\n",
       "      <td>0.922915</td>\n",
       "      <td>0.668007</td>\n",
       "    </tr>\n",
       "    <tr>\n",
       "      <th>homogeneity</th>\n",
       "      <td>1.000000</td>\n",
       "      <td>0.856864</td>\n",
       "      <td>1.000000</td>\n",
       "    </tr>\n",
       "    <tr>\n",
       "      <th>completeness</th>\n",
       "      <td>1.000000</td>\n",
       "      <td>1.000000</td>\n",
       "      <td>0.501510</td>\n",
       "    </tr>\n",
       "    <tr>\n",
       "      <th>v_measure</th>\n",
       "      <td>1.000000</td>\n",
       "      <td>0.922915</td>\n",
       "      <td>0.668007</td>\n",
       "    </tr>\n",
       "    <tr>\n",
       "      <th>silhouette</th>\n",
       "      <td>0.109211</td>\n",
       "      <td>0.084995</td>\n",
       "      <td>-0.001957</td>\n",
       "    </tr>\n",
       "    <tr>\n",
       "      <th>n_clusters</th>\n",
       "      <td>10.000000</td>\n",
       "      <td>7.000000</td>\n",
       "      <td>99.000000</td>\n",
       "    </tr>\n",
       "    <tr>\n",
       "      <th>elapsed_time</th>\n",
       "      <td>0.093601</td>\n",
       "      <td>0.111589</td>\n",
       "      <td>0.378364</td>\n",
       "    </tr>\n",
       "  </tbody>\n",
       "</table>\n",
       "</div>"
      ],
      "text/plain": [
       "                          hdbscan    optics        our\n",
       "rand                     1.000000  0.939394   0.909293\n",
       "adjusted_rand            1.000000  0.717949   0.004033\n",
       "mutual_info              2.302585  1.973001   2.302585\n",
       "adjusted_mutual_info     1.000000  0.906063   0.010893\n",
       "normalized_mutual_info   1.000000  0.922915   0.668007\n",
       "homogeneity              1.000000  0.856864   1.000000\n",
       "completeness             1.000000  1.000000   0.501510\n",
       "v_measure                1.000000  0.922915   0.668007\n",
       "silhouette               0.109211  0.084995  -0.001957\n",
       "n_clusters              10.000000  7.000000  99.000000\n",
       "elapsed_time             0.093601  0.111589   0.378364"
      ]
     },
     "metadata": {},
     "output_type": "display_data"
    }
   ],
   "source": [
    "display(scores_frame)"
   ]
  },
  {
   "cell_type": "code",
   "execution_count": 47,
   "id": "af57b731cd46b5ea",
   "metadata": {
    "ExecuteTime": {
     "end_time": "2024-11-04T19:59:59.210696Z",
     "start_time": "2024-11-04T19:59:49.317492Z"
    }
   },
   "outputs": [
    {
     "ename": "ValueError",
     "evalue": "Number of labels is 100. Valid values are 2 to n_samples - 1 (inclusive)",
     "output_type": "error",
     "traceback": [
      "\u001B[0;31m---------------------------------------------------------------------------\u001B[0m",
      "\u001B[0;31mValueError\u001B[0m                                Traceback (most recent call last)",
      "Cell \u001B[0;32mIn[47], line 2\u001B[0m\n\u001B[1;32m      1\u001B[0m \u001B[38;5;66;03m# compare estimators\u001B[39;00m\n\u001B[0;32m----> 2\u001B[0m results \u001B[38;5;241m=\u001B[39m \u001B[43mcompare_estimators\u001B[49m\u001B[43m(\u001B[49m\u001B[43mX\u001B[49m\u001B[43m,\u001B[49m\u001B[43m \u001B[49m\u001B[43my\u001B[49m\u001B[43m,\u001B[49m\u001B[43m \u001B[49m\u001B[43mrandom_state\u001B[49m\u001B[43m)\u001B[49m\n",
      "Cell \u001B[0;32mIn[25], line 5\u001B[0m, in \u001B[0;36mcompare_estimators\u001B[0;34m(X, y, random_state, **kwargs)\u001B[0m\n\u001B[1;32m      3\u001B[0m \u001B[38;5;66;03m# our estimator\u001B[39;00m\n\u001B[1;32m      4\u001B[0m estimator \u001B[38;5;241m=\u001B[39m RecursiveClustering(random_state\u001B[38;5;241m=\u001B[39mrandom_state, \u001B[38;5;241m*\u001B[39m\u001B[38;5;241m*\u001B[39mkwargs)\n\u001B[0;32m----> 5\u001B[0m our_return \u001B[38;5;241m=\u001B[39m \u001B[43mfit_predict_score_summary\u001B[49m\u001B[43m(\u001B[49m\u001B[43mestimator\u001B[49m\u001B[43m,\u001B[49m\u001B[43m \u001B[49m\u001B[43mX\u001B[49m\u001B[43m,\u001B[49m\u001B[43m \u001B[49m\u001B[43my\u001B[49m\u001B[43m)\u001B[49m\n\u001B[1;32m      6\u001B[0m return_dict[\u001B[38;5;124m'\u001B[39m\u001B[38;5;124mour\u001B[39m\u001B[38;5;124m'\u001B[39m] \u001B[38;5;241m=\u001B[39m our_return\n\u001B[1;32m      7\u001B[0m \u001B[38;5;66;03m# # DBSCAN\u001B[39;00m\n\u001B[1;32m      8\u001B[0m \u001B[38;5;66;03m# dbscan = DBSCAN(eps=50, min_samples=5)\u001B[39;00m\n\u001B[1;32m      9\u001B[0m \u001B[38;5;66;03m# dbscan_return = fit_predict_score_summary(dbscan, X, y)\u001B[39;00m\n\u001B[1;32m     10\u001B[0m \u001B[38;5;66;03m# return_dict['dbscan'] = dbscan_return\u001B[39;00m\n\u001B[1;32m     11\u001B[0m \u001B[38;5;66;03m# HDBSCAN\u001B[39;00m\n",
      "Cell \u001B[0;32mIn[10], line 9\u001B[0m, in \u001B[0;36mfit_predict_score_summary\u001B[0;34m(estimator, X, y)\u001B[0m\n\u001B[1;32m      7\u001B[0m n_clusters \u001B[38;5;241m=\u001B[39m \u001B[38;5;28mlen\u001B[39m(\u001B[38;5;28mset\u001B[39m(labels)) \u001B[38;5;241m-\u001B[39m (\u001B[38;5;241m1\u001B[39m \u001B[38;5;28;01mif\u001B[39;00m \u001B[38;5;241m-\u001B[39m\u001B[38;5;241m1\u001B[39m \u001B[38;5;129;01min\u001B[39;00m labels \u001B[38;5;28;01melse\u001B[39;00m \u001B[38;5;241m0\u001B[39m)\n\u001B[1;32m      8\u001B[0m \u001B[38;5;66;03m# scores\u001B[39;00m\n\u001B[0;32m----> 9\u001B[0m scores \u001B[38;5;241m=\u001B[39m \u001B[43mcalculate_scores\u001B[49m\u001B[43m(\u001B[49m\u001B[43my\u001B[49m\u001B[43m,\u001B[49m\u001B[43m \u001B[49m\u001B[43mlabels\u001B[49m\u001B[43m,\u001B[49m\u001B[43m \u001B[49m\u001B[43mX\u001B[49m\u001B[43m)\u001B[49m\n\u001B[1;32m     10\u001B[0m scores[\u001B[38;5;124m'\u001B[39m\u001B[38;5;124mn_clusters\u001B[39m\u001B[38;5;124m'\u001B[39m] \u001B[38;5;241m=\u001B[39m n_clusters\n\u001B[1;32m     11\u001B[0m scores[\u001B[38;5;124m'\u001B[39m\u001B[38;5;124melapsed_time\u001B[39m\u001B[38;5;124m'\u001B[39m] \u001B[38;5;241m=\u001B[39m elapsed_time\n",
      "Cell \u001B[0;32mIn[8], line 19\u001B[0m, in \u001B[0;36mcalculate_scores\u001B[0;34m(y_true, y_pred, X)\u001B[0m\n\u001B[1;32m      8\u001B[0m scores \u001B[38;5;241m=\u001B[39m {\n\u001B[1;32m      9\u001B[0m     \u001B[38;5;124m'\u001B[39m\u001B[38;5;124mrand\u001B[39m\u001B[38;5;124m'\u001B[39m: rand,\n\u001B[1;32m     10\u001B[0m     \u001B[38;5;124m'\u001B[39m\u001B[38;5;124madjusted_rand\u001B[39m\u001B[38;5;124m'\u001B[39m: adjusted_rand,\n\u001B[0;32m   (...)\u001B[0m\n\u001B[1;32m     16\u001B[0m     \u001B[38;5;124m'\u001B[39m\u001B[38;5;124mv_measure\u001B[39m\u001B[38;5;124m'\u001B[39m: v_measure,\n\u001B[1;32m     17\u001B[0m }\n\u001B[1;32m     18\u001B[0m \u001B[38;5;28;01mif\u001B[39;00m X \u001B[38;5;129;01mis\u001B[39;00m \u001B[38;5;129;01mnot\u001B[39;00m \u001B[38;5;28;01mNone\u001B[39;00m:\n\u001B[0;32m---> 19\u001B[0m     silhouette \u001B[38;5;241m=\u001B[39m \u001B[43msilhouette_score\u001B[49m\u001B[43m(\u001B[49m\u001B[43mX\u001B[49m\u001B[43m,\u001B[49m\u001B[43m \u001B[49m\u001B[43my_pred\u001B[49m\u001B[43m)\u001B[49m\n\u001B[1;32m     20\u001B[0m     scores[\u001B[38;5;124m'\u001B[39m\u001B[38;5;124msilhouette\u001B[39m\u001B[38;5;124m'\u001B[39m] \u001B[38;5;241m=\u001B[39m silhouette\n\u001B[1;32m     21\u001B[0m \u001B[38;5;28;01mreturn\u001B[39;00m scores\n",
      "File \u001B[0;32m~/miniconda3/envs/clustering/lib/python3.13/site-packages/sklearn/utils/_param_validation.py:213\u001B[0m, in \u001B[0;36mvalidate_params.<locals>.decorator.<locals>.wrapper\u001B[0;34m(*args, **kwargs)\u001B[0m\n\u001B[1;32m    207\u001B[0m \u001B[38;5;28;01mtry\u001B[39;00m:\n\u001B[1;32m    208\u001B[0m     \u001B[38;5;28;01mwith\u001B[39;00m config_context(\n\u001B[1;32m    209\u001B[0m         skip_parameter_validation\u001B[38;5;241m=\u001B[39m(\n\u001B[1;32m    210\u001B[0m             prefer_skip_nested_validation \u001B[38;5;129;01mor\u001B[39;00m global_skip_validation\n\u001B[1;32m    211\u001B[0m         )\n\u001B[1;32m    212\u001B[0m     ):\n\u001B[0;32m--> 213\u001B[0m         \u001B[38;5;28;01mreturn\u001B[39;00m \u001B[43mfunc\u001B[49m\u001B[43m(\u001B[49m\u001B[38;5;241;43m*\u001B[39;49m\u001B[43margs\u001B[49m\u001B[43m,\u001B[49m\u001B[43m \u001B[49m\u001B[38;5;241;43m*\u001B[39;49m\u001B[38;5;241;43m*\u001B[39;49m\u001B[43mkwargs\u001B[49m\u001B[43m)\u001B[49m\n\u001B[1;32m    214\u001B[0m \u001B[38;5;28;01mexcept\u001B[39;00m InvalidParameterError \u001B[38;5;28;01mas\u001B[39;00m e:\n\u001B[1;32m    215\u001B[0m     \u001B[38;5;66;03m# When the function is just a wrapper around an estimator, we allow\u001B[39;00m\n\u001B[1;32m    216\u001B[0m     \u001B[38;5;66;03m# the function to delegate validation to the estimator, but we replace\u001B[39;00m\n\u001B[1;32m    217\u001B[0m     \u001B[38;5;66;03m# the name of the estimator by the name of the function in the error\u001B[39;00m\n\u001B[1;32m    218\u001B[0m     \u001B[38;5;66;03m# message to avoid confusion.\u001B[39;00m\n\u001B[1;32m    219\u001B[0m     msg \u001B[38;5;241m=\u001B[39m re\u001B[38;5;241m.\u001B[39msub(\n\u001B[1;32m    220\u001B[0m         \u001B[38;5;124mr\u001B[39m\u001B[38;5;124m\"\u001B[39m\u001B[38;5;124mparameter of \u001B[39m\u001B[38;5;124m\\\u001B[39m\u001B[38;5;124mw+ must be\u001B[39m\u001B[38;5;124m\"\u001B[39m,\n\u001B[1;32m    221\u001B[0m         \u001B[38;5;124mf\u001B[39m\u001B[38;5;124m\"\u001B[39m\u001B[38;5;124mparameter of \u001B[39m\u001B[38;5;132;01m{\u001B[39;00mfunc\u001B[38;5;241m.\u001B[39m\u001B[38;5;18m__qualname__\u001B[39m\u001B[38;5;132;01m}\u001B[39;00m\u001B[38;5;124m must be\u001B[39m\u001B[38;5;124m\"\u001B[39m,\n\u001B[1;32m    222\u001B[0m         \u001B[38;5;28mstr\u001B[39m(e),\n\u001B[1;32m    223\u001B[0m     )\n",
      "File \u001B[0;32m~/miniconda3/envs/clustering/lib/python3.13/site-packages/sklearn/metrics/cluster/_unsupervised.py:141\u001B[0m, in \u001B[0;36msilhouette_score\u001B[0;34m(X, labels, metric, sample_size, random_state, **kwds)\u001B[0m\n\u001B[1;32m    139\u001B[0m     \u001B[38;5;28;01melse\u001B[39;00m:\n\u001B[1;32m    140\u001B[0m         X, labels \u001B[38;5;241m=\u001B[39m X[indices], labels[indices]\n\u001B[0;32m--> 141\u001B[0m \u001B[38;5;28;01mreturn\u001B[39;00m np\u001B[38;5;241m.\u001B[39mmean(\u001B[43msilhouette_samples\u001B[49m\u001B[43m(\u001B[49m\u001B[43mX\u001B[49m\u001B[43m,\u001B[49m\u001B[43m \u001B[49m\u001B[43mlabels\u001B[49m\u001B[43m,\u001B[49m\u001B[43m \u001B[49m\u001B[43mmetric\u001B[49m\u001B[38;5;241;43m=\u001B[39;49m\u001B[43mmetric\u001B[49m\u001B[43m,\u001B[49m\u001B[43m \u001B[49m\u001B[38;5;241;43m*\u001B[39;49m\u001B[38;5;241;43m*\u001B[39;49m\u001B[43mkwds\u001B[49m\u001B[43m)\u001B[49m)\n",
      "File \u001B[0;32m~/miniconda3/envs/clustering/lib/python3.13/site-packages/sklearn/utils/_param_validation.py:186\u001B[0m, in \u001B[0;36mvalidate_params.<locals>.decorator.<locals>.wrapper\u001B[0;34m(*args, **kwargs)\u001B[0m\n\u001B[1;32m    184\u001B[0m global_skip_validation \u001B[38;5;241m=\u001B[39m get_config()[\u001B[38;5;124m\"\u001B[39m\u001B[38;5;124mskip_parameter_validation\u001B[39m\u001B[38;5;124m\"\u001B[39m]\n\u001B[1;32m    185\u001B[0m \u001B[38;5;28;01mif\u001B[39;00m global_skip_validation:\n\u001B[0;32m--> 186\u001B[0m     \u001B[38;5;28;01mreturn\u001B[39;00m \u001B[43mfunc\u001B[49m\u001B[43m(\u001B[49m\u001B[38;5;241;43m*\u001B[39;49m\u001B[43margs\u001B[49m\u001B[43m,\u001B[49m\u001B[43m \u001B[49m\u001B[38;5;241;43m*\u001B[39;49m\u001B[38;5;241;43m*\u001B[39;49m\u001B[43mkwargs\u001B[49m\u001B[43m)\u001B[49m\n\u001B[1;32m    188\u001B[0m func_sig \u001B[38;5;241m=\u001B[39m signature(func)\n\u001B[1;32m    190\u001B[0m \u001B[38;5;66;03m# Map *args/**kwargs to the function signature\u001B[39;00m\n",
      "File \u001B[0;32m~/miniconda3/envs/clustering/lib/python3.13/site-packages/sklearn/metrics/cluster/_unsupervised.py:299\u001B[0m, in \u001B[0;36msilhouette_samples\u001B[0;34m(X, labels, metric, **kwds)\u001B[0m\n\u001B[1;32m    297\u001B[0m n_samples \u001B[38;5;241m=\u001B[39m \u001B[38;5;28mlen\u001B[39m(labels)\n\u001B[1;32m    298\u001B[0m label_freqs \u001B[38;5;241m=\u001B[39m np\u001B[38;5;241m.\u001B[39mbincount(labels)\n\u001B[0;32m--> 299\u001B[0m \u001B[43mcheck_number_of_labels\u001B[49m\u001B[43m(\u001B[49m\u001B[38;5;28;43mlen\u001B[39;49m\u001B[43m(\u001B[49m\u001B[43mle\u001B[49m\u001B[38;5;241;43m.\u001B[39;49m\u001B[43mclasses_\u001B[49m\u001B[43m)\u001B[49m\u001B[43m,\u001B[49m\u001B[43m \u001B[49m\u001B[43mn_samples\u001B[49m\u001B[43m)\u001B[49m\n\u001B[1;32m    301\u001B[0m kwds[\u001B[38;5;124m\"\u001B[39m\u001B[38;5;124mmetric\u001B[39m\u001B[38;5;124m\"\u001B[39m] \u001B[38;5;241m=\u001B[39m metric\n\u001B[1;32m    302\u001B[0m reduce_func \u001B[38;5;241m=\u001B[39m functools\u001B[38;5;241m.\u001B[39mpartial(\n\u001B[1;32m    303\u001B[0m     _silhouette_reduce, labels\u001B[38;5;241m=\u001B[39mlabels, label_freqs\u001B[38;5;241m=\u001B[39mlabel_freqs\n\u001B[1;32m    304\u001B[0m )\n",
      "File \u001B[0;32m~/miniconda3/envs/clustering/lib/python3.13/site-packages/sklearn/metrics/cluster/_unsupervised.py:38\u001B[0m, in \u001B[0;36mcheck_number_of_labels\u001B[0;34m(n_labels, n_samples)\u001B[0m\n\u001B[1;32m     27\u001B[0m \u001B[38;5;250m\u001B[39m\u001B[38;5;124;03m\"\"\"Check that number of labels are valid.\u001B[39;00m\n\u001B[1;32m     28\u001B[0m \n\u001B[1;32m     29\u001B[0m \u001B[38;5;124;03mParameters\u001B[39;00m\n\u001B[0;32m   (...)\u001B[0m\n\u001B[1;32m     35\u001B[0m \u001B[38;5;124;03m    Number of samples.\u001B[39;00m\n\u001B[1;32m     36\u001B[0m \u001B[38;5;124;03m\"\"\"\u001B[39;00m\n\u001B[1;32m     37\u001B[0m \u001B[38;5;28;01mif\u001B[39;00m \u001B[38;5;129;01mnot\u001B[39;00m \u001B[38;5;241m1\u001B[39m \u001B[38;5;241m<\u001B[39m n_labels \u001B[38;5;241m<\u001B[39m n_samples:\n\u001B[0;32m---> 38\u001B[0m     \u001B[38;5;28;01mraise\u001B[39;00m \u001B[38;5;167;01mValueError\u001B[39;00m(\n\u001B[1;32m     39\u001B[0m         \u001B[38;5;124m\"\u001B[39m\u001B[38;5;124mNumber of labels is \u001B[39m\u001B[38;5;132;01m%d\u001B[39;00m\u001B[38;5;124m. Valid values are 2 to n_samples - 1 (inclusive)\u001B[39m\u001B[38;5;124m\"\u001B[39m\n\u001B[1;32m     40\u001B[0m         \u001B[38;5;241m%\u001B[39m n_labels\n\u001B[1;32m     41\u001B[0m     )\n",
      "\u001B[0;31mValueError\u001B[0m: Number of labels is 100. Valid values are 2 to n_samples - 1 (inclusive)"
     ]
    }
   ],
   "source": [
    "# compare estimators\n",
    "results = compare_estimators(X, y, random_state)"
   ]
  },
  {
   "cell_type": "code",
   "execution_count": 94,
   "id": "47f37afafbf4df6c",
   "metadata": {
    "ExecuteTime": {
     "end_time": "2024-11-04T19:42:46.360531Z",
     "start_time": "2024-11-04T19:42:45.993581Z"
    }
   },
   "outputs": [
    {
     "data": {
      "text/plain": [
       "{'labels': array([ 0,  1,  2,  0,  3,  3,  4,  5,  6,  1,  0,  0,  7,  8,  0,  5,  7,\n",
       "         0,  6,  8,  5,  6,  1,  4,  7,  2,  4,  5,  9,  3,  1,  5,  4,  7,\n",
       "         2,  4,  7,  5,  7,  3,  8,  6,  8,  1,  9,  5,  6,  8,  1,  0,  4,\n",
       "         6,  7,  2,  5,  3,  3,  7,  3,  6,  9,  2,  6,  2,  5,  5,  4,  8,\n",
       "         2,  5,  7,  0,  6,  1,  7,  7,  5,  2,  2,  2,  3,  2,  3,  3,  2,\n",
       "         5,  4,  6,  3,  0,  4,  1,  4,  3,  8,  8,  2,  5,  6,  0,  4,  1,\n",
       "         7,  5,  3,  0,  8,  5,  2,  7,  7,  4,  7,  0,  0,  0,  1,  4,  6,\n",
       "         1,  5,  0,  8,  7,  6,  1,  5,  7,  6,  5,  7,  7,  6,  7,  1,  7,\n",
       "         3,  6,  5,  2,  8,  6,  1,  0,  8,  1,  6,  1,  6,  5,  0,  3,  8,\n",
       "         0,  6,  8,  3,  4,  8,  7,  8,  0,  2,  2,  8,  8,  3,  2,  2,  7,\n",
       "         0,  4,  0,  4,  3,  5,  5,  5,  2,  6,  1,  5,  1,  7,  4,  5,  5,\n",
       "         4,  4,  8,  7,  8,  2,  4,  8,  4,  5,  8,  4,  2,  5,  9,  8,  6,\n",
       "         7,  7,  8,  0,  8,  3,  5,  3,  5,  0,  5,  4,  0,  3,  3,  6,  0,\n",
       "         4,  5,  5,  2,  1,  2,  3,  1,  0,  8,  1,  0,  4,  4,  4,  3,  7,\n",
       "         8,  5,  7,  8,  6,  2,  3,  8,  8,  4,  0,  3,  5,  8,  0,  2,  8,\n",
       "         6,  5,  7,  5,  1,  4,  5,  2,  8,  7,  0,  1,  8,  5,  5,  9,  1,\n",
       "         1,  1,  1,  7,  1,  6,  2,  0,  2,  0,  5,  5,  5,  5,  6,  6,  4,\n",
       "         5,  0,  0,  5,  3,  5,  3,  8,  6,  3,  3,  6,  6,  2,  4,  7,  0,\n",
       "         9,  5,  5,  5,  5,  9,  5,  6,  5,  2,  2,  1,  2,  7,  5,  7,  6,\n",
       "         5,  8,  3,  4,  5,  0,  3,  8,  5,  8,  4,  1,  7,  8,  0,  3,  2,\n",
       "         2,  0,  6,  8,  1,  4,  2,  2,  4,  8,  1,  6,  1,  5,  3,  5,  7,\n",
       "         3,  0,  2,  0,  6,  4,  5,  7,  8,  4,  7,  5,  8,  6,  5,  4,  5,\n",
       "         3,  7,  5,  2,  1,  1,  2,  1,  5,  7,  1,  0,  8,  0,  1,  7,  4,\n",
       "         4,  5,  5,  0,  5,  8,  1,  8,  4,  3,  4,  1,  7,  2,  2,  2, 10,\n",
       "         0,  4,  6,  6,  7,  6,  7,  5,  6,  8,  4,  6,  4,  5,  0,  4,  8,\n",
       "         3,  3,  4,  8,  0,  4,  1,  0,  9,  2,  2,  2,  2,  6,  2,  1,  1,\n",
       "         8,  5,  5,  5,  5,  7,  8,  6,  4,  5,  6,  7,  4,  5,  5,  5,  4,\n",
       "         7,  0,  2,  8,  5,  1,  8,  2,  1,  1,  4,  5,  8,  1,  9,  1,  5,\n",
       "         0,  2,  5,  3,  0,  5,  0,  5,  5,  5,  6,  5,  0,  8,  5,  3,  5,\n",
       "         3,  4,  0,  7,  0,  2,  8,  0,  7,  4,  1,  4,  5,  3,  3,  2,  3,\n",
       "         3,  3,  5,  6,  5,  6,  8,  7,  8,  5,  6,  7,  6,  4,  2,  0,  4,\n",
       "         7,  7,  7,  6,  7,  5,  1,  5,  4,  8,  4,  7,  5,  3,  0,  1,  5,\n",
       "         1,  8,  1,  8,  0,  2,  4,  6,  1,  5,  3,  5,  2,  8,  5,  5,  7,\n",
       "         0,  7,  6,  3,  5,  2,  6,  5,  5,  5,  8,  7,  5,  0,  3,  1,  1,\n",
       "         3,  0,  0,  8,  6,  5,  4,  1,  2,  6,  1,  3,  2,  5,  4,  7,  8,\n",
       "         4,  0,  6,  1,  1,  5,  3,  5,  6,  8,  5,  3,  6,  5,  1,  4,  2,\n",
       "         9,  2,  3,  2,  3,  2,  8,  1,  3,  2,  5,  4,  6,  3,  6,  8,  3,\n",
       "         1,  6,  7,  1,  4,  7,  5,  2,  2,  4,  5,  9,  2,  2,  4,  4,  5,\n",
       "         3,  0,  0,  2,  6,  7,  3,  0,  3,  8,  4,  5,  6,  2,  5,  1,  3,\n",
       "         7,  5,  3,  4,  6,  5,  8,  8,  3,  7,  3,  4,  6,  6,  5,  5,  5,\n",
       "         8,  8,  0,  4,  3,  3,  1,  8,  0,  2,  8,  0,  5,  1,  4,  9,  3,\n",
       "         0,  4,  4,  5,  2,  2,  3,  5,  1,  3,  2,  5,  0,  4,  2,  5,  2,\n",
       "         5,  7,  8,  5,  5,  2,  6,  1,  4,  0,  5,  8,  3,  3,  5,  4,  2,\n",
       "         7,  8,  1,  0,  5,  7,  1,  0,  6,  2,  0,  3,  4,  1,  3,  8,  7,\n",
       "         7,  3,  0,  4,  2,  8,  9,  1,  2,  8,  7,  2,  8,  6,  3,  6,  5,\n",
       "         9,  7,  8,  5,  5,  8,  2,  2,  5,  7,  0,  1,  7,  6,  8,  2,  2,\n",
       "         5,  8,  7,  0,  8,  8,  5,  0,  2,  7,  9,  4,  1,  0,  3,  5,  6,\n",
       "         4,  3,  5,  2,  1,  5,  0,  1,  5,  5,  7,  7,  6,  3,  1,  5,  2,\n",
       "         6,  5,  8,  3,  7,  6,  0,  6,  1,  2,  8,  1,  4,  7,  6,  5,  6,\n",
       "         5,  0,  5,  2,  7,  4,  5,  8,  1,  0,  6,  4,  5,  0,  5,  5,  3,\n",
       "         5,  5,  5,  5,  0,  4,  5,  3,  5,  7,  0,  6,  6,  6,  7,  7,  5,\n",
       "         5,  1,  1,  2,  0,  2,  3,  5,  4,  3,  0,  9,  7,  5,  3,  7,  0,\n",
       "         6,  0,  3,  9,  5,  3,  6,  1,  1,  5,  5,  7,  4,  5,  3,  6,  6,\n",
       "         4,  7,  7,  4,  5,  8,  1,  0,  3,  3,  5,  5,  6,  7,  1,  7,  6,\n",
       "         0,  8,  7,  5,  3,  5,  7,  5,  8,  1,  3,  5,  1,  6,  7,  6,  6,\n",
       "         1,  5,  5,  0,  1,  7,  4,  6,  3,  4,  6,  6,  6,  8,  4,  7,  2,\n",
       "         7,  1,  8,  6,  0,  1,  3,  4,  8,  4,  6,  0,  1,  6,  2,  5,  3,\n",
       "         1,  1,  7,  8,  6,  1,  5,  6,  7,  5,  2,  8,  5,  1,  5,  3,  5,\n",
       "         8,  4,  6,  6,  1,  1,  2,  5,  0,  0,  0,  4,  4,  3]),\n",
       " 'scores': {'rand': np.float64(0.9783143143143143),\n",
       "  'adjusted_rand': 0.8857096361345349,\n",
       "  'mutual_info': np.float64(2.152157457440245),\n",
       "  'adjusted_mutual_info': np.float64(0.9494019078950752),\n",
       "  'normalized_mutual_info': np.float64(0.9503930042746643),\n",
       "  'homogeneity': np.float64(0.9346701079532312),\n",
       "  'completeness': np.float64(0.9666539281685311),\n",
       "  'v_measure': np.float64(0.9503930042746643),\n",
       "  'silhouette': np.float64(0.32137512226146414),\n",
       "  'n_clusters': 11,\n",
       "  'elapsed_time': 0.3255147660020157}}"
      ]
     },
     "execution_count": 94,
     "metadata": {},
     "output_type": "execute_result"
    }
   ],
   "source": [
    "fit_predict_score_summary(RecursiveClustering(random_state=random_state, kmeans_init='random', kmeans_n_init=1, kmeans_n_clusters=2, repetitions=10), X, y)"
   ]
  }
 ],
 "metadata": {
  "kernelspec": {
   "display_name": "clustering",
   "language": "python",
   "name": "clustering"
  },
  "language_info": {
   "codemirror_mode": {
    "name": "ipython",
    "version": 3
   },
   "file_extension": ".py",
   "mimetype": "text/x-python",
   "name": "python",
   "nbconvert_exporter": "python",
   "pygments_lexer": "ipython3",
   "version": "3.13.0"
  }
 },
 "nbformat": 4,
 "nbformat_minor": 5
}
