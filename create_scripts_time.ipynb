{
 "cells": [
  {
   "cell_type": "code",
   "id": "initial_id",
   "metadata": {
    "collapsed": true,
    "ExecuteTime": {
     "end_time": "2025-03-24T17:06:51.820498Z",
     "start_time": "2025-03-24T17:06:51.810090Z"
    }
   },
   "source": [
    "from recursive_clustering.experiment.tested_models import models_dict\n",
    "from pathlib import Path"
   ],
   "outputs": [],
   "execution_count": 5
  },
  {
   "metadata": {
    "ExecuteTime": {
     "end_time": "2025-03-24T17:10:25.834412Z",
     "start_time": "2025-03-24T17:10:25.829491Z"
    }
   },
   "cell_type": "code",
   "source": [
    "models_nicknames = list(models_dict.keys())\n",
    "script_dir = Path() / 'scripts'\n",
    "script_dir.mkdir(parents=True, exist_ok=True)\n",
    "models_nicknames.sort()\n",
    "models_nicknames"
   ],
   "id": "3f98c393bb9116ba",
   "outputs": [
    {
     "data": {
      "text/plain": [
       "['AffinityPropagation',\n",
       " 'AverageAgglomerativeClustering',\n",
       " 'Clique',\n",
       " 'CompleteAgglomerativeClustering',\n",
       " 'DBSCAN',\n",
       " 'HDBSCAN',\n",
       " 'IRFLLRR',\n",
       " 'KMeans',\n",
       " 'KMeansProj',\n",
       " 'MeanShift',\n",
       " 'OPTICS',\n",
       " 'Proclus',\n",
       " 'RecursiveClustering',\n",
       " 'SingleAgglomerativeClustering',\n",
       " 'SpectralClustering',\n",
       " 'SpectralSubspaceRandomization',\n",
       " 'WardAgglomerativeClustering']"
      ]
     },
     "execution_count": 9,
     "metadata": {},
     "output_type": "execute_result"
    }
   ],
   "execution_count": 9
  },
  {
   "metadata": {
    "ExecuteTime": {
     "end_time": "2025-03-24T17:19:02.703797Z",
     "start_time": "2025-03-24T17:19:02.693121Z"
    }
   },
   "cell_type": "code",
   "source": [
    "# sensible parameters for n_classes=5\n",
    "models_params = {\n",
    "    'AffinityPropagation': {\"damping\": 0.9},\n",
    "    'AverageAgglomerativeClustering': {'n_clusters': 5},\n",
    "    'Clique': {},\n",
    "    'CompleteAgglomerativeClustering': {'n_clusters': 5},\n",
    "    'DBSCAN': {},\n",
    "    'HDBSCAN': {},\n",
    "    'IRFLLRR': {'sc_n_clusters': 5},\n",
    "    'KMeans': {'n_clusters': 5},\n",
    "    'KMeansProj': {},\n",
    "    'MeanShift': {},\n",
    "    'OPTICS': {},\n",
    "    'Proclus': {'n_clusters': 5},\n",
    "    'RecursiveClustering': {},\n",
    "    'SingleAgglomerativeClustering': {'n_clusters': 5},\n",
    "    'SpectralClustering': {'n_clusters': 5},\n",
    "    'SpectralSubspaceRandomization': {'sc_n_clusters': 5},\n",
    "    'WardAgglomerativeClustering': {'n_clusters': 5},\n",
    "}"
   ],
   "id": "292e1134d4d9243e",
   "outputs": [],
   "execution_count": 30
  },
  {
   "metadata": {
    "ExecuteTime": {
     "end_time": "2025-03-24T17:19:03.051583Z",
     "start_time": "2025-03-24T17:19:03.047033Z"
    }
   },
   "cell_type": "code",
   "source": "str(models_params['AffinityPropagation']).replace(' ', '').replace(\"'\", '\"')",
   "id": "da225c3377b18e24",
   "outputs": [
    {
     "data": {
      "text/plain": [
       "'{\"damping\":0.9}'"
      ]
     },
     "execution_count": 31,
     "metadata": {},
     "output_type": "execute_result"
    }
   ],
   "execution_count": 31
  },
  {
   "metadata": {
    "ExecuteTime": {
     "end_time": "2025-03-24T17:24:36.153517Z",
     "start_time": "2025-03-24T17:24:36.145882Z"
    }
   },
   "cell_type": "code",
   "source": [
    "for model in models_nicknames:\n",
    "    file_samples = script_dir / f'time_hc_{model}_samples.sbatch'\n",
    "    file_content_samples=f\"\"\"#!/bin/sh\n",
    "#SBATCH --job-name=time_hc_{model}_samples\n",
    "#SBATCH -c 40\n",
    "#SBATCH -w clust3\n",
    "#SBATCH --output=/home/users/belucci/recursive_clustering/results/sbatch_outputs/%x.%J.out\n",
    "#SBATCH --error=/home/users/belucci/recursive_clustering/results/sbatch_errors/%x.%J.err\n",
    "#SBATCH --time=24:00:00\n",
    "models_params='{str(models_params[model]).replace(' ', '').replace(\"'\", '\"')}'\n",
    "eval \"$(conda shell.bash hook)\"\n",
    "conda activate cohirf\n",
    "cd /home/users/belucci/recursive_clustering/recursive_clustering/experiment\n",
    "python classification_clustering_experiment.py --experiment_name time_hc --log_dir /home/users/belucci/recursive_clustering/results/logs --work_root_dir /tmp --mlflow_tracking_uri http://clust9.ceremade.dauphine.lan:5002/ --n_jobs 4 --models_nickname {model} --log_file_name time_hc_{model} --n_classes 5 --seeds_unified 0 1 2 3 4 --n_samples 100 347 1202 4163 --n_features 14427 --pct_random 0.0 --class_sep 100 --dask_cluster_type local --n_cores_per_worker 2 --n_threads_per_worker 4 --n_cores_per_task 2 --n_threads_per_task 4 --n_workers 1 --dask_memory 120Gb --timeout_fit 36000 --models_params $models_params\n",
    "    \"\"\"\n",
    "    file_features = script_dir / f'time_hc_{model}_features.sbatch'\n",
    "    file_content_features=f\"\"\"#!/bin/sh\n",
    "#SBATCH --job-name=time_hc_{model}_features\n",
    "#SBATCH -c 40\n",
    "#SBATCH -w clust4\n",
    "#SBATCH --output=/home/users/belucci/recursive_clustering/results/sbatch_outputs/%x.%J.out\n",
    "#SBATCH --error=/home/users/belucci/recursive_clustering/results/sbatch_errors/%x.%J.err\n",
    "#SBATCH --time=24:00:00\n",
    "models_params='{str(models_params[model]).replace(' ', '').replace(\"'\", '\"')}'\n",
    "eval \"$(conda shell.bash hook)\"\n",
    "conda activate cohirf\n",
    "cd /home/users/belucci/recursive_clustering/recursive_clustering/experiment\n",
    "python classification_clustering_experiment.py --experiment_name time_hc --log_dir /home/users/belucci/recursive_clustering/results/logs --work_root_dir /tmp --mlflow_tracking_uri http://clust9.ceremade.dauphine.lan:5002/ --n_jobs 4 --models_nickname {model} --log_file_name time_hc_{model} --n_classes 5 --seeds_unified 0 1 2 3 4 --n_samples 14427 --n_features 100 347 1202 4163 --pct_random 0.0 --class_sep 100 --dask_cluster_type local --n_cores_per_worker 2 --n_threads_per_worker 4 --n_cores_per_task 2 --n_threads_per_task 4 --n_workers 1 --dask_memory 120Gb --timeout_fit 36000 --models_params $models_params\n",
    "    \"\"\"\n",
    "    file_samples.write_text(file_content_samples)\n",
    "    file_features.write_text(file_content_features)"
   ],
   "id": "a1858fe1b78e56cf",
   "outputs": [],
   "execution_count": 33
  },
  {
   "metadata": {
    "ExecuteTime": {
     "end_time": "2025-03-24T17:26:21.047778Z",
     "start_time": "2025-03-24T17:26:21.038994Z"
    }
   },
   "cell_type": "code",
   "source": [
    "for i in range(40334, 40361+1):\n",
    "    print(i, end=' ')"
   ],
   "id": "945be0fe9f104eb0",
   "outputs": [
    {
     "name": "stdout",
     "output_type": "stream",
     "text": [
      "40334 40335 40336 40337 40338 40339 40340 40341 40342 40343 40344 40345 40346 40347 40348 40349 40350 40351 40352 40353 40354 40355 40356 40357 40358 40359 40360 40361 "
     ]
    }
   ],
   "execution_count": 36
  }
 ],
 "metadata": {
  "kernelspec": {
   "display_name": "cohirf",
   "language": "python",
   "name": "cohirf"
  },
  "language_info": {
   "codemirror_mode": {
    "name": "ipython",
    "version": 2
   },
   "file_extension": ".py",
   "mimetype": "text/x-python",
   "name": "python",
   "nbconvert_exporter": "python",
   "pygments_lexer": "ipython2",
   "version": "2.7.6"
  }
 },
 "nbformat": 4,
 "nbformat_minor": 5
}
