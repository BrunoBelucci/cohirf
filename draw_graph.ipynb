{
 "cells": [
  {
   "cell_type": "code",
   "id": "4d01abd3-fdb1-4dd9-8cf5-aedc2b695e20",
   "metadata": {
    "ExecuteTime": {
     "end_time": "2025-01-30T00:16:23.031268Z",
     "start_time": "2025-01-30T00:16:21.471497Z"
    }
   },
   "source": [
    "from recursive_clustering.experiment.open_ml_clustering_experiment import OpenmlClusteringExperiment\n",
    "import numpy as np\n",
    "import matplotlib.pyplot as plt\n",
    "from matplotlib.colors import rgb2hex\n",
    "from graphviz import Source\n",
    "import pandas as pd"
   ],
   "outputs": [],
   "execution_count": 1
  },
  {
   "metadata": {
    "ExecuteTime": {
     "end_time": "2025-01-30T00:22:00.967658Z",
     "start_time": "2025-01-30T00:21:57.931333Z"
    }
   },
   "cell_type": "code",
   "source": [
    "experiment = OpenmlClusteringExperiment(check_if_exists=False)\n",
    "model_nickname = 'RecursiveClustering'\n",
    "dataset_id = 1568\n",
    "seed_model = 1684\n",
    "standardize = True\n",
    "model_params = dict(components_size=11, repetitions=3, kmeans_n_clusters=2, representative_method='rbf')\n",
    "fit_params = dict()\n",
    "results = experiment.run_openml_experiment_combination(model_nickname=model_nickname, seed_model=seed_model, dataset_id=dataset_id, standardize=standardize,\n",
    "                                                       model_params=model_params, fit_params=fit_params, return_results=True, log_to_mlflow=True, n_jobs=4)"
   ],
   "id": "65e6e774e426b6b6",
   "outputs": [
    {
     "name": "stdout",
     "output_type": "stream",
     "text": [
      "Running...\n",
      "model_nickname: RecursiveClustering\n",
      "seed_model: 1684\n",
      "dataset_id: 1568\n",
      "model_params: {'components_size': 11, 'repetitions': 3, 'kmeans_n_clusters': 2, 'representative_method': 'rbf'}\n",
      "fit_params: {}\n",
      "standardize: True\n",
      "\n",
      "Finished!\n",
      "total_elapsed_time: 2.8702340189993265\n",
      "model_nickname: RecursiveClustering\n",
      "seed_model: 1684\n",
      "dataset_id: 1568\n",
      "model_params: {'components_size': 11, 'repetitions': 3, 'kmeans_n_clusters': 2, 'representative_method': 'rbf'}\n",
      "fit_params: {}\n",
      "standardize: True\n",
      "\n"
     ]
    }
   ],
   "execution_count": 7
  },
  {
   "metadata": {
    "ExecuteTime": {
     "end_time": "2025-01-30T00:22:00.982165Z",
     "start_time": "2025-01-30T00:22:00.975958Z"
    }
   },
   "cell_type": "code",
   "source": "results['evaluate_model_return']",
   "id": "717ed9384d015cac",
   "outputs": [
    {
     "data": {
      "text/plain": [
       "{'n_clusters_': 3,\n",
       " 'rand_score': np.float64(0.776080552717602),\n",
       " 'adjusted_rand': 0.5098514149312312,\n",
       " 'mutual_info': np.float64(0.6377848951318092),\n",
       " 'adjusted_mutual_info': np.float64(0.5767073360366544),\n",
       " 'normalized_mutual_info': np.float64(0.5767960528129983),\n",
       " 'homogeneity': np.float64(0.5366486333772807),\n",
       " 'completeness': np.float64(0.6234361664943219),\n",
       " 'v_measure': np.float64(0.5767960528129982),\n",
       " 'silhouette': np.float64(0.05220179458681342),\n",
       " 'calinski_harabasz_score': np.float64(707.2474639793057),\n",
       " 'davies_bouldin_score': np.float64(3.9769502100984924),\n",
       " 'inertia_score': np.float64(44312.4521799226),\n",
       " 'elapsed_time': 0.11954998200235423}"
      ]
     },
     "execution_count": 8,
     "metadata": {},
     "output_type": "execute_result"
    }
   ],
   "execution_count": 8
  },
  {
   "metadata": {
    "ExecuteTime": {
     "end_time": "2025-01-30T00:22:16.071261Z",
     "start_time": "2025-01-30T00:22:15.995609Z"
    }
   },
   "cell_type": "code",
   "source": [
    "# first lets transform label_sequence in a graph, with nodes being clusters and edges being transitions between clusters (across iterations)\n",
    "# inside each cluster we will store the samples that belong to that cluster\n",
    "# we will first build the graph with dictionaries and then convert it to a graphviz Digraph object\n",
    "label_sequence = results['load_model_return']['model'].labels_sequence_\n",
    "y = results['load_data_return']['y']\n",
    "max_samples = 5\n",
    "n_iterations = label_sequence.shape[1]\n",
    "n_samples = label_sequence.shape[0]\n",
    "graph = dict()\n",
    "max_samples_shown = 5\n",
    "color_sequence = plt.cm.tab20.colors\n",
    "y_codes = y.astype('category').cat.codes\n",
    "y_colors = y_codes.map(lambda x: rgb2hex(color_sequence[x]))\n",
    "for i in range(n_iterations):\n",
    "    unique_clusters = np.unique(label_sequence[:, i])\n",
    "    for cluster in unique_clusters:\n",
    "        cluster_label = f\"cluster_{cluster}_iter_{i}\"\n",
    "        samples_in_cluster_idx = np.where(label_sequence[:, i] == cluster)[0]\n",
    "        samples_in_cluster = y[samples_in_cluster_idx]\n",
    "        \n",
    "        # # Limit to max_samples in a stratified way\n",
    "        # if len(samples_in_cluster_colors) > max_samples:\n",
    "        #     frac_of_code_in_cluster = samples_in_cluster_colors.value_counts(normalize=True)\n",
    "        #     number_of_samples_to_show = np.ceil(frac_of_code_in_cluster * max_samples).astype(int)\n",
    "        #     sampled = pd.concat([\n",
    "        #         samples_in_cluster_colors[samples_in_cluster_colors == category].sample(sample_size, random_state=42)\n",
    "        #         for category, sample_size in number_of_samples_to_show.items()\n",
    "        #     ])\n",
    "        # else:\n",
    "        #     sampled = samples_in_cluster_colors\n",
    "        \n",
    "        graph[cluster_label] = dict()\n",
    "        graph[cluster_label]['samples'] = samples_in_cluster\n",
    "        graph[cluster_label]['cluster'] = cluster\n",
    "        graph[cluster_label]['iter'] = i\n",
    "        \n",
    "        if i > 0:\n",
    "            graph[cluster_label]['prev_cluster'] = []\n",
    "            previous_labels = label_sequence[:, i - 1]\n",
    "            previous_clusters = np.unique(previous_labels[samples_in_cluster_idx])\n",
    "            for prev_cluster in previous_clusters:\n",
    "                prev_cluster_label = f\"cluster_{prev_cluster}_iter_{i-1}\"\n",
    "                graph[cluster_label]['prev_cluster'].append(prev_cluster_label)"
   ],
   "id": "5bd4ab7b1880aa1f",
   "outputs": [],
   "execution_count": 9
  },
  {
   "metadata": {
    "ExecuteTime": {
     "end_time": "2025-01-30T00:22:18.281020Z",
     "start_time": "2025-01-30T00:22:18.254270Z"
    }
   },
   "cell_type": "code",
   "source": [
    "# now we will convert the graph to a graphviz in the dot language\n",
    "dot_str = 'digraph G {\\n'\n",
    "# LR -> left to right\n",
    "dot_str += \"rankdir=LR;\\n\"\n",
    "# compound must be true to allow subgraphs\n",
    "dot_str += \"compound=true;\\n\"\n",
    "\n",
    "for cluster_label, cluster_dict in graph.items():\n",
    "    label = cluster_dict['samples'].value_counts().sort_index()\n",
    "    label.index.name = 'Class count'\n",
    "    label = label.to_string()\n",
    "    dot_str += f\"{cluster_label} [label=\\\"{label}\\\", fontsize=15];\\n\"\n",
    "\n",
    "for cluster_label, cluster_dict in graph.items():\n",
    "    if 'prev_cluster' in cluster_dict:\n",
    "        for prev_cluster in cluster_dict['prev_cluster']:\n",
    "            dot_str += f\"{prev_cluster} -> {cluster_label};\\n\"\n",
    "            \n",
    "dot_str += \"}\""
   ],
   "id": "1a25d2cabc60933b",
   "outputs": [],
   "execution_count": 10
  },
  {
   "metadata": {
    "ExecuteTime": {
     "end_time": "2025-01-30T00:22:24.484749Z",
     "start_time": "2025-01-30T00:22:24.350441Z"
    }
   },
   "cell_type": "code",
   "source": [
    "# render the graph\n",
    "s = Source(dot_str, filename=\"nursery_agg\", format=\"pdf\")\n",
    "s.save()\n",
    "s.view()"
   ],
   "id": "37a40f125789576c",
   "outputs": [
    {
     "data": {
      "text/plain": [
       "'nursery_agg.pdf'"
      ]
     },
     "execution_count": 11,
     "metadata": {},
     "output_type": "execute_result"
    }
   ],
   "execution_count": 11
  },
  {
   "metadata": {},
   "cell_type": "code",
   "outputs": [],
   "execution_count": null,
   "source": "",
   "id": "40f215b1cbce56ab"
  }
 ],
 "metadata": {
  "kernelspec": {
   "display_name": "recursive_clustering",
   "language": "python",
   "name": "recursive_clustering"
  },
  "language_info": {
   "codemirror_mode": {
    "name": "ipython",
    "version": 3
   },
   "file_extension": ".py",
   "mimetype": "text/x-python",
   "name": "python",
   "nbconvert_exporter": "python",
   "pygments_lexer": "ipython3",
   "version": "3.11.10"
  }
 },
 "nbformat": 4,
 "nbformat_minor": 5
}
