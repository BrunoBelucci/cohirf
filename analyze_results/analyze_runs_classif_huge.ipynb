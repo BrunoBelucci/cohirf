{
 "cells": [
  {
   "metadata": {
    "ExecuteTime": {
     "end_time": "2025-03-06T17:23:52.960780Z",
     "start_time": "2025-03-06T17:23:52.805872Z"
    }
   },
   "cell_type": "code",
   "source": [
    "from sqlalchemy import create_engine, text\n",
    "import pandas as pd\n",
    "from ml_experiments.analyze import get_df_runs_from_mlflow_sql, get_missing_entries, get_common_combinations, get_df_with_combinations\n",
    "import plotly.express as px\n",
    "from itertools import product\n",
    "import time\n",
    "import numpy as np\n",
    "import seaborn as sns\n",
    "import matplotlib as mpl\n",
    "import matplotlib.pyplot as plt"
   ],
   "id": "af896bddab8f27f0",
   "outputs": [],
   "execution_count": 1
  },
  {
   "metadata": {},
   "cell_type": "markdown",
   "source": "# Save Results",
   "id": "4f94fd49944a0ca0"
  },
  {
   "metadata": {},
   "cell_type": "markdown",
   "source": "## Load mlflow runs",
   "id": "367066439eca4f09"
  },
  {
   "metadata": {
    "ExecuteTime": {
     "end_time": "2025-03-06T17:27:11.401891Z",
     "start_time": "2025-03-06T17:27:11.030148Z"
    }
   },
   "cell_type": "code",
   "source": [
    "db_port = 5001\n",
    "db_name = 'cohirf'\n",
    "w = 'clust9'\n",
    "# url = f'postgresql://{w}.ceremade.dauphine.lan:{db_port}/{db_name}'\n",
    "url = f'postgresql://beluccib@localhost:{db_port}/{db_name}'\n",
    "engine = create_engine(url)\n",
    "query = 'SELECT experiments.name from experiments'\n",
    "experiment_names = pd.read_sql(query, engine)['name'].tolist()\n",
    "# results_dir = Path('~/tab_benchmark/results')\n",
    "# os.makedirs(results_dir, exist_ok=True)"
   ],
   "id": "5b740cee80608049",
   "outputs": [],
   "execution_count": 5
  },
  {
   "metadata": {
    "ExecuteTime": {
     "end_time": "2025-03-06T17:27:12.136628Z",
     "start_time": "2025-03-06T17:27:12.132089Z"
    }
   },
   "cell_type": "code",
   "source": "experiment_names",
   "id": "5a91c44198faad91",
   "outputs": [
    {
     "data": {
      "text/plain": [
       "['Default', 'classif_huge_cohirf']"
      ]
     },
     "execution_count": 6,
     "metadata": {},
     "output_type": "execute_result"
    }
   ],
   "execution_count": 6
  },
  {
   "metadata": {
    "ExecuteTime": {
     "end_time": "2025-03-06T17:27:16.752485Z",
     "start_time": "2025-03-06T17:27:16.750101Z"
    }
   },
   "cell_type": "code",
   "source": [
    "experiments_names = [\n",
    "    'classif_huge_cohirf',\n",
    "]"
   ],
   "id": "cea0d3a3529f1961",
   "outputs": [],
   "execution_count": 7
  },
  {
   "metadata": {
    "ExecuteTime": {
     "end_time": "2025-03-06T17:28:58.420941Z",
     "start_time": "2025-03-06T17:28:58.418085Z"
    }
   },
   "cell_type": "code",
   "source": [
    "params_columns = [\n",
    "    'model_nickname',\n",
    "    'n_samples',\n",
    "    'n_features',\n",
    "    'pct_random',\n",
    "    'seed_unified',\n",
    "    'class_sep',\n",
    "    'n_random',\n",
    "    'n_informative',\n",
    "    'n_classes',\n",
    "    'n_trials',\n",
    "    'hpo_metric'\n",
    "]"
   ],
   "id": "f204c9bff47207c7",
   "outputs": [],
   "execution_count": 22
  },
  {
   "metadata": {
    "ExecuteTime": {
     "end_time": "2025-03-06T17:28:58.911322Z",
     "start_time": "2025-03-06T17:28:58.908701Z"
    }
   },
   "cell_type": "code",
   "source": [
    "latest_metrics_columns = [\n",
    "    'fit_model_return_elapsed_time',\n",
    "    'max_memory_used',\n",
    "    'n_clusters_',\n",
    "    'rand_score',\n",
    "    'adjusted_rand',\n",
    "    'mutual_info',\n",
    "    'adjusted_mutual_info',\n",
    "    'normalized_mutual_info',\n",
    "    'homogeneity',\n",
    "    'completeness',\n",
    "    'v_measure',\n",
    "    'silhouette',\n",
    "    'calinski_harabasz_score',\n",
    "    'davies_bouldin_score',\n",
    "    'inertia_score',\n",
    "    'best_n_clusters_',\n",
    "    'best_rand_score',\n",
    "    'best_adjusted_rand',\n",
    "    'best_mutual_info',\n",
    "    'best_adjusted_mutual_info',\n",
    "    'best_normalized_mutual_info',\n",
    "    'best_homogeneity_completeness_v_measure',\n",
    "    'best_silhouette',\n",
    "    'best_calinski_harabasz_score',\n",
    "    'best_davies_bouldin_score',\n",
    "    'best_inertia_score',\n",
    "    'best_homogeneity',\n",
    "    'best_completeness',\n",
    "    'best_v_measure',\n",
    "]"
   ],
   "id": "d1922ac2b5d36e0a",
   "outputs": [],
   "execution_count": 23
  },
  {
   "metadata": {
    "ExecuteTime": {
     "end_time": "2025-03-06T17:28:59.875847Z",
     "start_time": "2025-03-06T17:28:59.873259Z"
    }
   },
   "cell_type": "code",
   "source": [
    "tags_columns = [\n",
    "    'raised_exception',\n",
    "    'EXCEPTION',\n",
    "    'parent_run_id',\n",
    "    'best_child_run_id',\n",
    "]"
   ],
   "id": "7eab31dd0a98b818",
   "outputs": [],
   "execution_count": 24
  },
  {
   "metadata": {
    "ExecuteTime": {
     "end_time": "2025-03-06T17:29:00.564309Z",
     "start_time": "2025-03-06T17:29:00.560637Z"
    }
   },
   "cell_type": "code",
   "source": [
    "# parameters of each model, they are saved as tags for the parent run\n",
    "parameters = {\n",
    "    'RecursiveClustering': ['components_size', 'repetitions', 'kmeans_n_clusters'],\n",
    "    'KMeans': ['n_clusters'],\n",
    "    'HDBSCAN': ['min_cluster_size'],\n",
    "    'DBSCAN': ['eps', 'min_samples'],\n",
    "    'AffinityPropagation': ['damping'],\n",
    "    'OPTICS': ['min_samples'],\n",
    "    'SpectralSubspaceRandomization': ['n_similarities', 'sampling_ratio', 'sc_n_clusters'],\n",
    "    'WardAgglomerativeClustering': ['n_clusters'],\n",
    "}\n",
    "all_model_parameters = [p for model, params in parameters.items() for p in params]\n",
    "all_model_parameters = list(set(all_model_parameters))\n",
    "for param in all_model_parameters:\n",
    "    tags_columns.append(param)"
   ],
   "id": "205b84e28b8732d9",
   "outputs": [],
   "execution_count": 25
  },
  {
   "metadata": {
    "ExecuteTime": {
     "end_time": "2025-03-06T17:29:02.883144Z",
     "start_time": "2025-03-06T17:29:01.732237Z"
    }
   },
   "cell_type": "code",
   "source": [
    "runs_columns = ['run_uuid', 'status', 'start_time', 'end_time']\n",
    "experiments_columns = []\n",
    "other_table = 'params'\n",
    "other_table_keys = params_columns\n",
    "df_params = get_df_runs_from_mlflow_sql(engine, runs_columns=runs_columns, experiments_columns=experiments_columns, experiments_names=experiments_names, other_table=other_table, other_table_keys=other_table_keys)\n",
    "df_latest_metrics = get_df_runs_from_mlflow_sql(engine, runs_columns=['run_uuid'], experiments_columns=experiments_columns, experiments_names=experiments_names, other_table='latest_metrics', other_table_keys=latest_metrics_columns)\n",
    "df_tags = get_df_runs_from_mlflow_sql(engine, runs_columns=['run_uuid'], experiments_columns=experiments_columns, experiments_names=experiments_names, other_table='tags', other_table_keys=tags_columns)"
   ],
   "id": "bced1b6a72f465bf",
   "outputs": [],
   "execution_count": 26
  },
  {
   "metadata": {
    "ExecuteTime": {
     "end_time": "2025-03-06T17:29:03.816797Z",
     "start_time": "2025-03-06T17:29:03.810232Z"
    }
   },
   "cell_type": "code",
   "source": [
    "df_runs_raw = df_params.join(df_latest_metrics)\n",
    "df_runs_raw = df_runs_raw.join(df_tags)"
   ],
   "id": "c50444f65375841",
   "outputs": [],
   "execution_count": 27
  },
  {
   "metadata": {
    "ExecuteTime": {
     "end_time": "2025-03-06T17:29:04.529798Z",
     "start_time": "2025-03-06T17:29:04.525413Z"
    }
   },
   "cell_type": "code",
   "source": [
    "df_runs_raw_parents = df_runs_raw.copy()\n",
    "df_runs_raw_parents = df_runs_raw_parents.loc[df_runs_raw_parents['parent_run_id'].isna()]"
   ],
   "id": "82a41d3cb5663248",
   "outputs": [],
   "execution_count": 28
  },
  {
   "metadata": {
    "ExecuteTime": {
     "end_time": "2025-03-06T17:29:06.254914Z",
     "start_time": "2025-03-06T17:29:06.240597Z"
    }
   },
   "cell_type": "code",
   "source": "df_runs_raw_parents",
   "id": "9ddec7ba314f0be0",
   "outputs": [
    {
     "data": {
      "text/plain": [
       "key                                 status     start_time      end_time  \\\n",
       "run_uuid                                                                  \n",
       "00616980b4b3475a8551239feef4db72  FINISHED  1741108019629  1.741111e+12   \n",
       "07657d46867440e594189497260ccea0  FINISHED  1741108032926  1.741111e+12   \n",
       "08b0c324a88a49bcb118da0550160e2b  FINISHED  1741108003906  1.741112e+12   \n",
       "0b84663870924ef5bf5bb5a4a6dbf3d1  FINISHED  1741182334387  1.741189e+12   \n",
       "0c83bda5646a47769a925eb7c3acaae6  FINISHED  1741108005481  1.741112e+12   \n",
       "...                                    ...            ...           ...   \n",
       "f0cd4d8e29704b4ab449f5a945b46bac  FINISHED  1741182330702  1.741185e+12   \n",
       "f4591eb30ea642e28a73ec575048fdec  FINISHED  1741182333590  1.741188e+12   \n",
       "fac86d1d7cf042dc9a8f23c3d6ed4e09    FAILED  1741182336741  1.741184e+12   \n",
       "fc76b5d51e0643f3b3567dbbd1306e3a  FINISHED  1741182333521  1.741187e+12   \n",
       "fff85601d7734b3fbaa1aff96c8a7820  FINISHED  1741182333772  1.741189e+12   \n",
       "\n",
       "key                              class_sep               hpo_metric  \\\n",
       "run_uuid                                                              \n",
       "00616980b4b3475a8551239feef4db72      30.0            adjusted_rand   \n",
       "07657d46867440e594189497260ccea0      20.0            adjusted_rand   \n",
       "08b0c324a88a49bcb118da0550160e2b      10.0            adjusted_rand   \n",
       "0b84663870924ef5bf5bb5a4a6dbf3d1     100.0  calinski_harabasz_score   \n",
       "0c83bda5646a47769a925eb7c3acaae6      30.0            adjusted_rand   \n",
       "...                                    ...                      ...   \n",
       "f0cd4d8e29704b4ab449f5a945b46bac      20.0  calinski_harabasz_score   \n",
       "f4591eb30ea642e28a73ec575048fdec      50.0  calinski_harabasz_score   \n",
       "fac86d1d7cf042dc9a8f23c3d6ed4e09      40.0  calinski_harabasz_score   \n",
       "fc76b5d51e0643f3b3567dbbd1306e3a      50.0  calinski_harabasz_score   \n",
       "fff85601d7734b3fbaa1aff96c8a7820      50.0  calinski_harabasz_score   \n",
       "\n",
       "key                                    model_nickname n_classes n_features  \\\n",
       "run_uuid                                                                     \n",
       "00616980b4b3475a8551239feef4db72  RecursiveClustering         5      10000   \n",
       "07657d46867440e594189497260ccea0  RecursiveClustering         5      10000   \n",
       "08b0c324a88a49bcb118da0550160e2b  RecursiveClustering         5      10000   \n",
       "0b84663870924ef5bf5bb5a4a6dbf3d1  RecursiveClustering         5      10000   \n",
       "0c83bda5646a47769a925eb7c3acaae6  RecursiveClustering         5      10000   \n",
       "...                                               ...       ...        ...   \n",
       "f0cd4d8e29704b4ab449f5a945b46bac  RecursiveClustering         5      10000   \n",
       "f4591eb30ea642e28a73ec575048fdec  RecursiveClustering         5      10000   \n",
       "fac86d1d7cf042dc9a8f23c3d6ed4e09  RecursiveClustering         5      10000   \n",
       "fc76b5d51e0643f3b3567dbbd1306e3a  RecursiveClustering         5      10000   \n",
       "fff85601d7734b3fbaa1aff96c8a7820  RecursiveClustering         5      10000   \n",
       "\n",
       "key                              n_informative n_random  ... rand_score  \\\n",
       "run_uuid                                                 ...              \n",
       "00616980b4b3475a8551239feef4db72          None     None  ...   0.920816   \n",
       "07657d46867440e594189497260ccea0          None     None  ...   0.817159   \n",
       "08b0c324a88a49bcb118da0550160e2b          None     None  ...   0.699588   \n",
       "0b84663870924ef5bf5bb5a4a6dbf3d1          None     None  ...   0.954960   \n",
       "0c83bda5646a47769a925eb7c3acaae6          None     None  ...   0.874698   \n",
       "...                                        ...      ...  ...        ...   \n",
       "f0cd4d8e29704b4ab449f5a945b46bac          None     None  ...   0.732347   \n",
       "f4591eb30ea642e28a73ec575048fdec          None     None  ...   0.988758   \n",
       "fac86d1d7cf042dc9a8f23c3d6ed4e09          None     None  ...   0.966044   \n",
       "fc76b5d51e0643f3b3567dbbd1306e3a          None     None  ...   0.891540   \n",
       "fff85601d7734b3fbaa1aff96c8a7820          None     None  ...   0.911276   \n",
       "\n",
       "key                              silhouette v_measure  \\\n",
       "run_uuid                                                \n",
       "00616980b4b3475a8551239feef4db72  -0.003604  0.799672   \n",
       "07657d46867440e594189497260ccea0  -0.013495  0.485268   \n",
       "08b0c324a88a49bcb118da0550160e2b  -0.001944  0.056241   \n",
       "0b84663870924ef5bf5bb5a4a6dbf3d1   0.301966  0.902727   \n",
       "0c83bda5646a47769a925eb7c3acaae6  -0.008814  0.711464   \n",
       "...                                     ...       ...   \n",
       "f0cd4d8e29704b4ab449f5a945b46bac  -0.021651  0.124711   \n",
       "f4591eb30ea642e28a73ec575048fdec   0.091251  0.963933   \n",
       "fac86d1d7cf042dc9a8f23c3d6ed4e09   0.045986  0.901775   \n",
       "fc76b5d51e0643f3b3567dbbd1306e3a   0.168472  0.808031   \n",
       "fff85601d7734b3fbaa1aff96c8a7820   0.180193  0.858457   \n",
       "\n",
       "key                                                                       EXCEPTION  \\\n",
       "run_uuid                                                                              \n",
       "00616980b4b3475a8551239feef4db72                                                NaN   \n",
       "07657d46867440e594189497260ccea0                                                NaN   \n",
       "08b0c324a88a49bcb118da0550160e2b                                                NaN   \n",
       "0b84663870924ef5bf5bb5a4a6dbf3d1                                                NaN   \n",
       "0c83bda5646a47769a925eb7c3acaae6                                                NaN   \n",
       "...                                                                             ...   \n",
       "f0cd4d8e29704b4ab449f5a945b46bac                                                NaN   \n",
       "f4591eb30ea642e28a73ec575048fdec                                                NaN   \n",
       "fac86d1d7cf042dc9a8f23c3d6ed4e09  (sqlite3.OperationalError) database is locked\\...   \n",
       "fc76b5d51e0643f3b3567dbbd1306e3a                                                NaN   \n",
       "fff85601d7734b3fbaa1aff96c8a7820                                                NaN   \n",
       "\n",
       "key                                              best_child_run_id  \\\n",
       "run_uuid                                                             \n",
       "00616980b4b3475a8551239feef4db72  e7b63704b871435a9c06b2421536411f   \n",
       "07657d46867440e594189497260ccea0  14f48d9551514ffb8360b57cea94fa05   \n",
       "08b0c324a88a49bcb118da0550160e2b  c9afba7a5ef74d4ea69be782e1242d3b   \n",
       "0b84663870924ef5bf5bb5a4a6dbf3d1  32fd45f3c12240279f68b144f977bfe4   \n",
       "0c83bda5646a47769a925eb7c3acaae6  8eb6d2ac53d7458f9c0b38f7c5d0fba7   \n",
       "...                                                            ...   \n",
       "f0cd4d8e29704b4ab449f5a945b46bac  8d02ffd6d9484834927b804c42b0d855   \n",
       "f4591eb30ea642e28a73ec575048fdec  88e56d37aea04ce6b35511fa0a903a98   \n",
       "fac86d1d7cf042dc9a8f23c3d6ed4e09                               NaN   \n",
       "fc76b5d51e0643f3b3567dbbd1306e3a  ceadfaf3379d45e0b897a62ce05935bb   \n",
       "fff85601d7734b3fbaa1aff96c8a7820  ad0c93ad375c4ef1a6c19826a1173851   \n",
       "\n",
       "key                               components_size  kmeans_n_clusters  \\\n",
       "run_uuid                                                               \n",
       "00616980b4b3475a8551239feef4db72               29                  5   \n",
       "07657d46867440e594189497260ccea0               27                  5   \n",
       "08b0c324a88a49bcb118da0550160e2b               28                  2   \n",
       "0b84663870924ef5bf5bb5a4a6dbf3d1               19                  5   \n",
       "0c83bda5646a47769a925eb7c3acaae6               29                  5   \n",
       "...                                           ...                ...   \n",
       "f0cd4d8e29704b4ab449f5a945b46bac               15                  2   \n",
       "f4591eb30ea642e28a73ec575048fdec               29                  2   \n",
       "fac86d1d7cf042dc9a8f23c3d6ed4e09              NaN                NaN   \n",
       "fc76b5d51e0643f3b3567dbbd1306e3a               30                  3   \n",
       "fff85601d7734b3fbaa1aff96c8a7820               27                  4   \n",
       "\n",
       "key                               parent_run_id  raised_exception  repetitions  \n",
       "run_uuid                                                                        \n",
       "00616980b4b3475a8551239feef4db72            NaN             False            8  \n",
       "07657d46867440e594189497260ccea0            NaN             False            4  \n",
       "08b0c324a88a49bcb118da0550160e2b            NaN             False            4  \n",
       "0b84663870924ef5bf5bb5a4a6dbf3d1            NaN             False            3  \n",
       "0c83bda5646a47769a925eb7c3acaae6            NaN             False           10  \n",
       "...                                         ...               ...          ...  \n",
       "f0cd4d8e29704b4ab449f5a945b46bac            NaN             False            3  \n",
       "f4591eb30ea642e28a73ec575048fdec            NaN             False           10  \n",
       "fac86d1d7cf042dc9a8f23c3d6ed4e09            NaN              True          NaN  \n",
       "fc76b5d51e0643f3b3567dbbd1306e3a            NaN             False            7  \n",
       "fff85601d7734b3fbaa1aff96c8a7820            NaN             False            3  \n",
       "\n",
       "[61 rows x 49 columns]"
      ],
      "text/html": [
       "<div>\n",
       "<style scoped>\n",
       "    .dataframe tbody tr th:only-of-type {\n",
       "        vertical-align: middle;\n",
       "    }\n",
       "\n",
       "    .dataframe tbody tr th {\n",
       "        vertical-align: top;\n",
       "    }\n",
       "\n",
       "    .dataframe thead th {\n",
       "        text-align: right;\n",
       "    }\n",
       "</style>\n",
       "<table border=\"1\" class=\"dataframe\">\n",
       "  <thead>\n",
       "    <tr style=\"text-align: right;\">\n",
       "      <th>key</th>\n",
       "      <th>status</th>\n",
       "      <th>start_time</th>\n",
       "      <th>end_time</th>\n",
       "      <th>class_sep</th>\n",
       "      <th>hpo_metric</th>\n",
       "      <th>model_nickname</th>\n",
       "      <th>n_classes</th>\n",
       "      <th>n_features</th>\n",
       "      <th>n_informative</th>\n",
       "      <th>n_random</th>\n",
       "      <th>...</th>\n",
       "      <th>rand_score</th>\n",
       "      <th>silhouette</th>\n",
       "      <th>v_measure</th>\n",
       "      <th>EXCEPTION</th>\n",
       "      <th>best_child_run_id</th>\n",
       "      <th>components_size</th>\n",
       "      <th>kmeans_n_clusters</th>\n",
       "      <th>parent_run_id</th>\n",
       "      <th>raised_exception</th>\n",
       "      <th>repetitions</th>\n",
       "    </tr>\n",
       "    <tr>\n",
       "      <th>run_uuid</th>\n",
       "      <th></th>\n",
       "      <th></th>\n",
       "      <th></th>\n",
       "      <th></th>\n",
       "      <th></th>\n",
       "      <th></th>\n",
       "      <th></th>\n",
       "      <th></th>\n",
       "      <th></th>\n",
       "      <th></th>\n",
       "      <th></th>\n",
       "      <th></th>\n",
       "      <th></th>\n",
       "      <th></th>\n",
       "      <th></th>\n",
       "      <th></th>\n",
       "      <th></th>\n",
       "      <th></th>\n",
       "      <th></th>\n",
       "      <th></th>\n",
       "      <th></th>\n",
       "    </tr>\n",
       "  </thead>\n",
       "  <tbody>\n",
       "    <tr>\n",
       "      <th>00616980b4b3475a8551239feef4db72</th>\n",
       "      <td>FINISHED</td>\n",
       "      <td>1741108019629</td>\n",
       "      <td>1.741111e+12</td>\n",
       "      <td>30.0</td>\n",
       "      <td>adjusted_rand</td>\n",
       "      <td>RecursiveClustering</td>\n",
       "      <td>5</td>\n",
       "      <td>10000</td>\n",
       "      <td>None</td>\n",
       "      <td>None</td>\n",
       "      <td>...</td>\n",
       "      <td>0.920816</td>\n",
       "      <td>-0.003604</td>\n",
       "      <td>0.799672</td>\n",
       "      <td>NaN</td>\n",
       "      <td>e7b63704b871435a9c06b2421536411f</td>\n",
       "      <td>29</td>\n",
       "      <td>5</td>\n",
       "      <td>NaN</td>\n",
       "      <td>False</td>\n",
       "      <td>8</td>\n",
       "    </tr>\n",
       "    <tr>\n",
       "      <th>07657d46867440e594189497260ccea0</th>\n",
       "      <td>FINISHED</td>\n",
       "      <td>1741108032926</td>\n",
       "      <td>1.741111e+12</td>\n",
       "      <td>20.0</td>\n",
       "      <td>adjusted_rand</td>\n",
       "      <td>RecursiveClustering</td>\n",
       "      <td>5</td>\n",
       "      <td>10000</td>\n",
       "      <td>None</td>\n",
       "      <td>None</td>\n",
       "      <td>...</td>\n",
       "      <td>0.817159</td>\n",
       "      <td>-0.013495</td>\n",
       "      <td>0.485268</td>\n",
       "      <td>NaN</td>\n",
       "      <td>14f48d9551514ffb8360b57cea94fa05</td>\n",
       "      <td>27</td>\n",
       "      <td>5</td>\n",
       "      <td>NaN</td>\n",
       "      <td>False</td>\n",
       "      <td>4</td>\n",
       "    </tr>\n",
       "    <tr>\n",
       "      <th>08b0c324a88a49bcb118da0550160e2b</th>\n",
       "      <td>FINISHED</td>\n",
       "      <td>1741108003906</td>\n",
       "      <td>1.741112e+12</td>\n",
       "      <td>10.0</td>\n",
       "      <td>adjusted_rand</td>\n",
       "      <td>RecursiveClustering</td>\n",
       "      <td>5</td>\n",
       "      <td>10000</td>\n",
       "      <td>None</td>\n",
       "      <td>None</td>\n",
       "      <td>...</td>\n",
       "      <td>0.699588</td>\n",
       "      <td>-0.001944</td>\n",
       "      <td>0.056241</td>\n",
       "      <td>NaN</td>\n",
       "      <td>c9afba7a5ef74d4ea69be782e1242d3b</td>\n",
       "      <td>28</td>\n",
       "      <td>2</td>\n",
       "      <td>NaN</td>\n",
       "      <td>False</td>\n",
       "      <td>4</td>\n",
       "    </tr>\n",
       "    <tr>\n",
       "      <th>0b84663870924ef5bf5bb5a4a6dbf3d1</th>\n",
       "      <td>FINISHED</td>\n",
       "      <td>1741182334387</td>\n",
       "      <td>1.741189e+12</td>\n",
       "      <td>100.0</td>\n",
       "      <td>calinski_harabasz_score</td>\n",
       "      <td>RecursiveClustering</td>\n",
       "      <td>5</td>\n",
       "      <td>10000</td>\n",
       "      <td>None</td>\n",
       "      <td>None</td>\n",
       "      <td>...</td>\n",
       "      <td>0.954960</td>\n",
       "      <td>0.301966</td>\n",
       "      <td>0.902727</td>\n",
       "      <td>NaN</td>\n",
       "      <td>32fd45f3c12240279f68b144f977bfe4</td>\n",
       "      <td>19</td>\n",
       "      <td>5</td>\n",
       "      <td>NaN</td>\n",
       "      <td>False</td>\n",
       "      <td>3</td>\n",
       "    </tr>\n",
       "    <tr>\n",
       "      <th>0c83bda5646a47769a925eb7c3acaae6</th>\n",
       "      <td>FINISHED</td>\n",
       "      <td>1741108005481</td>\n",
       "      <td>1.741112e+12</td>\n",
       "      <td>30.0</td>\n",
       "      <td>adjusted_rand</td>\n",
       "      <td>RecursiveClustering</td>\n",
       "      <td>5</td>\n",
       "      <td>10000</td>\n",
       "      <td>None</td>\n",
       "      <td>None</td>\n",
       "      <td>...</td>\n",
       "      <td>0.874698</td>\n",
       "      <td>-0.008814</td>\n",
       "      <td>0.711464</td>\n",
       "      <td>NaN</td>\n",
       "      <td>8eb6d2ac53d7458f9c0b38f7c5d0fba7</td>\n",
       "      <td>29</td>\n",
       "      <td>5</td>\n",
       "      <td>NaN</td>\n",
       "      <td>False</td>\n",
       "      <td>10</td>\n",
       "    </tr>\n",
       "    <tr>\n",
       "      <th>...</th>\n",
       "      <td>...</td>\n",
       "      <td>...</td>\n",
       "      <td>...</td>\n",
       "      <td>...</td>\n",
       "      <td>...</td>\n",
       "      <td>...</td>\n",
       "      <td>...</td>\n",
       "      <td>...</td>\n",
       "      <td>...</td>\n",
       "      <td>...</td>\n",
       "      <td>...</td>\n",
       "      <td>...</td>\n",
       "      <td>...</td>\n",
       "      <td>...</td>\n",
       "      <td>...</td>\n",
       "      <td>...</td>\n",
       "      <td>...</td>\n",
       "      <td>...</td>\n",
       "      <td>...</td>\n",
       "      <td>...</td>\n",
       "      <td>...</td>\n",
       "    </tr>\n",
       "    <tr>\n",
       "      <th>f0cd4d8e29704b4ab449f5a945b46bac</th>\n",
       "      <td>FINISHED</td>\n",
       "      <td>1741182330702</td>\n",
       "      <td>1.741185e+12</td>\n",
       "      <td>20.0</td>\n",
       "      <td>calinski_harabasz_score</td>\n",
       "      <td>RecursiveClustering</td>\n",
       "      <td>5</td>\n",
       "      <td>10000</td>\n",
       "      <td>None</td>\n",
       "      <td>None</td>\n",
       "      <td>...</td>\n",
       "      <td>0.732347</td>\n",
       "      <td>-0.021651</td>\n",
       "      <td>0.124711</td>\n",
       "      <td>NaN</td>\n",
       "      <td>8d02ffd6d9484834927b804c42b0d855</td>\n",
       "      <td>15</td>\n",
       "      <td>2</td>\n",
       "      <td>NaN</td>\n",
       "      <td>False</td>\n",
       "      <td>3</td>\n",
       "    </tr>\n",
       "    <tr>\n",
       "      <th>f4591eb30ea642e28a73ec575048fdec</th>\n",
       "      <td>FINISHED</td>\n",
       "      <td>1741182333590</td>\n",
       "      <td>1.741188e+12</td>\n",
       "      <td>50.0</td>\n",
       "      <td>calinski_harabasz_score</td>\n",
       "      <td>RecursiveClustering</td>\n",
       "      <td>5</td>\n",
       "      <td>10000</td>\n",
       "      <td>None</td>\n",
       "      <td>None</td>\n",
       "      <td>...</td>\n",
       "      <td>0.988758</td>\n",
       "      <td>0.091251</td>\n",
       "      <td>0.963933</td>\n",
       "      <td>NaN</td>\n",
       "      <td>88e56d37aea04ce6b35511fa0a903a98</td>\n",
       "      <td>29</td>\n",
       "      <td>2</td>\n",
       "      <td>NaN</td>\n",
       "      <td>False</td>\n",
       "      <td>10</td>\n",
       "    </tr>\n",
       "    <tr>\n",
       "      <th>fac86d1d7cf042dc9a8f23c3d6ed4e09</th>\n",
       "      <td>FAILED</td>\n",
       "      <td>1741182336741</td>\n",
       "      <td>1.741184e+12</td>\n",
       "      <td>40.0</td>\n",
       "      <td>calinski_harabasz_score</td>\n",
       "      <td>RecursiveClustering</td>\n",
       "      <td>5</td>\n",
       "      <td>10000</td>\n",
       "      <td>None</td>\n",
       "      <td>None</td>\n",
       "      <td>...</td>\n",
       "      <td>0.966044</td>\n",
       "      <td>0.045986</td>\n",
       "      <td>0.901775</td>\n",
       "      <td>(sqlite3.OperationalError) database is locked\\...</td>\n",
       "      <td>NaN</td>\n",
       "      <td>NaN</td>\n",
       "      <td>NaN</td>\n",
       "      <td>NaN</td>\n",
       "      <td>True</td>\n",
       "      <td>NaN</td>\n",
       "    </tr>\n",
       "    <tr>\n",
       "      <th>fc76b5d51e0643f3b3567dbbd1306e3a</th>\n",
       "      <td>FINISHED</td>\n",
       "      <td>1741182333521</td>\n",
       "      <td>1.741187e+12</td>\n",
       "      <td>50.0</td>\n",
       "      <td>calinski_harabasz_score</td>\n",
       "      <td>RecursiveClustering</td>\n",
       "      <td>5</td>\n",
       "      <td>10000</td>\n",
       "      <td>None</td>\n",
       "      <td>None</td>\n",
       "      <td>...</td>\n",
       "      <td>0.891540</td>\n",
       "      <td>0.168472</td>\n",
       "      <td>0.808031</td>\n",
       "      <td>NaN</td>\n",
       "      <td>ceadfaf3379d45e0b897a62ce05935bb</td>\n",
       "      <td>30</td>\n",
       "      <td>3</td>\n",
       "      <td>NaN</td>\n",
       "      <td>False</td>\n",
       "      <td>7</td>\n",
       "    </tr>\n",
       "    <tr>\n",
       "      <th>fff85601d7734b3fbaa1aff96c8a7820</th>\n",
       "      <td>FINISHED</td>\n",
       "      <td>1741182333772</td>\n",
       "      <td>1.741189e+12</td>\n",
       "      <td>50.0</td>\n",
       "      <td>calinski_harabasz_score</td>\n",
       "      <td>RecursiveClustering</td>\n",
       "      <td>5</td>\n",
       "      <td>10000</td>\n",
       "      <td>None</td>\n",
       "      <td>None</td>\n",
       "      <td>...</td>\n",
       "      <td>0.911276</td>\n",
       "      <td>0.180193</td>\n",
       "      <td>0.858457</td>\n",
       "      <td>NaN</td>\n",
       "      <td>ad0c93ad375c4ef1a6c19826a1173851</td>\n",
       "      <td>27</td>\n",
       "      <td>4</td>\n",
       "      <td>NaN</td>\n",
       "      <td>False</td>\n",
       "      <td>3</td>\n",
       "    </tr>\n",
       "  </tbody>\n",
       "</table>\n",
       "<p>61 rows × 49 columns</p>\n",
       "</div>"
      ]
     },
     "execution_count": 29,
     "metadata": {},
     "output_type": "execute_result"
    }
   ],
   "execution_count": 29
  },
  {
   "metadata": {
    "ExecuteTime": {
     "end_time": "2025-03-06T17:29:09.097539Z",
     "start_time": "2025-03-06T17:29:09.094405Z"
    }
   },
   "cell_type": "code",
   "source": [
    "# Separate our method with two types n_trials\n",
    "df_runs_parents = df_runs_raw_parents.copy()\n",
    "df_runs_parents.loc[(df_runs_parents['model_nickname'] == 'RecursiveClustering') & (df_runs_parents['n_trials'] == '20'), 'model_nickname'] = 'RecursiveClustering_20'"
   ],
   "id": "ebc297b94654a85b",
   "outputs": [],
   "execution_count": 30
  },
  {
   "metadata": {},
   "cell_type": "markdown",
   "source": "## Delete duplicate runs (if any) and complete some models that cannot run with some datasets",
   "id": "ecd17b040cba132a"
  },
  {
   "metadata": {
    "ExecuteTime": {
     "end_time": "2025-03-06T17:29:16.766041Z",
     "start_time": "2025-03-06T17:29:16.759915Z"
    }
   },
   "cell_type": "code",
   "source": [
    "non_duplicate_columns = [\n",
    "    'model_nickname',\n",
    "    'n_samples',\n",
    "    'n_features',\n",
    "    'pct_random',\n",
    "    'seed_unified',\n",
    "    'class_sep',\n",
    "    'n_random',\n",
    "    'n_informative',\n",
    "    'n_classes',\n",
    "    'hpo_metric'\n",
    "]\n",
    "df_runs_parents = df_runs_parents.dropna(axis=0, how='all', subset=['best_adjusted_rand']).copy()\n",
    "df_runs_parents = df_runs_parents.loc[(~df_runs_parents.duplicated(non_duplicate_columns))]"
   ],
   "id": "f5e61950dd1802cb",
   "outputs": [],
   "execution_count": 31
  },
  {
   "metadata": {},
   "cell_type": "markdown",
   "source": "# Missing",
   "id": "b716d3a09a7f49fe"
  },
  {
   "metadata": {
    "ExecuteTime": {
     "end_time": "2025-03-06T17:29:18.154679Z",
     "start_time": "2025-03-06T17:29:18.151427Z"
    }
   },
   "cell_type": "code",
   "source": "df_runs_parents['model_nickname'].unique().tolist()",
   "id": "89acc7cbd8593f57",
   "outputs": [
    {
     "data": {
      "text/plain": [
       "['RecursiveClustering_20']"
      ]
     },
     "execution_count": 32,
     "metadata": {},
     "output_type": "execute_result"
    }
   ],
   "execution_count": 32
  },
  {
   "metadata": {
    "ExecuteTime": {
     "end_time": "2025-03-06T17:29:46.145660Z",
     "start_time": "2025-03-06T17:29:46.143490Z"
    }
   },
   "cell_type": "code",
   "source": [
    "non_duplicate_columns = [\n",
    "    'model_nickname',\n",
    "    'n_samples',\n",
    "    'n_features',\n",
    "    'pct_random',\n",
    "    'seed_unified',\n",
    "    'class_sep',\n",
    "    'hpo_metric',\n",
    "]"
   ],
   "id": "d4c90c14043d8b0e",
   "outputs": [],
   "execution_count": 35
  },
  {
   "metadata": {
    "ExecuteTime": {
     "end_time": "2025-03-06T17:29:52.036313Z",
     "start_time": "2025-03-06T17:29:52.031040Z"
    }
   },
   "cell_type": "code",
   "source": [
    "n_samples = ['100000']\n",
    "n_features = ['10000']\n",
    "pct_random = ['0.0']\n",
    "seed_unified = [f'{i}' for i in range(0)]\n",
    "class_sep = ['10.0', '20.0', '30.0', '40.0', '50.0', '100.0']\n",
    "model_nickname = [\n",
    "    'RecursiveClustering_20',\n",
    "]\n",
    "hpo_metric = ['adjusted_rand', 'calinski_harabasz_score']\n",
    "columns_names = non_duplicate_columns\n",
    "should_contain_values = [model_nickname, n_samples, n_features, pct_random, seed_unified, class_sep, hpo_metric]\n",
    "df_missing = get_missing_entries(df_runs_parents, columns_names, should_contain_values)"
   ],
   "id": "b0ff278b00c99f3e",
   "outputs": [],
   "execution_count": 36
  },
  {
   "metadata": {
    "ExecuteTime": {
     "end_time": "2025-03-06T17:29:52.667540Z",
     "start_time": "2025-03-06T17:29:52.662660Z"
    }
   },
   "cell_type": "code",
   "source": "df_missing",
   "id": "78cac58f8d5b6399",
   "outputs": [
    {
     "data": {
      "text/plain": [
       "Empty DataFrame\n",
       "Columns: [model_nickname, n_samples, n_features, pct_random, seed_unified, class_sep, hpo_metric]\n",
       "Index: []"
      ],
      "text/html": [
       "<div>\n",
       "<style scoped>\n",
       "    .dataframe tbody tr th:only-of-type {\n",
       "        vertical-align: middle;\n",
       "    }\n",
       "\n",
       "    .dataframe tbody tr th {\n",
       "        vertical-align: top;\n",
       "    }\n",
       "\n",
       "    .dataframe thead th {\n",
       "        text-align: right;\n",
       "    }\n",
       "</style>\n",
       "<table border=\"1\" class=\"dataframe\">\n",
       "  <thead>\n",
       "    <tr style=\"text-align: right;\">\n",
       "      <th></th>\n",
       "      <th>model_nickname</th>\n",
       "      <th>n_samples</th>\n",
       "      <th>n_features</th>\n",
       "      <th>pct_random</th>\n",
       "      <th>seed_unified</th>\n",
       "      <th>class_sep</th>\n",
       "      <th>hpo_metric</th>\n",
       "    </tr>\n",
       "  </thead>\n",
       "  <tbody>\n",
       "  </tbody>\n",
       "</table>\n",
       "</div>"
      ]
     },
     "execution_count": 37,
     "metadata": {},
     "output_type": "execute_result"
    }
   ],
   "execution_count": 37
  },
  {
   "metadata": {},
   "cell_type": "markdown",
   "source": "# Plots",
   "id": "27231ddc85831038"
  },
  {
   "metadata": {
    "ExecuteTime": {
     "end_time": "2025-03-06T17:40:50.740406Z",
     "start_time": "2025-03-06T17:40:50.736464Z"
    }
   },
   "cell_type": "code",
   "source": [
    "df_plots = df_runs_parents.copy()\n",
    "df_plots['n_samples'] = df_plots['n_samples'].astype(int)\n",
    "df_plots['n_features'] = df_plots['n_features'].astype(int)\n",
    "df_plots['pct_random'] = df_plots['pct_random'].astype(float)\n",
    "df_plots['class_sep'] = df_plots['class_sep'].astype(float)"
   ],
   "id": "6f8ca295fd64f0f7",
   "outputs": [],
   "execution_count": 46
  },
  {
   "metadata": {
    "ExecuteTime": {
     "end_time": "2025-03-06T17:40:52.249844Z",
     "start_time": "2025-03-06T17:40:51.519164Z"
    }
   },
   "cell_type": "code",
   "source": [
    "df = df_plots.copy()\n",
    "n_features = 10000\n",
    "n_samples = 100000\n",
    "pct_random = 0.0\n",
    "hpo_metric = 'adjusted_rand'\n",
    "models_names = {\n",
    "    # 'RecursiveClustering': 'CoHiRF',\n",
    "    'RecursiveClustering_20': 'CoHiRF',\n",
    "    'KMeans': 'K-Means',\n",
    "    'HDBSCAN': 'HDBSCAN',\n",
    "    'DBSCAN': 'DBSCAN',\n",
    "    'AffinityPropagation': 'Affinity Propagation',\n",
    "    'OPTICS': 'OPTICS',\n",
    "    'SpectralSubspaceRandomization': 'SC-SRGF',\n",
    "    'WardAgglomerativeClustering': \"Ward's Method\",\n",
    "}\n",
    "df = df.loc[df['pct_random']==pct_random]\n",
    "df = df.loc[df['hpo_metric']==hpo_metric]\n",
    "# df = df.loc[~df['class_sep'].isin([10, 20])]\n",
    "# df = df.loc[df['model_nickname'].isin(['RecursiveClustering_20', 'KMeans', 'HDBSCAN', 'AffinityPropagation', 'OPTICS', 'SpectralSubspaceRandomization', 'WardAgglomerativeClustering'])]\n",
    "df = df.replace({'model_nickname': models_names})\n",
    "df = df.sort_values(by='model_nickname')\n",
    "df = df.rename(columns={'fit_model_return_elapsed_time': 'Time (s)', 'max_memory_used': 'Memory (MB)', 'n_samples': 'Number of samples', 'n_features': 'Number of features', 'model_nickname': 'Model', 'class_sep': 'Class Separation', 'pct_random': '% Random Features', 'best_adjusted_rand' : 'ARI'})\n",
    "plt.style.use('default')\n",
    "# plt.style.use('seaborn-v0_8-paper')\n",
    "with mpl.rc_context(rc={\n",
    "    'figure.constrained_layout.use': True,\n",
    "    'savefig.bbox': 'tight',\n",
    "    'figure.figsize': (10, 6),\n",
    "    'legend.loc': 'upper left',\n",
    "    'legend.frameon': False,\n",
    "    'font.size': 12,\n",
    "    # 'font.family': 'serif',\n",
    "    # 'font.serif': 'Times',\n",
    "    'text.color': 'black',\n",
    "    'grid.color': 'black',\n",
    "    'grid.alpha': 0.5,\n",
    "}):\n",
    "    fig, axs = plt.subplots(2, 1)\n",
    "    axs = axs.flatten()\n",
    "    df_plot = df.copy()\n",
    "    df_plot = df_plot.loc[df_plot['Number of features']==n_features]\n",
    "    df_plot = df_plot.loc[df_plot['Number of samples']==n_samples]\n",
    "    ax = sns.lineplot(data=df_plot, x='Class Separation', y='Time (s)', hue='Model', style='Model', markers=True, errorbar='ci', ax=axs[0])\n",
    "    ax.legend().set_visible(False)\n",
    "    ax.set_yscale('log')\n",
    "    ax2 = sns.lineplot(data=df_plot, x='Class Separation', y='ARI', hue='Model', style='Model', markers=True, errorbar='ci', ax=axs[1])\n",
    "    ax2.legend().set_visible(False)\n",
    "    ax.legend(title=None, fontsize=12, bbox_to_anchor=(0.0, 1.3), ncols=4)\n",
    "    plt.savefig(f'hypercube_n-samples{n_samples}_n-features{n_features}_pct-random{pct_random}_with_time.pdf')\n",
    "    plt.show()\n",
    "    # for i, (n_samples, n_features) in enumerate(n_samples_n_features):\n",
    "    #     df_plot = df.copy()\n",
    "    #     df_plot = df_plot.loc[df_plot['Number of features']==n_features]\n",
    "    #     df_plot = df_plot.loc[df_plot['Number of samples']==n_samples]\n",
    "    #     ax = sns.lineplot(data=df_plot, x='Class Separation', y='ARI', hue='Model', style='Model', markers=True, errorbar='ci', ax=axs[i])\n",
    "    #     ax.legend().set_visible(False)\n",
    "    #     # plt.legend(title=None, bbox_to_anchor=(0.6, 0.3))\n",
    "        # plt.savefig(f'hypercube_n-samples{n_samples}_n-features{n_features}_pct-random{pct_random}.pdf')\n",
    "        # plt.show()\n",
    "# axs[0].legend(title=None, fontsize=12)\n",
    "\n",
    "# plt.show()"
   ],
   "id": "b6c1aef21c7303cc",
   "outputs": [
    {
     "data": {
      "text/plain": [
       "<Figure size 1000x600 with 2 Axes>"
      ],
      "image/png": "[encoded data removed]"
     },
     "metadata": {},
     "output_type": "display_data"
    }
   ],
   "execution_count": 47
  },
  {
   "metadata": {
    "ExecuteTime": {
     "end_time": "2025-03-06T17:41:22.402271Z",
     "start_time": "2025-03-06T17:41:20.949532Z"
    }
   },
   "cell_type": "code",
   "source": [
    "df = df_plots.copy()\n",
    "n_features = 10000\n",
    "n_samples = 100000\n",
    "pct_random = 0.0\n",
    "hpo_metric = 'calinski_harabasz_score'\n",
    "models_names = {\n",
    "    # 'RecursiveClustering': 'CoHiRF',\n",
    "    'RecursiveClustering_20': 'CoHiRF',\n",
    "    'KMeans': 'K-Means',\n",
    "    'HDBSCAN': 'HDBSCAN',\n",
    "    'DBSCAN': 'DBSCAN',\n",
    "    'AffinityPropagation': 'Affinity Propagation',\n",
    "    'OPTICS': 'OPTICS',\n",
    "    'SpectralSubspaceRandomization': 'SC-SRGF',\n",
    "    'WardAgglomerativeClustering': \"Ward's Method\",\n",
    "}\n",
    "df = df.loc[df['pct_random']==pct_random]\n",
    "df = df.loc[df['hpo_metric']==hpo_metric]\n",
    "# df = df.loc[~df['class_sep'].isin([10, 20])]\n",
    "# df = df.loc[df['model_nickname'].isin(['RecursiveClustering_20', 'KMeans', 'HDBSCAN', 'AffinityPropagation', 'OPTICS', 'SpectralSubspaceRandomization', 'WardAgglomerativeClustering'])]\n",
    "df = df.replace({'model_nickname': models_names})\n",
    "df = df.sort_values(by='model_nickname')\n",
    "df = df.rename(columns={'fit_model_return_elapsed_time': 'Time (s)', 'max_memory_used': 'Memory (MB)', 'n_samples': 'Number of samples', 'n_features': 'Number of features', 'model_nickname': 'Model', 'class_sep': 'Class Separation', 'pct_random': '% Random Features', 'best_adjusted_rand' : 'ARI'})\n",
    "plt.style.use('default')\n",
    "# plt.style.use('seaborn-v0_8-paper')\n",
    "with mpl.rc_context(rc={\n",
    "    'figure.constrained_layout.use': True,\n",
    "    'savefig.bbox': 'tight',\n",
    "    'figure.figsize': (10, 6),\n",
    "    'legend.loc': 'upper left',\n",
    "    'legend.frameon': False,\n",
    "    'font.size': 12,\n",
    "    # 'font.family': 'serif',\n",
    "    # 'font.serif': 'Times',\n",
    "    'text.color': 'black',\n",
    "    'grid.color': 'black',\n",
    "    'grid.alpha': 0.5,\n",
    "}):\n",
    "    fig, axs = plt.subplots(2, 1)\n",
    "    axs = axs.flatten()\n",
    "    df_plot = df.copy()\n",
    "    df_plot = df_plot.loc[df_plot['Number of features']==n_features]\n",
    "    df_plot = df_plot.loc[df_plot['Number of samples']==n_samples]\n",
    "    ax = sns.lineplot(data=df_plot, x='Class Separation', y='Time (s)', hue='Model', style='Model', markers=True, errorbar='ci', ax=axs[0])\n",
    "    ax.legend().set_visible(False)\n",
    "    ax.set_yscale('log')\n",
    "    ax2 = sns.lineplot(data=df_plot, x='Class Separation', y='ARI', hue='Model', style='Model', markers=True, errorbar='ci', ax=axs[1])\n",
    "    ax2.legend().set_visible(False)\n",
    "    ax.legend(title=None, fontsize=12, bbox_to_anchor=(0.0, 1.3), ncols=4)\n",
    "    plt.savefig(f'hypercube_n-samples{n_samples}_n-features{n_features}_pct-random{pct_random}_with_time.pdf')\n",
    "    plt.show()\n",
    "    # for i, (n_samples, n_features) in enumerate(n_samples_n_features):\n",
    "    #     df_plot = df.copy()\n",
    "    #     df_plot = df_plot.loc[df_plot['Number of features']==n_features]\n",
    "    #     df_plot = df_plot.loc[df_plot['Number of samples']==n_samples]\n",
    "    #     ax = sns.lineplot(data=df_plot, x='Class Separation', y='ARI', hue='Model', style='Model', markers=True, errorbar='ci', ax=axs[i])\n",
    "    #     ax.legend().set_visible(False)\n",
    "    #     # plt.legend(title=None, bbox_to_anchor=(0.6, 0.3))\n",
    "        # plt.savefig(f'hypercube_n-samples{n_samples}_n-features{n_features}_pct-random{pct_random}.pdf')\n",
    "        # plt.show()\n",
    "# axs[0].legend(title=None, fontsize=12)\n",
    "\n",
    "# plt.show()"
   ],
   "id": "60e328ab2cd5816a",
   "outputs": [
    {
     "data": {
      "text/plain": [
       "<Figure size 1000x600 with 2 Axes>"
      ],
      "image/png": "[encoded data removed]"
     },
     "metadata": {},
     "output_type": "display_data"
    }
   ],
   "execution_count": 48
  },
  {
   "metadata": {},
   "cell_type": "code",
   "outputs": [],
   "execution_count": null,
   "source": "",
   "id": "2bc9270d2611cf4"
  },
  {
   "metadata": {},
   "cell_type": "markdown",
   "source": "# Debug and explore",
   "id": "2f06e50722b93f6f"
  },
  {
   "metadata": {},
   "cell_type": "code",
   "outputs": [],
   "execution_count": null,
   "source": [
    "df = df_runs_raw.copy()\n",
    "df = df.loc[df['status'] == 'FAILED']"
   ],
   "id": "6127cb5e205b455a"
  },
  {
   "metadata": {},
   "cell_type": "code",
   "outputs": [],
   "execution_count": null,
   "source": "df['EXCEPTION'].unique()",
   "id": "857ed474cdd3c6a2"
  },
  {
   "metadata": {},
   "cell_type": "code",
   "outputs": [],
   "execution_count": null,
   "source": [
    "df = df_runs_raw_parents.copy()\n",
    "df = df.loc[df['status'] == 'FAILED']"
   ],
   "id": "59a8fdd806d43393"
  },
  {
   "metadata": {},
   "cell_type": "code",
   "outputs": [],
   "execution_count": null,
   "source": "df",
   "id": "254274fe30308431"
  },
  {
   "metadata": {},
   "cell_type": "code",
   "outputs": [],
   "execution_count": null,
   "source": "parent_run_ids = list(df.index)",
   "id": "d68ef7ba0fccb431"
  },
  {
   "metadata": {},
   "cell_type": "code",
   "outputs": [],
   "execution_count": null,
   "source": "parent_run_ids",
   "id": "108bebc1e89ed514"
  },
  {
   "metadata": {},
   "cell_type": "code",
   "outputs": [],
   "execution_count": null,
   "source": [
    "df = df_runs_raw.copy()\n",
    "df = df.loc[df['parent_run_id'].isin(parent_run_ids)]"
   ],
   "id": "d897b9fa6cc720a1"
  },
  {
   "metadata": {},
   "cell_type": "code",
   "outputs": [],
   "execution_count": null,
   "source": "child_run_ids = list(df.index)",
   "id": "3485ea488be685ab"
  },
  {
   "metadata": {},
   "cell_type": "code",
   "outputs": [],
   "execution_count": null,
   "source": "runs_to_delete = child_run_ids",
   "id": "192ea1eae5ed09e3"
  },
  {
   "metadata": {},
   "cell_type": "code",
   "outputs": [],
   "execution_count": null,
   "source": "print(runs_to_delete, len(runs_to_delete))",
   "id": "3a7a06234c6e5bca"
  },
  {
   "metadata": {},
   "cell_type": "code",
   "outputs": [],
   "execution_count": null,
   "source": [
    "run_uuid_query = [f\"'{run_id}'\" for run_id in runs_to_delete]\n",
    "run_uuid_query = ', '.join(run_uuid_query)"
   ],
   "id": "2f559ad58796b3d4"
  },
  {
   "metadata": {},
   "cell_type": "code",
   "outputs": [],
   "execution_count": null,
   "source": [
    "query = f\"\"\"\n",
    "UPDATE runs\n",
    "SET lifecycle_stage = 'deleted'\n",
    "WHERE run_uuid IN ({run_uuid_query}) \n",
    "\"\"\"\n",
    "with engine.begin() as conn:\n",
    "    conn.execute(text(query))"
   ],
   "id": "e61fe0ba79449323"
  },
  {
   "metadata": {},
   "cell_type": "markdown",
   "source": [
    "for i, row in df_runs_raw.iterrows():\n",
    "    run_id = row.run_id\n",
    "    model_name = row['params.model_name']\n",
    "    with mlflow.start_run(run_id) as run:\n",
    "        mlflow.log_param('model_nickname', model_name)    "
   ],
   "id": "28f8711480438b3c"
  }
 ],
 "metadata": {
  "kernelspec": {
   "display_name": "recursive_clustering",
   "language": "python",
   "name": "recursive_clustering"
  },
  "language_info": {
   "codemirror_mode": {
    "name": "ipython",
    "version": 3
   },
   "file_extension": ".py",
   "mimetype": "text/x-python",
   "name": "python",
   "nbconvert_exporter": "python",
   "pygments_lexer": "ipython3",
   "version": "3.11.9"
  }
 },
 "nbformat": 4,
 "nbformat_minor": 5
}
