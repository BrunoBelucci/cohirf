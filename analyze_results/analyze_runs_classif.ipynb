{
 "cells": [
  {
   "metadata": {
    "ExecuteTime": {
     "end_time": "2025-03-12T11:34:50.200731Z",
     "start_time": "2025-03-12T11:34:50.197839Z"
    }
   },
   "cell_type": "code",
   "source": [
    "from sqlalchemy import create_engine, text\n",
    "import pandas as pd\n",
    "from ml_experiments.analyze import get_df_runs_from_mlflow_sql, get_missing_entries, get_common_combinations, get_df_with_combinations\n",
    "import seaborn as sns\n",
    "import matplotlib as mpl\n",
    "import matplotlib.pyplot as plt\n",
    "from pathlib import Path\n",
    "import os"
   ],
   "id": "af896bddab8f27f0",
   "outputs": [],
   "execution_count": 45
  },
  {
   "metadata": {},
   "cell_type": "markdown",
   "source": "# Save Results",
   "id": "4f94fd49944a0ca0"
  },
  {
   "metadata": {},
   "cell_type": "markdown",
   "source": "## Load mlflow runs",
   "id": "367066439eca4f09"
  },
  {
   "metadata": {
    "ExecuteTime": {
     "end_time": "2025-03-12T11:34:51.684948Z",
     "start_time": "2025-03-12T11:34:51.559769Z"
    }
   },
   "cell_type": "code",
   "source": [
    "db_port = 5001\n",
    "db_name = 'recursive_clustering'\n",
    "w = 'clust9'\n",
    "# url = f'postgresql://{w}.ceremade.dauphine.lan:{db_port}/{db_name}'\n",
    "url = f'postgresql://belucci@localhost:{db_port}/{db_name}'\n",
    "engine = create_engine(url)\n",
    "query = 'SELECT experiments.name from experiments'\n",
    "experiment_names = pd.read_sql(query, engine)['name'].tolist()\n",
    "results_dir = Path('/home/bbelucci/code/recursive_clustering/results/processed_results')\n",
    "os.makedirs(results_dir, exist_ok=True)"
   ],
   "id": "5b740cee80608049",
   "outputs": [],
   "execution_count": 46
  },
  {
   "metadata": {
    "ExecuteTime": {
     "end_time": "2025-03-12T11:17:49.038926Z",
     "start_time": "2025-03-12T11:17:49.033838Z"
    }
   },
   "cell_type": "code",
   "source": "experiment_names",
   "id": "5a91c44198faad91",
   "outputs": [
    {
     "data": {
      "text/plain": [
       "['Default',\n",
       " 'blob_experiment',\n",
       " 'hpo_classif_experiment',\n",
       " 'hpo_openml_experiment',\n",
       " 'hpo_gaussian_experiment',\n",
       " 'hpo_openml_final',\n",
       " 'outlier_hc',\n",
       " 'time_hc',\n",
       " 'hpo_n_clusters',\n",
       " 'hpo_classif_huge']"
      ]
     },
     "execution_count": 3,
     "metadata": {},
     "output_type": "execute_result"
    }
   ],
   "execution_count": 3
  },
  {
   "metadata": {
    "ExecuteTime": {
     "end_time": "2025-03-12T11:17:50.688987Z",
     "start_time": "2025-03-12T11:17:50.686789Z"
    }
   },
   "cell_type": "code",
   "source": [
    "experiments_names = [\n",
    "    'hpo_classif_experiment',\n",
    "]"
   ],
   "id": "cea0d3a3529f1961",
   "outputs": [],
   "execution_count": 4
  },
  {
   "metadata": {
    "ExecuteTime": {
     "end_time": "2025-03-12T11:17:51.371988Z",
     "start_time": "2025-03-12T11:17:51.369633Z"
    }
   },
   "cell_type": "code",
   "source": [
    "params_columns = [\n",
    "    'model_nickname',\n",
    "    'n_samples',\n",
    "    'n_features',\n",
    "    'pct_random',\n",
    "    'seed_unified',\n",
    "    'class_sep',\n",
    "    'n_random',\n",
    "    'n_informative',\n",
    "    'n_classes',\n",
    "    'n_trials'\n",
    "]"
   ],
   "id": "f204c9bff47207c7",
   "outputs": [],
   "execution_count": 5
  },
  {
   "metadata": {
    "ExecuteTime": {
     "end_time": "2025-03-12T11:17:51.951699Z",
     "start_time": "2025-03-12T11:17:51.948817Z"
    }
   },
   "cell_type": "code",
   "source": [
    "latest_metrics_columns = [\n",
    "    'fit_model_return_elapsed_time',\n",
    "    'max_memory_used',\n",
    "    'n_clusters_',\n",
    "    'rand_score',\n",
    "    'adjusted_rand',\n",
    "    'mutual_info',\n",
    "    'adjusted_mutual_info',\n",
    "    'normalized_mutual_info',\n",
    "    'homogeneity',\n",
    "    'completeness',\n",
    "    'v_measure',\n",
    "    'silhouette',\n",
    "    'calinski_harabasz_score',\n",
    "    'davies_bouldin_score',\n",
    "    'inertia_score',\n",
    "    'best_n_clusters_',\n",
    "    'best_rand_score',\n",
    "    'best_adjusted_rand',\n",
    "    'best_mutual_info',\n",
    "    'best_adjusted_mutual_info',\n",
    "    'best_normalized_mutual_info',\n",
    "    'best_homogeneity_completeness_v_measure',\n",
    "    'best_silhouette',\n",
    "    'best_calinski_harabasz_score',\n",
    "    'best_davies_bouldin_score',\n",
    "    'best_inertia_score',\n",
    "    'best_homogeneity',\n",
    "    'best_completeness',\n",
    "    'best_v_measure',\n",
    "]"
   ],
   "id": "d1922ac2b5d36e0a",
   "outputs": [],
   "execution_count": 6
  },
  {
   "metadata": {
    "ExecuteTime": {
     "end_time": "2025-03-12T11:17:52.664414Z",
     "start_time": "2025-03-12T11:17:52.662255Z"
    }
   },
   "cell_type": "code",
   "source": [
    "tags_columns = [\n",
    "    'raised_exception',\n",
    "    'EXCEPTION',\n",
    "    'parent_run_id',\n",
    "    'best_child_run_id',\n",
    "]"
   ],
   "id": "7eab31dd0a98b818",
   "outputs": [],
   "execution_count": 7
  },
  {
   "metadata": {
    "ExecuteTime": {
     "end_time": "2025-03-12T11:17:53.729414Z",
     "start_time": "2025-03-12T11:17:53.725931Z"
    }
   },
   "cell_type": "code",
   "source": [
    "# parameters of each model, they are saved as tags for the parent run\n",
    "parameters = {\n",
    "    'RecursiveClustering': ['components_size', 'repetitions', 'kmeans_n_clusters'],\n",
    "    'KMeans': ['n_clusters'],\n",
    "    'HDBSCAN': ['min_cluster_size'],\n",
    "    'DBSCAN': ['eps', 'min_samples'],\n",
    "    'AffinityPropagation': ['damping'],\n",
    "    'OPTICS': ['min_samples'],\n",
    "    'SpectralSubspaceRandomization': ['n_similarities', 'sampling_ratio', 'sc_n_clusters'],\n",
    "    'WardAgglomerativeClustering': ['n_clusters'],\n",
    "}\n",
    "all_model_parameters = [p for model, params in parameters.items() for p in params]\n",
    "all_model_parameters = list(set(all_model_parameters))\n",
    "for param in all_model_parameters:\n",
    "    tags_columns.append(param)"
   ],
   "id": "205b84e28b8732d9",
   "outputs": [],
   "execution_count": 8
  },
  {
   "metadata": {
    "ExecuteTime": {
     "end_time": "2025-03-12T11:21:36.672829Z",
     "start_time": "2025-03-12T11:18:02.123934Z"
    }
   },
   "cell_type": "code",
   "source": [
    "runs_columns = ['run_uuid', 'status', 'start_time', 'end_time']\n",
    "experiments_columns = []\n",
    "other_table = 'params'\n",
    "other_table_keys = params_columns\n",
    "df_params = get_df_runs_from_mlflow_sql(engine, runs_columns=runs_columns, experiments_columns=experiments_columns, experiments_names=experiments_names, other_table=other_table, other_table_keys=other_table_keys)\n",
    "df_latest_metrics = get_df_runs_from_mlflow_sql(engine, runs_columns=['run_uuid'], experiments_columns=experiments_columns, experiments_names=experiments_names, other_table='latest_metrics', other_table_keys=latest_metrics_columns)\n",
    "df_tags = get_df_runs_from_mlflow_sql(engine, runs_columns=['run_uuid'], experiments_columns=experiments_columns, experiments_names=experiments_names, other_table='tags', other_table_keys=tags_columns)"
   ],
   "id": "bced1b6a72f465bf",
   "outputs": [],
   "execution_count": 9
  },
  {
   "metadata": {
    "ExecuteTime": {
     "end_time": "2025-03-12T11:21:37.948363Z",
     "start_time": "2025-03-12T11:21:36.694494Z"
    }
   },
   "cell_type": "code",
   "source": [
    "df_runs_raw = df_params.join(df_latest_metrics)\n",
    "df_runs_raw = df_runs_raw.join(df_tags)"
   ],
   "id": "c50444f65375841",
   "outputs": [],
   "execution_count": 10
  },
  {
   "metadata": {
    "ExecuteTime": {
     "end_time": "2025-03-12T11:21:38.864604Z",
     "start_time": "2025-03-12T11:21:37.952148Z"
    }
   },
   "cell_type": "code",
   "source": [
    "df_runs_raw_parents = df_runs_raw.copy()\n",
    "df_runs_raw_parents = df_runs_raw_parents.loc[df_runs_raw_parents['parent_run_id'].isna()]"
   ],
   "id": "82a41d3cb5663248",
   "outputs": [],
   "execution_count": 11
  },
  {
   "metadata": {
    "ExecuteTime": {
     "end_time": "2025-03-12T11:21:38.921018Z",
     "start_time": "2025-03-12T11:21:38.886147Z"
    }
   },
   "cell_type": "code",
   "source": "df_runs_raw_parents",
   "id": "9ddec7ba314f0be0",
   "outputs": [
    {
     "data": {
      "text/plain": [
       "key                                 status     start_time       end_time  \\\n",
       "run_uuid                                                                   \n",
       "000aaf76d56747d59a35d53ba0fde4a4  FINISHED  1736980797626  1736985065851   \n",
       "000b291a142341289479933ddb447488  FINISHED  1736872145638  1736876711775   \n",
       "000f29a52641434a9a03ec3951ba12ba  FINISHED  1736889529482  1736910818353   \n",
       "00142f7d57c244c2b33da0cfa8480cbf  FINISHED  1737110379379  1737118843510   \n",
       "00151ab7956742b391a46ebbc769a9ff  FINISHED  1737069092293  1737078007873   \n",
       "...                                    ...            ...            ...   \n",
       "ffefb39686434d8c8b9c8916e427b0fc  FINISHED  1734336072705  1734522770474   \n",
       "fff03a5c0e4147b6a0177fdc3ff06b93  FINISHED  1734323313209  1734576031193   \n",
       "fff18439dc90490186780bf945fad9d7  FINISHED  1736889583158  1736898758202   \n",
       "fffb0b0c2daa4098a83b9be7f16f7b4d  FINISHED  1736980833830  1736984240086   \n",
       "fffca2fa92bb458d9d8b1f7bebdd6c64  FINISHED  1736688124951  1736801667659   \n",
       "\n",
       "key                              class_sep                   model_nickname  \\\n",
       "run_uuid                                                                      \n",
       "000aaf76d56747d59a35d53ba0fde4a4      50.0              AffinityPropagation   \n",
       "000b291a142341289479933ddb447488      50.0              RecursiveClustering   \n",
       "000f29a52641434a9a03ec3951ba12ba      50.0   AverageAgglomerativeClustering   \n",
       "00142f7d57c244c2b33da0cfa8480cbf      50.0                          HDBSCAN   \n",
       "00151ab7956742b391a46ebbc769a9ff      50.0                           DBSCAN   \n",
       "...                                    ...                              ...   \n",
       "ffefb39686434d8c8b9c8916e427b0fc      10.0                       KMeansProj   \n",
       "fff03a5c0e4147b6a0177fdc3ff06b93      10.0                           Clique   \n",
       "fff18439dc90490186780bf945fad9d7      50.0   AverageAgglomerativeClustering   \n",
       "fffb0b0c2daa4098a83b9be7f16f7b4d      50.0              AffinityPropagation   \n",
       "fffca2fa92bb458d9d8b1f7bebdd6c64      10.0  CompleteAgglomerativeClustering   \n",
       "\n",
       "key                              n_classes n_features n_informative n_random  \\\n",
       "run_uuid                                                                       \n",
       "000aaf76d56747d59a35d53ba0fde4a4         5      10000             2       16   \n",
       "000b291a142341289479933ddb447488         5      10000             2       16   \n",
       "000f29a52641434a9a03ec3951ba12ba         5      10000             2       16   \n",
       "00142f7d57c244c2b33da0cfa8480cbf         5      10000             2       16   \n",
       "00151ab7956742b391a46ebbc769a9ff         5        100             2       16   \n",
       "...                                    ...        ...           ...      ...   \n",
       "ffefb39686434d8c8b9c8916e427b0fc         5        100             2       16   \n",
       "fff03a5c0e4147b6a0177fdc3ff06b93         5        100             2       16   \n",
       "fff18439dc90490186780bf945fad9d7         5       1000             2       16   \n",
       "fffb0b0c2daa4098a83b9be7f16f7b4d         5       1000             2       16   \n",
       "fffca2fa92bb458d9d8b1f7bebdd6c64         5       1000             2       16   \n",
       "\n",
       "key                              n_samples  ... kmeans_n_clusters  \\\n",
       "run_uuid                                    ...                     \n",
       "000aaf76d56747d59a35d53ba0fde4a4       100  ...               NaN   \n",
       "000b291a142341289479933ddb447488      1000  ...                 2   \n",
       "000f29a52641434a9a03ec3951ba12ba     10000  ...               NaN   \n",
       "00142f7d57c244c2b33da0cfa8480cbf       100  ...               NaN   \n",
       "00151ab7956742b391a46ebbc769a9ff     10000  ...               NaN   \n",
       "...                                    ...  ...               ...   \n",
       "ffefb39686434d8c8b9c8916e427b0fc      1000  ...               NaN   \n",
       "fff03a5c0e4147b6a0177fdc3ff06b93      1000  ...               NaN   \n",
       "fff18439dc90490186780bf945fad9d7      1000  ...               NaN   \n",
       "fffb0b0c2daa4098a83b9be7f16f7b4d       100  ...               NaN   \n",
       "fffca2fa92bb458d9d8b1f7bebdd6c64     10000  ...               NaN   \n",
       "\n",
       "key                              min_cluster_size min_samples  n_clusters  \\\n",
       "run_uuid                                                                    \n",
       "000aaf76d56747d59a35d53ba0fde4a4              NaN         NaN         NaN   \n",
       "000b291a142341289479933ddb447488              NaN         NaN         NaN   \n",
       "000f29a52641434a9a03ec3951ba12ba              NaN         NaN           8   \n",
       "00142f7d57c244c2b33da0cfa8480cbf                6         NaN         NaN   \n",
       "00151ab7956742b391a46ebbc769a9ff              NaN          10         NaN   \n",
       "...                                           ...         ...         ...   \n",
       "ffefb39686434d8c8b9c8916e427b0fc              NaN         NaN           2   \n",
       "fff03a5c0e4147b6a0177fdc3ff06b93              NaN         NaN         NaN   \n",
       "fff18439dc90490186780bf945fad9d7              NaN         NaN           5   \n",
       "fffb0b0c2daa4098a83b9be7f16f7b4d              NaN         NaN         NaN   \n",
       "fffca2fa92bb458d9d8b1f7bebdd6c64              NaN         NaN           2   \n",
       "\n",
       "key                               n_similarities  parent_run_id  \\\n",
       "run_uuid                                                          \n",
       "000aaf76d56747d59a35d53ba0fde4a4             NaN            NaN   \n",
       "000b291a142341289479933ddb447488             NaN            NaN   \n",
       "000f29a52641434a9a03ec3951ba12ba             NaN            NaN   \n",
       "00142f7d57c244c2b33da0cfa8480cbf             NaN            NaN   \n",
       "00151ab7956742b391a46ebbc769a9ff             NaN            NaN   \n",
       "...                                          ...            ...   \n",
       "ffefb39686434d8c8b9c8916e427b0fc             NaN            NaN   \n",
       "fff03a5c0e4147b6a0177fdc3ff06b93             NaN            NaN   \n",
       "fff18439dc90490186780bf945fad9d7             NaN            NaN   \n",
       "fffb0b0c2daa4098a83b9be7f16f7b4d             NaN            NaN   \n",
       "fffca2fa92bb458d9d8b1f7bebdd6c64             NaN            NaN   \n",
       "\n",
       "key                               raised_exception  repetitions  \\\n",
       "run_uuid                                                          \n",
       "000aaf76d56747d59a35d53ba0fde4a4             False          NaN   \n",
       "000b291a142341289479933ddb447488             False           10   \n",
       "000f29a52641434a9a03ec3951ba12ba             False          NaN   \n",
       "00142f7d57c244c2b33da0cfa8480cbf             False          NaN   \n",
       "00151ab7956742b391a46ebbc769a9ff             False          NaN   \n",
       "...                                            ...          ...   \n",
       "ffefb39686434d8c8b9c8916e427b0fc             False          NaN   \n",
       "fff03a5c0e4147b6a0177fdc3ff06b93             False          NaN   \n",
       "fff18439dc90490186780bf945fad9d7             False          NaN   \n",
       "fffb0b0c2daa4098a83b9be7f16f7b4d             False          NaN   \n",
       "fffca2fa92bb458d9d8b1f7bebdd6c64             False          NaN   \n",
       "\n",
       "key                               sampling_ratio  sc_n_clusters  \n",
       "run_uuid                                                         \n",
       "000aaf76d56747d59a35d53ba0fde4a4             NaN            NaN  \n",
       "000b291a142341289479933ddb447488             NaN            NaN  \n",
       "000f29a52641434a9a03ec3951ba12ba             NaN            NaN  \n",
       "00142f7d57c244c2b33da0cfa8480cbf             NaN            NaN  \n",
       "00151ab7956742b391a46ebbc769a9ff             NaN            NaN  \n",
       "...                                          ...            ...  \n",
       "ffefb39686434d8c8b9c8916e427b0fc             NaN            NaN  \n",
       "fff03a5c0e4147b6a0177fdc3ff06b93             NaN            NaN  \n",
       "fff18439dc90490186780bf945fad9d7             NaN            NaN  \n",
       "fffb0b0c2daa4098a83b9be7f16f7b4d             NaN            NaN  \n",
       "fffca2fa92bb458d9d8b1f7bebdd6c64             NaN            NaN  \n",
       "\n",
       "[13994 rows x 56 columns]"
      ],
      "text/html": [
       "<div>\n",
       "<style scoped>\n",
       "    .dataframe tbody tr th:only-of-type {\n",
       "        vertical-align: middle;\n",
       "    }\n",
       "\n",
       "    .dataframe tbody tr th {\n",
       "        vertical-align: top;\n",
       "    }\n",
       "\n",
       "    .dataframe thead th {\n",
       "        text-align: right;\n",
       "    }\n",
       "</style>\n",
       "<table border=\"1\" class=\"dataframe\">\n",
       "  <thead>\n",
       "    <tr style=\"text-align: right;\">\n",
       "      <th>key</th>\n",
       "      <th>status</th>\n",
       "      <th>start_time</th>\n",
       "      <th>end_time</th>\n",
       "      <th>class_sep</th>\n",
       "      <th>model_nickname</th>\n",
       "      <th>n_classes</th>\n",
       "      <th>n_features</th>\n",
       "      <th>n_informative</th>\n",
       "      <th>n_random</th>\n",
       "      <th>n_samples</th>\n",
       "      <th>...</th>\n",
       "      <th>kmeans_n_clusters</th>\n",
       "      <th>min_cluster_size</th>\n",
       "      <th>min_samples</th>\n",
       "      <th>n_clusters</th>\n",
       "      <th>n_similarities</th>\n",
       "      <th>parent_run_id</th>\n",
       "      <th>raised_exception</th>\n",
       "      <th>repetitions</th>\n",
       "      <th>sampling_ratio</th>\n",
       "      <th>sc_n_clusters</th>\n",
       "    </tr>\n",
       "    <tr>\n",
       "      <th>run_uuid</th>\n",
       "      <th></th>\n",
       "      <th></th>\n",
       "      <th></th>\n",
       "      <th></th>\n",
       "      <th></th>\n",
       "      <th></th>\n",
       "      <th></th>\n",
       "      <th></th>\n",
       "      <th></th>\n",
       "      <th></th>\n",
       "      <th></th>\n",
       "      <th></th>\n",
       "      <th></th>\n",
       "      <th></th>\n",
       "      <th></th>\n",
       "      <th></th>\n",
       "      <th></th>\n",
       "      <th></th>\n",
       "      <th></th>\n",
       "      <th></th>\n",
       "      <th></th>\n",
       "    </tr>\n",
       "  </thead>\n",
       "  <tbody>\n",
       "    <tr>\n",
       "      <th>000aaf76d56747d59a35d53ba0fde4a4</th>\n",
       "      <td>FINISHED</td>\n",
       "      <td>1736980797626</td>\n",
       "      <td>1736985065851</td>\n",
       "      <td>50.0</td>\n",
       "      <td>AffinityPropagation</td>\n",
       "      <td>5</td>\n",
       "      <td>10000</td>\n",
       "      <td>2</td>\n",
       "      <td>16</td>\n",
       "      <td>100</td>\n",
       "      <td>...</td>\n",
       "      <td>NaN</td>\n",
       "      <td>NaN</td>\n",
       "      <td>NaN</td>\n",
       "      <td>NaN</td>\n",
       "      <td>NaN</td>\n",
       "      <td>NaN</td>\n",
       "      <td>False</td>\n",
       "      <td>NaN</td>\n",
       "      <td>NaN</td>\n",
       "      <td>NaN</td>\n",
       "    </tr>\n",
       "    <tr>\n",
       "      <th>000b291a142341289479933ddb447488</th>\n",
       "      <td>FINISHED</td>\n",
       "      <td>1736872145638</td>\n",
       "      <td>1736876711775</td>\n",
       "      <td>50.0</td>\n",
       "      <td>RecursiveClustering</td>\n",
       "      <td>5</td>\n",
       "      <td>10000</td>\n",
       "      <td>2</td>\n",
       "      <td>16</td>\n",
       "      <td>1000</td>\n",
       "      <td>...</td>\n",
       "      <td>2</td>\n",
       "      <td>NaN</td>\n",
       "      <td>NaN</td>\n",
       "      <td>NaN</td>\n",
       "      <td>NaN</td>\n",
       "      <td>NaN</td>\n",
       "      <td>False</td>\n",
       "      <td>10</td>\n",
       "      <td>NaN</td>\n",
       "      <td>NaN</td>\n",
       "    </tr>\n",
       "    <tr>\n",
       "      <th>000f29a52641434a9a03ec3951ba12ba</th>\n",
       "      <td>FINISHED</td>\n",
       "      <td>1736889529482</td>\n",
       "      <td>1736910818353</td>\n",
       "      <td>50.0</td>\n",
       "      <td>AverageAgglomerativeClustering</td>\n",
       "      <td>5</td>\n",
       "      <td>10000</td>\n",
       "      <td>2</td>\n",
       "      <td>16</td>\n",
       "      <td>10000</td>\n",
       "      <td>...</td>\n",
       "      <td>NaN</td>\n",
       "      <td>NaN</td>\n",
       "      <td>NaN</td>\n",
       "      <td>8</td>\n",
       "      <td>NaN</td>\n",
       "      <td>NaN</td>\n",
       "      <td>False</td>\n",
       "      <td>NaN</td>\n",
       "      <td>NaN</td>\n",
       "      <td>NaN</td>\n",
       "    </tr>\n",
       "    <tr>\n",
       "      <th>00142f7d57c244c2b33da0cfa8480cbf</th>\n",
       "      <td>FINISHED</td>\n",
       "      <td>1737110379379</td>\n",
       "      <td>1737118843510</td>\n",
       "      <td>50.0</td>\n",
       "      <td>HDBSCAN</td>\n",
       "      <td>5</td>\n",
       "      <td>10000</td>\n",
       "      <td>2</td>\n",
       "      <td>16</td>\n",
       "      <td>100</td>\n",
       "      <td>...</td>\n",
       "      <td>NaN</td>\n",
       "      <td>6</td>\n",
       "      <td>NaN</td>\n",
       "      <td>NaN</td>\n",
       "      <td>NaN</td>\n",
       "      <td>NaN</td>\n",
       "      <td>False</td>\n",
       "      <td>NaN</td>\n",
       "      <td>NaN</td>\n",
       "      <td>NaN</td>\n",
       "    </tr>\n",
       "    <tr>\n",
       "      <th>00151ab7956742b391a46ebbc769a9ff</th>\n",
       "      <td>FINISHED</td>\n",
       "      <td>1737069092293</td>\n",
       "      <td>1737078007873</td>\n",
       "      <td>50.0</td>\n",
       "      <td>DBSCAN</td>\n",
       "      <td>5</td>\n",
       "      <td>100</td>\n",
       "      <td>2</td>\n",
       "      <td>16</td>\n",
       "      <td>10000</td>\n",
       "      <td>...</td>\n",
       "      <td>NaN</td>\n",
       "      <td>NaN</td>\n",
       "      <td>10</td>\n",
       "      <td>NaN</td>\n",
       "      <td>NaN</td>\n",
       "      <td>NaN</td>\n",
       "      <td>False</td>\n",
       "      <td>NaN</td>\n",
       "      <td>NaN</td>\n",
       "      <td>NaN</td>\n",
       "    </tr>\n",
       "    <tr>\n",
       "      <th>...</th>\n",
       "      <td>...</td>\n",
       "      <td>...</td>\n",
       "      <td>...</td>\n",
       "      <td>...</td>\n",
       "      <td>...</td>\n",
       "      <td>...</td>\n",
       "      <td>...</td>\n",
       "      <td>...</td>\n",
       "      <td>...</td>\n",
       "      <td>...</td>\n",
       "      <td>...</td>\n",
       "      <td>...</td>\n",
       "      <td>...</td>\n",
       "      <td>...</td>\n",
       "      <td>...</td>\n",
       "      <td>...</td>\n",
       "      <td>...</td>\n",
       "      <td>...</td>\n",
       "      <td>...</td>\n",
       "      <td>...</td>\n",
       "      <td>...</td>\n",
       "    </tr>\n",
       "    <tr>\n",
       "      <th>ffefb39686434d8c8b9c8916e427b0fc</th>\n",
       "      <td>FINISHED</td>\n",
       "      <td>1734336072705</td>\n",
       "      <td>1734522770474</td>\n",
       "      <td>10.0</td>\n",
       "      <td>KMeansProj</td>\n",
       "      <td>5</td>\n",
       "      <td>100</td>\n",
       "      <td>2</td>\n",
       "      <td>16</td>\n",
       "      <td>1000</td>\n",
       "      <td>...</td>\n",
       "      <td>NaN</td>\n",
       "      <td>NaN</td>\n",
       "      <td>NaN</td>\n",
       "      <td>2</td>\n",
       "      <td>NaN</td>\n",
       "      <td>NaN</td>\n",
       "      <td>False</td>\n",
       "      <td>NaN</td>\n",
       "      <td>NaN</td>\n",
       "      <td>NaN</td>\n",
       "    </tr>\n",
       "    <tr>\n",
       "      <th>fff03a5c0e4147b6a0177fdc3ff06b93</th>\n",
       "      <td>FINISHED</td>\n",
       "      <td>1734323313209</td>\n",
       "      <td>1734576031193</td>\n",
       "      <td>10.0</td>\n",
       "      <td>Clique</td>\n",
       "      <td>5</td>\n",
       "      <td>100</td>\n",
       "      <td>2</td>\n",
       "      <td>16</td>\n",
       "      <td>1000</td>\n",
       "      <td>...</td>\n",
       "      <td>NaN</td>\n",
       "      <td>NaN</td>\n",
       "      <td>NaN</td>\n",
       "      <td>NaN</td>\n",
       "      <td>NaN</td>\n",
       "      <td>NaN</td>\n",
       "      <td>False</td>\n",
       "      <td>NaN</td>\n",
       "      <td>NaN</td>\n",
       "      <td>NaN</td>\n",
       "    </tr>\n",
       "    <tr>\n",
       "      <th>fff18439dc90490186780bf945fad9d7</th>\n",
       "      <td>FINISHED</td>\n",
       "      <td>1736889583158</td>\n",
       "      <td>1736898758202</td>\n",
       "      <td>50.0</td>\n",
       "      <td>AverageAgglomerativeClustering</td>\n",
       "      <td>5</td>\n",
       "      <td>1000</td>\n",
       "      <td>2</td>\n",
       "      <td>16</td>\n",
       "      <td>1000</td>\n",
       "      <td>...</td>\n",
       "      <td>NaN</td>\n",
       "      <td>NaN</td>\n",
       "      <td>NaN</td>\n",
       "      <td>5</td>\n",
       "      <td>NaN</td>\n",
       "      <td>NaN</td>\n",
       "      <td>False</td>\n",
       "      <td>NaN</td>\n",
       "      <td>NaN</td>\n",
       "      <td>NaN</td>\n",
       "    </tr>\n",
       "    <tr>\n",
       "      <th>fffb0b0c2daa4098a83b9be7f16f7b4d</th>\n",
       "      <td>FINISHED</td>\n",
       "      <td>1736980833830</td>\n",
       "      <td>1736984240086</td>\n",
       "      <td>50.0</td>\n",
       "      <td>AffinityPropagation</td>\n",
       "      <td>5</td>\n",
       "      <td>1000</td>\n",
       "      <td>2</td>\n",
       "      <td>16</td>\n",
       "      <td>100</td>\n",
       "      <td>...</td>\n",
       "      <td>NaN</td>\n",
       "      <td>NaN</td>\n",
       "      <td>NaN</td>\n",
       "      <td>NaN</td>\n",
       "      <td>NaN</td>\n",
       "      <td>NaN</td>\n",
       "      <td>False</td>\n",
       "      <td>NaN</td>\n",
       "      <td>NaN</td>\n",
       "      <td>NaN</td>\n",
       "    </tr>\n",
       "    <tr>\n",
       "      <th>fffca2fa92bb458d9d8b1f7bebdd6c64</th>\n",
       "      <td>FINISHED</td>\n",
       "      <td>1736688124951</td>\n",
       "      <td>1736801667659</td>\n",
       "      <td>10.0</td>\n",
       "      <td>CompleteAgglomerativeClustering</td>\n",
       "      <td>5</td>\n",
       "      <td>1000</td>\n",
       "      <td>2</td>\n",
       "      <td>16</td>\n",
       "      <td>10000</td>\n",
       "      <td>...</td>\n",
       "      <td>NaN</td>\n",
       "      <td>NaN</td>\n",
       "      <td>NaN</td>\n",
       "      <td>2</td>\n",
       "      <td>NaN</td>\n",
       "      <td>NaN</td>\n",
       "      <td>False</td>\n",
       "      <td>NaN</td>\n",
       "      <td>NaN</td>\n",
       "      <td>NaN</td>\n",
       "    </tr>\n",
       "  </tbody>\n",
       "</table>\n",
       "<p>13994 rows × 56 columns</p>\n",
       "</div>"
      ]
     },
     "execution_count": 12,
     "metadata": {},
     "output_type": "execute_result"
    }
   ],
   "execution_count": 12
  },
  {
   "metadata": {
    "ExecuteTime": {
     "end_time": "2025-03-12T11:21:38.989385Z",
     "start_time": "2025-03-12T11:21:38.973299Z"
    }
   },
   "cell_type": "code",
   "source": [
    "# Separate our method with two types n_trials\n",
    "df_runs_parents = df_runs_raw_parents.copy()\n",
    "df_runs_parents.loc[(df_runs_parents['model_nickname'] == 'RecursiveClustering') & (df_runs_parents['n_trials'] == '20'), 'model_nickname'] = 'RecursiveClustering_20'"
   ],
   "id": "ebc297b94654a85b",
   "outputs": [],
   "execution_count": 13
  },
  {
   "metadata": {},
   "cell_type": "markdown",
   "source": "## Delete duplicate runs (if any) and complete some models that cannot run with some datasets",
   "id": "ecd17b040cba132a"
  },
  {
   "metadata": {
    "ExecuteTime": {
     "end_time": "2025-03-12T11:22:02.573203Z",
     "start_time": "2025-03-12T11:22:02.519839Z"
    }
   },
   "cell_type": "code",
   "source": [
    "non_duplicate_columns = [\n",
    "    'model_nickname',\n",
    "    'n_samples',\n",
    "    'n_features',\n",
    "    'pct_random',\n",
    "    'seed_unified',\n",
    "    'class_sep',\n",
    "    'n_random',\n",
    "    'n_informative',\n",
    "    'n_classes'\n",
    "]\n",
    "df_runs_parents = df_runs_parents.dropna(axis=0, how='all', subset=['best_adjusted_rand']).copy()\n",
    "df_runs_parents = df_runs_parents.loc[(~df_runs_parents.duplicated(non_duplicate_columns))]"
   ],
   "id": "f5e61950dd1802cb",
   "outputs": [],
   "execution_count": 14
  },
  {
   "metadata": {},
   "cell_type": "markdown",
   "source": "# Missing",
   "id": "b716d3a09a7f49fe"
  },
  {
   "metadata": {
    "ExecuteTime": {
     "end_time": "2025-03-12T11:22:03.669975Z",
     "start_time": "2025-03-12T11:22:03.661760Z"
    }
   },
   "cell_type": "code",
   "source": "df_runs_parents['model_nickname'].unique().tolist()",
   "id": "89acc7cbd8593f57",
   "outputs": [
    {
     "data": {
      "text/plain": [
       "['AffinityPropagation',\n",
       " 'RecursiveClustering',\n",
       " 'AverageAgglomerativeClustering',\n",
       " 'HDBSCAN',\n",
       " 'DBSCAN',\n",
       " 'KMeansProj',\n",
       " 'OPTICS',\n",
       " 'SpectralSubspaceRandomization',\n",
       " 'Proclus',\n",
       " 'WardAgglomerativeClustering',\n",
       " 'KMeans',\n",
       " 'SingleAgglomerativeClustering',\n",
       " 'SpectralClustering',\n",
       " 'CompleteAgglomerativeClustering',\n",
       " 'IRFLLRR',\n",
       " 'Clique',\n",
       " 'RecursiveClustering_20']"
      ]
     },
     "execution_count": 15,
     "metadata": {},
     "output_type": "execute_result"
    }
   ],
   "execution_count": 15
  },
  {
   "metadata": {
    "ExecuteTime": {
     "end_time": "2025-03-12T11:22:04.634587Z",
     "start_time": "2025-03-12T11:22:04.631960Z"
    }
   },
   "cell_type": "code",
   "source": [
    "non_duplicate_columns = [\n",
    "    'model_nickname',\n",
    "    'n_samples',\n",
    "    'n_features',\n",
    "    'pct_random',\n",
    "    'seed_unified',\n",
    "    'class_sep',\n",
    "]"
   ],
   "id": "d4c90c14043d8b0e",
   "outputs": [],
   "execution_count": 16
  },
  {
   "metadata": {
    "ExecuteTime": {
     "end_time": "2025-03-12T11:33:56.415215Z",
     "start_time": "2025-03-12T11:33:56.373797Z"
    }
   },
   "cell_type": "code",
   "source": [
    "n_samples = ['1000']\n",
    "n_features = ['10000']\n",
    "pct_random = ['0.0']\n",
    "seed_unified = [f'{i}' for i in range(10)]\n",
    "class_sep = ['10.0', '20.0', '30.0', '40.0', '50.0', '100.0']\n",
    "model_nickname = [\n",
    "    'WardAgglomerativeClustering',\n",
    "    'KMeans',\n",
    "    'DBSCAN',\n",
    "    'HDBSCAN',\n",
    "    'SpectralSubspaceRandomization',\n",
    "    'RecursiveClustering',\n",
    "    'RecursiveClustering_20',\n",
    "    'OPTICS',\n",
    "    # 'KMeansProj',\n",
    "    # 'IRFLLRR',\n",
    "    # 'Clique',\n",
    "    # 'SingleAgglomerativeClustering',\n",
    "    # 'SpectralClustering',\n",
    "    # 'Proclus',\n",
    "    # 'CompleteAgglomerativeClustering',\n",
    "    # 'AverageAgglomerativeClustering',\n",
    "    'AffinityPropagation'\n",
    "]\n",
    "columns_names = non_duplicate_columns\n",
    "should_contain_values = [model_nickname, n_samples, n_features, pct_random, seed_unified, class_sep]\n",
    "df_missing = get_missing_entries(df_runs_parents, columns_names, should_contain_values)"
   ],
   "id": "b0ff278b00c99f3e",
   "outputs": [],
   "execution_count": 42
  },
  {
   "metadata": {
    "ExecuteTime": {
     "end_time": "2025-03-12T11:33:56.739473Z",
     "start_time": "2025-03-12T11:33:56.735273Z"
    }
   },
   "cell_type": "code",
   "source": "df_missing",
   "id": "78cac58f8d5b6399",
   "outputs": [
    {
     "data": {
      "text/plain": [
       "Empty DataFrame\n",
       "Columns: [model_nickname, n_samples, n_features, pct_random, seed_unified, class_sep]\n",
       "Index: []"
      ],
      "text/html": [
       "<div>\n",
       "<style scoped>\n",
       "    .dataframe tbody tr th:only-of-type {\n",
       "        vertical-align: middle;\n",
       "    }\n",
       "\n",
       "    .dataframe tbody tr th {\n",
       "        vertical-align: top;\n",
       "    }\n",
       "\n",
       "    .dataframe thead th {\n",
       "        text-align: right;\n",
       "    }\n",
       "</style>\n",
       "<table border=\"1\" class=\"dataframe\">\n",
       "  <thead>\n",
       "    <tr style=\"text-align: right;\">\n",
       "      <th></th>\n",
       "      <th>model_nickname</th>\n",
       "      <th>n_samples</th>\n",
       "      <th>n_features</th>\n",
       "      <th>pct_random</th>\n",
       "      <th>seed_unified</th>\n",
       "      <th>class_sep</th>\n",
       "    </tr>\n",
       "  </thead>\n",
       "  <tbody>\n",
       "  </tbody>\n",
       "</table>\n",
       "</div>"
      ]
     },
     "execution_count": 43,
     "metadata": {},
     "output_type": "execute_result"
    }
   ],
   "execution_count": 43
  },
  {
   "metadata": {},
   "cell_type": "markdown",
   "source": "# Get common combinations",
   "id": "9ca0f377ce4a1950"
  },
  {
   "metadata": {
    "ExecuteTime": {
     "end_time": "2025-03-12T11:28:14.660454Z",
     "start_time": "2025-03-12T11:28:14.576667Z"
    }
   },
   "cell_type": "code",
   "source": [
    "model_nickname = [\n",
    "    'WardAgglomerativeClustering',\n",
    "    'KMeans',\n",
    "    'DBSCAN',\n",
    "    'HDBSCAN',\n",
    "    'SpectralSubspaceRandomization',\n",
    "    'RecursiveClustering',\n",
    "    'RecursiveClustering_20',\n",
    "    'OPTICS',\n",
    "    # 'KMeansProj',\n",
    "    # 'IRFLLRR',\n",
    "    # 'Clique',\n",
    "    # 'SingleAgglomerativeClustering',\n",
    "    # 'SpectralClustering',\n",
    "    # 'Proclus',\n",
    "    # 'CompleteAgglomerativeClustering',\n",
    "    # 'AverageAgglomerativeClustering',\n",
    "    'AffinityPropagation'\n",
    "]\n",
    "df = df_runs_parents.copy()\n",
    "df = df.loc[df['model_nickname'].isin(model_nickname)]\n",
    "column = 'model_nickname'\n",
    "combination_columns = [\n",
    "    'n_samples',\n",
    "    'n_features',\n",
    "    'pct_random',\n",
    "    'seed_unified',\n",
    "    'class_sep',\n",
    "]\n",
    "common_combinations = get_common_combinations(df, column, combination_columns)"
   ],
   "id": "2dfd9680b291dae9",
   "outputs": [],
   "execution_count": 27
  },
  {
   "metadata": {
    "ExecuteTime": {
     "end_time": "2025-03-12T11:28:15.239621Z",
     "start_time": "2025-03-12T11:28:15.217530Z"
    }
   },
   "cell_type": "code",
   "source": "df_common = get_df_with_combinations(df, combination_columns, common_combinations)",
   "id": "9952f9233ca2fad6",
   "outputs": [],
   "execution_count": 28
  },
  {
   "metadata": {
    "ExecuteTime": {
     "end_time": "2025-03-12T11:28:18.168715Z",
     "start_time": "2025-03-12T11:28:18.158321Z"
    }
   },
   "cell_type": "code",
   "source": [
    "df_common['n_samples'] = df_common['n_samples'].astype(int)\n",
    "df_common['n_features'] = df_common['n_features'].astype(int)\n",
    "df_common['pct_random'] = df_common['pct_random'].astype(float)\n",
    "df_common['class_sep'] = df_common['class_sep'].astype(float)\n",
    "df_common['seed_unified'] = df_common['seed_unified'].astype(int)\n",
    "df_common['n_classes'] = df_common['n_classes'].astype(int)\n",
    "for param in all_model_parameters:\n",
    "    df_common[param] = df_common[param].astype(float)"
   ],
   "id": "a27f46474e554392",
   "outputs": [],
   "execution_count": 29
  },
  {
   "metadata": {},
   "cell_type": "markdown",
   "source": "# Plots",
   "id": "27231ddc85831038"
  },
  {
   "metadata": {
    "ExecuteTime": {
     "end_time": "2025-03-12T11:35:08.923848Z",
     "start_time": "2025-03-12T11:35:07.447846Z"
    }
   },
   "cell_type": "code",
   "source": [
    "df = df_common.copy()\n",
    "n_features = 10000\n",
    "n_samples = 1000\n",
    "pct_random = 0.0\n",
    "models_names = {\n",
    "    # 'RecursiveClustering': 'CoHiRF',\n",
    "    'RecursiveClustering_20': 'CoHiRF',\n",
    "    'KMeans': 'K-Means',\n",
    "    'HDBSCAN': 'HDBSCAN',\n",
    "    'DBSCAN': 'DBSCAN',\n",
    "    'AffinityPropagation': 'Affinity Propagation',\n",
    "    'OPTICS': 'OPTICS',\n",
    "    'SpectralSubspaceRandomization': 'SC-SRGF',\n",
    "    'WardAgglomerativeClustering': \"Ward's Method\",\n",
    "}\n",
    "df = df.loc[df['pct_random']==pct_random]\n",
    "df = df.loc[~df['class_sep'].isin([10, 20])]\n",
    "df = df.loc[df['model_nickname'].isin(['RecursiveClustering_20', 'KMeans', 'HDBSCAN', 'AffinityPropagation', 'OPTICS', 'SpectralSubspaceRandomization', 'WardAgglomerativeClustering'])]\n",
    "df = df.replace({'model_nickname': models_names})\n",
    "df = df.sort_values(by='model_nickname')\n",
    "df = df.rename(columns={'fit_model_return_elapsed_time': 'Time (s)', 'max_memory_used': 'Memory (MB)', 'n_samples': 'Number of samples', 'n_features': 'Number of features', 'model_nickname': 'Model', 'class_sep': 'Class Separation', 'pct_random': '% Random Features', 'best_adjusted_rand' : 'ARI'})\n",
    "plt.style.use('default')\n",
    "with mpl.rc_context(rc={\n",
    "    'figure.constrained_layout.use': True, \n",
    "    'savefig.bbox': 'tight', \n",
    "    'figure.figsize': (10, 6),\n",
    "    'legend.loc': 'upper left',\n",
    "    'legend.frameon': False,\n",
    "    'font.size': 12,\n",
    "    # 'font.family': 'serif',\n",
    "    # 'font.serif': 'Times',\n",
    "    'text.color': 'black',\n",
    "    'grid.color': 'black',\n",
    "    'grid.alpha': 0.5,\n",
    "}):\n",
    "    fig, axs = plt.subplots(2, 1)\n",
    "    axs = axs.flatten()\n",
    "    df_plot = df.copy()\n",
    "    df_plot = df_plot.loc[df_plot['Number of features']==n_features]\n",
    "    df_plot = df_plot.loc[df_plot['Number of samples']==n_samples]\n",
    "    ax = sns.lineplot(data=df_plot, x='Class Separation', y='Time (s)', hue='Model', style='Model', markers=True, errorbar='ci', ax=axs[0])\n",
    "    ax.legend().set_visible(False)\n",
    "    ax.set_yscale('log')\n",
    "    ax2 = sns.lineplot(data=df_plot, x='Class Separation', y='ARI', hue='Model', style='Model', markers=True, errorbar='ci', ax=axs[1])\n",
    "    ax2.legend().set_visible(False)\n",
    "    ax.legend(title=None, fontsize=12, bbox_to_anchor=(0.0, 1.3), ncols=4)\n",
    "    plt.savefig(results_dir / f'hypercube_n-samples{n_samples}_n-features{n_features}_pct-random{pct_random}_with_time.pdf')\n",
    "    plt.show()"
   ],
   "id": "b6c1aef21c7303cc",
   "outputs": [
    {
     "data": {
      "text/plain": [
       "<Figure size 1000x600 with 2 Axes>"
      ],
      "image/png": "[encoded data removed]"
     },
     "metadata": {},
     "output_type": "display_data"
    }
   ],
   "execution_count": 47
  },
  {
   "metadata": {},
   "cell_type": "markdown",
   "source": "# Debug and explore",
   "id": "2f06e50722b93f6f"
  },
  {
   "metadata": {},
   "cell_type": "code",
   "outputs": [],
   "execution_count": null,
   "source": [
    "df = df_runs_raw.copy()\n",
    "df = df.loc[df['status'] == 'FAILED']"
   ],
   "id": "6127cb5e205b455a"
  },
  {
   "metadata": {},
   "cell_type": "code",
   "outputs": [],
   "execution_count": null,
   "source": "df['EXCEPTION'].unique()",
   "id": "857ed474cdd3c6a2"
  },
  {
   "metadata": {},
   "cell_type": "code",
   "outputs": [],
   "execution_count": null,
   "source": [
    "df = df_runs_raw_parents.copy()\n",
    "df = df.loc[df['status'] == 'FAILED']"
   ],
   "id": "59a8fdd806d43393"
  },
  {
   "metadata": {},
   "cell_type": "code",
   "outputs": [],
   "execution_count": null,
   "source": "df",
   "id": "254274fe30308431"
  },
  {
   "metadata": {},
   "cell_type": "code",
   "outputs": [],
   "execution_count": null,
   "source": "parent_run_ids = list(df.index)",
   "id": "d68ef7ba0fccb431"
  },
  {
   "metadata": {},
   "cell_type": "code",
   "outputs": [],
   "execution_count": null,
   "source": "parent_run_ids",
   "id": "108bebc1e89ed514"
  },
  {
   "metadata": {},
   "cell_type": "code",
   "outputs": [],
   "execution_count": null,
   "source": [
    "df = df_runs_raw.copy()\n",
    "df = df.loc[df['parent_run_id'].isin(parent_run_ids)]"
   ],
   "id": "d897b9fa6cc720a1"
  },
  {
   "metadata": {},
   "cell_type": "code",
   "outputs": [],
   "execution_count": null,
   "source": "child_run_ids = list(df.index)",
   "id": "3485ea488be685ab"
  },
  {
   "metadata": {},
   "cell_type": "code",
   "outputs": [],
   "execution_count": null,
   "source": "runs_to_delete = child_run_ids",
   "id": "192ea1eae5ed09e3"
  },
  {
   "metadata": {},
   "cell_type": "code",
   "outputs": [],
   "execution_count": null,
   "source": "print(runs_to_delete, len(runs_to_delete))",
   "id": "3a7a06234c6e5bca"
  },
  {
   "metadata": {},
   "cell_type": "code",
   "outputs": [],
   "execution_count": null,
   "source": [
    "run_uuid_query = [f\"'{run_id}'\" for run_id in runs_to_delete]\n",
    "run_uuid_query = ', '.join(run_uuid_query)"
   ],
   "id": "2f559ad58796b3d4"
  },
  {
   "metadata": {},
   "cell_type": "code",
   "outputs": [],
   "execution_count": null,
   "source": [
    "query = f\"\"\"\n",
    "UPDATE runs\n",
    "SET lifecycle_stage = 'deleted'\n",
    "WHERE run_uuid IN ({run_uuid_query}) \n",
    "\"\"\"\n",
    "with engine.begin() as conn:\n",
    "    conn.execute(text(query))"
   ],
   "id": "e61fe0ba79449323"
  },
  {
   "metadata": {},
   "cell_type": "markdown",
   "source": [
    "for i, row in df_runs_raw.iterrows():\n",
    "    run_id = row.run_id\n",
    "    model_name = row['params.model_name']\n",
    "    with mlflow.start_run(run_id) as run:\n",
    "        mlflow.log_param('model_nickname', model_name)    "
   ],
   "id": "28f8711480438b3c"
  }
 ],
 "metadata": {
  "kernelspec": {
   "display_name": "recursive_clustering",
   "language": "python",
   "name": "recursive_clustering"
  },
  "language_info": {
   "codemirror_mode": {
    "name": "ipython",
    "version": 3
   },
   "file_extension": ".py",
   "mimetype": "text/x-python",
   "name": "python",
   "nbconvert_exporter": "python",
   "pygments_lexer": "ipython3",
   "version": "3.11.9"
  }
 },
 "nbformat": 4,
 "nbformat_minor": 5
}
