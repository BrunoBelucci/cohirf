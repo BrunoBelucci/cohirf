{
 "cells": [
  {
   "metadata": {
    "ExecuteTime": {
     "end_time": "2025-03-06T16:36:50.228860Z",
     "start_time": "2025-03-06T16:36:50.049428Z"
    }
   },
   "cell_type": "code",
   "source": [
    "from sqlalchemy import create_engine, text\n",
    "import pandas as pd\n",
    "from ml_experiments.analyze import get_df_runs_from_mlflow_sql, get_missing_entries, get_common_combinations, get_df_with_combinations\n",
    "import plotly.express as px\n",
    "from itertools import product\n",
    "import time\n",
    "import numpy as np\n",
    "import seaborn as sns\n",
    "import matplotlib as mpl\n",
    "import matplotlib.pyplot as plt"
   ],
   "id": "f2dcf2113c082dc8",
   "outputs": [],
   "execution_count": 1
  },
  {
   "metadata": {},
   "cell_type": "markdown",
   "source": "# Save Results",
   "id": "50f9baea8a47bd4b"
  },
  {
   "metadata": {},
   "cell_type": "markdown",
   "source": "## Load mlflow runs",
   "id": "6c530a6c169e9877"
  },
  {
   "metadata": {
    "ExecuteTime": {
     "end_time": "2025-03-06T16:36:52.526958Z",
     "start_time": "2025-03-06T16:36:52.104223Z"
    }
   },
   "cell_type": "code",
   "source": [
    "db_port = 5001\n",
    "db_name = 'recursive_clustering'\n",
    "w = 'clust9'\n",
    "# url = f'postgresql://{w}.ceremade.dauphine.lan:{db_port}/{db_name}'\n",
    "url = f'postgresql://belucci@localhost:{db_port}/{db_name}'\n",
    "engine = create_engine(url)\n",
    "query = 'SELECT experiments.name from experiments'\n",
    "experiment_names = pd.read_sql(query, engine)['name'].tolist()\n",
    "# results_dir = Path('~/tab_benchmark/results')\n",
    "# os.makedirs(results_dir, exist_ok=True)"
   ],
   "id": "b626d42bab404f05",
   "outputs": [],
   "execution_count": 2
  },
  {
   "metadata": {
    "ExecuteTime": {
     "end_time": "2025-03-06T16:36:53.068469Z",
     "start_time": "2025-03-06T16:36:53.062506Z"
    }
   },
   "cell_type": "code",
   "source": "experiment_names",
   "id": "dac8cdc3d3f90f02",
   "outputs": [
    {
     "data": {
      "text/plain": [
       "['Default',\n",
       " 'blob_experiment',\n",
       " 'hpo_classif_experiment',\n",
       " 'hpo_openml_experiment',\n",
       " 'hpo_gaussian_experiment',\n",
       " 'hpo_openml_final',\n",
       " 'outlier_hc',\n",
       " 'time_hc',\n",
       " 'hpo_n_clusters',\n",
       " 'hpo_classif_huge']"
      ]
     },
     "execution_count": 3,
     "metadata": {},
     "output_type": "execute_result"
    }
   ],
   "execution_count": 3
  },
  {
   "metadata": {
    "ExecuteTime": {
     "end_time": "2025-03-06T16:36:54.267986Z",
     "start_time": "2025-03-06T16:36:54.265534Z"
    }
   },
   "cell_type": "code",
   "source": [
    "experiments_names = [\n",
    "    'hpo_n_clusters',\n",
    "]"
   ],
   "id": "95e8a23f2d41e2b2",
   "outputs": [],
   "execution_count": 4
  },
  {
   "metadata": {
    "ExecuteTime": {
     "end_time": "2025-03-06T16:36:54.886646Z",
     "start_time": "2025-03-06T16:36:54.883443Z"
    }
   },
   "cell_type": "code",
   "source": [
    "params_columns = [\n",
    "    'model_nickname',\n",
    "    'n_samples',\n",
    "    'n_features',\n",
    "    'pct_random',\n",
    "    'seed_unified',\n",
    "    'class_sep',\n",
    "    'n_random',\n",
    "    'n_informative',\n",
    "    'n_classes',\n",
    "    'n_trials'\n",
    "]"
   ],
   "id": "533aa98eeffd7417",
   "outputs": [],
   "execution_count": 5
  },
  {
   "metadata": {
    "ExecuteTime": {
     "end_time": "2025-03-06T16:36:55.734171Z",
     "start_time": "2025-03-06T16:36:55.730440Z"
    }
   },
   "cell_type": "code",
   "source": [
    "latest_metrics_columns = [\n",
    "    'fit_model_return_elapsed_time',\n",
    "    'max_memory_used',\n",
    "    'n_clusters_',\n",
    "    'rand_score',\n",
    "    'adjusted_rand',\n",
    "    'mutual_info',\n",
    "    'adjusted_mutual_info',\n",
    "    'normalized_mutual_info',\n",
    "    'homogeneity',\n",
    "    'completeness',\n",
    "    'v_measure',\n",
    "    'silhouette',\n",
    "    'calinski_harabasz_score',\n",
    "    'davies_bouldin_score',\n",
    "    'inertia_score',\n",
    "    'best_n_clusters_',\n",
    "    'best_rand_score',\n",
    "    'best_adjusted_rand',\n",
    "    'best_mutual_info',\n",
    "    'best_adjusted_mutual_info',\n",
    "    'best_normalized_mutual_info',\n",
    "    'best_homogeneity_completeness_v_measure',\n",
    "    'best_silhouette',\n",
    "    'best_calinski_harabasz_score',\n",
    "    'best_davies_bouldin_score',\n",
    "    'best_inertia_score',\n",
    "    'best_homogeneity',\n",
    "    'best_completeness',\n",
    "    'best_v_measure',\n",
    "]"
   ],
   "id": "7bd5b733d9504721",
   "outputs": [],
   "execution_count": 6
  },
  {
   "metadata": {
    "ExecuteTime": {
     "end_time": "2025-03-06T16:36:56.295134Z",
     "start_time": "2025-03-06T16:36:56.292348Z"
    }
   },
   "cell_type": "code",
   "source": [
    "tags_columns = [\n",
    "    'raised_exception',\n",
    "    'EXCEPTION',\n",
    "    'parent_run_id',\n",
    "    'best_child_run_id',\n",
    "]"
   ],
   "id": "e793bbcce7564bb5",
   "outputs": [],
   "execution_count": 7
  },
  {
   "metadata": {
    "ExecuteTime": {
     "end_time": "2025-03-06T16:36:56.857048Z",
     "start_time": "2025-03-06T16:36:56.853611Z"
    }
   },
   "cell_type": "code",
   "source": [
    "# parameters of each model, they are saved as tags for the parent run\n",
    "parameters = {\n",
    "    'RecursiveClustering': ['components_size', 'repetitions', 'kmeans_n_clusters'],\n",
    "    'KMeans': ['n_clusters'],\n",
    "    'HDBSCAN': ['min_cluster_size'],\n",
    "    'DBSCAN': ['eps', 'min_samples'],\n",
    "    'AffinityPropagation': ['damping'],\n",
    "    'OPTICS': ['min_samples'],\n",
    "    'SpectralSubspaceRandomization': ['n_similarities', 'sampling_ratio', 'sc_n_clusters'],\n",
    "    'WardAgglomerativeClustering': ['n_clusters'],\n",
    "}\n",
    "all_model_parameters = [p for model, params in parameters.items() for p in params]\n",
    "all_model_parameters = list(set(all_model_parameters))\n",
    "for param in all_model_parameters:\n",
    "    tags_columns.append(param)"
   ],
   "id": "8dad2491bdcbb823",
   "outputs": [],
   "execution_count": 8
  },
  {
   "metadata": {
    "ExecuteTime": {
     "end_time": "2025-03-06T16:39:30.850405Z",
     "start_time": "2025-03-06T16:36:57.565374Z"
    }
   },
   "cell_type": "code",
   "source": [
    "runs_columns = ['run_uuid', 'status', 'start_time', 'end_time']\n",
    "experiments_columns = []\n",
    "other_table = 'params'\n",
    "other_table_keys = params_columns\n",
    "df_params = get_df_runs_from_mlflow_sql(engine, runs_columns=runs_columns, experiments_columns=experiments_columns, experiments_names=experiments_names, other_table=other_table, other_table_keys=other_table_keys)\n",
    "df_latest_metrics = get_df_runs_from_mlflow_sql(engine, runs_columns=['run_uuid'], experiments_columns=experiments_columns, experiments_names=experiments_names, other_table='latest_metrics', other_table_keys=latest_metrics_columns)\n",
    "df_tags = get_df_runs_from_mlflow_sql(engine, runs_columns=['run_uuid'], experiments_columns=experiments_columns, experiments_names=experiments_names, other_table='tags', other_table_keys=tags_columns)"
   ],
   "id": "d31dbd2ecdc9c0ff",
   "outputs": [],
   "execution_count": 9
  },
  {
   "metadata": {
    "ExecuteTime": {
     "end_time": "2025-03-06T16:39:38.144057Z",
     "start_time": "2025-03-06T16:39:37.607565Z"
    }
   },
   "cell_type": "code",
   "source": [
    "df_runs_raw = df_params.join(df_latest_metrics)\n",
    "df_runs_raw = df_runs_raw.join(df_tags)"
   ],
   "id": "e00e6f7be586f23f",
   "outputs": [],
   "execution_count": 10
  },
  {
   "metadata": {
    "ExecuteTime": {
     "end_time": "2025-03-06T16:39:38.939819Z",
     "start_time": "2025-03-06T16:39:38.639995Z"
    }
   },
   "cell_type": "code",
   "source": [
    "df_runs_raw_parents = df_runs_raw.copy()\n",
    "df_runs_raw_parents = df_runs_raw_parents.loc[df_runs_raw_parents['parent_run_id'].isna()]"
   ],
   "id": "dda1084a36cc29a0",
   "outputs": [],
   "execution_count": 11
  },
  {
   "metadata": {
    "ExecuteTime": {
     "end_time": "2025-03-06T16:39:39.073228Z",
     "start_time": "2025-03-06T16:39:39.048876Z"
    }
   },
   "cell_type": "code",
   "source": "df_runs_raw_parents",
   "id": "f7cb6d46cb11088e",
   "outputs": [
    {
     "data": {
      "text/plain": [
       "key                                 status     start_time      end_time  \\\n",
       "run_uuid                                                                  \n",
       "00182d12bb17486d877981bc2f490589  FINISHED  1740659603558  1.740722e+12   \n",
       "002dfa4ca2fa40098b82095f49eb29f2  FINISHED  1740659031041  1.740713e+12   \n",
       "0059b9d861ab413db316f7debef66a05  FINISHED  1740659073869  1.740713e+12   \n",
       "006177dac22b4611b298d14335515701  FINISHED  1740658172682  1.740683e+12   \n",
       "006c38a1e2c74a118ea1c36f14348851  FINISHED  1739805439032  1.740066e+12   \n",
       "...                                    ...            ...           ...   \n",
       "ff53dff04d68443f91389bff77915d2f  FINISHED  1740659752745  1.740731e+12   \n",
       "ff5c84efc7b34584b09226825ead72e4  FINISHED  1740658268593  1.740690e+12   \n",
       "ff6dc7d243f64486a415494e395f4872  FINISHED  1739804626988  1.739878e+12   \n",
       "ffa26f2b9d00441880edc3732da3da4c  FINISHED  1740657186999  1.740663e+12   \n",
       "ffbfbf48152041649baca643b09689fe  FINISHED  1740660117318  1.740741e+12   \n",
       "\n",
       "key                              class_sep       model_nickname n_classes  \\\n",
       "run_uuid                                                                    \n",
       "00182d12bb17486d877981bc2f490589     100.0               KMeans        12   \n",
       "002dfa4ca2fa40098b82095f49eb29f2      10.0               KMeans         5   \n",
       "0059b9d861ab413db316f7debef66a05     100.0               KMeans         5   \n",
       "006177dac22b4611b298d14335515701      50.0               KMeans         5   \n",
       "006c38a1e2c74a118ea1c36f14348851      10.0  RecursiveClustering        20   \n",
       "...                                    ...                  ...       ...   \n",
       "ff53dff04d68443f91389bff77915d2f     100.0               KMeans         5   \n",
       "ff5c84efc7b34584b09226825ead72e4      30.0               KMeans         5   \n",
       "ff6dc7d243f64486a415494e395f4872      10.0  RecursiveClustering         8   \n",
       "ffa26f2b9d00441880edc3732da3da4c      20.0               KMeans         8   \n",
       "ffbfbf48152041649baca643b09689fe      50.0               KMeans         2   \n",
       "\n",
       "key                              n_features n_informative n_random n_samples  \\\n",
       "run_uuid                                                                       \n",
       "00182d12bb17486d877981bc2f490589        100          None     None     10000   \n",
       "002dfa4ca2fa40098b82095f49eb29f2        100          None     None     10000   \n",
       "0059b9d861ab413db316f7debef66a05      10000          None     None      1000   \n",
       "006177dac22b4611b298d14335515701      10000          None     None       100   \n",
       "006c38a1e2c74a118ea1c36f14348851        100          None     None     10000   \n",
       "...                                     ...           ...      ...       ...   \n",
       "ff53dff04d68443f91389bff77915d2f       1000          None     None     10000   \n",
       "ff5c84efc7b34584b09226825ead72e4        100          None     None      1000   \n",
       "ff6dc7d243f64486a415494e395f4872      10000          None     None       100   \n",
       "ffa26f2b9d00441880edc3732da3da4c        100          None     None       100   \n",
       "ffbfbf48152041649baca643b09689fe      10000          None     None     10000   \n",
       "\n",
       "key                               ... silhouette v_measure EXCEPTION  \\\n",
       "run_uuid                          ...                                  \n",
       "00182d12bb17486d877981bc2f490589  ...   0.181287  0.866055       NaN   \n",
       "002dfa4ca2fa40098b82095f49eb29f2  ...   0.298534  0.920810       NaN   \n",
       "0059b9d861ab413db316f7debef66a05  ...  -0.000909  0.684588       NaN   \n",
       "006177dac22b4611b298d14335515701  ...   0.145530  0.928715       NaN   \n",
       "006c38a1e2c74a118ea1c36f14348851  ...   0.441788  0.999183       NaN   \n",
       "...                               ...        ...       ...       ...   \n",
       "ff53dff04d68443f91389bff77915d2f  ...   0.155419  0.783468       NaN   \n",
       "ff5c84efc7b34584b09226825ead72e4  ...   0.017918  0.667665       NaN   \n",
       "ff6dc7d243f64486a415494e395f4872  ...  -1.000000  0.621993       NaN   \n",
       "ffa26f2b9d00441880edc3732da3da4c  ...   0.022911  0.798587       NaN   \n",
       "ffbfbf48152041649baca643b09689fe  ...  -0.000632  0.575354       NaN   \n",
       "\n",
       "key                                              best_child_run_id  \\\n",
       "run_uuid                                                             \n",
       "00182d12bb17486d877981bc2f490589  de1911a57904428e85be763b748ddb84   \n",
       "002dfa4ca2fa40098b82095f49eb29f2  7452155edd294836add1c894e9f05b12   \n",
       "0059b9d861ab413db316f7debef66a05  1af398163b2d4cfdafef751b4a83ae79   \n",
       "006177dac22b4611b298d14335515701  95cd5ae8f504403a8d90d29314b9873f   \n",
       "006c38a1e2c74a118ea1c36f14348851  99721d0b967e48a885d910b28c8008a5   \n",
       "...                                                            ...   \n",
       "ff53dff04d68443f91389bff77915d2f  c843d105c2b64d1b8ad7b6c1ce3f0416   \n",
       "ff5c84efc7b34584b09226825ead72e4  1192ce6fd5e24832861c3f85db783812   \n",
       "ff6dc7d243f64486a415494e395f4872  d969900ce4f246989954ac8136232d57   \n",
       "ffa26f2b9d00441880edc3732da3da4c  b2db827e25d748c9b61372e9a847e6eb   \n",
       "ffbfbf48152041649baca643b09689fe  cc58dfb93d5942e19707ad5c400b55f2   \n",
       "\n",
       "key                               components_size  kmeans_n_clusters  \\\n",
       "run_uuid                                                               \n",
       "00182d12bb17486d877981bc2f490589              NaN                NaN   \n",
       "002dfa4ca2fa40098b82095f49eb29f2              NaN                NaN   \n",
       "0059b9d861ab413db316f7debef66a05              NaN                NaN   \n",
       "006177dac22b4611b298d14335515701              NaN                NaN   \n",
       "006c38a1e2c74a118ea1c36f14348851               30                 10   \n",
       "...                                           ...                ...   \n",
       "ff53dff04d68443f91389bff77915d2f              NaN                NaN   \n",
       "ff5c84efc7b34584b09226825ead72e4              NaN                NaN   \n",
       "ff6dc7d243f64486a415494e395f4872               25                  4   \n",
       "ffa26f2b9d00441880edc3732da3da4c              NaN                NaN   \n",
       "ffbfbf48152041649baca643b09689fe              NaN                NaN   \n",
       "\n",
       "key                               n_clusters  parent_run_id  raised_exception  \\\n",
       "run_uuid                                                                        \n",
       "00182d12bb17486d877981bc2f490589          12            NaN             False   \n",
       "002dfa4ca2fa40098b82095f49eb29f2           5            NaN             False   \n",
       "0059b9d861ab413db316f7debef66a05           5            NaN             False   \n",
       "006177dac22b4611b298d14335515701           5            NaN             False   \n",
       "006c38a1e2c74a118ea1c36f14348851         NaN            NaN             False   \n",
       "...                                      ...            ...               ...   \n",
       "ff53dff04d68443f91389bff77915d2f           5            NaN             False   \n",
       "ff5c84efc7b34584b09226825ead72e4           5            NaN             False   \n",
       "ff6dc7d243f64486a415494e395f4872         NaN            NaN             False   \n",
       "ffa26f2b9d00441880edc3732da3da4c           8            NaN             False   \n",
       "ffbfbf48152041649baca643b09689fe           2            NaN             False   \n",
       "\n",
       "key                               repetitions  \n",
       "run_uuid                                       \n",
       "00182d12bb17486d877981bc2f490589          NaN  \n",
       "002dfa4ca2fa40098b82095f49eb29f2          NaN  \n",
       "0059b9d861ab413db316f7debef66a05          NaN  \n",
       "006177dac22b4611b298d14335515701          NaN  \n",
       "006c38a1e2c74a118ea1c36f14348851            7  \n",
       "...                                       ...  \n",
       "ff53dff04d68443f91389bff77915d2f          NaN  \n",
       "ff5c84efc7b34584b09226825ead72e4          NaN  \n",
       "ff6dc7d243f64486a415494e395f4872            8  \n",
       "ffa26f2b9d00441880edc3732da3da4c          NaN  \n",
       "ffbfbf48152041649baca643b09689fe          NaN  \n",
       "\n",
       "[2705 rows x 49 columns]"
      ],
      "text/html": [
       "<div>\n",
       "<style scoped>\n",
       "    .dataframe tbody tr th:only-of-type {\n",
       "        vertical-align: middle;\n",
       "    }\n",
       "\n",
       "    .dataframe tbody tr th {\n",
       "        vertical-align: top;\n",
       "    }\n",
       "\n",
       "    .dataframe thead th {\n",
       "        text-align: right;\n",
       "    }\n",
       "</style>\n",
       "<table border=\"1\" class=\"dataframe\">\n",
       "  <thead>\n",
       "    <tr style=\"text-align: right;\">\n",
       "      <th>key</th>\n",
       "      <th>status</th>\n",
       "      <th>start_time</th>\n",
       "      <th>end_time</th>\n",
       "      <th>class_sep</th>\n",
       "      <th>model_nickname</th>\n",
       "      <th>n_classes</th>\n",
       "      <th>n_features</th>\n",
       "      <th>n_informative</th>\n",
       "      <th>n_random</th>\n",
       "      <th>n_samples</th>\n",
       "      <th>...</th>\n",
       "      <th>silhouette</th>\n",
       "      <th>v_measure</th>\n",
       "      <th>EXCEPTION</th>\n",
       "      <th>best_child_run_id</th>\n",
       "      <th>components_size</th>\n",
       "      <th>kmeans_n_clusters</th>\n",
       "      <th>n_clusters</th>\n",
       "      <th>parent_run_id</th>\n",
       "      <th>raised_exception</th>\n",
       "      <th>repetitions</th>\n",
       "    </tr>\n",
       "    <tr>\n",
       "      <th>run_uuid</th>\n",
       "      <th></th>\n",
       "      <th></th>\n",
       "      <th></th>\n",
       "      <th></th>\n",
       "      <th></th>\n",
       "      <th></th>\n",
       "      <th></th>\n",
       "      <th></th>\n",
       "      <th></th>\n",
       "      <th></th>\n",
       "      <th></th>\n",
       "      <th></th>\n",
       "      <th></th>\n",
       "      <th></th>\n",
       "      <th></th>\n",
       "      <th></th>\n",
       "      <th></th>\n",
       "      <th></th>\n",
       "      <th></th>\n",
       "      <th></th>\n",
       "      <th></th>\n",
       "    </tr>\n",
       "  </thead>\n",
       "  <tbody>\n",
       "    <tr>\n",
       "      <th>00182d12bb17486d877981bc2f490589</th>\n",
       "      <td>FINISHED</td>\n",
       "      <td>1740659603558</td>\n",
       "      <td>1.740722e+12</td>\n",
       "      <td>100.0</td>\n",
       "      <td>KMeans</td>\n",
       "      <td>12</td>\n",
       "      <td>100</td>\n",
       "      <td>None</td>\n",
       "      <td>None</td>\n",
       "      <td>10000</td>\n",
       "      <td>...</td>\n",
       "      <td>0.181287</td>\n",
       "      <td>0.866055</td>\n",
       "      <td>NaN</td>\n",
       "      <td>de1911a57904428e85be763b748ddb84</td>\n",
       "      <td>NaN</td>\n",
       "      <td>NaN</td>\n",
       "      <td>12</td>\n",
       "      <td>NaN</td>\n",
       "      <td>False</td>\n",
       "      <td>NaN</td>\n",
       "    </tr>\n",
       "    <tr>\n",
       "      <th>002dfa4ca2fa40098b82095f49eb29f2</th>\n",
       "      <td>FINISHED</td>\n",
       "      <td>1740659031041</td>\n",
       "      <td>1.740713e+12</td>\n",
       "      <td>10.0</td>\n",
       "      <td>KMeans</td>\n",
       "      <td>5</td>\n",
       "      <td>100</td>\n",
       "      <td>None</td>\n",
       "      <td>None</td>\n",
       "      <td>10000</td>\n",
       "      <td>...</td>\n",
       "      <td>0.298534</td>\n",
       "      <td>0.920810</td>\n",
       "      <td>NaN</td>\n",
       "      <td>7452155edd294836add1c894e9f05b12</td>\n",
       "      <td>NaN</td>\n",
       "      <td>NaN</td>\n",
       "      <td>5</td>\n",
       "      <td>NaN</td>\n",
       "      <td>False</td>\n",
       "      <td>NaN</td>\n",
       "    </tr>\n",
       "    <tr>\n",
       "      <th>0059b9d861ab413db316f7debef66a05</th>\n",
       "      <td>FINISHED</td>\n",
       "      <td>1740659073869</td>\n",
       "      <td>1.740713e+12</td>\n",
       "      <td>100.0</td>\n",
       "      <td>KMeans</td>\n",
       "      <td>5</td>\n",
       "      <td>10000</td>\n",
       "      <td>None</td>\n",
       "      <td>None</td>\n",
       "      <td>1000</td>\n",
       "      <td>...</td>\n",
       "      <td>-0.000909</td>\n",
       "      <td>0.684588</td>\n",
       "      <td>NaN</td>\n",
       "      <td>1af398163b2d4cfdafef751b4a83ae79</td>\n",
       "      <td>NaN</td>\n",
       "      <td>NaN</td>\n",
       "      <td>5</td>\n",
       "      <td>NaN</td>\n",
       "      <td>False</td>\n",
       "      <td>NaN</td>\n",
       "    </tr>\n",
       "    <tr>\n",
       "      <th>006177dac22b4611b298d14335515701</th>\n",
       "      <td>FINISHED</td>\n",
       "      <td>1740658172682</td>\n",
       "      <td>1.740683e+12</td>\n",
       "      <td>50.0</td>\n",
       "      <td>KMeans</td>\n",
       "      <td>5</td>\n",
       "      <td>10000</td>\n",
       "      <td>None</td>\n",
       "      <td>None</td>\n",
       "      <td>100</td>\n",
       "      <td>...</td>\n",
       "      <td>0.145530</td>\n",
       "      <td>0.928715</td>\n",
       "      <td>NaN</td>\n",
       "      <td>95cd5ae8f504403a8d90d29314b9873f</td>\n",
       "      <td>NaN</td>\n",
       "      <td>NaN</td>\n",
       "      <td>5</td>\n",
       "      <td>NaN</td>\n",
       "      <td>False</td>\n",
       "      <td>NaN</td>\n",
       "    </tr>\n",
       "    <tr>\n",
       "      <th>006c38a1e2c74a118ea1c36f14348851</th>\n",
       "      <td>FINISHED</td>\n",
       "      <td>1739805439032</td>\n",
       "      <td>1.740066e+12</td>\n",
       "      <td>10.0</td>\n",
       "      <td>RecursiveClustering</td>\n",
       "      <td>20</td>\n",
       "      <td>100</td>\n",
       "      <td>None</td>\n",
       "      <td>None</td>\n",
       "      <td>10000</td>\n",
       "      <td>...</td>\n",
       "      <td>0.441788</td>\n",
       "      <td>0.999183</td>\n",
       "      <td>NaN</td>\n",
       "      <td>99721d0b967e48a885d910b28c8008a5</td>\n",
       "      <td>30</td>\n",
       "      <td>10</td>\n",
       "      <td>NaN</td>\n",
       "      <td>NaN</td>\n",
       "      <td>False</td>\n",
       "      <td>7</td>\n",
       "    </tr>\n",
       "    <tr>\n",
       "      <th>...</th>\n",
       "      <td>...</td>\n",
       "      <td>...</td>\n",
       "      <td>...</td>\n",
       "      <td>...</td>\n",
       "      <td>...</td>\n",
       "      <td>...</td>\n",
       "      <td>...</td>\n",
       "      <td>...</td>\n",
       "      <td>...</td>\n",
       "      <td>...</td>\n",
       "      <td>...</td>\n",
       "      <td>...</td>\n",
       "      <td>...</td>\n",
       "      <td>...</td>\n",
       "      <td>...</td>\n",
       "      <td>...</td>\n",
       "      <td>...</td>\n",
       "      <td>...</td>\n",
       "      <td>...</td>\n",
       "      <td>...</td>\n",
       "      <td>...</td>\n",
       "    </tr>\n",
       "    <tr>\n",
       "      <th>ff53dff04d68443f91389bff77915d2f</th>\n",
       "      <td>FINISHED</td>\n",
       "      <td>1740659752745</td>\n",
       "      <td>1.740731e+12</td>\n",
       "      <td>100.0</td>\n",
       "      <td>KMeans</td>\n",
       "      <td>5</td>\n",
       "      <td>1000</td>\n",
       "      <td>None</td>\n",
       "      <td>None</td>\n",
       "      <td>10000</td>\n",
       "      <td>...</td>\n",
       "      <td>0.155419</td>\n",
       "      <td>0.783468</td>\n",
       "      <td>NaN</td>\n",
       "      <td>c843d105c2b64d1b8ad7b6c1ce3f0416</td>\n",
       "      <td>NaN</td>\n",
       "      <td>NaN</td>\n",
       "      <td>5</td>\n",
       "      <td>NaN</td>\n",
       "      <td>False</td>\n",
       "      <td>NaN</td>\n",
       "    </tr>\n",
       "    <tr>\n",
       "      <th>ff5c84efc7b34584b09226825ead72e4</th>\n",
       "      <td>FINISHED</td>\n",
       "      <td>1740658268593</td>\n",
       "      <td>1.740690e+12</td>\n",
       "      <td>30.0</td>\n",
       "      <td>KMeans</td>\n",
       "      <td>5</td>\n",
       "      <td>100</td>\n",
       "      <td>None</td>\n",
       "      <td>None</td>\n",
       "      <td>1000</td>\n",
       "      <td>...</td>\n",
       "      <td>0.017918</td>\n",
       "      <td>0.667665</td>\n",
       "      <td>NaN</td>\n",
       "      <td>1192ce6fd5e24832861c3f85db783812</td>\n",
       "      <td>NaN</td>\n",
       "      <td>NaN</td>\n",
       "      <td>5</td>\n",
       "      <td>NaN</td>\n",
       "      <td>False</td>\n",
       "      <td>NaN</td>\n",
       "    </tr>\n",
       "    <tr>\n",
       "      <th>ff6dc7d243f64486a415494e395f4872</th>\n",
       "      <td>FINISHED</td>\n",
       "      <td>1739804626988</td>\n",
       "      <td>1.739878e+12</td>\n",
       "      <td>10.0</td>\n",
       "      <td>RecursiveClustering</td>\n",
       "      <td>8</td>\n",
       "      <td>10000</td>\n",
       "      <td>None</td>\n",
       "      <td>None</td>\n",
       "      <td>100</td>\n",
       "      <td>...</td>\n",
       "      <td>-1.000000</td>\n",
       "      <td>0.621993</td>\n",
       "      <td>NaN</td>\n",
       "      <td>d969900ce4f246989954ac8136232d57</td>\n",
       "      <td>25</td>\n",
       "      <td>4</td>\n",
       "      <td>NaN</td>\n",
       "      <td>NaN</td>\n",
       "      <td>False</td>\n",
       "      <td>8</td>\n",
       "    </tr>\n",
       "    <tr>\n",
       "      <th>ffa26f2b9d00441880edc3732da3da4c</th>\n",
       "      <td>FINISHED</td>\n",
       "      <td>1740657186999</td>\n",
       "      <td>1.740663e+12</td>\n",
       "      <td>20.0</td>\n",
       "      <td>KMeans</td>\n",
       "      <td>8</td>\n",
       "      <td>100</td>\n",
       "      <td>None</td>\n",
       "      <td>None</td>\n",
       "      <td>100</td>\n",
       "      <td>...</td>\n",
       "      <td>0.022911</td>\n",
       "      <td>0.798587</td>\n",
       "      <td>NaN</td>\n",
       "      <td>b2db827e25d748c9b61372e9a847e6eb</td>\n",
       "      <td>NaN</td>\n",
       "      <td>NaN</td>\n",
       "      <td>8</td>\n",
       "      <td>NaN</td>\n",
       "      <td>False</td>\n",
       "      <td>NaN</td>\n",
       "    </tr>\n",
       "    <tr>\n",
       "      <th>ffbfbf48152041649baca643b09689fe</th>\n",
       "      <td>FINISHED</td>\n",
       "      <td>1740660117318</td>\n",
       "      <td>1.740741e+12</td>\n",
       "      <td>50.0</td>\n",
       "      <td>KMeans</td>\n",
       "      <td>2</td>\n",
       "      <td>10000</td>\n",
       "      <td>None</td>\n",
       "      <td>None</td>\n",
       "      <td>10000</td>\n",
       "      <td>...</td>\n",
       "      <td>-0.000632</td>\n",
       "      <td>0.575354</td>\n",
       "      <td>NaN</td>\n",
       "      <td>cc58dfb93d5942e19707ad5c400b55f2</td>\n",
       "      <td>NaN</td>\n",
       "      <td>NaN</td>\n",
       "      <td>2</td>\n",
       "      <td>NaN</td>\n",
       "      <td>False</td>\n",
       "      <td>NaN</td>\n",
       "    </tr>\n",
       "  </tbody>\n",
       "</table>\n",
       "<p>2705 rows × 49 columns</p>\n",
       "</div>"
      ]
     },
     "execution_count": 12,
     "metadata": {},
     "output_type": "execute_result"
    }
   ],
   "execution_count": 12
  },
  {
   "metadata": {
    "ExecuteTime": {
     "end_time": "2025-03-06T16:39:39.911740Z",
     "start_time": "2025-03-06T16:39:39.904293Z"
    }
   },
   "cell_type": "code",
   "source": [
    "# Separate our method with two types n_trials\n",
    "df_runs_parents = df_runs_raw_parents.copy()\n",
    "df_runs_parents.loc[(df_runs_parents['model_nickname'] == 'RecursiveClustering') & (df_runs_parents['n_trials'] == '20'), 'model_nickname'] = 'RecursiveClustering_20'"
   ],
   "id": "99515197326fccbc",
   "outputs": [],
   "execution_count": 13
  },
  {
   "metadata": {},
   "cell_type": "markdown",
   "source": "## Delete duplicate runs (if any) and complete some models that cannot run with some datasets",
   "id": "ea28f0e6fa4fd39"
  },
  {
   "metadata": {
    "ExecuteTime": {
     "end_time": "2025-03-06T16:39:42.145069Z",
     "start_time": "2025-03-06T16:39:41.795303Z"
    }
   },
   "cell_type": "code",
   "source": [
    "non_duplicate_columns = [\n",
    "    'model_nickname',\n",
    "    'n_samples',\n",
    "    'n_features',\n",
    "    'pct_random',\n",
    "    'seed_unified',\n",
    "    'class_sep',\n",
    "    'n_random',\n",
    "    'n_informative',\n",
    "    'n_classes'\n",
    "]\n",
    "df_runs_parents = df_runs_parents.dropna(axis=0, how='all', subset=['best_adjusted_rand']).copy()\n",
    "df_runs_parents = df_runs_parents.loc[(~df_runs_parents.duplicated(non_duplicate_columns))]\n",
    "run_uuid_parents = df_runs_parents.index.tolist()\n",
    "df_runs = df_runs_raw.copy()\n",
    "df_runs = df_runs.loc[df_runs['parent_run_id'].isin(run_uuid_parents)]"
   ],
   "id": "e4c259765ef82d27",
   "outputs": [],
   "execution_count": 14
  },
  {
   "metadata": {},
   "cell_type": "markdown",
   "source": "# Missing",
   "id": "720b61d4a80eab2c"
  },
  {
   "metadata": {
    "ExecuteTime": {
     "end_time": "2025-03-06T16:39:43.935861Z",
     "start_time": "2025-03-06T16:39:43.931546Z"
    }
   },
   "cell_type": "code",
   "source": "df_runs_parents['model_nickname'].unique().tolist()",
   "id": "6d491435816f014c",
   "outputs": [
    {
     "data": {
      "text/plain": [
       "['KMeans', 'RecursiveClustering']"
      ]
     },
     "execution_count": 15,
     "metadata": {},
     "output_type": "execute_result"
    }
   ],
   "execution_count": 15
  },
  {
   "metadata": {
    "ExecuteTime": {
     "end_time": "2025-03-06T16:39:47.092237Z",
     "start_time": "2025-03-06T16:39:47.089379Z"
    }
   },
   "cell_type": "code",
   "source": [
    "non_duplicate_columns = [\n",
    "    'model_nickname',\n",
    "    'n_samples',\n",
    "    'n_features',\n",
    "    'seed_unified',\n",
    "    'class_sep',\n",
    "    'n_classes',\n",
    "]"
   ],
   "id": "10f99d90d17b6fe",
   "outputs": [],
   "execution_count": 16
  },
  {
   "metadata": {
    "ExecuteTime": {
     "end_time": "2025-03-06T16:39:50.548064Z",
     "start_time": "2025-03-06T16:39:50.527846Z"
    }
   },
   "cell_type": "code",
   "source": [
    "n_samples = ['100', '1000', '10000']\n",
    "n_features = ['100', '1000', '10000']\n",
    "# pct_random = ['0.0', '0.2', '0.5', '0.7']\n",
    "seed_unified = [f'{i}' for i in range(5)]\n",
    "class_sep = ['10.0', '20.0', '30.0', '40.0', '50.0', '100.0']\n",
    "n_classes = ['2', '5', '8', '12', '20']\n",
    "model_nickname = [\n",
    "    'RecursiveClustering',\n",
    "    'KMeans',\n",
    "]\n",
    "columns_names = non_duplicate_columns\n",
    "should_contain_values = [model_nickname, n_samples, n_features, seed_unified, class_sep, n_classes]\n",
    "df_missing = get_missing_entries(df_runs_parents, columns_names, should_contain_values)"
   ],
   "id": "8a361ec40d4bd430",
   "outputs": [],
   "execution_count": 17
  },
  {
   "metadata": {
    "ExecuteTime": {
     "end_time": "2025-03-06T16:39:52.668542Z",
     "start_time": "2025-03-06T16:39:52.662392Z"
    }
   },
   "cell_type": "code",
   "source": "df_missing",
   "id": "98cf108447be75f6",
   "outputs": [
    {
     "data": {
      "text/plain": [
       "Empty DataFrame\n",
       "Columns: [model_nickname, n_samples, n_features, seed_unified, class_sep, n_classes]\n",
       "Index: []"
      ],
      "text/html": [
       "<div>\n",
       "<style scoped>\n",
       "    .dataframe tbody tr th:only-of-type {\n",
       "        vertical-align: middle;\n",
       "    }\n",
       "\n",
       "    .dataframe tbody tr th {\n",
       "        vertical-align: top;\n",
       "    }\n",
       "\n",
       "    .dataframe thead th {\n",
       "        text-align: right;\n",
       "    }\n",
       "</style>\n",
       "<table border=\"1\" class=\"dataframe\">\n",
       "  <thead>\n",
       "    <tr style=\"text-align: right;\">\n",
       "      <th></th>\n",
       "      <th>model_nickname</th>\n",
       "      <th>n_samples</th>\n",
       "      <th>n_features</th>\n",
       "      <th>seed_unified</th>\n",
       "      <th>class_sep</th>\n",
       "      <th>n_classes</th>\n",
       "    </tr>\n",
       "  </thead>\n",
       "  <tbody>\n",
       "  </tbody>\n",
       "</table>\n",
       "</div>"
      ]
     },
     "execution_count": 18,
     "metadata": {},
     "output_type": "execute_result"
    }
   ],
   "execution_count": 18
  },
  {
   "metadata": {},
   "cell_type": "markdown",
   "source": "# Get common combinations",
   "id": "b5114e61ad4a63d2"
  },
  {
   "metadata": {
    "ExecuteTime": {
     "end_time": "2025-03-06T16:42:55.318522Z",
     "start_time": "2025-03-06T16:42:55.304919Z"
    }
   },
   "cell_type": "code",
   "source": [
    "model_nickname = [\n",
    "    'RecursiveClustering',\n",
    "    'KMeans',\n",
    "]\n",
    "df = df_runs_parents.copy()\n",
    "df = df.loc[df['model_nickname'].isin(model_nickname)]\n",
    "column = 'model_nickname'\n",
    "combination_columns = [\n",
    "    'n_samples',\n",
    "    'n_features',\n",
    "    'seed_unified',\n",
    "    'class_sep',\n",
    "    'n_classes',\n",
    "]\n",
    "common_combinations = get_common_combinations(df, column, combination_columns)"
   ],
   "id": "9ee1c53524dac999",
   "outputs": [],
   "execution_count": 33
  },
  {
   "metadata": {
    "ExecuteTime": {
     "end_time": "2025-03-06T16:43:00.753627Z",
     "start_time": "2025-03-06T16:43:00.740984Z"
    }
   },
   "cell_type": "code",
   "source": "df_common = get_df_with_combinations(df, combination_columns, common_combinations)",
   "id": "cd59aeeec62c2a62",
   "outputs": [],
   "execution_count": 35
  },
  {
   "metadata": {
    "ExecuteTime": {
     "end_time": "2025-03-06T16:43:01.129481Z",
     "start_time": "2025-03-06T16:43:01.121366Z"
    }
   },
   "cell_type": "code",
   "source": [
    "df_common['n_samples'] = df_common['n_samples'].astype(int)\n",
    "df_common['n_features'] = df_common['n_features'].astype(int)\n",
    "df_common['pct_random'] = df_common['pct_random'].astype(float)\n",
    "df_common['class_sep'] = df_common['class_sep'].astype(float)\n",
    "df_common['seed_unified'] = df_common['seed_unified'].astype(int)\n",
    "df_common['n_classes'] = df_common['n_classes'].astype(int)"
   ],
   "id": "8fdc760c1928cf46",
   "outputs": [],
   "execution_count": 36
  },
  {
   "metadata": {
    "ExecuteTime": {
     "end_time": "2025-03-06T16:43:55.565582Z",
     "start_time": "2025-03-06T16:43:55.547221Z"
    }
   },
   "cell_type": "code",
   "source": "df_common",
   "id": "860ddc4427c7e403",
   "outputs": [
    {
     "data": {
      "text/plain": [
       "key                                 status     start_time      end_time  \\\n",
       "run_uuid                                                                  \n",
       "00182d12bb17486d877981bc2f490589  FINISHED  1740659603558  1.740722e+12   \n",
       "002dfa4ca2fa40098b82095f49eb29f2  FINISHED  1740659031041  1.740713e+12   \n",
       "0059b9d861ab413db316f7debef66a05  FINISHED  1740659073869  1.740713e+12   \n",
       "006177dac22b4611b298d14335515701  FINISHED  1740658172682  1.740683e+12   \n",
       "006c38a1e2c74a118ea1c36f14348851  FINISHED  1739805439032  1.740066e+12   \n",
       "...                                    ...            ...           ...   \n",
       "ff53dff04d68443f91389bff77915d2f  FINISHED  1740659752745  1.740731e+12   \n",
       "ff5c84efc7b34584b09226825ead72e4  FINISHED  1740658268593  1.740690e+12   \n",
       "ff6dc7d243f64486a415494e395f4872  FINISHED  1739804626988  1.739878e+12   \n",
       "ffa26f2b9d00441880edc3732da3da4c  FINISHED  1740657186999  1.740663e+12   \n",
       "ffbfbf48152041649baca643b09689fe  FINISHED  1740660117318  1.740741e+12   \n",
       "\n",
       "key                               class_sep       model_nickname  n_classes  \\\n",
       "run_uuid                                                                      \n",
       "00182d12bb17486d877981bc2f490589      100.0               KMeans         12   \n",
       "002dfa4ca2fa40098b82095f49eb29f2       10.0               KMeans          5   \n",
       "0059b9d861ab413db316f7debef66a05      100.0               KMeans          5   \n",
       "006177dac22b4611b298d14335515701       50.0               KMeans          5   \n",
       "006c38a1e2c74a118ea1c36f14348851       10.0  RecursiveClustering         20   \n",
       "...                                     ...                  ...        ...   \n",
       "ff53dff04d68443f91389bff77915d2f      100.0               KMeans          5   \n",
       "ff5c84efc7b34584b09226825ead72e4       30.0               KMeans          5   \n",
       "ff6dc7d243f64486a415494e395f4872       10.0  RecursiveClustering          8   \n",
       "ffa26f2b9d00441880edc3732da3da4c       20.0               KMeans          8   \n",
       "ffbfbf48152041649baca643b09689fe       50.0               KMeans          2   \n",
       "\n",
       "key                               n_features n_informative n_random  \\\n",
       "run_uuid                                                              \n",
       "00182d12bb17486d877981bc2f490589         100          None     None   \n",
       "002dfa4ca2fa40098b82095f49eb29f2         100          None     None   \n",
       "0059b9d861ab413db316f7debef66a05       10000          None     None   \n",
       "006177dac22b4611b298d14335515701       10000          None     None   \n",
       "006c38a1e2c74a118ea1c36f14348851         100          None     None   \n",
       "...                                      ...           ...      ...   \n",
       "ff53dff04d68443f91389bff77915d2f        1000          None     None   \n",
       "ff5c84efc7b34584b09226825ead72e4         100          None     None   \n",
       "ff6dc7d243f64486a415494e395f4872       10000          None     None   \n",
       "ffa26f2b9d00441880edc3732da3da4c         100          None     None   \n",
       "ffbfbf48152041649baca643b09689fe       10000          None     None   \n",
       "\n",
       "key                               n_samples  ... silhouette  v_measure  \\\n",
       "run_uuid                                     ...                         \n",
       "00182d12bb17486d877981bc2f490589      10000  ...   0.181287   0.866055   \n",
       "002dfa4ca2fa40098b82095f49eb29f2      10000  ...   0.298534   0.920810   \n",
       "0059b9d861ab413db316f7debef66a05       1000  ...  -0.000909   0.684588   \n",
       "006177dac22b4611b298d14335515701        100  ...   0.145530   0.928715   \n",
       "006c38a1e2c74a118ea1c36f14348851      10000  ...   0.441788   0.999183   \n",
       "...                                     ...  ...        ...        ...   \n",
       "ff53dff04d68443f91389bff77915d2f      10000  ...   0.155419   0.783468   \n",
       "ff5c84efc7b34584b09226825ead72e4       1000  ...   0.017918   0.667665   \n",
       "ff6dc7d243f64486a415494e395f4872        100  ...  -1.000000   0.621993   \n",
       "ffa26f2b9d00441880edc3732da3da4c        100  ...   0.022911   0.798587   \n",
       "ffbfbf48152041649baca643b09689fe      10000  ...  -0.000632   0.575354   \n",
       "\n",
       "key                               EXCEPTION                 best_child_run_id  \\\n",
       "run_uuid                                                                        \n",
       "00182d12bb17486d877981bc2f490589        NaN  de1911a57904428e85be763b748ddb84   \n",
       "002dfa4ca2fa40098b82095f49eb29f2        NaN  7452155edd294836add1c894e9f05b12   \n",
       "0059b9d861ab413db316f7debef66a05        NaN  1af398163b2d4cfdafef751b4a83ae79   \n",
       "006177dac22b4611b298d14335515701        NaN  95cd5ae8f504403a8d90d29314b9873f   \n",
       "006c38a1e2c74a118ea1c36f14348851        NaN  99721d0b967e48a885d910b28c8008a5   \n",
       "...                                     ...                               ...   \n",
       "ff53dff04d68443f91389bff77915d2f        NaN  c843d105c2b64d1b8ad7b6c1ce3f0416   \n",
       "ff5c84efc7b34584b09226825ead72e4        NaN  1192ce6fd5e24832861c3f85db783812   \n",
       "ff6dc7d243f64486a415494e395f4872        NaN  d969900ce4f246989954ac8136232d57   \n",
       "ffa26f2b9d00441880edc3732da3da4c        NaN  b2db827e25d748c9b61372e9a847e6eb   \n",
       "ffbfbf48152041649baca643b09689fe        NaN  cc58dfb93d5942e19707ad5c400b55f2   \n",
       "\n",
       "key                               components_size  kmeans_n_clusters  \\\n",
       "run_uuid                                                               \n",
       "00182d12bb17486d877981bc2f490589              NaN                NaN   \n",
       "002dfa4ca2fa40098b82095f49eb29f2              NaN                NaN   \n",
       "0059b9d861ab413db316f7debef66a05              NaN                NaN   \n",
       "006177dac22b4611b298d14335515701              NaN                NaN   \n",
       "006c38a1e2c74a118ea1c36f14348851               30                 10   \n",
       "...                                           ...                ...   \n",
       "ff53dff04d68443f91389bff77915d2f              NaN                NaN   \n",
       "ff5c84efc7b34584b09226825ead72e4              NaN                NaN   \n",
       "ff6dc7d243f64486a415494e395f4872               25                  4   \n",
       "ffa26f2b9d00441880edc3732da3da4c              NaN                NaN   \n",
       "ffbfbf48152041649baca643b09689fe              NaN                NaN   \n",
       "\n",
       "key                               n_clusters  parent_run_id  raised_exception  \\\n",
       "run_uuid                                                                        \n",
       "00182d12bb17486d877981bc2f490589          12            NaN             False   \n",
       "002dfa4ca2fa40098b82095f49eb29f2           5            NaN             False   \n",
       "0059b9d861ab413db316f7debef66a05           5            NaN             False   \n",
       "006177dac22b4611b298d14335515701           5            NaN             False   \n",
       "006c38a1e2c74a118ea1c36f14348851         NaN            NaN             False   \n",
       "...                                      ...            ...               ...   \n",
       "ff53dff04d68443f91389bff77915d2f           5            NaN             False   \n",
       "ff5c84efc7b34584b09226825ead72e4           5            NaN             False   \n",
       "ff6dc7d243f64486a415494e395f4872         NaN            NaN             False   \n",
       "ffa26f2b9d00441880edc3732da3da4c           8            NaN             False   \n",
       "ffbfbf48152041649baca643b09689fe           2            NaN             False   \n",
       "\n",
       "key                               repetitions  \n",
       "run_uuid                                       \n",
       "00182d12bb17486d877981bc2f490589          NaN  \n",
       "002dfa4ca2fa40098b82095f49eb29f2          NaN  \n",
       "0059b9d861ab413db316f7debef66a05          NaN  \n",
       "006177dac22b4611b298d14335515701          NaN  \n",
       "006c38a1e2c74a118ea1c36f14348851            7  \n",
       "...                                       ...  \n",
       "ff53dff04d68443f91389bff77915d2f          NaN  \n",
       "ff5c84efc7b34584b09226825ead72e4          NaN  \n",
       "ff6dc7d243f64486a415494e395f4872            8  \n",
       "ffa26f2b9d00441880edc3732da3da4c          NaN  \n",
       "ffbfbf48152041649baca643b09689fe          NaN  \n",
       "\n",
       "[2700 rows x 49 columns]"
      ],
      "text/html": [
       "<div>\n",
       "<style scoped>\n",
       "    .dataframe tbody tr th:only-of-type {\n",
       "        vertical-align: middle;\n",
       "    }\n",
       "\n",
       "    .dataframe tbody tr th {\n",
       "        vertical-align: top;\n",
       "    }\n",
       "\n",
       "    .dataframe thead th {\n",
       "        text-align: right;\n",
       "    }\n",
       "</style>\n",
       "<table border=\"1\" class=\"dataframe\">\n",
       "  <thead>\n",
       "    <tr style=\"text-align: right;\">\n",
       "      <th>key</th>\n",
       "      <th>status</th>\n",
       "      <th>start_time</th>\n",
       "      <th>end_time</th>\n",
       "      <th>class_sep</th>\n",
       "      <th>model_nickname</th>\n",
       "      <th>n_classes</th>\n",
       "      <th>n_features</th>\n",
       "      <th>n_informative</th>\n",
       "      <th>n_random</th>\n",
       "      <th>n_samples</th>\n",
       "      <th>...</th>\n",
       "      <th>silhouette</th>\n",
       "      <th>v_measure</th>\n",
       "      <th>EXCEPTION</th>\n",
       "      <th>best_child_run_id</th>\n",
       "      <th>components_size</th>\n",
       "      <th>kmeans_n_clusters</th>\n",
       "      <th>n_clusters</th>\n",
       "      <th>parent_run_id</th>\n",
       "      <th>raised_exception</th>\n",
       "      <th>repetitions</th>\n",
       "    </tr>\n",
       "    <tr>\n",
       "      <th>run_uuid</th>\n",
       "      <th></th>\n",
       "      <th></th>\n",
       "      <th></th>\n",
       "      <th></th>\n",
       "      <th></th>\n",
       "      <th></th>\n",
       "      <th></th>\n",
       "      <th></th>\n",
       "      <th></th>\n",
       "      <th></th>\n",
       "      <th></th>\n",
       "      <th></th>\n",
       "      <th></th>\n",
       "      <th></th>\n",
       "      <th></th>\n",
       "      <th></th>\n",
       "      <th></th>\n",
       "      <th></th>\n",
       "      <th></th>\n",
       "      <th></th>\n",
       "      <th></th>\n",
       "    </tr>\n",
       "  </thead>\n",
       "  <tbody>\n",
       "    <tr>\n",
       "      <th>00182d12bb17486d877981bc2f490589</th>\n",
       "      <td>FINISHED</td>\n",
       "      <td>1740659603558</td>\n",
       "      <td>1.740722e+12</td>\n",
       "      <td>100.0</td>\n",
       "      <td>KMeans</td>\n",
       "      <td>12</td>\n",
       "      <td>100</td>\n",
       "      <td>None</td>\n",
       "      <td>None</td>\n",
       "      <td>10000</td>\n",
       "      <td>...</td>\n",
       "      <td>0.181287</td>\n",
       "      <td>0.866055</td>\n",
       "      <td>NaN</td>\n",
       "      <td>de1911a57904428e85be763b748ddb84</td>\n",
       "      <td>NaN</td>\n",
       "      <td>NaN</td>\n",
       "      <td>12</td>\n",
       "      <td>NaN</td>\n",
       "      <td>False</td>\n",
       "      <td>NaN</td>\n",
       "    </tr>\n",
       "    <tr>\n",
       "      <th>002dfa4ca2fa40098b82095f49eb29f2</th>\n",
       "      <td>FINISHED</td>\n",
       "      <td>1740659031041</td>\n",
       "      <td>1.740713e+12</td>\n",
       "      <td>10.0</td>\n",
       "      <td>KMeans</td>\n",
       "      <td>5</td>\n",
       "      <td>100</td>\n",
       "      <td>None</td>\n",
       "      <td>None</td>\n",
       "      <td>10000</td>\n",
       "      <td>...</td>\n",
       "      <td>0.298534</td>\n",
       "      <td>0.920810</td>\n",
       "      <td>NaN</td>\n",
       "      <td>7452155edd294836add1c894e9f05b12</td>\n",
       "      <td>NaN</td>\n",
       "      <td>NaN</td>\n",
       "      <td>5</td>\n",
       "      <td>NaN</td>\n",
       "      <td>False</td>\n",
       "      <td>NaN</td>\n",
       "    </tr>\n",
       "    <tr>\n",
       "      <th>0059b9d861ab413db316f7debef66a05</th>\n",
       "      <td>FINISHED</td>\n",
       "      <td>1740659073869</td>\n",
       "      <td>1.740713e+12</td>\n",
       "      <td>100.0</td>\n",
       "      <td>KMeans</td>\n",
       "      <td>5</td>\n",
       "      <td>10000</td>\n",
       "      <td>None</td>\n",
       "      <td>None</td>\n",
       "      <td>1000</td>\n",
       "      <td>...</td>\n",
       "      <td>-0.000909</td>\n",
       "      <td>0.684588</td>\n",
       "      <td>NaN</td>\n",
       "      <td>1af398163b2d4cfdafef751b4a83ae79</td>\n",
       "      <td>NaN</td>\n",
       "      <td>NaN</td>\n",
       "      <td>5</td>\n",
       "      <td>NaN</td>\n",
       "      <td>False</td>\n",
       "      <td>NaN</td>\n",
       "    </tr>\n",
       "    <tr>\n",
       "      <th>006177dac22b4611b298d14335515701</th>\n",
       "      <td>FINISHED</td>\n",
       "      <td>1740658172682</td>\n",
       "      <td>1.740683e+12</td>\n",
       "      <td>50.0</td>\n",
       "      <td>KMeans</td>\n",
       "      <td>5</td>\n",
       "      <td>10000</td>\n",
       "      <td>None</td>\n",
       "      <td>None</td>\n",
       "      <td>100</td>\n",
       "      <td>...</td>\n",
       "      <td>0.145530</td>\n",
       "      <td>0.928715</td>\n",
       "      <td>NaN</td>\n",
       "      <td>95cd5ae8f504403a8d90d29314b9873f</td>\n",
       "      <td>NaN</td>\n",
       "      <td>NaN</td>\n",
       "      <td>5</td>\n",
       "      <td>NaN</td>\n",
       "      <td>False</td>\n",
       "      <td>NaN</td>\n",
       "    </tr>\n",
       "    <tr>\n",
       "      <th>006c38a1e2c74a118ea1c36f14348851</th>\n",
       "      <td>FINISHED</td>\n",
       "      <td>1739805439032</td>\n",
       "      <td>1.740066e+12</td>\n",
       "      <td>10.0</td>\n",
       "      <td>RecursiveClustering</td>\n",
       "      <td>20</td>\n",
       "      <td>100</td>\n",
       "      <td>None</td>\n",
       "      <td>None</td>\n",
       "      <td>10000</td>\n",
       "      <td>...</td>\n",
       "      <td>0.441788</td>\n",
       "      <td>0.999183</td>\n",
       "      <td>NaN</td>\n",
       "      <td>99721d0b967e48a885d910b28c8008a5</td>\n",
       "      <td>30</td>\n",
       "      <td>10</td>\n",
       "      <td>NaN</td>\n",
       "      <td>NaN</td>\n",
       "      <td>False</td>\n",
       "      <td>7</td>\n",
       "    </tr>\n",
       "    <tr>\n",
       "      <th>...</th>\n",
       "      <td>...</td>\n",
       "      <td>...</td>\n",
       "      <td>...</td>\n",
       "      <td>...</td>\n",
       "      <td>...</td>\n",
       "      <td>...</td>\n",
       "      <td>...</td>\n",
       "      <td>...</td>\n",
       "      <td>...</td>\n",
       "      <td>...</td>\n",
       "      <td>...</td>\n",
       "      <td>...</td>\n",
       "      <td>...</td>\n",
       "      <td>...</td>\n",
       "      <td>...</td>\n",
       "      <td>...</td>\n",
       "      <td>...</td>\n",
       "      <td>...</td>\n",
       "      <td>...</td>\n",
       "      <td>...</td>\n",
       "      <td>...</td>\n",
       "    </tr>\n",
       "    <tr>\n",
       "      <th>ff53dff04d68443f91389bff77915d2f</th>\n",
       "      <td>FINISHED</td>\n",
       "      <td>1740659752745</td>\n",
       "      <td>1.740731e+12</td>\n",
       "      <td>100.0</td>\n",
       "      <td>KMeans</td>\n",
       "      <td>5</td>\n",
       "      <td>1000</td>\n",
       "      <td>None</td>\n",
       "      <td>None</td>\n",
       "      <td>10000</td>\n",
       "      <td>...</td>\n",
       "      <td>0.155419</td>\n",
       "      <td>0.783468</td>\n",
       "      <td>NaN</td>\n",
       "      <td>c843d105c2b64d1b8ad7b6c1ce3f0416</td>\n",
       "      <td>NaN</td>\n",
       "      <td>NaN</td>\n",
       "      <td>5</td>\n",
       "      <td>NaN</td>\n",
       "      <td>False</td>\n",
       "      <td>NaN</td>\n",
       "    </tr>\n",
       "    <tr>\n",
       "      <th>ff5c84efc7b34584b09226825ead72e4</th>\n",
       "      <td>FINISHED</td>\n",
       "      <td>1740658268593</td>\n",
       "      <td>1.740690e+12</td>\n",
       "      <td>30.0</td>\n",
       "      <td>KMeans</td>\n",
       "      <td>5</td>\n",
       "      <td>100</td>\n",
       "      <td>None</td>\n",
       "      <td>None</td>\n",
       "      <td>1000</td>\n",
       "      <td>...</td>\n",
       "      <td>0.017918</td>\n",
       "      <td>0.667665</td>\n",
       "      <td>NaN</td>\n",
       "      <td>1192ce6fd5e24832861c3f85db783812</td>\n",
       "      <td>NaN</td>\n",
       "      <td>NaN</td>\n",
       "      <td>5</td>\n",
       "      <td>NaN</td>\n",
       "      <td>False</td>\n",
       "      <td>NaN</td>\n",
       "    </tr>\n",
       "    <tr>\n",
       "      <th>ff6dc7d243f64486a415494e395f4872</th>\n",
       "      <td>FINISHED</td>\n",
       "      <td>1739804626988</td>\n",
       "      <td>1.739878e+12</td>\n",
       "      <td>10.0</td>\n",
       "      <td>RecursiveClustering</td>\n",
       "      <td>8</td>\n",
       "      <td>10000</td>\n",
       "      <td>None</td>\n",
       "      <td>None</td>\n",
       "      <td>100</td>\n",
       "      <td>...</td>\n",
       "      <td>-1.000000</td>\n",
       "      <td>0.621993</td>\n",
       "      <td>NaN</td>\n",
       "      <td>d969900ce4f246989954ac8136232d57</td>\n",
       "      <td>25</td>\n",
       "      <td>4</td>\n",
       "      <td>NaN</td>\n",
       "      <td>NaN</td>\n",
       "      <td>False</td>\n",
       "      <td>8</td>\n",
       "    </tr>\n",
       "    <tr>\n",
       "      <th>ffa26f2b9d00441880edc3732da3da4c</th>\n",
       "      <td>FINISHED</td>\n",
       "      <td>1740657186999</td>\n",
       "      <td>1.740663e+12</td>\n",
       "      <td>20.0</td>\n",
       "      <td>KMeans</td>\n",
       "      <td>8</td>\n",
       "      <td>100</td>\n",
       "      <td>None</td>\n",
       "      <td>None</td>\n",
       "      <td>100</td>\n",
       "      <td>...</td>\n",
       "      <td>0.022911</td>\n",
       "      <td>0.798587</td>\n",
       "      <td>NaN</td>\n",
       "      <td>b2db827e25d748c9b61372e9a847e6eb</td>\n",
       "      <td>NaN</td>\n",
       "      <td>NaN</td>\n",
       "      <td>8</td>\n",
       "      <td>NaN</td>\n",
       "      <td>False</td>\n",
       "      <td>NaN</td>\n",
       "    </tr>\n",
       "    <tr>\n",
       "      <th>ffbfbf48152041649baca643b09689fe</th>\n",
       "      <td>FINISHED</td>\n",
       "      <td>1740660117318</td>\n",
       "      <td>1.740741e+12</td>\n",
       "      <td>50.0</td>\n",
       "      <td>KMeans</td>\n",
       "      <td>2</td>\n",
       "      <td>10000</td>\n",
       "      <td>None</td>\n",
       "      <td>None</td>\n",
       "      <td>10000</td>\n",
       "      <td>...</td>\n",
       "      <td>-0.000632</td>\n",
       "      <td>0.575354</td>\n",
       "      <td>NaN</td>\n",
       "      <td>cc58dfb93d5942e19707ad5c400b55f2</td>\n",
       "      <td>NaN</td>\n",
       "      <td>NaN</td>\n",
       "      <td>2</td>\n",
       "      <td>NaN</td>\n",
       "      <td>False</td>\n",
       "      <td>NaN</td>\n",
       "    </tr>\n",
       "  </tbody>\n",
       "</table>\n",
       "<p>2700 rows × 49 columns</p>\n",
       "</div>"
      ]
     },
     "execution_count": 39,
     "metadata": {},
     "output_type": "execute_result"
    }
   ],
   "execution_count": 39
  },
  {
   "metadata": {},
   "cell_type": "markdown",
   "source": "# Plots",
   "id": "d720ad3f21389f57"
  },
  {
   "metadata": {
    "ExecuteTime": {
     "end_time": "2025-03-06T17:11:06.142926Z",
     "start_time": "2025-03-06T17:11:05.998911Z"
    }
   },
   "cell_type": "code",
   "source": [
    "df = df_common.copy()\n",
    "df = df[['model_nickname', 'best_n_clusters_', 'n_samples', 'n_features', 'class_sep', 'n_classes', 'seed_unified']]\n",
    "df['right_n_clusters'] = df['n_classes'] == df['best_n_clusters_']\n",
    "df = df.groupby(['model_nickname', 'n_samples', 'n_features', 'class_sep', 'n_classes']).agg({'best_n_clusters_': ['mean','std'], 'right_n_clusters':['sum']}).reset_index()\n",
    "df.columns = [' '.join(col).strip() for col in df.columns.values]\n",
    "# df = df.loc[df['n_samples'] == 100]\n",
    "df = df.loc[df['n_features'] == 10000]\n",
    "px.scatter(df, x='class_sep', y='right_n_clusters sum', color='model_nickname', facet_row='n_classes', facet_col='n_samples', width=1000, height=1000)"
   ],
   "id": "565a7c2942cd7d81",
   "outputs": [
    {
     "data": {
      "application/vnd.plotly.v1+json": {
       "data": [
        {
         "hovertemplate": "model_nickname=KMeans<br>n_classes=2<br>n_samples=100<br>class_sep=%{x}<br>right_n_clusters sum=%{y}<extra></extra>",
         "legendgroup": "KMeans",
         "marker": {
          "color": "#636efa",
          "symbol": "circle"
         },
         "mode": "markers",
         "name": "KMeans",
         "orientation": "v",
         "showlegend": true,
         "x": [
          10.0,
          20.0,
          30.0,
          40.0,
          50.0,
          100.0
         ],
         "xaxis": "x13",
         "y": [
          5,
          5,
          5,
          5,
          5,
          5
         ],
         "yaxis": "y13",
         "type": "scatter"
        },
        {
         "hovertemplate": "model_nickname=KMeans<br>n_classes=2<br>n_samples=1000<br>class_sep=%{x}<br>right_n_clusters sum=%{y}<extra></extra>",
         "legendgroup": "KMeans",
         "marker": {
          "color": "#636efa",
          "symbol": "circle"
         },
         "mode": "markers",
         "name": "KMeans",
         "orientation": "v",
         "showlegend": false,
         "x": [
          10.0,
          20.0,
          30.0,
          40.0,
          50.0,
          100.0
         ],
         "xaxis": "x14",
         "y": [
          5,
          5,
          5,
          5,
          5,
          5
         ],
         "yaxis": "y14",
         "type": "scatter"
        },
        {
         "hovertemplate": "model_nickname=KMeans<br>n_classes=2<br>n_samples=10000<br>class_sep=%{x}<br>right_n_clusters sum=%{y}<extra></extra>",
         "legendgroup": "KMeans",
         "marker": {
          "color": "#636efa",
          "symbol": "circle"
         },
         "mode": "markers",
         "name": "KMeans",
         "orientation": "v",
         "showlegend": false,
         "x": [
          10.0,
          20.0,
          30.0,
          40.0,
          50.0,
          100.0
         ],
         "xaxis": "x15",
         "y": [
          5,
          5,
          5,
          5,
          5,
          5
         ],
         "yaxis": "y15",
         "type": "scatter"
        },
        {
         "hovertemplate": "model_nickname=KMeans<br>n_classes=5<br>n_samples=100<br>class_sep=%{x}<br>right_n_clusters sum=%{y}<extra></extra>",
         "legendgroup": "KMeans",
         "marker": {
          "color": "#636efa",
          "symbol": "circle"
         },
         "mode": "markers",
         "name": "KMeans",
         "orientation": "v",
         "showlegend": false,
         "x": [
          10.0,
          20.0,
          30.0,
          40.0,
          50.0,
          100.0
         ],
         "xaxis": "x10",
         "y": [
          0,
          3,
          3,
          4,
          3,
          5
         ],
         "yaxis": "y10",
         "type": "scatter"
        },
        {
         "hovertemplate": "model_nickname=KMeans<br>n_classes=5<br>n_samples=1000<br>class_sep=%{x}<br>right_n_clusters sum=%{y}<extra></extra>",
         "legendgroup": "KMeans",
         "marker": {
          "color": "#636efa",
          "symbol": "circle"
         },
         "mode": "markers",
         "name": "KMeans",
         "orientation": "v",
         "showlegend": false,
         "x": [
          10.0,
          20.0,
          30.0,
          40.0,
          50.0,
          100.0
         ],
         "xaxis": "x11",
         "y": [
          1,
          3,
          4,
          4,
          4,
          5
         ],
         "yaxis": "y11",
         "type": "scatter"
        },
        {
         "hovertemplate": "model_nickname=KMeans<br>n_classes=5<br>n_samples=10000<br>class_sep=%{x}<br>right_n_clusters sum=%{y}<extra></extra>",
         "legendgroup": "KMeans",
         "marker": {
          "color": "#636efa",
          "symbol": "circle"
         },
         "mode": "markers",
         "name": "KMeans",
         "orientation": "v",
         "showlegend": false,
         "x": [
          10.0,
          20.0,
          30.0,
          40.0,
          50.0,
          100.0
         ],
         "xaxis": "x12",
         "y": [
          2,
          3,
          2,
          3,
          4,
          5
         ],
         "yaxis": "y12",
         "type": "scatter"
        },
        {
         "hovertemplate": "model_nickname=KMeans<br>n_classes=8<br>n_samples=100<br>class_sep=%{x}<br>right_n_clusters sum=%{y}<extra></extra>",
         "legendgroup": "KMeans",
         "marker": {
          "color": "#636efa",
          "symbol": "circle"
         },
         "mode": "markers",
         "name": "KMeans",
         "orientation": "v",
         "showlegend": false,
         "x": [
          10.0,
          20.0,
          30.0,
          40.0,
          50.0,
          100.0
         ],
         "xaxis": "x7",
         "y": [
          2,
          3,
          2,
          2,
          2,
          5
         ],
         "yaxis": "y7",
         "type": "scatter"
        },
        {
         "hovertemplate": "model_nickname=KMeans<br>n_classes=8<br>n_samples=1000<br>class_sep=%{x}<br>right_n_clusters sum=%{y}<extra></extra>",
         "legendgroup": "KMeans",
         "marker": {
          "color": "#636efa",
          "symbol": "circle"
         },
         "mode": "markers",
         "name": "KMeans",
         "orientation": "v",
         "showlegend": false,
         "x": [
          10.0,
          20.0,
          30.0,
          40.0,
          50.0,
          100.0
         ],
         "xaxis": "x8",
         "y": [
          2,
          4,
          2,
          3,
          3,
          5
         ],
         "yaxis": "y8",
         "type": "scatter"
        },
        {
         "hovertemplate": "model_nickname=KMeans<br>n_classes=8<br>n_samples=10000<br>class_sep=%{x}<br>right_n_clusters sum=%{y}<extra></extra>",
         "legendgroup": "KMeans",
         "marker": {
          "color": "#636efa",
          "symbol": "circle"
         },
         "mode": "markers",
         "name": "KMeans",
         "orientation": "v",
         "showlegend": false,
         "x": [
          10.0,
          20.0,
          30.0,
          40.0,
          50.0,
          100.0
         ],
         "xaxis": "x9",
         "y": [
          3,
          2,
          3,
          3,
          2,
          4
         ],
         "yaxis": "y9",
         "type": "scatter"
        },
        {
         "hovertemplate": "model_nickname=KMeans<br>n_classes=12<br>n_samples=100<br>class_sep=%{x}<br>right_n_clusters sum=%{y}<extra></extra>",
         "legendgroup": "KMeans",
         "marker": {
          "color": "#636efa",
          "symbol": "circle"
         },
         "mode": "markers",
         "name": "KMeans",
         "orientation": "v",
         "showlegend": false,
         "x": [
          10.0,
          20.0,
          30.0,
          40.0,
          50.0,
          100.0
         ],
         "xaxis": "x4",
         "y": [
          0,
          0,
          1,
          1,
          4,
          3
         ],
         "yaxis": "y4",
         "type": "scatter"
        },
        {
         "hovertemplate": "model_nickname=KMeans<br>n_classes=12<br>n_samples=1000<br>class_sep=%{x}<br>right_n_clusters sum=%{y}<extra></extra>",
         "legendgroup": "KMeans",
         "marker": {
          "color": "#636efa",
          "symbol": "circle"
         },
         "mode": "markers",
         "name": "KMeans",
         "orientation": "v",
         "showlegend": false,
         "x": [
          10.0,
          20.0,
          30.0,
          40.0,
          50.0,
          100.0
         ],
         "xaxis": "x5",
         "y": [
          1,
          1,
          0,
          2,
          2,
          5
         ],
         "yaxis": "y5",
         "type": "scatter"
        },
        {
         "hovertemplate": "model_nickname=KMeans<br>n_classes=12<br>n_samples=10000<br>class_sep=%{x}<br>right_n_clusters sum=%{y}<extra></extra>",
         "legendgroup": "KMeans",
         "marker": {
          "color": "#636efa",
          "symbol": "circle"
         },
         "mode": "markers",
         "name": "KMeans",
         "orientation": "v",
         "showlegend": false,
         "x": [
          10.0,
          20.0,
          30.0,
          40.0,
          50.0,
          100.0
         ],
         "xaxis": "x6",
         "y": [
          0,
          1,
          1,
          1,
          1,
          3
         ],
         "yaxis": "y6",
         "type": "scatter"
        },
        {
         "hovertemplate": "model_nickname=KMeans<br>n_classes=20<br>n_samples=100<br>class_sep=%{x}<br>right_n_clusters sum=%{y}<extra></extra>",
         "legendgroup": "KMeans",
         "marker": {
          "color": "#636efa",
          "symbol": "circle"
         },
         "mode": "markers",
         "name": "KMeans",
         "orientation": "v",
         "showlegend": false,
         "x": [
          10.0,
          20.0,
          30.0,
          40.0,
          50.0,
          100.0
         ],
         "xaxis": "x",
         "y": [
          0,
          0,
          0,
          0,
          0,
          3
         ],
         "yaxis": "y",
         "type": "scatter"
        },
        {
         "hovertemplate": "model_nickname=KMeans<br>n_classes=20<br>n_samples=1000<br>class_sep=%{x}<br>right_n_clusters sum=%{y}<extra></extra>",
         "legendgroup": "KMeans",
         "marker": {
          "color": "#636efa",
          "symbol": "circle"
         },
         "mode": "markers",
         "name": "KMeans",
         "orientation": "v",
         "showlegend": false,
         "x": [
          10.0,
          20.0,
          30.0,
          40.0,
          50.0,
          100.0
         ],
         "xaxis": "x2",
         "y": [
          0,
          0,
          1,
          1,
          1,
          2
         ],
         "yaxis": "y2",
         "type": "scatter"
        },
        {
         "hovertemplate": "model_nickname=KMeans<br>n_classes=20<br>n_samples=10000<br>class_sep=%{x}<br>right_n_clusters sum=%{y}<extra></extra>",
         "legendgroup": "KMeans",
         "marker": {
          "color": "#636efa",
          "symbol": "circle"
         },
         "mode": "markers",
         "name": "KMeans",
         "orientation": "v",
         "showlegend": false,
         "x": [
          10.0,
          20.0,
          30.0,
          40.0,
          50.0,
          100.0
         ],
         "xaxis": "x3",
         "y": [
          1,
          0,
          1,
          1,
          3,
          1
         ],
         "yaxis": "y3",
         "type": "scatter"
        },
        {
         "hovertemplate": "model_nickname=RecursiveClustering<br>n_classes=2<br>n_samples=100<br>class_sep=%{x}<br>right_n_clusters sum=%{y}<extra></extra>",
         "legendgroup": "RecursiveClustering",
         "marker": {
          "color": "#EF553B",
          "symbol": "circle"
         },
         "mode": "markers",
         "name": "RecursiveClustering",
         "orientation": "v",
         "showlegend": true,
         "x": [
          10.0,
          20.0,
          30.0,
          40.0,
          50.0,
          100.0
         ],
         "xaxis": "x13",
         "y": [
          0,
          1,
          1,
          4,
          5,
          5
         ],
         "yaxis": "y13",
         "type": "scatter"
        },
        {
         "hovertemplate": "model_nickname=RecursiveClustering<br>n_classes=2<br>n_samples=1000<br>class_sep=%{x}<br>right_n_clusters sum=%{y}<extra></extra>",
         "legendgroup": "RecursiveClustering",
         "marker": {
          "color": "#EF553B",
          "symbol": "circle"
         },
         "mode": "markers",
         "name": "RecursiveClustering",
         "orientation": "v",
         "showlegend": false,
         "x": [
          10.0,
          20.0,
          30.0,
          40.0,
          50.0,
          100.0
         ],
         "xaxis": "x14",
         "y": [
          1,
          0,
          1,
          2,
          2,
          5
         ],
         "yaxis": "y14",
         "type": "scatter"
        },
        {
         "hovertemplate": "model_nickname=RecursiveClustering<br>n_classes=2<br>n_samples=10000<br>class_sep=%{x}<br>right_n_clusters sum=%{y}<extra></extra>",
         "legendgroup": "RecursiveClustering",
         "marker": {
          "color": "#EF553B",
          "symbol": "circle"
         },
         "mode": "markers",
         "name": "RecursiveClustering",
         "orientation": "v",
         "showlegend": false,
         "x": [
          10.0,
          20.0,
          30.0,
          40.0,
          50.0,
          100.0
         ],
         "xaxis": "x15",
         "y": [
          0,
          0,
          0,
          1,
          0,
          4
         ],
         "yaxis": "y15",
         "type": "scatter"
        },
        {
         "hovertemplate": "model_nickname=RecursiveClustering<br>n_classes=5<br>n_samples=100<br>class_sep=%{x}<br>right_n_clusters sum=%{y}<extra></extra>",
         "legendgroup": "RecursiveClustering",
         "marker": {
          "color": "#EF553B",
          "symbol": "circle"
         },
         "mode": "markers",
         "name": "RecursiveClustering",
         "orientation": "v",
         "showlegend": false,
         "x": [
          10.0,
          20.0,
          30.0,
          40.0,
          50.0,
          100.0
         ],
         "xaxis": "x10",
         "y": [
          0,
          0,
          0,
          2,
          2,
          5
         ],
         "yaxis": "y10",
         "type": "scatter"
        },
        {
         "hovertemplate": "model_nickname=RecursiveClustering<br>n_classes=5<br>n_samples=1000<br>class_sep=%{x}<br>right_n_clusters sum=%{y}<extra></extra>",
         "legendgroup": "RecursiveClustering",
         "marker": {
          "color": "#EF553B",
          "symbol": "circle"
         },
         "mode": "markers",
         "name": "RecursiveClustering",
         "orientation": "v",
         "showlegend": false,
         "x": [
          10.0,
          20.0,
          30.0,
          40.0,
          50.0,
          100.0
         ],
         "xaxis": "x11",
         "y": [
          0,
          0,
          2,
          2,
          3,
          5
         ],
         "yaxis": "y11",
         "type": "scatter"
        },
        {
         "hovertemplate": "model_nickname=RecursiveClustering<br>n_classes=5<br>n_samples=10000<br>class_sep=%{x}<br>right_n_clusters sum=%{y}<extra></extra>",
         "legendgroup": "RecursiveClustering",
         "marker": {
          "color": "#EF553B",
          "symbol": "circle"
         },
         "mode": "markers",
         "name": "RecursiveClustering",
         "orientation": "v",
         "showlegend": false,
         "x": [
          10.0,
          20.0,
          30.0,
          40.0,
          50.0,
          100.0
         ],
         "xaxis": "x12",
         "y": [
          0,
          0,
          0,
          1,
          3,
          4
         ],
         "yaxis": "y12",
         "type": "scatter"
        },
        {
         "hovertemplate": "model_nickname=RecursiveClustering<br>n_classes=8<br>n_samples=100<br>class_sep=%{x}<br>right_n_clusters sum=%{y}<extra></extra>",
         "legendgroup": "RecursiveClustering",
         "marker": {
          "color": "#EF553B",
          "symbol": "circle"
         },
         "mode": "markers",
         "name": "RecursiveClustering",
         "orientation": "v",
         "showlegend": false,
         "x": [
          10.0,
          20.0,
          30.0,
          40.0,
          50.0,
          100.0
         ],
         "xaxis": "x7",
         "y": [
          0,
          0,
          0,
          0,
          1,
          5
         ],
         "yaxis": "y7",
         "type": "scatter"
        },
        {
         "hovertemplate": "model_nickname=RecursiveClustering<br>n_classes=8<br>n_samples=1000<br>class_sep=%{x}<br>right_n_clusters sum=%{y}<extra></extra>",
         "legendgroup": "RecursiveClustering",
         "marker": {
          "color": "#EF553B",
          "symbol": "circle"
         },
         "mode": "markers",
         "name": "RecursiveClustering",
         "orientation": "v",
         "showlegend": false,
         "x": [
          10.0,
          20.0,
          30.0,
          40.0,
          50.0,
          100.0
         ],
         "xaxis": "x8",
         "y": [
          0,
          0,
          0,
          1,
          1,
          5
         ],
         "yaxis": "y8",
         "type": "scatter"
        },
        {
         "hovertemplate": "model_nickname=RecursiveClustering<br>n_classes=8<br>n_samples=10000<br>class_sep=%{x}<br>right_n_clusters sum=%{y}<extra></extra>",
         "legendgroup": "RecursiveClustering",
         "marker": {
          "color": "#EF553B",
          "symbol": "circle"
         },
         "mode": "markers",
         "name": "RecursiveClustering",
         "orientation": "v",
         "showlegend": false,
         "x": [
          10.0,
          20.0,
          30.0,
          40.0,
          50.0,
          100.0
         ],
         "xaxis": "x9",
         "y": [
          0,
          0,
          0,
          0,
          2,
          2
         ],
         "yaxis": "y9",
         "type": "scatter"
        },
        {
         "hovertemplate": "model_nickname=RecursiveClustering<br>n_classes=12<br>n_samples=100<br>class_sep=%{x}<br>right_n_clusters sum=%{y}<extra></extra>",
         "legendgroup": "RecursiveClustering",
         "marker": {
          "color": "#EF553B",
          "symbol": "circle"
         },
         "mode": "markers",
         "name": "RecursiveClustering",
         "orientation": "v",
         "showlegend": false,
         "x": [
          10.0,
          20.0,
          30.0,
          40.0,
          50.0,
          100.0
         ],
         "xaxis": "x4",
         "y": [
          0,
          0,
          0,
          0,
          1,
          5
         ],
         "yaxis": "y4",
         "type": "scatter"
        },
        {
         "hovertemplate": "model_nickname=RecursiveClustering<br>n_classes=12<br>n_samples=1000<br>class_sep=%{x}<br>right_n_clusters sum=%{y}<extra></extra>",
         "legendgroup": "RecursiveClustering",
         "marker": {
          "color": "#EF553B",
          "symbol": "circle"
         },
         "mode": "markers",
         "name": "RecursiveClustering",
         "orientation": "v",
         "showlegend": false,
         "x": [
          10.0,
          20.0,
          30.0,
          40.0,
          50.0,
          100.0
         ],
         "xaxis": "x5",
         "y": [
          0,
          0,
          0,
          0,
          0,
          5
         ],
         "yaxis": "y5",
         "type": "scatter"
        },
        {
         "hovertemplate": "model_nickname=RecursiveClustering<br>n_classes=12<br>n_samples=10000<br>class_sep=%{x}<br>right_n_clusters sum=%{y}<extra></extra>",
         "legendgroup": "RecursiveClustering",
         "marker": {
          "color": "#EF553B",
          "symbol": "circle"
         },
         "mode": "markers",
         "name": "RecursiveClustering",
         "orientation": "v",
         "showlegend": false,
         "x": [
          10.0,
          20.0,
          30.0,
          40.0,
          50.0,
          100.0
         ],
         "xaxis": "x6",
         "y": [
          0,
          0,
          0,
          1,
          0,
          4
         ],
         "yaxis": "y6",
         "type": "scatter"
        },
        {
         "hovertemplate": "model_nickname=RecursiveClustering<br>n_classes=20<br>n_samples=100<br>class_sep=%{x}<br>right_n_clusters sum=%{y}<extra></extra>",
         "legendgroup": "RecursiveClustering",
         "marker": {
          "color": "#EF553B",
          "symbol": "circle"
         },
         "mode": "markers",
         "name": "RecursiveClustering",
         "orientation": "v",
         "showlegend": false,
         "x": [
          10.0,
          20.0,
          30.0,
          40.0,
          50.0,
          100.0
         ],
         "xaxis": "x",
         "y": [
          0,
          0,
          0,
          0,
          1,
          5
         ],
         "yaxis": "y",
         "type": "scatter"
        },
        {
         "hovertemplate": "model_nickname=RecursiveClustering<br>n_classes=20<br>n_samples=1000<br>class_sep=%{x}<br>right_n_clusters sum=%{y}<extra></extra>",
         "legendgroup": "RecursiveClustering",
         "marker": {
          "color": "#EF553B",
          "symbol": "circle"
         },
         "mode": "markers",
         "name": "RecursiveClustering",
         "orientation": "v",
         "showlegend": false,
         "x": [
          10.0,
          20.0,
          30.0,
          40.0,
          50.0,
          100.0
         ],
         "xaxis": "x2",
         "y": [
          0,
          0,
          0,
          0,
          1,
          5
         ],
         "yaxis": "y2",
         "type": "scatter"
        },
        {
         "hovertemplate": "model_nickname=RecursiveClustering<br>n_classes=20<br>n_samples=10000<br>class_sep=%{x}<br>right_n_clusters sum=%{y}<extra></extra>",
         "legendgroup": "RecursiveClustering",
         "marker": {
          "color": "#EF553B",
          "symbol": "circle"
         },
         "mode": "markers",
         "name": "RecursiveClustering",
         "orientation": "v",
         "showlegend": false,
         "x": [
          10.0,
          20.0,
          30.0,
          40.0,
          50.0,
          100.0
         ],
         "xaxis": "x3",
         "y": [
          0,
          0,
          0,
          0,
          0,
          3
         ],
         "yaxis": "y3",
         "type": "scatter"
        }
       ],
       "layout": {
        "template": {
         "data": {
          "histogram2dcontour": [
           {
            "type": "histogram2dcontour",
            "colorbar": {
             "outlinewidth": 0,
             "ticks": ""
            },
            "colorscale": [
             [
              0.0,
              "#0d0887"
             ],
             [
              0.1111111111111111,
              "#46039f"
             ],
             [
              0.2222222222222222,
              "#7201a8"
             ],
             [
              0.3333333333333333,
              "#9c179e"
             ],
             [
              0.4444444444444444,
              "#bd3786"
             ],
             [
              0.5555555555555556,
              "#d8576b"
             ],
             [
              0.6666666666666666,
              "#ed7953"
             ],
             [
              0.7777777777777778,
              "#fb9f3a"
             ],
             [
              0.8888888888888888,
              "#fdca26"
             ],
             [
              1.0,
              "#f0f921"
             ]
            ]
           }
          ],
          "choropleth": [
           {
            "type": "choropleth",
            "colorbar": {
             "outlinewidth": 0,
             "ticks": ""
            }
           }
          ],
          "histogram2d": [
           {
            "type": "histogram2d",
            "colorbar": {
             "outlinewidth": 0,
             "ticks": ""
            },
            "colorscale": [
             [
              0.0,
              "#0d0887"
             ],
             [
              0.1111111111111111,
              "#46039f"
             ],
             [
              0.2222222222222222,
              "#7201a8"
             ],
             [
              0.3333333333333333,
              "#9c179e"
             ],
             [
              0.4444444444444444,
              "#bd3786"
             ],
             [
              0.5555555555555556,
              "#d8576b"
             ],
             [
              0.6666666666666666,
              "#ed7953"
             ],
             [
              0.7777777777777778,
              "#fb9f3a"
             ],
             [
              0.8888888888888888,
              "#fdca26"
             ],
             [
              1.0,
              "#f0f921"
             ]
            ]
           }
          ],
          "heatmap": [
           {
            "type": "heatmap",
            "colorbar": {
             "outlinewidth": 0,
             "ticks": ""
            },
            "colorscale": [
             [
              0.0,
              "#0d0887"
             ],
             [
              0.1111111111111111,
              "#46039f"
             ],
             [
              0.2222222222222222,
              "#7201a8"
             ],
             [
              0.3333333333333333,
              "#9c179e"
             ],
             [
              0.4444444444444444,
              "#bd3786"
             ],
             [
              0.5555555555555556,
              "#d8576b"
             ],
             [
              0.6666666666666666,
              "#ed7953"
             ],
             [
              0.7777777777777778,
              "#fb9f3a"
             ],
             [
              0.8888888888888888,
              "#fdca26"
             ],
             [
              1.0,
              "#f0f921"
             ]
            ]
           }
          ],
          "heatmapgl": [
           {
            "type": "heatmapgl",
            "colorbar": {
             "outlinewidth": 0,
             "ticks": ""
            },
            "colorscale": [
             [
              0.0,
              "#0d0887"
             ],
             [
              0.1111111111111111,
              "#46039f"
             ],
             [
              0.2222222222222222,
              "#7201a8"
             ],
             [
              0.3333333333333333,
              "#9c179e"
             ],
             [
              0.4444444444444444,
              "#bd3786"
             ],
             [
              0.5555555555555556,
              "#d8576b"
             ],
             [
              0.6666666666666666,
              "#ed7953"
             ],
             [
              0.7777777777777778,
              "#fb9f3a"
             ],
             [
              0.8888888888888888,
              "#fdca26"
             ],
             [
              1.0,
              "#f0f921"
             ]
            ]
           }
          ],
          "contourcarpet": [
           {
            "type": "contourcarpet",
            "colorbar": {
             "outlinewidth": 0,
             "ticks": ""
            }
           }
          ],
          "contour": [
           {
            "type": "contour",
            "colorbar": {
             "outlinewidth": 0,
             "ticks": ""
            },
            "colorscale": [
             [
              0.0,
              "#0d0887"
             ],
             [
              0.1111111111111111,
              "#46039f"
             ],
             [
              0.2222222222222222,
              "#7201a8"
             ],
             [
              0.3333333333333333,
              "#9c179e"
             ],
             [
              0.4444444444444444,
              "#bd3786"
             ],
             [
              0.5555555555555556,
              "#d8576b"
             ],
             [
              0.6666666666666666,
              "#ed7953"
             ],
             [
              0.7777777777777778,
              "#fb9f3a"
             ],
             [
              0.8888888888888888,
              "#fdca26"
             ],
             [
              1.0,
              "#f0f921"
             ]
            ]
           }
          ],
          "surface": [
           {
            "type": "surface",
            "colorbar": {
             "outlinewidth": 0,
             "ticks": ""
            },
            "colorscale": [
             [
              0.0,
              "#0d0887"
             ],
             [
              0.1111111111111111,
              "#46039f"
             ],
             [
              0.2222222222222222,
              "#7201a8"
             ],
             [
              0.3333333333333333,
              "#9c179e"
             ],
             [
              0.4444444444444444,
              "#bd3786"
             ],
             [
              0.5555555555555556,
              "#d8576b"
             ],
             [
              0.6666666666666666,
              "#ed7953"
             ],
             [
              0.7777777777777778,
              "#fb9f3a"
             ],
             [
              0.8888888888888888,
              "#fdca26"
             ],
             [
              1.0,
              "#f0f921"
             ]
            ]
           }
          ],
          "mesh3d": [
           {
            "type": "mesh3d",
            "colorbar": {
             "outlinewidth": 0,
             "ticks": ""
            }
           }
          ],
          "scatter": [
           {
            "marker": {
             "line": {
              "color": "#283442"
             }
            },
            "type": "scatter"
           }
          ],
          "parcoords": [
           {
            "type": "parcoords",
            "line": {
             "colorbar": {
              "outlinewidth": 0,
              "ticks": ""
             }
            }
           }
          ],
          "scatterpolargl": [
           {
            "type": "scatterpolargl",
            "marker": {
             "colorbar": {
              "outlinewidth": 0,
              "ticks": ""
             }
            }
           }
          ],
          "bar": [
           {
            "error_x": {
             "color": "#f2f5fa"
            },
            "error_y": {
             "color": "#f2f5fa"
            },
            "marker": {
             "line": {
              "color": "rgb(17,17,17)",
              "width": 0.5
             },
             "pattern": {
              "fillmode": "overlay",
              "size": 10,
              "solidity": 0.2
             }
            },
            "type": "bar"
           }
          ],
          "scattergeo": [
           {
            "type": "scattergeo",
            "marker": {
             "colorbar": {
              "outlinewidth": 0,
              "ticks": ""
             }
            }
           }
          ],
          "scatterpolar": [
           {
            "type": "scatterpolar",
            "marker": {
             "colorbar": {
              "outlinewidth": 0,
              "ticks": ""
             }
            }
           }
          ],
          "histogram": [
           {
            "marker": {
             "pattern": {
              "fillmode": "overlay",
              "size": 10,
              "solidity": 0.2
             }
            },
            "type": "histogram"
           }
          ],
          "scattergl": [
           {
            "marker": {
             "line": {
              "color": "#283442"
             }
            },
            "type": "scattergl"
           }
          ],
          "scatter3d": [
           {
            "type": "scatter3d",
            "line": {
             "colorbar": {
              "outlinewidth": 0,
              "ticks": ""
             }
            },
            "marker": {
             "colorbar": {
              "outlinewidth": 0,
              "ticks": ""
             }
            }
           }
          ],
          "scattermapbox": [
           {
            "type": "scattermapbox",
            "marker": {
             "colorbar": {
              "outlinewidth": 0,
              "ticks": ""
             }
            }
           }
          ],
          "scatterternary": [
           {
            "type": "scatterternary",
            "marker": {
             "colorbar": {
              "outlinewidth": 0,
              "ticks": ""
             }
            }
           }
          ],
          "scattercarpet": [
           {
            "type": "scattercarpet",
            "marker": {
             "colorbar": {
              "outlinewidth": 0,
              "ticks": ""
             }
            }
           }
          ],
          "carpet": [
           {
            "aaxis": {
             "endlinecolor": "#A2B1C6",
             "gridcolor": "#506784",
             "linecolor": "#506784",
             "minorgridcolor": "#506784",
             "startlinecolor": "#A2B1C6"
            },
            "baxis": {
             "endlinecolor": "#A2B1C6",
             "gridcolor": "#506784",
             "linecolor": "#506784",
             "minorgridcolor": "#506784",
             "startlinecolor": "#A2B1C6"
            },
            "type": "carpet"
           }
          ],
          "table": [
           {
            "cells": {
             "fill": {
              "color": "#506784"
             },
             "line": {
              "color": "rgb(17,17,17)"
             }
            },
            "header": {
             "fill": {
              "color": "#2a3f5f"
             },
             "line": {
              "color": "rgb(17,17,17)"
             }
            },
            "type": "table"
           }
          ],
          "barpolar": [
           {
            "marker": {
             "line": {
              "color": "rgb(17,17,17)",
              "width": 0.5
             },
             "pattern": {
              "fillmode": "overlay",
              "size": 10,
              "solidity": 0.2
             }
            },
            "type": "barpolar"
           }
          ],
          "pie": [
           {
            "automargin": true,
            "type": "pie"
           }
          ]
         },
         "layout": {
          "autotypenumbers": "strict",
          "colorway": [
           "#636efa",
           "#EF553B",
           "#00cc96",
           "#ab63fa",
           "#FFA15A",
           "#19d3f3",
           "#FF6692",
           "#B6E880",
           "#FF97FF",
           "#FECB52"
          ],
          "font": {
           "color": "#f2f5fa"
          },
          "hovermode": "closest",
          "hoverlabel": {
           "align": "left"
          },
          "paper_bgcolor": "rgb(17,17,17)",
          "plot_bgcolor": "rgb(17,17,17)",
          "polar": {
           "bgcolor": "rgb(17,17,17)",
           "angularaxis": {
            "gridcolor": "#506784",
            "linecolor": "#506784",
            "ticks": ""
           },
           "radialaxis": {
            "gridcolor": "#506784",
            "linecolor": "#506784",
            "ticks": ""
           }
          },
          "ternary": {
           "bgcolor": "rgb(17,17,17)",
           "aaxis": {
            "gridcolor": "#506784",
            "linecolor": "#506784",
            "ticks": ""
           },
           "baxis": {
            "gridcolor": "#506784",
            "linecolor": "#506784",
            "ticks": ""
           },
           "caxis": {
            "gridcolor": "#506784",
            "linecolor": "#506784",
            "ticks": ""
           }
          },
          "coloraxis": {
           "colorbar": {
            "outlinewidth": 0,
            "ticks": ""
           }
          },
          "colorscale": {
           "sequential": [
            [
             0.0,
             "#0d0887"
            ],
            [
             0.1111111111111111,
             "#46039f"
            ],
            [
             0.2222222222222222,
             "#7201a8"
            ],
            [
             0.3333333333333333,
             "#9c179e"
            ],
            [
             0.4444444444444444,
             "#bd3786"
            ],
            [
             0.5555555555555556,
             "#d8576b"
            ],
            [
             0.6666666666666666,
             "#ed7953"
            ],
            [
             0.7777777777777778,
             "#fb9f3a"
            ],
            [
             0.8888888888888888,
             "#fdca26"
            ],
            [
             1.0,
             "#f0f921"
            ]
           ],
           "sequentialminus": [
            [
             0.0,
             "#0d0887"
            ],
            [
             0.1111111111111111,
             "#46039f"
            ],
            [
             0.2222222222222222,
             "#7201a8"
            ],
            [
             0.3333333333333333,
             "#9c179e"
            ],
            [
             0.4444444444444444,
             "#bd3786"
            ],
            [
             0.5555555555555556,
             "#d8576b"
            ],
            [
             0.6666666666666666,
             "#ed7953"
            ],
            [
             0.7777777777777778,
             "#fb9f3a"
            ],
            [
             0.8888888888888888,
             "#fdca26"
            ],
            [
             1.0,
             "#f0f921"
            ]
           ],
           "diverging": [
            [
             0,
             "#8e0152"
            ],
            [
             0.1,
             "#c51b7d"
            ],
            [
             0.2,
             "#de77ae"
            ],
            [
             0.3,
             "#f1b6da"
            ],
            [
             0.4,
             "#fde0ef"
            ],
            [
             0.5,
             "#f7f7f7"
            ],
            [
             0.6,
             "#e6f5d0"
            ],
            [
             0.7,
             "#b8e186"
            ],
            [
             0.8,
             "#7fbc41"
            ],
            [
             0.9,
             "#4d9221"
            ],
            [
             1,
             "#276419"
            ]
           ]
          },
          "xaxis": {
           "gridcolor": "#283442",
           "linecolor": "#506784",
           "ticks": "",
           "title": {
            "standoff": 15
           },
           "zerolinecolor": "#283442",
           "automargin": true,
           "zerolinewidth": 2
          },
          "yaxis": {
           "gridcolor": "#283442",
           "linecolor": "#506784",
           "ticks": "",
           "title": {
            "standoff": 15
           },
           "zerolinecolor": "#283442",
           "automargin": true,
           "zerolinewidth": 2
          },
          "scene": {
           "xaxis": {
            "backgroundcolor": "rgb(17,17,17)",
            "gridcolor": "#506784",
            "linecolor": "#506784",
            "showbackground": true,
            "ticks": "",
            "zerolinecolor": "#C8D4E3",
            "gridwidth": 2
           },
           "yaxis": {
            "backgroundcolor": "rgb(17,17,17)",
            "gridcolor": "#506784",
            "linecolor": "#506784",
            "showbackground": true,
            "ticks": "",
            "zerolinecolor": "#C8D4E3",
            "gridwidth": 2
           },
           "zaxis": {
            "backgroundcolor": "rgb(17,17,17)",
            "gridcolor": "#506784",
            "linecolor": "#506784",
            "showbackground": true,
            "ticks": "",
            "zerolinecolor": "#C8D4E3",
            "gridwidth": 2
           }
          },
          "shapedefaults": {
           "line": {
            "color": "#f2f5fa"
           }
          },
          "annotationdefaults": {
           "arrowcolor": "#f2f5fa",
           "arrowhead": 0,
           "arrowwidth": 1
          },
          "geo": {
           "bgcolor": "rgb(17,17,17)",
           "landcolor": "rgb(17,17,17)",
           "subunitcolor": "#506784",
           "showland": true,
           "showlakes": true,
           "lakecolor": "rgb(17,17,17)"
          },
          "title": {
           "x": 0.05
          },
          "updatemenudefaults": {
           "bgcolor": "#506784",
           "borderwidth": 0
          },
          "sliderdefaults": {
           "bgcolor": "#C8D4E3",
           "borderwidth": 1,
           "bordercolor": "rgb(17,17,17)",
           "tickwidth": 0
          },
          "mapbox": {
           "style": "dark"
          }
         }
        },
        "xaxis": {
         "anchor": "y",
         "domain": [
          0.0,
          0.3133333333333333
         ],
         "title": {
          "text": "class_sep"
         }
        },
        "yaxis": {
         "anchor": "x",
         "domain": [
          0.0,
          0.17600000000000002
         ],
         "title": {
          "text": "right_n_clusters sum"
         }
        },
        "xaxis2": {
         "anchor": "y2",
         "domain": [
          0.3333333333333333,
          0.6466666666666666
         ],
         "matches": "x",
         "title": {
          "text": "class_sep"
         }
        },
        "yaxis2": {
         "anchor": "x2",
         "domain": [
          0.0,
          0.17600000000000002
         ],
         "matches": "y",
         "showticklabels": false
        },
        "xaxis3": {
         "anchor": "y3",
         "domain": [
          0.6666666666666666,
          0.98
         ],
         "matches": "x",
         "title": {
          "text": "class_sep"
         }
        },
        "yaxis3": {
         "anchor": "x3",
         "domain": [
          0.0,
          0.17600000000000002
         ],
         "matches": "y",
         "showticklabels": false
        },
        "xaxis4": {
         "anchor": "y4",
         "domain": [
          0.0,
          0.3133333333333333
         ],
         "matches": "x",
         "showticklabels": false
        },
        "yaxis4": {
         "anchor": "x4",
         "domain": [
          0.20600000000000002,
          0.382
         ],
         "matches": "y",
         "title": {
          "text": "right_n_clusters sum"
         }
        },
        "xaxis5": {
         "anchor": "y5",
         "domain": [
          0.3333333333333333,
          0.6466666666666666
         ],
         "matches": "x",
         "showticklabels": false
        },
        "yaxis5": {
         "anchor": "x5",
         "domain": [
          0.20600000000000002,
          0.382
         ],
         "matches": "y",
         "showticklabels": false
        },
        "xaxis6": {
         "anchor": "y6",
         "domain": [
          0.6666666666666666,
          0.98
         ],
         "matches": "x",
         "showticklabels": false
        },
        "yaxis6": {
         "anchor": "x6",
         "domain": [
          0.20600000000000002,
          0.382
         ],
         "matches": "y",
         "showticklabels": false
        },
        "xaxis7": {
         "anchor": "y7",
         "domain": [
          0.0,
          0.3133333333333333
         ],
         "matches": "x",
         "showticklabels": false
        },
        "yaxis7": {
         "anchor": "x7",
         "domain": [
          0.41200000000000003,
          0.5880000000000001
         ],
         "matches": "y",
         "title": {
          "text": "right_n_clusters sum"
         }
        },
        "xaxis8": {
         "anchor": "y8",
         "domain": [
          0.3333333333333333,
          0.6466666666666666
         ],
         "matches": "x",
         "showticklabels": false
        },
        "yaxis8": {
         "anchor": "x8",
         "domain": [
          0.41200000000000003,
          0.5880000000000001
         ],
         "matches": "y",
         "showticklabels": false
        },
        "xaxis9": {
         "anchor": "y9",
         "domain": [
          0.6666666666666666,
          0.98
         ],
         "matches": "x",
         "showticklabels": false
        },
        "yaxis9": {
         "anchor": "x9",
         "domain": [
          0.41200000000000003,
          0.5880000000000001
         ],
         "matches": "y",
         "showticklabels": false
        },
        "xaxis10": {
         "anchor": "y10",
         "domain": [
          0.0,
          0.3133333333333333
         ],
         "matches": "x",
         "showticklabels": false
        },
        "yaxis10": {
         "anchor": "x10",
         "domain": [
          0.618,
          0.794
         ],
         "matches": "y",
         "title": {
          "text": "right_n_clusters sum"
         }
        },
        "xaxis11": {
         "anchor": "y11",
         "domain": [
          0.3333333333333333,
          0.6466666666666666
         ],
         "matches": "x",
         "showticklabels": false
        },
        "yaxis11": {
         "anchor": "x11",
         "domain": [
          0.618,
          0.794
         ],
         "matches": "y",
         "showticklabels": false
        },
        "xaxis12": {
         "anchor": "y12",
         "domain": [
          0.6666666666666666,
          0.98
         ],
         "matches": "x",
         "showticklabels": false
        },
        "yaxis12": {
         "anchor": "x12",
         "domain": [
          0.618,
          0.794
         ],
         "matches": "y",
         "showticklabels": false
        },
        "xaxis13": {
         "anchor": "y13",
         "domain": [
          0.0,
          0.3133333333333333
         ],
         "matches": "x",
         "showticklabels": false
        },
        "yaxis13": {
         "anchor": "x13",
         "domain": [
          0.8240000000000001,
          1.0
         ],
         "matches": "y",
         "title": {
          "text": "right_n_clusters sum"
         }
        },
        "xaxis14": {
         "anchor": "y14",
         "domain": [
          0.3333333333333333,
          0.6466666666666666
         ],
         "matches": "x",
         "showticklabels": false
        },
        "yaxis14": {
         "anchor": "x14",
         "domain": [
          0.8240000000000001,
          1.0
         ],
         "matches": "y",
         "showticklabels": false
        },
        "xaxis15": {
         "anchor": "y15",
         "domain": [
          0.6666666666666666,
          0.98
         ],
         "matches": "x",
         "showticklabels": false
        },
        "yaxis15": {
         "anchor": "x15",
         "domain": [
          0.8240000000000001,
          1.0
         ],
         "matches": "y",
         "showticklabels": false
        },
        "annotations": [
         {
          "font": {},
          "showarrow": false,
          "text": "n_samples=100",
          "x": 0.15666666666666665,
          "xanchor": "center",
          "xref": "paper",
          "y": 1.0,
          "yanchor": "bottom",
          "yref": "paper"
         },
         {
          "font": {},
          "showarrow": false,
          "text": "n_samples=1000",
          "x": 0.49,
          "xanchor": "center",
          "xref": "paper",
          "y": 1.0,
          "yanchor": "bottom",
          "yref": "paper"
         },
         {
          "font": {},
          "showarrow": false,
          "text": "n_samples=10000",
          "x": 0.8233333333333333,
          "xanchor": "center",
          "xref": "paper",
          "y": 1.0,
          "yanchor": "bottom",
          "yref": "paper"
         },
         {
          "font": {},
          "showarrow": false,
          "text": "n_classes=20",
          "textangle": 90,
          "x": 0.98,
          "xanchor": "left",
          "xref": "paper",
          "y": 0.08800000000000001,
          "yanchor": "middle",
          "yref": "paper"
         },
         {
          "font": {},
          "showarrow": false,
          "text": "n_classes=12",
          "textangle": 90,
          "x": 0.98,
          "xanchor": "left",
          "xref": "paper",
          "y": 0.29400000000000004,
          "yanchor": "middle",
          "yref": "paper"
         },
         {
          "font": {},
          "showarrow": false,
          "text": "n_classes=8",
          "textangle": 90,
          "x": 0.98,
          "xanchor": "left",
          "xref": "paper",
          "y": 0.5,
          "yanchor": "middle",
          "yref": "paper"
         },
         {
          "font": {},
          "showarrow": false,
          "text": "n_classes=5",
          "textangle": 90,
          "x": 0.98,
          "xanchor": "left",
          "xref": "paper",
          "y": 0.706,
          "yanchor": "middle",
          "yref": "paper"
         },
         {
          "font": {},
          "showarrow": false,
          "text": "n_classes=2",
          "textangle": 90,
          "x": 0.98,
          "xanchor": "left",
          "xref": "paper",
          "y": 0.912,
          "yanchor": "middle",
          "yref": "paper"
         }
        ],
        "legend": {
         "title": {
          "text": "model_nickname"
         },
         "tracegroupgap": 0
        },
        "margin": {
         "t": 60
        },
        "height": 1000,
        "width": 1000
       },
       "config": {
        "plotlyServerURL": "https://plot.ly"
       }
      },
      "text/html": [
       "<div>                            <div id=\"3ea0c029-76ac-459b-a4d1-cade861152e5\" class=\"plotly-graph-div\" style=\"height:1000px; width:1000px;\"></div>            <script type=\"text/javascript\">                require([\"plotly\"], function(Plotly) {                    window.PLOTLYENV=window.PLOTLYENV || {};                                    if (document.getElementById(\"3ea0c029-76ac-459b-a4d1-cade861152e5\")) {                    Plotly.newPlot(                        \"3ea0c029-76ac-459b-a4d1-cade861152e5\",                        [{\"hovertemplate\":\"model_nickname=KMeans\\u003cbr\\u003en_classes=2\\u003cbr\\u003en_samples=100\\u003cbr\\u003eclass_sep=%{x}\\u003cbr\\u003eright_n_clusters sum=%{y}\\u003cextra\\u003e\\u003c\\u002fextra\\u003e\",\"legendgroup\":\"KMeans\",\"marker\":{\"color\":\"#636efa\",\"symbol\":\"circle\"},\"mode\":\"markers\",\"name\":\"KMeans\",\"orientation\":\"v\",\"showlegend\":true,\"x\":[10.0,20.0,30.0,40.0,50.0,100.0],\"xaxis\":\"x13\",\"y\":[5,5,5,5,5,5],\"yaxis\":\"y13\",\"type\":\"scatter\"},{\"hovertemplate\":\"model_nickname=KMeans\\u003cbr\\u003en_classes=2\\u003cbr\\u003en_samples=1000\\u003cbr\\u003eclass_sep=%{x}\\u003cbr\\u003eright_n_clusters sum=%{y}\\u003cextra\\u003e\\u003c\\u002fextra\\u003e\",\"legendgroup\":\"KMeans\",\"marker\":{\"color\":\"#636efa\",\"symbol\":\"circle\"},\"mode\":\"markers\",\"name\":\"KMeans\",\"orientation\":\"v\",\"showlegend\":false,\"x\":[10.0,20.0,30.0,40.0,50.0,100.0],\"xaxis\":\"x14\",\"y\":[5,5,5,5,5,5],\"yaxis\":\"y14\",\"type\":\"scatter\"},{\"hovertemplate\":\"model_nickname=KMeans\\u003cbr\\u003en_classes=2\\u003cbr\\u003en_samples=10000\\u003cbr\\u003eclass_sep=%{x}\\u003cbr\\u003eright_n_clusters sum=%{y}\\u003cextra\\u003e\\u003c\\u002fextra\\u003e\",\"legendgroup\":\"KMeans\",\"marker\":{\"color\":\"#636efa\",\"symbol\":\"circle\"},\"mode\":\"markers\",\"name\":\"KMeans\",\"orientation\":\"v\",\"showlegend\":false,\"x\":[10.0,20.0,30.0,40.0,50.0,100.0],\"xaxis\":\"x15\",\"y\":[5,5,5,5,5,5],\"yaxis\":\"y15\",\"type\":\"scatter\"},{\"hovertemplate\":\"model_nickname=KMeans\\u003cbr\\u003en_classes=5\\u003cbr\\u003en_samples=100\\u003cbr\\u003eclass_sep=%{x}\\u003cbr\\u003eright_n_clusters sum=%{y}\\u003cextra\\u003e\\u003c\\u002fextra\\u003e\",\"legendgroup\":\"KMeans\",\"marker\":{\"color\":\"#636efa\",\"symbol\":\"circle\"},\"mode\":\"markers\",\"name\":\"KMeans\",\"orientation\":\"v\",\"showlegend\":false,\"x\":[10.0,20.0,30.0,40.0,50.0,100.0],\"xaxis\":\"x10\",\"y\":[0,3,3,4,3,5],\"yaxis\":\"y10\",\"type\":\"scatter\"},{\"hovertemplate\":\"model_nickname=KMeans\\u003cbr\\u003en_classes=5\\u003cbr\\u003en_samples=1000\\u003cbr\\u003eclass_sep=%{x}\\u003cbr\\u003eright_n_clusters sum=%{y}\\u003cextra\\u003e\\u003c\\u002fextra\\u003e\",\"legendgroup\":\"KMeans\",\"marker\":{\"color\":\"#636efa\",\"symbol\":\"circle\"},\"mode\":\"markers\",\"name\":\"KMeans\",\"orientation\":\"v\",\"showlegend\":false,\"x\":[10.0,20.0,30.0,40.0,50.0,100.0],\"xaxis\":\"x11\",\"y\":[1,3,4,4,4,5],\"yaxis\":\"y11\",\"type\":\"scatter\"},{\"hovertemplate\":\"model_nickname=KMeans\\u003cbr\\u003en_classes=5\\u003cbr\\u003en_samples=10000\\u003cbr\\u003eclass_sep=%{x}\\u003cbr\\u003eright_n_clusters sum=%{y}\\u003cextra\\u003e\\u003c\\u002fextra\\u003e\",\"legendgroup\":\"KMeans\",\"marker\":{\"color\":\"#636efa\",\"symbol\":\"circle\"},\"mode\":\"markers\",\"name\":\"KMeans\",\"orientation\":\"v\",\"showlegend\":false,\"x\":[10.0,20.0,30.0,40.0,50.0,100.0],\"xaxis\":\"x12\",\"y\":[2,3,2,3,4,5],\"yaxis\":\"y12\",\"type\":\"scatter\"},{\"hovertemplate\":\"model_nickname=KMeans\\u003cbr\\u003en_classes=8\\u003cbr\\u003en_samples=100\\u003cbr\\u003eclass_sep=%{x}\\u003cbr\\u003eright_n_clusters sum=%{y}\\u003cextra\\u003e\\u003c\\u002fextra\\u003e\",\"legendgroup\":\"KMeans\",\"marker\":{\"color\":\"#636efa\",\"symbol\":\"circle\"},\"mode\":\"markers\",\"name\":\"KMeans\",\"orientation\":\"v\",\"showlegend\":false,\"x\":[10.0,20.0,30.0,40.0,50.0,100.0],\"xaxis\":\"x7\",\"y\":[2,3,2,2,2,5],\"yaxis\":\"y7\",\"type\":\"scatter\"},{\"hovertemplate\":\"model_nickname=KMeans\\u003cbr\\u003en_classes=8\\u003cbr\\u003en_samples=1000\\u003cbr\\u003eclass_sep=%{x}\\u003cbr\\u003eright_n_clusters sum=%{y}\\u003cextra\\u003e\\u003c\\u002fextra\\u003e\",\"legendgroup\":\"KMeans\",\"marker\":{\"color\":\"#636efa\",\"symbol\":\"circle\"},\"mode\":\"markers\",\"name\":\"KMeans\",\"orientation\":\"v\",\"showlegend\":false,\"x\":[10.0,20.0,30.0,40.0,50.0,100.0],\"xaxis\":\"x8\",\"y\":[2,4,2,3,3,5],\"yaxis\":\"y8\",\"type\":\"scatter\"},{\"hovertemplate\":\"model_nickname=KMeans\\u003cbr\\u003en_classes=8\\u003cbr\\u003en_samples=10000\\u003cbr\\u003eclass_sep=%{x}\\u003cbr\\u003eright_n_clusters sum=%{y}\\u003cextra\\u003e\\u003c\\u002fextra\\u003e\",\"legendgroup\":\"KMeans\",\"marker\":{\"color\":\"#636efa\",\"symbol\":\"circle\"},\"mode\":\"markers\",\"name\":\"KMeans\",\"orientation\":\"v\",\"showlegend\":false,\"x\":[10.0,20.0,30.0,40.0,50.0,100.0],\"xaxis\":\"x9\",\"y\":[3,2,3,3,2,4],\"yaxis\":\"y9\",\"type\":\"scatter\"},{\"hovertemplate\":\"model_nickname=KMeans\\u003cbr\\u003en_classes=12\\u003cbr\\u003en_samples=100\\u003cbr\\u003eclass_sep=%{x}\\u003cbr\\u003eright_n_clusters sum=%{y}\\u003cextra\\u003e\\u003c\\u002fextra\\u003e\",\"legendgroup\":\"KMeans\",\"marker\":{\"color\":\"#636efa\",\"symbol\":\"circle\"},\"mode\":\"markers\",\"name\":\"KMeans\",\"orientation\":\"v\",\"showlegend\":false,\"x\":[10.0,20.0,30.0,40.0,50.0,100.0],\"xaxis\":\"x4\",\"y\":[0,0,1,1,4,3],\"yaxis\":\"y4\",\"type\":\"scatter\"},{\"hovertemplate\":\"model_nickname=KMeans\\u003cbr\\u003en_classes=12\\u003cbr\\u003en_samples=1000\\u003cbr\\u003eclass_sep=%{x}\\u003cbr\\u003eright_n_clusters sum=%{y}\\u003cextra\\u003e\\u003c\\u002fextra\\u003e\",\"legendgroup\":\"KMeans\",\"marker\":{\"color\":\"#636efa\",\"symbol\":\"circle\"},\"mode\":\"markers\",\"name\":\"KMeans\",\"orientation\":\"v\",\"showlegend\":false,\"x\":[10.0,20.0,30.0,40.0,50.0,100.0],\"xaxis\":\"x5\",\"y\":[1,1,0,2,2,5],\"yaxis\":\"y5\",\"type\":\"scatter\"},{\"hovertemplate\":\"model_nickname=KMeans\\u003cbr\\u003en_classes=12\\u003cbr\\u003en_samples=10000\\u003cbr\\u003eclass_sep=%{x}\\u003cbr\\u003eright_n_clusters sum=%{y}\\u003cextra\\u003e\\u003c\\u002fextra\\u003e\",\"legendgroup\":\"KMeans\",\"marker\":{\"color\":\"#636efa\",\"symbol\":\"circle\"},\"mode\":\"markers\",\"name\":\"KMeans\",\"orientation\":\"v\",\"showlegend\":false,\"x\":[10.0,20.0,30.0,40.0,50.0,100.0],\"xaxis\":\"x6\",\"y\":[0,1,1,1,1,3],\"yaxis\":\"y6\",\"type\":\"scatter\"},{\"hovertemplate\":\"model_nickname=KMeans\\u003cbr\\u003en_classes=20\\u003cbr\\u003en_samples=100\\u003cbr\\u003eclass_sep=%{x}\\u003cbr\\u003eright_n_clusters sum=%{y}\\u003cextra\\u003e\\u003c\\u002fextra\\u003e\",\"legendgroup\":\"KMeans\",\"marker\":{\"color\":\"#636efa\",\"symbol\":\"circle\"},\"mode\":\"markers\",\"name\":\"KMeans\",\"orientation\":\"v\",\"showlegend\":false,\"x\":[10.0,20.0,30.0,40.0,50.0,100.0],\"xaxis\":\"x\",\"y\":[0,0,0,0,0,3],\"yaxis\":\"y\",\"type\":\"scatter\"},{\"hovertemplate\":\"model_nickname=KMeans\\u003cbr\\u003en_classes=20\\u003cbr\\u003en_samples=1000\\u003cbr\\u003eclass_sep=%{x}\\u003cbr\\u003eright_n_clusters sum=%{y}\\u003cextra\\u003e\\u003c\\u002fextra\\u003e\",\"legendgroup\":\"KMeans\",\"marker\":{\"color\":\"#636efa\",\"symbol\":\"circle\"},\"mode\":\"markers\",\"name\":\"KMeans\",\"orientation\":\"v\",\"showlegend\":false,\"x\":[10.0,20.0,30.0,40.0,50.0,100.0],\"xaxis\":\"x2\",\"y\":[0,0,1,1,1,2],\"yaxis\":\"y2\",\"type\":\"scatter\"},{\"hovertemplate\":\"model_nickname=KMeans\\u003cbr\\u003en_classes=20\\u003cbr\\u003en_samples=10000\\u003cbr\\u003eclass_sep=%{x}\\u003cbr\\u003eright_n_clusters sum=%{y}\\u003cextra\\u003e\\u003c\\u002fextra\\u003e\",\"legendgroup\":\"KMeans\",\"marker\":{\"color\":\"#636efa\",\"symbol\":\"circle\"},\"mode\":\"markers\",\"name\":\"KMeans\",\"orientation\":\"v\",\"showlegend\":false,\"x\":[10.0,20.0,30.0,40.0,50.0,100.0],\"xaxis\":\"x3\",\"y\":[1,0,1,1,3,1],\"yaxis\":\"y3\",\"type\":\"scatter\"},{\"hovertemplate\":\"model_nickname=RecursiveClustering\\u003cbr\\u003en_classes=2\\u003cbr\\u003en_samples=100\\u003cbr\\u003eclass_sep=%{x}\\u003cbr\\u003eright_n_clusters sum=%{y}\\u003cextra\\u003e\\u003c\\u002fextra\\u003e\",\"legendgroup\":\"RecursiveClustering\",\"marker\":{\"color\":\"#EF553B\",\"symbol\":\"circle\"},\"mode\":\"markers\",\"name\":\"RecursiveClustering\",\"orientation\":\"v\",\"showlegend\":true,\"x\":[10.0,20.0,30.0,40.0,50.0,100.0],\"xaxis\":\"x13\",\"y\":[0,1,1,4,5,5],\"yaxis\":\"y13\",\"type\":\"scatter\"},{\"hovertemplate\":\"model_nickname=RecursiveClustering\\u003cbr\\u003en_classes=2\\u003cbr\\u003en_samples=1000\\u003cbr\\u003eclass_sep=%{x}\\u003cbr\\u003eright_n_clusters sum=%{y}\\u003cextra\\u003e\\u003c\\u002fextra\\u003e\",\"legendgroup\":\"RecursiveClustering\",\"marker\":{\"color\":\"#EF553B\",\"symbol\":\"circle\"},\"mode\":\"markers\",\"name\":\"RecursiveClustering\",\"orientation\":\"v\",\"showlegend\":false,\"x\":[10.0,20.0,30.0,40.0,50.0,100.0],\"xaxis\":\"x14\",\"y\":[1,0,1,2,2,5],\"yaxis\":\"y14\",\"type\":\"scatter\"},{\"hovertemplate\":\"model_nickname=RecursiveClustering\\u003cbr\\u003en_classes=2\\u003cbr\\u003en_samples=10000\\u003cbr\\u003eclass_sep=%{x}\\u003cbr\\u003eright_n_clusters sum=%{y}\\u003cextra\\u003e\\u003c\\u002fextra\\u003e\",\"legendgroup\":\"RecursiveClustering\",\"marker\":{\"color\":\"#EF553B\",\"symbol\":\"circle\"},\"mode\":\"markers\",\"name\":\"RecursiveClustering\",\"orientation\":\"v\",\"showlegend\":false,\"x\":[10.0,20.0,30.0,40.0,50.0,100.0],\"xaxis\":\"x15\",\"y\":[0,0,0,1,0,4],\"yaxis\":\"y15\",\"type\":\"scatter\"},{\"hovertemplate\":\"model_nickname=RecursiveClustering\\u003cbr\\u003en_classes=5\\u003cbr\\u003en_samples=100\\u003cbr\\u003eclass_sep=%{x}\\u003cbr\\u003eright_n_clusters sum=%{y}\\u003cextra\\u003e\\u003c\\u002fextra\\u003e\",\"legendgroup\":\"RecursiveClustering\",\"marker\":{\"color\":\"#EF553B\",\"symbol\":\"circle\"},\"mode\":\"markers\",\"name\":\"RecursiveClustering\",\"orientation\":\"v\",\"showlegend\":false,\"x\":[10.0,20.0,30.0,40.0,50.0,100.0],\"xaxis\":\"x10\",\"y\":[0,0,0,2,2,5],\"yaxis\":\"y10\",\"type\":\"scatter\"},{\"hovertemplate\":\"model_nickname=RecursiveClustering\\u003cbr\\u003en_classes=5\\u003cbr\\u003en_samples=1000\\u003cbr\\u003eclass_sep=%{x}\\u003cbr\\u003eright_n_clusters sum=%{y}\\u003cextra\\u003e\\u003c\\u002fextra\\u003e\",\"legendgroup\":\"RecursiveClustering\",\"marker\":{\"color\":\"#EF553B\",\"symbol\":\"circle\"},\"mode\":\"markers\",\"name\":\"RecursiveClustering\",\"orientation\":\"v\",\"showlegend\":false,\"x\":[10.0,20.0,30.0,40.0,50.0,100.0],\"xaxis\":\"x11\",\"y\":[0,0,2,2,3,5],\"yaxis\":\"y11\",\"type\":\"scatter\"},{\"hovertemplate\":\"model_nickname=RecursiveClustering\\u003cbr\\u003en_classes=5\\u003cbr\\u003en_samples=10000\\u003cbr\\u003eclass_sep=%{x}\\u003cbr\\u003eright_n_clusters sum=%{y}\\u003cextra\\u003e\\u003c\\u002fextra\\u003e\",\"legendgroup\":\"RecursiveClustering\",\"marker\":{\"color\":\"#EF553B\",\"symbol\":\"circle\"},\"mode\":\"markers\",\"name\":\"RecursiveClustering\",\"orientation\":\"v\",\"showlegend\":false,\"x\":[10.0,20.0,30.0,40.0,50.0,100.0],\"xaxis\":\"x12\",\"y\":[0,0,0,1,3,4],\"yaxis\":\"y12\",\"type\":\"scatter\"},{\"hovertemplate\":\"model_nickname=RecursiveClustering\\u003cbr\\u003en_classes=8\\u003cbr\\u003en_samples=100\\u003cbr\\u003eclass_sep=%{x}\\u003cbr\\u003eright_n_clusters sum=%{y}\\u003cextra\\u003e\\u003c\\u002fextra\\u003e\",\"legendgroup\":\"RecursiveClustering\",\"marker\":{\"color\":\"#EF553B\",\"symbol\":\"circle\"},\"mode\":\"markers\",\"name\":\"RecursiveClustering\",\"orientation\":\"v\",\"showlegend\":false,\"x\":[10.0,20.0,30.0,40.0,50.0,100.0],\"xaxis\":\"x7\",\"y\":[0,0,0,0,1,5],\"yaxis\":\"y7\",\"type\":\"scatter\"},{\"hovertemplate\":\"model_nickname=RecursiveClustering\\u003cbr\\u003en_classes=8\\u003cbr\\u003en_samples=1000\\u003cbr\\u003eclass_sep=%{x}\\u003cbr\\u003eright_n_clusters sum=%{y}\\u003cextra\\u003e\\u003c\\u002fextra\\u003e\",\"legendgroup\":\"RecursiveClustering\",\"marker\":{\"color\":\"#EF553B\",\"symbol\":\"circle\"},\"mode\":\"markers\",\"name\":\"RecursiveClustering\",\"orientation\":\"v\",\"showlegend\":false,\"x\":[10.0,20.0,30.0,40.0,50.0,100.0],\"xaxis\":\"x8\",\"y\":[0,0,0,1,1,5],\"yaxis\":\"y8\",\"type\":\"scatter\"},{\"hovertemplate\":\"model_nickname=RecursiveClustering\\u003cbr\\u003en_classes=8\\u003cbr\\u003en_samples=10000\\u003cbr\\u003eclass_sep=%{x}\\u003cbr\\u003eright_n_clusters sum=%{y}\\u003cextra\\u003e\\u003c\\u002fextra\\u003e\",\"legendgroup\":\"RecursiveClustering\",\"marker\":{\"color\":\"#EF553B\",\"symbol\":\"circle\"},\"mode\":\"markers\",\"name\":\"RecursiveClustering\",\"orientation\":\"v\",\"showlegend\":false,\"x\":[10.0,20.0,30.0,40.0,50.0,100.0],\"xaxis\":\"x9\",\"y\":[0,0,0,0,2,2],\"yaxis\":\"y9\",\"type\":\"scatter\"},{\"hovertemplate\":\"model_nickname=RecursiveClustering\\u003cbr\\u003en_classes=12\\u003cbr\\u003en_samples=100\\u003cbr\\u003eclass_sep=%{x}\\u003cbr\\u003eright_n_clusters sum=%{y}\\u003cextra\\u003e\\u003c\\u002fextra\\u003e\",\"legendgroup\":\"RecursiveClustering\",\"marker\":{\"color\":\"#EF553B\",\"symbol\":\"circle\"},\"mode\":\"markers\",\"name\":\"RecursiveClustering\",\"orientation\":\"v\",\"showlegend\":false,\"x\":[10.0,20.0,30.0,40.0,50.0,100.0],\"xaxis\":\"x4\",\"y\":[0,0,0,0,1,5],\"yaxis\":\"y4\",\"type\":\"scatter\"},{\"hovertemplate\":\"model_nickname=RecursiveClustering\\u003cbr\\u003en_classes=12\\u003cbr\\u003en_samples=1000\\u003cbr\\u003eclass_sep=%{x}\\u003cbr\\u003eright_n_clusters sum=%{y}\\u003cextra\\u003e\\u003c\\u002fextra\\u003e\",\"legendgroup\":\"RecursiveClustering\",\"marker\":{\"color\":\"#EF553B\",\"symbol\":\"circle\"},\"mode\":\"markers\",\"name\":\"RecursiveClustering\",\"orientation\":\"v\",\"showlegend\":false,\"x\":[10.0,20.0,30.0,40.0,50.0,100.0],\"xaxis\":\"x5\",\"y\":[0,0,0,0,0,5],\"yaxis\":\"y5\",\"type\":\"scatter\"},{\"hovertemplate\":\"model_nickname=RecursiveClustering\\u003cbr\\u003en_classes=12\\u003cbr\\u003en_samples=10000\\u003cbr\\u003eclass_sep=%{x}\\u003cbr\\u003eright_n_clusters sum=%{y}\\u003cextra\\u003e\\u003c\\u002fextra\\u003e\",\"legendgroup\":\"RecursiveClustering\",\"marker\":{\"color\":\"#EF553B\",\"symbol\":\"circle\"},\"mode\":\"markers\",\"name\":\"RecursiveClustering\",\"orientation\":\"v\",\"showlegend\":false,\"x\":[10.0,20.0,30.0,40.0,50.0,100.0],\"xaxis\":\"x6\",\"y\":[0,0,0,1,0,4],\"yaxis\":\"y6\",\"type\":\"scatter\"},{\"hovertemplate\":\"model_nickname=RecursiveClustering\\u003cbr\\u003en_classes=20\\u003cbr\\u003en_samples=100\\u003cbr\\u003eclass_sep=%{x}\\u003cbr\\u003eright_n_clusters sum=%{y}\\u003cextra\\u003e\\u003c\\u002fextra\\u003e\",\"legendgroup\":\"RecursiveClustering\",\"marker\":{\"color\":\"#EF553B\",\"symbol\":\"circle\"},\"mode\":\"markers\",\"name\":\"RecursiveClustering\",\"orientation\":\"v\",\"showlegend\":false,\"x\":[10.0,20.0,30.0,40.0,50.0,100.0],\"xaxis\":\"x\",\"y\":[0,0,0,0,1,5],\"yaxis\":\"y\",\"type\":\"scatter\"},{\"hovertemplate\":\"model_nickname=RecursiveClustering\\u003cbr\\u003en_classes=20\\u003cbr\\u003en_samples=1000\\u003cbr\\u003eclass_sep=%{x}\\u003cbr\\u003eright_n_clusters sum=%{y}\\u003cextra\\u003e\\u003c\\u002fextra\\u003e\",\"legendgroup\":\"RecursiveClustering\",\"marker\":{\"color\":\"#EF553B\",\"symbol\":\"circle\"},\"mode\":\"markers\",\"name\":\"RecursiveClustering\",\"orientation\":\"v\",\"showlegend\":false,\"x\":[10.0,20.0,30.0,40.0,50.0,100.0],\"xaxis\":\"x2\",\"y\":[0,0,0,0,1,5],\"yaxis\":\"y2\",\"type\":\"scatter\"},{\"hovertemplate\":\"model_nickname=RecursiveClustering\\u003cbr\\u003en_classes=20\\u003cbr\\u003en_samples=10000\\u003cbr\\u003eclass_sep=%{x}\\u003cbr\\u003eright_n_clusters sum=%{y}\\u003cextra\\u003e\\u003c\\u002fextra\\u003e\",\"legendgroup\":\"RecursiveClustering\",\"marker\":{\"color\":\"#EF553B\",\"symbol\":\"circle\"},\"mode\":\"markers\",\"name\":\"RecursiveClustering\",\"orientation\":\"v\",\"showlegend\":false,\"x\":[10.0,20.0,30.0,40.0,50.0,100.0],\"xaxis\":\"x3\",\"y\":[0,0,0,0,0,3],\"yaxis\":\"y3\",\"type\":\"scatter\"}],                        {\"template\":{\"data\":{\"histogram2dcontour\":[{\"type\":\"histogram2dcontour\",\"colorbar\":{\"outlinewidth\":0,\"ticks\":\"\"},\"colorscale\":[[0.0,\"#0d0887\"],[0.1111111111111111,\"#46039f\"],[0.2222222222222222,\"#7201a8\"],[0.3333333333333333,\"#9c179e\"],[0.4444444444444444,\"#bd3786\"],[0.5555555555555556,\"#d8576b\"],[0.6666666666666666,\"#ed7953\"],[0.7777777777777778,\"#fb9f3a\"],[0.8888888888888888,\"#fdca26\"],[1.0,\"#f0f921\"]]}],\"choropleth\":[{\"type\":\"choropleth\",\"colorbar\":{\"outlinewidth\":0,\"ticks\":\"\"}}],\"histogram2d\":[{\"type\":\"histogram2d\",\"colorbar\":{\"outlinewidth\":0,\"ticks\":\"\"},\"colorscale\":[[0.0,\"#0d0887\"],[0.1111111111111111,\"#46039f\"],[0.2222222222222222,\"#7201a8\"],[0.3333333333333333,\"#9c179e\"],[0.4444444444444444,\"#bd3786\"],[0.5555555555555556,\"#d8576b\"],[0.6666666666666666,\"#ed7953\"],[0.7777777777777778,\"#fb9f3a\"],[0.8888888888888888,\"#fdca26\"],[1.0,\"#f0f921\"]]}],\"heatmap\":[{\"type\":\"heatmap\",\"colorbar\":{\"outlinewidth\":0,\"ticks\":\"\"},\"colorscale\":[[0.0,\"#0d0887\"],[0.1111111111111111,\"#46039f\"],[0.2222222222222222,\"#7201a8\"],[0.3333333333333333,\"#9c179e\"],[0.4444444444444444,\"#bd3786\"],[0.5555555555555556,\"#d8576b\"],[0.6666666666666666,\"#ed7953\"],[0.7777777777777778,\"#fb9f3a\"],[0.8888888888888888,\"#fdca26\"],[1.0,\"#f0f921\"]]}],\"heatmapgl\":[{\"type\":\"heatmapgl\",\"colorbar\":{\"outlinewidth\":0,\"ticks\":\"\"},\"colorscale\":[[0.0,\"#0d0887\"],[0.1111111111111111,\"#46039f\"],[0.2222222222222222,\"#7201a8\"],[0.3333333333333333,\"#9c179e\"],[0.4444444444444444,\"#bd3786\"],[0.5555555555555556,\"#d8576b\"],[0.6666666666666666,\"#ed7953\"],[0.7777777777777778,\"#fb9f3a\"],[0.8888888888888888,\"#fdca26\"],[1.0,\"#f0f921\"]]}],\"contourcarpet\":[{\"type\":\"contourcarpet\",\"colorbar\":{\"outlinewidth\":0,\"ticks\":\"\"}}],\"contour\":[{\"type\":\"contour\",\"colorbar\":{\"outlinewidth\":0,\"ticks\":\"\"},\"colorscale\":[[0.0,\"#0d0887\"],[0.1111111111111111,\"#46039f\"],[0.2222222222222222,\"#7201a8\"],[0.3333333333333333,\"#9c179e\"],[0.4444444444444444,\"#bd3786\"],[0.5555555555555556,\"#d8576b\"],[0.6666666666666666,\"#ed7953\"],[0.7777777777777778,\"#fb9f3a\"],[0.8888888888888888,\"#fdca26\"],[1.0,\"#f0f921\"]]}],\"surface\":[{\"type\":\"surface\",\"colorbar\":{\"outlinewidth\":0,\"ticks\":\"\"},\"colorscale\":[[0.0,\"#0d0887\"],[0.1111111111111111,\"#46039f\"],[0.2222222222222222,\"#7201a8\"],[0.3333333333333333,\"#9c179e\"],[0.4444444444444444,\"#bd3786\"],[0.5555555555555556,\"#d8576b\"],[0.6666666666666666,\"#ed7953\"],[0.7777777777777778,\"#fb9f3a\"],[0.8888888888888888,\"#fdca26\"],[1.0,\"#f0f921\"]]}],\"mesh3d\":[{\"type\":\"mesh3d\",\"colorbar\":{\"outlinewidth\":0,\"ticks\":\"\"}}],\"scatter\":[{\"marker\":{\"line\":{\"color\":\"#283442\"}},\"type\":\"scatter\"}],\"parcoords\":[{\"type\":\"parcoords\",\"line\":{\"colorbar\":{\"outlinewidth\":0,\"ticks\":\"\"}}}],\"scatterpolargl\":[{\"type\":\"scatterpolargl\",\"marker\":{\"colorbar\":{\"outlinewidth\":0,\"ticks\":\"\"}}}],\"bar\":[{\"error_x\":{\"color\":\"#f2f5fa\"},\"error_y\":{\"color\":\"#f2f5fa\"},\"marker\":{\"line\":{\"color\":\"rgb(17,17,17)\",\"width\":0.5},\"pattern\":{\"fillmode\":\"overlay\",\"size\":10,\"solidity\":0.2}},\"type\":\"bar\"}],\"scattergeo\":[{\"type\":\"scattergeo\",\"marker\":{\"colorbar\":{\"outlinewidth\":0,\"ticks\":\"\"}}}],\"scatterpolar\":[{\"type\":\"scatterpolar\",\"marker\":{\"colorbar\":{\"outlinewidth\":0,\"ticks\":\"\"}}}],\"histogram\":[{\"marker\":{\"pattern\":{\"fillmode\":\"overlay\",\"size\":10,\"solidity\":0.2}},\"type\":\"histogram\"}],\"scattergl\":[{\"marker\":{\"line\":{\"color\":\"#283442\"}},\"type\":\"scattergl\"}],\"scatter3d\":[{\"type\":\"scatter3d\",\"line\":{\"colorbar\":{\"outlinewidth\":0,\"ticks\":\"\"}},\"marker\":{\"colorbar\":{\"outlinewidth\":0,\"ticks\":\"\"}}}],\"scattermapbox\":[{\"type\":\"scattermapbox\",\"marker\":{\"colorbar\":{\"outlinewidth\":0,\"ticks\":\"\"}}}],\"scatterternary\":[{\"type\":\"scatterternary\",\"marker\":{\"colorbar\":{\"outlinewidth\":0,\"ticks\":\"\"}}}],\"scattercarpet\":[{\"type\":\"scattercarpet\",\"marker\":{\"colorbar\":{\"outlinewidth\":0,\"ticks\":\"\"}}}],\"carpet\":[{\"aaxis\":{\"endlinecolor\":\"#A2B1C6\",\"gridcolor\":\"#506784\",\"linecolor\":\"#506784\",\"minorgridcolor\":\"#506784\",\"startlinecolor\":\"#A2B1C6\"},\"baxis\":{\"endlinecolor\":\"#A2B1C6\",\"gridcolor\":\"#506784\",\"linecolor\":\"#506784\",\"minorgridcolor\":\"#506784\",\"startlinecolor\":\"#A2B1C6\"},\"type\":\"carpet\"}],\"table\":[{\"cells\":{\"fill\":{\"color\":\"#506784\"},\"line\":{\"color\":\"rgb(17,17,17)\"}},\"header\":{\"fill\":{\"color\":\"#2a3f5f\"},\"line\":{\"color\":\"rgb(17,17,17)\"}},\"type\":\"table\"}],\"barpolar\":[{\"marker\":{\"line\":{\"color\":\"rgb(17,17,17)\",\"width\":0.5},\"pattern\":{\"fillmode\":\"overlay\",\"size\":10,\"solidity\":0.2}},\"type\":\"barpolar\"}],\"pie\":[{\"automargin\":true,\"type\":\"pie\"}]},\"layout\":{\"autotypenumbers\":\"strict\",\"colorway\":[\"#636efa\",\"#EF553B\",\"#00cc96\",\"#ab63fa\",\"#FFA15A\",\"#19d3f3\",\"#FF6692\",\"#B6E880\",\"#FF97FF\",\"#FECB52\"],\"font\":{\"color\":\"#f2f5fa\"},\"hovermode\":\"closest\",\"hoverlabel\":{\"align\":\"left\"},\"paper_bgcolor\":\"rgb(17,17,17)\",\"plot_bgcolor\":\"rgb(17,17,17)\",\"polar\":{\"bgcolor\":\"rgb(17,17,17)\",\"angularaxis\":{\"gridcolor\":\"#506784\",\"linecolor\":\"#506784\",\"ticks\":\"\"},\"radialaxis\":{\"gridcolor\":\"#506784\",\"linecolor\":\"#506784\",\"ticks\":\"\"}},\"ternary\":{\"bgcolor\":\"rgb(17,17,17)\",\"aaxis\":{\"gridcolor\":\"#506784\",\"linecolor\":\"#506784\",\"ticks\":\"\"},\"baxis\":{\"gridcolor\":\"#506784\",\"linecolor\":\"#506784\",\"ticks\":\"\"},\"caxis\":{\"gridcolor\":\"#506784\",\"linecolor\":\"#506784\",\"ticks\":\"\"}},\"coloraxis\":{\"colorbar\":{\"outlinewidth\":0,\"ticks\":\"\"}},\"colorscale\":{\"sequential\":[[0.0,\"#0d0887\"],[0.1111111111111111,\"#46039f\"],[0.2222222222222222,\"#7201a8\"],[0.3333333333333333,\"#9c179e\"],[0.4444444444444444,\"#bd3786\"],[0.5555555555555556,\"#d8576b\"],[0.6666666666666666,\"#ed7953\"],[0.7777777777777778,\"#fb9f3a\"],[0.8888888888888888,\"#fdca26\"],[1.0,\"#f0f921\"]],\"sequentialminus\":[[0.0,\"#0d0887\"],[0.1111111111111111,\"#46039f\"],[0.2222222222222222,\"#7201a8\"],[0.3333333333333333,\"#9c179e\"],[0.4444444444444444,\"#bd3786\"],[0.5555555555555556,\"#d8576b\"],[0.6666666666666666,\"#ed7953\"],[0.7777777777777778,\"#fb9f3a\"],[0.8888888888888888,\"#fdca26\"],[1.0,\"#f0f921\"]],\"diverging\":[[0,\"#8e0152\"],[0.1,\"#c51b7d\"],[0.2,\"#de77ae\"],[0.3,\"#f1b6da\"],[0.4,\"#fde0ef\"],[0.5,\"#f7f7f7\"],[0.6,\"#e6f5d0\"],[0.7,\"#b8e186\"],[0.8,\"#7fbc41\"],[0.9,\"#4d9221\"],[1,\"#276419\"]]},\"xaxis\":{\"gridcolor\":\"#283442\",\"linecolor\":\"#506784\",\"ticks\":\"\",\"title\":{\"standoff\":15},\"zerolinecolor\":\"#283442\",\"automargin\":true,\"zerolinewidth\":2},\"yaxis\":{\"gridcolor\":\"#283442\",\"linecolor\":\"#506784\",\"ticks\":\"\",\"title\":{\"standoff\":15},\"zerolinecolor\":\"#283442\",\"automargin\":true,\"zerolinewidth\":2},\"scene\":{\"xaxis\":{\"backgroundcolor\":\"rgb(17,17,17)\",\"gridcolor\":\"#506784\",\"linecolor\":\"#506784\",\"showbackground\":true,\"ticks\":\"\",\"zerolinecolor\":\"#C8D4E3\",\"gridwidth\":2},\"yaxis\":{\"backgroundcolor\":\"rgb(17,17,17)\",\"gridcolor\":\"#506784\",\"linecolor\":\"#506784\",\"showbackground\":true,\"ticks\":\"\",\"zerolinecolor\":\"#C8D4E3\",\"gridwidth\":2},\"zaxis\":{\"backgroundcolor\":\"rgb(17,17,17)\",\"gridcolor\":\"#506784\",\"linecolor\":\"#506784\",\"showbackground\":true,\"ticks\":\"\",\"zerolinecolor\":\"#C8D4E3\",\"gridwidth\":2}},\"shapedefaults\":{\"line\":{\"color\":\"#f2f5fa\"}},\"annotationdefaults\":{\"arrowcolor\":\"#f2f5fa\",\"arrowhead\":0,\"arrowwidth\":1},\"geo\":{\"bgcolor\":\"rgb(17,17,17)\",\"landcolor\":\"rgb(17,17,17)\",\"subunitcolor\":\"#506784\",\"showland\":true,\"showlakes\":true,\"lakecolor\":\"rgb(17,17,17)\"},\"title\":{\"x\":0.05},\"updatemenudefaults\":{\"bgcolor\":\"#506784\",\"borderwidth\":0},\"sliderdefaults\":{\"bgcolor\":\"#C8D4E3\",\"borderwidth\":1,\"bordercolor\":\"rgb(17,17,17)\",\"tickwidth\":0},\"mapbox\":{\"style\":\"dark\"}}},\"xaxis\":{\"anchor\":\"y\",\"domain\":[0.0,0.3133333333333333],\"title\":{\"text\":\"class_sep\"}},\"yaxis\":{\"anchor\":\"x\",\"domain\":[0.0,0.17600000000000002],\"title\":{\"text\":\"right_n_clusters sum\"}},\"xaxis2\":{\"anchor\":\"y2\",\"domain\":[0.3333333333333333,0.6466666666666666],\"matches\":\"x\",\"title\":{\"text\":\"class_sep\"}},\"yaxis2\":{\"anchor\":\"x2\",\"domain\":[0.0,0.17600000000000002],\"matches\":\"y\",\"showticklabels\":false},\"xaxis3\":{\"anchor\":\"y3\",\"domain\":[0.6666666666666666,0.98],\"matches\":\"x\",\"title\":{\"text\":\"class_sep\"}},\"yaxis3\":{\"anchor\":\"x3\",\"domain\":[0.0,0.17600000000000002],\"matches\":\"y\",\"showticklabels\":false},\"xaxis4\":{\"anchor\":\"y4\",\"domain\":[0.0,0.3133333333333333],\"matches\":\"x\",\"showticklabels\":false},\"yaxis4\":{\"anchor\":\"x4\",\"domain\":[0.20600000000000002,0.382],\"matches\":\"y\",\"title\":{\"text\":\"right_n_clusters sum\"}},\"xaxis5\":{\"anchor\":\"y5\",\"domain\":[0.3333333333333333,0.6466666666666666],\"matches\":\"x\",\"showticklabels\":false},\"yaxis5\":{\"anchor\":\"x5\",\"domain\":[0.20600000000000002,0.382],\"matches\":\"y\",\"showticklabels\":false},\"xaxis6\":{\"anchor\":\"y6\",\"domain\":[0.6666666666666666,0.98],\"matches\":\"x\",\"showticklabels\":false},\"yaxis6\":{\"anchor\":\"x6\",\"domain\":[0.20600000000000002,0.382],\"matches\":\"y\",\"showticklabels\":false},\"xaxis7\":{\"anchor\":\"y7\",\"domain\":[0.0,0.3133333333333333],\"matches\":\"x\",\"showticklabels\":false},\"yaxis7\":{\"anchor\":\"x7\",\"domain\":[0.41200000000000003,0.5880000000000001],\"matches\":\"y\",\"title\":{\"text\":\"right_n_clusters sum\"}},\"xaxis8\":{\"anchor\":\"y8\",\"domain\":[0.3333333333333333,0.6466666666666666],\"matches\":\"x\",\"showticklabels\":false},\"yaxis8\":{\"anchor\":\"x8\",\"domain\":[0.41200000000000003,0.5880000000000001],\"matches\":\"y\",\"showticklabels\":false},\"xaxis9\":{\"anchor\":\"y9\",\"domain\":[0.6666666666666666,0.98],\"matches\":\"x\",\"showticklabels\":false},\"yaxis9\":{\"anchor\":\"x9\",\"domain\":[0.41200000000000003,0.5880000000000001],\"matches\":\"y\",\"showticklabels\":false},\"xaxis10\":{\"anchor\":\"y10\",\"domain\":[0.0,0.3133333333333333],\"matches\":\"x\",\"showticklabels\":false},\"yaxis10\":{\"anchor\":\"x10\",\"domain\":[0.618,0.794],\"matches\":\"y\",\"title\":{\"text\":\"right_n_clusters sum\"}},\"xaxis11\":{\"anchor\":\"y11\",\"domain\":[0.3333333333333333,0.6466666666666666],\"matches\":\"x\",\"showticklabels\":false},\"yaxis11\":{\"anchor\":\"x11\",\"domain\":[0.618,0.794],\"matches\":\"y\",\"showticklabels\":false},\"xaxis12\":{\"anchor\":\"y12\",\"domain\":[0.6666666666666666,0.98],\"matches\":\"x\",\"showticklabels\":false},\"yaxis12\":{\"anchor\":\"x12\",\"domain\":[0.618,0.794],\"matches\":\"y\",\"showticklabels\":false},\"xaxis13\":{\"anchor\":\"y13\",\"domain\":[0.0,0.3133333333333333],\"matches\":\"x\",\"showticklabels\":false},\"yaxis13\":{\"anchor\":\"x13\",\"domain\":[0.8240000000000001,1.0],\"matches\":\"y\",\"title\":{\"text\":\"right_n_clusters sum\"}},\"xaxis14\":{\"anchor\":\"y14\",\"domain\":[0.3333333333333333,0.6466666666666666],\"matches\":\"x\",\"showticklabels\":false},\"yaxis14\":{\"anchor\":\"x14\",\"domain\":[0.8240000000000001,1.0],\"matches\":\"y\",\"showticklabels\":false},\"xaxis15\":{\"anchor\":\"y15\",\"domain\":[0.6666666666666666,0.98],\"matches\":\"x\",\"showticklabels\":false},\"yaxis15\":{\"anchor\":\"x15\",\"domain\":[0.8240000000000001,1.0],\"matches\":\"y\",\"showticklabels\":false},\"annotations\":[{\"font\":{},\"showarrow\":false,\"text\":\"n_samples=100\",\"x\":0.15666666666666665,\"xanchor\":\"center\",\"xref\":\"paper\",\"y\":1.0,\"yanchor\":\"bottom\",\"yref\":\"paper\"},{\"font\":{},\"showarrow\":false,\"text\":\"n_samples=1000\",\"x\":0.49,\"xanchor\":\"center\",\"xref\":\"paper\",\"y\":1.0,\"yanchor\":\"bottom\",\"yref\":\"paper\"},{\"font\":{},\"showarrow\":false,\"text\":\"n_samples=10000\",\"x\":0.8233333333333333,\"xanchor\":\"center\",\"xref\":\"paper\",\"y\":1.0,\"yanchor\":\"bottom\",\"yref\":\"paper\"},{\"font\":{},\"showarrow\":false,\"text\":\"n_classes=20\",\"textangle\":90,\"x\":0.98,\"xanchor\":\"left\",\"xref\":\"paper\",\"y\":0.08800000000000001,\"yanchor\":\"middle\",\"yref\":\"paper\"},{\"font\":{},\"showarrow\":false,\"text\":\"n_classes=12\",\"textangle\":90,\"x\":0.98,\"xanchor\":\"left\",\"xref\":\"paper\",\"y\":0.29400000000000004,\"yanchor\":\"middle\",\"yref\":\"paper\"},{\"font\":{},\"showarrow\":false,\"text\":\"n_classes=8\",\"textangle\":90,\"x\":0.98,\"xanchor\":\"left\",\"xref\":\"paper\",\"y\":0.5,\"yanchor\":\"middle\",\"yref\":\"paper\"},{\"font\":{},\"showarrow\":false,\"text\":\"n_classes=5\",\"textangle\":90,\"x\":0.98,\"xanchor\":\"left\",\"xref\":\"paper\",\"y\":0.706,\"yanchor\":\"middle\",\"yref\":\"paper\"},{\"font\":{},\"showarrow\":false,\"text\":\"n_classes=2\",\"textangle\":90,\"x\":0.98,\"xanchor\":\"left\",\"xref\":\"paper\",\"y\":0.912,\"yanchor\":\"middle\",\"yref\":\"paper\"}],\"legend\":{\"title\":{\"text\":\"model_nickname\"},\"tracegroupgap\":0},\"margin\":{\"t\":60},\"height\":1000,\"width\":1000},                        {\"responsive\": true}                    ).then(function(){\n",
       "                            \n",
       "var gd = document.getElementById('3ea0c029-76ac-459b-a4d1-cade861152e5');\n",
       "var x = new MutationObserver(function (mutations, observer) {{\n",
       "        var display = window.getComputedStyle(gd).display;\n",
       "        if (!display || display === 'none') {{\n",
       "            console.log([gd, 'removed!']);\n",
       "            Plotly.purge(gd);\n",
       "            observer.disconnect();\n",
       "        }}\n",
       "}});\n",
       "\n",
       "// Listen for the removal of the full notebook cells\n",
       "var notebookContainer = gd.closest('#notebook-container');\n",
       "if (notebookContainer) {{\n",
       "    x.observe(notebookContainer, {childList: true});\n",
       "}}\n",
       "\n",
       "// Listen for the clearing of the current output cell\n",
       "var outputEl = gd.closest('.output');\n",
       "if (outputEl) {{\n",
       "    x.observe(outputEl, {childList: true});\n",
       "}}\n",
       "\n",
       "                        })                };                });            </script>        </div>"
      ]
     },
     "metadata": {},
     "output_type": "display_data"
    }
   ],
   "execution_count": 78
  },
  {
   "metadata": {
    "ExecuteTime": {
     "end_time": "2025-03-06T16:57:14.893679Z",
     "start_time": "2025-03-06T16:57:14.870936Z"
    }
   },
   "cell_type": "code",
   "source": "df",
   "id": "cf53845cad03cf0",
   "outputs": [
    {
     "data": {
      "text/plain": [
       "key       model_nickname n_samples n_features class_sep n_classes  \\\n",
       "                                                                    \n",
       "0                 KMeans       100        100      10.0         2   \n",
       "1                 KMeans       100        100      10.0         5   \n",
       "2                 KMeans       100        100      10.0         8   \n",
       "3                 KMeans       100        100      10.0        12   \n",
       "4                 KMeans       100        100      10.0        20   \n",
       "5                 KMeans       100        100      20.0         2   \n",
       "6                 KMeans       100        100      20.0         5   \n",
       "7                 KMeans       100        100      20.0         8   \n",
       "8                 KMeans       100        100      20.0        12   \n",
       "9                 KMeans       100        100      20.0        20   \n",
       "10                KMeans       100        100      30.0         2   \n",
       "11                KMeans       100        100      30.0         5   \n",
       "12                KMeans       100        100      30.0         8   \n",
       "13                KMeans       100        100      30.0        12   \n",
       "14                KMeans       100        100      30.0        20   \n",
       "15                KMeans       100        100      40.0         2   \n",
       "16                KMeans       100        100      40.0         5   \n",
       "17                KMeans       100        100      40.0         8   \n",
       "18                KMeans       100        100      40.0        12   \n",
       "19                KMeans       100        100      40.0        20   \n",
       "20                KMeans       100        100      50.0         2   \n",
       "21                KMeans       100        100      50.0         5   \n",
       "22                KMeans       100        100      50.0         8   \n",
       "23                KMeans       100        100      50.0        12   \n",
       "24                KMeans       100        100      50.0        20   \n",
       "25                KMeans       100        100     100.0         2   \n",
       "26                KMeans       100        100     100.0         5   \n",
       "27                KMeans       100        100     100.0         8   \n",
       "28                KMeans       100        100     100.0        12   \n",
       "29                KMeans       100        100     100.0        20   \n",
       "270  RecursiveClustering       100        100      10.0         2   \n",
       "271  RecursiveClustering       100        100      10.0         5   \n",
       "272  RecursiveClustering       100        100      10.0         8   \n",
       "273  RecursiveClustering       100        100      10.0        12   \n",
       "274  RecursiveClustering       100        100      10.0        20   \n",
       "275  RecursiveClustering       100        100      20.0         2   \n",
       "276  RecursiveClustering       100        100      20.0         5   \n",
       "277  RecursiveClustering       100        100      20.0         8   \n",
       "278  RecursiveClustering       100        100      20.0        12   \n",
       "279  RecursiveClustering       100        100      20.0        20   \n",
       "280  RecursiveClustering       100        100      30.0         2   \n",
       "281  RecursiveClustering       100        100      30.0         5   \n",
       "282  RecursiveClustering       100        100      30.0         8   \n",
       "283  RecursiveClustering       100        100      30.0        12   \n",
       "284  RecursiveClustering       100        100      30.0        20   \n",
       "285  RecursiveClustering       100        100      40.0         2   \n",
       "286  RecursiveClustering       100        100      40.0         5   \n",
       "287  RecursiveClustering       100        100      40.0         8   \n",
       "288  RecursiveClustering       100        100      40.0        12   \n",
       "289  RecursiveClustering       100        100      40.0        20   \n",
       "290  RecursiveClustering       100        100      50.0         2   \n",
       "291  RecursiveClustering       100        100      50.0         5   \n",
       "292  RecursiveClustering       100        100      50.0         8   \n",
       "293  RecursiveClustering       100        100      50.0        12   \n",
       "294  RecursiveClustering       100        100      50.0        20   \n",
       "295  RecursiveClustering       100        100     100.0         2   \n",
       "296  RecursiveClustering       100        100     100.0         5   \n",
       "297  RecursiveClustering       100        100     100.0         8   \n",
       "298  RecursiveClustering       100        100     100.0        12   \n",
       "299  RecursiveClustering       100        100     100.0        20   \n",
       "\n",
       "key best_n_clusters_           right_n_clusters  \n",
       "                mean       std              sum  \n",
       "0                2.0  0.000000                5  \n",
       "1                5.0  0.000000                5  \n",
       "2                8.0  0.000000                5  \n",
       "3               12.2  0.447214                4  \n",
       "4               20.4  0.547723                3  \n",
       "5                2.0  0.000000                5  \n",
       "6                5.0  0.000000                5  \n",
       "7                8.0  0.000000                5  \n",
       "8               12.0  0.000000                5  \n",
       "9               20.0  0.000000                5  \n",
       "10               2.0  0.000000                5  \n",
       "11               5.0  0.000000                5  \n",
       "12               8.0  0.000000                5  \n",
       "13              12.0  0.000000                5  \n",
       "14              20.0  0.000000                5  \n",
       "15               2.0  0.000000                5  \n",
       "16               5.0  0.000000                5  \n",
       "17               8.0  0.000000                5  \n",
       "18              12.0  0.000000                5  \n",
       "19              20.2  0.447214                4  \n",
       "20               2.0  0.000000                5  \n",
       "21               5.0  0.000000                5  \n",
       "22               8.0  0.000000                5  \n",
       "23              12.0  0.000000                5  \n",
       "24              20.0  0.000000                5  \n",
       "25               2.0  0.000000                5  \n",
       "26               5.0  0.000000                5  \n",
       "27               8.0  0.000000                5  \n",
       "28              12.0  0.000000                5  \n",
       "29              20.0  0.000000                5  \n",
       "270              2.0  0.000000                5  \n",
       "271              5.0  0.000000                5  \n",
       "272              8.0  0.000000                5  \n",
       "273             12.0  0.000000                5  \n",
       "274             20.0  0.000000                5  \n",
       "275              2.0  0.000000                5  \n",
       "276              5.0  0.000000                5  \n",
       "277              8.0  0.000000                5  \n",
       "278             12.0  0.000000                5  \n",
       "279             20.0  0.000000                5  \n",
       "280              2.0  0.000000                5  \n",
       "281              5.0  0.000000                5  \n",
       "282              8.0  0.000000                5  \n",
       "283             12.0  0.000000                5  \n",
       "284             20.0  0.000000                5  \n",
       "285              2.0  0.000000                5  \n",
       "286              5.0  0.000000                5  \n",
       "287              8.0  0.000000                5  \n",
       "288             12.0  0.000000                5  \n",
       "289             20.0  0.000000                5  \n",
       "290              2.0  0.000000                5  \n",
       "291              5.0  0.000000                5  \n",
       "292              8.0  0.000000                5  \n",
       "293             12.0  0.000000                5  \n",
       "294             20.0  0.000000                5  \n",
       "295              2.0  0.000000                5  \n",
       "296              5.0  0.000000                5  \n",
       "297              8.0  0.000000                5  \n",
       "298             12.0  0.000000                5  \n",
       "299             20.0  0.000000                5  "
      ],
      "text/html": [
       "<div>\n",
       "<style scoped>\n",
       "    .dataframe tbody tr th:only-of-type {\n",
       "        vertical-align: middle;\n",
       "    }\n",
       "\n",
       "    .dataframe tbody tr th {\n",
       "        vertical-align: top;\n",
       "    }\n",
       "\n",
       "    .dataframe thead tr th {\n",
       "        text-align: left;\n",
       "    }\n",
       "</style>\n",
       "<table border=\"1\" class=\"dataframe\">\n",
       "  <thead>\n",
       "    <tr>\n",
       "      <th>key</th>\n",
       "      <th>model_nickname</th>\n",
       "      <th>n_samples</th>\n",
       "      <th>n_features</th>\n",
       "      <th>class_sep</th>\n",
       "      <th>n_classes</th>\n",
       "      <th colspan=\"2\" halign=\"left\">best_n_clusters_</th>\n",
       "      <th>right_n_clusters</th>\n",
       "    </tr>\n",
       "    <tr>\n",
       "      <th></th>\n",
       "      <th></th>\n",
       "      <th></th>\n",
       "      <th></th>\n",
       "      <th></th>\n",
       "      <th></th>\n",
       "      <th>mean</th>\n",
       "      <th>std</th>\n",
       "      <th>sum</th>\n",
       "    </tr>\n",
       "  </thead>\n",
       "  <tbody>\n",
       "    <tr>\n",
       "      <th>0</th>\n",
       "      <td>KMeans</td>\n",
       "      <td>100</td>\n",
       "      <td>100</td>\n",
       "      <td>10.0</td>\n",
       "      <td>2</td>\n",
       "      <td>2.0</td>\n",
       "      <td>0.000000</td>\n",
       "      <td>5</td>\n",
       "    </tr>\n",
       "    <tr>\n",
       "      <th>1</th>\n",
       "      <td>KMeans</td>\n",
       "      <td>100</td>\n",
       "      <td>100</td>\n",
       "      <td>10.0</td>\n",
       "      <td>5</td>\n",
       "      <td>5.0</td>\n",
       "      <td>0.000000</td>\n",
       "      <td>5</td>\n",
       "    </tr>\n",
       "    <tr>\n",
       "      <th>2</th>\n",
       "      <td>KMeans</td>\n",
       "      <td>100</td>\n",
       "      <td>100</td>\n",
       "      <td>10.0</td>\n",
       "      <td>8</td>\n",
       "      <td>8.0</td>\n",
       "      <td>0.000000</td>\n",
       "      <td>5</td>\n",
       "    </tr>\n",
       "    <tr>\n",
       "      <th>3</th>\n",
       "      <td>KMeans</td>\n",
       "      <td>100</td>\n",
       "      <td>100</td>\n",
       "      <td>10.0</td>\n",
       "      <td>12</td>\n",
       "      <td>12.2</td>\n",
       "      <td>0.447214</td>\n",
       "      <td>4</td>\n",
       "    </tr>\n",
       "    <tr>\n",
       "      <th>4</th>\n",
       "      <td>KMeans</td>\n",
       "      <td>100</td>\n",
       "      <td>100</td>\n",
       "      <td>10.0</td>\n",
       "      <td>20</td>\n",
       "      <td>20.4</td>\n",
       "      <td>0.547723</td>\n",
       "      <td>3</td>\n",
       "    </tr>\n",
       "    <tr>\n",
       "      <th>5</th>\n",
       "      <td>KMeans</td>\n",
       "      <td>100</td>\n",
       "      <td>100</td>\n",
       "      <td>20.0</td>\n",
       "      <td>2</td>\n",
       "      <td>2.0</td>\n",
       "      <td>0.000000</td>\n",
       "      <td>5</td>\n",
       "    </tr>\n",
       "    <tr>\n",
       "      <th>6</th>\n",
       "      <td>KMeans</td>\n",
       "      <td>100</td>\n",
       "      <td>100</td>\n",
       "      <td>20.0</td>\n",
       "      <td>5</td>\n",
       "      <td>5.0</td>\n",
       "      <td>0.000000</td>\n",
       "      <td>5</td>\n",
       "    </tr>\n",
       "    <tr>\n",
       "      <th>7</th>\n",
       "      <td>KMeans</td>\n",
       "      <td>100</td>\n",
       "      <td>100</td>\n",
       "      <td>20.0</td>\n",
       "      <td>8</td>\n",
       "      <td>8.0</td>\n",
       "      <td>0.000000</td>\n",
       "      <td>5</td>\n",
       "    </tr>\n",
       "    <tr>\n",
       "      <th>8</th>\n",
       "      <td>KMeans</td>\n",
       "      <td>100</td>\n",
       "      <td>100</td>\n",
       "      <td>20.0</td>\n",
       "      <td>12</td>\n",
       "      <td>12.0</td>\n",
       "      <td>0.000000</td>\n",
       "      <td>5</td>\n",
       "    </tr>\n",
       "    <tr>\n",
       "      <th>9</th>\n",
       "      <td>KMeans</td>\n",
       "      <td>100</td>\n",
       "      <td>100</td>\n",
       "      <td>20.0</td>\n",
       "      <td>20</td>\n",
       "      <td>20.0</td>\n",
       "      <td>0.000000</td>\n",
       "      <td>5</td>\n",
       "    </tr>\n",
       "    <tr>\n",
       "      <th>10</th>\n",
       "      <td>KMeans</td>\n",
       "      <td>100</td>\n",
       "      <td>100</td>\n",
       "      <td>30.0</td>\n",
       "      <td>2</td>\n",
       "      <td>2.0</td>\n",
       "      <td>0.000000</td>\n",
       "      <td>5</td>\n",
       "    </tr>\n",
       "    <tr>\n",
       "      <th>11</th>\n",
       "      <td>KMeans</td>\n",
       "      <td>100</td>\n",
       "      <td>100</td>\n",
       "      <td>30.0</td>\n",
       "      <td>5</td>\n",
       "      <td>5.0</td>\n",
       "      <td>0.000000</td>\n",
       "      <td>5</td>\n",
       "    </tr>\n",
       "    <tr>\n",
       "      <th>12</th>\n",
       "      <td>KMeans</td>\n",
       "      <td>100</td>\n",
       "      <td>100</td>\n",
       "      <td>30.0</td>\n",
       "      <td>8</td>\n",
       "      <td>8.0</td>\n",
       "      <td>0.000000</td>\n",
       "      <td>5</td>\n",
       "    </tr>\n",
       "    <tr>\n",
       "      <th>13</th>\n",
       "      <td>KMeans</td>\n",
       "      <td>100</td>\n",
       "      <td>100</td>\n",
       "      <td>30.0</td>\n",
       "      <td>12</td>\n",
       "      <td>12.0</td>\n",
       "      <td>0.000000</td>\n",
       "      <td>5</td>\n",
       "    </tr>\n",
       "    <tr>\n",
       "      <th>14</th>\n",
       "      <td>KMeans</td>\n",
       "      <td>100</td>\n",
       "      <td>100</td>\n",
       "      <td>30.0</td>\n",
       "      <td>20</td>\n",
       "      <td>20.0</td>\n",
       "      <td>0.000000</td>\n",
       "      <td>5</td>\n",
       "    </tr>\n",
       "    <tr>\n",
       "      <th>15</th>\n",
       "      <td>KMeans</td>\n",
       "      <td>100</td>\n",
       "      <td>100</td>\n",
       "      <td>40.0</td>\n",
       "      <td>2</td>\n",
       "      <td>2.0</td>\n",
       "      <td>0.000000</td>\n",
       "      <td>5</td>\n",
       "    </tr>\n",
       "    <tr>\n",
       "      <th>16</th>\n",
       "      <td>KMeans</td>\n",
       "      <td>100</td>\n",
       "      <td>100</td>\n",
       "      <td>40.0</td>\n",
       "      <td>5</td>\n",
       "      <td>5.0</td>\n",
       "      <td>0.000000</td>\n",
       "      <td>5</td>\n",
       "    </tr>\n",
       "    <tr>\n",
       "      <th>17</th>\n",
       "      <td>KMeans</td>\n",
       "      <td>100</td>\n",
       "      <td>100</td>\n",
       "      <td>40.0</td>\n",
       "      <td>8</td>\n",
       "      <td>8.0</td>\n",
       "      <td>0.000000</td>\n",
       "      <td>5</td>\n",
       "    </tr>\n",
       "    <tr>\n",
       "      <th>18</th>\n",
       "      <td>KMeans</td>\n",
       "      <td>100</td>\n",
       "      <td>100</td>\n",
       "      <td>40.0</td>\n",
       "      <td>12</td>\n",
       "      <td>12.0</td>\n",
       "      <td>0.000000</td>\n",
       "      <td>5</td>\n",
       "    </tr>\n",
       "    <tr>\n",
       "      <th>19</th>\n",
       "      <td>KMeans</td>\n",
       "      <td>100</td>\n",
       "      <td>100</td>\n",
       "      <td>40.0</td>\n",
       "      <td>20</td>\n",
       "      <td>20.2</td>\n",
       "      <td>0.447214</td>\n",
       "      <td>4</td>\n",
       "    </tr>\n",
       "    <tr>\n",
       "      <th>20</th>\n",
       "      <td>KMeans</td>\n",
       "      <td>100</td>\n",
       "      <td>100</td>\n",
       "      <td>50.0</td>\n",
       "      <td>2</td>\n",
       "      <td>2.0</td>\n",
       "      <td>0.000000</td>\n",
       "      <td>5</td>\n",
       "    </tr>\n",
       "    <tr>\n",
       "      <th>21</th>\n",
       "      <td>KMeans</td>\n",
       "      <td>100</td>\n",
       "      <td>100</td>\n",
       "      <td>50.0</td>\n",
       "      <td>5</td>\n",
       "      <td>5.0</td>\n",
       "      <td>0.000000</td>\n",
       "      <td>5</td>\n",
       "    </tr>\n",
       "    <tr>\n",
       "      <th>22</th>\n",
       "      <td>KMeans</td>\n",
       "      <td>100</td>\n",
       "      <td>100</td>\n",
       "      <td>50.0</td>\n",
       "      <td>8</td>\n",
       "      <td>8.0</td>\n",
       "      <td>0.000000</td>\n",
       "      <td>5</td>\n",
       "    </tr>\n",
       "    <tr>\n",
       "      <th>23</th>\n",
       "      <td>KMeans</td>\n",
       "      <td>100</td>\n",
       "      <td>100</td>\n",
       "      <td>50.0</td>\n",
       "      <td>12</td>\n",
       "      <td>12.0</td>\n",
       "      <td>0.000000</td>\n",
       "      <td>5</td>\n",
       "    </tr>\n",
       "    <tr>\n",
       "      <th>24</th>\n",
       "      <td>KMeans</td>\n",
       "      <td>100</td>\n",
       "      <td>100</td>\n",
       "      <td>50.0</td>\n",
       "      <td>20</td>\n",
       "      <td>20.0</td>\n",
       "      <td>0.000000</td>\n",
       "      <td>5</td>\n",
       "    </tr>\n",
       "    <tr>\n",
       "      <th>25</th>\n",
       "      <td>KMeans</td>\n",
       "      <td>100</td>\n",
       "      <td>100</td>\n",
       "      <td>100.0</td>\n",
       "      <td>2</td>\n",
       "      <td>2.0</td>\n",
       "      <td>0.000000</td>\n",
       "      <td>5</td>\n",
       "    </tr>\n",
       "    <tr>\n",
       "      <th>26</th>\n",
       "      <td>KMeans</td>\n",
       "      <td>100</td>\n",
       "      <td>100</td>\n",
       "      <td>100.0</td>\n",
       "      <td>5</td>\n",
       "      <td>5.0</td>\n",
       "      <td>0.000000</td>\n",
       "      <td>5</td>\n",
       "    </tr>\n",
       "    <tr>\n",
       "      <th>27</th>\n",
       "      <td>KMeans</td>\n",
       "      <td>100</td>\n",
       "      <td>100</td>\n",
       "      <td>100.0</td>\n",
       "      <td>8</td>\n",
       "      <td>8.0</td>\n",
       "      <td>0.000000</td>\n",
       "      <td>5</td>\n",
       "    </tr>\n",
       "    <tr>\n",
       "      <th>28</th>\n",
       "      <td>KMeans</td>\n",
       "      <td>100</td>\n",
       "      <td>100</td>\n",
       "      <td>100.0</td>\n",
       "      <td>12</td>\n",
       "      <td>12.0</td>\n",
       "      <td>0.000000</td>\n",
       "      <td>5</td>\n",
       "    </tr>\n",
       "    <tr>\n",
       "      <th>29</th>\n",
       "      <td>KMeans</td>\n",
       "      <td>100</td>\n",
       "      <td>100</td>\n",
       "      <td>100.0</td>\n",
       "      <td>20</td>\n",
       "      <td>20.0</td>\n",
       "      <td>0.000000</td>\n",
       "      <td>5</td>\n",
       "    </tr>\n",
       "    <tr>\n",
       "      <th>270</th>\n",
       "      <td>RecursiveClustering</td>\n",
       "      <td>100</td>\n",
       "      <td>100</td>\n",
       "      <td>10.0</td>\n",
       "      <td>2</td>\n",
       "      <td>2.0</td>\n",
       "      <td>0.000000</td>\n",
       "      <td>5</td>\n",
       "    </tr>\n",
       "    <tr>\n",
       "      <th>271</th>\n",
       "      <td>RecursiveClustering</td>\n",
       "      <td>100</td>\n",
       "      <td>100</td>\n",
       "      <td>10.0</td>\n",
       "      <td>5</td>\n",
       "      <td>5.0</td>\n",
       "      <td>0.000000</td>\n",
       "      <td>5</td>\n",
       "    </tr>\n",
       "    <tr>\n",
       "      <th>272</th>\n",
       "      <td>RecursiveClustering</td>\n",
       "      <td>100</td>\n",
       "      <td>100</td>\n",
       "      <td>10.0</td>\n",
       "      <td>8</td>\n",
       "      <td>8.0</td>\n",
       "      <td>0.000000</td>\n",
       "      <td>5</td>\n",
       "    </tr>\n",
       "    <tr>\n",
       "      <th>273</th>\n",
       "      <td>RecursiveClustering</td>\n",
       "      <td>100</td>\n",
       "      <td>100</td>\n",
       "      <td>10.0</td>\n",
       "      <td>12</td>\n",
       "      <td>12.0</td>\n",
       "      <td>0.000000</td>\n",
       "      <td>5</td>\n",
       "    </tr>\n",
       "    <tr>\n",
       "      <th>274</th>\n",
       "      <td>RecursiveClustering</td>\n",
       "      <td>100</td>\n",
       "      <td>100</td>\n",
       "      <td>10.0</td>\n",
       "      <td>20</td>\n",
       "      <td>20.0</td>\n",
       "      <td>0.000000</td>\n",
       "      <td>5</td>\n",
       "    </tr>\n",
       "    <tr>\n",
       "      <th>275</th>\n",
       "      <td>RecursiveClustering</td>\n",
       "      <td>100</td>\n",
       "      <td>100</td>\n",
       "      <td>20.0</td>\n",
       "      <td>2</td>\n",
       "      <td>2.0</td>\n",
       "      <td>0.000000</td>\n",
       "      <td>5</td>\n",
       "    </tr>\n",
       "    <tr>\n",
       "      <th>276</th>\n",
       "      <td>RecursiveClustering</td>\n",
       "      <td>100</td>\n",
       "      <td>100</td>\n",
       "      <td>20.0</td>\n",
       "      <td>5</td>\n",
       "      <td>5.0</td>\n",
       "      <td>0.000000</td>\n",
       "      <td>5</td>\n",
       "    </tr>\n",
       "    <tr>\n",
       "      <th>277</th>\n",
       "      <td>RecursiveClustering</td>\n",
       "      <td>100</td>\n",
       "      <td>100</td>\n",
       "      <td>20.0</td>\n",
       "      <td>8</td>\n",
       "      <td>8.0</td>\n",
       "      <td>0.000000</td>\n",
       "      <td>5</td>\n",
       "    </tr>\n",
       "    <tr>\n",
       "      <th>278</th>\n",
       "      <td>RecursiveClustering</td>\n",
       "      <td>100</td>\n",
       "      <td>100</td>\n",
       "      <td>20.0</td>\n",
       "      <td>12</td>\n",
       "      <td>12.0</td>\n",
       "      <td>0.000000</td>\n",
       "      <td>5</td>\n",
       "    </tr>\n",
       "    <tr>\n",
       "      <th>279</th>\n",
       "      <td>RecursiveClustering</td>\n",
       "      <td>100</td>\n",
       "      <td>100</td>\n",
       "      <td>20.0</td>\n",
       "      <td>20</td>\n",
       "      <td>20.0</td>\n",
       "      <td>0.000000</td>\n",
       "      <td>5</td>\n",
       "    </tr>\n",
       "    <tr>\n",
       "      <th>280</th>\n",
       "      <td>RecursiveClustering</td>\n",
       "      <td>100</td>\n",
       "      <td>100</td>\n",
       "      <td>30.0</td>\n",
       "      <td>2</td>\n",
       "      <td>2.0</td>\n",
       "      <td>0.000000</td>\n",
       "      <td>5</td>\n",
       "    </tr>\n",
       "    <tr>\n",
       "      <th>281</th>\n",
       "      <td>RecursiveClustering</td>\n",
       "      <td>100</td>\n",
       "      <td>100</td>\n",
       "      <td>30.0</td>\n",
       "      <td>5</td>\n",
       "      <td>5.0</td>\n",
       "      <td>0.000000</td>\n",
       "      <td>5</td>\n",
       "    </tr>\n",
       "    <tr>\n",
       "      <th>282</th>\n",
       "      <td>RecursiveClustering</td>\n",
       "      <td>100</td>\n",
       "      <td>100</td>\n",
       "      <td>30.0</td>\n",
       "      <td>8</td>\n",
       "      <td>8.0</td>\n",
       "      <td>0.000000</td>\n",
       "      <td>5</td>\n",
       "    </tr>\n",
       "    <tr>\n",
       "      <th>283</th>\n",
       "      <td>RecursiveClustering</td>\n",
       "      <td>100</td>\n",
       "      <td>100</td>\n",
       "      <td>30.0</td>\n",
       "      <td>12</td>\n",
       "      <td>12.0</td>\n",
       "      <td>0.000000</td>\n",
       "      <td>5</td>\n",
       "    </tr>\n",
       "    <tr>\n",
       "      <th>284</th>\n",
       "      <td>RecursiveClustering</td>\n",
       "      <td>100</td>\n",
       "      <td>100</td>\n",
       "      <td>30.0</td>\n",
       "      <td>20</td>\n",
       "      <td>20.0</td>\n",
       "      <td>0.000000</td>\n",
       "      <td>5</td>\n",
       "    </tr>\n",
       "    <tr>\n",
       "      <th>285</th>\n",
       "      <td>RecursiveClustering</td>\n",
       "      <td>100</td>\n",
       "      <td>100</td>\n",
       "      <td>40.0</td>\n",
       "      <td>2</td>\n",
       "      <td>2.0</td>\n",
       "      <td>0.000000</td>\n",
       "      <td>5</td>\n",
       "    </tr>\n",
       "    <tr>\n",
       "      <th>286</th>\n",
       "      <td>RecursiveClustering</td>\n",
       "      <td>100</td>\n",
       "      <td>100</td>\n",
       "      <td>40.0</td>\n",
       "      <td>5</td>\n",
       "      <td>5.0</td>\n",
       "      <td>0.000000</td>\n",
       "      <td>5</td>\n",
       "    </tr>\n",
       "    <tr>\n",
       "      <th>287</th>\n",
       "      <td>RecursiveClustering</td>\n",
       "      <td>100</td>\n",
       "      <td>100</td>\n",
       "      <td>40.0</td>\n",
       "      <td>8</td>\n",
       "      <td>8.0</td>\n",
       "      <td>0.000000</td>\n",
       "      <td>5</td>\n",
       "    </tr>\n",
       "    <tr>\n",
       "      <th>288</th>\n",
       "      <td>RecursiveClustering</td>\n",
       "      <td>100</td>\n",
       "      <td>100</td>\n",
       "      <td>40.0</td>\n",
       "      <td>12</td>\n",
       "      <td>12.0</td>\n",
       "      <td>0.000000</td>\n",
       "      <td>5</td>\n",
       "    </tr>\n",
       "    <tr>\n",
       "      <th>289</th>\n",
       "      <td>RecursiveClustering</td>\n",
       "      <td>100</td>\n",
       "      <td>100</td>\n",
       "      <td>40.0</td>\n",
       "      <td>20</td>\n",
       "      <td>20.0</td>\n",
       "      <td>0.000000</td>\n",
       "      <td>5</td>\n",
       "    </tr>\n",
       "    <tr>\n",
       "      <th>290</th>\n",
       "      <td>RecursiveClustering</td>\n",
       "      <td>100</td>\n",
       "      <td>100</td>\n",
       "      <td>50.0</td>\n",
       "      <td>2</td>\n",
       "      <td>2.0</td>\n",
       "      <td>0.000000</td>\n",
       "      <td>5</td>\n",
       "    </tr>\n",
       "    <tr>\n",
       "      <th>291</th>\n",
       "      <td>RecursiveClustering</td>\n",
       "      <td>100</td>\n",
       "      <td>100</td>\n",
       "      <td>50.0</td>\n",
       "      <td>5</td>\n",
       "      <td>5.0</td>\n",
       "      <td>0.000000</td>\n",
       "      <td>5</td>\n",
       "    </tr>\n",
       "    <tr>\n",
       "      <th>292</th>\n",
       "      <td>RecursiveClustering</td>\n",
       "      <td>100</td>\n",
       "      <td>100</td>\n",
       "      <td>50.0</td>\n",
       "      <td>8</td>\n",
       "      <td>8.0</td>\n",
       "      <td>0.000000</td>\n",
       "      <td>5</td>\n",
       "    </tr>\n",
       "    <tr>\n",
       "      <th>293</th>\n",
       "      <td>RecursiveClustering</td>\n",
       "      <td>100</td>\n",
       "      <td>100</td>\n",
       "      <td>50.0</td>\n",
       "      <td>12</td>\n",
       "      <td>12.0</td>\n",
       "      <td>0.000000</td>\n",
       "      <td>5</td>\n",
       "    </tr>\n",
       "    <tr>\n",
       "      <th>294</th>\n",
       "      <td>RecursiveClustering</td>\n",
       "      <td>100</td>\n",
       "      <td>100</td>\n",
       "      <td>50.0</td>\n",
       "      <td>20</td>\n",
       "      <td>20.0</td>\n",
       "      <td>0.000000</td>\n",
       "      <td>5</td>\n",
       "    </tr>\n",
       "    <tr>\n",
       "      <th>295</th>\n",
       "      <td>RecursiveClustering</td>\n",
       "      <td>100</td>\n",
       "      <td>100</td>\n",
       "      <td>100.0</td>\n",
       "      <td>2</td>\n",
       "      <td>2.0</td>\n",
       "      <td>0.000000</td>\n",
       "      <td>5</td>\n",
       "    </tr>\n",
       "    <tr>\n",
       "      <th>296</th>\n",
       "      <td>RecursiveClustering</td>\n",
       "      <td>100</td>\n",
       "      <td>100</td>\n",
       "      <td>100.0</td>\n",
       "      <td>5</td>\n",
       "      <td>5.0</td>\n",
       "      <td>0.000000</td>\n",
       "      <td>5</td>\n",
       "    </tr>\n",
       "    <tr>\n",
       "      <th>297</th>\n",
       "      <td>RecursiveClustering</td>\n",
       "      <td>100</td>\n",
       "      <td>100</td>\n",
       "      <td>100.0</td>\n",
       "      <td>8</td>\n",
       "      <td>8.0</td>\n",
       "      <td>0.000000</td>\n",
       "      <td>5</td>\n",
       "    </tr>\n",
       "    <tr>\n",
       "      <th>298</th>\n",
       "      <td>RecursiveClustering</td>\n",
       "      <td>100</td>\n",
       "      <td>100</td>\n",
       "      <td>100.0</td>\n",
       "      <td>12</td>\n",
       "      <td>12.0</td>\n",
       "      <td>0.000000</td>\n",
       "      <td>5</td>\n",
       "    </tr>\n",
       "    <tr>\n",
       "      <th>299</th>\n",
       "      <td>RecursiveClustering</td>\n",
       "      <td>100</td>\n",
       "      <td>100</td>\n",
       "      <td>100.0</td>\n",
       "      <td>20</td>\n",
       "      <td>20.0</td>\n",
       "      <td>0.000000</td>\n",
       "      <td>5</td>\n",
       "    </tr>\n",
       "  </tbody>\n",
       "</table>\n",
       "</div>"
      ]
     },
     "execution_count": 49,
     "metadata": {},
     "output_type": "execute_result"
    }
   ],
   "execution_count": 49
  },
  {
   "metadata": {
    "ExecuteTime": {
     "end_time": "2025-03-06T16:47:29.027310Z",
     "start_time": "2025-03-06T16:47:29.010185Z"
    }
   },
   "cell_type": "code",
   "source": [
    "df = df_common.copy()\n",
    "df = df[['model_nickname', 'best_n_clusters_', 'n_samples', 'n_features', 'class_sep', 'n_classes', 'seed_unified']]\n",
    "df['right_n_clusters'] = df['n_classes'] == df['best_n_clusters_']\n",
    "df = df.groupby(['model_nickname']).agg({'right_n_clusters':['sum']}).reset_index()\n",
    "df"
   ],
   "id": "b5f988129c2ffb67",
   "outputs": [
    {
     "data": {
      "text/plain": [
       "key       model_nickname right_n_clusters\n",
       "                                      sum\n",
       "0                 KMeans             1020\n",
       "1    RecursiveClustering              881"
      ],
      "text/html": [
       "<div>\n",
       "<style scoped>\n",
       "    .dataframe tbody tr th:only-of-type {\n",
       "        vertical-align: middle;\n",
       "    }\n",
       "\n",
       "    .dataframe tbody tr th {\n",
       "        vertical-align: top;\n",
       "    }\n",
       "\n",
       "    .dataframe thead tr th {\n",
       "        text-align: left;\n",
       "    }\n",
       "</style>\n",
       "<table border=\"1\" class=\"dataframe\">\n",
       "  <thead>\n",
       "    <tr>\n",
       "      <th>key</th>\n",
       "      <th>model_nickname</th>\n",
       "      <th>right_n_clusters</th>\n",
       "    </tr>\n",
       "    <tr>\n",
       "      <th></th>\n",
       "      <th></th>\n",
       "      <th>sum</th>\n",
       "    </tr>\n",
       "  </thead>\n",
       "  <tbody>\n",
       "    <tr>\n",
       "      <th>0</th>\n",
       "      <td>KMeans</td>\n",
       "      <td>1020</td>\n",
       "    </tr>\n",
       "    <tr>\n",
       "      <th>1</th>\n",
       "      <td>RecursiveClustering</td>\n",
       "      <td>881</td>\n",
       "    </tr>\n",
       "  </tbody>\n",
       "</table>\n",
       "</div>"
      ]
     },
     "execution_count": 46,
     "metadata": {},
     "output_type": "execute_result"
    }
   ],
   "execution_count": 46
  },
  {
   "metadata": {},
   "cell_type": "code",
   "outputs": [],
   "execution_count": null,
   "source": "",
   "id": "9162f0c796922a1b"
  },
  {
   "metadata": {},
   "cell_type": "code",
   "outputs": [],
   "execution_count": null,
   "source": "",
   "id": "fd49bcf8a7e825cf"
  },
  {
   "metadata": {},
   "cell_type": "markdown",
   "source": "# Debug and explore",
   "id": "a69fa6edd4707e5"
  },
  {
   "metadata": {},
   "cell_type": "code",
   "outputs": [],
   "execution_count": null,
   "source": [
    "df = df_runs_raw.copy()\n",
    "df = df.loc[df['status'] == 'FAILED']"
   ],
   "id": "de27545bda763443"
  },
  {
   "metadata": {},
   "cell_type": "code",
   "outputs": [],
   "execution_count": null,
   "source": "df['EXCEPTION'].unique()",
   "id": "a4012d474c1b0f2f"
  },
  {
   "metadata": {},
   "cell_type": "code",
   "outputs": [],
   "execution_count": null,
   "source": [
    "df = df_runs_raw_parents.copy()\n",
    "df = df.loc[df['status'] == 'FAILED']"
   ],
   "id": "cb97ec2f79facccb"
  },
  {
   "metadata": {},
   "cell_type": "code",
   "outputs": [],
   "execution_count": null,
   "source": "df",
   "id": "629f1f4381045e9c"
  },
  {
   "metadata": {},
   "cell_type": "code",
   "outputs": [],
   "execution_count": null,
   "source": "parent_run_ids = list(df.index)",
   "id": "f2eafa60d43ec609"
  },
  {
   "metadata": {},
   "cell_type": "code",
   "outputs": [],
   "execution_count": null,
   "source": "parent_run_ids",
   "id": "4186c6073e79bda"
  },
  {
   "metadata": {},
   "cell_type": "code",
   "outputs": [],
   "execution_count": null,
   "source": [
    "df = df_runs_raw.copy()\n",
    "df = df.loc[df['parent_run_id'].isin(parent_run_ids)]"
   ],
   "id": "db06d9b343d4fc98"
  },
  {
   "metadata": {},
   "cell_type": "code",
   "outputs": [],
   "execution_count": null,
   "source": "child_run_ids = list(df.index)",
   "id": "8aacd84d0a47b464"
  },
  {
   "metadata": {},
   "cell_type": "code",
   "outputs": [],
   "execution_count": null,
   "source": "runs_to_delete = child_run_ids",
   "id": "c5168dd9387a8744"
  },
  {
   "metadata": {},
   "cell_type": "code",
   "outputs": [],
   "execution_count": null,
   "source": "print(runs_to_delete, len(runs_to_delete))",
   "id": "ff922b23f97c902f"
  },
  {
   "metadata": {},
   "cell_type": "code",
   "outputs": [],
   "execution_count": null,
   "source": [
    "run_uuid_query = [f\"'{run_id}'\" for run_id in runs_to_delete]\n",
    "run_uuid_query = ', '.join(run_uuid_query)"
   ],
   "id": "c78ec06aee4fdb22"
  },
  {
   "metadata": {},
   "cell_type": "code",
   "outputs": [],
   "execution_count": null,
   "source": [
    "query = f\"\"\"\n",
    "UPDATE runs\n",
    "SET lifecycle_stage = 'deleted'\n",
    "WHERE run_uuid IN ({run_uuid_query}) \n",
    "\"\"\"\n",
    "with engine.begin() as conn:\n",
    "    conn.execute(text(query))"
   ],
   "id": "761fa3fae9e67699"
  },
  {
   "metadata": {},
   "cell_type": "markdown",
   "source": [
    "for i, row in df_runs_raw.iterrows():\n",
    "    run_id = row.run_id\n",
    "    model_name = row['params.model_name']\n",
    "    with mlflow.start_run(run_id) as run:\n",
    "        mlflow.log_param('model_nickname', model_name)    "
   ],
   "id": "e57f8c5aff06c272"
  }
 ],
 "metadata": {
  "kernelspec": {
   "name": "python3",
   "language": "python",
   "display_name": "Python 3 (ipykernel)"
  }
 },
 "nbformat": 5,
 "nbformat_minor": 9
}
